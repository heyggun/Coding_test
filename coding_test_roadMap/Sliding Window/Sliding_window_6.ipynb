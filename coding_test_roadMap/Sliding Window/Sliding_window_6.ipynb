{
 "cells": [
  {
   "cell_type": "markdown",
   "id": "3cebc9d9",
   "metadata": {},
   "source": [
    "# 1. 배열 연산 - 배열 내에서 최대 이익 찾기\n",
    "\n",
    "121. 121. Best Time to Buy and Sell Stock\n",
    "\n",
    "https://leetcode.com/problems/best-time-to-buy-and-sell-stock/\n",
    "\n",
    "    You are given an array prices where prices[i] is the price of a given stock on the ith day.\n",
    "\n",
    "    You want to maximize your profit by choosing a single day to buy one stock and choosing a different day in the future to sell that stock.\n",
    "\n",
    "    Return the maximum profit you can achieve from this transaction. If you cannot achieve any profit, return 0.\n",
    "\n",
    "\n",
    "\n",
    "    Example 1:\n",
    "\n",
    "    Input: prices = [7,1,5,3,6,4]\n",
    "    Output: 5\n",
    "    Explanation: Buy on day 2 (price = 1) and sell on day 5 (price = 6), profit = 6-1 = 5.\n",
    "    Note that buying on day 2 and selling on day 1 is not allowed because you must buy before you sell.\n",
    "    \n",
    "    Example 2:\n",
    "    Input: prices = [7,6,4,3,1]\n",
    "    Output: 0\n",
    "    Explanation: In this case, no transactions are done and the max profit = 0.\n",
    "\n",
    "\n",
    "**Constraints**\n",
    "\n",
    "    1 <= prices.length <= 10^5\n",
    "    0 <= prices[i] <= 10^4"
   ]
  },
  {
   "cell_type": "code",
   "execution_count": 4,
   "id": "d0f351bb",
   "metadata": {},
   "outputs": [],
   "source": [
    "class Solution:\n",
    "    def maxProfit(self, prices: list[int]) -> int:\n",
    "        maxProfit = 0\n",
    "        minPrice = prices[0]\n",
    "        \n",
    "        for price in prices:\n",
    "            if price < minPrice:\n",
    "                minPrice = price \n",
    "            maxProfit = max(maxProfit, price-minPrice)\n",
    "                \n",
    "        return maxProfit"
   ]
  },
  {
   "cell_type": "code",
   "execution_count": 5,
   "id": "99be48fb",
   "metadata": {},
   "outputs": [
    {
     "name": "stdout",
     "output_type": "stream",
     "text": [
      "5\n",
      "0\n"
     ]
    }
   ],
   "source": [
    "sol = Solution()\n",
    "print(sol.maxProfit(prices = [7,1,5,3,6,4]))\n",
    "print(sol.maxProfit(prices = [7,6,4,3,1]))\n"
   ]
  },
  {
   "cell_type": "code",
   "execution_count": null,
   "id": "0d05b6ad",
   "metadata": {},
   "outputs": [],
   "source": []
  },
  {
   "cell_type": "code",
   "execution_count": null,
   "id": "c8d43494",
   "metadata": {},
   "outputs": [],
   "source": []
  },
  {
   "cell_type": "markdown",
   "id": "1e67f9a9",
   "metadata": {},
   "source": [
    "# 2. 배열 탐색 - 전체 문자열에서 중복되지 않는 부분 문자열의 최대 길이\n",
    "\n",
    "3. Longest Substring Without Repeating Characters\n",
    "\n",
    "https://leetcode.com/problems/longest-substring-without-repeating-characters/description/\n",
    "\n",
    "    Given a string s, find the length of the longest substring without repeating characters.\n",
    "\n",
    " \n",
    "\n",
    "    Example 1:\n",
    "\n",
    "    Input: s = \"abcabcbb\"\n",
    "    Output: 3\n",
    "    Explanation: The answer is \"abc\", with the length of 3.\n",
    "    \n",
    "    Example 2:\n",
    "    Input: s = \"bbbbb\"\n",
    "    Output: 1\n",
    "    Explanation: The answer is \"b\", with the length of 1.\n",
    "    \n",
    "    Example 3:\n",
    "    Input: s = \"pwwkew\"\n",
    "    Output: 3\n",
    "    Explanation: The answer is \"wke\", with the length of 3.\n",
    "    Notice that the answer must be a substring, \"pwke\" is a subsequence and not a substring.\n",
    "\n",
    "\n",
    "**Constraints**\n",
    "\n",
    "    0 <= s.length <= 5 * 10^4\n",
    "    s consists of English letters, digits, symbols and spaces.\n"
   ]
  },
  {
   "cell_type": "code",
   "execution_count": 8,
   "id": "b6031f0f",
   "metadata": {},
   "outputs": [],
   "source": [
    "class Solution:\n",
    "    def lengthOfLongestSubstring(self, s: str) -> int:\n",
    "        l = 0\n",
    "        longest = 0\n",
    "        strDict = {}\n",
    "        \n",
    "        for r, c in enumerate(s):\n",
    "            if c in strDict and l<=strDict[c]:\n",
    "                l = strDict[c]+1\n",
    "            else:\n",
    "                longest = max(longest, r-l+1)\n",
    "            strDict[c] =r\n",
    "            \n",
    "        return longest"
   ]
  },
  {
   "cell_type": "code",
   "execution_count": 9,
   "id": "8a398224",
   "metadata": {},
   "outputs": [
    {
     "name": "stdout",
     "output_type": "stream",
     "text": [
      "3\n",
      "1\n",
      "3\n"
     ]
    }
   ],
   "source": [
    "sol = Solution()\n",
    "print(sol.lengthOfLongestSubstring(s = \"abcabcbb\"))\n",
    "print(sol.lengthOfLongestSubstring(s = \"bbbbb\"))\n",
    "print(sol.lengthOfLongestSubstring(s = \"pwwkew\"))"
   ]
  },
  {
   "cell_type": "code",
   "execution_count": null,
   "id": "9677e8ae",
   "metadata": {},
   "outputs": [],
   "source": []
  },
  {
   "cell_type": "markdown",
   "id": "5adfd09f",
   "metadata": {},
   "source": [
    "# 3. 배열 탐색 \n",
    "\n",
    "424. Longest Repeating Character Replacement\n",
    "\n",
    "https://leetcode.com/problems/longest-repeating-character-replacement/\n",
    "\n",
    "    You are given a string s and an integer k. You can choose any character of the string and change it to any other uppercase English character. You can perform this operation at most k times.\n",
    "\n",
    "    Return the length of the longest substring containing the same letter you can get after performing the above operations.\n",
    "\n",
    "\n",
    "\n",
    "    Example 1:\n",
    "    Input: s = \"ABAB\", k = 2\n",
    "    Output: 4\n",
    "    Explanation: Replace the two 'A's with two 'B's or vice versa.\n",
    "    \n",
    "    Example 2:\n",
    "    Input: s = \"AABABBA\", k = 1\n",
    "    Output: 4\n",
    "    Explanation: Replace the one 'A' in the middle with 'B' and form \"AABBBBA\".\n",
    "    The substring \"BBBB\" has the longest repeating letters, which is 4.\n",
    "    There may exists other ways to achieve this answer too.\n",
    "\n",
    "\n",
    "**Constraints**\n",
    "\n",
    "    1 <= s.length <= 10^5\n",
    "    s consists of only uppercase English letters.\n",
    "    0 <= k <= s.length\n"
   ]
  },
  {
   "cell_type": "code",
   "execution_count": 11,
   "id": "35097b51",
   "metadata": {},
   "outputs": [],
   "source": [
    "class Solution:\n",
    "    def characterReplacement(self, s: str, k: int) -> int:\n",
    "        cntDict = {}\n",
    "        ans = 0\n",
    "        l = 0\n",
    "        \n",
    "        for r in range(len(s)):\n",
    "            cntDict[s[r]] = 1+cntDict.get(s[r],0)\n",
    "            while (r-l+1) - max(cntDict.values()) > k:\n",
    "                cntDict[s[l]] -=1\n",
    "                l +=1\n",
    "            ans = max(ans, r-l+1)\n",
    "            \n",
    "        return ans"
   ]
  },
  {
   "cell_type": "code",
   "execution_count": null,
   "id": "20568070",
   "metadata": {},
   "outputs": [],
   "source": [
    "sol = Solution()\n",
    "print(sol.characterReplacement())\n",
    "print(sol.characterReplacement())\n",
    "print(sol.characterReplacement())"
   ]
  }
 ],
 "metadata": {
  "kernelspec": {
   "display_name": "Python 3 (ipykernel)",
   "language": "python",
   "name": "python3"
  },
  "language_info": {
   "codemirror_mode": {
    "name": "ipython",
    "version": 3
   },
   "file_extension": ".py",
   "mimetype": "text/x-python",
   "name": "python",
   "nbconvert_exporter": "python",
   "pygments_lexer": "ipython3",
   "version": "3.9.13"
  }
 },
 "nbformat": 4,
 "nbformat_minor": 5
}
