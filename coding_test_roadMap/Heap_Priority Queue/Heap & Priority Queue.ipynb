{
 "cells": [
  {
   "cell_type": "markdown",
   "id": "44d1bbfb",
   "metadata": {},
   "source": [
    "# 1. Heap : K번째로 큰 요소 찾기\n",
    "\n",
    "703. Kth Largest Element in a Stream\n",
    "\n",
    "https://leetcode.com/problems/kth-largest-element-in-a-stream/description/\n",
    "\n",
    "    Design a class to find the kth largest element in a stream. Note that it is the kth largest element in the sorted order, not the kth distinct element.\n",
    "\n",
    "    Implement KthLargest class:\n",
    "\n",
    "    KthLargest(int k, int[] nums) Initializes the object with the integer k and the stream of integers nums.\n",
    "    int add(int val) Appends the integer val to the stream and returns the element representing the kth largest element in the stream.\n",
    "\n",
    "\n",
    "    Example 1:\n",
    "\n",
    "    Input\n",
    "    [\"KthLargest\", \"add\", \"add\", \"add\", \"add\", \"add\"]\n",
    "    [[3, [4, 5, 8, 2]], [3], [5], [10], [9], [4]]\n",
    "    Output\n",
    "    [null, 4, 5, 5, 8, 8]\n",
    "\n",
    "    Explanation\n",
    "    KthLargest kthLargest = new KthLargest(3, [4, 5, 8, 2]);\n",
    "    kthLargest.add(3);   // return 4\n",
    "    kthLargest.add(5);   // return 5\n",
    "    kthLargest.add(10);  // return 5\n",
    "    kthLargest.add(9);   // return 8\n",
    "    kthLargest.add(4);   // return 8\n",
    "\n",
    "\n",
    "**Constraints**\n",
    "\n",
    "    1 <= k <= 10^4\n",
    "    0 <= nums.length <= 10^4\n",
    "    -10^4 <= nums[i] <= 10^4\n",
    "    -10^4 <= val <= 10^4\n",
    "    At most 104 calls will be made to add.\n",
    "    It is guaranteed that there will be at least k elements in the array when you search for the kth element."
   ]
  },
  {
   "cell_type": "code",
   "execution_count": 35,
   "id": "e9e6fe3b",
   "metadata": {},
   "outputs": [],
   "source": [
    "import heapq\n",
    "\n",
    "class KthLargest:\n",
    "\n",
    "    def __init__(self, k: int, nums: list[int]):\n",
    "        self.minHeap, self.k = nums, k\n",
    "        heapq.heapify(self.minHeap)\n",
    "        while len(self.minHeap) > k:\n",
    "            heapq.heappop(self.minHeap)\n",
    "\n",
    "    def add(self, val: int) -> int:\n",
    "        heapq.heappush(self.minHeap, val)\n",
    "        while len(self.minHeap) > self.k:\n",
    "            heapq.heappop(self.minHeap)\n",
    "        return self.minHeap[0]    "
   ]
  },
  {
   "cell_type": "code",
   "execution_count": 36,
   "id": "c2627b38",
   "metadata": {},
   "outputs": [
    {
     "name": "stdout",
     "output_type": "stream",
     "text": [
      "4\n",
      "5\n",
      "5\n",
      "8\n",
      "8\n"
     ]
    }
   ],
   "source": [
    "sol = KthLargest(k=3, nums=[4, 5, 8, 2])\n",
    "print(sol.add(3))\n",
    "print(sol.add(5))\n",
    "print(sol.add(10))\n",
    "print(sol.add(9))\n",
    "print(sol.add(4))"
   ]
  },
  {
   "cell_type": "code",
   "execution_count": null,
   "id": "bc5b54ec",
   "metadata": {},
   "outputs": [],
   "source": []
  },
  {
   "cell_type": "markdown",
   "id": "98a77dc8",
   "metadata": {},
   "source": [
    "# 2. 배열들의 원소 비교 \n",
    "\n",
    "1046. Last Stone Weight\n",
    "\n",
    "https://leetcode.com/problems/last-stone-weight/description/\n",
    "\n",
    "    You are given an array of integers stones where stones[i] is the weight of the ith stone.\n",
    "\n",
    "    We are playing a game with the stones. On each turn, we choose the heaviest two stones and smash them together. Suppose the heaviest two stones have weights x and y with x <= y. The result of this smash is:\n",
    "\n",
    "    If x == y, both stones are destroyed, and\n",
    "    If x != y, the stone of weight x is destroyed, and the stone of weight y has new weight y - x.\n",
    "    At the end of the game, there is at most one stone left.\n",
    "\n",
    "    Return the weight of the last remaining stone. If there are no stones left, return 0.\n",
    "\n",
    " \n",
    "\n",
    "    Example 1:\n",
    "    Input: stones = [2,7,4,1,8,1]\n",
    "    Output: 1\n",
    "    \n",
    "    Explanation: \n",
    "    We combine 7 and 8 to get 1 so the array converts to [2,4,1,1,1] then,\n",
    "    we combine 2 and 4 to get 2 so the array converts to [2,1,1,1] then,\n",
    "    we combine 2 and 1 to get 1 so the array converts to [1,1,1] then,\n",
    "    we combine 1 and 1 to get 0 so the array converts to [1] then that's the value of the last stone.\n",
    "    \n",
    "    Example 2:\n",
    "    Input: stones = [1]\n",
    "    Output: 1\n",
    " \n",
    "\n",
    "**Constraints**\n",
    "\n",
    "    1 <= stones.length <= 30\n",
    "    1 <= stones[i] <= 1000"
   ]
  },
  {
   "cell_type": "code",
   "execution_count": 40,
   "id": "94329129",
   "metadata": {},
   "outputs": [],
   "source": [
    "class Solution:\n",
    "    def lastStoneWeight(self, stones: list[int]) -> int:\n",
    "        stones = [-1*(stone) for stone in stones]\n",
    "        heapq.heapify(stones)\n",
    "        \n",
    "        while len(stones)>1:\n",
    "            a,b = heapq.heappop(stones), heapq.heappop(stones)\n",
    "            if a<b:\n",
    "                heapq.heappush(stones, a-b)\n",
    "        \n",
    "        heapq.heappush(stones, 0)\n",
    "        \n",
    "        return abs(stones[0])"
   ]
  },
  {
   "cell_type": "code",
   "execution_count": 41,
   "id": "31a65888",
   "metadata": {},
   "outputs": [
    {
     "name": "stdout",
     "output_type": "stream",
     "text": [
      "1\n",
      "1\n"
     ]
    }
   ],
   "source": [
    "sol = Solution()\n",
    "print(sol.lastStoneWeight(stones = [2,7,4,1,8,1]))\n",
    "print(sol.lastStoneWeight(stones = [1]))"
   ]
  },
  {
   "cell_type": "code",
   "execution_count": null,
   "id": "69c24b6f",
   "metadata": {},
   "outputs": [],
   "source": []
  },
  {
   "cell_type": "markdown",
   "id": "49ebd6a1",
   "metadata": {},
   "source": [
    "# 3. 주어진 배열에서의 연산 (원점으로부터 가장 가까운 거리 좌표)\n",
    "\n",
    "973. K Closest Points to Origin\n",
    "\n",
    "https://leetcode.com/problems/k-closest-points-to-origin/\n",
    "\n",
    "    Given an array of points where points[i] = [xi, yi] represents a point on the X-Y plane and an integer k, return the k closest points to the origin (0, 0).\n",
    "\n",
    "    The distance between two points on the X-Y plane is the Euclidean distance (i.e., √(x1 - x2)2 + (y1 - y2)2).\n",
    "\n",
    "    You may return the answer in any order. The answer is guaranteed to be unique (except for the order that it is in).\n",
    "\n",
    " \n",
    "\n",
    "    Example 1:\n",
    "    Input: points = [[1,3],[-2,2]], k = 1\n",
    "    Output: [[-2,2]]\n",
    "    Explanation:\n",
    "    The distance between (1, 3) and the origin is sqrt(10).\n",
    "    The distance between (-2, 2) and the origin is sqrt(8).\n",
    "    Since sqrt(8) < sqrt(10), (-2, 2) is closer to the origin.\n",
    "    We only want the closest k = 1 points from the origin, so the answer is just [[-2,2]].\n",
    "    \n",
    "    Example 2:\n",
    "    Input: points = [[3,3],[5,-1],[-2,4]], k = 2\n",
    "    Output: [[3,3],[-2,4]]\n",
    "    Explanation: The answer [[-2,4],[3,3]] would also be accepted.\n",
    "\n",
    "\n",
    "**Constraints**\n",
    "\n",
    "    1 <= k <= points.length <= 10^4\n",
    "    -10^4 <= xi, yi <= 10^4\n"
   ]
  },
  {
   "cell_type": "code",
   "execution_count": 48,
   "id": "1b5ebeb6",
   "metadata": {},
   "outputs": [],
   "source": [
    "class Solution:\n",
    "    def kClosest(self, points: list[list[int]], k: int) -> list[list[int]]:\n",
    "        minHeap = []\n",
    "        for x,y in points:\n",
    "            dist = (x**2) + (y**2)\n",
    "            minHeap.append([dist, x, y])\n",
    "        \n",
    "        heapq.heapify(minHeap)\n",
    "        ans = []\n",
    "        while k>0:\n",
    "            dist, x, y = heapq.heappop(minHeap)\n",
    "            ans.append([x,y])\n",
    "            k-=1\n",
    "        return ans"
   ]
  },
  {
   "cell_type": "code",
   "execution_count": 49,
   "id": "bfb51833",
   "metadata": {},
   "outputs": [
    {
     "name": "stdout",
     "output_type": "stream",
     "text": [
      "[[-2, 2]]\n",
      "[[3, 3], [-2, 4]]\n"
     ]
    }
   ],
   "source": [
    "sol = Solution()\n",
    "print(sol.kClosest(points = [[1,3],[-2,2]], k = 1))\n",
    "print(sol.kClosest(points = [[3,3],[5,-1],[-2,4]], k = 2))"
   ]
  },
  {
   "cell_type": "code",
   "execution_count": null,
   "id": "2adaacea",
   "metadata": {},
   "outputs": [],
   "source": []
  },
  {
   "cell_type": "markdown",
   "id": "4014c653",
   "metadata": {},
   "source": [
    "# 4. 주어진 배열에서의 연산 (k번째 큰 수 찾기)\n",
    "\n",
    "215. Kth Largest Element in an Array\n",
    "\n",
    "https://leetcode.com/problems/kth-largest-element-in-an-array/description/\n",
    "\n",
    "    Given an integer array nums and an integer k, return the kth largest element in the array.\n",
    "\n",
    "    Note that it is the kth largest element in the sorted order, not the kth distinct element.\n",
    "\n",
    "    Can you solve it without sorting?\n",
    "\n",
    " \n",
    "\n",
    "    Example 1:\n",
    "    Input: nums = [3,2,1,5,6,4], k = 2\n",
    "    Output: 5\n",
    "    \n",
    "    Example 2:\n",
    "    Input: nums = [3,2,3,1,2,4,5,5,6], k = 4\n",
    "    Output: 4\n",
    "\n",
    "\n",
    "**Constraints*\n",
    "\n",
    "    1 <= k <= nums.length <= 10^5\n",
    "    -10^4 <= nums[i] <= 10^4\n"
   ]
  },
  {
   "cell_type": "code",
   "execution_count": 51,
   "id": "d2b56a01",
   "metadata": {},
   "outputs": [],
   "source": [
    "class Solution:\n",
    "    def findKthLargest(self, nums: list[int], k: int) -> int:\n",
    "        minHeap = nums[:k]\n",
    "        heapq.heapify(minHeap)\n",
    "        \n",
    "        for num in nums:\n",
    "            if num > minHeap[0]:\n",
    "                heapq.heappop(minHeap)\n",
    "                heapq.heappush(minHeap, num)\n",
    "        \n",
    "        return minHeap[0]"
   ]
  },
  {
   "cell_type": "code",
   "execution_count": 52,
   "id": "b137fcf3",
   "metadata": {},
   "outputs": [
    {
     "name": "stdout",
     "output_type": "stream",
     "text": [
      "5\n",
      "4\n"
     ]
    }
   ],
   "source": [
    "sol = Solution()\n",
    "print(sol.findKthLargest(nums = [3,2,1,5,6,4], k = 2))\n",
    "print(sol.findKthLargest(nums = [3,2,3,1,2,4,5,5,6], k = 4))"
   ]
  },
  {
   "cell_type": "code",
   "execution_count": null,
   "id": "0e86191d",
   "metadata": {},
   "outputs": [],
   "source": []
  },
  {
   "cell_type": "markdown",
   "id": "d9ada77c",
   "metadata": {},
   "source": [
    "# 5. 배열 연산  - 주어진 배열의 작업 최소 시간\n"
   ]
  },
  {
   "cell_type": "code",
   "execution_count": null,
   "id": "070e5613",
   "metadata": {},
   "outputs": [],
   "source": []
  }
 ],
 "metadata": {
  "kernelspec": {
   "display_name": "Python 3 (ipykernel)",
   "language": "python",
   "name": "python3"
  },
  "language_info": {
   "codemirror_mode": {
    "name": "ipython",
    "version": 3
   },
   "file_extension": ".py",
   "mimetype": "text/x-python",
   "name": "python",
   "nbconvert_exporter": "python",
   "pygments_lexer": "ipython3",
   "version": "3.9.13"
  }
 },
 "nbformat": 4,
 "nbformat_minor": 5
}
