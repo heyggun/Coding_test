{
 "cells": [
  {
   "cell_type": "markdown",
   "id": "fc538bf3",
   "metadata": {},
   "source": [
    "# 7. Dynamic Programming - 디코딩 \n",
    "\n",
    "Decode Ways\n",
    "\n",
    "https://leetcode.com/problems/decode-ways/\n",
    "\n",
    "\n",
    "    A message containing letters from A-Z can be encoded into numbers using the following mapping:\n",
    "\n",
    "    'A' -> \"1\"\n",
    "    'B' -> \"2\"\n",
    "    ...\n",
    "    'Z' -> \"26\"\n",
    "    To decode an encoded message, all the digits must be grouped then mapped back into letters using the reverse of the mapping above (there may be multiple ways). For example, \"11106\" can be mapped into:\n",
    "\n",
    "    \"AAJF\" with the grouping (1 1 10 6)\n",
    "    \"KJF\" with the grouping (11 10 6)\n",
    "    Note that the grouping (1 11 06) is invalid because \"06\" cannot be mapped into 'F' since \"6\" is different from \"06\".\n",
    "\n",
    "    Given a string s containing only digits, return the number of ways to decode it.\n",
    "\n",
    "    The test cases are generated so that the answer fits in a 32-bit integer.\n",
    "\n",
    " \n",
    "    Example 1:\n",
    "    Input: s = \"12\"\n",
    "    Output: 2\n",
    "    Explanation: \"12\" could be decoded as \"AB\" (1 2) or \"L\" (12).\n",
    "   \n",
    "    Example 2:\n",
    "    Input: s = \"226\"\n",
    "    Output: 3\n",
    "    Explanation: \"226\" could be decoded as \"BZ\" (2 26), \"VF\" (22 6), or \"BBF\" (2 2 6).\n",
    "    \n",
    "    Example 3:\n",
    "    Input: s = \"06\"\n",
    "    Output: 0\n",
    "    Explanation: \"06\" cannot be mapped to \"F\" because of the leading zero (\"6\" is different from \"06\").\n",
    "\n",
    "\n",
    "**Constraints**\n",
    "\n",
    "    1 <= s.length <= 100\n",
    "    s contains only digits and may contain leading zero(s)."
   ]
  },
  {
   "cell_type": "code",
   "execution_count": 17,
   "id": "ceafbe65",
   "metadata": {},
   "outputs": [],
   "source": [
    "class Solution:\n",
    "    def numDecodings(self, s: str) -> int:\n",
    "        dp = {len(s):1}\n",
    "\n",
    "        def dfs(i):\n",
    "            if i in dp:\n",
    "                return dp[i]\n",
    "            \n",
    "            if s[i] == '0':\n",
    "                return 0  \n",
    "\n",
    "            ans = dfs(i+1)\n",
    "            \n",
    "            if i+1 < len(s) and (s[i]=='1' or s[i]=='2' and s[i+1] in '0123456'):\n",
    "                ans += dfs(i+2)\n",
    "            \n",
    "            dp[i] = ans\n",
    "\n",
    "            return ans\n",
    "\n",
    "        return dfs(0)"
   ]
  },
  {
   "cell_type": "code",
   "execution_count": 18,
   "id": "91796999",
   "metadata": {},
   "outputs": [
    {
     "name": "stdout",
     "output_type": "stream",
     "text": [
      "2\n",
      "3\n",
      "0\n"
     ]
    }
   ],
   "source": [
    "sol = Solution()\n",
    "print(sol.numDecodings(s = \"12\"))\n",
    "print(sol.numDecodings(s = \"226\"))\n",
    "print(sol.numDecodings(s = \"06\"))\n"
   ]
  },
  {
   "cell_type": "code",
   "execution_count": null,
   "id": "d7ce49b9",
   "metadata": {},
   "outputs": [],
   "source": []
  }
 ],
 "metadata": {
  "kernelspec": {
   "display_name": "Python 3 (ipykernel)",
   "language": "python",
   "name": "python3"
  },
  "language_info": {
   "codemirror_mode": {
    "name": "ipython",
    "version": 3
   },
   "file_extension": ".py",
   "mimetype": "text/x-python",
   "name": "python",
   "nbconvert_exporter": "python",
   "pygments_lexer": "ipython3",
   "version": "3.9.13"
  }
 },
 "nbformat": 4,
 "nbformat_minor": 5
}
