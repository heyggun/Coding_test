{
 "cells": [
  {
   "cell_type": "markdown",
   "id": "50e10fef",
   "metadata": {},
   "source": [
    "# 1. Binary Search - 배열에서 target 찾기\n",
    "\n",
    "    Given an array of integers nums which is sorted in ascending order, and an integer target, write a function to search target in nums. If target exists, then return its index. Otherwise, return -1.\n",
    "\n",
    "    You must write an algorithm with O(log n) runtime complexity.\n",
    "\n",
    " \n",
    "\n",
    "    Example 1:\n",
    "    Input: nums = [-1,0,3,5,9,12], target = 9\n",
    "    Output: 4\n",
    "    Explanation: 9 exists in nums and its index is 4\n",
    "    \n",
    "    Example 2:\n",
    "    Input: nums = [-1,0,3,5,9,12], target = 2\n",
    "    Output: -1\n",
    "    Explanation: 2 does not exist in nums so return -1\n",
    "\n",
    "\n",
    "**Constraints**\n",
    "\n",
    "    1 <= nums.length <= 10^4\n",
    "    -10^4 < nums[i], target < 10^4\n",
    "    All the integers in nums are unique.\n",
    "    nums is sorted in ascending order."
   ]
  },
  {
   "cell_type": "code",
   "execution_count": 1,
   "id": "c87604e2",
   "metadata": {},
   "outputs": [],
   "source": [
    "class Solution:\n",
    "    def search(self, nums: list[int], target: int) -> int:\n",
    "        l,r = 0, len(nums)-1\n",
    "        while l<=r:\n",
    "            mid = (l+r)//2\n",
    "            if nums[mid] < target:\n",
    "                l = mid+1\n",
    "            elif nums[mid] > target:\n",
    "                r = mid-1\n",
    "            else:\n",
    "                return mid\n",
    "        return -1"
   ]
  },
  {
   "cell_type": "code",
   "execution_count": 2,
   "id": "561403f9",
   "metadata": {},
   "outputs": [
    {
     "name": "stdout",
     "output_type": "stream",
     "text": [
      "4\n",
      "-1\n"
     ]
    }
   ],
   "source": [
    "sol = Solution()\n",
    "print(sol.search(nums = [-1,0,3,5,9,12], target = 9))\n",
    "print(sol.search(nums = [-1,0,3,5,9,12], target = 2))"
   ]
  },
  {
   "cell_type": "markdown",
   "id": "325d5fec",
   "metadata": {},
   "source": [
    "    혹시 모를 overflow를 방지하기 위해서\n",
    "    mid를 l + (l-r)//2 로 하는 방법도 있음\n",
    "    정수 오버플로우를 방지하기 위한 방법으로, 이렇게 사용하면 중간 지점을 안전하게 계산"
   ]
  },
  {
   "cell_type": "code",
   "execution_count": 3,
   "id": "cfd89ed5",
   "metadata": {},
   "outputs": [],
   "source": [
    "class Solution:\n",
    "    def search(self, nums: list[int], target: int) -> int:\n",
    "        l, r = 0, len(nums)-1\n",
    "        \n",
    "        while l<=r:\n",
    "            mid = l + (r-l)//2\n",
    "            \n",
    "            if nums[mid] < target:\n",
    "                l = mid+1\n",
    "            elif nums[mid] > target:\n",
    "                r = mid-1\n",
    "            else:\n",
    "                return mid\n",
    "        return -1"
   ]
  },
  {
   "cell_type": "code",
   "execution_count": 4,
   "id": "54434449",
   "metadata": {},
   "outputs": [
    {
     "name": "stdout",
     "output_type": "stream",
     "text": [
      "4\n",
      "-1\n"
     ]
    }
   ],
   "source": [
    "sol = Solution()\n",
    "print(sol.search(nums = [-1,0,3,5,9,12], target = 9))\n",
    "print(sol.search(nums = [-1,0,3,5,9,12], target = 2))"
   ]
  },
  {
   "cell_type": "code",
   "execution_count": null,
   "id": "9e42b145",
   "metadata": {},
   "outputs": [],
   "source": []
  },
  {
   "cell_type": "markdown",
   "id": "c79a19aa",
   "metadata": {},
   "source": [
    "# 2. Binary Search - 배열찾기\n",
    "\n",
    "74. Search a 2D Matrix\n",
    "\n",
    "https://leetcode.com/problems/search-a-2d-matrix/\n",
    "\n",
    "    You are given an m x n integer matrix matrix with the following two properties:\n",
    "\n",
    "    Each row is sorted in non-decreasing order.\n",
    "    The first integer of each row is greater than the last integer of the previous row.\n",
    "    Given an integer target, return true if target is in matrix or false otherwise.\n",
    "\n",
    "    You must write a solution in O(log(m * n)) time complexity.\n",
    "\n",
    " \n",
    "\n",
    "    Example 1:\n",
    "    Input: matrix = [[1,3,5,7],[10,11,16,20],[23,30,34,60]], target = 3\n",
    "    Output: true\n",
    "    \n",
    "    Example 2:\n",
    "    Input: matrix = [[1,3,5,7],[10,11,16,20],[23,30,34,60]], target = 13\n",
    "    Output: false\n",
    "\n",
    "\n",
    "**Constraints**\n",
    "\n",
    "    m == matrix.length\n",
    "    n == matrix[i].length\n",
    "    1 <= m, n <= 100\n",
    "    -10^4 <= matrix[i][j], target <= 10^4"
   ]
  },
  {
   "cell_type": "code",
   "execution_count": 36,
   "id": "8ef313d6",
   "metadata": {},
   "outputs": [],
   "source": [
    "class Solution:\n",
    "    def searchMatrix(self, matrix: list[list[int]], target: int) -> bool:\n",
    "        ROWS, COLS = len(matrix), len(matrix[0])\n",
    "        top, bottom = 0, ROWS-1\n",
    "        \n",
    "        while top<=bottom:\n",
    "            row = (top+bottom)//2\n",
    "            if matrix[row][-1] < target:\n",
    "                top +=1\n",
    "            elif matrix[row][0] > target:\n",
    "                bottom -=1\n",
    "            else:\n",
    "                break\n",
    "                \n",
    "        if not (top<=bottom):\n",
    "            return False\n",
    "        \n",
    "        r,l = 0, COLS-1\n",
    "        while r<=l:\n",
    "            mid = (r+l)//2\n",
    "            if matrix[row][mid] < target:\n",
    "                l -=1\n",
    "            elif matrix[row][mid] > target:\n",
    "                r +=1\n",
    "            else:\n",
    "                return True\n",
    "            \n",
    "        return False"
   ]
  },
  {
   "cell_type": "code",
   "execution_count": 37,
   "id": "1228fde1",
   "metadata": {},
   "outputs": [
    {
     "name": "stdout",
     "output_type": "stream",
     "text": [
      "True\n",
      "False\n"
     ]
    }
   ],
   "source": [
    "sol = Solution()\n",
    "print(sol.searchMatrix(matrix = [[1,3,5,7],[10,11,16,20],[23,30,34,60]], target = 3))\n",
    "print(sol.searchMatrix(matrix = [[1,3,5,7],[10,11,16,20],[23,30,34,60]], target = 13))"
   ]
  },
  {
   "cell_type": "code",
   "execution_count": null,
   "id": "761d6e78",
   "metadata": {},
   "outputs": [],
   "source": []
  },
  {
   "cell_type": "code",
   "execution_count": null,
   "id": "7125f748",
   "metadata": {},
   "outputs": [],
   "source": []
  },
  {
   "cell_type": "markdown",
   "id": "e073652e",
   "metadata": {},
   "source": [
    "# 3. Binary Search - 배열 연산\n",
    "\n",
    "    Koko loves to eat bananas. There are n piles of bananas, the ith pile has piles[i] bananas. The guards have gone and will come back in h hours.\n",
    "\n",
    "    Koko can decide her bananas-per-hour eating speed of k. Each hour, she chooses some pile of bananas and eats k bananas from that pile. If the pile has less than k bananas, she eats all of them instead and will not eat any more bananas during this hour.\n",
    "\n",
    "    Koko likes to eat slowly but still wants to finish eating all the bananas before the guards return.\n",
    "\n",
    "    Return the minimum integer k such that she can eat all the bananas within h hours.\n",
    "\n",
    " \n",
    "\n",
    "    Example 1:\n",
    "    Input: piles = [3,6,7,11], h = 8\n",
    "    Output: 4\n",
    "    \n",
    "    Example 2:\n",
    "    Input: piles = [30,11,23,4,20], h = 5\n",
    "    Output: 30\n",
    "    \n",
    "    Example 3:\n",
    "    Input: piles = [30,11,23,4,20], h = 6\n",
    "    Output: 23\n",
    " \n",
    "\n",
    "**Constraints**\n",
    "\n",
    "    1 <= piles.length <= 10^4\n",
    "    piles.length <= h <= 10^9\n",
    "    1 <= piles[i] <= 10^9\n",
    "\n"
   ]
  },
  {
   "cell_type": "code",
   "execution_count": null,
   "id": "92302062",
   "metadata": {},
   "outputs": [],
   "source": []
  },
  {
   "cell_type": "code",
   "execution_count": 5,
   "id": "06ce2986",
   "metadata": {},
   "outputs": [],
   "source": [
    "import math\n",
    "\n",
    "class Solution:\n",
    "    def minEatingSpeed(self, piles: list[int], h: int) -> int:\n",
    "        l,r = 1, max(piles)\n",
    "        ans = r\n",
    "        \n",
    "        while l<=r:\n",
    "            k = (l+r)//2\n",
    "            hours = 0\n",
    "            for p in piles:\n",
    "                hours += math.ceil(p/k)\n",
    "                \n",
    "            if hours <= h:\n",
    "                ans = min(ans, k)\n",
    "                r = k-1\n",
    "            else:\n",
    "                l = k+1\n",
    "            \n",
    "        return ans"
   ]
  },
  {
   "cell_type": "code",
   "execution_count": 6,
   "id": "39a44452",
   "metadata": {},
   "outputs": [
    {
     "name": "stdout",
     "output_type": "stream",
     "text": [
      "4\n",
      "30\n",
      "23\n"
     ]
    }
   ],
   "source": [
    "sol = Solution()\n",
    "print(sol.minEatingSpeed(piles = [3,6,7,11], h = 8))\n",
    "print(sol.minEatingSpeed(piles = [30,11,23,4,20], h = 5))\n",
    "print(sol.minEatingSpeed(piles = [30,11,23,4,20], h = 6))"
   ]
  },
  {
   "cell_type": "code",
   "execution_count": null,
   "id": "0afa213b",
   "metadata": {},
   "outputs": [],
   "source": []
  },
  {
   "cell_type": "code",
   "execution_count": null,
   "id": "342ef410",
   "metadata": {},
   "outputs": [],
   "source": []
  },
  {
   "cell_type": "markdown",
   "id": "faba8fb1",
   "metadata": {},
   "source": [
    "#### 4. Binary Search :  배열에서 O(logN) 으로 target 값 찾기\n",
    "\n",
    "153. Find Minimum in Rotated Sorted Array\n",
    "\n",
    "https://leetcode.com/problems/find-minimum-in-rotated-sorted-array/\n",
    "\n",
    "\n",
    "    Suppose an array of length n sorted in ascending order is rotated between 1 and n times. For example, the array nums = [0,1,2,4,5,6,7] might become:\n",
    "\n",
    "    [4,5,6,7,0,1,2] if it was rotated 4 times.\n",
    "    [0,1,2,4,5,6,7] if it was rotated 7 times.\n",
    "    Notice that rotating an array [a[0], a[1], a[2], ..., a[n-1]] 1 time results in the array [a[n-1], a[0], a[1], a[2], ..., a[n-2]].\n",
    "\n",
    "    Given the sorted rotated array nums of unique elements, return the minimum element of this array.\n",
    "\n",
    "    You must write an algorithm that runs in O(log n) time.\n",
    "\n",
    "\n",
    "\n",
    "    Example 1:\n",
    "    Input: nums = [3,4,5,1,2]\n",
    "    Output: 1\n",
    "    Explanation: The original array was [1,2,3,4,5] rotated 3 times.\n",
    "    \n",
    "    Example 2:\n",
    "    Input: nums = [4,5,6,7,0,1,2]\n",
    "    Output: 0\n",
    "    Explanation: The original array was [0,1,2,4,5,6,7] and it was rotated 4 times.\n",
    "    \n",
    "    Example 3:\n",
    "    Input: nums = [11,13,15,17]\n",
    "    Output: 11\n",
    "    Explanation: The original array was [11,13,15,17] and it was rotated 4 times. \n",
    " \n",
    "\n",
    "**Constraints8*\n",
    "\n",
    "    n == nums.length\n",
    "    1 <= n <= 5000\n",
    "    -5000 <= nums[i] <= 5000\n",
    "    All the integers of nums are unique.\n",
    "    nums is sorted and rotated between 1 and n times."
   ]
  },
  {
   "cell_type": "code",
   "execution_count": 39,
   "id": "e3377538",
   "metadata": {},
   "outputs": [],
   "source": [
    "class Solution:\n",
    "    def findMin(self, nums: list[int]) -> int:\n",
    "        ans = nums[0]\n",
    "        l,r = 0, len(nums)-1\n",
    "        \n",
    "        while l<=r:\n",
    "            if nums[l] < nums[r]:\n",
    "                ans = min(ans, nums[l])\n",
    "                break\n",
    "            \n",
    "            mid = (l+r)//2\n",
    "            ans = min(ans, nums[mid])\n",
    "            \n",
    "            if nums[l] <= nums[mid]:\n",
    "                l = mid+1\n",
    "            else:\n",
    "                r = mid-1\n",
    "            \n",
    "        return ans\n",
    "            \n",
    "        "
   ]
  },
  {
   "cell_type": "code",
   "execution_count": 40,
   "id": "86799e4f",
   "metadata": {},
   "outputs": [
    {
     "name": "stdout",
     "output_type": "stream",
     "text": [
      "1\n",
      "0\n",
      "11\n"
     ]
    }
   ],
   "source": [
    "sol = Solution()\n",
    "print(sol.findMin(nums = [3,4,5,1,2]))\n",
    "print(sol.findMin(nums = [4,5,6,7,0,1,2]))\n",
    "print(sol.findMin(nums = [11,13,15,17]))"
   ]
  },
  {
   "cell_type": "code",
   "execution_count": null,
   "id": "ce37393c",
   "metadata": {},
   "outputs": [],
   "source": []
  },
  {
   "cell_type": "code",
   "execution_count": null,
   "id": "0508a019",
   "metadata": {},
   "outputs": [],
   "source": []
  },
  {
   "cell_type": "markdown",
   "id": "29fcf76f",
   "metadata": {},
   "source": [
    "# 5. Binary Search 를 이용한 클래스 구현\n",
    "\n",
    "981. Time Based Key-Value Store\n",
    "\n",
    "https://leetcode.com/problems/time-based-key-value-store/description/\n",
    "\n",
    "    Design a time-based key-value data structure that can store multiple values for the same key at different time stamps and retrieve the key's value at a certain timestamp.\n",
    "\n",
    "    Implement the TimeMap class:\n",
    "\n",
    "    TimeMap() Initializes the object of the data structure.\n",
    "    void set(String key, String value, int timestamp) Stores the key key with the value value at the given time timestamp.\n",
    "    String get(String key, int timestamp) Returns a value such that set was called previously, with timestamp_prev <= timestamp. If there are multiple such values, it returns the value associated with the largest timestamp_prev. If there are no values, it returns \"\".\n",
    "\n",
    "\n",
    "    Example 1:\n",
    "\n",
    "    Input\n",
    "    [\"TimeMap\", \"set\", \"get\", \"get\", \"set\", \"get\", \"get\"]\n",
    "    [[], [\"foo\", \"bar\", 1], [\"foo\", 1], [\"foo\", 3], [\"foo\", \"bar2\", 4], [\"foo\", 4], [\"foo\", 5]]\n",
    "    \n",
    "    Output\n",
    "    [null, null, \"bar\", \"bar\", null, \"bar2\", \"bar2\"]\n",
    "\n",
    "    Explanation\n",
    "    TimeMap timeMap = new TimeMap();\n",
    "    timeMap.set(\"foo\", \"bar\", 1);  // store the key \"foo\" and value \"bar\" along with timestamp = 1.\n",
    "    timeMap.get(\"foo\", 1);         // return \"bar\"\n",
    "    timeMap.get(\"foo\", 3);         // return \"bar\", since there is no value corresponding to foo at timestamp 3 and timestamp 2, then the only value is at timestamp 1 is \"bar\".\n",
    "    timeMap.set(\"foo\", \"bar2\", 4); // store the key \"foo\" and value \"bar2\" along with timestamp = 4.\n",
    "    timeMap.get(\"foo\", 4);         // return \"bar2\"\n",
    "    timeMap.get(\"foo\", 5);         // return \"bar2\"\n",
    "\n",
    "\n",
    "**Constraints**\n",
    "\n",
    "    1 <= key.length, value.length <= 100\n",
    "    key and value consist of lowercase English letters and digits.\n",
    "    1 <= timestamp <= 10^7\n",
    "    All the timestamps timestamp of set are strictly increasing.\n",
    "    At most 2 * 105 calls will be made to set and get."
   ]
  },
  {
   "cell_type": "code",
   "execution_count": 43,
   "id": "d7631c93",
   "metadata": {},
   "outputs": [],
   "source": [
    "class TimeMap:\n",
    "\n",
    "    def __init__(self):\n",
    "        self.store = {}        \n",
    "\n",
    "    def set(self, key: str, value: str, timestamp: int) -> None:\n",
    "        if key not in self.store:\n",
    "            self.store[key] = []\n",
    "        self.store[key].append([value, timestamp])\n",
    "        \n",
    "    def get(self, key: str, timestamp: int) -> str:\n",
    "        ans = ''\n",
    "        values = self.store.get(key, [])\n",
    "        \n",
    "        l,r = 0, len(values)-1\n",
    "        while l <=r:\n",
    "            mid = (l+r)//2\n",
    "            \n",
    "            if values[mid][1] <= timestamp:\n",
    "                ans = values[mid][0]\n",
    "                l = mid+1\n",
    "            else:\n",
    "                r = mid-1\n",
    "        return ans"
   ]
  },
  {
   "cell_type": "code",
   "execution_count": 44,
   "id": "ad9f8ad1",
   "metadata": {},
   "outputs": [
    {
     "name": "stdout",
     "output_type": "stream",
     "text": [
      "bar\n",
      "bar\n",
      "bar2\n",
      "bar2\n"
     ]
    }
   ],
   "source": [
    "obj = TimeMap()\n",
    "obj.set('foo','bar',1)\n",
    "p1 = obj.get('foo',1)\n",
    "print(p1)\n",
    "p2 = obj.get('foo',3)\n",
    "print(p2)\n",
    "obj.set('foo','bar2',4)\n",
    "p3 = obj.get('foo',4)\n",
    "print(p3)\n",
    "p4 = obj.get('foo',5)\n",
    "print(p4)"
   ]
  },
  {
   "cell_type": "code",
   "execution_count": null,
   "id": "8e90818e",
   "metadata": {},
   "outputs": [],
   "source": []
  },
  {
   "cell_type": "markdown",
   "id": "3d8320bd",
   "metadata": {},
   "source": [
    "# 6. 두개의 각기 다른 배열이 주어질 때, 두 배열의 중앙값 "
   ]
  },
  {
   "cell_type": "code",
   "execution_count": null,
   "id": "1ce2f334",
   "metadata": {},
   "outputs": [],
   "source": []
  },
  {
   "cell_type": "code",
   "execution_count": null,
   "id": "a59f15a4",
   "metadata": {},
   "outputs": [],
   "source": []
  },
  {
   "cell_type": "code",
   "execution_count": null,
   "id": "900784e9",
   "metadata": {},
   "outputs": [],
   "source": []
  },
  {
   "cell_type": "code",
   "execution_count": null,
   "id": "9965686d",
   "metadata": {},
   "outputs": [],
   "source": []
  },
  {
   "cell_type": "code",
   "execution_count": null,
   "id": "3bd9fc63",
   "metadata": {},
   "outputs": [],
   "source": []
  },
  {
   "cell_type": "markdown",
   "id": "46080cae",
   "metadata": {},
   "source": [
    "# 7. 회전된 오름차순 배열에서 target 값 찾기  O(logN)\n",
    "\n",
    "\n",
    "33. Search in Rotated Sorted Array\n",
    "\n",
    "https://leetcode.com/problems/search-in-rotated-sorted-array/\n",
    "\n",
    "    There is an integer array nums sorted in ascending order (with distinct values).\n",
    "\n",
    "    Prior to being passed to your function, nums is possibly rotated at an unknown pivot index k (1 <= k < nums.length) such that the resulting array is [nums[k], nums[k+1], ..., nums[n-1], nums[0], nums[1], ..., nums[k-1]] (0-indexed). For example, [0,1,2,4,5,6,7] might be rotated at pivot index 3 and become [4,5,6,7,0,1,2].\n",
    "\n",
    "    Given the array nums after the possible rotation and an integer target, return the index of target if it is in nums, or -1 if it is not in nums.\n",
    "\n",
    "    You must write an algorithm with O(log n) runtime complexity.\n",
    "\n",
    "\n",
    "\n",
    "    Example 1:\n",
    "    Input: nums = [4,5,6,7,0,1,2], target = 0\n",
    "    Output: 4\n",
    "    \n",
    "    Example 2:\n",
    "    Input: nums = [4,5,6,7,0,1,2], target = 3\n",
    "    Output: -1\n",
    "    \n",
    "    Example 3:\n",
    "    Input: nums = [1], target = 0\n",
    "    Output: -1\n",
    "\n",
    "\n",
    "**Constraints**\n",
    "\n",
    "    1 <= nums.length <= 5000\n",
    "    -10^4 <= nums[i] <= 10^4\n",
    "    All values of nums are unique.\n",
    "    nums is an ascending array that is possibly rotated.\n",
    "    -10^4 <= target <= 10^4"
   ]
  },
  {
   "cell_type": "code",
   "execution_count": 12,
   "id": "6435899a",
   "metadata": {},
   "outputs": [],
   "source": [
    "class Solution:\n",
    "    def search(self, nums: list[int], target: int) -> int:\n",
    "        numDict = {}\n",
    "\n",
    "        for i,n in enumerate(nums):\n",
    "            numDict[n] = i\n",
    "        return numDict[target]"
   ]
  },
  {
   "cell_type": "markdown",
   "id": "4bfce4d0",
   "metadata": {},
   "source": [
    "    - > O(n)"
   ]
  },
  {
   "cell_type": "code",
   "execution_count": 29,
   "id": "35a5cb2f",
   "metadata": {},
   "outputs": [],
   "source": [
    "class Solution:\n",
    "    def search(self, nums: list[int], target: int) -> int:\n",
    "        l, r = 0, len(nums)-1\n",
    "        \n",
    "        while l<=r:\n",
    "            mid = (l+r)//2\n",
    "            \n",
    "            if target == nums[mid]:\n",
    "                return mid\n",
    "            \n",
    "            if nums[l] <= nums[mid]:\n",
    "                if nums[mid] < target or nums[l] > target:\n",
    "                    l = mid+1\n",
    "                else:\n",
    "                    r = mid-1\n",
    "            else:\n",
    "                if nums[mid] > target or nums[r] < target:\n",
    "                    r = mid-1\n",
    "                else:\n",
    "                    l = mid+1\n",
    "                    \n",
    "        return -1"
   ]
  },
  {
   "cell_type": "code",
   "execution_count": 30,
   "id": "54cfb01f",
   "metadata": {},
   "outputs": [
    {
     "name": "stdout",
     "output_type": "stream",
     "text": [
      "4\n",
      "-1\n",
      "-1\n"
     ]
    }
   ],
   "source": [
    "sol = Solution()\n",
    "print(sol.search(nums = [4,5,6,7,0,1,2], target = 0))\n",
    "print(sol.search(nums = [4,5,6,7,0,1,2], target = 3))\n",
    "print(sol.search(nums = [1], target = 0))"
   ]
  },
  {
   "cell_type": "code",
   "execution_count": null,
   "id": "ca3c4ecf",
   "metadata": {},
   "outputs": [],
   "source": []
  },
  {
   "cell_type": "code",
   "execution_count": null,
   "id": "889828e9",
   "metadata": {},
   "outputs": [],
   "source": []
  }
 ],
 "metadata": {
  "kernelspec": {
   "display_name": "Python 3 (ipykernel)",
   "language": "python",
   "name": "python3"
  },
  "language_info": {
   "codemirror_mode": {
    "name": "ipython",
    "version": 3
   },
   "file_extension": ".py",
   "mimetype": "text/x-python",
   "name": "python",
   "nbconvert_exporter": "python",
   "pygments_lexer": "ipython3",
   "version": "3.9.13"
  }
 },
 "nbformat": 4,
 "nbformat_minor": 5
}
