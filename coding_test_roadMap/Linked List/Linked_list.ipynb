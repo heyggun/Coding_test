{
 "cells": [
  {
   "cell_type": "markdown",
   "id": "50f32e1f",
   "metadata": {},
   "source": [
    "# 1. linked listed reverse\n",
    "\n",
    "206. Reverse Linked List\n",
    "\n",
    "https://leetcode.com/problems/reverse-linked-list/description/\n",
    "\n",
    "    Given the head of a singly linked list, reverse the list, and return the reversed list.\n",
    "\n",
    "    Example 1:\n",
    "    Input: head = [1,2,3,4,5]\n",
    "    Output: [5,4,3,2,1]\n",
    "\n",
    "\n",
    "    Example 2:\n",
    "    Input: head = [1,2]\n",
    "    Output: [2,1]\n",
    "    \n",
    "    Example 3:\n",
    "    Input: head = []\n",
    "    Output: []\n",
    " \n",
    "\n",
    "**Constraints**\n",
    "\n",
    "    The number of nodes in the list is the range [0, 5000].\n",
    "    -5000 <= Node.val <= 5000"
   ]
  },
  {
   "cell_type": "code",
   "execution_count": 12,
   "id": "e200df11",
   "metadata": {},
   "outputs": [],
   "source": [
    "class ListNode:\n",
    "    def __init__(self, val=0, next=None):\n",
    "        self.val = val\n",
    "        self.next = next\n",
    "        \n",
    "class Solution:\n",
    "    def reverseList(self, head: ListNode) -> ListNode:\n",
    "        \n",
    "        prev, cur = None, head\n",
    "        \n",
    "        while cur:\n",
    "            nxt = cur.next\n",
    "            cur.next = prev\n",
    "            prev = cur\n",
    "            cur = nxt\n",
    "            \n",
    "        return prev"
   ]
  },
  {
   "cell_type": "code",
   "execution_count": 18,
   "id": "f21ac7a4",
   "metadata": {},
   "outputs": [
    {
     "name": "stdout",
     "output_type": "stream",
     "text": [
      "5\n",
      "<__main__.ListNode object at 0x7fe6d2476100>\n"
     ]
    }
   ],
   "source": [
    "sol = Solution()\n",
    "ans = sol.reverseList(head = ListNode(1, ListNode(2,ListNode(3,ListNode(4,ListNode(5, None)))))\n",
    ")\n",
    "print(ans.val)\n"
   ]
  },
  {
   "cell_type": "code",
   "execution_count": null,
   "id": "2ca00e82",
   "metadata": {},
   "outputs": [],
   "source": []
  },
  {
   "cell_type": "markdown",
   "id": "119dcc0e",
   "metadata": {},
   "source": [
    "# 2. Linked list - 두 개의 Linked list merge 후 sorted 한 linked list\n",
    "\n",
    "21. Merge Two Sorted Lists\n",
    "\n",
    "https://leetcode.com/problems/merge-two-sorted-lists/description/\n",
    "\n",
    "\n",
    "    You are given the heads of two sorted linked lists list1 and list2.\n",
    "\n",
    "    Merge the two lists into one sorted list. The list should be made by splicing together the nodes of the first two lists.\n",
    "\n",
    "    Return the head of the merged linked list.\n",
    "\n",
    " \n",
    "\n",
    "    Example 1:\n",
    "\n",
    "    Input: list1 = [1,2,4], list2 = [1,3,4]\n",
    "    Output: [1,1,2,3,4,4]\n",
    "    \n",
    "    Example 2:\n",
    "    Input: list1 = [], list2 = []\n",
    "    Output: []\n",
    "    \n",
    "    Example 3:\n",
    "    Input: list1 = [], list2 = [0]\n",
    "    Output: [0]\n",
    "\n",
    "**Constraints**\n",
    "\n",
    "    The number of nodes in both lists is in the range [0, 50].\n",
    "    -100 <= Node.val <= 100\n",
    "    Both list1 and list2 are sorted in non-decreasing order."
   ]
  },
  {
   "cell_type": "code",
   "execution_count": 68,
   "id": "c23fa046",
   "metadata": {},
   "outputs": [],
   "source": [
    "class ListNode:\n",
    "    def __init__(self, val=0, next=None):\n",
    "        self.val = val\n",
    "        self.next = next\n",
    "        \n",
    "class Solution:\n",
    "    def mergeTwoLists(self, list1: ListNode, list2: ListNode) -> ListNode:\n",
    "        dummy = ListNode()\n",
    "        node = dummy\n",
    "        \n",
    "        while list1 and list2:\n",
    "            if list1.val <= list1.val:\n",
    "                node.next = list1\n",
    "                node = node.next\n",
    "                list1 = list1.next\n",
    "                \n",
    "            else:\n",
    "                node.next = list2\n",
    "                node = node.next\n",
    "                list2 = list2.next\n",
    "                \n",
    "        node.next = list1 if list1 else list2\n",
    "        \n",
    "        return dummy.next"
   ]
  },
  {
   "cell_type": "code",
   "execution_count": 69,
   "id": "519a76f4",
   "metadata": {},
   "outputs": [
    {
     "name": "stdout",
     "output_type": "stream",
     "text": [
      "1\n",
      "2\n",
      "4\n",
      "1\n",
      "3\n",
      "4\n"
     ]
    }
   ],
   "source": [
    "sol = Solution()\n",
    "a1 = sol.mergeTwoLists(list1=ListNode(1, ListNode(2, ListNode(4))), list2=ListNode(1, ListNode(3, ListNode(4))))\n",
    "\n",
    "while a1:\n",
    "    print(a1.val)\n",
    "    a1 = a1.next\n"
   ]
  },
  {
   "cell_type": "code",
   "execution_count": 70,
   "id": "a2d1454d",
   "metadata": {},
   "outputs": [
    {
     "name": "stdout",
     "output_type": "stream",
     "text": [
      "[]\n",
      "[]\n"
     ]
    }
   ],
   "source": [
    "sol = Solution()\n",
    "a2 = sol.mergeTwoLists(list1=ListNode([]), list2=ListNode([]))\n",
    "\n",
    "while a2:\n",
    "    print(a2.val)\n",
    "    a2 = a2.next"
   ]
  },
  {
   "cell_type": "code",
   "execution_count": 71,
   "id": "14134ff1",
   "metadata": {},
   "outputs": [
    {
     "name": "stdout",
     "output_type": "stream",
     "text": [
      "[]\n",
      "[0]\n"
     ]
    }
   ],
   "source": [
    "sol = Solution()\n",
    "a3 = sol.mergeTwoLists(list1=ListNode([]), list2=ListNode([0]))\n",
    "\n",
    "while a3:\n",
    "    print(a3.val)\n",
    "    a3 = a3.next"
   ]
  },
  {
   "cell_type": "markdown",
   "id": "7e1862a6",
   "metadata": {},
   "source": [
    "# 3. Linked List - Linked List 재배열 \n",
    "\n",
    "143. Reorder List\n",
    "\n",
    "https://leetcode.com/problems/reorder-list/description/\n",
    "\n",
    "\n",
    "\n"
   ]
  },
  {
   "cell_type": "code",
   "execution_count": 85,
   "id": "eed18b4e",
   "metadata": {},
   "outputs": [],
   "source": [
    "class ListNode:\n",
    "    def __init__(self, val=0, next=None):\n",
    "        self.val = val\n",
    "        self.next = next\n",
    "\n",
    "class Solution:\n",
    "    def reorderList(self, head: ListNode) -> None:\n",
    "        \"\"\"\n",
    "        Do not return anything, modify head in-place instead.\n",
    "        \"\"\"\n",
    "\n",
    "        slow, fast = head, head.next\n",
    "        while fast and fast.next:\n",
    "            slow = slow.next\n",
    "            fast = fast.next.next\n",
    "        \n",
    "        second = slow.next\n",
    "        prev = slow.next = None\n",
    "        while second:\n",
    "            tmp = second.next\n",
    "            second.next = prev\n",
    "            prev = second\n",
    "            second = tmp\n",
    "\n",
    "        first, second = head, prev\n",
    "        while second:\n",
    "            tmp1, tmp2 = first.next, second.next\n",
    "            first.next = second\n",
    "            second.next = tmp1\n",
    "            frist,second = tmp1, tmp2\n",
    "    "
   ]
  },
  {
   "cell_type": "code",
   "execution_count": 83,
   "id": "0a4a1a9c",
   "metadata": {},
   "outputs": [],
   "source": []
  },
  {
   "cell_type": "code",
   "execution_count": null,
   "id": "fa3a6151",
   "metadata": {},
   "outputs": [],
   "source": []
  },
  {
   "cell_type": "markdown",
   "id": "78399456",
   "metadata": {},
   "source": [
    "# 4. Linked List - 끝에서 n 번째 노드 제거 후 Linked List 반환\n",
    "\n",
    "19. Remove Nth Node From End of List\n",
    "\n",
    "https://leetcode.com/problems/remove-nth-node-from-end-of-list/\n",
    "\n",
    "    Given the head of a linked list, remove the nth node from the end of the list and return its head.\n",
    "\n",
    "\n",
    "    Example 1:\n",
    "    Input: head = [1,2,3,4,5], n = 2\n",
    "    Output: [1,2,3,5]\n",
    "\n",
    "    Example 2:\n",
    "    Input: head = [1], n = 1\n",
    "    Output: []\n",
    "\n",
    "    Example 3:\n",
    "    Input: head = [1,2], n = 1\n",
    "    Output: [1]\n",
    "\n",
    "\n",
    "    **Constraints**\n",
    "\n",
    "    The number of nodes in the list is sz.\n",
    "    1 <= sz <= 30\n",
    "    0 <= Node.val <= 100\n",
    "    1 <= n <= sz\n"
   ]
  },
  {
   "cell_type": "code",
   "execution_count": 78,
   "id": "504dd612",
   "metadata": {},
   "outputs": [],
   "source": [
    "class ListNode:\n",
    "    def __init__(self, val=0, next=None):\n",
    "        self.val = val\n",
    "        self.next = next\n",
    "        \n",
    "class Solution:\n",
    "    def removeNthFromEnd(self, head: ListNode, n: int) -> ListNode:\n",
    "        \n",
    "        dummy = ListNode(0, head)\n",
    "        left = dummy\n",
    "        right = head\n",
    "        \n",
    "        while n>0 and right:\n",
    "            right = right.next\n",
    "            n -= 1\n",
    "        \n",
    "        while right:\n",
    "            left = left.next\n",
    "            right = right.next\n",
    "        \n",
    "        left.next = left.next.next\n",
    "        \n",
    "        return dummy.next\n"
   ]
  },
  {
   "cell_type": "code",
   "execution_count": 79,
   "id": "39be370c",
   "metadata": {},
   "outputs": [],
   "source": [
    "n1 = ListNode(1, ListNode(2, ListNode(3, ListNode(4, ListNode(5, None)))))\n",
    "n2 = ListNode(1, None)\n",
    "n3 = ListNode(1, ListNode(2, None))"
   ]
  },
  {
   "cell_type": "code",
   "execution_count": 80,
   "id": "03659cfc",
   "metadata": {},
   "outputs": [
    {
     "name": "stdout",
     "output_type": "stream",
     "text": [
      "1\n",
      "2\n",
      "3\n",
      "5\n"
     ]
    }
   ],
   "source": [
    "sol = Solution()\n",
    "a1 = sol.removeNthFromEnd(n1,n=2)\n",
    "\n",
    "while a1:\n",
    "    print(a1.val)\n",
    "    a1 = a1.next"
   ]
  },
  {
   "cell_type": "code",
   "execution_count": 81,
   "id": "be02fae4",
   "metadata": {},
   "outputs": [],
   "source": [
    "sol = Solution()\n",
    "a2 = sol.removeNthFromEnd(n2,n=1)\n",
    "while a2:\n",
    "    print(a2.val)\n",
    "    a2 = a2.next"
   ]
  },
  {
   "cell_type": "code",
   "execution_count": 82,
   "id": "1d4b3fd3",
   "metadata": {},
   "outputs": [
    {
     "name": "stdout",
     "output_type": "stream",
     "text": [
      "1\n"
     ]
    }
   ],
   "source": [
    "a3 = sol.removeNthFromEnd(n3,n=1)\n",
    "while a3:\n",
    "    print(a3.val)\n",
    "    a3 = a3.next"
   ]
  },
  {
   "cell_type": "code",
   "execution_count": null,
   "id": "09afd269",
   "metadata": {},
   "outputs": [],
   "source": []
  },
  {
   "cell_type": "markdown",
   "id": "46e79720",
   "metadata": {},
   "source": [
    "# 5. Linked List\n",
    "\n",
    "138. Copy List with Random Pointer\n",
    "\n",
    "https://leetcode.com/problems/copy-list-with-random-pointer/\n",
    "\n",
    "    A linked list of length n is given such that each node contains an additional random pointer, which could point to any node in the list, or null.\n",
    "\n",
    "    Construct a deep copy of the list. The deep copy should consist of exactly n brand new nodes, where each new node has its value set to the value of its corresponding original node. Both the next and random pointer of the new nodes should point to new nodes in the copied list such that the pointers in the original list and copied list represent the same list state. None of the pointers in the new list should point to nodes in the original list.\n",
    "\n",
    "    For example, if there are two nodes X and Y in the original list, where X.random --> Y, then for the corresponding two nodes x and y in the copied list, x.random --> y.\n",
    "\n",
    "    Return the head of the copied linked list.\n",
    "\n",
    "    The linked list is represented in the input/output as a list of n nodes. Each node is represented as a pair of [val, random_index] where:\n",
    "\n",
    "    val: an integer representing Node.val\n",
    "    random_index: the index of the node (range from 0 to n-1) that the random pointer points to, or null if it does not point to any node.\n",
    "    Your code will only be given the head of the original linked list.\n",
    "\n",
    " \n",
    "\n",
    "    Example 1:\n",
    "    Input: head = [[7,null],[13,0],[11,4],[10,2],[1,0]]\n",
    "    Output: [[7,null],[13,0],[11,4],[10,2],[1,0]]\n",
    "    \n",
    "    Example 2:\n",
    "    Input: head = [[1,1],[2,1]]\n",
    "    Output: [[1,1],[2,1]]\n",
    "    \n",
    "    Example 3:\n",
    "    Input: head = [[3,null],[3,0],[3,null]]\n",
    "    Output: [[3,null],[3,0],[3,null]]\n",
    " \n",
    "\n",
    "**Constraints**\n",
    "\n",
    "    0 <= n <= 1000\n",
    "    -10^4 <= Node.val <= 10^4\n",
    "    Node.random is null or is pointing to some node in the linked list."
   ]
  },
  {
   "cell_type": "code",
   "execution_count": 84,
   "id": "86976a7e",
   "metadata": {},
   "outputs": [],
   "source": [
    "class Node:\n",
    "    def __init__(self, x: int, next: 'Node' = None, random: 'Node' = None):\n",
    "        self.val = int(x)\n",
    "        self.next = next\n",
    "        self.random = random\n",
    "\n",
    "class Solution:\n",
    "    def copyRandomList(self, head: Node) -> Node:\n",
    "        oldToCopy = {None : None}\n",
    "        cur = head\n",
    "\n",
    "        while cur:\n",
    "            copy = Node(cur.val)\n",
    "            oldToCopy[cur] = copy\n",
    "            cur = cur.next\n",
    "\n",
    "        cur = head\n",
    "        while cur:\n",
    "            copy = oldToCopy[cur]\n",
    "            copy.next = oldToCopy[cur.next]\n",
    "            copy.random = oldToCopy[cur.random]\n",
    "            cur = cur.next\n",
    "\n",
    "        return oldToCopy[head]"
   ]
  },
  {
   "cell_type": "code",
   "execution_count": null,
   "id": "37c0bd98",
   "metadata": {},
   "outputs": [],
   "source": []
  },
  {
   "cell_type": "code",
   "execution_count": null,
   "id": "114d6940",
   "metadata": {},
   "outputs": [],
   "source": []
  },
  {
   "cell_type": "markdown",
   "id": "2139a1e7",
   "metadata": {},
   "source": [
    "# 6. Linked List 연산 \n",
    "\n",
    "\n",
    "2. Add Two Numbers\n",
    "\n",
    "https://leetcode.com/problems/add-two-numbers/\n",
    "\n",
    "    You are given two non-empty linked lists representing two non-negative integers. The digits are stored in reverse order, and each of their nodes contains a single digit. Add the two numbers and return the sum as a linked list.\n",
    "\n",
    "    You may assume the two numbers do not contain any leading zero, except the number 0 itself.\n",
    "\n",
    " \n",
    "\n",
    "    Example 1:\n",
    "\n",
    "    Input: l1 = [2,4,3], l2 = [5,6,4]\n",
    "    Output: [7,0,8]\n",
    "    Explanation: 342 + 465 = 807.\n",
    "    \n",
    "    Example 2:\n",
    "    Input: l1 = [0], l2 = [0]\n",
    "    Output: [0]\n",
    "    \n",
    "    Example 3:\n",
    "    Input: l1 = [9,9,9,9,9,9,9], l2 = [9,9,9,9]\n",
    "    Output: [8,9,9,9,0,0,0,1]\n",
    "\n",
    "\n",
    "**Constraints**\n",
    "\n",
    "    The number of nodes in each linked list is in the range [1, 100].\n",
    "    0 <= Node.val <= 9\n",
    "    It is guaranteed that the list represents a number that does not have leading zeros.\n",
    "\n"
   ]
  },
  {
   "cell_type": "code",
   "execution_count": 99,
   "id": "7731aeb5",
   "metadata": {},
   "outputs": [],
   "source": [
    "class ListNode:\n",
    "    def __init__(self, val=0, next=None):\n",
    "        self.val = val\n",
    "        self.next = next\n",
    "        \n",
    "class Solution:\n",
    "    def addTwoNumbers(self, l1: ListNode, l2: ListNode) -> ListNode:\n",
    "        \n",
    "        dummy = ListNode()\n",
    "        cur = dummy\n",
    "        carry = 0\n",
    "        \n",
    "        while l1 or l2 or carry:\n",
    "            v1 = l1.val if l1 else 0\n",
    "            v2 = l2.val if l2 else 0\n",
    "            \n",
    "            val = v1+v2+carry\n",
    "            carry = val//10\n",
    "            val = val%10\n",
    "            cur.next = ListNode(val)\n",
    "            cur = cur.next\n",
    "            \n",
    "            l1 = l1.next if l1 else None\n",
    "            l2 = l2.next if l2 else None\n",
    "        \n",
    "        return dummy.next"
   ]
  },
  {
   "cell_type": "code",
   "execution_count": 101,
   "id": "9212a751",
   "metadata": {},
   "outputs": [
    {
     "name": "stdout",
     "output_type": "stream",
     "text": [
      "7\n",
      "0\n",
      "8\n"
     ]
    }
   ],
   "source": [
    "n1 = ListNode(2, ListNode(4, ListNode(3,None)))\n",
    "n2 = ListNode(5, ListNode(6, ListNode(4,None)))\n",
    "\n",
    "sol= Solution()\n",
    "a1 = sol.addTwoNumbers(n1, n2)\n",
    "\n",
    "while a1:\n",
    "    print(a1.val)\n",
    "    a1 = a1.next"
   ]
  },
  {
   "cell_type": "code",
   "execution_count": 102,
   "id": "9a7db6e6",
   "metadata": {},
   "outputs": [
    {
     "name": "stdout",
     "output_type": "stream",
     "text": [
      "0\n"
     ]
    }
   ],
   "source": [
    "n1 = ListNode(0,None)\n",
    "n2 = ListNode(0,None)\n",
    "\n",
    "sol= Solution()\n",
    "a1 = sol.addTwoNumbers(n1, n2)\n",
    "\n",
    "while a1:\n",
    "    print(a1.val)\n",
    "    a1 = a1.next"
   ]
  },
  {
   "cell_type": "code",
   "execution_count": 105,
   "id": "a6dd3b6e",
   "metadata": {},
   "outputs": [
    {
     "name": "stdout",
     "output_type": "stream",
     "text": [
      "8\n",
      "9\n",
      "9\n",
      "9\n",
      "0\n",
      "0\n",
      "0\n",
      "1\n"
     ]
    }
   ],
   "source": [
    "n1 = ListNode(9,ListNode(9,ListNode(9,ListNode(9,ListNode(9,ListNode(9,ListNode(9)))))))\n",
    "n2 = ListNode(9,ListNode(9,ListNode(9,ListNode(9))))\n",
    "\n",
    "sol= Solution()\n",
    "a1 = sol.addTwoNumbers(n1, n2)\n",
    "\n",
    "while a1:\n",
    "    print(a1.val)\n",
    "    a1 = a1.next"
   ]
  },
  {
   "cell_type": "code",
   "execution_count": null,
   "id": "1c2079ee",
   "metadata": {},
   "outputs": [],
   "source": []
  },
  {
   "cell_type": "markdown",
   "id": "90bef758",
   "metadata": {},
   "source": [
    "# 7. Linked List - 순환하는 Linked List 유무\n",
    "\n",
    "141. Linked List Cycle\n",
    "\n",
    "https://leetcode.com/problems/linked-list-cycle/description/\n",
    "\n",
    "\n",
    "    Given head, the head of a linked list, determine if the linked list has a cycle in it.\n",
    "\n",
    "    There is a cycle in a linked list if there is some node in the list that can be reached again by continuously following the next pointer. Internally, pos is used to denote the index of the node that tail's next pointer is connected to. Note that pos is not passed as a parameter.\n",
    "\n",
    "    Return true if there is a cycle in the linked list. Otherwise, return false.\n",
    "\n",
    " \n",
    "\n",
    "    Example 1:\n",
    "    Input: head = [3,2,0,-4], pos = 1\n",
    "    Output: true\n",
    "    Explanation: There is a cycle in the linked list, where the tail connects to the 1st node (0-indexed).\n",
    "    \n",
    "    Example 2:\n",
    "    Input: head = [1,2], pos = 0\n",
    "    Output: true\n",
    "    Explanation: There is a cycle in the linked list, where the tail connects to the 0th node.\n",
    "    \n",
    "    Example 3:\n",
    "    Input: head = [1], pos = -1\n",
    "    Output: false\n",
    "    Explanation: There is no cycle in the linked list.\n",
    "\n",
    "\n",
    "**Constraints**\n",
    "\n",
    "    The number of the nodes in the list is in the range [0, 104].\n",
    "    -10^5 <= Node.val <= 10^5\n",
    "    pos is -1 or a valid index in the linked-list.\n",
    "\n",
    "\n",
    "    Follow up: Can you solve it using O(1) (i.e. constant) memory?"
   ]
  },
  {
   "cell_type": "code",
   "execution_count": 114,
   "id": "890c204d",
   "metadata": {},
   "outputs": [],
   "source": [
    "class ListNode:\n",
    "    def __init__(self, x):\n",
    "        self.val = x\n",
    "        self.next = None\n",
    "\n",
    "class Solution:\n",
    "    def hasCycle(self, head: ListNode) -> bool:\n",
    "        slow, fast = head, head\n",
    "        \n",
    "        while fast and fast.next:\n",
    "            slow = slow.next\n",
    "            fast = fast.next.next\n",
    "            \n",
    "            if slow == fast:\n",
    "                return True\n",
    "        return False\n",
    "        "
   ]
  },
  {
   "cell_type": "code",
   "execution_count": null,
   "id": "fd99fe38",
   "metadata": {},
   "outputs": [],
   "source": []
  }
 ],
 "metadata": {
  "kernelspec": {
   "display_name": "Python 3 (ipykernel)",
   "language": "python",
   "name": "python3"
  },
  "language_info": {
   "codemirror_mode": {
    "name": "ipython",
    "version": 3
   },
   "file_extension": ".py",
   "mimetype": "text/x-python",
   "name": "python",
   "nbconvert_exporter": "python",
   "pygments_lexer": "ipython3",
   "version": "3.9.13"
  }
 },
 "nbformat": 4,
 "nbformat_minor": 5
}
