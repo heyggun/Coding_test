{
 "cells": [
  {
   "cell_type": "markdown",
   "id": "040b6128",
   "metadata": {},
   "source": [
    "#  Two Pointers"
   ]
  },
  {
   "cell_type": "markdown",
   "id": "1a9bec7a",
   "metadata": {},
   "source": [
    "## 1. 회문(Palindrome) 유무\n",
    "\n",
    "125. Valid Palindrome\n",
    "\n",
    "https://leetcode.com/problems/valid-palindrome/description/\n",
    "\n",
    "**Description**\n",
    "\n",
    "    A phrase is a palindrome if, after converting all uppercase letters into lowercase letters and removing all non-alphanumeric characters, it reads the same forward and backward. Alphanumeric characters include letters and numbers.\n",
    "\n",
    "    Given a string s, return true if it is a palindrome, or false otherwise.\n",
    "\n",
    " \n",
    "**Examples**\n",
    "\n",
    "    Example 1:\n",
    "    Input: s = \"A man, a plan, a canal: Panama\"\n",
    "    Output: true\n",
    "    Explanation: \"amanaplanacanalpanama\" is a palindrome.\n",
    "    \n",
    "    Example 2:\n",
    "    Input: s = \"race a car\"\n",
    "    Output: false\n",
    "    Explanation: \"raceacar\" is not a palindrome.\n",
    "    \n",
    "    Example 3:\n",
    "    Input: s = \" \"\n",
    "    Output: true\n",
    "    \n",
    "    Explanation: s is an empty string \"\" after removing non-alphanumeric characters.\n",
    "    Since an empty string reads the same forward and backward, it is a palindrome.\n",
    "\n"
   ]
  },
  {
   "cell_type": "code",
   "execution_count": 1,
   "id": "9596a8ec",
   "metadata": {},
   "outputs": [],
   "source": [
    "class Solution:\n",
    "    def isPalindrome(self, s: str) -> bool:\n",
    "        s = s.lower()\n",
    "        tmp = ''\n",
    "        for string in s:\n",
    "            if string in '0123456789':\n",
    "                tmp += string\n",
    "            if 97 <= ord(string) <= 122:\n",
    "                tmp += string\n",
    "        \n",
    "        return tmp == tmp[::-1] "
   ]
  },
  {
   "cell_type": "code",
   "execution_count": 2,
   "id": "62abb011",
   "metadata": {},
   "outputs": [
    {
     "name": "stdout",
     "output_type": "stream",
     "text": [
      "True\n",
      "False\n",
      "True\n"
     ]
    }
   ],
   "source": [
    "sol = Solution()\n",
    "print(sol.isPalindrome(s = \"A man, a plan, a canal: Panama\"))\n",
    "print(sol.isPalindrome(s = \"race a car\"))\n",
    "print(sol.isPalindrome(s = \" \"))"
   ]
  },
  {
   "cell_type": "code",
   "execution_count": 22,
   "id": "2219eabb",
   "metadata": {},
   "outputs": [],
   "source": [
    "class Solution:\n",
    "    def isPalindrome(self, s: str) ->bool:\n",
    "        newStr = ''\n",
    "        for c in s:\n",
    "            if c.isalnum():\n",
    "                newStr += c.lower()\n",
    "        return newStr == newStr[::-1]"
   ]
  },
  {
   "cell_type": "code",
   "execution_count": 23,
   "id": "2a8fb7c9",
   "metadata": {},
   "outputs": [
    {
     "name": "stdout",
     "output_type": "stream",
     "text": [
      "True\n",
      "False\n",
      "True\n"
     ]
    }
   ],
   "source": [
    "sol = Solution()\n",
    "print(sol.isPalindrome(s = \"A man, a plan, a canal: Panama\"))\n",
    "print(sol.isPalindrome(s = \"race a car\"))\n",
    "print(sol.isPalindrome(s = \" \"))"
   ]
  },
  {
   "cell_type": "code",
   "execution_count": 32,
   "id": "96d555d8",
   "metadata": {},
   "outputs": [],
   "source": [
    "class Solution:\n",
    "    def isPalindrome(self, s: str) ->bool:\n",
    "        l, r = 0, len(s)-1\n",
    "        \n",
    "        while l<r:\n",
    "            while l<r and not self.alphaNum(s[l]):\n",
    "                l+=1\n",
    "            while l<r and not self.alphaNum(s[r]):\n",
    "                r -=1\n",
    "            if s[l].lower() != s[r].lower():\n",
    "                return False\n",
    "            l,r = l+1, r-1\n",
    "        return True\n",
    "    \n",
    "    def alphaNum(self, c):\n",
    "        return (ord('A') <= ord(c) <= ord('Z') or ord('a') <= ord(c) <= ord('z') or ord('0') <= ord(c) <= ord('9'))\n",
    "         "
   ]
  },
  {
   "cell_type": "code",
   "execution_count": 33,
   "id": "9b75fea5",
   "metadata": {},
   "outputs": [
    {
     "name": "stdout",
     "output_type": "stream",
     "text": [
      "True\n",
      "False\n",
      "True\n"
     ]
    }
   ],
   "source": [
    "sol = Solution()\n",
    "print(sol.isPalindrome(s = \"A man, a plan, a canal: Panama\"))\n",
    "print(sol.isPalindrome(s = \"race a car\"))\n",
    "print(sol.isPalindrome(s = \" \"))"
   ]
  },
  {
   "cell_type": "code",
   "execution_count": null,
   "id": "a6c0a026",
   "metadata": {},
   "outputs": [],
   "source": []
  },
  {
   "cell_type": "code",
   "execution_count": null,
   "id": "b5b22245",
   "metadata": {},
   "outputs": [],
   "source": []
  },
  {
   "cell_type": "markdown",
   "id": "9473072e",
   "metadata": {},
   "source": [
    "## 2. 배열 연산\n",
    "\n",
    "\n",
    "167. Two Sum II - Input Array Is Sorted\n",
    "\n",
    "https://leetcode.com/problems/two-sum-ii-input-array-is-sorted/\n",
    "\n",
    "\n",
    "    Given a 1-indexed array of integers numbers that is already sorted in non-decreasing order, find two numbers such that they add up to a specific target number. Let these two numbers be numbers[index1] and numbers[index2] where 1 <= index1 < index2 < numbers.length.\n",
    "\n",
    "    Return the indices of the two numbers, index1 and index2, added by one as an integer array [index1, index2] of length 2.\n",
    "\n",
    "    The tests are generated such that there is exactly one solution. You may not use the same element twice.\n",
    "\n",
    "    Your solution must use only constant extra space.\n",
    "\n",
    " \n",
    "\n",
    "    Example 1:\n",
    "\n",
    "    Input: numbers = [2,7,11,15], target = 9\n",
    "    Output: [1,2]\n",
    "    Explanation: The sum of 2 and 7 is 9. Therefore, index1 = 1, index2 = 2. We return [1, 2].\n",
    "    \n",
    "    Example 2:\n",
    "    Input: numbers = [2,3,4], target = 6\n",
    "    Output: [1,3]\n",
    "    Explanation: The sum of 2 and 4 is 6. Therefore index1 = 1, index2 = 3. We return [1, 3].\n",
    "    \n",
    "    Example 3:\n",
    "    Input: numbers = [-1,0], target = -1\n",
    "    Output: [1,2]\n",
    "    Explanation: The sum of -1 and 0 is -1. Therefore index1 = 1, index2 = 2. We return [1, 2].\n",
    " \n",
    "\n",
    "**Constraints**\n",
    "\n",
    "    2 <= numbers.length <= 3 * 10^4\n",
    "    -1000 <= numbers[i] <= 1000\n",
    "    numbers is sorted in non-decreasing order.\n",
    "    -1000 <= target <= 1000\n",
    "    The tests are generated such that there is exactly one solution."
   ]
  },
  {
   "cell_type": "code",
   "execution_count": 18,
   "id": "d0a63074",
   "metadata": {},
   "outputs": [],
   "source": [
    "class Solution:\n",
    "    def twoSum(self, numbers: list[int], target: int) -> list[int]:\n",
    "        numSet = {}\n",
    "        \n",
    "        for i in range(len(numbers)):\n",
    "            if numbers[i] in numSet:\n",
    "                return [numSet[numbers[i]], i+1]            \n",
    "            numSet[target-numbers[i]] = i+1\n",
    "        "
   ]
  },
  {
   "cell_type": "code",
   "execution_count": 19,
   "id": "7334005b",
   "metadata": {},
   "outputs": [
    {
     "name": "stdout",
     "output_type": "stream",
     "text": [
      "[1, 2]\n",
      "[1, 3]\n",
      "[1, 2]\n"
     ]
    }
   ],
   "source": [
    "sol = Solution()\n",
    "print(sol.twoSum(numbers =[2,7,11,15], target=9))\n",
    "print(sol.twoSum(numbers = [2,3,4], target = 6))\n",
    "print(sol.twoSum(numbers=[-1,0], target=-1))"
   ]
  },
  {
   "cell_type": "code",
   "execution_count": 20,
   "id": "36304c1c",
   "metadata": {},
   "outputs": [],
   "source": [
    "class Solution:\n",
    "    def twoSum(self, numbers: list[int], target: int) -> list[int]:\n",
    "        l,r = 0, len(numbers)-1\n",
    "        \n",
    "        while l<r:\n",
    "            curSum = numbers[l]+numbers[r]\n",
    "            \n",
    "            if curSum > target:\n",
    "                r-=1\n",
    "            elif curSum < target:\n",
    "                l+=1\n",
    "            else:\n",
    "                return [l+1, r+1]\n",
    "            \n",
    "        return"
   ]
  },
  {
   "cell_type": "code",
   "execution_count": 21,
   "id": "2c1d8634",
   "metadata": {},
   "outputs": [
    {
     "name": "stdout",
     "output_type": "stream",
     "text": [
      "[1, 2]\n",
      "[1, 3]\n",
      "[1, 2]\n"
     ]
    }
   ],
   "source": [
    "sol = Solution()\n",
    "print(sol.twoSum(numbers =[2,7,11,15], target=9))\n",
    "print(sol.twoSum(numbers = [2,3,4], target = 6))\n",
    "print(sol.twoSum(numbers=[-1,0], target=-1))"
   ]
  },
  {
   "cell_type": "code",
   "execution_count": null,
   "id": "3d5267cb",
   "metadata": {},
   "outputs": [],
   "source": []
  },
  {
   "cell_type": "markdown",
   "id": "b4337a09",
   "metadata": {},
   "source": [
    "# 3. 배열의 연산\n",
    "\n",
    "## Leetcode\n",
    "\n",
    "15. 3Sum\n",
    "\n",
    "https://leetcode.com/problems/3sum/\n",
    "\n",
    "\n",
    "    Given an integer array nums, return all the triplets [nums[i], nums[j], nums[k]] such that i != j, i != k, and j != k, and nums[i] + nums[j] + nums[k] == 0.\n",
    "\n",
    "    Notice that the solution set must not contain duplicate triplets.\n",
    "\n",
    "\n",
    "\n",
    "    Example 1:\n",
    "    Input: nums = [-1,0,1,2,-1,-4]\n",
    "    Output: [[-1,-1,2],[-1,0,1]]\n",
    "    Explanation: \n",
    "    nums[0] + nums[1] + nums[2] = (-1) + 0 + 1 = 0.\n",
    "    nums[1] + nums[2] + nums[4] = 0 + 1 + (-1) = 0.\n",
    "    nums[0] + nums[3] + nums[4] = (-1) + 2 + (-1) = 0.\n",
    "    The distinct triplets are [-1,0,1] and [-1,-1,2].\n",
    "    Notice that the order of the output and the order of the triplets does not matter.\n",
    "    \n",
    "    Example 2:\n",
    "    Input: nums = [0,1,1]\n",
    "    Output: []\n",
    "    Explanation: The only possible triplet does not sum up to 0.\n",
    "    \n",
    "    Example 3:\n",
    "    Input: nums = [0,0,0]\n",
    "    Output: [[0,0,0]]\n",
    "    Explanation: The only possible triplet sums up to 0.\n",
    "\n",
    "\n",
    "**Constraints**\n",
    "\n",
    "    3 <= nums.length <= 3000\n",
    "    -10^5 <= nums[i] <= 10^5"
   ]
  },
  {
   "cell_type": "code",
   "execution_count": 37,
   "id": "b9bba275",
   "metadata": {},
   "outputs": [],
   "source": [
    "class Solution:\n",
    "    def threeSum(self, nums: list[int]) -> list[list[int]]:\n",
    "        ans = []\n",
    "        nums.sort()\n",
    "        \n",
    "        for i, n in enumerate(nums):\n",
    "            if i>0 and nums[i-1] == n:\n",
    "                continue\n",
    "            \n",
    "            l,r = i+1, len(nums)-1\n",
    "            while l<r:\n",
    "                curSum = n+nums[l]+nums[r]\n",
    "                if curSum > 0:\n",
    "                    r-=1\n",
    "                elif curSum < 0:\n",
    "                    l+=1\n",
    "                else:\n",
    "                    ans.append([n, nums[l], nums[r]])\n",
    "                    l+=1\n",
    "                    r-=1\n",
    "                    while l<r and nums[l-1] == nums[l]:\n",
    "                        l+=1\n",
    "                        \n",
    "        return ans"
   ]
  },
  {
   "cell_type": "code",
   "execution_count": 38,
   "id": "9ff77754",
   "metadata": {},
   "outputs": [
    {
     "name": "stdout",
     "output_type": "stream",
     "text": [
      "[[-1, -1, 2], [-1, 0, 1]]\n",
      "[]\n",
      "[[0, 0, 0]]\n"
     ]
    }
   ],
   "source": [
    "sol = Solution()\n",
    "print(sol.threeSum(nums = [-1,0,1,2,-1,-4]))\n",
    "print(sol.threeSum(nums = [0,1,1]))\n",
    "print(sol.threeSum(nums = [0,0,0]))    "
   ]
  },
  {
   "cell_type": "code",
   "execution_count": null,
   "id": "9ae42a7e",
   "metadata": {},
   "outputs": [],
   "source": []
  },
  {
   "cell_type": "markdown",
   "id": "285c8fcf",
   "metadata": {},
   "source": [
    "# 4. Two Pointers 구현\n",
    "\n",
    "11. Container With Most Water\n",
    "\n",
    "https://leetcode.com/problems/container-with-most-water/\n",
    "\n",
    "    You are given an integer array height of length n. There are n vertical lines drawn such that the two endpoints of the ith line are (i, 0) and (i, height[i]).\n",
    "\n",
    "    Find two lines that together with the x-axis form a container, such that the container contains the most water.\n",
    "\n",
    "    Return the maximum amount of water a container can store.\n",
    "\n",
    "    Notice that you may not slant the container.\n",
    "\n",
    " \n",
    "\n",
    "    Example 1:\n",
    "    Input: height = [1,8,6,2,5,4,8,3,7]\n",
    "    Output: 49\n",
    "    Explanation: The above vertical lines are represented by array [1,8,6,2,5,4,8,3,7]. In this case, the max area of water (blue section) the container can contain is 49.\n",
    "   \n",
    "    Example 2:\n",
    "    Input: height = [1,1]\n",
    "    Output: 1\n",
    "\n",
    "\n",
    "**Constraints**\n",
    "\n",
    "    n == height.length\n",
    "    2 <= n <= 105\n",
    "    0 <= height[i] <= 104"
   ]
  },
  {
   "cell_type": "code",
   "execution_count": 42,
   "id": "ef2432b6",
   "metadata": {},
   "outputs": [],
   "source": [
    "class Solution:\n",
    "    def maxArea(self, height: list[int]) -> int:\n",
    "        maxArea = 0\n",
    "        l,r = 0, len(height)-1\n",
    "        \n",
    "        while l<r:\n",
    "            area = (r-l) * min(height[l], height[r])\n",
    "            maxArea = max(maxArea, area)\n",
    "            \n",
    "            if height[l] < height[r]:\n",
    "                l+=1\n",
    "            else:\n",
    "                r-=1\n",
    "        return maxArea\n",
    "        "
   ]
  },
  {
   "cell_type": "code",
   "execution_count": 43,
   "id": "452421d1",
   "metadata": {},
   "outputs": [
    {
     "name": "stdout",
     "output_type": "stream",
     "text": [
      "49\n",
      "1\n"
     ]
    }
   ],
   "source": [
    "sol = Solution()\n",
    "print(sol.maxArea(height = [1,8,6,2,5,4,8,3,7]))\n",
    "print(sol.maxArea(height = [1,1]))"
   ]
  },
  {
   "cell_type": "code",
   "execution_count": 81,
   "id": "33067316",
   "metadata": {},
   "outputs": [],
   "source": [
    "class Solution:\n",
    "    def trap(self, height: list[int]) -> int:\n",
    "        n = len(height)\n",
    "        if n <=2:\n",
    "            return 0\n",
    "        \n",
    "        leftMax, rightMax = [0]*n, [0]*n\n",
    "        leftMax[0] = height[0]\n",
    "        rightMax[n-1] = height[n-1]\n",
    "        \n",
    "        for i in range(1, n):\n",
    "            leftMax[i] = max(leftMax[i-1], height[i])\n",
    "        \n",
    "        for i in range(n-2, -1, -1):\n",
    "            rightMax[i] =max(rightMax[i+1], height[i])\n",
    "\n",
    "        water = 0\n",
    "        for i in range(n):\n",
    "            area = min(leftMax[i], rightMax[i])-height[i]\n",
    "            if area > 0:\n",
    "                water += area\n",
    "            \n",
    "        return water     "
   ]
  },
  {
   "cell_type": "code",
   "execution_count": 82,
   "id": "4d2d6dc1",
   "metadata": {},
   "outputs": [
    {
     "name": "stdout",
     "output_type": "stream",
     "text": [
      "[0, 1, 1, 2, 2, 2, 2, 3, 3, 3, 3, 3] [3, 3, 3, 3, 3, 3, 3, 3, 2, 2, 2, 1]\n",
      "6\n",
      "[4, 4, 4, 4, 4, 5] [5, 5, 5, 5, 5, 5]\n",
      "9\n"
     ]
    }
   ],
   "source": [
    "sol = Solution()\n",
    "print(sol.trap(height = [0,1,0,2,1,0,1,3,2,1,2,1]))\n",
    "print(sol.trap(height = [4,2,0,3,2,5]))"
   ]
  },
  {
   "cell_type": "code",
   "execution_count": null,
   "id": "689cc701",
   "metadata": {},
   "outputs": [],
   "source": []
  },
  {
   "cell_type": "code",
   "execution_count": 55,
   "id": "182ea061",
   "metadata": {},
   "outputs": [
    {
     "name": "stdout",
     "output_type": "stream",
     "text": [
      "[0, 1, 2, 2, 1, 1, 3, 3, 2, 2, 2]\n",
      "[2, 2, 2, 3, 3, 1, 1, 2, 2, 1, 0]\n"
     ]
    },
    {
     "data": {
      "text/plain": [
       "[2, 1]"
      ]
     },
     "execution_count": 55,
     "metadata": {},
     "output_type": "execute_result"
    }
   ],
   "source": [
    "height = [0,1,0,2,1,0,1,3,2,1,2,1]\n",
    "\n",
    "water = []\n",
    "l, r = 0, len(height)-1\n",
    "maxLeft, maxRight = [0],[]\n",
    "\n",
    "for i in range(1, r):\n",
    "    if i <1 :\n",
    "        maxLeft.append(0)\n",
    "        continue\n",
    "    curMax = max(height[i-1], height[i+1])\n",
    "    maxLeft.append(curMax)\n",
    "    \n",
    "for j in range(r-1, 0, -1):\n",
    "    curMax = max(height[j], height[j+1])\n",
    "    maxRight.append(curMax)\n",
    "maxRight.append(0)\n",
    "\n",
    "print(maxLeft)\n",
    "print(maxRight)\n",
    "for i in range(len(height)-1):\n",
    "    area = min(maxLeft[i], maxRight[i])-height[i]\n",
    "    if area >0:\n",
    "        water.append(area)\n",
    "    \n",
    "water"
   ]
  },
  {
   "cell_type": "code",
   "execution_count": null,
   "id": "df5e3c68",
   "metadata": {},
   "outputs": [],
   "source": []
  },
  {
   "cell_type": "code",
   "execution_count": null,
   "id": "dbcb8df0",
   "metadata": {},
   "outputs": [],
   "source": []
  }
 ],
 "metadata": {
  "kernelspec": {
   "display_name": "Python 3 (ipykernel)",
   "language": "python",
   "name": "python3"
  },
  "language_info": {
   "codemirror_mode": {
    "name": "ipython",
    "version": 3
   },
   "file_extension": ".py",
   "mimetype": "text/x-python",
   "name": "python",
   "nbconvert_exporter": "python",
   "pygments_lexer": "ipython3",
   "version": "3.9.13"
  }
 },
 "nbformat": 4,
 "nbformat_minor": 5
}
