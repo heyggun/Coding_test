{
 "cells": [
  {
   "cell_type": "markdown",
   "id": "7aae2404",
   "metadata": {},
   "source": [
    "#  Two Pointers"
   ]
  },
  {
   "cell_type": "markdown",
   "id": "4c6eb006",
   "metadata": {},
   "source": [
    "## 1. 회문(Palindrome) 유무\n",
    "\n",
    "125. Valid Palindrome\n",
    "\n",
    "https://leetcode.com/problems/valid-palindrome/description/\n",
    "\n",
    "**Description**\n",
    "\n",
    "    A phrase is a palindrome if, after converting all uppercase letters into lowercase letters and removing all non-alphanumeric characters, it reads the same forward and backward. Alphanumeric characters include letters and numbers.\n",
    "\n",
    "    Given a string s, return true if it is a palindrome, or false otherwise.\n",
    "\n",
    " \n",
    "**Examples**\n",
    "\n",
    "    Example 1:\n",
    "    Input: s = \"A man, a plan, a canal: Panama\"\n",
    "    Output: true\n",
    "    Explanation: \"amanaplanacanalpanama\" is a palindrome.\n",
    "    \n",
    "    Example 2:\n",
    "    Input: s = \"race a car\"\n",
    "    Output: false\n",
    "    Explanation: \"raceacar\" is not a palindrome.\n",
    "    \n",
    "    Example 3:\n",
    "    Input: s = \" \"\n",
    "    Output: true\n",
    "    \n",
    "    Explanation: s is an empty string \"\" after removing non-alphanumeric characters.\n",
    "    Since an empty string reads the same forward and backward, it is a palindrome.\n",
    "\n"
   ]
  },
  {
   "cell_type": "code",
   "execution_count": 1,
   "id": "da934a41",
   "metadata": {},
   "outputs": [],
   "source": [
    "class Solution:\n",
    "    def isPalindrome(self, s: str) -> bool:\n",
    "        s = s.lower()\n",
    "        tmp = ''\n",
    "        for string in s:\n",
    "            if string in '0123456789':\n",
    "                tmp += string\n",
    "            if 97 <= ord(string) <= 122:\n",
    "                tmp += string\n",
    "        \n",
    "        return tmp == tmp[::-1] "
   ]
  },
  {
   "cell_type": "code",
   "execution_count": 2,
   "id": "0ad88c14",
   "metadata": {},
   "outputs": [
    {
     "name": "stdout",
     "output_type": "stream",
     "text": [
      "True\n",
      "False\n",
      "True\n"
     ]
    }
   ],
   "source": [
    "sol = Solution()\n",
    "print(sol.isPalindrome(s = \"A man, a plan, a canal: Panama\"))\n",
    "print(sol.isPalindrome(s = \"race a car\"))\n",
    "print(sol.isPalindrome(s = \" \"))"
   ]
  },
  {
   "cell_type": "code",
   "execution_count": 22,
   "id": "1d251480",
   "metadata": {},
   "outputs": [],
   "source": [
    "class Solution:\n",
    "    def isPalindrome(self, s: str) ->bool:\n",
    "        newStr = ''\n",
    "        for c in s:\n",
    "            if c.isalnum():\n",
    "                newStr += c.lower()\n",
    "        return newStr == newStr[::-1]"
   ]
  },
  {
   "cell_type": "code",
   "execution_count": 23,
   "id": "c793a769",
   "metadata": {},
   "outputs": [
    {
     "name": "stdout",
     "output_type": "stream",
     "text": [
      "True\n",
      "False\n",
      "True\n"
     ]
    }
   ],
   "source": [
    "sol = Solution()\n",
    "print(sol.isPalindrome(s = \"A man, a plan, a canal: Panama\"))\n",
    "print(sol.isPalindrome(s = \"race a car\"))\n",
    "print(sol.isPalindrome(s = \" \"))"
   ]
  },
  {
   "cell_type": "code",
   "execution_count": 32,
   "id": "7495a5e0",
   "metadata": {},
   "outputs": [],
   "source": [
    "class Solution:\n",
    "    def isPalindrome(self, s: str) ->bool:\n",
    "        l, r = 0, len(s)-1\n",
    "        \n",
    "        while l<r:\n",
    "            while l<r and not self.alphaNum(s[l]):\n",
    "                l+=1\n",
    "            while l<r and not self.alphaNum(s[r]):\n",
    "                r -=1\n",
    "            if s[l].lower() != s[r].lower():\n",
    "                return False\n",
    "            l,r = l+1, r-1\n",
    "        return True\n",
    "    \n",
    "    def alphaNum(self, c):\n",
    "        return (ord('A') <= ord(c) <= ord('Z') or ord('a') <= ord(c) <= ord('z') or ord('0') <= ord(c) <= ord('9'))\n",
    "         "
   ]
  },
  {
   "cell_type": "code",
   "execution_count": 33,
   "id": "5cff1314",
   "metadata": {},
   "outputs": [
    {
     "name": "stdout",
     "output_type": "stream",
     "text": [
      "True\n",
      "False\n",
      "True\n"
     ]
    }
   ],
   "source": [
    "sol = Solution()\n",
    "print(sol.isPalindrome(s = \"A man, a plan, a canal: Panama\"))\n",
    "print(sol.isPalindrome(s = \"race a car\"))\n",
    "print(sol.isPalindrome(s = \" \"))"
   ]
  },
  {
   "cell_type": "code",
   "execution_count": null,
   "id": "e7cae384",
   "metadata": {},
   "outputs": [],
   "source": []
  },
  {
   "cell_type": "code",
   "execution_count": null,
   "id": "49638477",
   "metadata": {},
   "outputs": [],
   "source": []
  },
  {
   "cell_type": "markdown",
   "id": "c0930413",
   "metadata": {},
   "source": [
    "## 2. 배열 연산\n",
    "\n",
    "\n",
    "167. Two Sum II - Input Array Is Sorted\n",
    "\n",
    "https://leetcode.com/problems/two-sum-ii-input-array-is-sorted/\n",
    "\n",
    "\n",
    "    Given a 1-indexed array of integers numbers that is already sorted in non-decreasing order, find two numbers such that they add up to a specific target number. Let these two numbers be numbers[index1] and numbers[index2] where 1 <= index1 < index2 < numbers.length.\n",
    "\n",
    "    Return the indices of the two numbers, index1 and index2, added by one as an integer array [index1, index2] of length 2.\n",
    "\n",
    "    The tests are generated such that there is exactly one solution. You may not use the same element twice.\n",
    "\n",
    "    Your solution must use only constant extra space.\n",
    "\n",
    " \n",
    "\n",
    "    Example 1:\n",
    "\n",
    "    Input: numbers = [2,7,11,15], target = 9\n",
    "    Output: [1,2]\n",
    "    Explanation: The sum of 2 and 7 is 9. Therefore, index1 = 1, index2 = 2. We return [1, 2].\n",
    "    \n",
    "    Example 2:\n",
    "    Input: numbers = [2,3,4], target = 6\n",
    "    Output: [1,3]\n",
    "    Explanation: The sum of 2 and 4 is 6. Therefore index1 = 1, index2 = 3. We return [1, 3].\n",
    "    \n",
    "    Example 3:\n",
    "    Input: numbers = [-1,0], target = -1\n",
    "    Output: [1,2]\n",
    "    Explanation: The sum of -1 and 0 is -1. Therefore index1 = 1, index2 = 2. We return [1, 2].\n",
    " \n",
    "\n",
    "**Constraints**\n",
    "\n",
    "    2 <= numbers.length <= 3 * 10^4\n",
    "    -1000 <= numbers[i] <= 1000\n",
    "    numbers is sorted in non-decreasing order.\n",
    "    -1000 <= target <= 1000\n",
    "    The tests are generated such that there is exactly one solution."
   ]
  },
  {
   "cell_type": "code",
   "execution_count": 18,
   "id": "4d7fd76b",
   "metadata": {},
   "outputs": [],
   "source": [
    "class Solution:\n",
    "    def twoSum(self, numbers: list[int], target: int) -> list[int]:\n",
    "        numSet = {}\n",
    "        \n",
    "        for i in range(len(numbers)):\n",
    "            if numbers[i] in numSet:\n",
    "                return [numSet[numbers[i]], i+1]            \n",
    "            numSet[target-numbers[i]] = i+1\n",
    "        "
   ]
  },
  {
   "cell_type": "code",
   "execution_count": 19,
   "id": "544e3ada",
   "metadata": {},
   "outputs": [
    {
     "name": "stdout",
     "output_type": "stream",
     "text": [
      "[1, 2]\n",
      "[1, 3]\n",
      "[1, 2]\n"
     ]
    }
   ],
   "source": [
    "sol = Solution()\n",
    "print(sol.twoSum(numbers =[2,7,11,15], target=9))\n",
    "print(sol.twoSum(numbers = [2,3,4], target = 6))\n",
    "print(sol.twoSum(numbers=[-1,0], target=-1))"
   ]
  },
  {
   "cell_type": "code",
   "execution_count": 20,
   "id": "62ceb52c",
   "metadata": {},
   "outputs": [],
   "source": [
    "class Solution:\n",
    "    def twoSum(self, numbers: list[int], target: int) -> list[int]:\n",
    "        l,r = 0, len(numbers)-1\n",
    "        \n",
    "        while l<r:\n",
    "            curSum = numbers[l]+numbers[r]\n",
    "            \n",
    "            if curSum > target:\n",
    "                r-=1\n",
    "            elif curSum < target:\n",
    "                l+=1\n",
    "            else:\n",
    "                return [l+1, r+1]\n",
    "            \n",
    "        return"
   ]
  },
  {
   "cell_type": "code",
   "execution_count": 21,
   "id": "976cd35f",
   "metadata": {},
   "outputs": [
    {
     "name": "stdout",
     "output_type": "stream",
     "text": [
      "[1, 2]\n",
      "[1, 3]\n",
      "[1, 2]\n"
     ]
    }
   ],
   "source": [
    "sol = Solution()\n",
    "print(sol.twoSum(numbers =[2,7,11,15], target=9))\n",
    "print(sol.twoSum(numbers = [2,3,4], target = 6))\n",
    "print(sol.twoSum(numbers=[-1,0], target=-1))"
   ]
  },
  {
   "cell_type": "code",
   "execution_count": null,
   "id": "04037ff6",
   "metadata": {},
   "outputs": [],
   "source": []
  },
  {
   "cell_type": "markdown",
   "id": "4ca36b5c",
   "metadata": {},
   "source": [
    "# 3. 배열의 연산\n",
    "\n",
    "## Leetcode\n",
    "\n",
    "15. 3Sum\n",
    "\n",
    "https://leetcode.com/problems/3sum/\n",
    "\n",
    "\n",
    "    Given an integer array nums, return all the triplets [nums[i], nums[j], nums[k]] such that i != j, i != k, and j != k, and nums[i] + nums[j] + nums[k] == 0.\n",
    "\n",
    "    Notice that the solution set must not contain duplicate triplets.\n",
    "\n",
    "\n",
    "\n",
    "    Example 1:\n",
    "    Input: nums = [-1,0,1,2,-1,-4]\n",
    "    Output: [[-1,-1,2],[-1,0,1]]\n",
    "    Explanation: \n",
    "    nums[0] + nums[1] + nums[2] = (-1) + 0 + 1 = 0.\n",
    "    nums[1] + nums[2] + nums[4] = 0 + 1 + (-1) = 0.\n",
    "    nums[0] + nums[3] + nums[4] = (-1) + 2 + (-1) = 0.\n",
    "    The distinct triplets are [-1,0,1] and [-1,-1,2].\n",
    "    Notice that the order of the output and the order of the triplets does not matter.\n",
    "    \n",
    "    Example 2:\n",
    "    Input: nums = [0,1,1]\n",
    "    Output: []\n",
    "    Explanation: The only possible triplet does not sum up to 0.\n",
    "    \n",
    "    Example 3:\n",
    "    Input: nums = [0,0,0]\n",
    "    Output: [[0,0,0]]\n",
    "    Explanation: The only possible triplet sums up to 0.\n",
    "\n",
    "\n",
    "**Constraints**\n",
    "\n",
    "    3 <= nums.length <= 3000\n",
    "    -10^5 <= nums[i] <= 10^5"
   ]
  },
  {
   "cell_type": "code",
   "execution_count": 37,
   "id": "63e9649c",
   "metadata": {},
   "outputs": [],
   "source": [
    "class Solution:\n",
    "    def threeSum(self, nums: list[int]) -> list[list[int]]:\n",
    "        ans = []\n",
    "        nums.sort()\n",
    "        \n",
    "        for i, n in enumerate(nums):\n",
    "            if i>0 and nums[i-1] == n:\n",
    "                continue\n",
    "            \n",
    "            l,r = i+1, len(nums)-1\n",
    "            while l<r:\n",
    "                curSum = n+nums[l]+nums[r]\n",
    "                if curSum > 0:\n",
    "                    r-=1\n",
    "                elif curSum < 0:\n",
    "                    l+=1\n",
    "                else:\n",
    "                    ans.append([n, nums[l], nums[r]])\n",
    "                    l+=1\n",
    "                    r-=1\n",
    "                    while l<r and nums[l-1] == nums[l]:\n",
    "                        l+=1\n",
    "                        \n",
    "        return ans"
   ]
  },
  {
   "cell_type": "code",
   "execution_count": 38,
   "id": "8ae4ad53",
   "metadata": {},
   "outputs": [
    {
     "name": "stdout",
     "output_type": "stream",
     "text": [
      "[[-1, -1, 2], [-1, 0, 1]]\n",
      "[]\n",
      "[[0, 0, 0]]\n"
     ]
    }
   ],
   "source": [
    "sol = Solution()\n",
    "print(sol.threeSum(nums = [-1,0,1,2,-1,-4]))\n",
    "print(sol.threeSum(nums = [0,1,1]))\n",
    "print(sol.threeSum(nums = [0,0,0]))    "
   ]
  },
  {
   "cell_type": "code",
   "execution_count": null,
   "id": "e2f14154",
   "metadata": {},
   "outputs": [],
   "source": []
  },
  {
   "cell_type": "markdown",
   "id": "5b87eaed",
   "metadata": {},
   "source": []
  },
  {
   "cell_type": "code",
   "execution_count": 34,
   "id": "813d1b8c",
   "metadata": {},
   "outputs": [
    {
     "name": "stdout",
     "output_type": "stream",
     "text": [
      "[-4, -1, -1, 0, 1, 2]\n",
      " i, a ->0, -4, nums[i-1] -> 2\n",
      "1 5\n",
      " i, a ->1, -1, nums[i-1] -> -4\n",
      "2 5\n",
      " i, a ->2, -1, nums[i-1] -> -1\n",
      " i, a ->3, 0, nums[i-1] -> -1\n",
      "4 5\n",
      " i, a ->4, 1, nums[i-1] -> 0\n",
      "5 5\n",
      " i, a ->5, 2, nums[i-1] -> 1\n",
      "6 5\n"
     ]
    }
   ],
   "source": []
  },
  {
   "cell_type": "code",
   "execution_count": null,
   "id": "bcc94620",
   "metadata": {},
   "outputs": [],
   "source": []
  }
 ],
 "metadata": {
  "kernelspec": {
   "display_name": "Python 3 (ipykernel)",
   "language": "python",
   "name": "python3"
  },
  "language_info": {
   "codemirror_mode": {
    "name": "ipython",
    "version": 3
   },
   "file_extension": ".py",
   "mimetype": "text/x-python",
   "name": "python",
   "nbconvert_exporter": "python",
   "pygments_lexer": "ipython3",
   "version": "3.9.13"
  }
 },
 "nbformat": 4,
 "nbformat_minor": 5
}
