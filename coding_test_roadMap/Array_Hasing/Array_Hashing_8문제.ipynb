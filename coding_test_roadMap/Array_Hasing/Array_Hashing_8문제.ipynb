{
 "cells": [
  {
   "cell_type": "markdown",
   "id": "30385a62",
   "metadata": {},
   "source": [
    "# 1. 중복된 문자열 \n",
    "\n",
    "## Leetcode \n",
    "\n",
    "217. Contains Duplicate\n",
    "\n",
    "https://leetcode.com/problems/contains-duplicate/description/\n",
    "\n",
    "    Given an integer array nums, return true if any value appears at least twice in the array, and return false if every element is distinct.\n",
    "\n",
    "**Examples**\n",
    "\n",
    "    Example 1:\n",
    "    Input: nums = [1,2,3,1]\n",
    "    Output: true\n",
    "    \n",
    "    Example 2:\n",
    "    Input: nums = [1,2,3,4]\n",
    "    Output: false\n",
    "    \n",
    "    Example 3:\n",
    "    Input: nums = [1,1,1,3,3,4,3,2,4,2]\n",
    "    Output: true\n",
    " \n",
    "\n",
    "**Constraints**\n",
    "\n",
    "    1 <= nums.length <= 105\n",
    "    -109 <= nums[i] <= 109"
   ]
  },
  {
   "cell_type": "markdown",
   "id": "25e0fb4f",
   "metadata": {},
   "source": [
    "**1. Brute Force O(n^2), O(1)**"
   ]
  },
  {
   "cell_type": "code",
   "execution_count": 4,
   "id": "5aa17bcf",
   "metadata": {},
   "outputs": [],
   "source": [
    " class Solution:\n",
    "    def containsDuplicate(self, nums: list[int]) -> bool:\n",
    "        for i in range(len(nums)):\n",
    "            for j in range(i+1, len(nums)):\n",
    "                if nums[i]==nums[j]:\n",
    "                    return True\n",
    "        return False"
   ]
  },
  {
   "cell_type": "code",
   "execution_count": 5,
   "id": "8de52c57",
   "metadata": {},
   "outputs": [
    {
     "name": "stdout",
     "output_type": "stream",
     "text": [
      "CPU times: user 3 µs, sys: 1 µs, total: 4 µs\n",
      "Wall time: 7.87 µs\n",
      "True\n",
      "False\n",
      "True\n"
     ]
    }
   ],
   "source": [
    "%time\n",
    "\n",
    "sol = Solution()\n",
    "print(sol.containsDuplicate(nums = [1,2,3,1]))\n",
    "print(sol.containsDuplicate(nums = [1,2,3,4]))\n",
    "print(sol.containsDuplicate(nums = [1,1,1,3,3,4,3,2,4,2]))"
   ]
  },
  {
   "cell_type": "markdown",
   "id": "44db61f3",
   "metadata": {},
   "source": [
    "**2. Sorted Brute Force O(nlogn), O(1)**"
   ]
  },
  {
   "cell_type": "code",
   "execution_count": 12,
   "id": "4b483e76",
   "metadata": {},
   "outputs": [],
   "source": [
    " class Solution:\n",
    "    def containsDuplicate(self, nums: list[int]) -> bool:\n",
    "        nums = sorted(nums)\n",
    "        for i in range(len(nums)-1):\n",
    "            if nums[i] == nums[i+1]:\n",
    "                return True\n",
    "        return False"
   ]
  },
  {
   "cell_type": "code",
   "execution_count": 13,
   "id": "24495331",
   "metadata": {},
   "outputs": [
    {
     "name": "stdout",
     "output_type": "stream",
     "text": [
      "CPU times: user 3 µs, sys: 1e+03 ns, total: 4 µs\n",
      "Wall time: 7.39 µs\n",
      "True\n",
      "False\n",
      "True\n"
     ]
    }
   ],
   "source": [
    "%time\n",
    "\n",
    "sol = Solution()\n",
    "print(sol.containsDuplicate(nums = [1,2,3,1]))\n",
    "print(sol.containsDuplicate(nums = [1,2,3,4]))\n",
    "print(sol.containsDuplicate(nums = [1,1,1,3,3,4,3,2,4,2]))"
   ]
  },
  {
   "cell_type": "markdown",
   "id": "1a1e29f0",
   "metadata": {},
   "source": [
    "- Python sorted 알고리즘은 Timsort를 사용해서 시간복잡도가 O(nlogn)"
   ]
  },
  {
   "cell_type": "markdown",
   "id": "a81c8fbe",
   "metadata": {},
   "source": [
    "**3. HashSet O(n), O(n)**"
   ]
  },
  {
   "cell_type": "code",
   "execution_count": 16,
   "id": "fb08f9e0",
   "metadata": {},
   "outputs": [],
   "source": [
    " class Solution:\n",
    "    def containsDuplicate(self, nums: list[int]) -> bool:\n",
    "        numSet = set()\n",
    "        for num in nums:\n",
    "            if num in numSet:\n",
    "                return True  \n",
    "            numSet.add(num)\n",
    "        return False"
   ]
  },
  {
   "cell_type": "code",
   "execution_count": 17,
   "id": "0106ddad",
   "metadata": {},
   "outputs": [
    {
     "name": "stdout",
     "output_type": "stream",
     "text": [
      "CPU times: user 4 µs, sys: 0 ns, total: 4 µs\n",
      "Wall time: 9.06 µs\n",
      "True\n",
      "False\n",
      "True\n"
     ]
    }
   ],
   "source": [
    "%time\n",
    "\n",
    "sol = Solution()\n",
    "print(sol.containsDuplicate(nums = [1,2,3,1]))\n",
    "print(sol.containsDuplicate(nums = [1,2,3,4]))\n",
    "print(sol.containsDuplicate(nums = [1,1,1,3,3,4,3,2,4,2]))"
   ]
  },
  {
   "cell_type": "markdown",
   "id": "8f3ce21a",
   "metadata": {},
   "source": [
    "# 2. 중복된 문자열 제거\n",
    "\n",
    "## 프로그래머스\n",
    "\n",
    "**문제 설명**\n",
    "\n",
    "    문자열 my_string이 매개변수로 주어집니다. my_string에서 중복된 문자를 제거하고 하나의 문자만 남긴 문자열을 return하도록 solution 함수를 완성해주세요.\n",
    "\n",
    "**제한사항**\n",
    "\n",
    "    1 ≤ my_string ≤ 110\n",
    "    my_string은 대문자, 소문자, 공백으로 구성되어 있습니다.\n",
    "    대문자와 소문자를 구분합니다.\n",
    "    공백(\" \")도 하나의 문자로 구분합니다.\n",
    "    중복된 문자 중 가장 앞에 있는 문자를 남깁니다.\n",
    "\n",
    "**입출력 예**\n",
    "\n",
    "    my_string\tresult\n",
    "    \"people\"\t\"peol\"\n",
    "    \"We are the world\"\t\"We arthwold\"\n",
    "\n",
    "**입출력 예 설명**\n",
    "\n",
    "    입출력 예 #1\n",
    "    \"people\"에서 중복된 문자 \"p\"와 \"e\"을 제거한 \"peol\"을 return합니다.\n",
    "    입출력 예 #2\n",
    "    \"We are the world\"에서 중복된 문자 \"e\", \" \", \"r\" 들을 제거한 \"We arthwold\"을 return합니다."
   ]
  },
  {
   "cell_type": "code",
   "execution_count": 46,
   "id": "95b29e47",
   "metadata": {},
   "outputs": [],
   "source": [
    "class Solution:   \n",
    "    def solution(self, my_string:str):\n",
    "        return ''.join(dict.fromkeys(my_string))"
   ]
  },
  {
   "cell_type": "code",
   "execution_count": 47,
   "id": "a07a1c9e",
   "metadata": {},
   "outputs": [
    {
     "name": "stdout",
     "output_type": "stream",
     "text": [
      "peol\n",
      "We arthwold\n"
     ]
    }
   ],
   "source": [
    "sol = Solution()\n",
    "print(sol.solution(\"people\"))\n",
    "print(sol.solution(\"We are the world\"))"
   ]
  },
  {
   "cell_type": "code",
   "execution_count": 21,
   "id": "ee842c0b",
   "metadata": {},
   "outputs": [
    {
     "data": {
      "text/plain": [
       "{'p': None, 'e': None, 'o': None, 'l': None}"
      ]
     },
     "execution_count": 21,
     "metadata": {},
     "output_type": "execute_result"
    }
   ],
   "source": []
  },
  {
   "cell_type": "markdown",
   "id": "0ab9240a",
   "metadata": {},
   "source": [
    "# 3. 순열 확인(Anagram)\n",
    "## Leetcode\n",
    "\n",
    "242. Valid Anagram\n",
    "\n",
    "https://leetcode.com/problems/valid-anagram/description/\n",
    "\n",
    "**Description**\n",
    "\n",
    "    Given two strings s and t, return true if t is an anagram of s, and false otherwise.\n",
    "    An Anagram is a word or phrase formed by rearranging the letters of a different word or phrase, typically using all the original letters exactly once.\n",
    "\n",
    "**Examples** \n",
    "\n",
    "    Example 1:\n",
    "    Input: s = \"anagram\", t = \"nagaram\"\n",
    "    Output: true\n",
    "    \n",
    "    Example 2:\n",
    "    Input: s = \"rat\", t = \"car\"\n",
    "    Output: false\n",
    "\n",
    "**Constraints**\n",
    "\n",
    "    1 <= s.length, t.length <= 5 * 10^4\n",
    "    s and t consist of lowercase English letters.\n"
   ]
  },
  {
   "cell_type": "code",
   "execution_count": null,
   "id": "f85534a4",
   "metadata": {},
   "outputs": [],
   "source": []
  },
  {
   "cell_type": "code",
   "execution_count": 54,
   "id": "23a99572",
   "metadata": {},
   "outputs": [],
   "source": [
    "class Solution:\n",
    "    def isAnagram(self, s: str, t: str) -> bool:\n",
    "        return sorted(s) == sorted(t)"
   ]
  },
  {
   "cell_type": "code",
   "execution_count": 57,
   "id": "b0545e14",
   "metadata": {},
   "outputs": [
    {
     "name": "stdout",
     "output_type": "stream",
     "text": [
      "True\n",
      "False\n"
     ]
    }
   ],
   "source": [
    "sol = Solution()\n",
    "print(sol.isAnagram(s='anagram', t='nagaram'))\n",
    "print(sol.isAnagram(s='rat', t='car'))"
   ]
  },
  {
   "cell_type": "code",
   "execution_count": 58,
   "id": "442a9ef6",
   "metadata": {},
   "outputs": [],
   "source": [
    "class Solution:\n",
    "    def isAnagram(self, s:str, t:str) -> bool:\n",
    "        return dict.fromkeys(s) == dict.fromkeys(t)"
   ]
  },
  {
   "cell_type": "code",
   "execution_count": 60,
   "id": "ed6acd91",
   "metadata": {},
   "outputs": [
    {
     "name": "stdout",
     "output_type": "stream",
     "text": [
      "True\n",
      "False\n"
     ]
    }
   ],
   "source": [
    "sol = Solution()\n",
    "print(sol.isAnagram(s='anagram', t='nagaram'))\n",
    "print(sol.isAnagram(s='rat', t='car'))"
   ]
  },
  {
   "cell_type": "code",
   "execution_count": 67,
   "id": "0a1dea9e",
   "metadata": {},
   "outputs": [],
   "source": [
    "class Solution:\n",
    "    def isAnagram(self, s:str, t:str)->bool:\n",
    "        if len(s)!=len(t):\n",
    "            return False\n",
    "    \n",
    "        cntS, cntT = {},{}\n",
    "        for i in range(len(s)):\n",
    "            cntS[s[i]] = 1+cntS.get(s[i],0)\n",
    "            cntT[t[i]] = 1+cntT.get(t[i],0)\n",
    "            \n",
    "        for c in cntS:\n",
    "            if cntS[c] != cntT.get(c,0):\n",
    "                return False\n",
    "            \n",
    "        return True\n"
   ]
  },
  {
   "cell_type": "code",
   "execution_count": 68,
   "id": "3994835a",
   "metadata": {},
   "outputs": [
    {
     "name": "stdout",
     "output_type": "stream",
     "text": [
      "True\n",
      "False\n"
     ]
    }
   ],
   "source": [
    "sol = Solution()\n",
    "print(sol.isAnagram(s='anagram', t='nagaram'))\n",
    "print(sol.isAnagram(s='rat', t='car'))"
   ]
  },
  {
   "cell_type": "code",
   "execution_count": null,
   "id": "1e758364",
   "metadata": {},
   "outputs": [],
   "source": []
  },
  {
   "cell_type": "markdown",
   "id": "32ffe5c0",
   "metadata": {},
   "source": [
    "# 4. 순열 확인(Anagram2)\n",
    "## Leetcode\n",
    "\n",
    "49. Group Anagrams\n",
    "\n",
    "https://leetcode.com/problems/group-anagrams/\n",
    "\n",
    "    Given an array of strings strs, group the anagrams together. You can return the answer in any order.\n",
    "\n",
    "    An Anagram is a word or phrase formed by rearranging the letters of a different word or phrase, typically using all the original letters exactly once.\n",
    "\n",
    " \n",
    "**Examples**\n",
    "\n",
    "    Example 1:\n",
    "    Input: strs = [\"eat\",\"tea\",\"tan\",\"ate\",\"nat\",\"bat\"]\n",
    "    Output: [[\"bat\"],[\"nat\",\"tan\"],[\"ate\",\"eat\",\"tea\"]]\n",
    "    \n",
    "    Example 2:\n",
    "    Input: strs = [\"\"]\n",
    "    Output: [[\"\"]]\n",
    "    \n",
    "    Example 3:\n",
    "    Input: strs = [\"a\"]\n",
    "    Output: [[\"a\"]]\n",
    " \n",
    "\n",
    "**Constraints**\n",
    "\n",
    "    1 <= strs.length <= 10^4\n",
    "    0 <= strs[i].length <= 10^0\n",
    "    strs[i] consists of lowercase English letters.\n"
   ]
  },
  {
   "cell_type": "code",
   "execution_count": 176,
   "id": "b61d3cb8",
   "metadata": {},
   "outputs": [],
   "source": [
    "class Solution:\n",
    "    def groupAnagrams(self, strs: list[str]) -> list[list[str]]:\n",
    "        \n",
    "        if len(strs)==1:\n",
    "            return [strs]\n",
    "        \n",
    "        strSet = {}\n",
    "        for s in strs:\n",
    "            tmp = ''.join(sorted(s))\n",
    "            if strSet.get(tmp,0) == 0:\n",
    "                strSet[tmp] = [s]\n",
    "            else:\n",
    "                strSet[tmp].append([s])\n",
    "        return list(strSet.values())\n",
    "        "
   ]
  },
  {
   "cell_type": "code",
   "execution_count": 177,
   "id": "bb7805a0",
   "metadata": {
    "scrolled": true
   },
   "outputs": [
    {
     "name": "stdout",
     "output_type": "stream",
     "text": [
      "[['eat', ['tea'], ['ate']], ['tan', ['nat']], ['bat']]\n",
      "[['']]\n",
      "[['a']]\n"
     ]
    }
   ],
   "source": [
    "sol = Solution()\n",
    "print(sol.groupAnagrams(strs = [\"eat\",\"tea\",\"tan\",\"ate\",\"nat\",\"bat\"]))\n",
    "print(sol.groupAnagrams(strs = [\"\"]))\n",
    "print(sol.groupAnagrams(strs = [\"a\"]))"
   ]
  },
  {
   "cell_type": "code",
   "execution_count": 224,
   "id": "7888062c",
   "metadata": {},
   "outputs": [],
   "source": [
    "from collections import defaultdict\n",
    "\n",
    "class Solution:\n",
    "    def groupAnagrams(self, strs: list[str]) -> list[list[str]]:\n",
    "        if len(strs)==1:\n",
    "            return [strs]\n",
    "        \n",
    "        strMap = defaultdict(list)\n",
    "        for s in strs:\n",
    "            tmp = ''.join(sorted(s))\n",
    "            strMap[tmp].append(s)\n",
    "            \n",
    "        return strMap.values()"
   ]
  },
  {
   "cell_type": "code",
   "execution_count": 225,
   "id": "b2279f1d",
   "metadata": {},
   "outputs": [
    {
     "name": "stdout",
     "output_type": "stream",
     "text": [
      "dict_values([['eat', 'tea', 'ate'], ['tan', 'nat'], ['bat']])\n",
      "[['']]\n",
      "[['a']]\n"
     ]
    }
   ],
   "source": [
    "sol = Solution()\n",
    "print(sol.groupAnagrams(strs = [\"eat\",\"tea\",\"tan\",\"ate\",\"nat\",\"bat\"]))\n",
    "print(sol.groupAnagrams(strs = [\"\"]))\n",
    "print(sol.groupAnagrams(strs = [\"a\"]))"
   ]
  },
  {
   "cell_type": "code",
   "execution_count": 226,
   "id": "ad7340bd",
   "metadata": {},
   "outputs": [],
   "source": [
    "from collections import defaultdict\n",
    "\n",
    "class Solution:\n",
    "    def groupAnagrams(self, strs: list[str]) -> list[list[str]]:\n",
    "        \n",
    "        ans = defaultdict(list)\n",
    "        for string in strs:\n",
    "            cnt = [0]*26\n",
    "            for s in string:\n",
    "                cnt[ord(s)-ord('a')] +=1\n",
    "            ans[tuple(cnt)].append(string)\n",
    "            \n",
    "        return ans.values()"
   ]
  },
  {
   "cell_type": "code",
   "execution_count": 227,
   "id": "aa120c35",
   "metadata": {},
   "outputs": [
    {
     "name": "stdout",
     "output_type": "stream",
     "text": [
      "dict_values([['eat', 'tea', 'ate'], ['tan', 'nat'], ['bat']])\n",
      "dict_values([['']])\n",
      "dict_values([['a']])\n"
     ]
    }
   ],
   "source": [
    "sol = Solution()\n",
    "print(sol.groupAnagrams(strs = [\"eat\",\"tea\",\"tan\",\"ate\",\"nat\",\"bat\"]))\n",
    "print(sol.groupAnagrams(strs = [\"\"]))\n",
    "print(sol.groupAnagrams(strs = [\"a\"]))"
   ]
  },
  {
   "cell_type": "code",
   "execution_count": null,
   "id": "4677d208",
   "metadata": {},
   "outputs": [],
   "source": []
  },
  {
   "cell_type": "code",
   "execution_count": null,
   "id": "ca6f13ec",
   "metadata": {},
   "outputs": [],
   "source": []
  },
  {
   "cell_type": "markdown",
   "id": "3bc051ec",
   "metadata": {},
   "source": [
    "# 5. 배열의 합\n",
    "## Leetcode\n",
    "\n",
    "1. Two Sum\n",
    "\n",
    "https://leetcode.com/problems/two-sum/description/\n",
    "\n",
    "\n",
    "    Given an array of integers nums and an integer target, return indices of the two numbers such that they add up to target.\n",
    "\n",
    "    You may assume that each input would have exactly one solution, and you may not use the same element twice.\n",
    "\n",
    "    You can return the answer in any order.\n",
    "\n",
    "**Examples** \n",
    "\n",
    "    Example 1:\n",
    "    Input: nums = [2,7,11,15], target = 9\n",
    "    Output: [0,1]\n",
    "    Explanation: Because nums[0] + nums[1] == 9, we return [0, 1].\n",
    "   \n",
    "    Example 2:\n",
    "    Input: nums = [3,2,4], target = 6\n",
    "    Output: [1,2]\n",
    "    \n",
    "    Example 3:\n",
    "    Input: nums = [3,3], target = 6\n",
    "    Output: [0,1]\n",
    " \n",
    "\n",
    "**Constraints**\n",
    "\n",
    "    2 <= nums.length <= 10^4\n",
    "    -10^9 <= nums[i] <= 10^9\n",
    "    -10^9 <= target <= 10^9\n",
    "    Only one valid answer exists.\n"
   ]
  },
  {
   "cell_type": "markdown",
   "id": "414b0dd3",
   "metadata": {},
   "source": [
    "(1) **Brute Force** O(n^2), O(1)"
   ]
  },
  {
   "cell_type": "code",
   "execution_count": 112,
   "id": "7a46a3fc",
   "metadata": {},
   "outputs": [],
   "source": [
    "class Solution:\n",
    "    def twoSum(self, nums: list[int], target: int) -> list[int]:\n",
    "        for i in range(len(nums)):\n",
    "            for j in range(i+1, len(nums)):\n",
    "                if nums[i]+nums[j] == target:\n",
    "                    return [i,j]"
   ]
  },
  {
   "cell_type": "code",
   "execution_count": 113,
   "id": "afa0e29b",
   "metadata": {},
   "outputs": [
    {
     "name": "stdout",
     "output_type": "stream",
     "text": [
      "[0, 1]\n",
      "[1, 2]\n",
      "[0, 1]\n"
     ]
    }
   ],
   "source": [
    "sol = Solution()\n",
    "print(sol.twoSum(nums = [2,7,11,15], target = 9))\n",
    "print(sol.twoSum(nums = [3,2,4], target = 6))\n",
    "print(sol.twoSum(nums = [3,3], target = 6))"
   ]
  },
  {
   "cell_type": "markdown",
   "id": "26eae478",
   "metadata": {},
   "source": [
    "**(2) Hash map O(n), o(n)"
   ]
  },
  {
   "cell_type": "code",
   "execution_count": 114,
   "id": "be1e74a0",
   "metadata": {},
   "outputs": [],
   "source": [
    "class Solution:\n",
    "    def twoSum(self, nums:list[int], target:int) -> list[int]:\n",
    "        sumMap = {}\n",
    "        for i, n in enumerate(nums):\n",
    "            tmp = target-n\n",
    "            if tmp in sumMap:\n",
    "                return [sumMap[tmp], i]\n",
    "            sumMap[n] = i"
   ]
  },
  {
   "cell_type": "code",
   "execution_count": 115,
   "id": "a47eaebe",
   "metadata": {},
   "outputs": [
    {
     "name": "stdout",
     "output_type": "stream",
     "text": [
      "[0, 1]\n",
      "[1, 2]\n",
      "[0, 1]\n"
     ]
    }
   ],
   "source": [
    "sol = Solution()\n",
    "print(sol.twoSum(nums = [2,7,11,15], target = 9))\n",
    "print(sol.twoSum(nums = [3,2,4], target = 6))\n",
    "print(sol.twoSum(nums = [3,3], target = 6))"
   ]
  },
  {
   "cell_type": "code",
   "execution_count": null,
   "id": "6c890da1",
   "metadata": {},
   "outputs": [],
   "source": []
  },
  {
   "cell_type": "markdown",
   "id": "7cb717fb",
   "metadata": {},
   "source": [
    "# 6. 배열 내의 연산 (빈도)\n",
    "\n",
    "## Leetcode\n",
    "\n",
    "    Given an integer array nums and an integer k, return the k most frequent elements. You may return the answer in any order.\n",
    "\n",
    "**Examples**\n",
    "\n",
    "    Example 1:\n",
    "    Input: nums = [1,1,1,2,2,3], k = 2\n",
    "    Output: [1,2]\n",
    "    \n",
    "    Example 2:\n",
    "    Input: nums = [1], k = 1\n",
    "    Output: [1]\n",
    " \n",
    "\n",
    "**Constraints**\n",
    "\n",
    "    1 <= nums.length <= 10^5\n",
    "    -10^4 <= nums[i] <= 10^4\n",
    "    k is in the range [1, the number of unique elements in the array].\n",
    "    It is guaranteed that the answer is unique.\n",
    " \n",
    "\n",
    "    Follow up: Your algorithm's time complexity must be better than O(n log n), where n is the array's size."
   ]
  },
  {
   "cell_type": "markdown",
   "id": "9e6892c5",
   "metadata": {},
   "source": [
    "**시간복잡도 O(n + k * log n), 공간복잡도 O(n+k)**"
   ]
  },
  {
   "cell_type": "code",
   "execution_count": 229,
   "id": "af44270f",
   "metadata": {},
   "outputs": [],
   "source": [
    "from collections import Counter\n",
    "class Solution:\n",
    "    def topKFrequent(self, nums: list[int], k: int) -> list[int]:\n",
    "        counter = Counter(nums)\n",
    "        return [n for n,c in counter.most_common(k)]"
   ]
  },
  {
   "cell_type": "code",
   "execution_count": 251,
   "id": "d5a6b88b",
   "metadata": {},
   "outputs": [
    {
     "name": "stdout",
     "output_type": "stream",
     "text": [
      "[1, 2]\n",
      "[1]\n"
     ]
    }
   ],
   "source": [
    "sol = Solution()\n",
    "print(sol.topKFrequent(nums = [1,1,1,2,2,3], k = 2))\n",
    "print(sol.topKFrequent(nums = [1], k = 1))"
   ]
  },
  {
   "cell_type": "markdown",
   "id": "5d12419b",
   "metadata": {},
   "source": [
    "**시간복잡도 O(nlogn), 공간복잡도 O(n)**"
   ]
  },
  {
   "cell_type": "code",
   "execution_count": 249,
   "id": "b78cc3aa",
   "metadata": {},
   "outputs": [],
   "source": [
    "class Solution:\n",
    "    def topKFrequent(self, nums:list[int], k:int)->list[int]:\n",
    "        numDict= {}\n",
    "        for num in nums:\n",
    "            numDict[num] = 1+numDict.get(num, 0)\n",
    "        return [i for i,v  in sorted(numDict.items(), key=lambda x: x[1], reverse=True)][:k]\n",
    "        "
   ]
  },
  {
   "cell_type": "code",
   "execution_count": 250,
   "id": "b83aa4f8",
   "metadata": {},
   "outputs": [
    {
     "name": "stdout",
     "output_type": "stream",
     "text": [
      "[1, 2]\n",
      "[1]\n"
     ]
    }
   ],
   "source": [
    "sol = Solution()\n",
    "print(sol.topKFrequent(nums = [1,1,1,2,2,3], k = 2))\n",
    "print(sol.topKFrequent(nums = [1], k = 1))"
   ]
  },
  {
   "cell_type": "markdown",
   "id": "2fd2afec",
   "metadata": {},
   "source": [
    "**시간복잡도 O(n), 공간복잡도 O(n+k)**"
   ]
  },
  {
   "cell_type": "code",
   "execution_count": 258,
   "id": "36d63edd",
   "metadata": {},
   "outputs": [],
   "source": [
    "class Solution:\n",
    "    def topKFrequent(self, nums:list[int], k:int)->list[int]:\n",
    "        ans = []\n",
    "        cnt = {}\n",
    "        freq = [[] for _ in range(len(nums)+1)]\n",
    "        \n",
    "        for n in nums:\n",
    "            cnt[n] = 1+cnt.get(n,0)\n",
    "        for n,c in cnt.items():\n",
    "            freq[c].append(n)\n",
    "            \n",
    "        for i in range(len(freq)-1, 0, -1):\n",
    "            for num in freq[i]:\n",
    "                ans.append(num)\n",
    "                if len(ans)==k:\n",
    "                    return ans\n",
    "        \n",
    "        "
   ]
  },
  {
   "cell_type": "code",
   "execution_count": 259,
   "id": "13261fbc",
   "metadata": {},
   "outputs": [
    {
     "name": "stdout",
     "output_type": "stream",
     "text": [
      "[1, 2]\n",
      "[1]\n"
     ]
    }
   ],
   "source": [
    "sol = Solution()\n",
    "print(sol.topKFrequent(nums = [1,1,1,2,2,3], k = 2))\n",
    "print(sol.topKFrequent(nums = [1], k = 1))"
   ]
  },
  {
   "cell_type": "code",
   "execution_count": null,
   "id": "071d9c70",
   "metadata": {},
   "outputs": [],
   "source": []
  },
  {
   "cell_type": "markdown",
   "id": "cb38402f",
   "metadata": {},
   "source": [
    "# 7. 배열 내의 연산 (배열의 곱)\n",
    "\n",
    "## Leetcode\n",
    "\n",
    "https://leetcode.com/problems/product-of-array-except-self/\n",
    "\n",
    "    Given an integer array nums, return an array answer such that answer[i] is equal to the product of all the elements of nums except nums[i].\n",
    "\n",
    "    The product of any prefix or suffix of nums is guaranteed to fit in a 32-bit integer.\n",
    "\n",
    "    You must write an algorithm that runs in O(n) time and without using the division operation.\n",
    "\n",
    " \n",
    "**Examples**\n",
    "\n",
    "    Example 1:\n",
    "    Input: nums = [1,2,3,4]\n",
    "    Output: [24,12,8,6]\n",
    "    \n",
    "    Example 2:\n",
    "    Input: nums = [-1,1,0,-3,3]\n",
    "    Output: [0,0,9,0,0]\n",
    "\n",
    "\n",
    "**Constraints**\n",
    "\n",
    "    2 <= nums.length <= 10^5\n",
    "    -30 <= nums[i] <= 30\n",
    "    The product of any prefix or suffix of nums is guaranteed to fit in a 32-bit integer.\n",
    " \n",
    "\n",
    "    Follow up: Can you solve the problem in O(1) extra space complexity? (The output array does not count as extra space for space complexity analysis.)"
   ]
  },
  {
   "cell_type": "code",
   "execution_count": 269,
   "id": "1daaada5",
   "metadata": {},
   "outputs": [],
   "source": [
    "from functools import reduce\n",
    "\n",
    "class Solution:\n",
    "    def productExceptSelf(self, nums: list[int]) -> list[int]:\n",
    "        ans = []\n",
    "        for i in range(len(nums)):\n",
    "            tmp = nums[:i] + nums[i+1:]\n",
    "            mul = reduce(lambda x,y: x*y, tmp)\n",
    "            ans.append(mul)\n",
    "        return ans"
   ]
  },
  {
   "cell_type": "code",
   "execution_count": 270,
   "id": "95afbef6",
   "metadata": {},
   "outputs": [
    {
     "name": "stdout",
     "output_type": "stream",
     "text": [
      "[24, 12, 8, 6]\n",
      "[0, 0, 9, 0, 0]\n"
     ]
    }
   ],
   "source": [
    "sol = Solution()\n",
    "print(sol.productExceptSelf(nums = [1,2,3,4]))\n",
    "print(sol.productExceptSelf(nums = [-1,1,0,-3,3]))"
   ]
  },
  {
   "cell_type": "code",
   "execution_count": null,
   "id": "e381467c",
   "metadata": {},
   "outputs": [],
   "source": []
  },
  {
   "cell_type": "code",
   "execution_count": 271,
   "id": "cae412ee",
   "metadata": {},
   "outputs": [],
   "source": [
    "class Solution:\n",
    "    def productExceptSelf(self, nums: list[int]) -> list[int]:\n",
    "        ans = [1] * (len(nums))\n",
    "        \n",
    "        prefix, postfix = 1,1\n",
    "        for i in range(len(nums)):\n",
    "            ans[i] = prefix\n",
    "            prefix *= nums[i]\n",
    "        \n",
    "        for i in range(len(nums)-1, -1, -1):\n",
    "            ans[i] *= postfix\n",
    "            postfix *= nums[i]\n",
    "            \n",
    "        return ans"
   ]
  },
  {
   "cell_type": "code",
   "execution_count": 272,
   "id": "16174cda",
   "metadata": {},
   "outputs": [
    {
     "name": "stdout",
     "output_type": "stream",
     "text": [
      "[24, 12, 8, 6]\n",
      "[0, 0, 9, 0, 0]\n"
     ]
    }
   ],
   "source": [
    "sol = Solution()\n",
    "print(sol.productExceptSelf(nums = [1,2,3,4]))\n",
    "print(sol.productExceptSelf(nums = [-1,1,0,-3,3]))"
   ]
  },
  {
   "cell_type": "code",
   "execution_count": null,
   "id": "bffcaecc",
   "metadata": {},
   "outputs": [],
   "source": []
  },
  {
   "cell_type": "code",
   "execution_count": null,
   "id": "8ff41d68",
   "metadata": {},
   "outputs": [],
   "source": []
  },
  {
   "cell_type": "markdown",
   "id": "11535f80",
   "metadata": {},
   "source": [
    "# 8. 배열 연산\n",
    "\n",
    "## Leetcode\n",
    "\n",
    "36. Valid Sudoku\n",
    "\n",
    "https://leetcode.com/problems/valid-sudoku/description/\n",
    "\n",
    "\n",
    "    Determine if a 9 x 9 Sudoku board is valid. Only the filled cells need to be validated according to the following rules:\n",
    "\n",
    "    Each row must contain the digits 1-9 without repetition.\n",
    "    Each column must contain the digits 1-9 without repetition.\n",
    "    Each of the nine 3 x 3 sub-boxes of the grid must contain the digits 1-9 without repetition.\n",
    "    Note:\n",
    "\n",
    "    A Sudoku board (partially filled) could be valid but is not necessarily solvable.\n",
    "    Only the filled cells need to be validated according to the mentioned rules.\n",
    " \n",
    "\n",
    "**Examples**\n",
    "\n",
    "    Example 1:\n",
    "\n",
    "\n",
    "    Input: board = \n",
    "    [[\"5\",\"3\",\".\",\".\",\"7\",\".\",\".\",\".\",\".\"]\n",
    "    ,[\"6\",\".\",\".\",\"1\",\"9\",\"5\",\".\",\".\",\".\"]\n",
    "    ,[\".\",\"9\",\"8\",\".\",\".\",\".\",\".\",\"6\",\".\"]\n",
    "    ,[\"8\",\".\",\".\",\".\",\"6\",\".\",\".\",\".\",\"3\"]\n",
    "    ,[\"4\",\".\",\".\",\"8\",\".\",\"3\",\".\",\".\",\"1\"]\n",
    "    ,[\"7\",\".\",\".\",\".\",\"2\",\".\",\".\",\".\",\"6\"]\n",
    "    ,[\".\",\"6\",\".\",\".\",\".\",\".\",\"2\",\"8\",\".\"]\n",
    "    ,[\".\",\".\",\".\",\"4\",\"1\",\"9\",\".\",\".\",\"5\"]\n",
    "    ,[\".\",\".\",\".\",\".\",\"8\",\".\",\".\",\"7\",\"9\"]]\n",
    "    Output: true\n",
    "    \n",
    "    Example 2:\n",
    "    Input: board = \n",
    "    [[\"8\",\"3\",\".\",\".\",\"7\",\".\",\".\",\".\",\".\"]\n",
    "    ,[\"6\",\".\",\".\",\"1\",\"9\",\"5\",\".\",\".\",\".\"]\n",
    "    ,[\".\",\"9\",\"8\",\".\",\".\",\".\",\".\",\"6\",\".\"]\n",
    "    ,[\"8\",\".\",\".\",\".\",\"6\",\".\",\".\",\".\",\"3\"]\n",
    "    ,[\"4\",\".\",\".\",\"8\",\".\",\"3\",\".\",\".\",\"1\"]\n",
    "    ,[\"7\",\".\",\".\",\".\",\"2\",\".\",\".\",\".\",\"6\"]\n",
    "    ,[\".\",\"6\",\".\",\".\",\".\",\".\",\"2\",\"8\",\".\"]\n",
    "    ,[\".\",\".\",\".\",\"4\",\"1\",\"9\",\".\",\".\",\"5\"]\n",
    "    ,[\".\",\".\",\".\",\".\",\"8\",\".\",\".\",\"7\",\"9\"]]\n",
    "    Output: false\n",
    "    Explanation: Same as Example 1, except with the 5 in the top left corner being modified to 8. Since there are two 8's in the top left 3x3 sub-box, it is invalid.\n",
    " \n",
    "\n",
    "**Constraints**\n",
    "\n",
    "    board.length == 9\n",
    "    board[i].length == 9\n",
    "    board[i][j] is a digit 1-9 or '.'."
   ]
  },
  {
   "cell_type": "code",
   "execution_count": 316,
   "id": "fae8926e",
   "metadata": {},
   "outputs": [],
   "source": [
    "from collections import defaultdict\n",
    "\n",
    "class Solution:\n",
    "    def isValidSudoku(self, board: list[list[str]]) -> bool:\n",
    "        cols = defaultdict(set)\n",
    "        rows = defaultdict(set)\n",
    "        squares = defaultdict(set)\n",
    "        \n",
    "        for r in range(9):\n",
    "            for c in range(9):\n",
    "                if board[r][c] == '.':\n",
    "                    continue\n",
    "                if (board[r][c] in cols[c] or\n",
    "                   board[r][c] in rows[r] or\n",
    "                   board[r][c] in squares[(r//3, c//3)]):\n",
    "                    return False\n",
    "                \n",
    "                cols[c].add(board[r][c])\n",
    "                rows[r].add(board[r][c])\n",
    "                squares[r//3, c//3].add(board[r][c])\n",
    "                \n",
    "        return True"
   ]
  },
  {
   "cell_type": "code",
   "execution_count": 317,
   "id": "914fccf3",
   "metadata": {},
   "outputs": [
    {
     "name": "stdout",
     "output_type": "stream",
     "text": [
      "True\n",
      "False\n"
     ]
    }
   ],
   "source": [
    "sol = Solution()\n",
    "print(sol.isValidSudoku(board = \n",
    "[[\"5\",\"3\",\".\",\".\",\"7\",\".\",\".\",\".\",\".\"]\n",
    ",[\"6\",\".\",\".\",\"1\",\"9\",\"5\",\".\",\".\",\".\"]\n",
    ",[\".\",\"9\",\"8\",\".\",\".\",\".\",\".\",\"6\",\".\"]\n",
    ",[\"8\",\".\",\".\",\".\",\"6\",\".\",\".\",\".\",\"3\"]\n",
    ",[\"4\",\".\",\".\",\"8\",\".\",\"3\",\".\",\".\",\"1\"]\n",
    ",[\"7\",\".\",\".\",\".\",\"2\",\".\",\".\",\".\",\"6\"]\n",
    ",[\".\",\"6\",\".\",\".\",\".\",\".\",\"2\",\"8\",\".\"]\n",
    ",[\".\",\".\",\".\",\"4\",\"1\",\"9\",\".\",\".\",\"5\"]\n",
    ",[\".\",\".\",\".\",\".\",\"8\",\".\",\".\",\"7\",\"9\"]]))\n",
    "print(sol.isValidSudoku(board = \n",
    "[[\"8\",\"3\",\".\",\".\",\"7\",\".\",\".\",\".\",\".\"]\n",
    ",[\"6\",\".\",\".\",\"1\",\"9\",\"5\",\".\",\".\",\".\"]\n",
    ",[\".\",\"9\",\"8\",\".\",\".\",\".\",\".\",\"6\",\".\"]\n",
    ",[\"8\",\".\",\".\",\".\",\"6\",\".\",\".\",\".\",\"3\"]\n",
    ",[\"4\",\".\",\".\",\"8\",\".\",\"3\",\".\",\".\",\"1\"]\n",
    ",[\"7\",\".\",\".\",\".\",\"2\",\".\",\".\",\".\",\"6\"]\n",
    ",[\".\",\"6\",\".\",\".\",\".\",\".\",\"2\",\"8\",\".\"]\n",
    ",[\".\",\".\",\".\",\"4\",\"1\",\"9\",\".\",\".\",\"5\"]\n",
    ",[\".\",\".\",\".\",\".\",\"8\",\".\",\".\",\"7\",\"9\"]]))"
   ]
  },
  {
   "cell_type": "code",
   "execution_count": null,
   "id": "8faf9430",
   "metadata": {},
   "outputs": [],
   "source": []
  },
  {
   "cell_type": "code",
   "execution_count": null,
   "id": "a05347ba",
   "metadata": {},
   "outputs": [],
   "source": []
  },
  {
   "cell_type": "markdown",
   "id": "9aed876f",
   "metadata": {},
   "source": [
    "# 9. 배열의 순열\n",
    "\n",
    "## Leetcode\n",
    "\n",
    "128. Longest Consecutive Sequence\n",
    "\n",
    "https://leetcode.com/problems/longest-consecutive-sequence/\n",
    "\n",
    "    Given an unsorted array of integers nums, return the length of the longest consecutive elements sequence.\n",
    "\n",
    "    You must write an algorithm that runs in O(n) time.\n",
    "\n",
    "\n",
    "**Examples**\n",
    "\n",
    "    Example 1:\n",
    "    Input: nums = [100,4,200,1,3,2]\n",
    "    Output: 4\n",
    "    Explanation: The longest consecutive elements sequence is [1, 2, 3, 4]. Therefore its length is 4.\n",
    "    \n",
    "    Example 2:\n",
    "    Input: nums = [0,3,7,2,5,8,4,6,0,1]\n",
    "    Output: 9\n",
    "\n",
    "\n",
    "**Constraints**\n",
    "\n",
    "    0 <= nums.length <= 10^5\n",
    "    -10^9 <= nums[i] <= 10^9"
   ]
  },
  {
   "cell_type": "code",
   "execution_count": 310,
   "id": "7d9c7904",
   "metadata": {},
   "outputs": [],
   "source": [
    "class Solution:\n",
    "    def longestConsecutive(self, nums: list[int]) -> int:\n",
    "        if len(nums)==0:\n",
    "            return 0\n",
    "        numList = list(set(nums))\n",
    "        maxCnt, cnt = 1, 1\n",
    "        for i in range(len(numList)-1):\n",
    "            if numList[i]+1 == numList[i+1]:\n",
    "                cnt +=1\n",
    "                maxCnt = max(maxCnt, cnt)\n",
    "            else:\n",
    "                cnt = 1\n",
    "        return maxCnt"
   ]
  },
  {
   "cell_type": "code",
   "execution_count": 311,
   "id": "a402b788",
   "metadata": {},
   "outputs": [
    {
     "name": "stdout",
     "output_type": "stream",
     "text": [
      "3\n",
      "9\n",
      "0\n"
     ]
    }
   ],
   "source": [
    "sol = Solution()\n",
    "print(sol.longestConsecutive(nums = [100,4,200,1,3,2]))\n",
    "print(sol.longestConsecutive(nums = [0,3,7,2,5,8,4,6,0,1]))\n",
    "print(sol.longestConsecutive(nums = []))"
   ]
  },
  {
   "cell_type": "code",
   "execution_count": null,
   "id": "f9e0f29c",
   "metadata": {},
   "outputs": [],
   "source": []
  },
  {
   "cell_type": "code",
   "execution_count": 302,
   "id": "482cb8fc",
   "metadata": {},
   "outputs": [],
   "source": [
    "class Solution:\n",
    "    def longestConsecutive(self, nums: list[int]) -> int:\n",
    "        numSet = set(nums)\n",
    "        length, longest = 0, 0\n",
    "        \n",
    "        for n in nums:\n",
    "            if (n-1) not in numSet:\n",
    "                length = 1\n",
    "                while (n+length) in numSet:\n",
    "                    length+=1\n",
    "            longest = max(length, longest)\n",
    "        return longest"
   ]
  },
  {
   "cell_type": "code",
   "execution_count": 303,
   "id": "7db9b599",
   "metadata": {},
   "outputs": [
    {
     "name": "stdout",
     "output_type": "stream",
     "text": [
      "4\n",
      "9\n",
      "0\n",
      "3\n"
     ]
    }
   ],
   "source": [
    "sol = Solution()\n",
    "print(sol.longestConsecutive(nums = [100,4,200,1,3,2]))\n",
    "print(sol.longestConsecutive(nums = [0,3,7,2,5,8,4,6,0,1]))\n",
    "print(sol.longestConsecutive(nums = []))\n",
    "print(sol.longestConsecutive(nums = [1,2,0,1]))"
   ]
  },
  {
   "cell_type": "code",
   "execution_count": null,
   "id": "37fda21d",
   "metadata": {},
   "outputs": [],
   "source": []
  },
  {
   "cell_type": "code",
   "execution_count": null,
   "id": "d27514c1",
   "metadata": {},
   "outputs": [],
   "source": []
  },
  {
   "cell_type": "code",
   "execution_count": null,
   "id": "30410350",
   "metadata": {},
   "outputs": [],
   "source": []
  }
 ],
 "metadata": {
  "kernelspec": {
   "display_name": "Python 3 (ipykernel)",
   "language": "python",
   "name": "python3"
  },
  "language_info": {
   "codemirror_mode": {
    "name": "ipython",
    "version": 3
   },
   "file_extension": ".py",
   "mimetype": "text/x-python",
   "name": "python",
   "nbconvert_exporter": "python",
   "pygments_lexer": "ipython3",
   "version": "3.9.13"
  }
 },
 "nbformat": 4,
 "nbformat_minor": 5
}
