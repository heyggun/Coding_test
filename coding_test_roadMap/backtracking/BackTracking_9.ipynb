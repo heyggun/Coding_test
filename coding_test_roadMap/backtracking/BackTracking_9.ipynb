{
 "cells": [
  {
   "attachments": {},
   "cell_type": "markdown",
   "id": "91f37544",
   "metadata": {},
   "source": [
    "# 1. Backtracking - 주어진 배열의 부분 집합 찾기\n",
    "\n",
    "78. Subsets\n",
    "\n",
    "https://leetcode.com/problems/subsets/description/\n",
    "\n",
    "    Given an integer array nums of unique elements, return all possible \n",
    "    subsets (the power set).\n",
    "\n",
    "    The solution set must not contain duplicate subsets. Return the solution in any order.\n",
    "\n",
    "\n",
    "\n",
    "    Example 1:\n",
    "    Input: nums = [1,2,3]\n",
    "    Output: [[],[1],[2],[1,2],[3],[1,3],[2,3],[1,2,3]]\n",
    "    \n",
    "    Example 2:\n",
    "    Input: nums = [0]\n",
    "    Output: [[],[0]]\n",
    " \n",
    "\n",
    "**Constraints**\n",
    "\n",
    "    1 <= nums.length <= 10\n",
    "    -10 <= nums[i] <= 10\n",
    "    All the numbers of nums are unique."
   ]
  },
  {
   "cell_type": "code",
   "execution_count": 5,
   "id": "5bfebb32",
   "metadata": {},
   "outputs": [],
   "source": [
    "class Solution:\n",
    "    def subsets(self, nums: list[int]) -> list[list[int]]:\n",
    "        \n",
    "        ans = []\n",
    "        subset = []\n",
    "        \n",
    "        def dfs(i):\n",
    "            if i >=len(nums):\n",
    "                ans.append(subset.copy())\n",
    "                return\n",
    "            \n",
    "            subset.append(nums[i])\n",
    "            dfs(i+1)\n",
    "            subset.pop()\n",
    "            dfs(i+1)\n",
    "            return ans\n",
    "        \n",
    "        return dfs(0)"
   ]
  },
  {
   "cell_type": "code",
   "execution_count": 6,
   "id": "1ce40ce1",
   "metadata": {},
   "outputs": [
    {
     "name": "stdout",
     "output_type": "stream",
     "text": [
      "[[1, 2, 3], [1, 2], [1, 3], [1], [2, 3], [2], [3], []]\n",
      "[[0], []]\n"
     ]
    }
   ],
   "source": [
    "sol = Solution()\n",
    "print(sol.subsets(nums = [1,2,3]))\n",
    "print(sol.subsets(nums = [0]))\n"
   ]
  },
  {
   "cell_type": "code",
   "execution_count": null,
   "id": "c979ddf2",
   "metadata": {},
   "outputs": [],
   "source": []
  },
  {
   "cell_type": "code",
   "execution_count": null,
   "id": "3b259884",
   "metadata": {},
   "outputs": [],
   "source": []
  },
  {
   "cell_type": "markdown",
   "id": "8e1a7160",
   "metadata": {},
   "source": [
    "# 2. "
   ]
  },
  {
   "cell_type": "code",
   "execution_count": null,
   "id": "9cecc43d",
   "metadata": {},
   "outputs": [],
   "source": []
  }
 ],
 "metadata": {
  "kernelspec": {
   "display_name": "Python 3 (ipykernel)",
   "language": "python",
   "name": "python3"
  },
  "language_info": {
   "codemirror_mode": {
    "name": "ipython",
    "version": 3
   },
   "file_extension": ".py",
   "mimetype": "text/x-python",
   "name": "python",
   "nbconvert_exporter": "python",
   "pygments_lexer": "ipython3",
   "version": "3.9.13"
  }
 },
 "nbformat": 4,
 "nbformat_minor": 5
}
