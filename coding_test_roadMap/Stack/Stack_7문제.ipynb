{
 "cells": [
  {
   "cell_type": "markdown",
   "id": "4c106fe3",
   "metadata": {},
   "source": [
    "# 1. 형식에 맞는 괄호 유무\n",
    "\n",
    "## Leetcode\n",
    "\n",
    "20. Valid Parentheses\n",
    "\n",
    "https://leetcode.com/problems/valid-parentheses/\n",
    "\n",
    "\n",
    "    Given a string s containing just the characters '(', ')', '{', '}', '[' and ']', determine if the input string is valid.\n",
    "\n",
    "    An input string is valid if:\n",
    "\n",
    "    Open brackets must be closed by the same type of brackets.\n",
    "    Open brackets must be closed in the correct order.\n",
    "    Every close bracket has a corresponding open bracket of the same type.\n",
    "\n",
    "\n",
    "    Example 1:\n",
    "    Input: s = \"()\"\n",
    "    Output: true\n",
    "    \n",
    "    Example 2:\n",
    "    Input: s = \"()[]{}\"\n",
    "    Output: true\n",
    "    \n",
    "    Example 3:\n",
    "    Input: s = \"(]\"\n",
    "    Output: false\n",
    "\n",
    "\n",
    "**Constraints**\n",
    "\n",
    "    1 <= s.length <= 104\n",
    "    s consists of parentheses only '()[]{}'."
   ]
  },
  {
   "cell_type": "code",
   "execution_count": 1,
   "id": "a8827e39",
   "metadata": {},
   "outputs": [],
   "source": [
    "class Solution:\n",
    "    def isValid(self, s: str) -> bool:\n",
    "        parDict = {')':'(', '}':'{', ']':'['}\n",
    "        stack = []\n",
    "\n",
    "        for c in s:\n",
    "            if not stack:\n",
    "                if c in parDict.values():\n",
    "                    stack.append(c)\n",
    "                    continue\n",
    "                else:\n",
    "                    return False\n",
    "        \n",
    "            if c in parDict.values():\n",
    "                stack.append(c)\n",
    "            else:\n",
    "                if stack[-1] == parDict[c]:\n",
    "                    stack.pop()\n",
    "                else:\n",
    "                    return False\n",
    "\n",
    "        return len(stack)==0"
   ]
  },
  {
   "cell_type": "code",
   "execution_count": 2,
   "id": "ed93596b",
   "metadata": {},
   "outputs": [
    {
     "name": "stdout",
     "output_type": "stream",
     "text": [
      "True\n",
      "True\n",
      "False\n"
     ]
    }
   ],
   "source": [
    "sol = Solution()\n",
    "print(sol.isValid(s = \"()\"))\n",
    "print(sol.isValid(s = \"()[]{}\"))\n",
    "print(sol.isValid(s = \"(]\"))"
   ]
  },
  {
   "cell_type": "code",
   "execution_count": 3,
   "id": "d2907d22",
   "metadata": {},
   "outputs": [],
   "source": [
    "class Solution:\n",
    "    def isValid(self, s: str) -> bool:\n",
    "        parDict = {')':'(', '}':'{', ']':'['}\n",
    "        stack = []\n",
    "        \n",
    "        for c in s:\n",
    "            if c in parDict:\n",
    "                if stack and stack[-1] == parDict[c]:\n",
    "                    stack.pop()\n",
    "                else:\n",
    "                    return False\n",
    "            else:\n",
    "                stack.append(c)\n",
    "                \n",
    "        return True if not stack else False"
   ]
  },
  {
   "cell_type": "code",
   "execution_count": 4,
   "id": "842b54e3",
   "metadata": {},
   "outputs": [
    {
     "name": "stdout",
     "output_type": "stream",
     "text": [
      "True\n",
      "True\n",
      "False\n"
     ]
    }
   ],
   "source": [
    "sol = Solution()\n",
    "print(sol.isValid(s = \"()\"))\n",
    "print(sol.isValid(s = \"()[]{}\"))\n",
    "print(sol.isValid(s = \"(]\"))"
   ]
  },
  {
   "cell_type": "code",
   "execution_count": null,
   "id": "4f857246",
   "metadata": {},
   "outputs": [],
   "source": []
  },
  {
   "cell_type": "code",
   "execution_count": null,
   "id": "2d94f65d",
   "metadata": {},
   "outputs": [],
   "source": []
  },
  {
   "cell_type": "markdown",
   "id": "92e2f449",
   "metadata": {},
   "source": [
    "# 2. Stack class 구현\n",
    "\n"
   ]
  },
  {
   "cell_type": "code",
   "execution_count": null,
   "id": "325acfa3",
   "metadata": {},
   "outputs": [],
   "source": []
  },
  {
   "cell_type": "code",
   "execution_count": null,
   "id": "af472a7a",
   "metadata": {},
   "outputs": [],
   "source": []
  },
  {
   "cell_type": "code",
   "execution_count": null,
   "id": "60f052a6",
   "metadata": {},
   "outputs": [],
   "source": []
  },
  {
   "cell_type": "code",
   "execution_count": null,
   "id": "fbda17d3",
   "metadata": {},
   "outputs": [],
   "source": []
  },
  {
   "attachments": {},
   "cell_type": "markdown",
   "id": "1fe63acb",
   "metadata": {},
   "source": [
    "# 3. 연산\n",
    "\n",
    "150. Evaluate Reverse Polish Notation\n",
    "\n",
    "https://leetcode.com/problems/evaluate-reverse-polish-notation/\n",
    "\n",
    "\n",
    "    You are given an array of strings tokens that represents an arithmetic expression in a Reverse Polish Notation.\n",
    "\n",
    "    Evaluate the expression. Return an integer that represents the value of the expression.\n",
    "\n",
    "    Note that:\n",
    "\n",
    "    The valid operators are '+', '-', '*', and '/'.\n",
    "    Each operand may be an integer or another expression.\n",
    "    The division between two integers always truncates toward zero.\n",
    "    There will not be any division by zero.\n",
    "    The input represents a valid arithmetic expression in a reverse polish notation.\n",
    "    The answer and all the intermediate calculations can be represented in a 32-bit integer.\n",
    "\n",
    "\n",
    "    Example 1:\n",
    "\n",
    "    Input: tokens = [\"2\",\"1\",\"+\",\"3\",\"*\"]\n",
    "    Output: 9\n",
    "    Explanation: ((2 + 1) * 3) = 9\n",
    "    \n",
    "    Example 2:\n",
    "    Input: tokens = [\"4\",\"13\",\"5\",\"/\",\"+\"]\n",
    "    Output: 6\n",
    "    Explanation: (4 + (13 / 5)) = 6\n",
    "    \n",
    "    Example 3:\n",
    "    Input: tokens = [\"10\",\"6\",\"9\",\"3\",\"+\",\"-11\",\"*\",\"/\",\"*\",\"17\",\"+\",\"5\",\"+\"]\n",
    "    Output: 22\n",
    "    Explanation: ((10 * (6 / ((9 + 3) * -11))) + 17) + 5\n",
    "    = ((10 * (6 / (12 * -11))) + 17) + 5\n",
    "    = ((10 * (6 / -132)) + 17) + 5\n",
    "    = ((10 * 0) + 17) + 5\n",
    "    = (0 + 17) + 5\n",
    "    = 17 + 5\n",
    "    = 22\n",
    " \n",
    "\n",
    "**Constraints**\n",
    "\n",
    "    1 <= tokens.length <= 10^4\n",
    "    tokens[i] is either an operator: \"+\", \"-\", \"*\", or \"/\", or an integer in the range [-200, 200].\n"
   ]
  },
  {
   "cell_type": "code",
   "execution_count": 5,
   "id": "f9a20163",
   "metadata": {},
   "outputs": [],
   "source": [
    "class Solution:\n",
    "    def evalRPN(self, tokens: list[str]) -> int:\n",
    "        stack = []\n",
    "        for token in tokens:\n",
    "            \n",
    "            if token == '+':\n",
    "                stack.append(stack.pop()+stack.pop())\n",
    "            elif token == '*':\n",
    "                stack.append(stack.pop()*stack.pop())\n",
    "            elif token =='-':\n",
    "                a,b = stack.pop(), stack.pop()\n",
    "                stack.append(b-a)\n",
    "            elif token =='/':\n",
    "                a,b = stack.pop(), stack.pop()\n",
    "                stack.append(int(b/a))\n",
    "            else:\n",
    "                stack.append(int(token))\n",
    "                \n",
    "        return stack[0]"
   ]
  },
  {
   "cell_type": "code",
   "execution_count": 6,
   "id": "cab2d755",
   "metadata": {},
   "outputs": [
    {
     "name": "stdout",
     "output_type": "stream",
     "text": [
      "9\n",
      "6\n",
      "22\n"
     ]
    }
   ],
   "source": [
    "sol = Solution()\n",
    "print(sol.evalRPN(tokens = [\"2\",\"1\",\"+\",\"3\",\"*\"]))\n",
    "print(sol.evalRPN(tokens = [\"4\",\"13\",\"5\",\"/\",\"+\"]))\n",
    "print(sol.evalRPN([\"10\",\"6\",\"9\",\"3\",\"+\",\"-11\",\"*\",\"/\",\"*\",\"17\",\"+\",\"5\",\"+\"]))"
   ]
  },
  {
   "cell_type": "code",
   "execution_count": null,
   "id": "1a637754",
   "metadata": {},
   "outputs": [],
   "source": []
  },
  {
   "cell_type": "markdown",
   "id": "3442f91b",
   "metadata": {},
   "source": [
    "# 4. 소괄호 생성\n",
    "\n",
    "22. Generate Parentheses\n",
    "\n",
    "https://leetcode.com/problems/generate-parentheses/\n",
    "\n",
    "    Given n pairs of parentheses, write a function to generate all combinations of well-formed parentheses.\n",
    "\n",
    "\n",
    "    Example 1:\n",
    "    Input: n = 3\n",
    "    Output: [\"((()))\",\"(()())\",\"(())()\",\"()(())\",\"()()()\"]\n",
    "    \n",
    "    Example 2:\n",
    "    Input: n = 1\n",
    "    Output: [\"()\"]\n",
    "\n",
    "\n",
    "**Constraints**\n",
    "\n",
    "    1 <= n <= 8"
   ]
  },
  {
   "cell_type": "code",
   "execution_count": 18,
   "id": "d6ca717d",
   "metadata": {},
   "outputs": [],
   "source": [
    "class Solution:\n",
    "    def generateParenthesis(self, n: int) -> list[str]:\n",
    "        stack = []\n",
    "        ans = []\n",
    "        \n",
    "        def backtracking(openN, closeN):\n",
    "            if openN == closeN == n:\n",
    "                ans.append(''.join(stack))\n",
    "                return\n",
    "            if openN < n:\n",
    "                stack.append('(')\n",
    "                backtracking(openN+1, closeN)\n",
    "                stack.pop()\n",
    "            if closeN < openN:\n",
    "                stack.append(')')\n",
    "                backtracking(openN, closeN+1)\n",
    "                stack.pop()\n",
    "            \n",
    "        backtracking(0,0)\n",
    "        return ans"
   ]
  },
  {
   "cell_type": "code",
   "execution_count": 19,
   "id": "540950d6",
   "metadata": {},
   "outputs": [
    {
     "name": "stdout",
     "output_type": "stream",
     "text": [
      "['((()))', '(()())', '(())()', '()(())', '()()()']\n",
      "['()']\n"
     ]
    }
   ],
   "source": [
    "sol = Solution()\n",
    "print(sol.generateParenthesis(n=3))\n",
    "print(sol.generateParenthesis(n=1))"
   ]
  },
  {
   "cell_type": "code",
   "execution_count": null,
   "id": "04195239",
   "metadata": {},
   "outputs": [],
   "source": []
  },
  {
   "cell_type": "code",
   "execution_count": null,
   "id": "7fde50c4",
   "metadata": {},
   "outputs": [],
   "source": []
  },
  {
   "cell_type": "markdown",
   "id": "b948fb66",
   "metadata": {},
   "source": [
    "# 5. 배열 원소 찾기\n",
    "\n",
    "739. Daily Temperatures\n",
    "\n",
    "https://leetcode.com/problems/daily-temperatures/description/\n",
    "\n",
    "    Given an array of integers temperatures represents the daily temperatures, return an array answer such that answer[i] is the number of days you have to wait after the ith day to get a warmer temperature. If there is no future day for which this is possible, keep answer[i] == 0 instead.\n",
    "\n",
    " \n",
    "\n",
    "    Example 1:\n",
    "    Input: temperatures = [73,74,75,71,69,72,76,73]\n",
    "    Output: [1,1,4,2,1,1,0,0]\n",
    "    \n",
    "    Example 2:\n",
    "    Input: temperatures = [30,40,50,60]\n",
    "    Output: [1,1,1,0]\n",
    "    \n",
    "    Example 3:\n",
    "    Input: temperatures = [30,60,90]\n",
    "    Output: [1,1,0]\n",
    "\n",
    "\n",
    "**Constraints**\n",
    "\n",
    "    1 <= temperatures.length <= 105\n",
    "    30 <= temperatures[i] <= 100"
   ]
  },
  {
   "cell_type": "code",
   "execution_count": 9,
   "id": "0689788b",
   "metadata": {},
   "outputs": [],
   "source": [
    "class Solution:\n",
    "    def dailyTemperatures(self, temperatures: list[int]) -> list[int]:\n",
    "        ans = [0] * len(temperatures)\n",
    "        stack = []\n",
    "        for i,t in enumerate(temperatures):\n",
    "            while stack and stack[-1][1] <t:\n",
    "                stackI, stackT = stack.pop()\n",
    "                ans[stackI] = i-stackI\n",
    "            stack.append([i,t])\n",
    "        return ans"
   ]
  },
  {
   "cell_type": "code",
   "execution_count": 10,
   "id": "aaeedaf8",
   "metadata": {},
   "outputs": [
    {
     "name": "stdout",
     "output_type": "stream",
     "text": [
      "[1, 1, 4, 2, 1, 1, 0, 0]\n",
      "[1, 1, 1, 0]\n",
      "[1, 1, 0]\n"
     ]
    }
   ],
   "source": [
    "sol = Solution()\n",
    "print(sol.dailyTemperatures(temperatures = [73,74,75,71,69,72,76,73]))\n",
    "print(sol.dailyTemperatures(temperatures = [30,40,50,60]))\n",
    "print(sol.dailyTemperatures(temperatures = [30,60,90]))"
   ]
  },
  {
   "cell_type": "code",
   "execution_count": null,
   "id": "80af457f",
   "metadata": {},
   "outputs": [],
   "source": []
  },
  {
   "cell_type": "markdown",
   "id": "7de9a124",
   "metadata": {},
   "source": [
    "# 6. 배열 연산\n",
    "\n",
    "## Leetcode 853. Car Fleet\n",
    "\n",
    "https://leetcode.com/problems/car-fleet/\n",
    "\n",
    "    There are n cars going to the same destination along a one-lane road. The destination is target miles away.\n",
    "\n",
    "    You are given two integer array position and speed, both of length n, where position[i] is the position of the ith car and speed[i] is the speed of the ith car (in miles per hour).\n",
    "\n",
    "    A car can never pass another car ahead of it, but it can catch up to it and drive bumper to bumper at the same speed. The faster car will slow down to match the slower car's speed. The distance between these two cars is ignored (i.e., they are assumed to have the same position).\n",
    "\n",
    "    A car fleet is some non-empty set of cars driving at the same position and same speed. Note that a single car is also a car fleet.\n",
    "\n",
    "    If a car catches up to a car fleet right at the destination point, it will still be considered as one car fleet.\n",
    "\n",
    "    Return the number of car fleets that will arrive at the destination.\n",
    "\n",
    " \n",
    "\n",
    "    Example 1:\n",
    "    Input: target = 12, position = [10,8,0,5,3], speed = [2,4,1,1,3]\n",
    "    Output: 3\n",
    "    Explanation:\n",
    "    The cars starting at 10 (speed 2) and 8 (speed 4) become a fleet, meeting each other at 12.\n",
    "    The car starting at 0 does not catch up to any other car, so it is a fleet by itself.\n",
    "    The cars starting at 5 (speed 1) and 3 (speed 3) become a fleet, meeting each other at 6. The fleet moves at speed 1 until it reaches target.\n",
    "    Note that no other cars meet these fleets before the destination, so the answer is 3.\n",
    "    Example 2:\n",
    "    Input: target = 10, position = [3], speed = [3]\n",
    "    Output: 1\n",
    "    Explanation: There is only one car, hence there is only one fleet.\n",
    "    \n",
    "    Example 3:\n",
    "    Input: target = 100, position = [0,2,4], speed = [4,2,1]\n",
    "    Output: 1\n",
    "    Explanation:\n",
    "    The cars starting at 0 (speed 4) and 2 (speed 2) become a fleet, meeting each other at 4. The fleet moves at speed 2.\n",
    "    Then, the fleet (speed 2) and the car starting at 4 (speed 1) become one fleet, meeting each other at 6. The fleet moves at speed 1 until it reaches target.\n",
    "\n",
    "\n",
    "**Constraints**\n",
    "\n",
    "    n == position.length == speed.length\n",
    "    1 <= n <= 10^5\n",
    "    0 < target <= 10^6\n",
    "    0 <= position[i] < target\n",
    "    All the values of position are unique.\n",
    "    0 < speed[i] <= 10^6"
   ]
  },
  {
   "cell_type": "code",
   "execution_count": 11,
   "id": "1a7a3c65",
   "metadata": {},
   "outputs": [],
   "source": [
    "class Solution:\n",
    "    def carFleet(self, target: int, position: list[int], speed: list[int]) -> int:\n",
    "        stack = []\n",
    "        cars = [[p,s]for p,s in zip(position, speed)]\n",
    "        \n",
    "        for p,s in sorted(cars)[::-1]:\n",
    "            stack.append((target-p)/s)\n",
    "            if len(stack)>=2 and stack[-1] <= stack[-2]:\n",
    "                stack.pop()\n",
    "        return len(stack)"
   ]
  },
  {
   "cell_type": "code",
   "execution_count": 12,
   "id": "f9837177",
   "metadata": {},
   "outputs": [
    {
     "name": "stdout",
     "output_type": "stream",
     "text": [
      "3\n",
      "1\n",
      "1\n"
     ]
    }
   ],
   "source": [
    "sol = Solution()\n",
    "print(sol.carFleet(target = 12, position = [10,8,0,5,3], speed = [2,4,1,1,3]))\n",
    "print(sol.carFleet(target = 10, position = [3], speed = [3]))\n",
    "print(sol.carFleet(target = 100, position = [0,2,4], speed = [4,2,1]))"
   ]
  },
  {
   "cell_type": "code",
   "execution_count": null,
   "id": "f4b3623c",
   "metadata": {},
   "outputs": [],
   "source": []
  },
  {
   "cell_type": "markdown",
   "id": "f19402cd",
   "metadata": {},
   "source": [
    "# 7. 배열 연산\n",
    "\n",
    "84. Largest Rectangle in Histogram\n",
    "\n",
    "https://leetcode.com/problems/largest-rectangle-in-histogram/description/\n",
    "\n",
    "    Given an array of integers heights representing the histogram's bar height where the width of each bar is 1, return the area of the largest rectangle in the histogram.\n",
    "\n",
    " \n",
    "\n",
    "    Example 1:\n",
    "    Input: heights = [2,1,5,6,2,3]\n",
    "    Output: 10\n",
    "    Explanation: The above is a histogram where width of each bar is 1.\n",
    "    The largest rectangle is shown in the red area, which has an area = 10 units.\n",
    "    \n",
    "    Example 2:\n",
    "    Input: heights = [2,4]\n",
    "    Output: 4\n",
    " \n",
    "\n",
    "**Constraints**\n",
    "\n",
    "    1 <= heights.length <= 10^5\n",
    "    0 <= heights[i] <= 10^4"
   ]
  },
  {
   "cell_type": "code",
   "execution_count": 20,
   "id": "08df7c11",
   "metadata": {},
   "outputs": [],
   "source": [
    "class Solution:\n",
    "    def largestRectangleArea(self, heights: list[int]) -> int:\n",
    "        maxArea = 0\n",
    "        stack = []\n",
    "        \n",
    "        for i,h in enumerate(heights):\n",
    "            start = i\n",
    "            while stack and stack[-1][1] > h:\n",
    "                stackI, stackH = stack.pop()\n",
    "                maxArea = max(maxArea, (i-stackI)*stackH)\n",
    "                start = stackI\n",
    "            stack.append([start, h])\n",
    "            \n",
    "        for i,h in stack:\n",
    "            maxArea = max(maxArea, (len(heights)-i)*h)\n",
    "        \n",
    "        return maxArea"
   ]
  },
  {
   "cell_type": "code",
   "execution_count": 21,
   "id": "c90144ef",
   "metadata": {},
   "outputs": [
    {
     "name": "stdout",
     "output_type": "stream",
     "text": [
      "10\n",
      "4\n"
     ]
    }
   ],
   "source": [
    "sol = Solution()\n",
    "print(sol.largestRectangleArea(heights = [2,1,5,6,2,3]))\n",
    "print(sol.largestRectangleArea(heights = [2,4]))"
   ]
  },
  {
   "cell_type": "code",
   "execution_count": null,
   "id": "a536818e",
   "metadata": {},
   "outputs": [],
   "source": []
  }
 ],
 "metadata": {
  "kernelspec": {
   "display_name": "Python 3 (ipykernel)",
   "language": "python",
   "name": "python3"
  },
  "language_info": {
   "codemirror_mode": {
    "name": "ipython",
    "version": 3
   },
   "file_extension": ".py",
   "mimetype": "text/x-python",
   "name": "python",
   "nbconvert_exporter": "python",
   "pygments_lexer": "ipython3",
   "version": "3.9.13"
  }
 },
 "nbformat": 4,
 "nbformat_minor": 5
}
