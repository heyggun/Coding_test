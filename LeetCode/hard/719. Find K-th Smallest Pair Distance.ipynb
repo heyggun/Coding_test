{
 "cells": [
  {
   "cell_type": "markdown",
   "metadata": {},
   "source": [
    "## Leetcode \n",
    "\n",
    "719. Find K-th Smallest Pair Distance\n",
    "\n",
    "https://leetcode.com/problems/find-k-th-smallest-pair-distance/\n",
    "\n",
    "**Description**\n",
    "\n",
    "    The distance of a pair of integers a and b is defined as the absolute difference between a and b.\n",
    "\n",
    "    Given an integer array nums and an integer k, return the kth smallest distance among all the pairs nums[i] and nums[j] where 0 <= i < j < nums.length.\n",
    "\n",
    "    \n",
    "\n",
    "    Example 1:\n",
    "    Input: nums = [1,3,1], k = 1\n",
    "    Output: 0\n",
    "    Explanation: Here are all the pairs:\n",
    "    (1,3) -> 2\n",
    "    (1,1) -> 0\n",
    "    (3,1) -> 2\n",
    "    Then the 1st smallest distance pair is (1,1), and its distance is 0.\n",
    "    \n",
    "    Example 2:\n",
    "    Input: nums = [1,1,1], k = 2\n",
    "    Output: 0\n",
    "    \n",
    "    Example 3:\n",
    "    Input: nums = [1,6,1], k = 3\n",
    "    Output: 5\n",
    "    \n",
    "\n",
    "**Constraints**\n",
    "\n",
    "    n == nums.length\n",
    "    2 <= n <= 10^4\n",
    "    0 <= nums[i] <= 10^6\n",
    "    1 <= k <= n * (n - 1) / 2"
   ]
  },
  {
   "cell_type": "code",
   "execution_count": 3,
   "metadata": {},
   "outputs": [],
   "source": [
    "from typing import List"
   ]
  },
  {
   "cell_type": "code",
   "execution_count": 12,
   "metadata": {},
   "outputs": [],
   "source": [
    "class Solution:\n",
    "    def countPair(self, nums, mid):\n",
    "        cnt, left = 0, 0\n",
    "        for right in range(len(nums)):\n",
    "            while nums[right] - nums[left] > mid:\n",
    "                left +=1\n",
    "                \n",
    "            cnt += right - left\n",
    "        return cnt\n",
    "        \n",
    "    def smallestDistancePair(self, nums: List[int], k: int) -> int:\n",
    "        nums.sort()\n",
    "        low = 0\n",
    "        high =  nums[-1] - nums[0]\n",
    "        \n",
    "        while low < high:\n",
    "            mid = (low+high) //2\n",
    "            if self.countPair(nums,mid) >=k:\n",
    "                high = mid\n",
    "            else:\n",
    "                low = mid+1\n",
    "                \n",
    "        return low\n",
    "\n"
   ]
  },
  {
   "cell_type": "code",
   "execution_count": 14,
   "metadata": {},
   "outputs": [
    {
     "name": "stdout",
     "output_type": "stream",
     "text": [
      "0\n",
      "0\n",
      "5\n"
     ]
    }
   ],
   "source": [
    "sol = Solution()\n",
    "print(sol.smallestDistancePair(nums = [1,3,1], k = 1))\n",
    "print(sol.smallestDistancePair(nums = [1,1,1], k = 2))\n",
    "print(sol.smallestDistancePair(nums = [1,6,1], k = 3))"
   ]
  },
  {
   "cell_type": "code",
   "execution_count": null,
   "metadata": {},
   "outputs": [],
   "source": []
  },
  {
   "cell_type": "code",
   "execution_count": null,
   "metadata": {},
   "outputs": [],
   "source": []
  }
 ],
 "metadata": {
  "kernelspec": {
   "display_name": "venv2",
   "language": "python",
   "name": "python3"
  },
  "language_info": {
   "codemirror_mode": {
    "name": "ipython",
    "version": 3
   },
   "file_extension": ".py",
   "mimetype": "text/x-python",
   "name": "python",
   "nbconvert_exporter": "python",
   "pygments_lexer": "ipython3",
   "version": "3.9.13"
  }
 },
 "nbformat": 4,
 "nbformat_minor": 2
}
