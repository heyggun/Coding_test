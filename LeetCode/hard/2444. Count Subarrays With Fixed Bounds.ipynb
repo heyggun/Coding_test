{
 "cells": [
  {
   "cell_type": "markdown",
   "metadata": {},
   "source": [
    "## Leetcode\n",
    "\n",
    "2444. Count Subarrays With Fixed Bounds\n",
    "\n",
    "**Description**\n",
    "\n",
    "    You are given an integer array nums and two integers minK and maxK.\n",
    "\n",
    "    A fixed-bound subarray of nums is a subarray that satisfies the following conditions:\n",
    "\n",
    "    The minimum value in the subarray is equal to minK.\n",
    "    The maximum value in the subarray is equal to maxK.\n",
    "    Return the number of fixed-bound subarrays.\n",
    "\n",
    "    A subarray is a contiguous part of an array.\n",
    "\n",
    "    \n",
    "\n",
    "    Example 1:\n",
    "    Input: nums = [1,3,5,2,7,5], minK = 1, maxK = 5\n",
    "    Output: 2\n",
    "    Explanation: The fixed-bound subarrays are [1,3,5] and [1,3,5,2].\n",
    "    \n",
    "    Example 2:\n",
    "    Input: nums = [1,1,1,1], minK = 1, maxK = 1\n",
    "    Output: 10\n",
    "    Explanation: Every subarray of nums is a fixed-bound subarray. There are 10 possible subarrays.\n",
    " \n",
    "\n",
    "**Constraints**\n",
    "\n",
    "    2 <= nums.length <= 10^5\n",
    "    1 <= nums[i], minK, maxK <= 10^6"
   ]
  },
  {
   "cell_type": "code",
   "execution_count": 1,
   "metadata": {},
   "outputs": [],
   "source": [
    "from typing import List"
   ]
  },
  {
   "cell_type": "code",
   "execution_count": 2,
   "metadata": {},
   "outputs": [],
   "source": [
    "class Solution:\n",
    "    def countSubarrays(self, nums: List[int], minK: int, maxK: int) -> int:\n",
    "        return\n",
    "        "
   ]
  },
  {
   "cell_type": "markdown",
   "metadata": {},
   "source": []
  },
  {
   "cell_type": "markdown",
   "metadata": {},
   "source": []
  },
  {
   "cell_type": "markdown",
   "metadata": {},
   "source": []
  }
 ],
 "metadata": {
  "kernelspec": {
   "display_name": "Python 3",
   "language": "python",
   "name": "python3"
  },
  "language_info": {
   "codemirror_mode": {
    "name": "ipython",
    "version": 3
   },
   "file_extension": ".py",
   "mimetype": "text/x-python",
   "name": "python",
   "nbconvert_exporter": "python",
   "pygments_lexer": "ipython3",
   "version": "3.9.6"
  },
  "orig_nbformat": 4
 },
 "nbformat": 4,
 "nbformat_minor": 2
}
