{
 "cells": [
  {
   "cell_type": "markdown",
   "id": "4874c190",
   "metadata": {},
   "source": [
    "# LeetCode\n",
    "\n",
    "295. Find Median from Data Stream\n",
    "\n",
    "https://leetcode.com/problems/find-median-from-data-stream/\n",
    "\n",
    "**Description**\n",
    "\n",
    "    The median is the middle value in an ordered integer list. If the size of the list is even, there is no middle value, and the median is the mean of the two middle values.\n",
    "\n",
    "    For example, for arr = [2,3,4], the median is 3.\n",
    "    For example, for arr = [2,3], the median is (2 + 3) / 2 = 2.5.\n",
    "    Implement the MedianFinder class:\n",
    "\n",
    "    MedianFinder() initializes the MedianFinder object.\n",
    "    void addNum(int num) adds the integer num from the data stream to the data structure.\n",
    "    double findMedian() returns the median of all elements so far. Answers within 10-5 of the actual answer will be accepted.\n",
    "\n",
    "**Example**\n",
    "\n",
    "    Example 1:\n",
    "\n",
    "    Input\n",
    "    [\"MedianFinder\", \"addNum\", \"addNum\", \"findMedian\", \"addNum\", \"findMedian\"]\n",
    "    [[], [1], [2], [], [3], []]\n",
    "    Output\n",
    "    [null, null, null, 1.5, null, 2.0]\n",
    "\n",
    "    Explanation\n",
    "    MedianFinder medianFinder = new MedianFinder();\n",
    "    medianFinder.addNum(1);    // arr = [1]\n",
    "    medianFinder.addNum(2);    // arr = [1, 2]\n",
    "    medianFinder.findMedian(); // return 1.5 (i.e., (1 + 2) / 2)\n",
    "    medianFinder.addNum(3);    // arr[1, 2, 3]\n",
    "    medianFinder.findMedian(); // return 2.0\n",
    " \n",
    "\n",
    "**Constraints**\n",
    "\n",
    "    -10^5 <= num <= 10^5\n",
    "    There will be at least one element in the data structure before calling findMedian.\n",
    "    At most 5 * 10^4 calls will be made to addNum and findMedian.\n",
    "\n",
    "\n",
    "    Follow up:\n",
    "\n",
    "    If all integer numbers from the stream are in the range [0, 100], how would you optimize your solution?\n",
    "    If 99% of all integer numbers from the stream are in the range [0, 100], how would you optimize your solution?\n"
   ]
  },
  {
   "cell_type": "code",
   "execution_count": 10,
   "id": "42175770",
   "metadata": {},
   "outputs": [],
   "source": [
    "import heapq\n",
    "\n",
    "class MedianFinder:\n",
    "\n",
    "    def __init__(self):\n",
    "        self.small, self.large = [], []\n",
    "\n",
    "    def addNum(self, num: int) -> None:\n",
    "        if self.large and num > self.large[0]:\n",
    "            heapq.heappush(self.large, num)\n",
    "        else:\n",
    "            heapq.heappush(self.small, -num)\n",
    "            \n",
    "        if len(self.large) > len(self.small)+1:\n",
    "            val = heapq.heappop(self.large)\n",
    "            heapq.heappush(self.small, -val)\n",
    "        \n",
    "        if len(self.small) > len(self.large)+1:\n",
    "            val = heapq.heappop(self.small)\n",
    "            heapq.heappush(self.large, -val)\n",
    "\n",
    "    def findMedian(self) -> float:\n",
    "        if len(self.large) > len(self.small):\n",
    "            return self.large[0]\n",
    "        elif len(self.small) > len(self.large):\n",
    "            return -1 * self.small[0]\n",
    "        else:\n",
    "            return (-1 * self.small[0] + self.large[0]) / 2        \n",
    "                              "
   ]
  },
  {
   "cell_type": "code",
   "execution_count": 11,
   "id": "3f1159de",
   "metadata": {},
   "outputs": [
    {
     "name": "stdout",
     "output_type": "stream",
     "text": [
      "1.5\n",
      "2\n"
     ]
    }
   ],
   "source": [
    "medianFinder = MedianFinder()\n",
    "medianFinder.addNum(1)\n",
    "medianFinder.addNum(2)\n",
    "print(medianFinder.findMedian())\n",
    "medianFinder.addNum(3)\n",
    "print(medianFinder.findMedian())"
   ]
  },
  {
   "attachments": {
    "image.png": {
     "image/png": "[encoded data removed]"
    }
   },
   "cell_type": "markdown",
   "id": "f7c03e51",
   "metadata": {},
   "source": [
    "![image.png](attachment:image.png)"
   ]
  },
  {
   "cell_type": "code",
   "execution_count": null,
   "id": "b5cb0e93",
   "metadata": {},
   "outputs": [],
   "source": []
  }
 ],
 "metadata": {
  "kernelspec": {
   "display_name": "Python 3 (ipykernel)",
   "language": "python",
   "name": "python3"
  },
  "language_info": {
   "codemirror_mode": {
    "name": "ipython",
    "version": 3
   },
   "file_extension": ".py",
   "mimetype": "text/x-python",
   "name": "python",
   "nbconvert_exporter": "python",
   "pygments_lexer": "ipython3",
   "version": "3.9.12"
  }
 },
 "nbformat": 4,
 "nbformat_minor": 5
}
