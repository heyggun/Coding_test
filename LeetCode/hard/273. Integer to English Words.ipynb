{
 "cells": [
  {
   "cell_type": "markdown",
   "metadata": {},
   "source": [
    "## Leetcode\n",
    "\n",
    "273. Integer to English Words\n",
    "\n",
    "https://leetcode.com/problems/integer-to-english-words/\n",
    "\n",
    "**Description**\n",
    "\n",
    "        Convert a non-negative integer num to its English words representation.\n",
    "\n",
    "        \n",
    "\n",
    "        Example 1:\n",
    "\n",
    "        Input: num = 123\n",
    "        Output: \"One Hundred Twenty Three\"\n",
    "        Example 2:\n",
    "\n",
    "        Input: num = 12345\n",
    "        Output: \"Twelve Thousand Three Hundred Forty Five\"\n",
    "        Example 3:\n",
    "\n",
    "        Input: num = 1234567\n",
    "        Output: \"One Million Two Hundred Thirty Four Thousand Five Hundred Sixty Seven\"\n",
    "    \n",
    "\n",
    "**Constraints**\n",
    "\n",
    "    0 <= num <= 2^31 - 1"
   ]
  },
  {
   "cell_type": "code",
   "execution_count": 1,
   "metadata": {},
   "outputs": [],
   "source": [
    "class Solution:\n",
    "    def numberToWords(self, num: int) -> str:\n",
    "        number_to_words_map = {\n",
    "            1000000000: \"Billion\", 1000000: \"Million\", 1000: \"Thousand\",\n",
    "            100: \"Hundred\", 90: \"Ninety\", 80: \"Eighty\", 70: \"Seventy\",\n",
    "            60: \"Sixty\", 50: \"Fifty\", 40: \"Forty\", 30: \"Thirty\",\n",
    "            20: \"Twenty\", 19: \"Nineteen\", 18: \"Eighteen\", 17: \"Seventeen\",\n",
    "            16: \"Sixteen\", 15: \"Fifteen\", 14: \"Fourteen\", 13: \"Thirteen\",\n",
    "            12: \"Twelve\", 11: \"Eleven\", 10: \"Ten\", 9: \"Nine\", 8: \"Eight\",\n",
    "            7: \"Seven\", 6: \"Six\", 5: \"Five\", 4: \"Four\", 3: \"Three\",\n",
    "            2: \"Two\", 1: \"One\"\n",
    "        }\n",
    "\n",
    "        if num == 0:\n",
    "            return \"Zero\"\n",
    "\n",
    "        for value, word in number_to_words_map.items():\n",
    "            if num >= value:\n",
    "                prefix = (self.numberToWords(num // value) + \" \") if num >= 100 else \"\"\n",
    "                unit = word\n",
    "                suffix = \"\" if num % value == 0 else \" \" + self.numberToWords(num % value)\n",
    "\n",
    "                return prefix + unit + suffix\n",
    "\n",
    "        return \"\"\n",
    "        "
   ]
  },
  {
   "cell_type": "markdown",
   "metadata": {},
   "source": []
  },
  {
   "cell_type": "markdown",
   "metadata": {},
   "source": []
  }
 ],
 "metadata": {
  "kernelspec": {
   "display_name": "venv",
   "language": "python",
   "name": "python3"
  },
  "language_info": {
   "codemirror_mode": {
    "name": "ipython",
    "version": 3
   },
   "file_extension": ".py",
   "mimetype": "text/x-python",
   "name": "python",
   "nbconvert_exporter": "python",
   "pygments_lexer": "ipython3",
   "version": "3.9.13"
  }
 },
 "nbformat": 4,
 "nbformat_minor": 2
}
