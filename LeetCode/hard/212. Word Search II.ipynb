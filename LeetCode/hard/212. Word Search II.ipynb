{
 "cells": [
  {
   "cell_type": "markdown",
   "id": "caea751e",
   "metadata": {},
   "source": [
    "# Leetcode \n",
    "\n",
    "212. Word Search II\n",
    "\n",
    "https://leetcode.com/problems/word-search-ii/description/\n",
    "\n",
    "\n",
    "**Description**\n",
    "\n",
    "    Given an m x n board of characters and a list of strings words, return all words on the board.\n",
    "\n",
    "    Each word must be constructed from letters of sequentially adjacent cells, where adjacent cells are horizontally or vertically neighboring. The same letter cell may not be used more than once in a word.\n",
    "\n",
    "\n",
    "**Examples**\n",
    "\n",
    "    Example 1:\n",
    "\n",
    "\n",
    "    Input: board = [[\"o\",\"a\",\"a\",\"n\"],[\"e\",\"t\",\"a\",\"e\"],[\"i\",\"h\",\"k\",\"r\"],[\"i\",\"f\",\"l\",\"v\"]], words = [\"oath\",\"pea\",\"eat\",\"rain\"]\n",
    "    Output: [\"eat\",\"oath\"]\n",
    "    Example 2:\n",
    "\n",
    "\n",
    "    Input: board = [[\"a\",\"b\"],[\"c\",\"d\"]], words = [\"abcb\"]\n",
    "    Output: []\n",
    "\n",
    "\n",
    "**Constraints**\n",
    "\n",
    "    m == board.length\n",
    "    n == board[i].length\n",
    "    1 <= m, n <= 12\n",
    "    board[i][j] is a lowercase English letter.\n",
    "    1 <= words.length <= 3 * 10^4\n",
    "    1 <= words[i].length <= 10\n",
    "    words[i] consists of lowercase English letters.\n",
    "    All the strings of words are unique"
   ]
  },
  {
   "cell_type": "code",
   "execution_count": 1,
   "id": "ddcbdf62",
   "metadata": {},
   "outputs": [],
   "source": []
  },
  {
   "cell_type": "code",
   "execution_count": 29,
   "id": "72123ec7",
   "metadata": {},
   "outputs": [],
   "source": [
    "class TrieNode:\n",
    "    def __init__(self):\n",
    "        self.children = {}\n",
    "        self.isWord = False\n",
    "        self.refs = 0\n",
    "    \n",
    "    def addWord(self, word):\n",
    "        root = self\n",
    "        root.refs +=1\n",
    "        for w in word:\n",
    "            if w not in root.children:\n",
    "                root.children[w] = TrieNode()\n",
    "            root = root.children[w]\n",
    "            root.refs +=1\n",
    "        root.isWord = True\n",
    "    \n",
    "    def removeWord(self, word):\n",
    "        root = self\n",
    "        root.refs -=1\n",
    "        for w in word:\n",
    "            if w in root.children:\n",
    "                root = root.children[w]\n",
    "                root.refs -=1\n",
    "\n",
    "class Solution:\n",
    "    def findWords(self, board:list[list[str]], words: list[str]) -> list[str]:\n",
    "        root = TrieNode()\n",
    "        for w in words:\n",
    "            root.addWord(w)\n",
    "\n",
    "        COLS, ROWS = len(board[0]), len(board)\n",
    "        answer, visited = set(), set()\n",
    "\n",
    "        def dfs(r, c, node, word):\n",
    "            if (r<0 or c<0 or r==ROWS or c==COLS or (r,c) in visited or board[r][c] not in node.children or node.children[board[r][c]].refs <1):\n",
    "                return False\n",
    "\n",
    "            visited.add((r,c))\n",
    "            node = node.children[board[r][c]]\n",
    "            word += board[r][c]\n",
    "            if node.isWord:\n",
    "                node.isWord = False\n",
    "                answer.add((word))\n",
    "                root.removeWord(word)\n",
    "                     \n",
    "            dfs(r-1, c, node, word)\n",
    "            dfs(r+1, c, node, word)\n",
    "            dfs(r, c-1, node, word)\n",
    "            dfs(r, c+1, node, word)\n",
    "            visited.remove((r,c))\n",
    "\n",
    "        for row in range(ROWS):\n",
    "            for col in range(COLS):\n",
    "                dfs(row, col, root, '')\n",
    "\n",
    "        return list(answer)\n",
    "        "
   ]
  },
  {
   "cell_type": "code",
   "execution_count": 31,
   "id": "64da0b33",
   "metadata": {},
   "outputs": [
    {
     "data": {
      "text/plain": [
       "['oath', 'eat']"
      ]
     },
     "execution_count": 31,
     "metadata": {},
     "output_type": "execute_result"
    }
   ],
   "source": [
    "sol = Solution()\n",
    "sol.findWords(board = [[\"o\",\"a\",\"a\",\"n\"],[\"e\",\"t\",\"a\",\"e\"],[\"i\",\"h\",\"k\",\"r\"],[\"i\",\"f\",\"l\",\"v\"]], words = [\"oath\",\"pea\",\"eat\",\"rain\"])"
   ]
  },
  {
   "attachments": {
    "image.png": {
     "image/png": "[encoded data removed]"
    }
   },
   "cell_type": "markdown",
   "id": "4e7aaac4",
   "metadata": {},
   "source": [
    "![image.png](attachment:image.png)"
   ]
  },
  {
   "cell_type": "code",
   "execution_count": null,
   "id": "7e09ca6b",
   "metadata": {},
   "outputs": [],
   "source": []
  }
 ],
 "metadata": {
  "kernelspec": {
   "display_name": "Python 3 (ipykernel)",
   "language": "python",
   "name": "python3"
  },
  "language_info": {
   "codemirror_mode": {
    "name": "ipython",
    "version": 3
   },
   "file_extension": ".py",
   "mimetype": "text/x-python",
   "name": "python",
   "nbconvert_exporter": "python",
   "pygments_lexer": "ipython3",
   "version": "3.9.12"
  }
 },
 "nbformat": 4,
 "nbformat_minor": 5
}
