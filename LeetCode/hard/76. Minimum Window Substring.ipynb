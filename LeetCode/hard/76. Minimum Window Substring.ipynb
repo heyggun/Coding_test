{
 "cells": [
  {
   "cell_type": "markdown",
   "metadata": {},
   "source": [
    "## Leetcode\n",
    "\n",
    "76. Minimum Window Substring\n",
    "\n",
    "https://leetcode.com/problems/minimum-window-substring/description/?envType=daily-question&envId=2024-02-04\n",
    "\n",
    "**Description**\n",
    "\n",
    "    Given two strings s and t of lengths m and n respectively, return the minimum window \n",
    "    substring\n",
    "    of s such that every character in t (including duplicates) is included in the window. If there is no such substring, return the empty string \"\".\n",
    "\n",
    "    The testcases will be generated such that the answer is unique.\n",
    "\n",
    "    \n",
    "\n",
    "    Example 1:\n",
    "\n",
    "    Input: s = \"ADOBECODEBANC\", t = \"ABC\"\n",
    "    Output: \"BANC\"\n",
    "    Explanation: The minimum window substring \"BANC\" includes 'A', 'B', and 'C' from string t.\n",
    "    Example 2:\n",
    "\n",
    "    Input: s = \"a\", t = \"a\"\n",
    "    Output: \"a\"\n",
    "    Explanation: The entire string s is the minimum window.\n",
    "    Example 3:\n",
    "\n",
    "    Input: s = \"a\", t = \"aa\"\n",
    "    Output: \"\"\n",
    "    Explanation: Both 'a's from t must be included in the window.\n",
    "    Since the largest window of s only has one 'a', return empty string.\n",
    "    \n",
    "\n",
    "**Constraints**\n",
    "\n",
    "    m == s.length\n",
    "    n == t.length\n",
    "    1 <= m, n <= 10^5\n",
    "    s and t consist of uppercase and lowercase English letters.\n",
    "    \n",
    "\n",
    "    Follow up: Could you find an algorithm that runs in O(m + n) time?"
   ]
  },
  {
   "cell_type": "code",
   "execution_count": 3,
   "metadata": {},
   "outputs": [],
   "source": [
    "from collections import Counter\n",
    "\n",
    "class Solution:\n",
    "    def minWindow(self, s: str, t: str) -> str:\n",
    "        target_count = Counter(t)\n",
    "        required_chars = len(target_count)\n",
    "        left = right = 0\n",
    "        formed_chars = 0\n",
    "        window_counts = {}\n",
    "        ans = float(\"inf\"), None, None\n",
    "        \n",
    "        while right < len(s):\n",
    "            char = s[right]\n",
    "            window_counts[char] = window_counts.get(char, 0) + 1\n",
    "            if char in target_count and window_counts[char] == target_count[char]:\n",
    "                formed_chars += 1\n",
    "            while left <= right and formed_chars == required_chars:\n",
    "                char = s[left]\n",
    "                if right - left + 1 < ans[0]:\n",
    "                    ans = (right - left + 1, left, right)\n",
    "                window_counts[char] -= 1\n",
    "                if char in target_count and window_counts[char] < target_count[char]:\n",
    "                    formed_chars -= 1\n",
    "                left += 1\n",
    "            right += 1\n",
    "        \n",
    "        return \"\" if ans[0] == float(\"inf\") else s[ans[1]:ans[2] + 1]"
   ]
  },
  {
   "cell_type": "code",
   "execution_count": 4,
   "metadata": {},
   "outputs": [
    {
     "name": "stdout",
     "output_type": "stream",
     "text": [
      "BANC\n",
      "a\n",
      "\n"
     ]
    }
   ],
   "source": [
    "sol = Solution()\n",
    "print(sol.minWindow(s = \"ADOBECODEBANC\", t = \"ABC\"))\n",
    "print(sol.minWindow(s = \"a\", t = \"a\"))\n",
    "print(sol.minWindow(s = \"a\", t = \"aa\"))"
   ]
  },
  {
   "cell_type": "code",
   "execution_count": null,
   "metadata": {},
   "outputs": [],
   "source": []
  }
 ],
 "metadata": {
  "kernelspec": {
   "display_name": "Python 3",
   "language": "python",
   "name": "python3"
  },
  "language_info": {
   "codemirror_mode": {
    "name": "ipython",
    "version": 3
   },
   "file_extension": ".py",
   "mimetype": "text/x-python",
   "name": "python",
   "nbconvert_exporter": "python",
   "pygments_lexer": "ipython3",
   "version": "3.9.6"
  },
  "orig_nbformat": 4
 },
 "nbformat": 4,
 "nbformat_minor": 2
}
