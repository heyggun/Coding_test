{
 "cells": [
  {
   "cell_type": "markdown",
   "metadata": {},
   "source": [
    "## Leetcode\n",
    "\n",
    "58. Length of Last Word\n",
    "\n",
    "https://leetcode.com/problems/length-of-last-word/\n",
    "\n",
    "**Descriptions**\n",
    "\n",
    "    Given a string s consisting of words and spaces, return the length of the last word in the string.\n",
    "\n",
    "    A word is a maximal substring consisting of non-space characters only.\n",
    "\n",
    " \n",
    "\n",
    "    Example 1:\n",
    "    Input: s = \"Hello World\"\n",
    "    Output: 5\n",
    "    Explanation: The last word is \"World\" with length 5.\n",
    "    \n",
    "    Example 2:\n",
    "    Input: s = \"   fly me   to   the moon  \"\n",
    "    Output: 4\n",
    "    Explanation: The last word is \"moon\" with length 4.\n",
    "    \n",
    "    Example 3:\n",
    "    Input: s = \"luffy is still joyboy\"\n",
    "    Output: 6\n",
    "    Explanation: The last word is \"joyboy\" with length 6.\n",
    "    \n",
    "\n",
    "**Constraints**\n",
    "\n",
    "    1 <= s.length <= 10^4\n",
    "    s consists of only English letters and spaces ' '.\n",
    "    There will be at least one word in s."
   ]
  },
  {
   "cell_type": "code",
   "execution_count": 1,
   "metadata": {},
   "outputs": [],
   "source": [
    "class Solution:\n",
    "    def lengthOfLastWord(self, s: str) -> int:\n",
    "        return len(s.strip().split()[-1])"
   ]
  },
  {
   "cell_type": "code",
   "execution_count": 3,
   "metadata": {},
   "outputs": [
    {
     "name": "stdout",
     "output_type": "stream",
     "text": [
      "5\n"
     ]
    }
   ],
   "source": [
    "sol = Solution()\n"
   ]
  },
  {
   "cell_type": "code",
   "execution_count": 7,
   "metadata": {},
   "outputs": [
    {
     "name": "stdout",
     "output_type": "stream",
     "text": [
      "5\n"
     ]
    }
   ],
   "source": [
    "print(sol.lengthOfLastWord(s = \"Hello World\"))"
   ]
  },
  {
   "cell_type": "code",
   "execution_count": 6,
   "metadata": {},
   "outputs": [
    {
     "name": "stdout",
     "output_type": "stream",
     "text": [
      "4\n"
     ]
    }
   ],
   "source": [
    "print(sol.lengthOfLastWord(s = \"   fly me   to   the moon  \"))"
   ]
  },
  {
   "cell_type": "code",
   "execution_count": 5,
   "metadata": {},
   "outputs": [
    {
     "name": "stdout",
     "output_type": "stream",
     "text": [
      "6\n"
     ]
    }
   ],
   "source": [
    "print(sol.lengthOfLastWord(s = \"luffy is still joyboy\"))"
   ]
  },
  {
   "cell_type": "code",
   "execution_count": null,
   "metadata": {},
   "outputs": [],
   "source": []
  }
 ],
 "metadata": {
  "kernelspec": {
   "display_name": "Python 3",
   "language": "python",
   "name": "python3"
  },
  "language_info": {
   "codemirror_mode": {
    "name": "ipython",
    "version": 3
   },
   "file_extension": ".py",
   "mimetype": "text/x-python",
   "name": "python",
   "nbconvert_exporter": "python",
   "pygments_lexer": "ipython3",
   "version": "3.9.6"
  },
  "orig_nbformat": 4
 },
 "nbformat": 4,
 "nbformat_minor": 2
}
