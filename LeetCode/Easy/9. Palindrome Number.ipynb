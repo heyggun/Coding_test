{
 "cells": [
  {
   "cell_type": "markdown",
   "id": "f29e66d5",
   "metadata": {},
   "source": [
    "# LeetCode\n",
    "\n",
    "## 9. Palindrome Number\n",
    "\n",
    "https://leetcode.com/problems/palindrome-number/"
   ]
  },
  {
   "cell_type": "markdown",
   "id": "7ca8d707",
   "metadata": {},
   "source": [
    "**Description**\n",
    "\n",
    "    Given an integer x, return true if x is a palindrome, and false otherwise.\n",
    "    \n",
    "    \n",
    "**Examples**\n",
    "\n",
    "    Example 1:\n",
    "    Input: x = 121\n",
    "    Output: true\n",
    "    Explanation: 121 reads as 121 from left to right and from right to left.\n",
    "    \n",
    "    Example 2:\n",
    "    Input: x = -121\n",
    "    Output: false\n",
    "    Explanation: From left to right, it reads -121. From right to left, it becomes 121-. Therefore it is not a palindrome.\n",
    "    \n",
    "    Example 3:\n",
    "    Input: x = 10\n",
    "    Output: false\n",
    "    Explanation: Reads 01 from right to left. Therefore it is not a palindrome.\n",
    "\n",
    "**Constraints**\n",
    "\n",
    "    -2^31 <= x <= 2^31 - 1"
   ]
  },
  {
   "cell_type": "code",
   "execution_count": 31,
   "id": "1bf66254",
   "metadata": {},
   "outputs": [],
   "source": [
    "class Solution:\n",
    "    def isPalindrome(self, x: int):\n",
    "        return str(x) == str(x)[::-1]"
   ]
  },
  {
   "cell_type": "code",
   "execution_count": 32,
   "id": "70c766f2",
   "metadata": {},
   "outputs": [
    {
     "name": "stdout",
     "output_type": "stream",
     "text": [
      "True\n",
      "False\n",
      "False\n"
     ]
    }
   ],
   "source": [
    "sol = Solution()\n",
    "print(sol.isPalindrome(121))\n",
    "print(sol.isPalindrome(-121))\n",
    "print(sol.isPalindrome(10))"
   ]
  },
  {
   "cell_type": "code",
   "execution_count": 33,
   "id": "ecf31d0a",
   "metadata": {},
   "outputs": [
    {
     "data": {
      "text/plain": [
       "False"
      ]
     },
     "execution_count": 33,
     "metadata": {},
     "output_type": "execute_result"
    }
   ],
   "source": [
    "x= -121\n",
    "\n",
    "str(x) == str(x)[::-1]"
   ]
  },
  {
   "attachments": {
    "image.png": {
     "image/png": "[encoded data removed]"
    }
   },
   "cell_type": "markdown",
   "id": "86c1d5cd",
   "metadata": {},
   "source": [
    "![image.png](attachment:image.png)"
   ]
  },
  {
   "cell_type": "code",
   "execution_count": null,
   "id": "dc17c4c3",
   "metadata": {},
   "outputs": [],
   "source": []
  },
  {
   "cell_type": "code",
   "execution_count": null,
   "id": "97baedfb",
   "metadata": {},
   "outputs": [],
   "source": []
  }
 ],
 "metadata": {
  "kernelspec": {
   "display_name": "Python 3 (ipykernel)",
   "language": "python",
   "name": "python3"
  },
  "language_info": {
   "codemirror_mode": {
    "name": "ipython",
    "version": 3
   },
   "file_extension": ".py",
   "mimetype": "text/x-python",
   "name": "python",
   "nbconvert_exporter": "python",
   "pygments_lexer": "ipython3",
   "version": "3.9.12"
  }
 },
 "nbformat": 4,
 "nbformat_minor": 5
}
