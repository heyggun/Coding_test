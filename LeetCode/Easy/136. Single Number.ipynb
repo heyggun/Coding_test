{
 "cells": [
  {
   "cell_type": "markdown",
   "id": "7427db13",
   "metadata": {},
   "source": [
    "## LeetCode\n",
    "\n",
    "136. Single Number\n",
    "\n",
    "https://leetcode.com/problems/single-number/description/\n",
    "\n",
    "\n",
    "**Description**\n",
    "\n",
    "    Given a non-empty array of integers nums, every element appears twice except for one. Find that single one.\n",
    "    You must implement a solution with a linear runtime complexity and use only constant extra space.\n",
    "\n",
    "**Examples**\n",
    "\n",
    "    Example 1:\n",
    "    Input: nums = [2,2,1]\n",
    "    Output: 1\n",
    "    \n",
    "    Example 2:\n",
    "    Input: nums = [4,1,2,1,2]\n",
    "    Output: 4\n",
    "    \n",
    "    Example 3:\n",
    "    Input: nums = [1]\n",
    "    Output: 1\n",
    " \n",
    "\n",
    "**Constraints**\n",
    "\n",
    "    1 <= nums.length <= 3 * 10^4\n",
    "    -3 * 10^4 <= nums[i] <= 3 * 10^4\n",
    "    Each element in the array appears twice except for one element which appears only once."
   ]
  },
  {
   "cell_type": "code",
   "execution_count": 11,
   "id": "3edf25d1",
   "metadata": {},
   "outputs": [],
   "source": [
    "from collections import Counter\n",
    "\n",
    "class Solution:\n",
    "    def singleNumber(self, nums: list[int]) -> int:\n",
    "        for k,v in dict(Counter(nums)).items():\n",
    "            if v==1:\n",
    "                return k\n",
    "        return None"
   ]
  },
  {
   "cell_type": "code",
   "execution_count": 12,
   "id": "84b8e971",
   "metadata": {},
   "outputs": [
    {
     "name": "stdout",
     "output_type": "stream",
     "text": [
      "1\n",
      "4\n",
      "1\n"
     ]
    }
   ],
   "source": [
    "sol = Solution()\n",
    "print(sol.singleNumber([2,2,1]))\n",
    "print(sol.singleNumber([4,1,2,1,2]))\n",
    "print(sol.singleNumber([1]))"
   ]
  },
  {
   "cell_type": "code",
   "execution_count": null,
   "id": "8b2263e8",
   "metadata": {},
   "outputs": [],
   "source": [
    "\n"
   ]
  },
  {
   "cell_type": "code",
   "execution_count": null,
   "id": "540eacf6",
   "metadata": {},
   "outputs": [],
   "source": []
  },
  {
   "cell_type": "markdown",
   "id": "82fe796f",
   "metadata": {},
   "source": [
    "**다른 새럼 풀이**"
   ]
  },
  {
   "cell_type": "code",
   "execution_count": 15,
   "id": "482d98df",
   "metadata": {},
   "outputs": [],
   "source": [
    "class Solution:\n",
    "    def singleNumber(self, nums: list[int]) -> int:\n",
    "        xor = 0\n",
    "        for num in nums:\n",
    "            xor^=num\n",
    "        \n",
    "        return xor\n",
    "        "
   ]
  },
  {
   "cell_type": "code",
   "execution_count": 16,
   "id": "a9694550",
   "metadata": {},
   "outputs": [
    {
     "name": "stdout",
     "output_type": "stream",
     "text": [
      "1\n",
      "4\n",
      "1\n"
     ]
    }
   ],
   "source": [
    "sol = Solution()\n",
    "print(sol.singleNumber([2,2,1]))\n",
    "print(sol.singleNumber([4,1,2,1,2]))\n",
    "print(sol.singleNumber([1]))"
   ]
  },
  {
   "attachments": {
    "image.png": {
     "image/png": "[encoded data removed]"
    }
   },
   "cell_type": "markdown",
   "id": "c33e3c5a",
   "metadata": {},
   "source": [
    "![image.png](attachment:image.png)"
   ]
  },
  {
   "cell_type": "code",
   "execution_count": null,
   "id": "fc170620",
   "metadata": {},
   "outputs": [],
   "source": []
  }
 ],
 "metadata": {
  "kernelspec": {
   "display_name": "Python 3 (ipykernel)",
   "language": "python",
   "name": "python3"
  },
  "language_info": {
   "codemirror_mode": {
    "name": "ipython",
    "version": 3
   },
   "file_extension": ".py",
   "mimetype": "text/x-python",
   "name": "python",
   "nbconvert_exporter": "python",
   "pygments_lexer": "ipython3",
   "version": "3.9.12"
  }
 },
 "nbformat": 4,
 "nbformat_minor": 5
}
