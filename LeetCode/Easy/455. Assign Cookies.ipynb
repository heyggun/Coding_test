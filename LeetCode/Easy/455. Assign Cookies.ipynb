{
 "cells": [
  {
   "cell_type": "markdown",
   "id": "6bd4d424-1c3b-4491-8f46-55ae871a7958",
   "metadata": {},
   "source": [
    "## 455. Assign Cookies\n"
   ]
  },
  {
   "cell_type": "code",
   "execution_count": 2,
   "id": "009db10e-c84a-45da-9270-84b0b6cbb6a2",
   "metadata": {},
   "outputs": [],
   "source": [
    "from bisect import bisect_right\n",
    "\n",
    "class Solution:\n",
    "    def findContentChildren(self, g: list, s: list) -> int:\n",
    "        g.sort()\n",
    "        s.sort()\n",
    "    \n",
    "        ans = 0\n",
    "        for i in s:\n",
    "            idx = bisect_right(g, i)\n",
    "            if idx > ans:\n",
    "                ans += 1\n",
    "        return ans\n",
    "            "
   ]
  },
  {
   "cell_type": "code",
   "execution_count": null,
   "id": "5dc27929-049c-479f-a158-289e378e71ea",
   "metadata": {},
   "outputs": [],
   "source": []
  }
 ],
 "metadata": {
  "kernelspec": {
   "display_name": "Python 3 (ipykernel)",
   "language": "python",
   "name": "python3"
  },
  "language_info": {
   "codemirror_mode": {
    "name": "ipython",
    "version": 3
   },
   "file_extension": ".py",
   "mimetype": "text/x-python",
   "name": "python",
   "nbconvert_exporter": "python",
   "pygments_lexer": "ipython3",
   "version": "3.11.6"
  }
 },
 "nbformat": 4,
 "nbformat_minor": 5
}
