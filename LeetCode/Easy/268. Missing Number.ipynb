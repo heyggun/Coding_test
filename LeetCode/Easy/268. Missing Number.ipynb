{
 "cells": [
  {
   "cell_type": "markdown",
   "id": "7528480f",
   "metadata": {},
   "source": [
    "# LeetCode\n",
    "\n",
    "## 268. Missing Number\n",
    "\n",
    "https://leetcode.com/problems/missing-number/description/\n",
    "\n",
    "**Description**\n",
    "\n",
    "    Given an array nums containing n distinct numbers in the range [0, n], return the only number in the range that is missing from the array.\n",
    "\n",
    " \n",
    "**Examples**\n",
    "\n",
    "    Example 1:\n",
    "    Input: nums = [3,0,1]\n",
    "    Output: 2\n",
    "    Explanation: n = 3 since there are 3 numbers, so all numbers are in the range [0,3]. 2 is the missing number in the range since it does not appear in nums.\n",
    "    \n",
    "    Example 2:\n",
    "    Input: nums = [0,1]\n",
    "    Output: 2\n",
    "    Explanation: n = 2 since there are 2 numbers, so all numbers are in the range [0,2]. 2 is the missing number in the range since it does not appear in nums.\n",
    "    \n",
    "    Example 3:\n",
    "    Input: nums = [9,6,4,2,3,5,7,0,1]\n",
    "    Output: 8\n",
    "    Explanation: n = 9 since there are 9 numbers, so all numbers are in the range [0,9]. 8 is the missing number in the range since it does not appear in nums.\n",
    "\n",
    "\n",
    "**Constraints**\n",
    "\n",
    "    n == nums.length\n",
    "    1 <= n <= 104\n",
    "    0 <= nums[i] <= n\n",
    "    All the numbers of nums are unique.\n",
    "\n",
    "\n",
    "    Follow up: Could you implement a solution using only O(1) extra space complexity and O(n) runtime complexity?"
   ]
  },
  {
   "cell_type": "code",
   "execution_count": null,
   "id": "255a65e6",
   "metadata": {},
   "outputs": [],
   "source": []
  },
  {
   "cell_type": "code",
   "execution_count": 12,
   "id": "969f3886",
   "metadata": {},
   "outputs": [],
   "source": [
    "class Solution:\n",
    "    def missingNumber(self, nums: list[int]):\n",
    "        return len(nums)*(len(nums)+1)//2 - sum(nums)"
   ]
  },
  {
   "cell_type": "code",
   "execution_count": 13,
   "id": "b2b9f5f8",
   "metadata": {},
   "outputs": [
    {
     "name": "stdout",
     "output_type": "stream",
     "text": [
      "2\n",
      "2\n",
      "8\n"
     ]
    }
   ],
   "source": [
    "sol = Solution()\n",
    "\n",
    "print(sol.missingNumber([3,0,1]))\n",
    "print(sol.missingNumber([0,1]))\n",
    "print(sol.missingNumber([9,6,4,2,3,5,7,0,1]))"
   ]
  },
  {
   "cell_type": "code",
   "execution_count": null,
   "id": "960eb445",
   "metadata": {},
   "outputs": [],
   "source": []
  }
 ],
 "metadata": {
  "kernelspec": {
   "display_name": "Python 3 (ipykernel)",
   "language": "python",
   "name": "python3"
  },
  "language_info": {
   "codemirror_mode": {
    "name": "ipython",
    "version": 3
   },
   "file_extension": ".py",
   "mimetype": "text/x-python",
   "name": "python",
   "nbconvert_exporter": "python",
   "pygments_lexer": "ipython3",
   "version": "3.9.12"
  }
 },
 "nbformat": 4,
 "nbformat_minor": 5
}
