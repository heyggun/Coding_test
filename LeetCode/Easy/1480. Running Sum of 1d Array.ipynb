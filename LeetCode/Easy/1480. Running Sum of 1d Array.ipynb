{
 "cells": [
  {
   "cell_type": "markdown",
   "id": "2bd25fb7",
   "metadata": {},
   "source": [
    "# LeetCode\n",
    "\n",
    "\n",
    "    1480. Running Sum of 1d Array\n",
    "https://leetcode.com/problems/running-sum-of-1d-array/?envType=study-plan&id=level-1"
   ]
  },
  {
   "cell_type": "markdown",
   "id": "bb5c798d",
   "metadata": {},
   "source": [
    "**Description**\n",
    "\n",
    "    Given an array nums. We define a running sum of an array as runningSum[i] = sum(nums[0]…nums[i]).\n",
    "    Return the running sum of nums.\n",
    "    \n",
    "    \n",
    "    Example 1:\n",
    "\n",
    "    Input: nums = [1,2,3,4]\n",
    "    Output: [1,3,6,10]\n",
    "    Explanation: Running sum is obtained as follows: [1, 1+2, 1+2+3, 1+2+3+4].\n",
    "\n",
    "\n",
    "    Example 2:\n",
    "\n",
    "    Input: nums = [1,1,1,1,1]\n",
    "    Output: [1,2,3,4,5]\n",
    "    Explanation: Running sum is obtained as follows: [1, 1+1, 1+1+1, 1+1+1+1, 1+1+1+1+1].\n",
    "    \n",
    "    Example 3:\n",
    "    Input: nums = [3,1,2,10,1]\n",
    "    Output: [3,4,6,16,17]\n",
    " \n",
    "\n",
    "**Constraints:**\n",
    "\n",
    "    1 <= nums.length <= 1000\n",
    "    -10^6 <= nums[i] <= 10^6"
   ]
  },
  {
   "cell_type": "code",
   "execution_count": 2,
   "id": "f06dd20b",
   "metadata": {},
   "outputs": [],
   "source": [
    "class Solution:\n",
    "    def runningSum(self, nums):\n",
    "        answer = [nums[0]]\n",
    "        for i in range(1, len(nums)):\n",
    "            answer.append(answer[i-1]+nums[i])\n",
    "\n",
    "        return answer"
   ]
  },
  {
   "cell_type": "code",
   "execution_count": 4,
   "id": "c2e28691",
   "metadata": {},
   "outputs": [
    {
     "data": {
      "text/plain": [
       "[1, 3, 6, 10]"
      ]
     },
     "execution_count": 4,
     "metadata": {},
     "output_type": "execute_result"
    }
   ],
   "source": [
    "sol = Solution()\n",
    "sol.runningSum([1,2,3,4])"
   ]
  },
  {
   "cell_type": "code",
   "execution_count": 6,
   "id": "132759ee",
   "metadata": {},
   "outputs": [
    {
     "data": {
      "text/plain": [
       "[1, 2, 3, 4, 5]"
      ]
     },
     "execution_count": 6,
     "metadata": {},
     "output_type": "execute_result"
    }
   ],
   "source": [
    "sol.runningSum([1,1,1,1,1])"
   ]
  },
  {
   "cell_type": "code",
   "execution_count": 8,
   "id": "fb579abd",
   "metadata": {},
   "outputs": [
    {
     "data": {
      "text/plain": [
       "[3, 4, 6, 16, 17]"
      ]
     },
     "execution_count": 8,
     "metadata": {},
     "output_type": "execute_result"
    }
   ],
   "source": [
    "sol.runningSum([3,1,2,10,1])"
   ]
  },
  {
   "cell_type": "code",
   "execution_count": null,
   "id": "3a44409a",
   "metadata": {},
   "outputs": [],
   "source": []
  },
  {
   "cell_type": "code",
   "execution_count": null,
   "id": "ffdafa9c",
   "metadata": {},
   "outputs": [],
   "source": []
  },
  {
   "cell_type": "markdown",
   "id": "581d0f64",
   "metadata": {},
   "source": [
    "### Efficient Runtime & Memory  CASE"
   ]
  },
  {
   "cell_type": "code",
   "execution_count": 9,
   "id": "41c7e6b5",
   "metadata": {},
   "outputs": [
    {
     "data": {
      "text/plain": [
       "[1, 3, 6, 10]"
      ]
     },
     "execution_count": 9,
     "metadata": {},
     "output_type": "execute_result"
    }
   ],
   "source": [
    "nums = [1,2,3,4]\n",
    "\n",
    "result = [nums[0]]\n",
    "for i in nums[1:]:\n",
    "    result.append(result[-1]+i)\n",
    "    \n",
    "result"
   ]
  },
  {
   "cell_type": "code",
   "execution_count": null,
   "id": "02fabe1a",
   "metadata": {},
   "outputs": [],
   "source": []
  }
 ],
 "metadata": {
  "kernelspec": {
   "display_name": "Python 3 (ipykernel)",
   "language": "python",
   "name": "python3"
  },
  "language_info": {
   "codemirror_mode": {
    "name": "ipython",
    "version": 3
   },
   "file_extension": ".py",
   "mimetype": "text/x-python",
   "name": "python",
   "nbconvert_exporter": "python",
   "pygments_lexer": "ipython3",
   "version": "3.9.12"
  }
 },
 "nbformat": 4,
 "nbformat_minor": 5
}
