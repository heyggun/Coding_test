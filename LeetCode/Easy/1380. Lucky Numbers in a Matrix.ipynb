{
 "cells": [
  {
   "cell_type": "markdown",
   "metadata": {},
   "source": [
    "### Leetcode\n",
    "\n",
    "1380. Lucky Numbers in a Matrix\n",
    "https://leetcode.com/problems/lucky-numbers-in-a-matrix/\n",
    "\n",
    "**Description**\n",
    "\n",
    "    Given an m x n matrix of distinct numbers, return all lucky numbers in the matrix in any order.\n",
    "\n",
    "    A lucky number is an element of the matrix such that it is the minimum element in its row and maximum in its column.\n",
    "\n",
    "    \n",
    "\n",
    "    Example 1:\n",
    "    Input: matrix = [[3,7,8],[9,11,13],[15,16,17]]\n",
    "    Output: [15]\n",
    "    Explanation: 15 is the only lucky number since it is the minimum in its row and the maximum in its column.\n",
    "    \n",
    "    Example 2:\n",
    "    Input: matrix = [[1,10,4,2],[9,3,8,7],[15,16,17,12]]\n",
    "    Output: [12]\n",
    "    Explanation: 12 is the only lucky number since it is the minimum in its row and the maximum in its column.\n",
    "    \n",
    "    Example 3:\n",
    "    Input: matrix = [[7,8],[1,2]]\n",
    "    Output: [7]\n",
    "    Explanation: 7 is the only lucky number since it is the minimum in its row and the maximum in its column.\n",
    "    \n",
    "\n",
    "**Constraints**\n",
    "\n",
    "    m == mat.length\n",
    "    n == mat[i].length\n",
    "    1 <= n, m <= 50\n",
    "    1 <= matrix[i][j] <= 105.\n",
    "    All elements in the matrix are distinct."
   ]
  },
  {
   "cell_type": "code",
   "execution_count": 3,
   "metadata": {},
   "outputs": [],
   "source": [
    "from typing import List"
   ]
  },
  {
   "cell_type": "code",
   "execution_count": 15,
   "metadata": {},
   "outputs": [],
   "source": [
    "class Solution:\n",
    "    def luckyNumbers (self, matrix: List[List[int]]) -> List[int]:\n",
    "        n, m = len(matrix), len(matrix[0])\n",
    "        \n",
    "        r_min_max = float('-inf')\n",
    "        \n",
    "        for i in range(n):\n",
    "            r_min = min(matrix[i])\n",
    "            r_min_max = max(r_min_max, r_min)\n",
    "            \n",
    "        c_max_min = float('inf')\n",
    "        \n",
    "        for i in range(m):\n",
    "            c_max = max(matrix[j][i] for j in range(n))\n",
    "            c_max_min = min(c_max_min, c_max)\n",
    "        \n",
    "        if r_min_max == c_max_min:\n",
    "            return [r_min_max]\n",
    "        else:\n",
    "            return []"
   ]
  },
  {
   "cell_type": "code",
   "execution_count": 5,
   "metadata": {},
   "outputs": [],
   "source": []
  },
  {
   "cell_type": "code",
   "execution_count": 14,
   "metadata": {},
   "outputs": [],
   "source": [
    "class Solution:\n",
    "    def luckyNumbers (self, matrix: List[List[int]]) -> List[int]:\n",
    "        return set(map(min,matrix)) & set(map(max,zip(*matrix)))"
   ]
  },
  {
   "cell_type": "code",
   "execution_count": 13,
   "metadata": {},
   "outputs": [
    {
     "name": "stdout",
     "output_type": "stream",
     "text": [
      "{9, 3, 15}\n",
      "{(3, 9, 15), (7, 11, 16), (8, 13, 17)}\n",
      "{16, 17, 15}\n"
     ]
    }
   ],
   "source": [
    "matrix = [[3,7,8],[9,11,13],[15,16,17]]\n",
    "\n",
    "print(set(map(min, matrix)))\n",
    "print(set(zip(*matrix)))\n",
    "print(set(map(max, zip(*matrix))))"
   ]
  },
  {
   "cell_type": "code",
   "execution_count": null,
   "metadata": {},
   "outputs": [],
   "source": []
  }
 ],
 "metadata": {
  "kernelspec": {
   "display_name": "venv",
   "language": "python",
   "name": "python3"
  },
  "language_info": {
   "codemirror_mode": {
    "name": "ipython",
    "version": 3
   },
   "file_extension": ".py",
   "mimetype": "text/x-python",
   "name": "python",
   "nbconvert_exporter": "python",
   "pygments_lexer": "ipython3",
   "version": "3.9.13"
  }
 },
 "nbformat": 4,
 "nbformat_minor": 2
}
