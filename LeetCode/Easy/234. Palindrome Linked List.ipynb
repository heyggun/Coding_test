{
 "cells": [
  {
   "attachments": {
    "image.png": {
     "image/png": "[encoded data removed]"
    }
   },
   "cell_type": "markdown",
   "id": "e88f58b2",
   "metadata": {},
   "source": [
    "# LeetCode\n",
    "\n",
    "234. Palindrome Linked List\n",
    "\n",
    "https://velog.io/@heyggun/1%EC%8A%A44%EC%BD%942%ED%8C%8C-159.-LeetCode-Pattern-234.-Palindrome-Linked-List\n",
    "\n",
    "**Description**\n",
    "\n",
    "    Given the head of a singly linked list, return true if it is a palindrome or false otherwise.\n",
    "    \n",
    "**Examples**\n",
    "\n",
    "![image.png](attachment:image.png)\n",
    "\n",
    "\n",
    "**Constraints**\n",
    "\n",
    "    The number of nodes in the list is in the range [1, 10^5].\n",
    "    0 <= Node.val <= 9"
   ]
  },
  {
   "cell_type": "code",
   "execution_count": null,
   "id": "40e8360b",
   "metadata": {},
   "outputs": [],
   "source": []
  },
  {
   "cell_type": "markdown",
   "id": "56cb25aa",
   "metadata": {},
   "source": [
    "###    Time Complexicity O(N) , space O(N) - Stack"
   ]
  },
  {
   "cell_type": "code",
   "execution_count": 12,
   "id": "004c3a86",
   "metadata": {},
   "outputs": [],
   "source": [
    "class ListNode:\n",
    "    def __init__(self, val=0, next=None):\n",
    "        self.val = val\n",
    "        self.next = next\n",
    "        \n",
    "class Solution:\n",
    "    def isPalindrome(self, head: ListNode) -> bool:\n",
    "        stack = []\n",
    "\n",
    "        while head.next:\n",
    "            stack.append(head.val)\n",
    "            head = head.next\n",
    "        stack.append(head.val)\n",
    "        return True if stack[:] == stack[::-1] else False"
   ]
  },
  {
   "cell_type": "code",
   "execution_count": 13,
   "id": "3bb0be1f",
   "metadata": {},
   "outputs": [
    {
     "name": "stdout",
     "output_type": "stream",
     "text": [
      "True\n"
     ]
    }
   ],
   "source": [
    "head = ListNode(1, ListNode(2, ListNode(2, ListNode(1))))\n",
    "\n",
    "sol = Solution()\n",
    "print(sol.isPalindrome(head))"
   ]
  },
  {
   "cell_type": "code",
   "execution_count": null,
   "id": "51588738",
   "metadata": {},
   "outputs": [],
   "source": []
  },
  {
   "cell_type": "code",
   "execution_count": null,
   "id": "bbea26fb",
   "metadata": {},
   "outputs": [],
   "source": []
  },
  {
   "cell_type": "code",
   "execution_count": 10,
   "id": "a1bbf938",
   "metadata": {},
   "outputs": [],
   "source": [
    "class ListNode:\n",
    "    def __init__(self, val=0, next=None):\n",
    "        self.val = val\n",
    "        self.next = next\n",
    "class Solution:\n",
    "    def isPalindrome(self, head: ListNode) -> bool:\n",
    "        stack = []\n",
    "        cur = head\n",
    "        while cur:\n",
    "            stack.append(cur.val)\n",
    "            cur= cur.next\n",
    "        cur=head\n",
    "\n",
    "        while cur:\n",
    "            if cur.val!= stack.pop():\n",
    "                return False\n",
    "            cur = cur.next\n",
    "        return True\n",
    "            "
   ]
  },
  {
   "cell_type": "code",
   "execution_count": 11,
   "id": "8de81e8c",
   "metadata": {},
   "outputs": [
    {
     "name": "stdout",
     "output_type": "stream",
     "text": [
      "True\n"
     ]
    }
   ],
   "source": [
    "head = ListNode(1, ListNode(2, ListNode(2, ListNode(1))))\n",
    "\n",
    "sol = Solution()\n",
    "print(sol.isPalindrome(head))"
   ]
  },
  {
   "cell_type": "code",
   "execution_count": null,
   "id": "366d133c",
   "metadata": {},
   "outputs": [],
   "source": []
  },
  {
   "cell_type": "code",
   "execution_count": null,
   "id": "0f59890e",
   "metadata": {},
   "outputs": [],
   "source": []
  },
  {
   "cell_type": "markdown",
   "id": "38237eb6",
   "metadata": {},
   "source": [
    "###    Time Complexicity O(N) , space O(N) - Recursion"
   ]
  },
  {
   "cell_type": "code",
   "execution_count": 8,
   "id": "8da86dc8",
   "metadata": {},
   "outputs": [],
   "source": [
    "class ListNode:\n",
    "    def __init__(self, val=0, next=None):\n",
    "        self.val = val\n",
    "        self.next = next\n",
    "class Solution:\n",
    "    def isPalindrome(self, head: ListNode) -> bool:\n",
    "        self.left = ListNode(0, head)\n",
    "\n",
    "        def recursiveFun(head):\n",
    "            if not head:\n",
    "                return True\n",
    "            \n",
    "            right = recursiveFun(head.next)\n",
    "            self.left = self.left.next\n",
    "            return right and self.left.val == head.val\n",
    "\n",
    "        return recursiveFun(head)"
   ]
  },
  {
   "cell_type": "code",
   "execution_count": 9,
   "id": "6aeaf6f9",
   "metadata": {},
   "outputs": [
    {
     "name": "stdout",
     "output_type": "stream",
     "text": [
      "True\n"
     ]
    }
   ],
   "source": [
    "head = ListNode(1, ListNode(2, ListNode(2, ListNode(1))))\n",
    "\n",
    "sol = Solution()\n",
    "print(sol.isPalindrome(head))"
   ]
  },
  {
   "cell_type": "code",
   "execution_count": null,
   "id": "d60a64a8",
   "metadata": {},
   "outputs": [],
   "source": []
  },
  {
   "cell_type": "code",
   "execution_count": null,
   "id": "732fe523",
   "metadata": {},
   "outputs": [],
   "source": []
  },
  {
   "cell_type": "markdown",
   "id": "0e02fd16",
   "metadata": {},
   "source": [
    "###    Time Complexicity O(N) , space O(1)"
   ]
  },
  {
   "cell_type": "code",
   "execution_count": 5,
   "id": "8f59a1ab",
   "metadata": {},
   "outputs": [],
   "source": [
    "class ListNode:\n",
    "    def __init__(self, val=0, next=None):\n",
    "        self.val = val\n",
    "        self.next = next\n",
    "\n",
    "class Solution:\n",
    "    def isPalindrome(self, head: ListNode) -> bool:\n",
    "        if not head:\n",
    "            return True\n",
    "\n",
    "        slow = fast = head\n",
    "        while fast and fast.next:\n",
    "            slow = slow.next\n",
    "            fast = fast.next.next\n",
    "\n",
    "        prev = None\n",
    "        while slow:\n",
    "            cur = slow\n",
    "            slow = slow.next\n",
    "            cur.next = prev\n",
    "            prev = cur\n",
    "        while prev:\n",
    "            if prev.val != head.val:\n",
    "                return False\n",
    "            \n",
    "            prev = prev.next\n",
    "            head = head.next\n",
    "\n",
    "        return True"
   ]
  },
  {
   "cell_type": "code",
   "execution_count": 6,
   "id": "b0d7ba4b",
   "metadata": {},
   "outputs": [
    {
     "name": "stdout",
     "output_type": "stream",
     "text": [
      "True\n"
     ]
    }
   ],
   "source": [
    "head = ListNode(1, ListNode(2, ListNode(2, ListNode(1))))\n",
    "\n",
    "sol = Solution()\n",
    "print(sol.isPalindrome(head))"
   ]
  },
  {
   "cell_type": "code",
   "execution_count": null,
   "id": "425020dd",
   "metadata": {},
   "outputs": [],
   "source": []
  }
 ],
 "metadata": {
  "kernelspec": {
   "display_name": "Python 3 (ipykernel)",
   "language": "python",
   "name": "python3"
  },
  "language_info": {
   "codemirror_mode": {
    "name": "ipython",
    "version": 3
   },
   "file_extension": ".py",
   "mimetype": "text/x-python",
   "name": "python",
   "nbconvert_exporter": "python",
   "pygments_lexer": "ipython3",
   "version": "3.9.12"
  }
 },
 "nbformat": 4,
 "nbformat_minor": 5
}
