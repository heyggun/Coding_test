{
 "cells": [
  {
   "cell_type": "markdown",
   "id": "1e200526",
   "metadata": {},
   "source": [
    "### 35. Search Insert Position\n",
    "\n",
    "https://leetcode.com/problems/search-insert-position/?envType=study-plan&id=algorithm-i\n",
    "\n",
    "\n",
    "**Description**\n",
    "\n",
    "       Given a sorted array of distinct integers and a target value, return the index if the target is found. If not, return the index where it would be if it were inserted in order.\n",
    "\n",
    "    You must write an algorithm with O(log n) runtime complexity.\n",
    "\n",
    "\n",
    "    \n",
    "**Example**\n",
    "\n",
    "    Input: nums = [1,3,5,6], target = 5\n",
    "    Output: 2\n",
    "    \n",
    "    Example 2:\n",
    "    Input: nums = [1,3,5,6], target = 2\n",
    "    Output: 1\n",
    "    \n",
    "    Example 3:\n",
    "    Input: nums = [1,3,5,6], target = 7\n",
    "    Output: 4\n",
    "\n",
    "**Constraints**\n",
    "\n",
    "    1 <= nums.length <= 104\n",
    "    -10^4 <= nums[i] <= 10^4\n",
    "    nums contains distinct values sorted in ascending order.\n",
    "    -10^4 <= target <= 10^4"
   ]
  },
  {
   "cell_type": "code",
   "execution_count": 3,
   "id": "67917640",
   "metadata": {},
   "outputs": [],
   "source": [
    "class Solution:\n",
    "    def searchInsert(self, nums, target):\n",
    "        start, end = 0, len(nums)-1\n",
    "        \n",
    "        while start <= end:\n",
    "            mid = (start+end)//2\n",
    "            \n",
    "            if nums[mid] == target:\n",
    "                return mid\n",
    "            \n",
    "            elif nums[mid] < target:\n",
    "                start = mid+1\n",
    "            \n",
    "            else:\n",
    "                end = mid-1\n",
    "                \n",
    "        return end+1\n",
    "                "
   ]
  },
  {
   "cell_type": "code",
   "execution_count": 4,
   "id": "062408f4",
   "metadata": {},
   "outputs": [],
   "source": [
    "sol = Solution()"
   ]
  },
  {
   "cell_type": "code",
   "execution_count": 5,
   "id": "85f61a08",
   "metadata": {},
   "outputs": [
    {
     "name": "stdout",
     "output_type": "stream",
     "text": [
      "2\n",
      "1\n",
      "4\n"
     ]
    }
   ],
   "source": [
    "print(sol.searchInsert([1,3,5,6],5))\n",
    "print(sol.searchInsert([1,3,5,6],2))\n",
    "print(sol.searchInsert([1,3,5,6],7))"
   ]
  },
  {
   "cell_type": "code",
   "execution_count": null,
   "id": "6e5c06ee",
   "metadata": {},
   "outputs": [],
   "source": []
  }
 ],
 "metadata": {
  "kernelspec": {
   "display_name": "Python 3 (ipykernel)",
   "language": "python",
   "name": "python3"
  },
  "language_info": {
   "codemirror_mode": {
    "name": "ipython",
    "version": 3
   },
   "file_extension": ".py",
   "mimetype": "text/x-python",
   "name": "python",
   "nbconvert_exporter": "python",
   "pygments_lexer": "ipython3",
   "version": "3.9.12"
  }
 },
 "nbformat": 4,
 "nbformat_minor": 5
}
