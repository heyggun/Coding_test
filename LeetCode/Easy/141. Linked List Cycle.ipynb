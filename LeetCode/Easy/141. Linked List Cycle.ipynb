{
 "cells": [
  {
   "cell_type": "markdown",
   "metadata": {},
   "source": [
    "## Leetcode\n",
    "\n",
    "141. Linked List Cycle\n",
    "\n",
    "https://leetcode.com/problems/linked-list-cycle/description/\n",
    "\n",
    "**Description**\n",
    "\n",
    "    Given head, the head of a linked list, determine if the linked list has a cycle in it.\n",
    "\n",
    "    There is a cycle in a linked list if there is some node in the list that can be reached again by continuously following the next pointer. Internally, pos is used to denote the index of the node that tail's next pointer is connected to. Note that pos is not passed as a parameter.\n",
    "\n",
    "    Return true if there is a cycle in the linked list. Otherwise, return false.\n",
    "\n",
    "    \n",
    "\n",
    "    Example 1:\n",
    "    Input: head = [3,2,0,-4], pos = 1\n",
    "    Output: true\n",
    "    Explanation: There is a cycle in the linked list, where the tail connects to the 1st node (0-indexed).\n",
    "    \n",
    "    Example 2:\n",
    "    Input: head = [1,2], pos = 0\n",
    "    Output: true\n",
    "    Explanation: There is a cycle in the linked list, where the tail connects to the 0th node.\n",
    "   \n",
    "    Example 3:\n",
    "    Input: head = [1], pos = -1\n",
    "    Output: false\n",
    "    Explanation: There is no cycle in the linked list.\n",
    "    \n",
    "\n",
    "**Constraints**\n",
    "\n",
    "    The number of the nodes in the list is in the range [0, 10^4].\n",
    "    -10^5 <= Node.val <= 10^5\n",
    "    pos is -1 or a valid index in the linked-list."
   ]
  },
  {
   "cell_type": "code",
   "execution_count": 2,
   "metadata": {},
   "outputs": [],
   "source": [
    "from typing import Optional"
   ]
  },
  {
   "cell_type": "code",
   "execution_count": 3,
   "metadata": {},
   "outputs": [],
   "source": [
    "class ListNode:\n",
    "    def __init__(self, x):\n",
    "        self.val = x\n",
    "        self.next = None"
   ]
  },
  {
   "cell_type": "code",
   "execution_count": 12,
   "metadata": {},
   "outputs": [],
   "source": [
    "head_list = [3, 2, 0, -4]\n",
    "\n",
    "head= ListNode(head_list[0])\n",
    "current = head\n",
    "\n",
    "for val in head_list[1:]:\n",
    "    current.next = ListNode(val)\n",
    "    current = current.next"
   ]
  },
  {
   "cell_type": "code",
   "execution_count": 15,
   "metadata": {},
   "outputs": [],
   "source": [
    "class Solution:\n",
    "    def hasCycle(self, head: Optional[ListNode]) -> bool:\n",
    "        slow, fast = head, head\n",
    "        while fast and fast.next:\n",
    "            slow = slow.next\n",
    "            fast = fast.next.next\n",
    "\n",
    "            if slow == fast:\n",
    "                return True\n",
    "        \n",
    "        return False"
   ]
  },
  {
   "cell_type": "code",
   "execution_count": 17,
   "metadata": {},
   "outputs": [
    {
     "name": "stdout",
     "output_type": "stream",
     "text": [
      "False\n"
     ]
    }
   ],
   "source": [
    "sol = Solution()\n",
    "print(sol.hasCycle(head))"
   ]
  },
  {
   "cell_type": "code",
   "execution_count": 19,
   "metadata": {},
   "outputs": [],
   "source": [
    "head_lst = [1,2]\n",
    "\n",
    "head = ListNode(head_lst[0])\n",
    "current = head\n",
    "\n",
    "for val in head_lst[1:]:\n",
    "    current.next = ListNode(val)\n",
    "    current = current.next\n"
   ]
  },
  {
   "cell_type": "code",
   "execution_count": 20,
   "metadata": {},
   "outputs": [
    {
     "name": "stdout",
     "output_type": "stream",
     "text": [
      "False\n"
     ]
    }
   ],
   "source": [
    "sol = Solution()\n",
    "print(sol.hasCycle(head))"
   ]
  },
  {
   "cell_type": "code",
   "execution_count": null,
   "metadata": {},
   "outputs": [],
   "source": []
  }
 ],
 "metadata": {
  "kernelspec": {
   "display_name": "Python 3",
   "language": "python",
   "name": "python3"
  },
  "language_info": {
   "codemirror_mode": {
    "name": "ipython",
    "version": 3
   },
   "file_extension": ".py",
   "mimetype": "text/x-python",
   "name": "python",
   "nbconvert_exporter": "python",
   "pygments_lexer": "ipython3",
   "version": "3.9.6"
  },
  "orig_nbformat": 4
 },
 "nbformat": 4,
 "nbformat_minor": 2
}
