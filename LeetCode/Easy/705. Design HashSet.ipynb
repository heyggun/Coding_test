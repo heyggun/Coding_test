{
 "cells": [
  {
   "cell_type": "markdown",
   "id": "658135bb",
   "metadata": {},
   "source": [
    "# LeetCode\n",
    "\n",
    "705. Design HashSet\n",
    "\n",
    "https://leetcode.com/problems/design-hashset/description/"
   ]
  },
  {
   "cell_type": "markdown",
   "id": "afc88e36",
   "metadata": {},
   "source": [
    "**Description**\n",
    "\n",
    "    Design a HashSet without using any built-in hash table libraries.\n",
    "\n",
    "    Implement MyHashSet class:\n",
    "\n",
    "    void add(key) Inserts the value key into the HashSet.\n",
    "    bool contains(key) Returns whether the value key exists in the HashSet or not.\n",
    "    void remove(key) Removes the value key in the HashSet. If key does not exist in the HashSet, do nothing.\n",
    " \n",
    "**Examples**\n",
    "\n",
    "\n",
    "    Example 1:\n",
    "\n",
    "    Input\n",
    "    [\"MyHashSet\", \"add\", \"add\", \"contains\", \"contains\", \"add\", \"contains\", \"remove\", \"contains\"]\n",
    "    [[], [1], [2], [1], [3], [2], [2], [2], [2]]\n",
    "    Output\n",
    "    [null, null, null, true, false, null, true, null, false]\n",
    "\n",
    "    Explanation\n",
    "    MyHashSet myHashSet = new MyHashSet();\n",
    "    myHashSet.add(1);      // set = [1]\n",
    "    myHashSet.add(2);      // set = [1, 2]\n",
    "    myHashSet.contains(1); // return True\n",
    "    myHashSet.contains(3); // return False, (not found)\n",
    "    myHashSet.add(2);      // set = [1, 2]\n",
    "    myHashSet.contains(2); // return True\n",
    "    myHashSet.remove(2);   // set = [1]\n",
    "    myHashSet.contains(2); // return False, (already removed)\n",
    "\n",
    "\n",
    "**Constraints**\n",
    "\n",
    "    0 <= key <= 10^6\n",
    "    At most 10^4 calls will be made to add, remove, and contains."
   ]
  },
  {
   "cell_type": "code",
   "execution_count": 1,
   "id": "299b8f3f",
   "metadata": {},
   "outputs": [],
   "source": [
    "class MyHashSet:\n",
    "\n",
    "    def __init__(self):\n",
    "        self.hash = set()\n",
    "\n",
    "    def add(self, key: int) -> None:\n",
    "        self.hash.add(key)\n",
    "        \n",
    "    def remove(self, key: int) -> None:\n",
    "        self.hash.discard(key)\n",
    "\n",
    "    def contains(self, key: int) -> bool:\n",
    "        if key in self.hash:\n",
    "            return True\n",
    "        return False      "
   ]
  },
  {
   "cell_type": "code",
   "execution_count": 4,
   "id": "58a73745",
   "metadata": {},
   "outputs": [
    {
     "data": {
      "text/plain": [
       "False"
      ]
     },
     "execution_count": 4,
     "metadata": {},
     "output_type": "execute_result"
    }
   ],
   "source": [
    "myHashSet = MyHashSet()\n",
    "myHashSet.add(1)\n",
    "myHashSet.add(2)\n",
    "myHashSet.contains(1)\n",
    "myHashSet.contains(3)\n",
    "myHashSet.add(2)\n",
    "myHashSet.contains(2)\n",
    "myHashSet.remove(2)\n",
    "myHashSet.contains(2)"
   ]
  },
  {
   "cell_type": "code",
   "execution_count": null,
   "id": "500ce1a8",
   "metadata": {},
   "outputs": [],
   "source": []
  },
  {
   "cell_type": "code",
   "execution_count": null,
   "id": "9c4b013e",
   "metadata": {},
   "outputs": [],
   "source": []
  },
  {
   "cell_type": "markdown",
   "id": "e3468e9a",
   "metadata": {},
   "source": [
    "    아오.. 쉽다고 set 사용해서 풀었는데 \n",
    "    Design a HashSet without using any built-in hash table libraries.\n",
    "\n",
    "    여기서 set 쓰면 안된다고 해서..\n",
    "    set 안쓰고 푼 양씨꺼 풀이 쌤쳐옴"
   ]
  },
  {
   "cell_type": "code",
   "execution_count": 5,
   "id": "bc44a6fd",
   "metadata": {},
   "outputs": [],
   "source": [
    "class ListNode:\n",
    "    def __init__(self, key):\n",
    "        self.key = key\n",
    "        self.next = None\n",
    "\n",
    "\n",
    "class MyHashSet:\n",
    "\n",
    "    def __init__(self):\n",
    "        self.hashSet = [ListNode(0) for i in range(10**4)]\n",
    "        \n",
    "\n",
    "    def add(self, key: int) -> None:\n",
    "        cur = self.hashSet[key%len(self.hashSet)]\n",
    "        while cur.next:\n",
    "            if cur.next.key == key:\n",
    "                return\n",
    "            cur = cur.next\n",
    "        cur.next = ListNode(key)\n",
    "        \n",
    "\n",
    "    def remove(self, key: int) -> None:\n",
    "        cur = self.hashSet[key%len(self.hashSet)]\n",
    "        while cur.next:\n",
    "            if cur.next.key == key:\n",
    "                cur.next = cur.next.next\n",
    "                return\n",
    "            cur = cur.next\n",
    "\n",
    "    def contains(self, key: int) -> bool:\n",
    "        cur = self.hashSet[key%len(self.hashSet)]\n",
    "        while cur.next:\n",
    "            if cur.next.key == key:\n",
    "                return True\n",
    "            cur = cur.next\n",
    "        return False"
   ]
  },
  {
   "cell_type": "code",
   "execution_count": null,
   "id": "bf6ef08e",
   "metadata": {},
   "outputs": [],
   "source": []
  }
 ],
 "metadata": {
  "kernelspec": {
   "display_name": "Python 3 (ipykernel)",
   "language": "python",
   "name": "python3"
  },
  "language_info": {
   "codemirror_mode": {
    "name": "ipython",
    "version": 3
   },
   "file_extension": ".py",
   "mimetype": "text/x-python",
   "name": "python",
   "nbconvert_exporter": "python",
   "pygments_lexer": "ipython3",
   "version": "3.9.13"
  }
 },
 "nbformat": 4,
 "nbformat_minor": 5
}
