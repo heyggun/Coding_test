{
 "cells": [
  {
   "cell_type": "markdown",
   "id": "c4f2888e",
   "metadata": {},
   "source": [
    "## 283. Move Zeroes\n",
    "\n",
    "https://leetcode.com/problems/reverse-string/submissions/948148122/?envType=study-plan&id=algorithm-i\n",
    "\n",
    "**Description**\n",
    "\n",
    "    Given an integer array nums, move all 0's to the end of it while maintaining the relative order of the non-zero elements.\n",
    "    Note that you must do this in-place without making a copy of the array.\n",
    "\n",
    "**Example**\n",
    "\n",
    "\n",
    "    Example 1:\n",
    "    Input: nums = [0,1,0,3,12]\n",
    "    Output: [1,3,12,0,0]\n",
    "    \n",
    "    Example 2:\n",
    "    Input: nums = [0]\n",
    "    Output: [0]\n",
    "\n",
    "\n",
    "**Constraints**\n",
    "\n",
    "    1 <= nums.length <= 10^4\n",
    "    -2^31 <= nums[i] <= 2^31 - 1"
   ]
  },
  {
   "cell_type": "code",
   "execution_count": 5,
   "id": "f21317a9",
   "metadata": {},
   "outputs": [],
   "source": [
    "class Solution:\n",
    "    def moveZeroes(self, nums):\n",
    "        n = nums.count(0)\n",
    "        for _ in range(n):\n",
    "            idx = nums.index(0)\n",
    "            del nums[idx]\n",
    "            nums.append(0)\n",
    "        return nums"
   ]
  },
  {
   "cell_type": "code",
   "execution_count": 6,
   "id": "2101dd82",
   "metadata": {},
   "outputs": [
    {
     "name": "stdout",
     "output_type": "stream",
     "text": [
      "[1, 3, 12, 0, 0]\n",
      "[0]\n"
     ]
    }
   ],
   "source": [
    "sol = Solution()\n",
    "print(sol.moveZeroes([0,1,0,3,12]))\n",
    "print(sol.moveZeroes([0]))"
   ]
  },
  {
   "cell_type": "code",
   "execution_count": null,
   "id": "913b3236",
   "metadata": {},
   "outputs": [],
   "source": []
  }
 ],
 "metadata": {
  "kernelspec": {
   "display_name": "Python 3 (ipykernel)",
   "language": "python",
   "name": "python3"
  },
  "language_info": {
   "codemirror_mode": {
    "name": "ipython",
    "version": 3
   },
   "file_extension": ".py",
   "mimetype": "text/x-python",
   "name": "python",
   "nbconvert_exporter": "python",
   "pygments_lexer": "ipython3",
   "version": "3.9.12"
  }
 },
 "nbformat": 4,
 "nbformat_minor": 5
}
