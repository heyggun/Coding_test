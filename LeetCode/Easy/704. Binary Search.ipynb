{
 "cells": [
  {
   "cell_type": "markdown",
   "id": "581844c2",
   "metadata": {},
   "source": [
    "## LeetCode\n",
    "\n",
    "### 704. Binary Search\n",
    "\n",
    "https://leetcode.com/problems/binary-search/?envType=study-plan&id=algorithm-i"
   ]
  },
  {
   "cell_type": "markdown",
   "id": "d9183be9",
   "metadata": {},
   "source": [
    "**Descriptioon**\n",
    "\n",
    "    Given an array of integers nums which is sorted in ascending order, and an integer target, write a function to search target in nums. If target exists, then return its index. Otherwise, return -1.\n",
    "    \n",
    "    You must write an algorithm with O(log n) runtime complexity.\n",
    "    \n",
    "**Example**\n",
    "\n",
    "    Example 1:\n",
    "\n",
    "    Input: nums = [-1,0,3,5,9,12], target = 9\n",
    "    Output: 4\n",
    "    Explanation: 9 exists in nums and its index is 4\n",
    "    \n",
    "    Example 2:\n",
    "    Input: nums = [-1,0,3,5,9,12], target = 2\n",
    "    Output: -1\n",
    "    Explanation: 2 does not exist in nums so return -1\n",
    " \n",
    "\n",
    "**Constraints:**\n",
    "\n",
    "    1 <= nums.length <= 104\n",
    "    -104 < nums[i], target < 104\n",
    "    All the integers in nums are unique.\n",
    "    nums is sorted in ascending order."
   ]
  },
  {
   "cell_type": "code",
   "execution_count": 7,
   "id": "956123df",
   "metadata": {},
   "outputs": [],
   "source": [
    "class Solution:\n",
    "    def search(self, nums, target):\n",
    "        start, end = 0, len(nums)\n",
    "        \n",
    "        while start<=end:\n",
    "            mid = (start+end)//2\n",
    "            \n",
    "            if nums[mid]==target:\n",
    "                return mid\n",
    "            elif nums[mid] < target:\n",
    "                start = mid+1\n",
    "            else:\n",
    "                end = mid-1\n",
    "            \n",
    "        return -1\n",
    "        "
   ]
  },
  {
   "cell_type": "code",
   "execution_count": 4,
   "id": "f4f548af",
   "metadata": {},
   "outputs": [],
   "source": [
    "sol = Solution()"
   ]
  },
  {
   "cell_type": "code",
   "execution_count": 5,
   "id": "afb59c3a",
   "metadata": {},
   "outputs": [
    {
     "data": {
      "text/plain": [
       "4"
      ]
     },
     "execution_count": 5,
     "metadata": {},
     "output_type": "execute_result"
    }
   ],
   "source": [
    "sol.search([-1,0,3,5,9,12],9)"
   ]
  },
  {
   "cell_type": "code",
   "execution_count": 6,
   "id": "b513dbb3",
   "metadata": {},
   "outputs": [
    {
     "data": {
      "text/plain": [
       "-1"
      ]
     },
     "execution_count": 6,
     "metadata": {},
     "output_type": "execute_result"
    }
   ],
   "source": [
    "sol.search([-1,0,3,5,9,12],2)"
   ]
  },
  {
   "cell_type": "code",
   "execution_count": null,
   "id": "d31bad2b",
   "metadata": {},
   "outputs": [],
   "source": []
  }
 ],
 "metadata": {
  "kernelspec": {
   "display_name": "Python 3 (ipykernel)",
   "language": "python",
   "name": "python3"
  },
  "language_info": {
   "codemirror_mode": {
    "name": "ipython",
    "version": 3
   },
   "file_extension": ".py",
   "mimetype": "text/x-python",
   "name": "python",
   "nbconvert_exporter": "python",
   "pygments_lexer": "ipython3",
   "version": "3.9.12"
  }
 },
 "nbformat": 4,
 "nbformat_minor": 5
}
