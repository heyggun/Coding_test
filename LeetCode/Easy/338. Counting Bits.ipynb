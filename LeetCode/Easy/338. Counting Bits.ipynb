{
 "cells": [
  {
   "cell_type": "markdown",
   "id": "1b22b9de",
   "metadata": {},
   "source": [
    "# LeetCode\n",
    "\n",
    "338. Counting Bits\n",
    "\n",
    "https://leetcode.com/problems/counting-bits/description/\n",
    "\n",
    "**Description**\n",
    "\n",
    "    Given an integer n, return an array ans of length n + 1 such that for each i (0 <= i <= n), ans[i] is the number of 1's in the binary representation of i.\n",
    "\n",
    "\n",
    "**Examples**\n",
    "\n",
    "    Example 1:\n",
    "\n",
    "    Input: n = 2\n",
    "    Output: [0,1,1]\n",
    "    Explanation:\n",
    "    0 --> 0\n",
    "    1 --> 1\n",
    "    2 --> 10\n",
    "    \n",
    "    Example 2:\n",
    "    Input: n = 5\n",
    "    Output: [0,1,1,2,1,2]\n",
    "    Explanation:\n",
    "    0 --> 0\n",
    "    1 --> 1\n",
    "    2 --> 10\n",
    "    3 --> 11\n",
    "    4 --> 100\n",
    "    5 --> 101\n",
    " \n",
    "\n",
    "**Constraints**\n",
    "\n",
    "    0 <= n <= 10&5\n",
    " \n",
    "\n",
    "**Follow up**\n",
    "\n",
    "    It is very easy to come up with a solution with a runtime of O(n log n). Can you do it in linear time O(n) and possibly in a single pass?\n",
    "    Can you do it without using any built-in function (i.e., like __builtin_popcount in C++)?"
   ]
  },
  {
   "cell_type": "code",
   "execution_count": 2,
   "id": "92b61071",
   "metadata": {},
   "outputs": [],
   "source": [
    "class Solution:\n",
    "    def countBits(self, n: int) -> list[int]:\n",
    "        dp = [0]\n",
    "\n",
    "        for i in range(1, n+1):\n",
    "            dp.append(dp[i&(i-1)]+1)\n",
    "        return dp"
   ]
  },
  {
   "cell_type": "code",
   "execution_count": 3,
   "id": "31b15248",
   "metadata": {},
   "outputs": [
    {
     "name": "stdout",
     "output_type": "stream",
     "text": [
      "[0, 1, 1]\n",
      "[0, 1, 1, 2, 1, 2]\n"
     ]
    }
   ],
   "source": [
    "sol = Solution()\n",
    "\n",
    "print(sol.countBits(2))\n",
    "print(sol.countBits(5))"
   ]
  },
  {
   "cell_type": "code",
   "execution_count": null,
   "id": "7926cf5f",
   "metadata": {},
   "outputs": [],
   "source": []
  }
 ],
 "metadata": {
  "kernelspec": {
   "display_name": "Python 3 (ipykernel)",
   "language": "python",
   "name": "python3"
  },
  "language_info": {
   "codemirror_mode": {
    "name": "ipython",
    "version": 3
   },
   "file_extension": ".py",
   "mimetype": "text/x-python",
   "name": "python",
   "nbconvert_exporter": "python",
   "pygments_lexer": "ipython3",
   "version": "3.9.12"
  }
 },
 "nbformat": 4,
 "nbformat_minor": 5
}
