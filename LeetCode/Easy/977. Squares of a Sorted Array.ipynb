{
 "cells": [
  {
   "cell_type": "markdown",
   "id": "86d48b1b",
   "metadata": {},
   "source": [
    "### 977. Squares of a Sorted Array\n",
    "\n",
    "https://leetcode.com/problems/squares-of-a-sorted-array/description/?envType=study-plan&id=algorithm-i\n",
    "\n",
    "\n",
    "**Description**\n",
    "\n",
    "    Given an integer array nums sorted in non-decreasing order, return an array of the squares of each number sorted in non-decreasing order.\n",
    "\n",
    "\n",
    "**Example**\n",
    "\n",
    "    Example 1:\n",
    "    Input: nums = [-4,-1,0,3,10]\n",
    "    Output: [0,1,9,16,100]\n",
    "    Explanation: After squaring, the array becomes [16,1,0,9,100].\n",
    "    After sorting, it becomes [0,1,9,16,100].\n",
    "    \n",
    "    Example 2:\n",
    "    Input: nums = [-7,-3,2,3,11]\n",
    "    Output: [4,9,9,49,121]\n",
    "\n",
    "\n",
    "**Constraints**\n",
    "\n",
    "    1 <= nums.length <= 10^4\n",
    "    -10^4 <= nums[i] <= 10^4\n",
    "    nums is sorted in non-decreasing order."
   ]
  },
  {
   "cell_type": "code",
   "execution_count": 1,
   "id": "8deb1ea2",
   "metadata": {},
   "outputs": [],
   "source": [
    "class Solution:\n",
    "    def sortedSquares(self, nums):\n",
    "        return sorted([n*n for n in nums])"
   ]
  },
  {
   "cell_type": "code",
   "execution_count": 2,
   "id": "26bf80c4",
   "metadata": {},
   "outputs": [
    {
     "name": "stdout",
     "output_type": "stream",
     "text": [
      "[0, 1, 9, 16, 100]\n",
      "[4, 9, 9, 49, 121]\n"
     ]
    }
   ],
   "source": [
    "sol = Solution()\n",
    "print(sol.sortedSquares([-4,-1,0,3,10]))\n",
    "print(sol.sortedSquares([-7,-3,2,3,11]))"
   ]
  },
  {
   "cell_type": "code",
   "execution_count": null,
   "id": "abbfc15b",
   "metadata": {},
   "outputs": [],
   "source": []
  }
 ],
 "metadata": {
  "kernelspec": {
   "display_name": "Python 3 (ipykernel)",
   "language": "python",
   "name": "python3"
  },
  "language_info": {
   "codemirror_mode": {
    "name": "ipython",
    "version": 3
   },
   "file_extension": ".py",
   "mimetype": "text/x-python",
   "name": "python",
   "nbconvert_exporter": "python",
   "pygments_lexer": "ipython3",
   "version": "3.9.12"
  }
 },
 "nbformat": 4,
 "nbformat_minor": 5
}
