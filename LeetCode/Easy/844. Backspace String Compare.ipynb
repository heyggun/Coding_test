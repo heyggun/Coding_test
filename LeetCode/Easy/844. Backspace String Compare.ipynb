{
 "cells": [
  {
   "cell_type": "markdown",
   "id": "1b314b49",
   "metadata": {},
   "source": [
    "# LeetCode\n",
    "\n",
    "844. Backspace String Compare\n",
    "\n",
    "\n",
    "https://leetcode.com/problems/backspace-string-compare/\n",
    "\n",
    "\n",
    "**Description**\n",
    "\n",
    "    Given two strings s and t, return true if they are equal when both are typed into empty text editors. '#' means a backspace character.\n",
    "\n",
    "    Note that after backspacing an empty text, the text will continue empty.\n",
    "\n",
    "\n",
    "\n",
    "\n",
    "**Examples**\n",
    "\n",
    "    Example 1:\n",
    "\n",
    "    Input: s = \"ab#c\", t = \"ad#c\"\n",
    "    Output: true\n",
    "    Explanation: Both s and t become \"ac\".\n",
    "    \n",
    "    Example 2:\n",
    "    Input: s = \"ab##\", t = \"c#d#\"\n",
    "    Output: true\n",
    "    Explanation: Both s and t become \"\".\n",
    "    \n",
    "    Example 3:\n",
    "    Input: s = \"a#c\", t = \"b\"\n",
    "    Output: false\n",
    "    Explanation: s becomes \"c\" while t becomes \"b\".\n",
    " \n",
    "**Constraints**\n",
    "\n",
    "    1 <= s.length, t.length <= 200\n",
    "    s and t only contain lowercase letters and '#' characters.\n",
    "\n",
    "    Follow up: Can you solve it in O(n) time and O(1) space?"
   ]
  },
  {
   "cell_type": "code",
   "execution_count": 13,
   "id": "365f2218",
   "metadata": {},
   "outputs": [],
   "source": [
    "class Solution:\n",
    "    def backspaceCompare(self, s: str, t: str) -> bool:\n",
    "        s_que, t_que = deque(s), deque(t)\n",
    "        s_stack, t_stack = [], []\n",
    "\n",
    "        while s_que:\n",
    "            s1 = s_que.popleft()\n",
    "            if s1!='#':\n",
    "                s_stack.append(s1)\n",
    "\n",
    "            else:\n",
    "                if len(s_stack)!=0:\n",
    "                    s_stack.pop()\n",
    "\n",
    "        while t_que:\n",
    "            t1 = t_que.popleft()\n",
    "            if t1!='#':\n",
    "                t_stack.append(t1)\n",
    "            else:\n",
    "                if len(t_stack)!=0:\n",
    "                    t_stack.pop()\n",
    "\n",
    "        return True if s_stack==t_stack else False"
   ]
  },
  {
   "cell_type": "code",
   "execution_count": 14,
   "id": "dcc7b6bd",
   "metadata": {},
   "outputs": [
    {
     "name": "stdout",
     "output_type": "stream",
     "text": [
      "True\n",
      "True\n",
      "False\n"
     ]
    }
   ],
   "source": [
    "sol = Solution()\n",
    "print(sol.backspaceCompare(\"ab#c\",\"ad#c\"))\n",
    "print(sol.backspaceCompare('ab##','c#d#'))\n",
    "print(sol.backspaceCompare(\"a#c\",\"b\"))"
   ]
  },
  {
   "cell_type": "code",
   "execution_count": null,
   "id": "a2642fd2",
   "metadata": {},
   "outputs": [],
   "source": []
  },
  {
   "cell_type": "code",
   "execution_count": null,
   "id": "5b972a45",
   "metadata": {},
   "outputs": [],
   "source": []
  },
  {
   "cell_type": "code",
   "execution_count": 8,
   "id": "f1cb11e6",
   "metadata": {},
   "outputs": [
    {
     "data": {
      "text/plain": [
       "True"
      ]
     },
     "execution_count": 8,
     "metadata": {},
     "output_type": "execute_result"
    }
   ],
   "source": [
    "from collections import deque\n",
    "\n",
    "s = 'ab##'\n",
    "t = 'c#d#'\n",
    "\n",
    "s_que, t_que = deque(s), deque(t)\n",
    "s_stack, t_stack = [], []\n",
    "\n",
    "while s_que:\n",
    "    s1 = s_que.popleft()\n",
    "    if s1!='#':\n",
    "        s_stack.append(s1)\n",
    "\n",
    "    else:\n",
    "        s_stack.pop()\n",
    "\n",
    "while t_que:\n",
    "    t1 = t_que.popleft()\n",
    "    if t1!='#':\n",
    "        t_stack.append(t1)\n",
    "    else:\n",
    "        t_stack.pop()\n",
    "    \n",
    "True if s_stack==t_stack else False\n",
    "\n",
    "\n",
    "\n"
   ]
  },
  {
   "cell_type": "code",
   "execution_count": null,
   "id": "d595cfd0",
   "metadata": {},
   "outputs": [],
   "source": []
  },
  {
   "cell_type": "code",
   "execution_count": null,
   "id": "01952bb4",
   "metadata": {},
   "outputs": [],
   "source": []
  },
  {
   "cell_type": "markdown",
   "id": "e49cc5bf",
   "metadata": {},
   "source": [
    "     제약사항에 시간복잡도 O(1) 으로 풀어라고 되어 있으므로 O(1)이 나오는 풀이는..?"
   ]
  },
  {
   "cell_type": "code",
   "execution_count": 15,
   "id": "cf56a4a5",
   "metadata": {},
   "outputs": [],
   "source": [
    "class Solution:\n",
    "    def backspaceCompare(self, s: str, t: str) -> bool:\n",
    "        s_pos = len(s) - 1\n",
    "        t_pos = len(t) - 1\n",
    "\n",
    "        def skip(item, pos):\n",
    "            skip = 0\n",
    "            while item[pos] == '#':\n",
    "                skip += 1\n",
    "                pos -= 1\n",
    "\n",
    "            while pos >= 0 and skip > 0:\n",
    "                if item[pos] != '#':\n",
    "                    skip -= 1\n",
    "                else:\n",
    "                    skip += 1\n",
    "                pos -= 1\n",
    "            \n",
    "            return pos\n",
    "\n",
    "        while s_pos >= 0 or t_pos >= 0:\n",
    "            while s[s_pos] == '#':\n",
    "                s_pos = skip(s, s_pos)\n",
    "            while t[t_pos] == '#':\n",
    "                t_pos = skip(t, t_pos)\n",
    "\n",
    "            s_c = '' if s_pos < 0 else s[s_pos]\n",
    "            t_c = '' if t_pos < 0 else t[t_pos]\n",
    "            if s_c != t_c:\n",
    "                return False\n",
    "\n",
    "            if s_pos >= 0:\n",
    "                s_pos -= 1\n",
    "\n",
    "            if t_pos >= 0:\n",
    "                t_pos -= 1\n",
    "\n",
    "        return True"
   ]
  },
  {
   "cell_type": "code",
   "execution_count": null,
   "id": "4158d20f",
   "metadata": {},
   "outputs": [],
   "source": []
  }
 ],
 "metadata": {
  "kernelspec": {
   "display_name": "Python 3 (ipykernel)",
   "language": "python",
   "name": "python3"
  },
  "language_info": {
   "codemirror_mode": {
    "name": "ipython",
    "version": 3
   },
   "file_extension": ".py",
   "mimetype": "text/x-python",
   "name": "python",
   "nbconvert_exporter": "python",
   "pygments_lexer": "ipython3",
   "version": "3.9.13"
  }
 },
 "nbformat": 4,
 "nbformat_minor": 5
}
