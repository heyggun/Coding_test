{
 "cells": [
  {
   "cell_type": "markdown",
   "id": "4b270d1a",
   "metadata": {},
   "source": [
    "### 977. Squares of a Sorted Array\n",
    "\n",
    "https://leetcode.com/problems/squares-of-a-sorted-array/description/?envType=study-plan&id=algorithm-i\n",
    "\n",
    "\n",
    "**Description**\n",
    "\n",
    "    Given an integer array nums sorted in non-decreasing order, return an array of the squares of each number sorted in non-decreasing order.\n",
    "\n",
    "\n",
    "**Example**\n",
    "\n",
    "    Example 1:\n",
    "    Input: nums = [-4,-1,0,3,10]\n",
    "    Output: [0,1,9,16,100]\n",
    "    Explanation: After squaring, the array becomes [16,1,0,9,100].\n",
    "    After sorting, it becomes [0,1,9,16,100].\n",
    "    \n",
    "    Example 2:\n",
    "    Input: nums = [-7,-3,2,3,11]\n",
    "    Output: [4,9,9,49,121]\n",
    "\n",
    "\n",
    "**Constraints**\n",
    "\n",
    "    1 <= nums.length <= 10^4\n",
    "    -10^4 <= nums[i] <= 10^4\n",
    "    nums is sorted in non-decreasing order."
   ]
  },
  {
   "cell_type": "code",
   "execution_count": 8,
   "id": "09f9c6e1",
   "metadata": {},
   "outputs": [],
   "source": [
    "class Solution:\n",
    "    def sortedSquares(self, nums):\n",
    "        return sorted([n*n for n in nums])"
   ]
  },
  {
   "cell_type": "code",
   "execution_count": 6,
   "id": "07d836b6",
   "metadata": {},
   "outputs": [],
   "source": [
    "sol = Solution()"
   ]
  },
  {
   "cell_type": "code",
   "execution_count": 9,
   "id": "3d8cc411",
   "metadata": {},
   "outputs": [
    {
     "name": "stdout",
     "output_type": "stream",
     "text": [
      "[0, 1, 9, 16, 100]\n",
      "[4, 9, 9, 49, 121]\n"
     ]
    }
   ],
   "source": [
    "print(sol.sortedSquares([-4,-1,0,3,10]))\n",
    "print(sol.sortedSquares([-7,-3,2,3,11]))"
   ]
  },
  {
   "attachments": {
    "image.png": {
     "image/png": "[encoded data removed]"
    }
   },
   "cell_type": "markdown",
   "id": "2950c678",
   "metadata": {},
   "source": [
    "![image.png](attachment:image.png)"
   ]
  },
  {
   "cell_type": "code",
   "execution_count": null,
   "id": "914a69d0",
   "metadata": {},
   "outputs": [],
   "source": []
  },
  {
   "cell_type": "code",
   "execution_count": null,
   "id": "be2a6a79",
   "metadata": {},
   "outputs": [],
   "source": []
  },
  {
   "cell_type": "markdown",
   "id": "ccc2a87f",
   "metadata": {},
   "source": [
    "### 189. Rotate Array\n",
    "\n",
    "https://leetcode.com/problems/rotate-array/?envType=study-plan&id=algorithm-i\n",
    "\n",
    "\n",
    "**Description**\n",
    "\n",
    "    Given an integer array nums, rotate the array to the right by k steps, where k is non-negative.\n",
    "\n",
    "**Example**\n",
    "\n",
    "    Input: nums = [1,2,3,4,5,6,7], k = 3\n",
    "    Output: [5,6,7,1,2,3,4]\n",
    "    Explanation:\n",
    "    rotate 1 steps to the right: [7,1,2,3,4,5,6]\n",
    "    rotate 2 steps to the right: [6,7,1,2,3,4,5]\n",
    "    rotate 3 steps to the right: [5,6,7,1,2,3,4]\n",
    "    \n",
    "    Input: nums = [-1,-100,3,99], k = 2\n",
    "    Output: [3,99,-1,-100]\n",
    "    Explanation: \n",
    "    rotate 1 steps to the right: [99,-1,-100,3]\n",
    "    rotate 2 steps to the right: [3,99,-1,-100]\n",
    "     \n",
    "\n",
    "**Constraints**\n",
    "\n",
    "    1 <= nums.length <= 10^5\n",
    "    -2^31 <= nums[i] <= 2^31 - 1\n",
    "    0 <= k <= 10^5"
   ]
  },
  {
   "cell_type": "code",
   "execution_count": 50,
   "id": "20b2dd1d",
   "metadata": {},
   "outputs": [],
   "source": [
    "class Solution:\n",
    "    def rotate(self, nums, k):\n",
    "        \"\"\"\n",
    "        Do not return anything, modify nums in-place instead.\n",
    "        \"\"\"\n",
    "        "
   ]
  },
  {
   "cell_type": "markdown",
   "id": "63ba14eb",
   "metadata": {},
   "source": []
  },
  {
   "cell_type": "markdown",
   "id": "e072dcfb",
   "metadata": {},
   "source": [
    "nums[:] = nums[-k:] + nums[:-k]\n",
    "\n",
    "로 하게 되면 nums = [1,2] 이고 k=3 일 때 통과 못함"
   ]
  },
  {
   "cell_type": "code",
   "execution_count": null,
   "id": "9e6f5f98",
   "metadata": {},
   "outputs": [],
   "source": []
  },
  {
   "cell_type": "code",
   "execution_count": null,
   "id": "9079a76e",
   "metadata": {},
   "outputs": [],
   "source": []
  },
  {
   "cell_type": "markdown",
   "id": "9362aabc",
   "metadata": {},
   "source": [
    "### `Sol 1`"
   ]
  },
  {
   "cell_type": "code",
   "execution_count": 49,
   "id": "880fafce",
   "metadata": {},
   "outputs": [
    {
     "data": {
      "text/plain": [
       "[5, 6, 7, 1, 2, 3, 4]"
      ]
     },
     "execution_count": 49,
     "metadata": {},
     "output_type": "execute_result"
    }
   ],
   "source": [
    "nums, k  = [1,2,3,4,5,6,7],3 \n",
    "\n",
    "for _ in range(k):\n",
    "    nums.insert(0, nums.pop())\n",
    "nums\n"
   ]
  },
  {
   "cell_type": "code",
   "execution_count": null,
   "id": "7eef5128",
   "metadata": {},
   "outputs": [],
   "source": []
  },
  {
   "cell_type": "markdown",
   "id": "50932376",
   "metadata": {},
   "source": [
    "###  `Sol 2`\n",
    "공간복잡도 O(1)을 위한 풀이"
   ]
  },
  {
   "cell_type": "code",
   "execution_count": 56,
   "id": "0254b791",
   "metadata": {},
   "outputs": [
    {
     "data": {
      "text/plain": [
       "[5, 6, 7, 1, 2, 3, 4]"
      ]
     },
     "execution_count": 56,
     "metadata": {},
     "output_type": "execute_result"
    }
   ],
   "source": [
    "nums, k = [1,2,3,4,5,6,7], 3\n",
    "\n",
    "n = len(nums)\n",
    "k = k%n\n",
    "\n",
    "nums[:n-k] = nums[:n-k][::-1]\n",
    "nums[n-k:] = nums[n-k:][::-1]\n",
    "nums[:] = nums[::-1]\n",
    "\n",
    "nums"
   ]
  },
  {
   "attachments": {
    "image.png": {
     "image/png": "[encoded data removed]"
    }
   },
   "cell_type": "markdown",
   "id": "b51ae6d2",
   "metadata": {},
   "source": [
    "![image.png](attachment:image.png)"
   ]
  },
  {
   "cell_type": "code",
   "execution_count": null,
   "id": "f881fed2",
   "metadata": {},
   "outputs": [],
   "source": []
  },
  {
   "cell_type": "code",
   "execution_count": 58,
   "id": "9da5ddc6",
   "metadata": {},
   "outputs": [
    {
     "data": {
      "text/plain": [
       "[5, 6, 7, 1, 2, 3, 4]"
      ]
     },
     "execution_count": 58,
     "metadata": {},
     "output_type": "execute_result"
    }
   ],
   "source": [
    "nums = [1,2,3,4,5,6,7]\n",
    "k = 3\n",
    "\n",
    "k = k% len(nums)\n",
    "\n",
    "nums[n-k:] = nums[n-k:][::-1]\n",
    "nums[:n-k] = nums[:n-k][::-1]\n",
    "nums[:] = nums[:][::-1]\n",
    "\n",
    "nums"
   ]
  },
  {
   "cell_type": "code",
   "execution_count": null,
   "id": "f9b2d873",
   "metadata": {},
   "outputs": [],
   "source": []
  },
  {
   "cell_type": "markdown",
   "id": "8507b886",
   "metadata": {},
   "source": [
    "    - original array를 전체 역순하고, 앞의 k개 만큼 역순, k+1 부터 마지막까지 역순으로 하는 풀이"
   ]
  },
  {
   "cell_type": "code",
   "execution_count": null,
   "id": "1ec44c1d",
   "metadata": {},
   "outputs": [],
   "source": []
  },
  {
   "cell_type": "code",
   "execution_count": null,
   "id": "cb583f77",
   "metadata": {},
   "outputs": [],
   "source": []
  }
 ],
 "metadata": {
  "kernelspec": {
   "display_name": "Python 3 (ipykernel)",
   "language": "python",
   "name": "python3"
  },
  "language_info": {
   "codemirror_mode": {
    "name": "ipython",
    "version": 3
   },
   "file_extension": ".py",
   "mimetype": "text/x-python",
   "name": "python",
   "nbconvert_exporter": "python",
   "pygments_lexer": "ipython3",
   "version": "3.9.12"
  }
 },
 "nbformat": 4,
 "nbformat_minor": 5
}
