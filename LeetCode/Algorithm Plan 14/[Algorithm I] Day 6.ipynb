{
 "cells": [
  {
   "cell_type": "markdown",
   "id": "d659d416",
   "metadata": {},
   "source": [
    "## 3. Longest Substring Without Repeating Characters\n",
    "https://leetcode.com/problems/longest-substring-without-repeating-characters/?envType=study-plan&id=algorithm-i\n",
    "\n",
    "**Description**\n",
    "\n",
    "Given a string s, find the length of the longest \n",
    "substring\n",
    " without repeating characters.\n",
    "\n",
    "**Example** \n",
    "\n",
    "    Example 1:\n",
    "\n",
    "    Input: s = \"abcabcbb\"\n",
    "    Output: 3\n",
    "    Explanation: The answer is \"abc\", with the length of 3.\n",
    "    \n",
    "    Example 2:\n",
    "\n",
    "    Input: s = \"bbbbb\"\n",
    "    Output: 1\n",
    "    Explanation: The answer is \"b\", with the length of 1.\n",
    "    \n",
    "    Example 3:\n",
    "\n",
    "    Input: s = \"pwwkew\"\n",
    "    Output: 3\n",
    "    Explanation: The answer is \"wke\", with the length of 3.\n",
    "    Notice that the answer must be a substring, \"pwke\" is a subsequence and not a substring, \"pwke\" is a subsequence and not a substring.\n",
    " \n",
    "\n",
    "**Constraints:**\n",
    "\n",
    "    0 <= s.length <= 5 * 10^4\n",
    "    s consists of English letters, digits, symbols and spaces.\n"
   ]
  },
  {
   "cell_type": "code",
   "execution_count": 83,
   "id": "2caffa85",
   "metadata": {},
   "outputs": [],
   "source": [
    "class Solution:\n",
    "    def lengthOfLongestSubstring(self, s: str):\n",
    "        answer, start = 0,0\n",
    "        tmpDict = {}\n",
    "\n",
    "        for end, string in enumerate(s):\n",
    "            if string in tmpDict and start<=tmpDict[string]:\n",
    "                start = tmpDict[string]+1\n",
    "\n",
    "            else:\n",
    "                answer= max(answer, end-start+1)\n",
    "            tmpDict[string] = end\n",
    "\n",
    "        return answer"
   ]
  },
  {
   "cell_type": "code",
   "execution_count": 84,
   "id": "3d55857d",
   "metadata": {},
   "outputs": [
    {
     "name": "stdout",
     "output_type": "stream",
     "text": [
      "3\n",
      "1\n",
      "3\n"
     ]
    }
   ],
   "source": [
    "sol = Solution()\n",
    "print(sol.lengthOfLongestSubstring('abcabcbb'))\n",
    "print(sol.lengthOfLongestSubstring('bbbbb'))\n",
    "print(sol.lengthOfLongestSubstring('pwwkew'))"
   ]
  },
  {
   "cell_type": "markdown",
   "id": "dab75a52",
   "metadata": {},
   "source": [
    "![](https://velog.velcdn.com/images/heyggun/post/eafcb374-c8c4-4331-a5ae-ede70899f21d/image.png)"
   ]
  },
  {
   "cell_type": "code",
   "execution_count": 82,
   "id": "8341621f",
   "metadata": {},
   "outputs": [
    {
     "name": "stdout",
     "output_type": "stream",
     "text": [
      "0 0\n",
      "{'p': 0}\n",
      "0 1\n",
      "{'p': 0, 'w': 1}\n",
      "{'p': 0, 'w': 2}\n",
      "2 3\n",
      "{'p': 0, 'w': 2, 'k': 3}\n",
      "2 4\n",
      "{'p': 0, 'w': 2, 'k': 3, 'e': 4}\n",
      "{'p': 0, 'w': 5, 'k': 3, 'e': 4}\n"
     ]
    },
    {
     "data": {
      "text/plain": [
       "3"
      ]
     },
     "execution_count": 82,
     "metadata": {},
     "output_type": "execute_result"
    }
   ],
   "source": [
    "s = 'pwwkew'\n",
    "\n",
    "answer, start = 0,0\n",
    "tmpDict = {}\n",
    "\n",
    "for end, string in enumerate(s):\n",
    "    if string in tmpDict and start<=tmpDict[string]:\n",
    "        start = tmpDict[string]+1\n",
    "        \n",
    "    else:\n",
    "        answer= max(answer, end-start+1)\n",
    "    tmpDict[string] = end\n",
    "    \n",
    "answer"
   ]
  },
  {
   "cell_type": "code",
   "execution_count": null,
   "id": "dc0d72a4",
   "metadata": {},
   "outputs": [],
   "source": []
  },
  {
   "cell_type": "code",
   "execution_count": null,
   "id": "299f7918",
   "metadata": {},
   "outputs": [],
   "source": []
  },
  {
   "cell_type": "code",
   "execution_count": null,
   "id": "1fb7b635",
   "metadata": {},
   "outputs": [],
   "source": []
  },
  {
   "cell_type": "code",
   "execution_count": null,
   "id": "79deda97",
   "metadata": {},
   "outputs": [],
   "source": []
  },
  {
   "cell_type": "markdown",
   "id": "8ed4c75d",
   "metadata": {},
   "source": [
    "## 567. Permutation in String\n",
    "\n",
    "https://leetcode.com/problems/permutation-in-string/?envType=study-plan&id=algorithm-i\n",
    "\n",
    "\n",
    "\n",
    "**Description**\n",
    "\n",
    "    Given two strings s1 and s2, return true if s2 contains a permutation of s1, or false otherwise.\n",
    "    In other words, return true if one of s1's permutations is the substring of s2.\n",
    "\n",
    " \n",
    "**Examples**\n",
    "\n",
    "    Example 1:\n",
    "    Input: s1 = \"ab\", s2 = \"eidbaooo\"\n",
    "    Output: true\n",
    "    Explanation: s2 contains one permutation of s1 (\"ba\").\n",
    "    \n",
    "    Example 2:\n",
    "    Input: s1 = \"ab\", s2 = \"eidboaoo\"\n",
    "    Output: false\n",
    " \n",
    "\n",
    "**Constraints**\n",
    "\n",
    "    1 <= s1.length, s2.length <= 104\n",
    "    s1 and s2 consist of lowercase English letters."
   ]
  },
  {
   "cell_type": "code",
   "execution_count": 74,
   "id": "4329f54e",
   "metadata": {},
   "outputs": [],
   "source": [
    "from collections import Counter\n",
    "\n",
    "class Solution:\n",
    "    def checkInclusion(self, s1: str, s2: str):\n",
    "        s1Cnt = Counter(s1)\n",
    "        for i in range(len(s2)):\n",
    "            subword = s2[i:i+len(s1)]\n",
    "            s2Cnt = Counter(subword)\n",
    "            if s1Cnt == s2Cnt:\n",
    "                return True\n",
    "        \n",
    "        return False"
   ]
  },
  {
   "cell_type": "code",
   "execution_count": 75,
   "id": "eb1206e1",
   "metadata": {},
   "outputs": [
    {
     "name": "stdout",
     "output_type": "stream",
     "text": [
      "True\n",
      "False\n"
     ]
    }
   ],
   "source": [
    "sol = Solution()\n",
    "print(sol.checkInclusion(\"ab\",\"eidbaooo\"))\n",
    "print(sol.checkInclusion(\"ab\",\"eidboaoo\"))"
   ]
  },
  {
   "cell_type": "code",
   "execution_count": 71,
   "id": "5c4b66b6",
   "metadata": {},
   "outputs": [
    {
     "data": {
      "text/plain": [
       "True"
      ]
     },
     "execution_count": 71,
     "metadata": {},
     "output_type": "execute_result"
    }
   ],
   "source": [
    "from collections import Counter\n",
    "\n",
    "s1, s2 = 'abc', 'bbbca'\n",
    "answer = False\n",
    "s1Cnt = Counter(s1)\n",
    "for i in range(len(s2)):\n",
    "    subword = s2[i:i+len(s1)]\n",
    "    s2Cnt = Counter(subword)\n",
    "    if s1Cnt == s2Cnt:\n",
    "        answer = True\n",
    "        break\n",
    "        \n",
    "answer"
   ]
  },
  {
   "attachments": {
    "image.png": {
     "image/png": "[encoded data removed]"
    }
   },
   "cell_type": "markdown",
   "id": "28584158",
   "metadata": {},
   "source": [
    "![image.png](attachment:image.png)"
   ]
  },
  {
   "cell_type": "code",
   "execution_count": 67,
   "id": "6d2cf959",
   "metadata": {},
   "outputs": [],
   "source": [
    "class Solution:\n",
    "    def checkInclusion(self, s1: str, s2: str):\n",
    "        # cnt_1 = collections.Counter(s1)\n",
    "        cnt_1 = {}\n",
    "        for s in s1: cnt_1[s] = cnt_1.get(s, 0) + 1\n",
    "        len_s1 = len(s1)\n",
    "\n",
    "        for i in range(len(s2) - len_s1 + 1):\n",
    "            sub_str = s2[i: i + len_s1]\n",
    "            cnt_2 = collections.Counter(sub_str)\n",
    "            if cnt_1 == cnt_2:\n",
    "                return True\n",
    "        \n",
    "        return False\n"
   ]
  },
  {
   "cell_type": "code",
   "execution_count": 76,
   "id": "cbc0a7f1",
   "metadata": {},
   "outputs": [],
   "source": [
    "import collections\n",
    "class Solution:\n",
    "    def checkInclusion(self, s1: str, s2: str) -> bool:\n",
    "        m = len(s1)\n",
    "        n = len(s2)\n",
    "\n",
    "        if m > m:\n",
    "            return False\n",
    "\n",
    "        need = m\n",
    "\n",
    "        dic = collections.defaultdict(int)\n",
    "        for c in s1:\n",
    "            dic[c] += 1\n",
    "\n",
    "        left = 0\n",
    "        for right in range(n):\n",
    "            cur = s2[right]\n",
    "            if cur in dic:\n",
    "                if dic[cur] > 0:\n",
    "                    need -= 1\n",
    "                dic[cur] -= 1\n",
    "            \n",
    "            left = right - m\n",
    "            if left >= 0:\n",
    "                cur = s2[left]\n",
    "                if cur in dic:\n",
    "                    if dic[cur] >= 0:\n",
    "                        need += 1\n",
    "                    dic[cur] += 1\n",
    "            if need == 0:\n",
    "                return True\n",
    "        return False\n",
    "                "
   ]
  },
  {
   "cell_type": "code",
   "execution_count": null,
   "id": "065437ba",
   "metadata": {},
   "outputs": [],
   "source": []
  }
 ],
 "metadata": {
  "kernelspec": {
   "display_name": "Python 3 (ipykernel)",
   "language": "python",
   "name": "python3"
  },
  "language_info": {
   "codemirror_mode": {
    "name": "ipython",
    "version": 3
   },
   "file_extension": ".py",
   "mimetype": "text/x-python",
   "name": "python",
   "nbconvert_exporter": "python",
   "pygments_lexer": "ipython3",
   "version": "3.9.13"
  }
 },
 "nbformat": 4,
 "nbformat_minor": 5
}
