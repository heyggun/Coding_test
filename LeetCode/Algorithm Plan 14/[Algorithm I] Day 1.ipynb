{
 "cells": [
  {
   "cell_type": "markdown",
   "id": "33e5d08c",
   "metadata": {},
   "source": [
    "### 704. Binary Search\n",
    "\n",
    "https://leetcode.com/problems/binary-search/?envType=study-plan&id=algorithm-i"
   ]
  },
  {
   "cell_type": "markdown",
   "id": "a8291641",
   "metadata": {},
   "source": [
    "**Descriptioon**\n",
    "\n",
    "    Given an array of integers nums which is sorted in ascending order, and an integer target, write a function to search target in nums. If target exists, then return its index. Otherwise, return -1.\n",
    "    \n",
    "    You must write an algorithm with O(log n) runtime complexity.\n",
    "    \n",
    "**Example**\n",
    "\n",
    "    Example 1:\n",
    "\n",
    "    Input: nums = [-1,0,3,5,9,12], target = 9\n",
    "    Output: 4\n",
    "    Explanation: 9 exists in nums and its index is 4\n",
    "    \n",
    "    Example 2:\n",
    "    Input: nums = [-1,0,3,5,9,12], target = 2\n",
    "    Output: -1\n",
    "    Explanation: 2 does not exist in nums so return -1\n",
    " \n",
    "\n",
    "**Constraints:**\n",
    "\n",
    "    1 <= nums.length <= 104\n",
    "    -104 < nums[i], target < 104\n",
    "    All the integers in nums are unique.\n",
    "    nums is sorted in ascending order."
   ]
  },
  {
   "cell_type": "code",
   "execution_count": 21,
   "id": "bca28df1",
   "metadata": {},
   "outputs": [],
   "source": [
    "class Solution:\n",
    "    def search(self, nums, target):\n",
    "        start, end = 0, len(nums)-1\n",
    "        \n",
    "        while start <=end:\n",
    "            mid = (start+end)//2\n",
    "            \n",
    "            if nums[mid] == target:\n",
    "                return mid\n",
    "            \n",
    "            elif nums[mid] < target:\n",
    "                start = mid+1\n",
    "            else:\n",
    "                end = mid-1\n",
    "                \n",
    "        return -1"
   ]
  },
  {
   "cell_type": "code",
   "execution_count": 22,
   "id": "c5f5eaed",
   "metadata": {},
   "outputs": [],
   "source": [
    "sol = Solution()"
   ]
  },
  {
   "cell_type": "code",
   "execution_count": 23,
   "id": "823d49d7",
   "metadata": {},
   "outputs": [
    {
     "data": {
      "text/plain": [
       "4"
      ]
     },
     "execution_count": 23,
     "metadata": {},
     "output_type": "execute_result"
    }
   ],
   "source": [
    "sol.search([-1,0,3,5,9,12],9)"
   ]
  },
  {
   "cell_type": "code",
   "execution_count": 24,
   "id": "4529a316",
   "metadata": {},
   "outputs": [
    {
     "data": {
      "text/plain": [
       "-1"
      ]
     },
     "execution_count": 24,
     "metadata": {},
     "output_type": "execute_result"
    }
   ],
   "source": [
    "sol.search([-1,0,3,5,9,12],2)"
   ]
  },
  {
   "attachments": {
    "image.png": {
     "image/png": "[encoded data removed]"
    }
   },
   "cell_type": "markdown",
   "id": "fa4a4e6a",
   "metadata": {},
   "source": [
    "![image.png](attachment:image.png)"
   ]
  },
  {
   "cell_type": "code",
   "execution_count": null,
   "id": "64682b91",
   "metadata": {},
   "outputs": [],
   "source": []
  },
  {
   "cell_type": "markdown",
   "id": "492b7d42",
   "metadata": {},
   "source": [
    "### 278. First Bad Version\n",
    "\n",
    "https://leetcode.com/problems/first-bad-version/?envType=study-plan&id=algorithm-i\n",
    "\n",
    "\n",
    "**Description**\n",
    "\n",
    "    You are a product manager and currently leading a team to develop a new product. Unfortunately, the latest version of your product fails the quality check. Since each version is developed based on the previous version, all the versions after a bad version are also bad.\n",
    "\n",
    "    Suppose you have n versions [1, 2, ..., n] and you want to find out the first bad one, which causes all the following ones to be bad.\n",
    "\n",
    "    You are given an API bool isBadVersion(version) which returns whether version is bad. Implement a function to find the first bad version. You should minimize the number of calls to the API.\n",
    "    \n",
    "    \n",
    "**Example**\n",
    "\n",
    "    Input: n = 5, bad = 4\n",
    "    Output: 4\n",
    "    Explanation:\n",
    "    call isBadVersion(3) -> false\n",
    "    call isBadVersion(5) -> true\n",
    "    call isBadVersion(4) -> true\n",
    "    Then 4 is the first bad version.\n",
    "    \n",
    "    Example 2:\n",
    "    Input: n = 1, bad = 1\n",
    "    Output: 1\n",
    "\n",
    "**Constraints**\n",
    "\n",
    "    1 <= bad <= n <= 2^31 - 1"
   ]
  },
  {
   "cell_type": "code",
   "execution_count": 95,
   "id": "a61f5ee2",
   "metadata": {},
   "outputs": [],
   "source": [
    "class Solution:\n",
    "    \n",
    "    def firstBadVersion(self, n):\n",
    "        start, end = 1, n\n",
    "        while start <= end:\n",
    "            mid = (start+end)//2\n",
    "            if \n",
    "                end = mid-1\n",
    "            else:\n",
    "                start = mid+1\n",
    "                \n",
    "        return start"
   ]
  },
  {
   "cell_type": "code",
   "execution_count": 96,
   "id": "ee13c21a",
   "metadata": {},
   "outputs": [],
   "source": [
    "sol = Solution()"
   ]
  },
  {
   "cell_type": "code",
   "execution_count": null,
   "id": "fcb51117",
   "metadata": {},
   "outputs": [],
   "source": []
  },
  {
   "cell_type": "code",
   "execution_count": 111,
   "id": "e830ffc3",
   "metadata": {},
   "outputs": [],
   "source": [
    "# The isBadVersion API is already defined for you.\n",
    "# def isBadVersion(version: int) -> bool:\n",
    "\n",
    "class Solution:\n",
    "    def firstBadVersion(self, n):\n",
    "        start, end = 1,n \n",
    "        while start <= end:\n",
    "            mid = (start+end)//2\n",
    "            if isBadVersion(mid):\n",
    "                end = mid-1\n",
    "            else:\n",
    "                start = mid+1\n",
    "\n",
    "        return start"
   ]
  },
  {
   "attachments": {
    "image.png": {
     "image/png": "[encoded data removed]"
    }
   },
   "cell_type": "markdown",
   "id": "20462afc",
   "metadata": {},
   "source": [
    "![image.png](attachment:image.png)"
   ]
  },
  {
   "cell_type": "code",
   "execution_count": null,
   "id": "d17f6511",
   "metadata": {},
   "outputs": [],
   "source": []
  },
  {
   "cell_type": "markdown",
   "id": "3dce4199",
   "metadata": {},
   "source": [
    "### 35. Search Insert Position\n",
    "\n",
    "https://leetcode.com/problems/search-insert-position/?envType=study-plan&id=algorithm-i\n",
    "\n",
    "\n",
    "**Description**\n",
    "\n",
    "       Given a sorted array of distinct integers and a target value, return the index if the target is found. If not, return the index where it would be if it were inserted in order.\n",
    "\n",
    "    You must write an algorithm with O(log n) runtime complexity.\n",
    "\n",
    "\n",
    "    \n",
    "**Example**\n",
    "\n",
    "    Input: nums = [1,3,5,6], target = 5\n",
    "    Output: 2\n",
    "    \n",
    "    Example 2:\n",
    "    Input: nums = [1,3,5,6], target = 2\n",
    "    Output: 1\n",
    "    \n",
    "    Example 3:\n",
    "    Input: nums = [1,3,5,6], target = 7\n",
    "    Output: 4\n",
    "\n",
    "**Constraints**\n",
    "\n",
    "    1 <= nums.length <= 104\n",
    "    -10^4 <= nums[i] <= 10^4\n",
    "    nums contains distinct values sorted in ascending order.\n",
    "    -10^4 <= target <= 10^4"
   ]
  },
  {
   "cell_type": "code",
   "execution_count": 91,
   "id": "01d0c5f0",
   "metadata": {},
   "outputs": [],
   "source": [
    "class Solution:\n",
    "    def searchInsert(self, nums, target):        \n",
    "        start, end = 0, len(nums)-1\n",
    "        \n",
    "        while start <= end:\n",
    "            mid = (start+end)//2\n",
    "            \n",
    "            if nums[mid]==target:\n",
    "                return mid\n",
    "            \n",
    "            elif nums[mid] < target:\n",
    "                start = mid+1\n",
    "                \n",
    "            else:\n",
    "                end = mid-1\n",
    "                \n",
    "        return end+1\n",
    "            \n",
    "        "
   ]
  },
  {
   "cell_type": "code",
   "execution_count": 92,
   "id": "83311c54",
   "metadata": {},
   "outputs": [],
   "source": [
    "sol = Solution()"
   ]
  },
  {
   "cell_type": "code",
   "execution_count": 94,
   "id": "54cd9a98",
   "metadata": {},
   "outputs": [
    {
     "name": "stdout",
     "output_type": "stream",
     "text": [
      "2\n",
      "1\n",
      "4\n"
     ]
    }
   ],
   "source": [
    "print(sol.searchInsert([1,3,5,6],5))\n",
    "print(sol.searchInsert([1,3,5,6],2))\n",
    "print(sol.searchInsert([1,3,5,6],7))"
   ]
  },
  {
   "cell_type": "code",
   "execution_count": null,
   "id": "1690b11d",
   "metadata": {},
   "outputs": [],
   "source": []
  },
  {
   "attachments": {
    "image.png": {
     "image/png": "[encoded data removed]"
    }
   },
   "cell_type": "markdown",
   "id": "455bd6db",
   "metadata": {},
   "source": [
    "![image.png](attachment:image.png)"
   ]
  },
  {
   "cell_type": "code",
   "execution_count": null,
   "id": "1edf05e8",
   "metadata": {},
   "outputs": [],
   "source": []
  }
 ],
 "metadata": {
  "kernelspec": {
   "display_name": "Python 3 (ipykernel)",
   "language": "python",
   "name": "python3"
  },
  "language_info": {
   "codemirror_mode": {
    "name": "ipython",
    "version": 3
   },
   "file_extension": ".py",
   "mimetype": "text/x-python",
   "name": "python",
   "nbconvert_exporter": "python",
   "pygments_lexer": "ipython3",
   "version": "3.9.12"
  }
 },
 "nbformat": 4,
 "nbformat_minor": 5
}
