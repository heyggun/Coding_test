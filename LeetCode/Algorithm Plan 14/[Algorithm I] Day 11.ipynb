{
 "cells": [
  {
   "cell_type": "markdown",
   "id": "4e837f00",
   "metadata": {},
   "source": [
    "# LeetCode (Algorithm 11)\n",
    "\n",
    "\n",
    "## 77.\n",
    "https://leetcode.com/problems/combinations/?envType=study-plan&id=algorithm-i\n",
    "\n",
    "**Descriptions**\n",
    "\n",
    "    Given two integers n and k, return all possible combinations of k numbers chosen from the range [1, n].\n",
    "    You may return the answer in any order.\n",
    "\n",
    "\n",
    "**Examples**\n",
    "\n",
    "\n",
    "    Input: n = 4, k = 2\n",
    "    Output: [[1,2],[1,3],[1,4],[2,3],[2,4],[3,4]]\n",
    "    Explanation: There are 4 choose 2 = 6 total combinations.\n",
    "    Note that combinations are unordered, i.e., [1,2] and [2,1] are considered to be the same combination.\n",
    "    \n",
    "    Example 2:\n",
    "    Input: n = 1, k = 1\n",
    "    Output: [[1]]\n",
    "    Explanation: There is 1 choose 1 = 1 total combination.\n",
    "\n",
    "\n",
    "**Constraints**\n",
    "\n",
    "    1 <= n <= 20\n",
    "    1 <= k <= n"
   ]
  },
  {
   "cell_type": "code",
   "execution_count": 7,
   "id": "90edd7a0",
   "metadata": {},
   "outputs": [],
   "source": [
    "class Solution:\n",
    "    def combine(self, n: int, k: int):\n",
    "        return [list(com) for com in combinations(range(1, n+1),k)]"
   ]
  },
  {
   "cell_type": "code",
   "execution_count": 10,
   "id": "bbe83106",
   "metadata": {},
   "outputs": [
    {
     "name": "stdout",
     "output_type": "stream",
     "text": [
      "[[1, 2], [1, 3], [1, 4], [2, 3], [2, 4], [3, 4]]\n",
      "[[1]]\n"
     ]
    }
   ],
   "source": [
    "sol = Solution()\n",
    "print(sol.combine(4,2))\n",
    "print(sol.combine(1,1))"
   ]
  },
  {
   "cell_type": "code",
   "execution_count": null,
   "id": "e31a4050",
   "metadata": {},
   "outputs": [],
   "source": []
  },
  {
   "cell_type": "code",
   "execution_count": 6,
   "id": "a37e1256",
   "metadata": {},
   "outputs": [
    {
     "data": {
      "text/plain": [
       "[[1, 2], [1, 3], [1, 4], [2, 3], [2, 4], [3, 4]]"
      ]
     },
     "execution_count": 6,
     "metadata": {},
     "output_type": "execute_result"
    }
   ],
   "source": [
    "from itertools import combinations\n",
    "\n",
    "n,k = 4, 2\n",
    "\n",
    "[list(com) for com in combinations(range(1, n+1),k)]"
   ]
  },
  {
   "cell_type": "code",
   "execution_count": null,
   "id": "0c59f5ec",
   "metadata": {},
   "outputs": [],
   "source": []
  },
  {
   "cell_type": "code",
   "execution_count": null,
   "id": "b84ab690",
   "metadata": {},
   "outputs": [],
   "source": []
  },
  {
   "cell_type": "markdown",
   "id": "06300788",
   "metadata": {},
   "source": [
    "**backtracking을 이용한 풀이**"
   ]
  },
  {
   "cell_type": "code",
   "execution_count": 19,
   "id": "b47ffcb3",
   "metadata": {},
   "outputs": [],
   "source": [
    "class Solution:\n",
    "    def combine(self, n: int, k: int):\n",
    "        \n",
    "        answer = []\n",
    "        \n",
    "        def backTracking(start,coms):\n",
    "            if len(coms)==k:\n",
    "                answer.append(coms.copy())\n",
    "                return\n",
    "            for i in range(start, n+1):\n",
    "                coms.append(i)\n",
    "                backTracking(i+1, coms)\n",
    "                coms.pop()\n",
    "                \n",
    "        backTracking(1, [])\n",
    "        \n",
    "        return answer"
   ]
  },
  {
   "cell_type": "code",
   "execution_count": 20,
   "id": "e169faed",
   "metadata": {},
   "outputs": [
    {
     "name": "stdout",
     "output_type": "stream",
     "text": [
      "[[1, 2], [1, 3], [1, 4], [2, 3], [2, 4], [3, 4]]\n",
      "[[1]]\n"
     ]
    }
   ],
   "source": [
    "sol = Solution()\n",
    "print(sol.combine(4,2))\n",
    "print(sol.combine(1,1))"
   ]
  },
  {
   "cell_type": "code",
   "execution_count": 12,
   "id": "6e44bd5e",
   "metadata": {},
   "outputs": [
    {
     "data": {
      "text/plain": [
       "[[1, 2], [1, 3], [1, 4], [2, 3], [2, 4], [3, 4]]"
      ]
     },
     "execution_count": 12,
     "metadata": {},
     "output_type": "execute_result"
    }
   ],
   "source": [
    "answer = []\n",
    "n,k = 4,2\n",
    "\n",
    "def backtracking(start, coms):\n",
    "    if len(coms) == k:\n",
    "        answer.append(coms.copy())\n",
    "        return\n",
    "    \n",
    "    for i in range(start, n+1):\n",
    "        coms.append(i)\n",
    "        backtracking(i+1, coms)\n",
    "        coms.pop()\n",
    "        \n",
    "    return\n",
    "\n",
    "backtracking(1,[])\n",
    "\n",
    "answer\n",
    "        "
   ]
  },
  {
   "cell_type": "code",
   "execution_count": null,
   "id": "99af1bf5",
   "metadata": {},
   "outputs": [],
   "source": []
  },
  {
   "cell_type": "code",
   "execution_count": null,
   "id": "40a05bce",
   "metadata": {},
   "outputs": [],
   "source": []
  },
  {
   "cell_type": "code",
   "execution_count": null,
   "id": "7cd8a9a3",
   "metadata": {},
   "outputs": [],
   "source": []
  },
  {
   "cell_type": "markdown",
   "id": "db870b69",
   "metadata": {},
   "source": [
    "## 77. Combinations\n",
    "\n",
    "https://leetcode.com/problems/permutations/?envType=study-plan&id=algorithm-i\n",
    "\n",
    "\n",
    "**Descriptions**\n",
    "\n",
    "    Given an array nums of distinct integers, return all the possible permutations. You can return the answer in any order.\n",
    "\n",
    " \n",
    "**Examples**\n",
    "\n",
    "    Example 1:\n",
    "    Input: nums = [1,2,3]\n",
    "    Output: [[1,2,3],[1,3,2],[2,1,3],[2,3,1],[3,1,2],[3,2,1]]\n",
    "   \n",
    "    Example 2:\n",
    "    Input: nums = [0,1]\n",
    "    Output: [[0,1],[1,0]]\n",
    "    \n",
    "    Example 3:\n",
    "    Input: nums = [1]\n",
    "    Output: [[1]]\n",
    "\n",
    "\n",
    "**Constraints**\n",
    "\n",
    "\n",
    "    1 <= nums.length <= 6\n",
    "    -10 <= nums[i] <= 10\n",
    "    All the integers of nums are unique."
   ]
  },
  {
   "cell_type": "code",
   "execution_count": 33,
   "id": "2112dd5e",
   "metadata": {},
   "outputs": [],
   "source": [
    "from itertools import permutations\n",
    "\n",
    "class Solution:\n",
    "    def permute(self, nums: list[int]):\n",
    "        return [list(per) for per in permutations(nums, len(nums))]\n",
    "        "
   ]
  },
  {
   "cell_type": "code",
   "execution_count": 34,
   "id": "6aeca08b",
   "metadata": {},
   "outputs": [
    {
     "name": "stdout",
     "output_type": "stream",
     "text": [
      "[[1, 2, 3], [1, 3, 2], [2, 1, 3], [2, 3, 1], [3, 1, 2], [3, 2, 1]]\n",
      "[[0, 1], [1, 0]]\n",
      "[[1]]\n"
     ]
    }
   ],
   "source": [
    "sol = Solution()\n",
    "print(sol.permute([1,2,3]))\n",
    "print(sol.permute([0,1]))\n",
    "print(sol.permute([1]))"
   ]
  },
  {
   "cell_type": "code",
   "execution_count": 35,
   "id": "db9d457b",
   "metadata": {},
   "outputs": [
    {
     "data": {
      "text/plain": [
       "[(1, 2, 3), (1, 3, 2), (2, 1, 3), (2, 3, 1), (3, 1, 2), (3, 2, 1)]"
      ]
     },
     "execution_count": 35,
     "metadata": {},
     "output_type": "execute_result"
    }
   ],
   "source": [
    "nums = [1,2,3]\n",
    "list(permutations(nums,len(nums)))"
   ]
  },
  {
   "cell_type": "code",
   "execution_count": null,
   "id": "78ace87b",
   "metadata": {},
   "outputs": [],
   "source": []
  },
  {
   "cell_type": "markdown",
   "id": "36aba19d",
   "metadata": {},
   "source": [
    "**BackTracking**"
   ]
  },
  {
   "cell_type": "code",
   "execution_count": 36,
   "id": "3b6efee4",
   "metadata": {},
   "outputs": [
    {
     "data": {
      "text/plain": [
       "[[1, 2, 3], [1, 3, 2], [2, 1, 3], [2, 3, 1], [3, 1, 2], [3, 2, 1]]"
      ]
     },
     "execution_count": 36,
     "metadata": {},
     "output_type": "execute_result"
    }
   ],
   "source": [
    "nums = [1,2,3]\n",
    "n = len(nums)\n",
    "answer = []\n",
    "\n",
    "def backTracking(stack, seen):\n",
    "    if len(stack) == n:\n",
    "        answer.append(stack[:])\n",
    "        return\n",
    "    \n",
    "    for i in range(n):\n",
    "        if nums[i] not in seen:\n",
    "            stack.append(nums[i])\n",
    "            seen.add(nums[i])\n",
    "            backTracking(stack, seen)\n",
    "            stack.pop()\n",
    "            seen.remove(nums[i])\n",
    "            \n",
    "backTracking([], set())\n",
    "answer"
   ]
  },
  {
   "cell_type": "code",
   "execution_count": 51,
   "id": "de57aaec",
   "metadata": {},
   "outputs": [],
   "source": [
    "from itertools import permutations\n",
    "\n",
    "class Solution:\n",
    "    def permute(self, nums: list[int]):\n",
    "        answer = []\n",
    "        \n",
    "        def backTracking(stack, seen):\n",
    "            if len(stack)==len(nums):\n",
    "                answer.append(stack[:])\n",
    "                return\n",
    "            \n",
    "            for i in range(len(nums)):\n",
    "                if nums[i] not in seen:\n",
    "                    stack.append(nums[i])\n",
    "                    seen.add(nums[i])\n",
    "                    backTracking(stack, seen)\n",
    "                    stack.pop()\n",
    "                    seen.remove(nums[i])\n",
    "                    \n",
    "        backTracking([], set())\n",
    "        \n",
    "        return answer"
   ]
  },
  {
   "cell_type": "code",
   "execution_count": 52,
   "id": "e6caee23",
   "metadata": {},
   "outputs": [
    {
     "name": "stdout",
     "output_type": "stream",
     "text": [
      "[[1, 2, 3], [1, 3, 2], [2, 1, 3], [2, 3, 1], [3, 1, 2], [3, 2, 1]]\n",
      "[[0, 1], [1, 0]]\n",
      "[[1]]\n"
     ]
    }
   ],
   "source": [
    "sol = Solution()\n",
    "print(sol.permute([1,2,3]))\n",
    "print(sol.permute([0,1]))\n",
    "print(sol.permute([1]))"
   ]
  },
  {
   "cell_type": "code",
   "execution_count": null,
   "id": "143c4e62",
   "metadata": {},
   "outputs": [],
   "source": []
  },
  {
   "cell_type": "code",
   "execution_count": null,
   "id": "22cbf846",
   "metadata": {},
   "outputs": [],
   "source": []
  },
  {
   "cell_type": "code",
   "execution_count": null,
   "id": "32d44aea",
   "metadata": {},
   "outputs": [],
   "source": []
  },
  {
   "cell_type": "code",
   "execution_count": null,
   "id": "a71a7999",
   "metadata": {},
   "outputs": [],
   "source": []
  },
  {
   "cell_type": "markdown",
   "id": "5712ff3b",
   "metadata": {},
   "source": [
    "## 785.\n",
    "\n",
    "**Descriptions**\n",
    "\n",
    "    Given a string s, you can transform every letter individually to be lowercase or uppercase to create another string.\n",
    "    Return a list of all possible strings we could create. Return the output in any order.\n",
    "\n",
    "**Examples**\n",
    "\n",
    "\n",
    "    Example 1:\n",
    "    Input: s = \"a1b2\"\n",
    "    Output: [\"a1b2\",\"a1B2\",\"A1b2\",\"A1B2\"]\n",
    "    \n",
    "    Example 2:\n",
    "    Input: s = \"3z4\"\n",
    "    Output: [\"3z4\",\"3Z4\"]\n",
    "\n",
    "\n",
    "**Constraints**\n",
    "\n",
    "    1 <= s.length <= 12\n",
    "    s consists of lowercase English letters, uppercase English letters, and digits."
   ]
  },
  {
   "cell_type": "code",
   "execution_count": 82,
   "id": "7ea90393",
   "metadata": {},
   "outputs": [],
   "source": [
    "class Solution:\n",
    "    def letterCasePermutation(self, s: str):\n",
    "        answer = ['']\n",
    "        for string in s:\n",
    "            if string.isalpha():\n",
    "                answer = [i+j for i in answer for j in [string.upper(), string.lower()]]\n",
    "\n",
    "            else:\n",
    "                answer = [i+string for i in answer]\n",
    "        \n",
    "        return answer"
   ]
  },
  {
   "cell_type": "code",
   "execution_count": null,
   "id": "05276696",
   "metadata": {},
   "outputs": [],
   "source": [
    "sol =Solution()\n",
    "print()"
   ]
  },
  {
   "cell_type": "code",
   "execution_count": null,
   "id": "e0d59bf7",
   "metadata": {},
   "outputs": [],
   "source": []
  },
  {
   "cell_type": "code",
   "execution_count": 74,
   "id": "4278f371",
   "metadata": {},
   "outputs": [
    {
     "data": {
      "text/plain": [
       "['A1B2', 'A1b2', 'a1B2', 'a1b2']"
      ]
     },
     "execution_count": 74,
     "metadata": {},
     "output_type": "execute_result"
    }
   ],
   "source": [
    "s = 'a1b2'\n",
    "\n",
    "answer = ['']\n",
    "for string in s:\n",
    "    if string.isalpha():\n",
    "        answer = [i+j for i in answer for j in [string.upper(), string.lower()]]\n",
    "        \n",
    "    else:\n",
    "        answer = [i+string for i in answer]\n",
    "        \n",
    "answer\n",
    "        "
   ]
  },
  {
   "cell_type": "code",
   "execution_count": 81,
   "id": "6d2454f2",
   "metadata": {},
   "outputs": [
    {
     "name": "stdout",
     "output_type": "stream",
     "text": [
      " i -> 0\n",
      "j -> 0\n",
      "tmp -> ['a', 'A']\n",
      " i -> 1\n",
      "j -> 0\n",
      "j -> 1\n",
      "tmp -> ['a1', 'A1']\n",
      " i -> 2\n",
      "j -> 0\n",
      "j -> 1\n",
      "tmp -> ['a1b', 'a1B', 'A1b', 'A1B']\n",
      " i -> 3\n",
      "j -> 0\n",
      "j -> 1\n",
      "j -> 2\n",
      "j -> 3\n",
      "tmp -> ['a1b2', 'a1B2', 'A1b2', 'A1B2']\n"
     ]
    },
    {
     "data": {
      "text/plain": [
       "['a1b2', 'a1B2', 'A1b2', 'A1B2']"
      ]
     },
     "execution_count": 81,
     "metadata": {},
     "output_type": "execute_result"
    }
   ],
   "source": [
    "s = 'a1b2'\n",
    "\n",
    "answer = ['']\n",
    "\n",
    "for i in range(len(s)):\n",
    "    print(f\" i -> {i}\")\n",
    "    tmp = []\n",
    "    \n",
    "    for j in range(len(answer)):\n",
    "        print(f\"j -> {j}\")\n",
    "        if s[i].isalpha():\n",
    "            tmp.append(answer[j]+s[i].lower())\n",
    "            tmp.append(answer[j]+s[i].upper())\n",
    "        else:\n",
    "            tmp.append(answer[j] + s[i])\n",
    "            \n",
    "    print(f\"tmp -> {tmp}\")\n",
    "    answer = tmp\n",
    "\n",
    "answer"
   ]
  },
  {
   "cell_type": "code",
   "execution_count": null,
   "id": "c82ce4ab",
   "metadata": {},
   "outputs": [],
   "source": []
  }
 ],
 "metadata": {
  "kernelspec": {
   "display_name": "Python 3 (ipykernel)",
   "language": "python",
   "name": "python3"
  },
  "language_info": {
   "codemirror_mode": {
    "name": "ipython",
    "version": 3
   },
   "file_extension": ".py",
   "mimetype": "text/x-python",
   "name": "python",
   "nbconvert_exporter": "python",
   "pygments_lexer": "ipython3",
   "version": "3.9.12"
  }
 },
 "nbformat": 4,
 "nbformat_minor": 5
}
