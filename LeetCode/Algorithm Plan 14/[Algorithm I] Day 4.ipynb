{
 "cells": [
  {
   "cell_type": "markdown",
   "id": "f19020f4",
   "metadata": {},
   "source": [
    "## 283. Move Zeroes\n",
    "\n",
    "https://leetcode.com/problems/reverse-string/submissions/948148122/?envType=study-plan&id=algorithm-i\n",
    "\n",
    "**Description**\n",
    "\n",
    "    Write a function that reverses a string. The input string is given as an array of characters s.\n",
    "    You must do this by modifying the input array in-place with O(1) extra memory.\n",
    "\n",
    "**Example**\n",
    "\n",
    "    Example 1:\n",
    "    Input: s = [\"h\",\"e\",\"l\",\"l\",\"o\"]\n",
    "    Output: [\"o\",\"l\",\"l\",\"e\",\"h\"]\n",
    "    \n",
    "    Example 2:\n",
    "    Input: s = [\"H\",\"a\",\"n\",\"n\",\"a\",\"h\"]\n",
    "    Output: [\"h\",\"a\",\"n\",\"n\",\"a\",\"H\"]\n",
    "\n",
    "\n",
    "**Constraints**\n",
    "\n",
    "    1 <= s.length <= 105\n",
    "    s[i] is a printable ascii character.\n"
   ]
  },
  {
   "cell_type": "code",
   "execution_count": 9,
   "id": "4dcf419f",
   "metadata": {},
   "outputs": [],
   "source": [
    "class Solution:\n",
    "    def reverseString(self, s):\n",
    "        \"\"\"\n",
    "        Do not return anything, modify s in-place instead.\n",
    "        \"\"\"\n",
    "        \n",
    "        s[:] = s[::-1]\n",
    "        return s"
   ]
  },
  {
   "cell_type": "code",
   "execution_count": 10,
   "id": "39711041",
   "metadata": {},
   "outputs": [
    {
     "name": "stdout",
     "output_type": "stream",
     "text": [
      "['o', 'l', 'l', 'e', 'h']\n",
      "['h', 'a', 'n', 'n', 'a', 'H']\n"
     ]
    }
   ],
   "source": [
    "sol = Solution()\n",
    "\n",
    "print(sol.reverseString([\"h\",\"e\",\"l\",\"l\",\"o\"]))\n",
    "print(sol.reverseString([\"H\",\"a\",\"n\",\"n\",\"a\",\"h\"]))"
   ]
  },
  {
   "cell_type": "code",
   "execution_count": 11,
   "id": "66646605",
   "metadata": {},
   "outputs": [],
   "source": [
    "class Solution:\n",
    "    def reverseString(self, s):\n",
    "        \"\"\"\n",
    "        Do not return anything, modify s in-place instead.\n",
    "        \"\"\"\n",
    "        \n",
    "        s.reverse()\n",
    "        return s"
   ]
  },
  {
   "cell_type": "code",
   "execution_count": 12,
   "id": "58f7c1eb",
   "metadata": {},
   "outputs": [
    {
     "name": "stdout",
     "output_type": "stream",
     "text": [
      "['o', 'l', 'l', 'e', 'h']\n",
      "['h', 'a', 'n', 'n', 'a', 'H']\n"
     ]
    }
   ],
   "source": [
    "sol = Solution()\n",
    "\n",
    "print(sol.reverseString([\"h\",\"e\",\"l\",\"l\",\"o\"]))\n",
    "print(sol.reverseString([\"H\",\"a\",\"n\",\"n\",\"a\",\"h\"]))"
   ]
  },
  {
   "cell_type": "code",
   "execution_count": null,
   "id": "935d561f",
   "metadata": {},
   "outputs": [],
   "source": []
  },
  {
   "attachments": {
    "image.png": {
     "image/png": "[encoded data removed]"
    }
   },
   "cell_type": "markdown",
   "id": "73fae4db",
   "metadata": {},
   "source": [
    "![image.png](attachment:image.png)"
   ]
  },
  {
   "cell_type": "code",
   "execution_count": null,
   "id": "7a35e12f",
   "metadata": {},
   "outputs": [],
   "source": []
  },
  {
   "cell_type": "code",
   "execution_count": null,
   "id": "ea9c6e15",
   "metadata": {},
   "outputs": [],
   "source": []
  },
  {
   "cell_type": "markdown",
   "id": "d5287466",
   "metadata": {},
   "source": [
    "## 557. Reverse Words in a String III\n",
    "\n",
    "https://leetcode.com/problems/reverse-words-in-a-string-iii/?envType=study-plan&id=algorithm-i\n",
    "\n",
    "**Description**\n",
    "\n",
    "    Given a string s, reverse the order of characters in each word within a sentence while still preserving whitespace and initial word order.\n",
    "    \n",
    "**Example**\n",
    "\n",
    "    Example 1:\n",
    "    Input: s = \"Let's take LeetCode contest\"\n",
    "    Output: \"s'teL ekat edoCteeL tsetnoc\"\n",
    "    \n",
    "    Example 2:\n",
    "    Input: s = \"God Ding\"\n",
    "    Output: \"doG gniD\"\n",
    " \n",
    "\n",
    "**Constraints**\n",
    "\n",
    "    1 <= s.length <= 5 * 104\n",
    "    s contains printable ASCII characters.\n",
    "    s does not contain any leading or trailing spaces.\n",
    "    There is at least one word in s.\n",
    "    All the words in s are separated by a single space."
   ]
  },
  {
   "cell_type": "code",
   "execution_count": 19,
   "id": "63316476",
   "metadata": {},
   "outputs": [],
   "source": [
    "class Solution:\n",
    "    def reverseWords(self, s):\n",
    "        return ' '.join([s.split()[i][::-1] for i in range(len(s.split()))])\n"
   ]
  },
  {
   "cell_type": "code",
   "execution_count": 20,
   "id": "6e624969",
   "metadata": {},
   "outputs": [
    {
     "name": "stdout",
     "output_type": "stream",
     "text": [
      "s'teL ekat edoCteeL tsetnoc\n",
      "doG gniD\n"
     ]
    }
   ],
   "source": [
    "sol = Solution()\n",
    "\n",
    "print(sol.reverseWords(\"Let's take LeetCode contest\"))\n",
    "print(sol.reverseWords(\"God Ding\"))"
   ]
  },
  {
   "cell_type": "code",
   "execution_count": 21,
   "id": "cd74a611",
   "metadata": {},
   "outputs": [],
   "source": [
    "class Solution:\n",
    "    def reverseWords(self, s):\n",
    "        return ' '.join([i[::-1] for i in s.split()])\n"
   ]
  },
  {
   "cell_type": "code",
   "execution_count": 22,
   "id": "bdc0766e",
   "metadata": {},
   "outputs": [
    {
     "name": "stdout",
     "output_type": "stream",
     "text": [
      "s'teL ekat edoCteeL tsetnoc\n",
      "doG gniD\n"
     ]
    }
   ],
   "source": [
    "sol = Solution()\n",
    "\n",
    "print(sol.reverseWords(\"Let's take LeetCode contest\"))\n",
    "print(sol.reverseWords(\"God Ding\"))"
   ]
  },
  {
   "cell_type": "code",
   "execution_count": null,
   "id": "9dbd9004",
   "metadata": {},
   "outputs": [],
   "source": []
  },
  {
   "attachments": {
    "image.png": {
     "image/png": "[encoded data removed]"
    }
   },
   "cell_type": "markdown",
   "id": "81e75403",
   "metadata": {},
   "source": [
    "![image.png](attachment:image.png)"
   ]
  },
  {
   "cell_type": "code",
   "execution_count": null,
   "id": "c84d7e45",
   "metadata": {},
   "outputs": [],
   "source": []
  }
 ],
 "metadata": {
  "kernelspec": {
   "display_name": "Python 3 (ipykernel)",
   "language": "python",
   "name": "python3"
  },
  "language_info": {
   "codemirror_mode": {
    "name": "ipython",
    "version": 3
   },
   "file_extension": ".py",
   "mimetype": "text/x-python",
   "name": "python",
   "nbconvert_exporter": "python",
   "pygments_lexer": "ipython3",
   "version": "3.9.12"
  }
 },
 "nbformat": 4,
 "nbformat_minor": 5
}
