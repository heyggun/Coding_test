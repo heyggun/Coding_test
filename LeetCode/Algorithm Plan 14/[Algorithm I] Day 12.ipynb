{
 "cells": [
  {
   "cell_type": "markdown",
   "id": "57a7720b",
   "metadata": {},
   "source": [
    "# LeetCode\n",
    "\n",
    "## 70. Climbing Stairs\n",
    "\n",
    "https://leetcode.com/problems/climbing-stairs/?envType=study-plan&id=algorithm-i\n",
    "\n",
    "**Description**\n",
    "\n",
    "    You are climbing a staircase. It takes n steps to reach the top.\n",
    "    Each time you can either climb 1 or 2 steps. In how many distinct ways can you climb to the top?\n",
    "\n",
    " \n",
    "**Examples**\n",
    "\n",
    "    Example 1:\n",
    "    Input: n = 2\n",
    "    Output: 2\n",
    "    Explanation: There are two ways to climb to the top.\n",
    "    1. 1 step + 1 step\n",
    "    2. 2 steps\n",
    "    \n",
    "    Example 2:\n",
    "    Input: n = 3\n",
    "    Output: 3\n",
    "    Explanation: There are three ways to climb to the top.\n",
    "    1. 1 step + 1 step + 1 step\n",
    "    2. 1 step + 2 steps\n",
    "    3. 2 steps + 1 step\n",
    "\n",
    "\n",
    "**Constraints**\n",
    "\n",
    "    1 <= n <= 45"
   ]
  },
  {
   "cell_type": "code",
   "execution_count": 3,
   "id": "33741d98",
   "metadata": {},
   "outputs": [],
   "source": [
    "class Solution:\n",
    "    def climbStairs(self, n: int):\n",
    "        tmp = [0,1,2]\n",
    "        \n",
    "        if n <len(tmp):\n",
    "            return tmp[n]\n",
    "        \n",
    "        for i in range(3, n+1):\n",
    "            f = tmp[i-1] + tmp[i-2]\n",
    "            tmp.append(f)\n",
    "        \n",
    "        return tmp[n]"
   ]
  },
  {
   "cell_type": "code",
   "execution_count": 11,
   "id": "4a63d8bf",
   "metadata": {},
   "outputs": [
    {
     "name": "stdout",
     "output_type": "stream",
     "text": [
      "2\n",
      "3\n",
      "5\n",
      "8\n"
     ]
    }
   ],
   "source": [
    "sol = Solution()\n",
    "print(sol.climbStairs(2))\n",
    "print(sol.climbStairs(3))\n",
    "print(sol.climbStairs(4))\n",
    "print(sol.climbStairs(5))"
   ]
  },
  {
   "cell_type": "code",
   "execution_count": null,
   "id": "6267c615",
   "metadata": {},
   "outputs": [],
   "source": []
  },
  {
   "cell_type": "code",
   "execution_count": 10,
   "id": "41f174ed",
   "metadata": {},
   "outputs": [
    {
     "name": "stdout",
     "output_type": "stream",
     "text": [
      "[8, 5, 3]\n"
     ]
    },
    {
     "data": {
      "text/plain": [
       "8"
      ]
     },
     "execution_count": 10,
     "metadata": {},
     "output_type": "execute_result"
    }
   ],
   "source": [
    "step = [1,0,0]\n",
    "n = 5\n",
    "\n",
    "for i in range(n):\n",
    "    step[2] = step[1]\n",
    "    step[1] = step[0]\n",
    "    step[0] = step[1] + step[2]\n",
    "    \n",
    "print(step)\n",
    "step[0]"
   ]
  },
  {
   "cell_type": "code",
   "execution_count": 14,
   "id": "3556c52e",
   "metadata": {},
   "outputs": [],
   "source": [
    "n = 3\n",
    "\n",
    "\n",
    "def climbStairs(n):\n",
    "    if n<2:\n",
    "        return n\n",
    "    x,y= 1,2\n",
    "    for i in range(n-2):\n",
    "        x, y = y, x+y\n",
    "        \n",
    "    return y"
   ]
  },
  {
   "cell_type": "code",
   "execution_count": 16,
   "id": "8a90deee",
   "metadata": {},
   "outputs": [
    {
     "data": {
      "text/plain": [
       "8"
      ]
     },
     "execution_count": 16,
     "metadata": {},
     "output_type": "execute_result"
    }
   ],
   "source": [
    "climbStairs(5)"
   ]
  },
  {
   "attachments": {
    "image.png": {
     "image/png": "[encoded data removed]"
    }
   },
   "cell_type": "markdown",
   "id": "4f9b475e",
   "metadata": {},
   "source": [
    "![image.png](attachment:image.png)"
   ]
  },
  {
   "cell_type": "code",
   "execution_count": null,
   "id": "64144e4f",
   "metadata": {},
   "outputs": [],
   "source": []
  }
 ],
 "metadata": {
  "kernelspec": {
   "display_name": "Python 3 (ipykernel)",
   "language": "python",
   "name": "python3"
  },
  "language_info": {
   "codemirror_mode": {
    "name": "ipython",
    "version": 3
   },
   "file_extension": ".py",
   "mimetype": "text/x-python",
   "name": "python",
   "nbconvert_exporter": "python",
   "pygments_lexer": "ipython3",
   "version": "3.9.12"
  }
 },
 "nbformat": 4,
 "nbformat_minor": 5
}
