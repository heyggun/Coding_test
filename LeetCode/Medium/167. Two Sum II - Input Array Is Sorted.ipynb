{
 "cells": [
  {
   "cell_type": "markdown",
   "id": "9f3d8833",
   "metadata": {},
   "source": [
    "# 167. Two Sum II - Input Array Is Sorted\n",
    "\n",
    "https://leetcode.com/problems/two-sum-ii-input-array-is-sorted/?envType=study-plan&id=algorithm-i\n",
    "\n",
    "**Description**\n",
    "\n",
    "    Given a 1-indexed array of integers numbers that is already sorted in non-decreasing order, find two numbers such that they add up to a specific target number. Let these two numbers be numbers[index1] and numbers[index2] where 1 <= index1 < index2 <= numbers.length.\n",
    "\n",
    "    Return the indices of the two numbers, index1 and index2, added by one as an integer array [index1, index2] of length 2.\n",
    "\n",
    "    The tests are generated such that there is exactly one solution. You may not use the same element twice.\n",
    "\n",
    "    Your solution must use only constant extra space.\n",
    "\n",
    "**Example**\n",
    "\n",
    "    Example 1:\n",
    "    Input: numbers = [2,7,11,15], target = 9\n",
    "    Output: [1,2]\n",
    "    Explanation: The sum of 2 and 7 is 9. Therefore, index1 = 1, index2 = 2. We return [1, 2].\n",
    "\n",
    "    Example 2:\n",
    "    Input: numbers = [2,3,4], target = 6\n",
    "    Output: [1,3]\n",
    "    Explanation: The sum of 2 and 4 is 6. Therefore index1 = 1, index2 = 3. We return [1, 3].\n",
    "\n",
    "    Example 3:\n",
    "    Input: numbers = [-1,0], target = -1\n",
    "    Output: [1,2]\n",
    "    Explanation: The sum of -1 and 0 is -1. Therefore index1 = 1, index2 = 2. We return [1, 2].\n",
    "\n",
    "\n",
    "**Constraints**\n",
    "\n",
    "    2 <= numbers.length <= 3 * 10^4\n",
    "    -1000 <= numbers[i] <= 1000\n",
    "    numbers is sorted in non-decreasing order.\n",
    "    -1000 <= target <= 1000\n",
    "    The tests are generated such that there is exactly one solution."
   ]
  },
  {
   "cell_type": "code",
   "execution_count": 5,
   "id": "07a14474",
   "metadata": {},
   "outputs": [],
   "source": [
    "class Solution:\n",
    "    def twoSum(self, numbers, target):\n",
    "        start, end = 0, len(numbers)-1\n",
    "        answer = []\n",
    "        while start<=end:\n",
    "            if numbers[start]+numbers[end]==target:\n",
    "                return [start+1, end+1]\n",
    "        \n",
    "            elif numbers[start]+numbers[end] < target:\n",
    "                start+=1\n",
    "            \n",
    "            else: \n",
    "                end-=1\n",
    "        \n",
    "        return answer"
   ]
  },
  {
   "cell_type": "code",
   "execution_count": 6,
   "id": "0ec8cb39",
   "metadata": {},
   "outputs": [
    {
     "name": "stdout",
     "output_type": "stream",
     "text": [
      "[1, 2]\n",
      "[1, 3]\n",
      "[1, 2]\n"
     ]
    }
   ],
   "source": [
    "sol = Solution()\n",
    "print(sol.twoSum([2,7,11,15], 9))\n",
    "print(sol.twoSum([2,3,4],6))\n",
    "print(sol.twoSum([-1,0],-1))"
   ]
  },
  {
   "cell_type": "code",
   "execution_count": 3,
   "id": "7d8ee519",
   "metadata": {},
   "outputs": [
    {
     "data": {
      "text/plain": [
       "[1, 2]"
      ]
     },
     "execution_count": 3,
     "metadata": {},
     "output_type": "execute_result"
    }
   ],
   "source": [
    "numbers,target = [2,7,11,15],9\n",
    "\n",
    "start, end = 0, len(numbers)-1\n",
    "answer = []\n",
    "\n",
    "while start<=end:\n",
    "    if numbers[start]+numbers[end]==target:\n",
    "        answer= [start+1,end+1]\n",
    "        break\n",
    "        \n",
    "    elif numbers[start]+numbers[end]<target:\n",
    "        start +=1\n",
    "        \n",
    "    else:\n",
    "        end -=1\n",
    "\n",
    "answer"
   ]
  },
  {
   "cell_type": "code",
   "execution_count": null,
   "id": "8513bbb4",
   "metadata": {},
   "outputs": [],
   "source": []
  },
  {
   "cell_type": "code",
   "execution_count": null,
   "id": "c03d3b92",
   "metadata": {},
   "outputs": [],
   "source": []
  }
 ],
 "metadata": {
  "kernelspec": {
   "display_name": "Python 3 (ipykernel)",
   "language": "python",
   "name": "python3"
  },
  "language_info": {
   "codemirror_mode": {
    "name": "ipython",
    "version": 3
   },
   "file_extension": ".py",
   "mimetype": "text/x-python",
   "name": "python",
   "nbconvert_exporter": "python",
   "pygments_lexer": "ipython3",
   "version": "3.9.12"
  }
 },
 "nbformat": 4,
 "nbformat_minor": 5
}
