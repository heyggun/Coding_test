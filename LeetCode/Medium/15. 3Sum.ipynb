{
 "cells": [
  {
   "cell_type": "markdown",
   "id": "5d243617",
   "metadata": {},
   "source": [
    "# LeetCode\n",
    "\n",
    "15. 3Sum\n",
    "\n",
    "https://leetcode.com/problems/3sum/\n",
    "\n",
    "\n",
    "**Description**\n",
    "\n",
    "    Given an integer array nums, return all the triplets [nums[i], nums[j], nums[k]] such that i != j, i != k, and j != k, and nums[i] + nums[j] + nums[k] == 0.\n",
    "\n",
    "    Notice that the solution set must not contain duplicate triplets.\n",
    "\n",
    "\n",
    "**Examples**\n",
    "\n",
    "    Example 1:\n",
    "    Input: nums = [-1,0,1,2,-1,-4]\n",
    "    Output: [[-1,-1,2],[-1,0,1]]\n",
    "    Explanation: \n",
    "    nums[0] + nums[1] + nums[2] = (-1) + 0 + 1 = 0.\n",
    "    nums[1] + nums[2] + nums[4] = 0 + 1 + (-1) = 0.\n",
    "    nums[0] + nums[3] + nums[4] = (-1) + 2 + (-1) = 0.\n",
    "    The distinct triplets are [-1,0,1] and [-1,-1,2].\n",
    "    Notice that the order of the output and the order of the triplets does not matter.\n",
    "   \n",
    "    Example 2:\n",
    "    Input: nums = [0,1,1]\n",
    "    Output: []\n",
    "    Explanation: The only possible triplet does not sum up to 0.\n",
    "    \n",
    "    Example 3:\n",
    "    Input: nums = [0,0,0]\n",
    "    Output: [[0,0,0]]\n",
    "    Explanation: The only possible triplet sums up to 0.\n",
    "\n",
    "\n",
    "**Constraints**\n",
    "\n",
    "    3 <= nums.length <= 3000\n",
    "    -10^5 <= nums[i] <= 10^5"
   ]
  },
  {
   "cell_type": "code",
   "execution_count": 1,
   "id": "e39256af",
   "metadata": {},
   "outputs": [],
   "source": [
    "class Solution:\n",
    "    def threeSum(self, nums: list[int]) -> list[list[int]]:\n",
    "        ans = []\n",
    "        nums.sort()\n",
    "\n",
    "        for idx, num in enumerate(nums):\n",
    "            if idx>0 and num==nums[idx-1]:\n",
    "                continue\n",
    "            \n",
    "            left, right = idx+1, len(nums)-1\n",
    "\n",
    "            while left<right:\n",
    "                threeSum = num + nums[left] + nums[right]\n",
    "                if threeSum>0:\n",
    "                    right -=1\n",
    "                elif threeSum <0:\n",
    "                    left +=1\n",
    "                else:\n",
    "                    ans.append([num, nums[left], nums[right]])\n",
    "                    left +=1\n",
    "                    while nums[left] == nums[left-1] and left < right:\n",
    "                        left += 1\n",
    "        return ans"
   ]
  },
  {
   "cell_type": "code",
   "execution_count": 4,
   "id": "c1cf8011",
   "metadata": {},
   "outputs": [
    {
     "name": "stdout",
     "output_type": "stream",
     "text": [
      "[[-1, -1, 2], [-1, 0, 1]]\n",
      "[]\n",
      "[[0, 0, 0]]\n"
     ]
    }
   ],
   "source": [
    "sol = Solution()\n",
    "print(sol.threeSum([-1,0,1,2,-1,-4]))\n",
    "print(sol.threeSum([0,1,1]))\n",
    "print(sol.threeSum([0,0,0]))"
   ]
  },
  {
   "attachments": {
    "image.png": {
     "image/png": "[encoded data removed]"
    }
   },
   "cell_type": "markdown",
   "id": "e36a1493",
   "metadata": {},
   "source": [
    "![image.png](attachment:image.png)"
   ]
  },
  {
   "cell_type": "code",
   "execution_count": null,
   "id": "54159a51",
   "metadata": {},
   "outputs": [],
   "source": []
  }
 ],
 "metadata": {
  "kernelspec": {
   "display_name": "Python 3 (ipykernel)",
   "language": "python",
   "name": "python3"
  },
  "language_info": {
   "codemirror_mode": {
    "name": "ipython",
    "version": 3
   },
   "file_extension": ".py",
   "mimetype": "text/x-python",
   "name": "python",
   "nbconvert_exporter": "python",
   "pygments_lexer": "ipython3",
   "version": "3.9.12"
  }
 },
 "nbformat": 4,
 "nbformat_minor": 5
}
