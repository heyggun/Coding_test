{
 "cells": [
  {
   "cell_type": "markdown",
   "id": "b6491ffd",
   "metadata": {},
   "source": [
    "## Leetcode\n",
    "\n",
    "78. Subsets\n",
    "\n",
    "https://leetcode.com/problems/subsets/\n",
    "\n",
    "\n",
    "**Descriptions**\n",
    "\n",
    "    Given an integer array nums of unique elements, return all possible \n",
    "    subsets\n",
    "     (the power set).\n",
    "\n",
    "    The solution set must not contain duplicate subsets. Return the solution in any order.\n",
    "\n",
    "\n",
    "**Examples**\n",
    "\n",
    "    Example 1:\n",
    "\n",
    "    Input: nums = [1,2,3]\n",
    "    Output: [[],[1],[2],[1,2],[3],[1,3],[2,3],[1,2,3]]\n",
    "    \n",
    "    Example 2:\n",
    "    Input: nums = [0]\n",
    "    Output: [[],[0]]\n",
    "    \n",
    "\n",
    "**Constraints**\n",
    "\n",
    "    1 <= nums.length <= 10\n",
    "    -10 <= nums[i] <= 10\n",
    "    All the numbers of nums are unique."
   ]
  },
  {
   "cell_type": "code",
   "execution_count": null,
   "id": "75faea2b",
   "metadata": {},
   "outputs": [],
   "source": []
  }
 ],
 "metadata": {
  "kernelspec": {
   "display_name": "Python 3 (ipykernel)",
   "language": "python",
   "name": "python3"
  },
  "language_info": {
   "codemirror_mode": {
    "name": "ipython",
    "version": 3
   },
   "file_extension": ".py",
   "mimetype": "text/x-python",
   "name": "python",
   "nbconvert_exporter": "python",
   "pygments_lexer": "ipython3",
   "version": "3.9.12"
  }
 },
 "nbformat": 4,
 "nbformat_minor": 5
}
