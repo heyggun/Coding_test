{
 "cells": [
  {
   "cell_type": "markdown",
   "id": "6df8ac2e",
   "metadata": {},
   "source": [
    "# LeetCode\n",
    "\n",
    "621. Task Scheduler\n",
    "\n",
    "https://leetcode.com/problems/task-scheduler/\n",
    "\n",
    "**Description**\n",
    "\n",
    "    Given a characters array tasks, representing the tasks a CPU needs to do, where each letter represents a different task. Tasks could be done in any order. Each task is done in one unit of time. For each unit of time, the CPU could complete either one task or just be idle.\n",
    "\n",
    "    However, there is a non-negative integer n that represents the cooldown period between two same tasks (the same letter in the array), that is that there must be at least n units of time between any two same tasks.\n",
    "\n",
    "    Return the least number of units of times that the CPU will take to finish all the given tasks.\n",
    "\n",
    "**Examples**\n",
    "\n",
    "    Example 1:\n",
    "    Input: tasks = [\"A\",\"A\",\"A\",\"B\",\"B\",\"B\"], n = 2\n",
    "    Output: 8\n",
    "    Explanation: \n",
    "    A -> B -> idle -> A -> B -> idle -> A -> B\n",
    "    There is at least 2 units of time between any two same tasks.\n",
    "    \n",
    "    Example 2:\n",
    "    Input: tasks = [\"A\",\"A\",\"A\",\"B\",\"B\",\"B\"], n = 0\n",
    "    Output: 6\n",
    "    Explanation: On this case any permutation of size 6 would work since n = 0.\n",
    "    [\"A\",\"A\",\"A\",\"B\",\"B\",\"B\"]\n",
    "    [\"A\",\"B\",\"A\",\"B\",\"A\",\"B\"]\n",
    "    [\"B\",\"B\",\"B\",\"A\",\"A\",\"A\"]\n",
    "    ...\n",
    "    And so on.\n",
    "    \n",
    "    Example 3:\n",
    "    Input: tasks = [\"A\",\"A\",\"A\",\"A\",\"A\",\"A\",\"B\",\"C\",\"D\",\"E\",\"F\",\"G\"], n = 2\n",
    "    Output: 16\n",
    "    Explanation: \n",
    "    One possible solution is\n",
    "    A -> B -> C -> A -> D -> E -> A -> F -> G -> A -> idle -> idle -> A -> idle -> idle -> A\n",
    "\n",
    "\n",
    "**Constraints**\n",
    "\n",
    "    1 <= task.length <= 10^4\n",
    "    tasks[i] is upper-case English letter.\n",
    "    The integer n is in the range [0, 100].\n"
   ]
  },
  {
   "cell_type": "code",
   "execution_count": 5,
   "id": "9aeaacf3",
   "metadata": {},
   "outputs": [],
   "source": [
    "from collections import Counter, deque\n",
    "import heapq\n",
    "\n",
    "class Solution:\n",
    "    def leastInterval(self, tasks: list[str], n: int) -> int:\n",
    "        count = Counter(tasks)\n",
    "        maxHeap = [-cnt for cnt in count.values()]\n",
    "        heapq.heapify(maxHeap)\n",
    "\n",
    "        time = 0\n",
    "        q = deque()\n",
    "        \n",
    "        while maxHeap or q:\n",
    "            time += 1\n",
    "            if maxHeap:\n",
    "                cnt = 1 + heapq.heappop(maxHeap)\n",
    "                if cnt:\n",
    "                    q.append([cnt, time+n])\n",
    "            if q and q[0][1] == time:\n",
    "                heapq.heappush(maxHeap, q.popleft()[0])\n",
    "            \n",
    "        return time"
   ]
  },
  {
   "cell_type": "code",
   "execution_count": 6,
   "id": "e4b2575c",
   "metadata": {},
   "outputs": [
    {
     "name": "stdout",
     "output_type": "stream",
     "text": [
      "8\n",
      "6\n",
      "16\n"
     ]
    }
   ],
   "source": [
    "sol = Solution()\n",
    "print(sol.leastInterval(tasks = [\"A\",\"A\",\"A\",\"B\",\"B\",\"B\"], n = 2))\n",
    "print(sol.leastInterval(tasks = [\"A\",\"A\",\"A\",\"B\",\"B\",\"B\"], n = 0))\n",
    "print(sol.leastInterval(tasks = [\"A\",\"A\",\"A\",\"A\",\"A\",\"A\",\"B\",\"C\",\"D\",\"E\",\"F\",\"G\"], n = 2))"
   ]
  },
  {
   "attachments": {
    "image.png": {
     "image/png": "[encoded data removed]"
    }
   },
   "cell_type": "markdown",
   "id": "56a63c6a",
   "metadata": {},
   "source": [
    "![image.png](attachment:image.png)"
   ]
  },
  {
   "cell_type": "code",
   "execution_count": null,
   "id": "5a1f0d2d",
   "metadata": {},
   "outputs": [],
   "source": []
  }
 ],
 "metadata": {
  "kernelspec": {
   "display_name": "Python 3 (ipykernel)",
   "language": "python",
   "name": "python3"
  },
  "language_info": {
   "codemirror_mode": {
    "name": "ipython",
    "version": 3
   },
   "file_extension": ".py",
   "mimetype": "text/x-python",
   "name": "python",
   "nbconvert_exporter": "python",
   "pygments_lexer": "ipython3",
   "version": "3.9.12"
  }
 },
 "nbformat": 4,
 "nbformat_minor": 5
}
