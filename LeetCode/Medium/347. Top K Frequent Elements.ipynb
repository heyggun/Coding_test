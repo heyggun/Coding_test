{
 "cells": [
  {
   "cell_type": "markdown",
   "id": "e7525521",
   "metadata": {},
   "source": [
    "# LeetCode\n",
    "\n",
    "347. Top K Frequent Elements\n",
    "\n",
    "https://leetcode.com/problems/top-k-frequent-elements/description/\n",
    "\n",
    "\n",
    "**Description**\n",
    "\n",
    "    Given an integer array nums and an integer k, return the k most frequent elements. You may return the answer in any order.\n",
    "\n",
    "**Examples**\n",
    " \n",
    "    Example 1:\n",
    "    Input: nums = [1,1,1,2,2,3], k = 2\n",
    "    Output: [1,2]\n",
    "    \n",
    "    Example 2:\n",
    "    Input: nums = [1], k = 1\n",
    "    Output: [1]\n",
    " \n",
    "\n",
    "**Constraints**\n",
    "\n",
    "    1 <= nums.length <= 10^5\n",
    "    -10^4 <= nums[i] <= 10^4\n",
    "    k is in the range [1, the number of unique elements in the array].\n",
    "    It is guaranteed that the answer is unique.\n",
    "\n",
    "**Follow up**\n",
    "\n",
    "    Follow up: Your algorithm's time complexity must be better than O(n log n), where n is the array's size.\n",
    "\n",
    "\n"
   ]
  },
  {
   "cell_type": "code",
   "execution_count": 1,
   "id": "ac8a069e",
   "metadata": {},
   "outputs": [],
   "source": [
    "from collections import Counter"
   ]
  },
  {
   "cell_type": "code",
   "execution_count": 26,
   "id": "beb4a2b5",
   "metadata": {},
   "outputs": [
    {
     "data": {
      "text/plain": [
       "[3, 2]"
      ]
     },
     "execution_count": 26,
     "metadata": {},
     "output_type": "execute_result"
    }
   ],
   "source": [
    "nums = [1,1,1,2,2,3]\n",
    "k = 2\n",
    "\n",
    "numsDicts = dict(Counter(nums))\n",
    "[j for i,j in sorted(numsDicts.items(), reverse=True, key= lambda x :x[1])[:k]]"
   ]
  },
  {
   "cell_type": "code",
   "execution_count": 25,
   "id": "096f76cb",
   "metadata": {},
   "outputs": [],
   "source": [
    "from collections import Counter\n",
    "\n",
    "class Solution:\n",
    "    def topKFrequent(self, nums: list[int], k: int) -> list[int]:\n",
    "        numDict = dict(Counter(nums))\n",
    "        return [i for i,j in sorted(numDict.items(), reverse=True, key=lambda x: x[1])[:k]]"
   ]
  },
  {
   "cell_type": "code",
   "execution_count": 28,
   "id": "c37825b6",
   "metadata": {},
   "outputs": [
    {
     "name": "stdout",
     "output_type": "stream",
     "text": [
      "[1, 2]\n",
      "[1]\n"
     ]
    }
   ],
   "source": [
    "sol = Solution()\n",
    "print(sol.topKFrequent([1,1,1,2,2,3],2))\n",
    "print(sol.topKFrequent([1],1))"
   ]
  },
  {
   "cell_type": "code",
   "execution_count": null,
   "id": "9ea8357c",
   "metadata": {},
   "outputs": [],
   "source": []
  },
  {
   "cell_type": "code",
   "execution_count": 30,
   "id": "1bf0c077",
   "metadata": {},
   "outputs": [
    {
     "name": "stdout",
     "output_type": "stream",
     "text": [
      "[1, 2]\n"
     ]
    }
   ],
   "source": [
    "nums = [1,1,1,2,2,3]\n",
    "k = 2\n",
    "\n",
    "\n",
    "count = {}\n",
    "freq = [[]for i in range(len(nums)+1)]\n",
    "\n",
    "for n in nums:\n",
    "    count[n] = 1+count.get(n,0)\n",
    "for n,c in count.items():\n",
    "    freq[c].append(n)\n",
    "    \n",
    "res = []\n",
    "\n",
    "for i in range(len(freq)-1, 0,-1):\n",
    "    for n in freq[i]:\n",
    "        res.append(n)\n",
    "        if len(res)==k:\n",
    "            print(res)\n",
    "            break\n",
    "    \n",
    "    \n",
    "        "
   ]
  },
  {
   "cell_type": "markdown",
   "id": "5a2a30b6",
   "metadata": {},
   "source": [
    "    -> 위 풀이가 O(nlogn)라고 함...\n",
    "    더럽게 복잡하네 Counter 면 되는데"
   ]
  },
  {
   "cell_type": "code",
   "execution_count": null,
   "id": "5385d117",
   "metadata": {},
   "outputs": [],
   "source": []
  }
 ],
 "metadata": {
  "kernelspec": {
   "display_name": "Python 3 (ipykernel)",
   "language": "python",
   "name": "python3"
  },
  "language_info": {
   "codemirror_mode": {
    "name": "ipython",
    "version": 3
   },
   "file_extension": ".py",
   "mimetype": "text/x-python",
   "name": "python",
   "nbconvert_exporter": "python",
   "pygments_lexer": "ipython3",
   "version": "3.9.13"
  }
 },
 "nbformat": 4,
 "nbformat_minor": 5
}
