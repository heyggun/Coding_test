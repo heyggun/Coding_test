{
 "cells": [
  {
   "cell_type": "markdown",
   "id": "46e6aa60",
   "metadata": {},
   "source": [
    "# LeetCode\n",
    "\n",
    "74. Search a 2D Matrix\n",
    "\n",
    "https://leetcode.com/problems/search-a-2d-matrix/\n",
    "\n",
    "**Descriptions**\n",
    "\n",
    "    You are given an m x n integer matrix matrix with the following two properties:\n",
    "\n",
    "    Each row is sorted in non-decreasing order.\n",
    "    The first integer of each row is greater than the last integer of the previous row.\n",
    "    Given an integer target, return true if target is in matrix or false otherwise.\n",
    "\n",
    "    You must write a solution in O(log(m * n)) time complexity.\n",
    "\n",
    " \n",
    "**Examples**\n",
    "\n",
    "    Example 1:\n",
    "\n",
    "\n",
    "    Input: matrix = [[1,3,5,7],[10,11,16,20],[23,30,34,60]], target = 3\n",
    "    Output: true\n",
    "    Example 2:\n",
    "\n",
    "\n",
    "    Input: matrix = [[1,3,5,7],[10,11,16,20],[23,30,34,60]], target = 13\n",
    "    Output: false\n",
    "\n",
    "\n",
    "**Constraints**\n",
    "\n",
    "    m == matrix.length\n",
    "    n == matrix[i].length\n",
    "    1 <= m, n <= 100\n",
    "    -10^4 <= matrix[i][j], target <= 10^4\n"
   ]
  },
  {
   "cell_type": "code",
   "execution_count": 1,
   "id": "05a02531",
   "metadata": {},
   "outputs": [],
   "source": [
    "class Solution:\n",
    "    def searchMatrix(self, matrix: list[list[int]], target: int) -> bool:\n",
    "        ROWS, COLS = len(matrix), len(matrix[0])\n",
    "\n",
    "        top, bottom = 0, ROWS - 1\n",
    "        while top <= bottom:\n",
    "            row = (top + bottom) // 2\n",
    "            if target > matrix[row][-1]:\n",
    "                top = row + 1\n",
    "            elif target < matrix[row][0]:\n",
    "                bottom = row - 1\n",
    "            else:\n",
    "                break\n",
    "\n",
    "        if not (top <=bottom):\n",
    "            return False\n",
    "        row = (top + bottom) // 2\n",
    "        left, right = 0, COLS - 1\n",
    "        while left <= right:\n",
    "            mid = (left + right) // 2\n",
    "            if target > matrix[row][mid]:\n",
    "                left = mid + 1\n",
    "            elif target < matrix[row][mid]:\n",
    "                right = mid - 1\n",
    "            else:\n",
    "                return True\n",
    "        return False"
   ]
  },
  {
   "cell_type": "code",
   "execution_count": 4,
   "id": "b12096de",
   "metadata": {},
   "outputs": [
    {
     "name": "stdout",
     "output_type": "stream",
     "text": [
      "True\n",
      "False\n"
     ]
    }
   ],
   "source": [
    "sol = Solution()\n",
    "print(sol.searchMatrix([[1,3,5,7],[10,11,16,20],[23,30,34,60]], 3))\n",
    "print(sol.searchMatrix([[1,3,5,7],[10,11,16,20],[23,30,34,60]], 13))"
   ]
  },
  {
   "cell_type": "code",
   "execution_count": null,
   "id": "0c7eb6fc",
   "metadata": {},
   "outputs": [],
   "source": []
  },
  {
   "cell_type": "code",
   "execution_count": null,
   "id": "7a9c7f79",
   "metadata": {},
   "outputs": [],
   "source": []
  },
  {
   "attachments": {
    "image.png": {
     "image/png": "[encoded data removed]"
    }
   },
   "cell_type": "markdown",
   "id": "7dbf846a",
   "metadata": {},
   "source": [
    "![image.png](attachment:image.png)"
   ]
  },
  {
   "cell_type": "code",
   "execution_count": null,
   "id": "8eff7e62",
   "metadata": {},
   "outputs": [],
   "source": []
  }
 ],
 "metadata": {
  "kernelspec": {
   "display_name": "Python 3 (ipykernel)",
   "language": "python",
   "name": "python3"
  },
  "language_info": {
   "codemirror_mode": {
    "name": "ipython",
    "version": 3
   },
   "file_extension": ".py",
   "mimetype": "text/x-python",
   "name": "python",
   "nbconvert_exporter": "python",
   "pygments_lexer": "ipython3",
   "version": "3.9.12"
  }
 },
 "nbformat": 4,
 "nbformat_minor": 5
}
