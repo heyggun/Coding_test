{
 "cells": [
  {
   "cell_type": "markdown",
   "metadata": {},
   "source": [
    "## Leetcode\n",
    "\n",
    "2425. Bitwise XOR of All Pairings\n",
    "\n",
    "https://leetcode.com/problems/bitwise-xor-of-all-pairings/?envType=daily-question&envId=2025-01-16"
   ]
  },
  {
   "cell_type": "markdown",
   "metadata": {},
   "source": []
  },
  {
   "cell_type": "code",
   "execution_count": 1,
   "metadata": {},
   "outputs": [],
   "source": [
    "from typing import List"
   ]
  },
  {
   "cell_type": "code",
   "execution_count": 3,
   "metadata": {},
   "outputs": [],
   "source": [
    "class Solution:\n",
    "    def xorAllNums(self, nums1: List[int], nums2: List[int]) -> int:\n",
    "        c1 = len(nums1)\n",
    "        c2 = len(nums2)\n",
    "        x1 = 0\n",
    "        x2 = 0\n",
    "        if c1 % 2 != 0:\n",
    "            for i in nums2:\n",
    "                x2 ^= i\n",
    "        if c2 % 2 != 0:\n",
    "            for i in nums1:\n",
    "                x1 ^= i\n",
    "        return x1 ^ x2"
   ]
  },
  {
   "cell_type": "code",
   "execution_count": 4,
   "metadata": {},
   "outputs": [
    {
     "name": "stdout",
     "output_type": "stream",
     "text": [
      "13\n",
      "0\n"
     ]
    }
   ],
   "source": [
    "sol = Solution()\n",
    "print(sol.xorAllNums(nums1 = [2,1,3], nums2 = [10,2,5,0]))\n",
    "print(sol.xorAllNums(nums1 = [1,2], nums2 = [3,4]))"
   ]
  },
  {
   "cell_type": "code",
   "execution_count": null,
   "metadata": {},
   "outputs": [],
   "source": []
  }
 ],
 "metadata": {
  "kernelspec": {
   "display_name": "Python 3",
   "language": "python",
   "name": "python3"
  },
  "language_info": {
   "codemirror_mode": {
    "name": "ipython",
    "version": 3
   },
   "file_extension": ".py",
   "mimetype": "text/x-python",
   "name": "python",
   "nbconvert_exporter": "python",
   "pygments_lexer": "ipython3",
   "version": "3.11.1"
  }
 },
 "nbformat": 4,
 "nbformat_minor": 2
}
