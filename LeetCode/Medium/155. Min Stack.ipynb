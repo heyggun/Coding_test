{
 "cells": [
  {
   "cell_type": "markdown",
   "id": "bedadaf2",
   "metadata": {},
   "source": [
    "# LeetCode\n",
    "\n",
    "155. Min Stack\n",
    "\n",
    "https://leetcode.com/problems/min-stack/\n",
    "\n",
    "\n",
    "**Description**\n",
    "\n",
    "    Design a stack that supports push, pop, top, and retrieving the minimum element in constant time.\n",
    "\n",
    "    Implement the MinStack class:\n",
    "\n",
    "    MinStack() initializes the stack object.\n",
    "    void push(int val) pushes the element val onto the stack.\n",
    "    void pop() removes the element on the top of the stack.\n",
    "    int top() gets the top element of the stack.\n",
    "    int getMin() retrieves the minimum element in the stack.\n",
    "    You must implement a solution with O(1) time complexity for each function.\n",
    "\n",
    "\n",
    "**Examples**\n",
    "\n",
    "    Example 1:\n",
    "\n",
    "    Input\n",
    "    [\"MinStack\",\"push\",\"push\",\"push\",\"getMin\",\"pop\",\"top\",\"getMin\"]\n",
    "    [[],[-2],[0],[-3],[],[],[],[]]\n",
    "\n",
    "    Output\n",
    "    [null,null,null,null,-3,null,0,-2]\n",
    "\n",
    "    Explanation\n",
    "    MinStack minStack = new MinStack();\n",
    "    minStack.push(-2);\n",
    "    minStack.push(0);\n",
    "    minStack.push(-3);\n",
    "    minStack.getMin(); // return -3\n",
    "    minStack.pop();\n",
    "    minStack.top();    // return 0\n",
    "    minStack.getMin(); // return -2\n",
    "\n",
    "\n",
    "**Constraints**\n",
    "\n",
    "    -2^31 <= val <= 2^31 - 1\n",
    "    Methods pop, top and getMin operations will always be called on non-empty stacks.\n",
    "    At most 3 * 10^4 calls will be made to push, pop, top, and getMin."
   ]
  },
  {
   "cell_type": "code",
   "execution_count": 1,
   "id": "1dbf2d9e",
   "metadata": {},
   "outputs": [],
   "source": [
    "class MinStack:\n",
    "    \n",
    "    def __init__(self):\n",
    "        self.stack = []\n",
    "        self.minStack = []\n",
    "        \n",
    "    def push(self, val):\n",
    "        self.stack.append(val)\n",
    "        val = min(self.stack[-1], self.minStack[-1] if self.minStack else val)\n",
    "        self.minStack.append(val)\n",
    "        \n",
    "    def pop(self):\n",
    "        self.stack.pop()\n",
    "        self.minStack.pop()\n",
    "        \n",
    "    def top(self):\n",
    "        return self.stack[-1]\n",
    "        \n",
    "    \n",
    "    def getMin(self):\n",
    "        return self.minStack[-1]"
   ]
  },
  {
   "cell_type": "code",
   "execution_count": 8,
   "id": "fcc046aa",
   "metadata": {},
   "outputs": [
    {
     "name": "stdout",
     "output_type": "stream",
     "text": [
      "[-2]\n",
      "[-2, 0]\n",
      "[-2, 0, -3]\n",
      "-3\n",
      "0\n",
      "-2\n"
     ]
    }
   ],
   "source": [
    "obj = MinStack()\n",
    "obj.push(-2)\n",
    "print(obj.stack)\n",
    "obj.push(0)\n",
    "print(obj.stack)\n",
    "obj.push(-3)\n",
    "print(obj.stack)\n",
    "print(obj.getMin())\n",
    "obj.pop()\n",
    "print(obj.top())\n",
    "print(obj.getMin())"
   ]
  },
  {
   "attachments": {
    "image.png": {
     "image/png": "[encoded data removed]"
    }
   },
   "cell_type": "markdown",
   "id": "69d2754c",
   "metadata": {},
   "source": [
    "![image.png](attachment:image.png)"
   ]
  },
  {
   "cell_type": "code",
   "execution_count": null,
   "id": "4e5c9fe9",
   "metadata": {},
   "outputs": [],
   "source": []
  }
 ],
 "metadata": {
  "kernelspec": {
   "display_name": "Python 3 (ipykernel)",
   "language": "python",
   "name": "python3"
  },
  "language_info": {
   "codemirror_mode": {
    "name": "ipython",
    "version": 3
   },
   "file_extension": ".py",
   "mimetype": "text/x-python",
   "name": "python",
   "nbconvert_exporter": "python",
   "pygments_lexer": "ipython3",
   "version": "3.9.12"
  }
 },
 "nbformat": 4,
 "nbformat_minor": 5
}
