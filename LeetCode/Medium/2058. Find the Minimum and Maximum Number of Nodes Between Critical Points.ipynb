{
 "cells": [
  {
   "cell_type": "markdown",
   "metadata": {},
   "source": [
    "## Leetcode\n",
    "\n",
    "2058. Find the Minimum and Maximum Number of Nodes Between Critical Points\n",
    "\n",
    "**Description**"
   ]
  },
  {
   "cell_type": "markdown",
   "metadata": {},
   "source": []
  }
 ],
 "metadata": {
  "language_info": {
   "name": "python"
  }
 },
 "nbformat": 4,
 "nbformat_minor": 2
}
