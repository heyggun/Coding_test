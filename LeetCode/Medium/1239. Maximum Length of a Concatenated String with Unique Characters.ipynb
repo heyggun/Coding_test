{
 "cells": [
  {
   "cell_type": "markdown",
   "metadata": {},
   "source": [
    "# Leetcode\n",
    "\n",
    "1239. Maximum Length of a Concatenated String with Unique Characters\n",
    "\n",
    "https://leetcode.com/problems/maximum-length-of-a-concatenated-string-with-unique-characters/description/?envType=daily-question&envId=2024-01-23\n",
    "\n",
    "**Description**\n",
    "\n",
    "    You are given an array of strings arr. A string s is formed by the concatenation of a subsequence of arr that has unique characters.\n",
    "\n",
    "    Return the maximum possible length of s.\n",
    "\n",
    "    A subsequence is an array that can be derived from another array by deleting some or no elements without changing the order of the remaining elements.\n",
    "\n",
    "\n",
    "**Examples**\n",
    "\n",
    "    Example 1:\n",
    "    Input: arr = [\"un\",\"iq\",\"ue\"]\n",
    "    Output: 4\n",
    "    Explanation: All the valid concatenations are:\n",
    "    - \"\"\n",
    "    - \"un\"\n",
    "    - \"iq\"\n",
    "    - \"ue\"\n",
    "    - \"uniq\" (\"un\" + \"iq\")\n",
    "    - \"ique\" (\"iq\" + \"ue\")\n",
    "    Maximum length is 4.\n",
    "    \n",
    "    Example 2:\n",
    "    Input: arr = [\"cha\",\"r\",\"act\",\"ers\"]\n",
    "    Output: 6\n",
    "    Explanation: Possible longest valid concatenations are \"chaers\" (\"cha\" + \"ers\") and \"acters\" (\"act\" + \"ers\").\n",
    "    \n",
    "    Example 3:\n",
    "    Input: arr = [\"abcdefghijklmnopqrstuvwxyz\"]\n",
    "    Output: 26\n",
    "    \n",
    "    Explanation: The only string in arr has all 26 characters.\n",
    "    \n",
    "\n",
    "**Constraints**\n",
    "\n",
    "    1 <= arr.length <= 16\n",
    "    1 <= arr[i].length <= 26\n",
    "    arr[i] contains only lowercase English letters.\n",
    "        "
   ]
  },
  {
   "cell_type": "code",
   "execution_count": 1,
   "metadata": {},
   "outputs": [],
   "source": [
    "from typing import List"
   ]
  },
  {
   "cell_type": "code",
   "execution_count": 2,
   "metadata": {},
   "outputs": [],
   "source": [
    "class Solution:\n",
    "    def maxLength(self, arr: List[str]) -> int:\n",
    "        wordList = ['']\n",
    "        maxLen = 0\n",
    "\n",
    "        for num in arr:\n",
    "            for i in range(len(wordList)):\n",
    "                tmp = num + wordList[i]\n",
    "                if len(tmp) == len(set(tmp)):\n",
    "                    wordList.append(tmp)\n",
    "                    maxLen = max(maxLen, len(tmp))\n",
    "\n",
    "        return maxLen\n",
    "\n"
   ]
  },
  {
   "cell_type": "code",
   "execution_count": 4,
   "metadata": {},
   "outputs": [
    {
     "name": "stdout",
     "output_type": "stream",
     "text": [
      "4\n",
      "6\n",
      "26\n"
     ]
    }
   ],
   "source": [
    "sol = Solution()\n",
    "print(sol.maxLength(arr = [\"un\",\"iq\",\"ue\"]))\n",
    "print(sol.maxLength(arr = [\"cha\",\"r\",\"act\",\"ers\"]))\n",
    "print(sol.maxLength(arr = [\"abcdefghijklmnopqrstuvwxyz\"]))"
   ]
  },
  {
   "cell_type": "code",
   "execution_count": null,
   "metadata": {},
   "outputs": [],
   "source": []
  },
  {
   "cell_type": "code",
   "execution_count": 5,
   "metadata": {},
   "outputs": [
    {
     "ename": "SyntaxError",
     "evalue": "no binding for nonlocal 'maxLen' found (3896457913.py, line 3)",
     "output_type": "error",
     "traceback": [
      "\u001b[0;36m  Cell \u001b[0;32mIn[5], line 3\u001b[0;36m\u001b[0m\n\u001b[0;31m    nonlocal maxLen\u001b[0m\n\u001b[0m    ^\u001b[0m\n\u001b[0;31mSyntaxError\u001b[0m\u001b[0;31m:\u001b[0m no binding for nonlocal 'maxLen' found\n"
     ]
    }
   ],
   "source": [
    "class Solution:\n",
    "    def maxLength(self, arr: List[str]) -> int:\n",
    "        def is_unique(s):\n",
    "            return len(s) == len(set(s))\n",
    "\n",
    "        def backtracking(idx, cur):\n",
    "            nonlocal maxLen\n",
    "            maxLen = max(maxLen, len(cur))\n",
    "            for i in range(idx, arr):\n",
    "                if is_unique(idx, arr[i]):\n",
    "                    backtracking(idx+1, cur+arr[i])\n",
    "\n",
    "        maxLen = 0\n",
    "        backtracking(0,'')\n",
    "\n",
    "        return maxLen"
   ]
  },
  {
   "cell_type": "code",
   "execution_count": null,
   "metadata": {},
   "outputs": [],
   "source": []
  }
 ],
 "metadata": {
  "kernelspec": {
   "display_name": "Python 3",
   "language": "python",
   "name": "python3"
  },
  "language_info": {
   "codemirror_mode": {
    "name": "ipython",
    "version": 3
   },
   "file_extension": ".py",
   "mimetype": "text/x-python",
   "name": "python",
   "nbconvert_exporter": "python",
   "pygments_lexer": "ipython3",
   "version": "3.9.6"
  },
  "orig_nbformat": 4
 },
 "nbformat": 4,
 "nbformat_minor": 2
}
