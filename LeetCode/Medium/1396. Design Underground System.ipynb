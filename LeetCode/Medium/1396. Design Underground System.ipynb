{
 "cells": [
  {
   "cell_type": "markdown",
   "id": "92fe8cf4",
   "metadata": {},
   "source": [
    "# Leetcode\n",
    "\n",
    "1396. Design Underground System\n",
    "\n",
    "https://leetcode.com/problems/design-underground-system/\n",
    "\n",
    "**Description**\n",
    "\n",
    "    An underground railway system is keeping track of customer travel times between different stations. They are using this data to calculate the average time it takes to travel from one station to another.\n",
    "\n",
    "    Implement the UndergroundSystem class:\n",
    "\n",
    "    void checkIn(int id, string stationName, int t)\n",
    "    A customer with a card ID equal to id, checks in at the station stationName at time t.\n",
    "    A customer can only be checked into one place at a time.\n",
    "    void checkOut(int id, string stationName, int t)\n",
    "    A customer with a card ID equal to id, checks out from the station stationName at time t.\n",
    "    double getAverageTime(string startStation, string endStation)\n",
    "    Returns the average time it takes to travel from startStation to endStation.\n",
    "    The average time is computed from all the previous traveling times from startStation to endStation that happened directly, meaning a check in at startStation followed by a check out from endStation.\n",
    "    The time it takes to travel from startStation to endStation may be different from the time it takes to travel from endStation to startStation.\n",
    "    There will be at least one customer that has traveled from startStation to endStation before getAverageTime is called.\n",
    "    You may assume all calls to the checkIn and checkOut methods are consistent. If a customer checks in at time t1 then checks out at time t2, then t1 < t2. All events happen in chronological order.\n",
    "\n",
    "**Examples**\n",
    " \n",
    "\n",
    "    Example 1:\n",
    "\n",
    "    Input\n",
    "    [\"UndergroundSystem\",\"checkIn\",\"checkIn\",\"checkIn\",\"checkOut\",\"checkOut\",\"checkOut\",\"getAverageTime\",\"getAverageTime\",\"checkIn\",\"getAverageTime\",\"checkOut\",\"getAverageTime\"]\n",
    "    [[],[45,\"Leyton\",3],[32,\"Paradise\",8],[27,\"Leyton\",10],[45,\"Waterloo\",15],[27,\"Waterloo\",20],[32,\"Cambridge\",22],[\"Paradise\",\"Cambridge\"],[\"Leyton\",\"Waterloo\"],[10,\"Leyton\",24],[\"Leyton\",\"Waterloo\"],[10,\"Waterloo\",38],[\"Leyton\",\"Waterloo\"]]\n",
    "\n",
    "    Output\n",
    "    [null,null,null,null,null,null,null,14.00000,11.00000,null,11.00000,null,12.00000]\n",
    "\n",
    "    Explanation\n",
    "    UndergroundSystem undergroundSystem = new UndergroundSystem();\n",
    "    undergroundSystem.checkIn(45, \"Leyton\", 3);\n",
    "    undergroundSystem.checkIn(32, \"Paradise\", 8);\n",
    "    undergroundSystem.checkIn(27, \"Leyton\", 10);\n",
    "    undergroundSystem.checkOut(45, \"Waterloo\", 15);  // Customer 45 \"Leyton\" -> \"Waterloo\" in 15-3 = 12\n",
    "    undergroundSystem.checkOut(27, \"Waterloo\", 20);  // Customer 27 \"Leyton\" -> \"Waterloo\" in 20-10 = 10\n",
    "    undergroundSystem.checkOut(32, \"Cambridge\", 22); // Customer 32 \"Paradise\" -> \"Cambridge\" in 22-8 = 14\n",
    "    undergroundSystem.getAverageTime(\"Paradise\", \"Cambridge\"); // return 14.00000. One trip \"Paradise\" -> \"Cambridge\", (14) / 1 = 14\n",
    "    undergroundSystem.getAverageTime(\"Leyton\", \"Waterloo\");    // return 11.00000. Two trips \"Leyton\" -> \"Waterloo\", (10 + 12) / 2 = 11\n",
    "    undergroundSystem.checkIn(10, \"Leyton\", 24);\n",
    "    undergroundSystem.getAverageTime(\"Leyton\", \"Waterloo\");    // return 11.00000\n",
    "    undergroundSystem.checkOut(10, \"Waterloo\", 38);  // Customer 10 \"Leyton\" -> \"Waterloo\" in 38-24 = 14\n",
    "    undergroundSystem.getAverageTime(\"Leyton\", \"Waterloo\");    // return 12.00000. Three trips \"Leyton\" -> \"Waterloo\", (10 + 12 + 14) / 3 = 12\n",
    "    Example 2:\n",
    "\n",
    "    Input\n",
    "    [\"UndergroundSystem\",\"checkIn\",\"checkOut\",\"getAverageTime\",\"checkIn\",\"checkOut\",\"getAverageTime\",\"checkIn\",\"checkOut\",\"getAverageTime\"]\n",
    "    [[],[10,\"Leyton\",3],[10,\"Paradise\",8],[\"Leyton\",\"Paradise\"],[5,\"Leyton\",10],[5,\"Paradise\",16],[\"Leyton\",\"Paradise\"],[2,\"Leyton\",21],[2,\"Paradise\",30],[\"Leyton\",\"Paradise\"]]\n",
    "\n",
    "    Output\n",
    "    [null,null,null,5.00000,null,null,5.50000,null,null,6.66667]\n",
    "\n",
    "    Explanation\n",
    "    UndergroundSystem undergroundSystem = new UndergroundSystem();\n",
    "    undergroundSystem.checkIn(10, \"Leyton\", 3);\n",
    "    undergroundSystem.checkOut(10, \"Paradise\", 8); // Customer 10 \"Leyton\" -> \"Paradise\" in 8-3 = 5\n",
    "    undergroundSystem.getAverageTime(\"Leyton\", \"Paradise\"); // return 5.00000, (5) / 1 = 5\n",
    "    undergroundSystem.checkIn(5, \"Leyton\", 10);\n",
    "    undergroundSystem.checkOut(5, \"Paradise\", 16); // Customer 5 \"Leyton\" -> \"Paradise\" in 16-10 = 6\n",
    "    undergroundSystem.getAverageTime(\"Leyton\", \"Paradise\"); // return 5.50000, (5 + 6) / 2 = 5.5\n",
    "    undergroundSystem.checkIn(2, \"Leyton\", 21);\n",
    "    undergroundSystem.checkOut(2, \"Paradise\", 30); // Customer 2 \"Leyton\" -> \"Paradise\" in 30-21 = 9\n",
    "    undergroundSystem.getAverageTime(\"Leyton\", \"Paradise\"); // return 6.66667, (5 + 6 + 9) / 3 = 6.66667\n",
    " \n",
    "\n",
    "**Constraints**\n",
    "\n",
    "    1 <= id, t <= 106\n",
    "    1 <= stationName.length, startStation.length, endStation.length <= 10\n",
    "    All strings consist of uppercase and lowercase English letters and digits.\n",
    "    There will be at most 2 * 104 calls in total to checkIn, checkOut, and getAverageTime.\n",
    "    Answers within 10-5 of the actual value will be accepted."
   ]
  },
  {
   "cell_type": "code",
   "execution_count": 159,
   "id": "edaef296",
   "metadata": {},
   "outputs": [],
   "source": [
    "class UndergroundSystem:\n",
    "\n",
    "    def __init__(self):\n",
    "        self.system_dict= {}\n",
    "        self.cal_dict = {}\n",
    "        \n",
    "\n",
    "    def checkIn(self, Id: int, stationName: str, t: int)->None:\n",
    "        self.system_dict[Id] = [stationName,t]\n",
    "        return\n",
    "    \n",
    "    def checkOut(self, Id: int, stationName: str, t: int)->None:\n",
    "        time = abs(self.system_dict[Id][1] - t)\n",
    "        print(time)\n",
    "        \n",
    "        if self.system_dict[Id][0]+'-'+stationName not in self.cal_dict.keys():\n",
    "            self.cal_dict[self.system_dict[Id][0]+'-'+stationName] = [time]              \n",
    "        else :\n",
    "            self.cal_dict[self.system_dict[Id][0]+'-'+stationName].append(time)\n",
    "\n",
    "        return time\n",
    "\n",
    "    def getAverageTime(self, startStation: str, endStation: str)->None:\n",
    "        \n",
    "        if len(self.cal_dict[startStation+'-'+endStation]) !=0:\n",
    "            print(sum(self.cal_dict[startStation+'-'+endStation]) / len(self.cal_dict[startStation+'-'+endStation]))\n",
    "            return sum(self.cal_dict[startStation+'-'+endStation]) / len(self.cal_dict[startStation+'-'+endStation])"
   ]
  },
  {
   "cell_type": "code",
   "execution_count": 160,
   "id": "b4bd4a1a",
   "metadata": {},
   "outputs": [],
   "source": [
    "undergroundSystem = UndergroundSystem()"
   ]
  },
  {
   "cell_type": "code",
   "execution_count": 161,
   "id": "5ed07665",
   "metadata": {},
   "outputs": [],
   "source": [
    "undergroundSystem.checkIn(45, \"Leyton\", 3);\n",
    "undergroundSystem.checkIn(32, \"Paradise\", 8);\n",
    "undergroundSystem.checkIn(27, \"Leyton\", 10);"
   ]
  },
  {
   "cell_type": "code",
   "execution_count": 162,
   "id": "084692a9",
   "metadata": {},
   "outputs": [
    {
     "name": "stdout",
     "output_type": "stream",
     "text": [
      "12\n",
      "10\n",
      "14\n",
      "14.0\n",
      "11.0\n",
      "11.0\n",
      "14\n",
      "12.0\n"
     ]
    }
   ],
   "source": [
    "undergroundSystem.checkOut(45, \"Waterloo\", 15);\n",
    "undergroundSystem.checkOut(27, \"Waterloo\", 20);\n",
    "undergroundSystem.checkOut(32, \"Cambridge\", 22);\n",
    "undergroundSystem.getAverageTime(\"Paradise\", \"Cambridge\");\n",
    "undergroundSystem.getAverageTime(\"Leyton\", \"Waterloo\"); \n",
    "undergroundSystem.checkIn(10, \"Leyton\", 24);\n",
    "undergroundSystem.getAverageTime(\"Leyton\", \"Waterloo\"); \n",
    "undergroundSystem.checkOut(10, \"Waterloo\", 38);\n",
    "undergroundSystem.getAverageTime(\"Leyton\", \"Waterloo\"); "
   ]
  },
  {
   "attachments": {
    "image.png": {
     "image/png": "[encoded data removed]"
    }
   },
   "cell_type": "markdown",
   "id": "dfc06529",
   "metadata": {},
   "source": [
    "![image.png](attachment:image.png)"
   ]
  },
  {
   "cell_type": "code",
   "execution_count": null,
   "id": "b2674f70",
   "metadata": {},
   "outputs": [],
   "source": []
  }
 ],
 "metadata": {
  "kernelspec": {
   "display_name": "Python 3 (ipykernel)",
   "language": "python",
   "name": "python3"
  },
  "language_info": {
   "codemirror_mode": {
    "name": "ipython",
    "version": 3
   },
   "file_extension": ".py",
   "mimetype": "text/x-python",
   "name": "python",
   "nbconvert_exporter": "python",
   "pygments_lexer": "ipython3",
   "version": "3.9.12"
  }
 },
 "nbformat": 4,
 "nbformat_minor": 5
}
