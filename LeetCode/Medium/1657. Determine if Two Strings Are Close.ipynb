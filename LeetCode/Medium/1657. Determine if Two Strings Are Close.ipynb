{
 "cells": [
  {
   "cell_type": "markdown",
   "metadata": {},
   "source": [
    "# Leetcode\n",
    "\n",
    "1657. Determine if Two Strings Are Close\n",
    "\n",
    "https://leetcode.com/problems/determine-if-two-strings-are-close/description/\n"
   ]
  },
  {
   "cell_type": "markdown",
   "metadata": {},
   "source": []
  }
 ],
 "metadata": {
  "language_info": {
   "name": "python"
  },
  "orig_nbformat": 4
 },
 "nbformat": 4,
 "nbformat_minor": 2
}
