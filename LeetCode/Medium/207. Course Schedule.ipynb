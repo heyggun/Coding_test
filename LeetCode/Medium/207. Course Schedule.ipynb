{
 "cells": [
  {
   "cell_type": "markdown",
   "id": "03f98f68",
   "metadata": {},
   "source": [
    "# LeetCode\n",
    "\n",
    "207. Course Schedule\n",
    "\n",
    "\n",
    "https://leetcode.com/problems/course-schedule/\n",
    "\n",
    "**Description**\n",
    "\n",
    "    There are a total of numCourses courses you have to take, labeled from 0 to numCourses - 1. You are given an array prerequisites where prerequisites[i] = [ai, bi] indicates that you must take course bi first if you want to take course ai.\n",
    "\n",
    "    For example, the pair [0, 1], indicates that to take course 0 you have to first take course 1.\n",
    "    Return true if you can finish all courses. Otherwise, return false.\n",
    "\n",
    " \n",
    "**Examples**\n",
    "\n",
    "    Example 1:\n",
    "\n",
    "    Input: numCourses = 2, prerequisites = [[1,0]]\n",
    "    Output: true\n",
    "    Explanation: There are a total of 2 courses to take. \n",
    "    To take course 1 you should have finished course 0. So it is possible.\n",
    "    Example 2:\n",
    "\n",
    "    Input: numCourses = 2, prerequisites = [[1,0],[0,1]]\n",
    "    Output: false\n",
    "    Explanation: There are a total of 2 courses to take. \n",
    "    To take course 1 you should have finished course 0, and to take course 0 you should also have finished course 1. So it is impossible.\n",
    "\n",
    "**Constraints**\n",
    "\n",
    "\n",
    "    1 <= numCourses <= 2000\n",
    "    0 <= prerequisites.length <= 5000\n",
    "    prerequisites[i].length == 2\n",
    "    0 <= ai, bi < numCourses\n",
    "    All the pairs prerequisites[i] are unique."
   ]
  },
  {
   "cell_type": "code",
   "execution_count": 8,
   "id": "f20bed2b",
   "metadata": {},
   "outputs": [],
   "source": [
    "class Solution:\n",
    "    def canFinish(self, numCourses: int, prerequisites: list[list[int]]) -> bool:\n",
    "        preMap = {i:[] for i in range(numCourses)}\n",
    "        for crs, pre in prerequisites:\n",
    "            preMap[crs].append(pre)\n",
    "            \n",
    "        visitedSet = set()\n",
    "        def dfs(crs):\n",
    "            if crs in visitedSet:\n",
    "                return\n",
    "            if preMap[crs] == []:\n",
    "                return True\n",
    "            \n",
    "            visitedSet.add(crs)\n",
    "            for pre in preMap[crs]:\n",
    "                if not dfs(pre):\n",
    "                    return False\n",
    "                \n",
    "            visitedSet.remove(crs)\n",
    "            preMap[crs] = []\n",
    "            return True\n",
    "        \n",
    "        for crs in range(numCourses):\n",
    "            if not dfs(crs):\n",
    "                return False\n",
    "            \n",
    "        return True"
   ]
  },
  {
   "cell_type": "code",
   "execution_count": 10,
   "id": "994c5eb4",
   "metadata": {},
   "outputs": [
    {
     "data": {
      "text/plain": [
       "True"
      ]
     },
     "execution_count": 10,
     "metadata": {},
     "output_type": "execute_result"
    }
   ],
   "source": [
    "sol = Solution()\n",
    "sol.canFinish(numCourses = 2, prerequisites = [[1,0]])\n"
   ]
  },
  {
   "cell_type": "code",
   "execution_count": 11,
   "id": "d659f789",
   "metadata": {},
   "outputs": [
    {
     "data": {
      "text/plain": [
       "False"
      ]
     },
     "execution_count": 11,
     "metadata": {},
     "output_type": "execute_result"
    }
   ],
   "source": [
    "sol.canFinish(numCourses = 2, prerequisites = [[1,0],[0,1]])"
   ]
  },
  {
   "cell_type": "code",
   "execution_count": null,
   "id": "8fd21c08",
   "metadata": {},
   "outputs": [],
   "source": []
  },
  {
   "attachments": {
    "image.png": {
     "image/png": "[encoded data removed]"
    }
   },
   "cell_type": "markdown",
   "id": "185dc27d",
   "metadata": {},
   "source": [
    "![image.png](attachment:image.png)"
   ]
  },
  {
   "cell_type": "code",
   "execution_count": null,
   "id": "85bf8f8c",
   "metadata": {},
   "outputs": [],
   "source": []
  }
 ],
 "metadata": {
  "kernelspec": {
   "display_name": "Python 3 (ipykernel)",
   "language": "python",
   "name": "python3"
  },
  "language_info": {
   "codemirror_mode": {
    "name": "ipython",
    "version": 3
   },
   "file_extension": ".py",
   "mimetype": "text/x-python",
   "name": "python",
   "nbconvert_exporter": "python",
   "pygments_lexer": "ipython3",
   "version": "3.9.12"
  }
 },
 "nbformat": 4,
 "nbformat_minor": 5
}
