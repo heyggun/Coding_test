{
 "cells": [
  {
   "cell_type": "markdown",
   "id": "21f0e81f",
   "metadata": {},
   "source": [
    "# LeetCode\n",
    "\n",
    "146. LRU Cache\n",
    "\n",
    "https://leetcode.com/problems/lru-cache/\n",
    "\n",
    "**Description**\n",
    "\n",
    "    Design a data structure that follows the constraints of a Least Recently Used (LRU) cache.\n",
    "\n",
    "    Implement the LRUCache class:\n",
    "\n",
    "    LRUCache(int capacity) Initialize the LRU cache with positive size capacity.\n",
    "    int get(int key) Return the value of the key if the key exists, otherwise return -1.\n",
    "    void put(int key, int value) Update the value of the key if the key exists. Otherwise, add the key-value pair to the cache. If the number of keys exceeds the capacity from this operation, evict the least recently used key.\n",
    "    The functions get and put must each run in O(1) average time complexity.\n",
    "\n",
    " \n",
    "**Examples**\n",
    "\n",
    "    Example 1:\n",
    "\n",
    "    Input\n",
    "    [\"LRUCache\", \"put\", \"put\", \"get\", \"put\", \"get\", \"put\", \"get\", \"get\", \"get\"]\n",
    "    [[2], [1, 1], [2, 2], [1], [3, 3], [2], [4, 4], [1], [3], [4]]\n",
    "    Output\n",
    "    [null, null, null, 1, null, -1, null, -1, 3, 4]\n",
    "\n",
    "    Explanation\n",
    "    LRUCache lRUCache = new LRUCache(2);\n",
    "    lRUCache.put(1, 1); // cache is {1=1}\n",
    "    lRUCache.put(2, 2); // cache is {1=1, 2=2}\n",
    "    lRUCache.get(1);    // return 1\n",
    "    lRUCache.put(3, 3); // LRU key was 2, evicts key 2, cache is {1=1, 3=3}\n",
    "    lRUCache.get(2);    // returns -1 (not found)\n",
    "    lRUCache.put(4, 4); // LRU key was 1, evicts key 1, cache is {4=4, 3=3}\n",
    "    lRUCache.get(1);    // return -1 (not found)\n",
    "    lRUCache.get(3);    // return 3\n",
    "    lRUCache.get(4);    // return 4\n",
    " \n",
    "\n",
    "**Constraints**\n",
    "\n",
    "    1 <= capacity <= 3000\n",
    "    0 <= key <= 10^4\n",
    "    0 <= value <= 10^5\n",
    "    At most 2 * 10^5 calls will be made to get and put."
   ]
  },
  {
   "cell_type": "code",
   "execution_count": 5,
   "id": "d87d4263",
   "metadata": {},
   "outputs": [],
   "source": [
    "class Node:\n",
    "    def __init__(self, key, val):\n",
    "        self.key, self.val = key, val\n",
    "        self.prev = self.next = None\n",
    "\n",
    "class LRUCache:\n",
    "\n",
    "    def __init__(self, capacity: int):\n",
    "        self.cap = capacity\n",
    "        self.cache = {}\n",
    "        \n",
    "        self.left, self.right = Node(0,0), Node(0,0)\n",
    "        self.left.next, self.right.prev = self.right, self.left\n",
    "\n",
    "    def remove(self, node):\n",
    "        prev, nxt = node.prev, node.next\n",
    "        prev.next, nxt.prev = nxt, prev\n",
    "        \n",
    "\n",
    "    def insert(self, node):\n",
    "        prev, nxt = self.right.prev, self.right\n",
    "        prev.next = nxt.prev = node\n",
    "        node.next, node.prev = nxt, prev\n",
    "\n",
    "    def get(self, key: int) -> int:\n",
    "        if key in self.cache:\n",
    "            self.remove(self.cache[key])\n",
    "            self.insert(self.cache[key])\n",
    "            return self.cache[key].val\n",
    "        return -1\n",
    "\n",
    "    def put(self, key: int, value: int) -> None:\n",
    "        if key in self.cache:\n",
    "            self.remove(self.cache[key])\n",
    "        self.cache[key] = Node(key, value)\n",
    "        self.insert(self.cache[key])\n",
    "\n",
    "        if len(self.cache) > self.cap:\n",
    "            lru = self.left.next\n",
    "            self.remove(lru)\n",
    "            del self.cache[lru.key]"
   ]
  },
  {
   "cell_type": "code",
   "execution_count": 12,
   "id": "4786f658",
   "metadata": {},
   "outputs": [
    {
     "name": "stdout",
     "output_type": "stream",
     "text": [
      "{1: <__main__.Node object at 0x000002932ACA0A00>}\n",
      "{1: <__main__.Node object at 0x000002932ACA0A00>, 2: <__main__.Node object at 0x000002932ABFDD60>}\n"
     ]
    }
   ],
   "source": [
    "obj = LRUCache(2)\n",
    "obj.put(1,1)\n",
    "print(obj.cache)\n",
    "obj.put(2,2)\n",
    "print(obj.cache)"
   ]
  },
  {
   "attachments": {
    "image.png": {
     "image/png": "[encoded data removed]"
    }
   },
   "cell_type": "markdown",
   "id": "108a75b9",
   "metadata": {},
   "source": [
    "![image.png](attachment:image.png)"
   ]
  },
  {
   "cell_type": "code",
   "execution_count": null,
   "id": "c668207f",
   "metadata": {},
   "outputs": [],
   "source": []
  }
 ],
 "metadata": {
  "kernelspec": {
   "display_name": "Python 3 (ipykernel)",
   "language": "python",
   "name": "python3"
  },
  "language_info": {
   "codemirror_mode": {
    "name": "ipython",
    "version": 3
   },
   "file_extension": ".py",
   "mimetype": "text/x-python",
   "name": "python",
   "nbconvert_exporter": "python",
   "pygments_lexer": "ipython3",
   "version": "3.9.12"
  }
 },
 "nbformat": 4,
 "nbformat_minor": 5
}
