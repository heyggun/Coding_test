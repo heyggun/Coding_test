{
 "cells": [
  {
   "cell_type": "markdown",
   "id": "5fe9bfbc",
   "metadata": {},
   "source": [
    "# LeetCode\n",
    "\n",
    "720. Longest Word in Dictionary\n",
    "\n",
    "https://leetcode.com/problems/longest-word-in-dictionary/description/\n",
    "\n",
    "\n",
    "**Descriptions**\n",
    "\n",
    "    Given an array of strings words representing an English Dictionary, return the longest word in words that can be built one character at a time by other words in words.\n",
    "\n",
    "    If there is more than one possible answer, return the longest word with the smallest lexicographical order. If there is no answer, return the empty string.\n",
    "\n",
    "    Note that the word should be built from left to right with each additional character being added to the end of a previous word. \n",
    "\n",
    "\n",
    "**Examples**\n",
    "\n",
    "    Example 1:\n",
    "\n",
    "    Input: words = [\"w\",\"wo\",\"wor\",\"worl\",\"world\"]\n",
    "    Output: \"world\"\n",
    "    Explanation: The word \"world\" can be built one character at a time by \"w\", \"wo\", \"wor\", and \"worl\".\n",
    "    \n",
    "    Example 2:\n",
    "    Input: words = [\"a\",\"banana\",\"app\",\"appl\",\"ap\",\"apply\",\"apple\"]\n",
    "    Output: \"apple\"\n",
    "    Explanation: Both \"apply\" and \"apple\" can be built from other words in the dictionary. However, \"apple\" is lexicographically smaller than \"apply\".\n",
    "\n",
    "\n",
    "**Constraints**\n",
    "\n",
    "    1 <= words.length <= 1000\n",
    "    1 <= words[i].length <= 30\n",
    "    words[i] consists of lowercase English letters."
   ]
  },
  {
   "cell_type": "code",
   "execution_count": 5,
   "id": "0858c706",
   "metadata": {},
   "outputs": [],
   "source": [
    "class TreeNode:\n",
    "    def __init__(self):\n",
    "        self.children = {}\n",
    "        self.isWord = False\n",
    "        self.val = ''\n",
    "        \n",
    "class Trie:\n",
    "    def __init__(self):\n",
    "        self.root = TreeNode()\n",
    "        \n",
    "    def addWord(self,word):\n",
    "        cur = self.root\n",
    "        for w in word:\n",
    "            if w not in cur.children:\n",
    "                cur.children[w] = TreeNode()\n",
    "            cur = cur.children[w]\n",
    "        cur.isWord = True\n",
    "        cur.val = word\n",
    "    \n",
    "    def dfs(self):\n",
    "        queue = [self.root]\n",
    "        ans = ''\n",
    "        while queue:\n",
    "            node = queue.pop(0)\n",
    "            for child in node.children.values():\n",
    "                if child.isWord:\n",
    "                    queue.append(child)\n",
    "                    if len(child.val) > len(ans):\n",
    "                        ans = child.val\n",
    "        return ans\n",
    "    \n",
    "    \n",
    "class Solution:\n",
    "    def longestWord(self, words):\n",
    "        words.sort()\n",
    "        root = Trie()\n",
    "        for w in words:\n",
    "            root.addWord(w)\n",
    "            \n",
    "        return root.dfs()\n",
    "            \n"
   ]
  },
  {
   "cell_type": "code",
   "execution_count": 6,
   "id": "292fbc64",
   "metadata": {},
   "outputs": [
    {
     "name": "stdout",
     "output_type": "stream",
     "text": [
      "world\n",
      "apple\n"
     ]
    }
   ],
   "source": [
    "sol = Solution()\n",
    "print(sol.longestWord(words = [\"w\",\"wo\",\"wor\",\"worl\",\"world\"]))\n",
    "\n",
    "sol = Solution()\n",
    "print(sol.longestWord(words = [\"a\",\"banana\",\"app\",\"appl\",\"ap\",\"apply\",\"apple\"]))"
   ]
  },
  {
   "attachments": {
    "image.png": {
     "image/png": "[encoded data removed]"
    }
   },
   "cell_type": "markdown",
   "id": "873f8869",
   "metadata": {},
   "source": [
    "![image.png](attachment:image.png)"
   ]
  },
  {
   "cell_type": "code",
   "execution_count": null,
   "id": "4b2662c7",
   "metadata": {},
   "outputs": [],
   "source": []
  },
  {
   "cell_type": "code",
   "execution_count": null,
   "id": "4a4b0ff9",
   "metadata": {},
   "outputs": [],
   "source": []
  }
 ],
 "metadata": {
  "kernelspec": {
   "display_name": "Python 3 (ipykernel)",
   "language": "python",
   "name": "python3"
  },
  "language_info": {
   "codemirror_mode": {
    "name": "ipython",
    "version": 3
   },
   "file_extension": ".py",
   "mimetype": "text/x-python",
   "name": "python",
   "nbconvert_exporter": "python",
   "pygments_lexer": "ipython3",
   "version": "3.9.12"
  }
 },
 "nbformat": 4,
 "nbformat_minor": 5
}
