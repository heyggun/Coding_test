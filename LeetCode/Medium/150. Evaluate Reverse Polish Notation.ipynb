{
 "cells": [
  {
   "cell_type": "markdown",
   "metadata": {},
   "source": [
    "## Leetcode 150. Evaluate Reverse Polish Notation\n",
    "\n",
    "https://leetcode.com/problems/evaluate-reverse-polish-notation/description/?envType=daily-question&envId=2024-01-30\n",
    "\n",
    "**Description**\n",
    "\n",
    "    You are given an array of strings tokens that represents an arithmetic expression in a Reverse Polish Notation.\n",
    "\n",
    "    Evaluate the expression. Return an integer that represents the value of the expression.\n",
    "\n",
    "    Note that:\n",
    "\n",
    "    The valid operators are '+', '-', '*', and '/'.\n",
    "    Each operand may be an integer or another expression.\n",
    "    The division between two integers always truncates toward zero.\n",
    "    There will not be any division by zero.\n",
    "    The input represents a valid arithmetic expression in a reverse polish notation.\n",
    "    The answer and all the intermediate calculations can be represented in a 32-bit integer.\n",
    "    \n",
    "\n",
    "    Example 1:\n",
    "    Input: tokens = [\"2\",\"1\",\"+\",\"3\",\"*\"]\n",
    "    Output: 9\n",
    "    Explanation: ((2 + 1) * 3) = 9\n",
    "    \n",
    "    Example 2:\n",
    "    Input: tokens = [\"4\",\"13\",\"5\",\"/\",\"+\"]\n",
    "    Output: 6\n",
    "    Explanation: (4 + (13 / 5)) = 6\n",
    "    \n",
    "    Example 3:\n",
    "    Input: tokens = [\"10\",\"6\",\"9\",\"3\",\"+\",\"-11\",\"*\",\"/\",\"*\",\"17\",\"+\",\"5\",\"+\"]\n",
    "    Output: 22\n",
    "    Explanation: ((10 * (6 / ((9 + 3) * -11))) + 17) + 5\n",
    "    = ((10 * (6 / (12 * -11))) + 17) + 5\n",
    "    = ((10 * (6 / -132)) + 17) + 5\n",
    "    = ((10 * 0) + 17) + 5\n",
    "    = (0 + 17) + 5\n",
    "    = 17 + 5\n",
    "    = 22\n",
    "    \n",
    "\n",
    "**Constraints**\n",
    "\n",
    "    1 <= tokens.length <= 10^4\n",
    "    tokens[i] is either an operator: \"+\", \"-\", \"*\", or \"/\", or an integer in the range [-200, 200].\n",
    "\n"
   ]
  },
  {
   "cell_type": "code",
   "execution_count": 1,
   "metadata": {},
   "outputs": [],
   "source": [
    "from typing import List"
   ]
  },
  {
   "cell_type": "code",
   "execution_count": 2,
   "metadata": {},
   "outputs": [],
   "source": [
    "class Solution:\n",
    "    def evalRPN(self, tokens: List[str]) -> int:\n",
    "        stack = []\n",
    "\n",
    "        for token in tokens:\n",
    "            if token == '*':\n",
    "                a,b = stack.pop(), stack.pop()\n",
    "                stack.append(a*b)\n",
    "            elif token == '+':\n",
    "                a,b = stack.pop(), stack.pop()\n",
    "                stack.append(a+b)\n",
    "            elif token =='/':\n",
    "                a,b = stack.pop(), stack.pop()\n",
    "                stack.append(int(b/a))\n",
    "            elif token== '-':\n",
    "                a,b = stack.pop(), stack.pop()\n",
    "                stack.append(b-a)\n",
    "            else:\n",
    "                stack.append(int(token))\n",
    "\n",
    "        return stack[0]\n",
    "\n"
   ]
  },
  {
   "cell_type": "code",
   "execution_count": 3,
   "metadata": {},
   "outputs": [
    {
     "name": "stdout",
     "output_type": "stream",
     "text": [
      "9\n",
      "6\n",
      "22\n"
     ]
    }
   ],
   "source": [
    "sol = Solution()\n",
    "print(sol.evalRPN(tokens = [\"2\",\"1\",\"+\",\"3\",\"*\"]))\n",
    "print(sol.evalRPN(tokens = [\"4\",\"13\",\"5\",\"/\",\"+\"]))\n",
    "print(sol.evalRPN(tokens = [\"10\",\"6\",\"9\",\"3\",\"+\",\"-11\",\"*\",\"/\",\"*\",\"17\",\"+\",\"5\",\"+\"]))"
   ]
  },
  {
   "cell_type": "code",
   "execution_count": null,
   "metadata": {},
   "outputs": [],
   "source": []
  }
 ],
 "metadata": {
  "kernelspec": {
   "display_name": "Python 3",
   "language": "python",
   "name": "python3"
  },
  "language_info": {
   "codemirror_mode": {
    "name": "ipython",
    "version": 3
   },
   "file_extension": ".py",
   "mimetype": "text/x-python",
   "name": "python",
   "nbconvert_exporter": "python",
   "pygments_lexer": "ipython3",
   "version": "3.9.6"
  },
  "orig_nbformat": 4
 },
 "nbformat": 4,
 "nbformat_minor": 2
}
