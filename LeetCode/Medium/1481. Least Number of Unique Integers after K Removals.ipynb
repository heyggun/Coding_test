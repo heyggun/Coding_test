{
 "cells": [
  {
   "cell_type": "markdown",
   "metadata": {},
   "source": [
    "## Leetcode\n",
    "\n",
    "1481. Least Number of Unique Integers after K Removals\n",
    "\n",
    "https://leetcode.com/problems/least-number-of-unique-integers-after-k-removals/description/?envType=daily-question&envId=2024-02-16\n",
    "\n",
    "**description**\n",
    "\n",
    "    Given an array of integers arr and an integer k. Find the least number of unique integers after removing exactly k elements.\n",
    "\n",
    " \n",
    "\n",
    "    Example 1:\n",
    "    Input: arr = [5,5,4], k = 1\n",
    "    Output: 1\n",
    "    Explanation: Remove the single 4, only 5 is left.\n",
    "    \n",
    "    Example 2:\n",
    "    Input: arr = [4,3,1,1,3,3,2], k = 3\n",
    "    Output: 2\n",
    "    Explanation: Remove 4, 2 and either one of the two 1s or three 3s. 1 and 3 will be left.\n",
    "    \n",
    "\n",
    "**Constraints:**\n",
    "\n",
    "    1 <= arr.length <= 10^5\n",
    "    1 <= arr[i] <= 10^9\n",
    "    0 <= k <= arr.length\n",
    "\n"
   ]
  },
  {
   "cell_type": "code",
   "execution_count": 1,
   "metadata": {},
   "outputs": [],
   "source": [
    "from typing import List"
   ]
  },
  {
   "cell_type": "code",
   "execution_count": 22,
   "metadata": {},
   "outputs": [],
   "source": [
    "class Solution:\n",
    "    def findLeastNumOfUniqueInts(self, arr: List[int], k: int) -> int:\n",
    "        tmp = {}\n",
    "        for a in arr:\n",
    "            tmp[a] = 1+ tmp.get(a, 0)\n",
    "        \n",
    "        sortedTmp = sorted(tmp.items(), key= lambda x: x[1])\n",
    "\n",
    "        for key, val in sortedTmp:\n",
    "            if k >= val:\n",
    "                k -= val\n",
    "                del tmp[key]\n",
    "            else:\n",
    "                break\n",
    "\n",
    "        return len(tmp)"
   ]
  },
  {
   "cell_type": "code",
   "execution_count": 23,
   "metadata": {},
   "outputs": [
    {
     "name": "stdout",
     "output_type": "stream",
     "text": [
      "1\n",
      "2\n"
     ]
    }
   ],
   "source": [
    "sol = Solution()\n",
    "print(sol.findLeastNumOfUniqueInts(arr = [5,5,4], k = 1))\n",
    "print(sol.findLeastNumOfUniqueInts(arr = [4,3,1,1,3,3,2], k = 3))"
   ]
  },
  {
   "cell_type": "code",
   "execution_count": null,
   "metadata": {},
   "outputs": [],
   "source": []
  }
 ],
 "metadata": {
  "kernelspec": {
   "display_name": "Python 3",
   "language": "python",
   "name": "python3"
  },
  "language_info": {
   "codemirror_mode": {
    "name": "ipython",
    "version": 3
   },
   "file_extension": ".py",
   "mimetype": "text/x-python",
   "name": "python",
   "nbconvert_exporter": "python",
   "pygments_lexer": "ipython3",
   "version": "3.9.6"
  },
  "orig_nbformat": 4
 },
 "nbformat": 4,
 "nbformat_minor": 2
}
