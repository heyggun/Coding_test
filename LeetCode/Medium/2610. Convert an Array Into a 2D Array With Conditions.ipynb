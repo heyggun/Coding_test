{
 "cells": [
  {
   "cell_type": "markdown",
   "id": "ec8def25",
   "metadata": {},
   "source": [
    "# Leetcode 2610. Convert an Array Into a 2D Array With Conditions\n",
    "\n",
    "https://leetcode.com/problems/convert-an-array-into-a-2d-array-with-conditions/?envType=daily-question&envId=2024-01-02"
   ]
  },
  {
   "cell_type": "markdown",
   "id": "85f628ea",
   "metadata": {},
   "source": [
    "**Description**\n",
    "\n",
    "    You are given an integer array nums. You need to create a 2D array from nums satisfying the following conditions:\n",
    "\n",
    "    The 2D array should contain only the elements of the array nums.\n",
    "    Each row in the 2D array contains distinct integers.\n",
    "    The number of rows in the 2D array should be minimal.\n",
    "    Return the resulting array. If there are multiple answers, return any of them.\n",
    "\n",
    "    Note that the 2D array can have a different number of elements on each row.\n",
    "\n",
    "    \n",
    "**Examples**\n",
    "\n",
    "\n",
    "    Example 1:\n",
    "    Input: nums = [1,3,4,1,2,3,1]\n",
    "    Output: [[1,3,4,2],[1,3],[1]]\n",
    "    Explanation: We can create a 2D array that contains the following rows:\n",
    "    - 1,3,4,2\n",
    "    - 1,3\n",
    "    - 1\n",
    "    All elements of nums were used, and each row of the 2D array contains distinct integers, so it is a valid answer.\n",
    "    It can be shown that we cannot have less than 3 rows in a valid array.\n",
    "    \n",
    "    Example 2:\n",
    "    Input: nums = [1,2,3,4]\n",
    "    Output: [[4,3,2,1]]\n",
    "    Explanation: All elements of the array are distinct, so we can keep all of them in the first row of the 2D array.\n",
    "    \n",
    "\n",
    "**Constraints**\n",
    "\n",
    "    1 <= nums.length <= 200\n",
    "    1 <= nums[i] <= nums.length"
   ]
  },
  {
   "cell_type": "code",
   "execution_count": 20,
   "id": "8e9b9215-0f72-4056-95cd-65fb48363987",
   "metadata": {},
   "outputs": [],
   "source": [
    "from collections import Counter\n",
    "\n",
    "class Solution:\n",
    "    def findMatrix(self, nums: list[int]) -> list[list[int]]:\n",
    "        cnt = Counter(nums)\n",
    "        ans = []\n",
    "        for k, v in cnt.items():\n",
    "            for i in range(v):\n",
    "                if len(ans) <= i:\n",
    "                    ans.append([])\n",
    "                ans[i].append(k)\n",
    "        return ans\n",
    "        "
   ]
  },
  {
   "cell_type": "code",
   "execution_count": 21,
   "id": "d3b53c8b",
   "metadata": {},
   "outputs": [
    {
     "name": "stdout",
     "output_type": "stream",
     "text": [
      "[[1, 3, 4, 2], [1, 3], [1]]\n"
     ]
    }
   ],
   "source": [
    "sol = Solution()\n",
    "print(sol.findMatrix([1,3,4,1,2,3,1]))"
   ]
  },
  {
   "cell_type": "markdown",
   "id": "e1f65747",
   "metadata": {},
   "source": [
    "##### Neetcode 영상 보고 시간 복잡도 및 공간복잡도가 더 효율적인 solution 발견"
   ]
  },
  {
   "cell_type": "code",
   "execution_count": 14,
   "id": "b5a32d92",
   "metadata": {},
   "outputs": [],
   "source": [
    "from collections import defaultdict\n",
    "\n",
    "class Solution:\n",
    "    def findMatrix(self, nums: list[int]) -> list[list[int]]:\n",
    "        cnt = defaultdict(int)\n",
    "        ans = []\n",
    "\n",
    "        for num in nums:\n",
    "            row = cnt[num]\n",
    "            if len(ans) == row:\n",
    "                ans.append([])\n",
    "            ans[row].append(num)\n",
    "            cnt[num] +=1\n",
    "\n",
    "        return ans"
   ]
  },
  {
   "cell_type": "code",
   "execution_count": 11,
   "id": "d7667065-485d-4e9b-939b-f953bbf55a89",
   "metadata": {},
   "outputs": [
    {
     "data": {
      "text/plain": [
       "[[1, 3, 4, 2], [1, 3], [1]]"
      ]
     },
     "execution_count": 11,
     "metadata": {},
     "output_type": "execute_result"
    }
   ],
   "source": [
    "from collections import defaultdict\n",
    "\n",
    "nums =  [1,3,4,1,2,3,1]\n",
    "cnt = defaultdict(int)\n",
    "ans = []\n",
    "\n",
    "for n in nums:\n",
    "    row = cnt[n]\n",
    "    if len(ans) == row:\n",
    "        ans.append([])\n",
    "    ans[row].append(n)\n",
    "    cnt[n] +=1\n",
    "\n",
    "ans\n"
   ]
  },
  {
   "cell_type": "code",
   "execution_count": 15,
   "id": "ac73ad2d",
   "metadata": {},
   "outputs": [
    {
     "name": "stdout",
     "output_type": "stream",
     "text": [
      "[[1, 3, 4, 2], [1, 3], [1]]\n"
     ]
    }
   ],
   "source": [
    "sol = Solution()\n",
    "print(sol.findMatrix([1,3,4,1,2,3,1]))"
   ]
  },
  {
   "cell_type": "code",
   "execution_count": null,
   "id": "a960bcc2",
   "metadata": {},
   "outputs": [],
   "source": []
  }
 ],
 "metadata": {
  "kernelspec": {
   "display_name": "Python 3 (ipykernel)",
   "language": "python",
   "name": "python3"
  },
  "language_info": {
   "codemirror_mode": {
    "name": "ipython",
    "version": 3
   },
   "file_extension": ".py",
   "mimetype": "text/x-python",
   "name": "python",
   "nbconvert_exporter": "python",
   "pygments_lexer": "ipython3",
   "version": "3.9.6"
  }
 },
 "nbformat": 4,
 "nbformat_minor": 5
}
