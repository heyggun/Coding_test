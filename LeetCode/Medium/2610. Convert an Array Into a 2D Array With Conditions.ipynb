{
 "cells": [
  {
   "cell_type": "code",
   "execution_count": 2,
   "id": "8e9b9215-0f72-4056-95cd-65fb48363987",
   "metadata": {},
   "outputs": [],
   "source": [
    "class Solution:\n",
    "    def findMatrix(self, nums: list[int]) -> list[list[int]]:\n",
    "        cnt = Counter(nums)\n",
    "        ans = []\n",
    "        for k, v in cnt.items():\n",
    "            for i in range(v):\n",
    "                if len(ans) <= i:\n",
    "                    ans.append([])\n",
    "                ans[i].append(k)\n",
    "        return ans\n",
    "        "
   ]
  },
  {
   "cell_type": "code",
   "execution_count": null,
   "id": "d7667065-485d-4e9b-939b-f953bbf55a89",
   "metadata": {},
   "outputs": [],
   "source": []
  }
 ],
 "metadata": {
  "kernelspec": {
   "display_name": "Python 3 (ipykernel)",
   "language": "python",
   "name": "python3"
  },
  "language_info": {
   "codemirror_mode": {
    "name": "ipython",
    "version": 3
   },
   "file_extension": ".py",
   "mimetype": "text/x-python",
   "name": "python",
   "nbconvert_exporter": "python",
   "pygments_lexer": "ipython3",
   "version": "3.11.6"
  }
 },
 "nbformat": 4,
 "nbformat_minor": 5
}
