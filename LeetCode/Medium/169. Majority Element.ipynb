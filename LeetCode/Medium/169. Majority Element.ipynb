{
 "cells": [
  {
   "cell_type": "markdown",
   "id": "d01270f9",
   "metadata": {},
   "source": [
    "# LeetCode\n",
    "\n",
    "169. Majority Element\n",
    "\n",
    "https://leetcode.com/problems/majority-element/description/\n",
    "\n",
    "**Description**\n",
    "\n",
    "    Given an array nums of size n, return the majority element.\n",
    "    The majority element is the element that appears more than ⌊n / 2⌋ times. You may assume that the majority element always exists in the array.\n",
    "\n",
    " \n",
    "**Examples**\n",
    "\n",
    "    Example 1:\n",
    "    Input: nums = [3,2,3]\n",
    "    Output: 3\n",
    "    \n",
    "    Example 2:\n",
    "    Input: nums = [2,2,1,1,1,2,2]\n",
    "    Output: 2\n",
    " \n",
    "\n",
    "**Constraints**\n",
    "\n",
    "    n == nums.length\n",
    "    1 <= n <= 5 * 10^4\n",
    "    -10^9 <= nums[i] <= 10^9\n",
    " \n",
    "\n",
    "    Follow-up: Could you solve the problem in linear time and in O(1) space?\n"
   ]
  },
  {
   "cell_type": "code",
   "execution_count": null,
   "id": "96677e90",
   "metadata": {},
   "outputs": [],
   "source": []
  },
  {
   "cell_type": "code",
   "execution_count": 8,
   "id": "089925df",
   "metadata": {},
   "outputs": [],
   "source": [
    "from collections import Counter\n",
    "\n",
    "class Solution:\n",
    "    def majorityElement(self, nums: list[int]) -> int:\n",
    "        return Counter(nums).most_common()[0][0]"
   ]
  },
  {
   "cell_type": "code",
   "execution_count": 9,
   "id": "4e0dcb74",
   "metadata": {},
   "outputs": [
    {
     "name": "stdout",
     "output_type": "stream",
     "text": [
      "3\n",
      "2\n"
     ]
    }
   ],
   "source": [
    "sol = Solution()\n",
    "\n",
    "print(sol.majorityElement([3,2,3]))\n",
    "print(sol.majorityElement([2,2,1,1,1,2,2]))"
   ]
  },
  {
   "cell_type": "code",
   "execution_count": null,
   "id": "e4e53b0a",
   "metadata": {},
   "outputs": [],
   "source": []
  },
  {
   "cell_type": "code",
   "execution_count": 1,
   "id": "cf183679",
   "metadata": {},
   "outputs": [],
   "source": [
    "from collections import Counter"
   ]
  },
  {
   "cell_type": "code",
   "execution_count": 6,
   "id": "9f7a4851",
   "metadata": {},
   "outputs": [
    {
     "data": {
      "text/plain": [
       "3"
      ]
     },
     "execution_count": 6,
     "metadata": {},
     "output_type": "execute_result"
    }
   ],
   "source": [
    "nums = [3,2,3]\n",
    "\n",
    "Counter(nums).most_common()[0][0]\n"
   ]
  },
  {
   "attachments": {
    "image.png": {
     "image/png": "[encoded data removed]"
    }
   },
   "cell_type": "markdown",
   "id": "902f7a31",
   "metadata": {},
   "source": [
    "![image.png](attachment:image.png)"
   ]
  },
  {
   "cell_type": "code",
   "execution_count": null,
   "id": "09694183",
   "metadata": {},
   "outputs": [],
   "source": []
  },
  {
   "cell_type": "code",
   "execution_count": null,
   "id": "11742dd8",
   "metadata": {},
   "outputs": [],
   "source": []
  },
  {
   "cell_type": "code",
   "execution_count": 10,
   "id": "95d79089",
   "metadata": {},
   "outputs": [],
   "source": [
    "class Solution:\n",
    "    def majorityElement(self, nums: list[int]) -> int:\n",
    "        return sorted(nums)[len(nums)//2]\n"
   ]
  },
  {
   "cell_type": "code",
   "execution_count": 11,
   "id": "3fbb2d6f",
   "metadata": {},
   "outputs": [
    {
     "name": "stdout",
     "output_type": "stream",
     "text": [
      "3\n",
      "2\n"
     ]
    }
   ],
   "source": [
    "sol = Solution()\n",
    "\n",
    "print(sol.majorityElement([3,2,3]))\n",
    "print(sol.majorityElement([2,2,1,1,1,2,2]))"
   ]
  },
  {
   "cell_type": "code",
   "execution_count": null,
   "id": "ec301321",
   "metadata": {},
   "outputs": [],
   "source": []
  }
 ],
 "metadata": {
  "kernelspec": {
   "display_name": "Python 3 (ipykernel)",
   "language": "python",
   "name": "python3"
  },
  "language_info": {
   "codemirror_mode": {
    "name": "ipython",
    "version": 3
   },
   "file_extension": ".py",
   "mimetype": "text/x-python",
   "name": "python",
   "nbconvert_exporter": "python",
   "pygments_lexer": "ipython3",
   "version": "3.9.12"
  }
 },
 "nbformat": 4,
 "nbformat_minor": 5
}
