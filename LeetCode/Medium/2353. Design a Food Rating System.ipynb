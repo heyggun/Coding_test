{
 "cells": [
  {
   "cell_type": "markdown",
   "id": "4e7d76e8-b42e-4e16-86ac-de18f8645b11",
   "metadata": {},
   "source": [
    "# Leetcode\n",
    "\n",
    "2353. Design a Food Rating System\n",
    "\n",
    "https://leetcode.com/problems/design-a-food-rating-system/\n",
    "\n",
    "**Descriptions**\n",
    "    \n",
    "    Design a food rating system that can do the following:\n",
    "    \n",
    "    Modify the rating of a food item listed in the system.\n",
    "    Return the highest-rated food item for a type of cuisine in the system.\n",
    "    Implement the FoodRatings class:\n",
    "    \n",
    "    FoodRatings(String[] foods, String[] cuisines, int[] ratings) Initializes the system. The food items are described by foods, cuisines and ratings, all of which have a length of n.\n",
    "    foods[i] is the name of the ith food,\n",
    "    cuisines[i] is the type of cuisine of the ith food, and\n",
    "    ratings[i] is the initial rating of the ith food.\n",
    "    void changeRating(String food, int newRating) Changes the rating of the food item with the name food.\n",
    "    String highestRated(String cuisine) Returns the name of the food item that has the highest rating for the given type of cuisine. If there is a tie, return the item with the lexicographically smaller name.\n",
    "    Note that a string x is lexicographically smaller than string y if x comes before y in dictionary order, that is, either x is a prefix of y, or if i is the first position such that x[i] != y[i], then x[i] comes before y[i] in alphabetic order.\n",
    "\n",
    "**Examples**\n",
    "\n",
    "    Example 1:\n",
    "    \n",
    "    Input\n",
    "    [\"FoodRatings\", \"highestRated\", \"highestRated\", \"changeRating\", \"highestRated\", \"changeRating\", \"highestRated\"]\n",
    "    [[[\"kimchi\", \"miso\", \"sushi\", \"moussaka\", \"ramen\", \"bulgogi\"], [\"korean\", \"japanese\", \"japanese\", \"greek\", \"japanese\", \"korean\"], [9, 12, 8, 15, 14, 7]], [\"korean\"], [\"japanese\"], [\"sushi\", 16], [\"japanese\"], [\"ramen\", 16], [\"japanese\"]]\n",
    "    Output\n",
    "    [null, \"kimchi\", \"ramen\", null, \"sushi\", null, \"ramen\"]\n",
    "    \n",
    "    Explanation\n",
    "    FoodRatings foodRatings = new FoodRatings([\"kimchi\", \"miso\", \"sushi\", \"moussaka\", \"ramen\", \"bulgogi\"], [\"korean\", \"japanese\", \"japanese\", \"greek\", \"japanese\", \"korean\"], [9, 12, 8, 15, 14, 7]);\n",
    "    foodRatings.highestRated(\"korean\"); // return \"kimchi\"\n",
    "                                        // \"kimchi\" is the highest rated korean food with a rating of 9.\n",
    "    foodRatings.highestRated(\"japanese\"); // return \"ramen\"\n",
    "                                          // \"ramen\" is the highest rated japanese food with a rating of 14.\n",
    "    foodRatings.changeRating(\"sushi\", 16); // \"sushi\" now has a rating of 16.\n",
    "    foodRatings.highestRated(\"japanese\"); // return \"sushi\"\n",
    "                                          // \"sushi\" is the highest rated japanese food with a rating of 16.\n",
    "    foodRatings.changeRating(\"ramen\", 16); // \"ramen\" now has a rating of 16.\n",
    "    foodRatings.highestRated(\"japanese\"); // return \"ramen\"\n",
    "                                          // Both \"sushi\" and \"ramen\" have a rating of 16.\n",
    "                                          // However, \"ramen\" is lexicographically smaller than \"sushi\".\n",
    "     \n",
    "\n",
    "**Constraints**\n",
    "    \n",
    "    1 <= n <= 2 * 10^4\n",
    "    n == foods.length == cuisines.length == ratings.length\n",
    "    1 <= foods[i].length, cuisines[i].length <= 10\n",
    "    foods[i], cuisines[i] consist of lowercase English letters.\n",
    "    1 <= ratings[i] <= 10^8\n",
    "    All the strings in foods are distinct.\n",
    "    food will be the name of a food item in the system across all calls to changeRating.\n",
    "    cuisine will be a type of cuisine of at least one food item in the system across all calls to highestRated.\n",
    "    At most 2 * 104 calls in total will be made to changeRating and highestRated.\n"
   ]
  },
  {
   "cell_type": "code",
   "execution_count": 41,
   "id": "02bfd8a7-16ec-4861-9129-71a84f00fffd",
   "metadata": {},
   "outputs": [],
   "source": [
    "from sortedcontainers import SortedSet\n",
    "\n",
    "class FoodRatings:\n",
    "\n",
    "    def __init__(self, foods: list[str], cuisines: list[str], ratings: list[int]):\n",
    "        self.cuisines_food = defaultdict(SortedSet)\n",
    "        self.cuisines = {}\n",
    "        self.ratings = {}\n",
    "\n",
    "        for i in range(len(foods)):\n",
    "            self.cuisines_food[cuisines[i]].add((-ratings[i], foods[i]))\n",
    "            self.cuisines[foods[i]] = cuisines[i]\n",
    "            self.ratings[foods[i]] = ratings[i]\n",
    "        \n",
    "\n",
    "    def changeRating(self, food: str, newRating: int) -> None:\n",
    "        tmp = self.cuisines[food]\n",
    "        tmpRating = self.ratings[food]\n",
    "\n",
    "        self.cuisines_food[tmp].remove((-tmpRating,food))\n",
    "        self.cuisines_food[tmp].add((-newRating, food))\n",
    "        self.ratings[food] = newRating\n",
    "\n",
    "\n",
    "    def highestRated(self, cuisine: str) -> str:\n",
    "        return self.cuisines_food[cuisine][0][1]"
   ]
  },
  {
   "cell_type": "code",
   "execution_count": 40,
   "id": "d4f997a2-dede-4f1a-883b-bd41f877d6e2",
   "metadata": {},
   "outputs": [
    {
     "name": "stdout",
     "output_type": "stream",
     "text": [
      "Collecting sortedcontainers\n",
      "  Downloading sortedcontainers-2.4.0-py2.py3-none-any.whl (29 kB)\n",
      "Installing collected packages: sortedcontainers\n",
      "Successfully installed sortedcontainers-2.4.0\n"
     ]
    }
   ],
   "source": []
  },
  {
   "cell_type": "code",
   "execution_count": 36,
   "id": "ef3986d4-f3a6-4330-ab86-b83a061750bf",
   "metadata": {},
   "outputs": [
    {
     "ename": "TypeError",
     "evalue": "'str' object does not support item assignment",
     "output_type": "error",
     "traceback": [
      "\u001b[0;31m---------------------------------------------------------------------------\u001b[0m",
      "\u001b[0;31mTypeError\u001b[0m                                 Traceback (most recent call last)",
      "Cell \u001b[0;32mIn[36], line 7\u001b[0m\n\u001b[1;32m      5\u001b[0m \u001b[38;5;28;01mfor\u001b[39;00m food, cuisine, rating \u001b[38;5;129;01min\u001b[39;00m \u001b[38;5;28mzip\u001b[39m(foods, cuisines, ratings):\n\u001b[1;32m      6\u001b[0m     cuisineDict[cuisine] \u001b[38;5;241m=\u001b[39m \u001b[38;5;28mstr\u001b[39m(rating)\n\u001b[0;32m----> 7\u001b[0m     \u001b[43mcuisineDict\u001b[49m\u001b[43m[\u001b[49m\u001b[43mcuisine\u001b[49m\u001b[43m]\u001b[49m\u001b[43m[\u001b[49m\u001b[43mrating\u001b[49m\u001b[43m]\u001b[49m \u001b[38;5;241m=\u001b[39m food\n\u001b[1;32m      9\u001b[0m cuisineDict\n",
      "\u001b[0;31mTypeError\u001b[0m: 'str' object does not support item assignment"
     ]
    }
   ],
   "source": []
  },
  {
   "cell_type": "code",
   "execution_count": 13,
   "id": "efe1dd9f-57c5-4698-8bd3-ba05da944c4b",
   "metadata": {},
   "outputs": [
    {
     "data": {
      "text/plain": [
       "'korean'"
      ]
     },
     "execution_count": 13,
     "metadata": {},
     "output_type": "execute_result"
    }
   ],
   "source": [
    "foodDict['kimchi']"
   ]
  },
  {
   "cell_type": "code",
   "execution_count": null,
   "id": "5872c0c6-1703-461e-90b9-8971aecc7108",
   "metadata": {},
   "outputs": [],
   "source": []
  }
 ],
 "metadata": {
  "kernelspec": {
   "display_name": "Python 3 (ipykernel)",
   "language": "python",
   "name": "python3"
  },
  "language_info": {
   "codemirror_mode": {
    "name": "ipython",
    "version": 3
   },
   "file_extension": ".py",
   "mimetype": "text/x-python",
   "name": "python",
   "nbconvert_exporter": "python",
   "pygments_lexer": "ipython3",
   "version": "3.11.6"
  }
 },
 "nbformat": 4,
 "nbformat_minor": 5
}
