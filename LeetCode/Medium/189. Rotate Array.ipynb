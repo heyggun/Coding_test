{
 "cells": [
  {
   "cell_type": "markdown",
   "id": "cdbb70ee",
   "metadata": {},
   "source": [
    "### 189. Rotate Array\n",
    "\n",
    "https://leetcode.com/problems/rotate-array/?envType=study-plan&id=algorithm-i\n",
    "\n",
    "\n",
    "\n",
    "**Description**\n",
    "\n",
    "    Given an integer array nums, rotate the array to the right by k steps, where k is non-negative.\n",
    "\n",
    "**Example**\n",
    "\n",
    "    Input: nums = [1,2,3,4,5,6,7], k = 3\n",
    "    Output: [5,6,7,1,2,3,4]\n",
    "    Explanation:\n",
    "    rotate 1 steps to the right: [7,1,2,3,4,5,6]\n",
    "    rotate 2 steps to the right: [6,7,1,2,3,4,5]\n",
    "    rotate 3 steps to the right: [5,6,7,1,2,3,4]\n",
    "    \n",
    "    Input: nums = [-1,-100,3,99], k = 2\n",
    "    Output: [3,99,-1,-100]\n",
    "    Explanation: \n",
    "    rotate 1 steps to the right: [99,-1,-100,3]\n",
    "    rotate 2 steps to the right: [3,99,-1,-100]\n",
    "     \n",
    "\n",
    "**Constraints**\n",
    "\n",
    "    1 <= nums.length <= 10^5\n",
    "    -2^31 <= nums[i] <= 2^31 - 1\n",
    "    0 <= k <= 10^5"
   ]
  },
  {
   "cell_type": "code",
   "execution_count": 4,
   "id": "533637fd",
   "metadata": {},
   "outputs": [],
   "source": [
    "class Solution:\n",
    "    def rotate(self, nums, k):\n",
    "        \"\"\"\n",
    "        Do not return anything, modify nums in-place instead.\n",
    "        \"\"\"\n",
    "        for _ in range(k):\n",
    "            nums.insert(0, nums.pop())\n",
    "            \n",
    "        return nums"
   ]
  },
  {
   "cell_type": "code",
   "execution_count": 5,
   "id": "e2754c47",
   "metadata": {},
   "outputs": [
    {
     "name": "stdout",
     "output_type": "stream",
     "text": [
      "[5, 6, 7, 1, 2, 3, 4]\n",
      "[3, 99, -1, -100]\n"
     ]
    }
   ],
   "source": [
    "sol = Solution()\n",
    "print(sol.rotate([1,2,3,4,5,6,7],3))\n",
    "print(sol.rotate([-1,-100,3,99],2))"
   ]
  },
  {
   "cell_type": "code",
   "execution_count": 8,
   "id": "76c64ec1",
   "metadata": {},
   "outputs": [],
   "source": [
    "class Solution:\n",
    "    def rotate(self, nums, k):\n",
    "        \"\"\"\n",
    "        Do not return anything, modify nums in-place instead.\n",
    "        \"\"\"\n",
    "        l = len(nums)\n",
    "        k = k%l\n",
    "        \n",
    "        nums[:l-k] = nums[:l-k][::-1]\n",
    "        nums[l-k:] = nums[l-k:][::-1]\n",
    "        nums[:] = nums[::-1]\n",
    "            \n",
    "        return nums"
   ]
  },
  {
   "cell_type": "code",
   "execution_count": 9,
   "id": "506592d8",
   "metadata": {},
   "outputs": [
    {
     "name": "stdout",
     "output_type": "stream",
     "text": [
      "[5, 6, 7, 1, 2, 3, 4]\n",
      "[3, 99, -1, -100]\n"
     ]
    }
   ],
   "source": [
    "sol = Solution()\n",
    "print(sol.rotate([1,2,3,4,5,6,7],3))\n",
    "print(sol.rotate([-1,-100,3,99],2))"
   ]
  },
  {
   "cell_type": "code",
   "execution_count": null,
   "id": "1926b0c9",
   "metadata": {},
   "outputs": [],
   "source": []
  }
 ],
 "metadata": {
  "kernelspec": {
   "display_name": "Python 3 (ipykernel)",
   "language": "python",
   "name": "python3"
  },
  "language_info": {
   "codemirror_mode": {
    "name": "ipython",
    "version": 3
   },
   "file_extension": ".py",
   "mimetype": "text/x-python",
   "name": "python",
   "nbconvert_exporter": "python",
   "pygments_lexer": "ipython3",
   "version": "3.9.12"
  }
 },
 "nbformat": 4,
 "nbformat_minor": 5
}
