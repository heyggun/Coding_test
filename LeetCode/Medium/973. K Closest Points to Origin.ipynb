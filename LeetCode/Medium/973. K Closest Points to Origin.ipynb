{
 "cells": [
  {
   "attachments": {
    "image.png": {
     "image/png": "[encoded data removed]"
    }
   },
   "cell_type": "markdown",
   "id": "a0cd9658",
   "metadata": {},
   "source": [
    "# Leetcode\n",
    "\n",
    "973. K Closest Points to Origin\n",
    "\n",
    "https://leetcode.com/problems/k-closest-points-to-origin/\n",
    "\n",
    "**Description**\n",
    "\n",
    "    Given an array of points where points[i] = [xi, yi] represents a point on the X-Y plane and an integer k, return the k closest points to the origin (0, 0).\n",
    "\n",
    "    The distance between two points on the X-Y plane is the Euclidean distance (i.e., √(x1 - x2)2 + (y1 - y2)2).\n",
    "\n",
    "    You may return the answer in any order. The answer is guaranteed to be unique (except for the order that it is in).\n",
    "\n",
    "\n",
    "**Examples**\n",
    "\n",
    "\n",
    "    Example 1:\n",
    "\n",
    "![image.png](attachment:image.png)\n",
    "\n",
    "\n",
    "    Input: points = [[1,3],[-2,2]], k = 1\n",
    "    Output: [[-2,2]]\n",
    "    Explanation:\n",
    "    The distance between (1, 3) and the origin is sqrt(10).\n",
    "    The distance between (-2, 2) and the origin is sqrt(8).\n",
    "    Since sqrt(8) < sqrt(10), (-2, 2) is closer to the origin.\n",
    "    We only want the closest k = 1 points from the origin, so the answer is just [[-2,2]].\n",
    "    Example 2:\n",
    "\n",
    "    Input: points = [[3,3],[5,-1],[-2,4]], k = 2\n",
    "    Output: [[3,3],[-2,4]]\n",
    "    Explanation: The answer [[-2,4],[3,3]] would also be accepted.\n",
    "\n",
    "\n",
    "**Constraints**\n",
    "\n",
    "    1 <= k <= points.length <= 10^4\n",
    "    -10^4 <= xi, yi <= 10^4\n"
   ]
  },
  {
   "cell_type": "code",
   "execution_count": 7,
   "id": "8f2b29b5",
   "metadata": {},
   "outputs": [],
   "source": [
    "import heapq\n",
    "\n",
    "class Solution:\n",
    "    def kClosest(self, points:list[list[int]], k:int) -> list[list[int]]:\n",
    "        minHeap = []\n",
    "        for x, y in points:\n",
    "            dist = (x**2) + (y**2)\n",
    "            minHeap.append([dist, x, y])\n",
    "        heapq.heapify(minHeap)\n",
    "        \n",
    "        ans = []\n",
    "        while k>0:\n",
    "            dist, x, y = heapq.heappop(minHeap)\n",
    "            ans.append([x,y])\n",
    "            k-=1\n",
    "            \n",
    "        return ans"
   ]
  },
  {
   "cell_type": "code",
   "execution_count": 8,
   "id": "fb6ce56a",
   "metadata": {},
   "outputs": [
    {
     "name": "stdout",
     "output_type": "stream",
     "text": [
      "[[-2, 2]]\n",
      "[[3, 3], [-2, 4]]\n"
     ]
    }
   ],
   "source": [
    "sol = Solution()\n",
    "print(sol.kClosest(points = [[1,3],[-2,2]], k = 1))\n",
    "print(sol.kClosest(points = [[3,3],[5,-1],[-2,4]], k = 2))"
   ]
  },
  {
   "cell_type": "code",
   "execution_count": null,
   "id": "11029b6d",
   "metadata": {},
   "outputs": [],
   "source": []
  },
  {
   "cell_type": "code",
   "execution_count": null,
   "id": "b5e12559",
   "metadata": {},
   "outputs": [],
   "source": []
  },
  {
   "cell_type": "code",
   "execution_count": null,
   "id": "8aefabfa",
   "metadata": {},
   "outputs": [],
   "source": []
  },
  {
   "cell_type": "code",
   "execution_count": null,
   "id": "63185cb5",
   "metadata": {},
   "outputs": [],
   "source": []
  }
 ],
 "metadata": {
  "kernelspec": {
   "display_name": "Python 3 (ipykernel)",
   "language": "python",
   "name": "python3"
  },
  "language_info": {
   "codemirror_mode": {
    "name": "ipython",
    "version": 3
   },
   "file_extension": ".py",
   "mimetype": "text/x-python",
   "name": "python",
   "nbconvert_exporter": "python",
   "pygments_lexer": "ipython3",
   "version": "3.9.12"
  }
 },
 "nbformat": 4,
 "nbformat_minor": 5
}
