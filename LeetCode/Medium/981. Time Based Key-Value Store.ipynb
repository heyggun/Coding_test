{
 "cells": [
  {
   "cell_type": "markdown",
   "id": "0c6e400e",
   "metadata": {},
   "source": [
    "# LeetCode\n",
    "\n",
    "981. Time Based Key-Value Store\n",
    "\n",
    "https://leetcode.com/problems/time-based-key-value-store/description/\n",
    "\n",
    "**Description**\n",
    "\n",
    "    Design a time-based key-value data structure that can store multiple values for the same key at different time stamps and retrieve the key's value at a certain timestamp.\n",
    "\n",
    "    Implement the TimeMap class:\n",
    "\n",
    "    TimeMap() Initializes the object of the data structure.\n",
    "    void set(String key, String value, int timestamp) Stores the key key with the value value at the given time timestamp.\n",
    "    String get(String key, int timestamp) Returns a value such that set was called previously, with timestamp_prev <= timestamp. If there are multiple such values, it returns the value associated with the largest timestamp_prev. If there are no values, it returns \"\".\n",
    "\n",
    "\n",
    "**Examples**\n",
    "\n",
    "    Example 1:\n",
    "\n",
    "    Input\n",
    "    [\"TimeMap\", \"set\", \"get\", \"get\", \"set\", \"get\", \"get\"]\n",
    "    [[], [\"foo\", \"bar\", 1], [\"foo\", 1], [\"foo\", 3], [\"foo\", \"bar2\", 4], [\"foo\", 4], [\"foo\", 5]]\n",
    "    Output\n",
    "    [null, null, \"bar\", \"bar\", null, \"bar2\", \"bar2\"]\n",
    "\n",
    "    Explanation\n",
    "    TimeMap timeMap = new TimeMap();\n",
    "    timeMap.set(\"foo\", \"bar\", 1);  // store the key \"foo\" and value \"bar\" along with timestamp = 1.\n",
    "    timeMap.get(\"foo\", 1);         // return \"bar\"\n",
    "    timeMap.get(\"foo\", 3);         // return \"bar\", since there is no value corresponding to foo at timestamp 3 and timestamp 2, then the only value is at timestamp 1 is \"bar\".\n",
    "    timeMap.set(\"foo\", \"bar2\", 4); // store the key \"foo\" and value \"bar2\" along with timestamp = 4.\n",
    "    timeMap.get(\"foo\", 4);         // return \"bar2\"\n",
    "    timeMap.get(\"foo\", 5);         // return \"bar2\"\n",
    "\n",
    "\n",
    "**Constraints**\n",
    "\n",
    "    1 <= key.length, value.length <= 100\n",
    "    key and value consist of lowercase English letters and digits.\n",
    "    1 <= timestamp <= 10^7\n",
    "    All the timestamps timestamp of set are strictly increasing.\n",
    "    At most 2 * 10^5 calls will be made to set and get."
   ]
  },
  {
   "cell_type": "code",
   "execution_count": 12,
   "id": "2c94b0a7",
   "metadata": {},
   "outputs": [],
   "source": [
    "class TimeMap:\n",
    "\n",
    "    def __init__(self):\n",
    "        self.store = {}\n",
    "        \n",
    "    def Set(self, key: str, value: str, timestamp: int) -> None:\n",
    "        if key not in self.store:\n",
    "            self.store[key] = []\n",
    "        self.store[key].append([value, timestamp])\n",
    "\n",
    "    def Get(self, key: str, timestamp: int) -> str:\n",
    "        ans = ''\n",
    "        values = self.store.get(key, [])\n",
    "        \n",
    "        left, right = 0, len(values)-1\n",
    "        while left <= right:\n",
    "            mid = (left+right)//2\n",
    "            if values[mid][1] <= timestamp:\n",
    "                ans = values[mid][0]\n",
    "                left = mid+1\n",
    "            else:\n",
    "                right= mid-1\n",
    " \n",
    "        return ans\n"
   ]
  },
  {
   "cell_type": "code",
   "execution_count": 15,
   "id": "451cf974",
   "metadata": {},
   "outputs": [
    {
     "name": "stdout",
     "output_type": "stream",
     "text": [
      "None\n",
      "bar\n",
      "bar\n",
      "None\n",
      "bar2\n",
      "bar2\n"
     ]
    }
   ],
   "source": [
    "obj = TimeMap()\n",
    "print(obj.Set(\"foo\", \"bar\", 1))\n",
    "print(obj.Get(\"foo\",1))\n",
    "print(obj.Get(\"foo\",3))\n",
    "print(obj.Set(\"foo\", \"bar2\", 4))\n",
    "print(obj.Get(\"foo\",4))\n",
    "print(obj.Get(\"foo\",5))"
   ]
  },
  {
   "cell_type": "code",
   "execution_count": 16,
   "id": "0ea2ad2c",
   "metadata": {},
   "outputs": [],
   "source": [
    "store = {}"
   ]
  },
  {
   "cell_type": "code",
   "execution_count": 18,
   "id": "db393424",
   "metadata": {},
   "outputs": [],
   "source": [
    "if 'foo' not in store:\n",
    "    store['foo'] = []\n",
    "store['foo'].append(['bar',1])"
   ]
  },
  {
   "cell_type": "code",
   "execution_count": 19,
   "id": "73335814",
   "metadata": {},
   "outputs": [
    {
     "data": {
      "text/plain": [
       "{'foo': [['bar', 1]]}"
      ]
     },
     "execution_count": 19,
     "metadata": {},
     "output_type": "execute_result"
    }
   ],
   "source": [
    "store"
   ]
  },
  {
   "cell_type": "code",
   "execution_count": 24,
   "id": "8e8212c4",
   "metadata": {},
   "outputs": [
    {
     "name": "stdout",
     "output_type": "stream",
     "text": [
      "[['bar', 1]]\n"
     ]
    }
   ],
   "source": [
    "ans = ''\n",
    "values = store.get('foo', [])  # dictionary.get(key, default=None)\n",
    "print(values)"
   ]
  },
  {
   "cell_type": "code",
   "execution_count": 27,
   "id": "446dca16",
   "metadata": {},
   "outputs": [
    {
     "name": "stdout",
     "output_type": "stream",
     "text": [
      " left, right -> (0, 0)\n",
      " mid -> 0\n"
     ]
    },
    {
     "data": {
      "text/plain": [
       "'bar'"
      ]
     },
     "execution_count": 27,
     "metadata": {},
     "output_type": "execute_result"
    }
   ],
   "source": [
    "left, right = 0, len(values)-1\n",
    "print(f\" left, right -> {left, right}\")\n",
    "timestamp=1\n",
    "\n",
    "while left<=right:\n",
    "    mid = (left+right)//2\n",
    "    print(f\" mid -> {mid}\")\n",
    "    if values[mid][1] <= timestamp:\n",
    "        ans = values[mid][0]\n",
    "        left = mid+1\n",
    "    else:\n",
    "        right = mid-1\n",
    "        \n",
    "ans"
   ]
  },
  {
   "cell_type": "code",
   "execution_count": 28,
   "id": "94c0e57e",
   "metadata": {},
   "outputs": [
    {
     "name": "stdout",
     "output_type": "stream",
     "text": [
      "[['bar', 1]]\n",
      " left, right -> (0, 0)\n",
      " mid -> 0\n"
     ]
    },
    {
     "data": {
      "text/plain": [
       "'bar'"
      ]
     },
     "execution_count": 28,
     "metadata": {},
     "output_type": "execute_result"
    }
   ],
   "source": [
    "values = store.get('foo', [])  # dictionary.get(key, default=None)\n",
    "print(values)\n",
    "\n",
    "left, right = 0, len(values)-1\n",
    "print(f\" left, right -> {left, right}\")\n",
    "timestamp=3\n",
    "\n",
    "while left<=right:\n",
    "    mid = (left+right)//2\n",
    "    print(f\" mid -> {mid}\")\n",
    "    if values[mid][1] <= timestamp:\n",
    "        ans = values[mid][0]\n",
    "        left = mid+1\n",
    "    else:\n",
    "        right = mid-1\n",
    "        \n",
    "ans"
   ]
  },
  {
   "cell_type": "code",
   "execution_count": 29,
   "id": "36af7716",
   "metadata": {},
   "outputs": [
    {
     "data": {
      "text/plain": [
       "{'foo': [['bar', 1], ['bar2', 4]]}"
      ]
     },
     "execution_count": 29,
     "metadata": {},
     "output_type": "execute_result"
    }
   ],
   "source": [
    "if 'foo' not in store:\n",
    "    store['foo'] = []\n",
    "store['foo'].append(['bar2',4])\n",
    "store"
   ]
  },
  {
   "cell_type": "code",
   "execution_count": 30,
   "id": "bcaba5b4",
   "metadata": {},
   "outputs": [
    {
     "name": "stdout",
     "output_type": "stream",
     "text": [
      "[['bar', 1], ['bar2', 4]]\n",
      " left, right -> (0, 1)\n",
      " mid -> 0\n",
      " mid -> 1\n"
     ]
    },
    {
     "data": {
      "text/plain": [
       "'bar2'"
      ]
     },
     "execution_count": 30,
     "metadata": {},
     "output_type": "execute_result"
    }
   ],
   "source": [
    "values = store.get('foo', [])  # dictionary.get(key, default=None)\n",
    "print(values)\n",
    "\n",
    "left, right = 0, len(values)-1\n",
    "print(f\" left, right -> {left, right}\")\n",
    "timestamp=4\n",
    "\n",
    "while left<=right:\n",
    "    mid = (left+right)//2\n",
    "    print(f\" mid -> {mid}\")\n",
    "    if values[mid][1] <= timestamp:\n",
    "        ans = values[mid][0]\n",
    "        left = mid+1\n",
    "    else:\n",
    "        right = mid-1\n",
    "        \n",
    "ans"
   ]
  },
  {
   "cell_type": "code",
   "execution_count": 31,
   "id": "eeb9205d",
   "metadata": {},
   "outputs": [
    {
     "name": "stdout",
     "output_type": "stream",
     "text": [
      "[['bar', 1], ['bar2', 4]]\n",
      " left, right -> (0, 1)\n",
      " mid -> 0\n",
      " mid -> 1\n"
     ]
    },
    {
     "data": {
      "text/plain": [
       "'bar2'"
      ]
     },
     "execution_count": 31,
     "metadata": {},
     "output_type": "execute_result"
    }
   ],
   "source": [
    "values = store.get('foo', [])  # dictionary.get(key, default=None)\n",
    "print(values)\n",
    "\n",
    "left, right = 0, len(values)-1\n",
    "print(f\" left, right -> {left, right}\")\n",
    "timestamp=5\n",
    "\n",
    "while left<=right:\n",
    "    mid = (left+right)//2\n",
    "    print(f\" mid -> {mid}\")\n",
    "    if values[mid][1] <= timestamp:\n",
    "        ans = values[mid][0]\n",
    "        left = mid+1\n",
    "    else:\n",
    "        right = mid-1\n",
    "        \n",
    "ans"
   ]
  },
  {
   "cell_type": "code",
   "execution_count": null,
   "id": "635c1a31",
   "metadata": {},
   "outputs": [],
   "source": []
  }
 ],
 "metadata": {
  "kernelspec": {
   "display_name": "Python 3 (ipykernel)",
   "language": "python",
   "name": "python3"
  },
  "language_info": {
   "codemirror_mode": {
    "name": "ipython",
    "version": 3
   },
   "file_extension": ".py",
   "mimetype": "text/x-python",
   "name": "python",
   "nbconvert_exporter": "python",
   "pygments_lexer": "ipython3",
   "version": "3.9.12"
  }
 },
 "nbformat": 4,
 "nbformat_minor": 5
}
