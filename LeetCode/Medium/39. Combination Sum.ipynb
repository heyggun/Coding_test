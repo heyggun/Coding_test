{
 "cells": [
  {
   "cell_type": "markdown",
   "id": "5877eb8f",
   "metadata": {},
   "source": [
    "# Leetcode \n",
    "\n",
    "39. Combination Sum\n",
    "\n",
    "https://leetcode.com/problems/combination-sum/\n",
    "\n",
    "**Description**\n",
    "\n",
    "    Given an array of distinct integers candidates and a target integer target, return a list of all unique combinations of candidates where the chosen numbers sum to target. You may return the combinations in any order.\n",
    "\n",
    "    The same number may be chosen from candidates an unlimited number of times. Two combinations are unique if the \n",
    "    frequency\n",
    "     of at least one of the chosen numbers is different.\n",
    "\n",
    "    The test cases are generated such that the number of unique combinations that sum up to target is less than 150 combinations for the given input.\n",
    "\n",
    "\n",
    "**Examples**\n",
    "\n",
    "    Example 1:\n",
    "    Input: candidates = [2,3,6,7], target = 7\n",
    "    Output: [[2,2,3],[7]]\n",
    "    Explanation:\n",
    "    2 and 3 are candidates, and 2 + 2 + 3 = 7. Note that 2 can be used multiple times.\n",
    "    7 is a candidate, and 7 = 7.\n",
    "    These are the only two combinations.\n",
    "    \n",
    "    Example 2:\n",
    "    Input: candidates = [2,3,5], target = 8\n",
    "    Output: [[2,2,2,2],[2,3,3],[3,5]]\n",
    "    \n",
    "    Example 3:\n",
    "    Input: candidates = [2], target = 1\n",
    "    Output: []\n",
    "\n",
    "\n",
    "**Constraints**\n",
    "\n",
    "    1 <= candidates.length <= 30\n",
    "    2 <= candidates[i] <= 40\n",
    "    All elements of candidates are distinct.\n",
    "    1 <= target <= 40\n",
    "\n"
   ]
  },
  {
   "cell_type": "code",
   "execution_count": 4,
   "id": "3411f8f8",
   "metadata": {},
   "outputs": [],
   "source": [
    "class Solution:\n",
    "    def combinationSum(self, candidates, target: int):\n",
    "        ans = []\n",
    "        \n",
    "        def dfs(i, cur, total):\n",
    "            if total == target:\n",
    "                ans.append(cur.copy())\n",
    "                return\n",
    "            \n",
    "            if i >= len(candidates) or total > target:\n",
    "                return \n",
    "            \n",
    "            cur.append(candidates[i])\n",
    "            dfs(i, cur, total+candidates[i])\n",
    "            cur.pop()\n",
    "            dfs(i+1, cur, total)\n",
    "            \n",
    "        dfs(0, [], 0)\n",
    "        \n",
    "        return ans\n",
    "    "
   ]
  },
  {
   "cell_type": "code",
   "execution_count": 5,
   "id": "a3081453",
   "metadata": {},
   "outputs": [
    {
     "data": {
      "text/plain": [
       "[[2, 2, 3], [7]]"
      ]
     },
     "execution_count": 5,
     "metadata": {},
     "output_type": "execute_result"
    }
   ],
   "source": [
    "candidates = [2,3,6,7]\n",
    "target = 7\n",
    "\n",
    "sol = Solution()\n",
    "sol.combinationSum(candidates, target)"
   ]
  },
  {
   "cell_type": "code",
   "execution_count": 6,
   "id": "291d34ea",
   "metadata": {},
   "outputs": [
    {
     "data": {
      "text/plain": [
       "[[2, 2, 2, 2], [2, 3, 3], [3, 5]]"
      ]
     },
     "execution_count": 6,
     "metadata": {},
     "output_type": "execute_result"
    }
   ],
   "source": [
    "candidates = [2,3,5]\n",
    "target = 8\n",
    "\n",
    "sol = Solution()\n",
    "sol.combinationSum(candidates, target)"
   ]
  },
  {
   "cell_type": "code",
   "execution_count": null,
   "id": "b6e754c5",
   "metadata": {},
   "outputs": [],
   "source": []
  },
  {
   "cell_type": "code",
   "execution_count": null,
   "id": "a8933f6b",
   "metadata": {},
   "outputs": [],
   "source": []
  },
  {
   "cell_type": "code",
   "execution_count": null,
   "id": "8277b48e",
   "metadata": {},
   "outputs": [],
   "source": []
  },
  {
   "cell_type": "code",
   "execution_count": null,
   "id": "28b75b19",
   "metadata": {},
   "outputs": [],
   "source": []
  },
  {
   "attachments": {
    "image.png": {
     "image/png": "[encoded data removed]"
    }
   },
   "cell_type": "markdown",
   "id": "16a16634",
   "metadata": {},
   "source": [
    "![image.png](attachment:image.png)"
   ]
  },
  {
   "cell_type": "code",
   "execution_count": null,
   "id": "4738b1c9",
   "metadata": {},
   "outputs": [],
   "source": []
  }
 ],
 "metadata": {
  "kernelspec": {
   "display_name": "Python 3 (ipykernel)",
   "language": "python",
   "name": "python3"
  },
  "language_info": {
   "codemirror_mode": {
    "name": "ipython",
    "version": 3
   },
   "file_extension": ".py",
   "mimetype": "text/x-python",
   "name": "python",
   "nbconvert_exporter": "python",
   "pygments_lexer": "ipython3",
   "version": "3.8.5"
  }
 },
 "nbformat": 4,
 "nbformat_minor": 5
}
