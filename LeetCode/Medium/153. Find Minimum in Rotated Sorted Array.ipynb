{
 "cells": [
  {
   "cell_type": "markdown",
   "id": "75c4319d",
   "metadata": {},
   "source": [
    "# LeetCode\n",
    "\n",
    "153. Find Minimum in Rotated Sorted Array\n",
    "\n",
    "\n",
    "https://leetcode.com/problems/find-minimum-in-rotated-sorted-array/\n",
    "\n",
    "**Description**\n",
    "\n",
    "    Suppose an array of length n sorted in ascending order is rotated between 1 and n times. For example, the array nums = [0,1,2,4,5,6,7] might become:\n",
    "\n",
    "    [4,5,6,7,0,1,2] if it was rotated 4 times.\n",
    "    [0,1,2,4,5,6,7] if it was rotated 7 times.\n",
    "    Notice that rotating an array [a[0], a[1], a[2], ..., a[n-1]] 1 time results in the array [a[n-1], a[0], a[1], a[2], ..., a[n-2]].\n",
    "\n",
    "    Given the sorted rotated array nums of unique elements, return the minimum element of this array.\n",
    "\n",
    "    You must write an algorithm that runs in O(log n) time.\n",
    "\n",
    "**Examples**\n",
    "\n",
    "    Example 1:\n",
    "\n",
    "    Input: nums = [3,4,5,1,2]\n",
    "    Output: 1\n",
    "    Explanation: The original array was [1,2,3,4,5] rotated 3 times.\n",
    "    Example 2:\n",
    "\n",
    "    Input: nums = [4,5,6,7,0,1,2]\n",
    "    Output: 0\n",
    "    Explanation: The original array was [0,1,2,4,5,6,7] and it was rotated 4 times.\n",
    "    Example 3:\n",
    "\n",
    "    Input: nums = [11,13,15,17]\n",
    "    Output: 11\n",
    "    Explanation: The original array was [11,13,15,17] and it was rotated 4 times. \n",
    " \n",
    "\n",
    "**Constraints**\n",
    "\n",
    "    n == nums.length\n",
    "    1 <= n <= 5000\n",
    "    -5000 <= nums[i] <= 5000\n",
    "    All the integers of nums are unique.\n",
    "    nums is sorted and rotated between 1 and n times."
   ]
  },
  {
   "cell_type": "code",
   "execution_count": 1,
   "id": "0e7de745",
   "metadata": {},
   "outputs": [],
   "source": [
    "class Solution:\n",
    "    def findMin(self, nums: list[int]) -> int:\n",
    "        ans = nums[0]\n",
    "        left, right = 0, len(nums)-1\n",
    "        \n",
    "        while left <= right:\n",
    "            if nums[left] <= nums[right]:\n",
    "                ans = min(ans, nums[left])\n",
    "                break\n",
    "            mid = (left+right)//2\n",
    "            ans = min(ans, mid)\n",
    "            \n",
    "            if nums[mid]>=left:\n",
    "                left = mid+1\n",
    "                \n",
    "            else:\n",
    "                right = mid-1\n",
    "                \n",
    "        return ans\n",
    "            "
   ]
  },
  {
   "cell_type": "code",
   "execution_count": 2,
   "id": "ccbc008c",
   "metadata": {},
   "outputs": [
    {
     "name": "stdout",
     "output_type": "stream",
     "text": [
      "1\n",
      "0\n",
      "11\n"
     ]
    }
   ],
   "source": [
    "sol = Solution()\n",
    "print(sol.findMin([3,4,5,1,2]))\n",
    "print(sol.findMin([4,5,6,7,0,1,2]))\n",
    "print(sol.findMin([11,13,15,17]))"
   ]
  },
  {
   "cell_type": "code",
   "execution_count": null,
   "id": "6ce1cba3",
   "metadata": {},
   "outputs": [],
   "source": []
  }
 ],
 "metadata": {
  "kernelspec": {
   "display_name": "Python 3 (ipykernel)",
   "language": "python",
   "name": "python3"
  },
  "language_info": {
   "codemirror_mode": {
    "name": "ipython",
    "version": 3
   },
   "file_extension": ".py",
   "mimetype": "text/x-python",
   "name": "python",
   "nbconvert_exporter": "python",
   "pygments_lexer": "ipython3",
   "version": "3.9.12"
  }
 },
 "nbformat": 4,
 "nbformat_minor": 5
}
