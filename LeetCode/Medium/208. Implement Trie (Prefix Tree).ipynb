{
 "cells": [
  {
   "cell_type": "markdown",
   "id": "78ffe007",
   "metadata": {},
   "source": [
    "# LeetCode\n",
    "\n",
    "208. Implement Trie (Prefix Tree)\n",
    "\n",
    "https://leetcode.com/problems/implement-trie-prefix-tree/\n",
    "\n",
    "**Description**\n",
    "\n",
    "    A trie (pronounced as \"try\") or prefix tree is a tree data structure used to efficiently store and retrieve keys in a dataset of strings. There are various applications of this data structure, such as autocomplete and spellchecker.\n",
    "\n",
    "    Implement the Trie class:\n",
    "\n",
    "    Trie() Initializes the trie object.\n",
    "    void insert(String word) Inserts the string word into the trie.\n",
    "    boolean search(String word) Returns true if the string word is in the trie (i.e., was inserted before), and false otherwise.\n",
    "    boolean startsWith(String prefix) Returns true if there is a previously inserted string word that has the prefix prefix, and false otherwise.\n",
    "\n",
    "\n",
    "**Examples**\n",
    "\n",
    "    Example 1:\n",
    "\n",
    "    Input\n",
    "    [\"Trie\", \"insert\", \"search\", \"search\", \"startsWith\", \"insert\", \"search\"]\n",
    "    [[], [\"apple\"], [\"apple\"], [\"app\"], [\"app\"], [\"app\"], [\"app\"]]\n",
    "    Output\n",
    "    [null, null, true, false, true, null, true]\n",
    "\n",
    "    Explanation\n",
    "    Trie trie = new Trie();\n",
    "    trie.insert(\"apple\");\n",
    "    trie.search(\"apple\");   // return True\n",
    "    trie.search(\"app\");     // return False\n",
    "    trie.startsWith(\"app\"); // return True\n",
    "    trie.insert(\"app\");\n",
    "    trie.search(\"app\");     // return True\n",
    " \n",
    "\n",
    "**Constraints**\n",
    "\n",
    "    1 <= word.length, prefix.length <= 2000\n",
    "    word and prefix consist only of lowercase English letters.\n",
    "    At most 3 * 10^4 calls in total will be made to insert, search, and startsWith."
   ]
  },
  {
   "cell_type": "code",
   "execution_count": 1,
   "id": "9453546f",
   "metadata": {},
   "outputs": [],
   "source": [
    "class TrieNode:\n",
    "    def __init__(self):\n",
    "        self.children = {}\n",
    "        self.endOfWord = False\n",
    "\n",
    "class Trie:\n",
    "\n",
    "    def __init__(self):\n",
    "        self.root = TrieNode()\n",
    "\n",
    "    def insert(self, word: str) -> None:\n",
    "        cur = self.root\n",
    "        for w in word:\n",
    "            if w not in cur.children:\n",
    "                cur.children[w] = TrieNode()\n",
    "            cur = cur.children[w]\n",
    "        cur.endOfWord = True\n",
    "\n",
    "    def search(self, word: str) -> bool:\n",
    "        cur = self.root\n",
    "        for w in word:\n",
    "            if w not in cur.children:\n",
    "                return False\n",
    "            cur = cur.children[w]\n",
    "        return cur.endOfWord\n",
    "\n",
    "    def startsWith(self, prefix: str) -> bool:\n",
    "        cur = self.root\n",
    "        for w in prefix:\n",
    "            if w not in cur.children:\n",
    "                return False\n",
    "            cur = cur.children[w]\n",
    "        return True\n"
   ]
  },
  {
   "cell_type": "code",
   "execution_count": 4,
   "id": "c8b30a44",
   "metadata": {},
   "outputs": [
    {
     "name": "stdout",
     "output_type": "stream",
     "text": [
      "None\n",
      "True\n",
      "False\n",
      "True\n",
      "None\n",
      "True\n"
     ]
    }
   ],
   "source": [
    "trie = Trie()\n",
    "print(trie.insert(\"apple\"))\n",
    "print(trie.search(\"apple\")) \n",
    "print(trie.search(\"app\"))\n",
    "print(trie.startsWith(\"app\")) \n",
    "print(trie.insert(\"app\"))\n",
    "print(trie.search(\"app\"))"
   ]
  },
  {
   "attachments": {
    "image.png": {
     "image/png": "[encoded data removed]"
    }
   },
   "cell_type": "markdown",
   "id": "f1bd5b4c",
   "metadata": {},
   "source": [
    "![image.png](attachment:image.png)"
   ]
  },
  {
   "cell_type": "code",
   "execution_count": null,
   "id": "37223aaa",
   "metadata": {},
   "outputs": [],
   "source": []
  }
 ],
 "metadata": {
  "kernelspec": {
   "display_name": "Python 3 (ipykernel)",
   "language": "python",
   "name": "python3"
  },
  "language_info": {
   "codemirror_mode": {
    "name": "ipython",
    "version": 3
   },
   "file_extension": ".py",
   "mimetype": "text/x-python",
   "name": "python",
   "nbconvert_exporter": "python",
   "pygments_lexer": "ipython3",
   "version": "3.9.12"
  }
 },
 "nbformat": 4,
 "nbformat_minor": 5
}
