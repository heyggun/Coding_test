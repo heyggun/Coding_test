{
 "cells": [
  {
   "cell_type": "markdown",
   "id": "d2e892a8",
   "metadata": {},
   "source": [
    "## Leetcode \n",
    "\n",
    "380. Insert Delete GetRandom O(1)\n",
    "\n",
    "https://leetcode.com/problems/insert-delete-getrandom-o1/\n",
    "\n",
    "**Descriptions**\n",
    "\n",
    "    Implement the RandomizedSet class:\n",
    "\n",
    "    RandomizedSet() Initializes the RandomizedSet object.\n",
    "    bool insert(int val) Inserts an item val into the set if not present. Returns true if the item was not present, false otherwise.\n",
    "    bool remove(int val) Removes an item val from the set if present. Returns true if the item was present, false otherwise.\n",
    "    int getRandom() Returns a random element from the current set of elements (it's guaranteed that at least one element exists when this method is called). Each element must have the same probability of being returned.\n",
    "    You must implement the functions of the class such that each function works in average O(1) time complexity.\n",
    "\n",
    "**Examples**\n",
    " \n",
    "\n",
    "    Example 1:\n",
    "    Input\n",
    "    [\"RandomizedSet\", \"insert\", \"remove\", \"insert\", \"getRandom\", \"remove\", \"insert\", \"getRandom\"]\n",
    "    [[], [1], [2], [2], [], [1], [2], []]\n",
    "    Output\n",
    "    [null, true, false, true, 2, true, false, 2]\n",
    "\n",
    "    Explanation\n",
    "    RandomizedSet randomizedSet = new RandomizedSet();\n",
    "    randomizedSet.insert(1); // Inserts 1 to the set. Returns true as 1 was inserted successfully.\n",
    "    randomizedSet.remove(2); // Returns false as 2 does not exist in the set.\n",
    "    randomizedSet.insert(2); // Inserts 2 to the set, returns true. Set now contains [1,2].\n",
    "    randomizedSet.getRandom(); // getRandom() should return either 1 or 2 randomly.\n",
    "    randomizedSet.remove(1); // Removes 1 from the set, returns true. Set now contains [2].\n",
    "    randomizedSet.insert(2); // 2 was already in the set, so return false.\n",
    "    randomizedSet.getRandom(); // Since 2 is the only number in the set, getRandom() will always return 2.\n",
    "\n",
    "\n",
    "**Constraints**\n",
    "\n",
    "    -2^31 <= val <= 2^31 - 1\n",
    "    At most 2 * 10^5 calls will be made to insert, remove, and getRandom.\n",
    "    There will be at least one element in the data structure when getRandom is called."
   ]
  },
  {
   "cell_type": "code",
   "execution_count": 17,
   "id": "f5152bf8",
   "metadata": {},
   "outputs": [],
   "source": [
    "import random\n",
    "\n",
    "class RandomizedSet:\n",
    "    \n",
    "    def __init__(self):\n",
    "        self.numList = []\n",
    "        self.numDict = {}\n",
    "        \n",
    "    def insert(self, val:int) -> bool:\n",
    "        if val in self.numDict:\n",
    "            return False\n",
    "        else:\n",
    "            self.numDict[val] = len(self.numList)\n",
    "            self.numList.append(val)\n",
    "            return True\n",
    "        \n",
    "    def remove(self, val:int) -> bool:\n",
    "        if self.numList and val in self.numDict:\n",
    "            tmp1, tmp2 = val, self.numList[-1]\n",
    "            self.numList[-1],self.numList[self.numDict[val]] = self.numList[self.numDict[val]], self.numList[-1]\n",
    "            self.numList.pop()\n",
    "            self.numDict[tmp2] = self.numDict[tmp1]\n",
    "            del self.numDict[tmp1]\n",
    "            return True\n",
    "\n",
    "        else:\n",
    "            return False\n",
    "    \n",
    "    def getRandom(self) -> int:\n",
    "        return random.choice(self.numList)"
   ]
  },
  {
   "cell_type": "code",
   "execution_count": 18,
   "id": "9c038755",
   "metadata": {},
   "outputs": [
    {
     "name": "stdout",
     "output_type": "stream",
     "text": [
      "True\n",
      "True\n",
      "True\n",
      "2\n",
      "False\n",
      "False\n",
      "2\n"
     ]
    }
   ],
   "source": [
    "RandomizedSet = RandomizedSet()\n",
    "print(RandomizedSet.insert(1))\n",
    "print(RandomizedSet.remove(1))\n",
    "print(RandomizedSet.insert(2))\n",
    "print(RandomizedSet.getRandom())\n",
    "print(RandomizedSet.remove(1))\n",
    "print(RandomizedSet.insert(2))\n",
    "print(RandomizedSet.getRandom())\n",
    "\n"
   ]
  },
  {
   "attachments": {
    "image.png": {
     "image/png": "[encoded data removed]"
    }
   },
   "cell_type": "markdown",
   "id": "66de89ab",
   "metadata": {},
   "source": [
    "![image.png](attachment:image.png)"
   ]
  },
  {
   "cell_type": "code",
   "execution_count": null,
   "id": "e6c4f516",
   "metadata": {},
   "outputs": [],
   "source": []
  }
 ],
 "metadata": {
  "kernelspec": {
   "display_name": "Python 3 (ipykernel)",
   "language": "python",
   "name": "python3"
  },
  "language_info": {
   "codemirror_mode": {
    "name": "ipython",
    "version": 3
   },
   "file_extension": ".py",
   "mimetype": "text/x-python",
   "name": "python",
   "nbconvert_exporter": "python",
   "pygments_lexer": "ipython3",
   "version": "3.9.12"
  }
 },
 "nbformat": 4,
 "nbformat_minor": 5
}
