{
 "cells": [
  {
   "cell_type": "markdown",
   "id": "cb3ef699",
   "metadata": {},
   "source": [
    "# Leetcode\n",
    "\n",
    "322. Coin Change\n",
    "\n",
    "https://leetcode.com/problems/coin-change/\n",
    "\n",
    "**Description**\n",
    "\n",
    "    You are given an integer array coins representing coins of different denominations and an integer amount representing a total amount of money.\n",
    "\n",
    "    Return the fewest number of coins that you need to make up that amount. If that amount of money cannot be made up by any combination of the coins, return -1.\n",
    "\n",
    "    You may assume that you have an infinite number of each kind of coin.\n",
    "\n",
    " \n",
    "**Examples**\n",
    "\n",
    "    Example 1:\n",
    "    Input: coins = [1,2,5], amount = 11\n",
    "    Output: 3\n",
    "    Explanation: 11 = 5 + 5 + 1\n",
    "    \n",
    "    Example 2:\n",
    "    Input: coins = [2], amount = 3\n",
    "    Output: -1\n",
    "    \n",
    "    Example 3:\n",
    "    Input: coins = [1], amount = 0\n",
    "    Output: 0\n",
    " \n",
    "\n",
    "**Constraints**\n",
    "\n",
    "    1 <= coins.length <= 12\n",
    "    1 <= coins[i] <= 231 - 1\n",
    "    0 <= amount <= 104\n"
   ]
  },
  {
   "cell_type": "code",
   "execution_count": 2,
   "id": "589599d8",
   "metadata": {},
   "outputs": [],
   "source": [
    "class Solution:\n",
    "    def coinChange(self, coins: list[int], amount: int) -> int:\n",
    "        dp = [amount+1] * (amount+1)\n",
    "        dp[0] = 0\n",
    "\n",
    "        for a in range(1, amount+1):\n",
    "            for c in coins:\n",
    "                if a - c >= 0 :\n",
    "                    dp[a] = min(dp[a], 1+dp[a-c])\n",
    "                \n",
    "        return dp[amount] if dp[amount] != amount+1 else -1\n",
    "                "
   ]
  },
  {
   "cell_type": "code",
   "execution_count": 3,
   "id": "0cd3f7e7",
   "metadata": {},
   "outputs": [
    {
     "name": "stdout",
     "output_type": "stream",
     "text": [
      "3\n",
      "-1\n",
      "0\n"
     ]
    }
   ],
   "source": [
    "sol = Solution()\n",
    "print(sol.coinChange(coins = [1,2,5], amount = 11))\n",
    "print(sol.coinChange(coins = [2], amount = 3))\n",
    "print(sol.coinChange(coins = [1], amount = 0))"
   ]
  },
  {
   "cell_type": "code",
   "execution_count": null,
   "id": "a6205101",
   "metadata": {},
   "outputs": [],
   "source": []
  }
 ],
 "metadata": {
  "kernelspec": {
   "display_name": "Python 3 (ipykernel)",
   "language": "python",
   "name": "python3"
  },
  "language_info": {
   "codemirror_mode": {
    "name": "ipython",
    "version": 3
   },
   "file_extension": ".py",
   "mimetype": "text/x-python",
   "name": "python",
   "nbconvert_exporter": "python",
   "pygments_lexer": "ipython3",
   "version": "3.9.13"
  }
 },
 "nbformat": 4,
 "nbformat_minor": 5
}
