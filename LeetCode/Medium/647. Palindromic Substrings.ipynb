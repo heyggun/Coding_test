{
 "cells": [
  {
   "cell_type": "markdown",
   "metadata": {},
   "source": [
    "## Leetcode\n",
    "\n",
    "647. Palindromic Substrings\n",
    "\n",
    "https://leetcode.com/problems/palindromic-substrings/description/\n",
    "\n",
    "**Description**\n",
    "\n",
    "    Given a string s, return the number of palindromic substrings in it.\n",
    "\n",
    "    A string is a palindrome when it reads the same backward as forward.\n",
    "\n",
    "    A substring is a contiguous sequence of characters within the string.\n",
    "\n",
    " \n",
    "\n",
    "    Example 1:\n",
    "\n",
    "    Input: s = \"abc\"\n",
    "    Output: 3\n",
    "    Explanation: Three palindromic strings: \"a\", \"b\", \"c\".\n",
    "    Example 2:\n",
    "\n",
    "    Input: s = \"aaa\"\n",
    "    Output: 6\n",
    "    Explanation: Six palindromic strings: \"a\", \"a\", \"a\", \"aa\", \"aa\", \"aaa\".\n",
    "    \n",
    "\n",
    "**Constraints**\n",
    "\n",
    "    1 <= s.length <= 1000\n",
    "    s consists of lowercase English letters.\n",
    "\n"
   ]
  },
  {
   "cell_type": "code",
   "execution_count": 1,
   "metadata": {},
   "outputs": [],
   "source": [
    "class Solution:\n",
    "    def countSubstrings(self, s: str) -> int:\n",
    "        res = 0 \n",
    "        for i in range(len(s)):\n",
    "            res += self.countPali(s, i, i)\n",
    "            res += self.countPali(s,i, i+1)\n",
    "        return res\n",
    "\n",
    "    \n",
    "    def countPali(self, s, l, r):\n",
    "        res = 0\n",
    "        while l>=0 and r<len(s) and s[l] == s[r]:\n",
    "            res +=1\n",
    "            l-=1\n",
    "            r+=1\n",
    "        return res\n"
   ]
  },
  {
   "cell_type": "code",
   "execution_count": 2,
   "metadata": {},
   "outputs": [
    {
     "name": "stdout",
     "output_type": "stream",
     "text": [
      "3\n",
      "6\n"
     ]
    }
   ],
   "source": [
    "sol = Solution()\n",
    "print(sol.countSubstrings(s = \"abc\"))\n",
    "print(sol.countSubstrings(s = \"aaa\"))"
   ]
  },
  {
   "cell_type": "code",
   "execution_count": null,
   "metadata": {},
   "outputs": [],
   "source": []
  }
 ],
 "metadata": {
  "kernelspec": {
   "display_name": ".venv",
   "language": "python",
   "name": "python3"
  },
  "language_info": {
   "codemirror_mode": {
    "name": "ipython",
    "version": 3
   },
   "file_extension": ".py",
   "mimetype": "text/x-python",
   "name": "python",
   "nbconvert_exporter": "python",
   "pygments_lexer": "ipython3",
   "version": "3.10.12"
  }
 },
 "nbformat": 4,
 "nbformat_minor": 2
}
