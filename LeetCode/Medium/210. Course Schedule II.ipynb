{
 "cells": [
  {
   "cell_type": "markdown",
   "id": "eab6efa7",
   "metadata": {},
   "source": [
    "# Leetcode\n",
    "\n",
    "210. Course Schedule II\n",
    "\n",
    "https://leetcode.com/problems/course-schedule-ii/\n",
    "\n",
    "**Description**\n",
    "\n",
    "    There are a total of numCourses courses you have to take, labeled from 0 to numCourses - 1. You are given an array prerequisites where prerequisites[i] = [ai, bi] indicates that you must take course bi first if you want to take course ai.\n",
    "\n",
    "    For example, the pair [0, 1], indicates that to take course 0 you have to first take course 1.\n",
    "    Return the ordering of courses you should take to finish all courses. If there are many valid answers, return any of them. If it is impossible to finish all courses, return an empty array.\n",
    "\n",
    " \n",
    "**Examples**\n",
    "\n",
    "    Example 1:\n",
    "\n",
    "    Input: numCourses = 2, prerequisites = [[1,0]]\n",
    "    Output: [0,1]\n",
    "    Explanation: There are a total of 2 courses to take. To take course 1 you should have finished course 0. So the correct course order is [0,1].\n",
    "    \n",
    "    Example 2:\n",
    "    Input: numCourses = 4, prerequisites = [[1,0],[2,0],[3,1],[3,2]]\n",
    "    Output: [0,2,1,3]\n",
    "    Explanation: There are a total of 4 courses to take. To take course 3 you should have finished both courses 1 and 2. Both courses 1 and 2 should be taken after you finished course 0.\n",
    "    So one correct course order is [0,1,2,3]. Another correct ordering is [0,2,1,3].\n",
    "    \n",
    "    Example 3:\n",
    "    Input: numCourses = 1, prerequisites = []\n",
    "    Output: [0]\n",
    " \n",
    "\n",
    "**Constraints**\n",
    "\n",
    "    1 <= numCourses <= 2000\n",
    "    0 <= prerequisites.length <= numCourses * (numCourses - 1)\n",
    "    prerequisites[i].length == 2\n",
    "    0 <= ai, bi < numCourses\n",
    "    ai != bi\n",
    "    All the pairs [ai, bi] are distinct."
   ]
  },
  {
   "cell_type": "code",
   "execution_count": 2,
   "id": "3f981c0f",
   "metadata": {},
   "outputs": [],
   "source": [
    "class Solution:\n",
    "    def findOrder(self, numCourses: int, prerequisites: list[list[int]]) -> list[int]:\n",
    "        preMap = { c:[] for c in range(numCourses)}\n",
    "        for crs, pre in prerequisites:\n",
    "            preMap[crs].append(pre)\n",
    "\n",
    "        output = []\n",
    "        visited, cycle = set(), set()\n",
    "        def dfs(crs):\n",
    "            if crs in cycle:\n",
    "                return False\n",
    "            if crs in visited:\n",
    "                return True\n",
    "\n",
    "            cycle.add(crs)\n",
    "            for pre in preMap[crs]:\n",
    "                if dfs(pre) == False:\n",
    "                    return False\n",
    "                \n",
    "            cycle.remove(crs)\n",
    "            visited.add(crs)\n",
    "            output.append(crs)\n",
    "            return True\n",
    "\n",
    "        for c in range(numCourses):\n",
    "            if dfs(c) == False:\n",
    "                return []\n",
    "        return output        "
   ]
  },
  {
   "cell_type": "code",
   "execution_count": 3,
   "id": "0e37c0f6",
   "metadata": {},
   "outputs": [
    {
     "data": {
      "text/plain": [
       "[0, 1]"
      ]
     },
     "execution_count": 3,
     "metadata": {},
     "output_type": "execute_result"
    }
   ],
   "source": [
    "sol = Solution()\n",
    "sol.findOrder(numCourses = 2, prerequisites = [[1,0]])"
   ]
  },
  {
   "cell_type": "code",
   "execution_count": 4,
   "id": "76250c60",
   "metadata": {},
   "outputs": [
    {
     "data": {
      "text/plain": [
       "[0, 1, 2, 3]"
      ]
     },
     "execution_count": 4,
     "metadata": {},
     "output_type": "execute_result"
    }
   ],
   "source": [
    "sol.findOrder(numCourses = 4, prerequisites = [[1,0],[2,0],[3,1],[3,2]])"
   ]
  },
  {
   "attachments": {
    "image.png": {
     "image/png": "[encoded data removed]"
    }
   },
   "cell_type": "markdown",
   "id": "14d68d7a",
   "metadata": {},
   "source": [
    "![image.png](attachment:image.png)"
   ]
  },
  {
   "cell_type": "code",
   "execution_count": null,
   "id": "4be6ced9",
   "metadata": {},
   "outputs": [],
   "source": []
  }
 ],
 "metadata": {
  "kernelspec": {
   "display_name": "Python 3 (ipykernel)",
   "language": "python",
   "name": "python3"
  },
  "language_info": {
   "codemirror_mode": {
    "name": "ipython",
    "version": 3
   },
   "file_extension": ".py",
   "mimetype": "text/x-python",
   "name": "python",
   "nbconvert_exporter": "python",
   "pygments_lexer": "ipython3",
   "version": "3.9.12"
  }
 },
 "nbformat": 4,
 "nbformat_minor": 5
}
