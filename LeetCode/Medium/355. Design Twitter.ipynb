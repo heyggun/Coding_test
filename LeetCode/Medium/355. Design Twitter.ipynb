{
 "cells": [
  {
   "cell_type": "markdown",
   "id": "0101be0f",
   "metadata": {},
   "source": [
    "# Leetcode\n",
    "\n",
    "355. Design Twitter\n",
    "\n",
    "https://leetcode.com/problems/design-twitter/\n",
    "\n",
    "**Description**\n",
    "\n",
    "    Design a simplified version of Twitter where users can post tweets, follow/unfollow another user, and is able to see the 10 most recent tweets in the user's news feed.\n",
    "\n",
    "    Implement the Twitter class:\n",
    "\n",
    "    Twitter() Initializes your twitter object.\n",
    "    void postTweet(int userId, int tweetId) Composes a new tweet with ID tweetId by the user userId. Each call to this function will be made with a unique tweetId.\n",
    "    List<Integer> getNewsFeed(int userId) Retrieves the 10 most recent tweet IDs in the user's news feed. Each item in the news feed must be posted by users who the user followed or by the user themself. Tweets must be ordered from most recent to least recent.\n",
    "    void follow(int followerId, int followeeId) The user with ID followerId started following the user with ID followeeId.\n",
    "    void unfollow(int followerId, int followeeId) The user with ID followerId started unfollowing the user with ID followeeId.\n",
    "\n",
    "**Examples**\n",
    "\n",
    "    Example 1:\n",
    "\n",
    "    Input\n",
    "    [\"Twitter\", \"postTweet\", \"getNewsFeed\", \"follow\", \"postTweet\", \"getNewsFeed\", \"unfollow\", \"getNewsFeed\"]\n",
    "    [[], [1, 5], [1], [1, 2], [2, 6], [1], [1, 2], [1]]\n",
    "    Output\n",
    "    [null, null, [5], null, null, [6, 5], null, [5]]\n",
    "\n",
    "    Explanation\n",
    "    Twitter twitter = new Twitter();\n",
    "    twitter.postTweet(1, 5); // User 1 posts a new tweet (id = 5).\n",
    "    twitter.getNewsFeed(1);  // User 1's news feed should return a list with 1 tweet id -> [5]. return [5]\n",
    "    twitter.follow(1, 2);    // User 1 follows user 2.\n",
    "    twitter.postTweet(2, 6); // User 2 posts a new tweet (id = 6).\n",
    "    twitter.getNewsFeed(1);  // User 1's news feed should return a list with 2 tweet ids -> [6, 5]. Tweet id 6 should precede tweet id 5 because it is posted after tweet id 5.\n",
    "    twitter.unfollow(1, 2);  // User 1 unfollows user 2.\n",
    "    twitter.getNewsFeed(1);  // User 1's news feed should return a list with 1 tweet id -> [5], since user 1 is no longer following user 2.\n",
    " \n",
    "\n",
    "**Constraints**\n",
    "\n",
    "    1 <= userId, followerId, followeeId <= 500\n",
    "    0 <= tweetId <= 10^4\n",
    "    All the tweets have unique IDs.\n",
    "    At most 3 * 10^4 calls will be made to postTweet, getNewsFeed, follow, and unfollow."
   ]
  },
  {
   "cell_type": "code",
   "execution_count": 10,
   "id": "8eea0574",
   "metadata": {},
   "outputs": [],
   "source": [
    "from collections import defaultdict\n",
    "import heapq\n",
    "\n",
    "class Twitter:\n",
    "\n",
    "    def __init__(self):\n",
    "        self.count = 0\n",
    "        self.followMap = defaultdict(set)\n",
    "        self.tweetMap = defaultdict(list)\n",
    "\n",
    "    def postTweet(self, userId: int, tweetId: int) -> None:\n",
    "        self.tweetMap[userId].append([self.count, tweetId])\n",
    "        self.count-=1\n",
    "\n",
    "    def getNewsFeed(self, userId: int) -> list[int]:\n",
    "        ans = []\n",
    "        minHeap = []\n",
    "        self.followMap[userId].add(userId)\n",
    "        for followeeId in self.followMap[userId]:\n",
    "            if followeeId in self.tweetMap:\n",
    "                index= len(self.tweetMap[followeeId])-1\n",
    "                count, tweetId = self.tweetMap[followeeId][index]\n",
    "                heapq.heappush(minHeap, [count, tweetId, followeeId, index-1])\n",
    "                \n",
    "        while minHeap and len(ans)<10:\n",
    "            count, tweetId, followeeId, index = heapq.heappop(minHeap)\n",
    "            ans.append(tweetId)\n",
    "            if index>=0:\n",
    "                count, tweetId = self.tweetMap[followeeId]\n",
    "                heapq.heappush(minHeap, [count, tweetId, followeeId, index-1])        \n",
    "        return ans\n",
    "\n",
    "    def follow(self, followerId: int, followeeId: int) -> None:\n",
    "        self.followMap[followerId].add(followeeId)\n",
    "\n",
    "    def unfollow(self, followerId: int, followeeId: int) -> None:\n",
    "        if followeeId in self.followMap[followerId]:\n",
    "            self.followMap[followerId].remove(followeeId)\n",
    "        \n"
   ]
  },
  {
   "cell_type": "code",
   "execution_count": 11,
   "id": "b6fb5f65",
   "metadata": {},
   "outputs": [
    {
     "name": "stdout",
     "output_type": "stream",
     "text": [
      "None\n",
      "[5]\n",
      "None\n",
      "None\n",
      "[6, 5]\n",
      "None\n",
      "[5]\n"
     ]
    }
   ],
   "source": [
    "twitter =Twitter()\n",
    "print(twitter.postTweet(1, 5))\n",
    "print(twitter.getNewsFeed(1))\n",
    "print(twitter.follow(1, 2))\n",
    "print(twitter.postTweet(2, 6))\n",
    "print(twitter.getNewsFeed(1))\n",
    "print(twitter.unfollow(1, 2))\n",
    "print(twitter.getNewsFeed(1))"
   ]
  },
  {
   "attachments": {
    "image.png": {
     "image/png": "[encoded data removed]"
    }
   },
   "cell_type": "markdown",
   "id": "639c54e2",
   "metadata": {},
   "source": [
    "![image.png](attachment:image.png)"
   ]
  },
  {
   "cell_type": "code",
   "execution_count": null,
   "id": "f3c38646",
   "metadata": {},
   "outputs": [],
   "source": []
  }
 ],
 "metadata": {
  "kernelspec": {
   "display_name": "Python 3 (ipykernel)",
   "language": "python",
   "name": "python3"
  },
  "language_info": {
   "codemirror_mode": {
    "name": "ipython",
    "version": 3
   },
   "file_extension": ".py",
   "mimetype": "text/x-python",
   "name": "python",
   "nbconvert_exporter": "python",
   "pygments_lexer": "ipython3",
   "version": "3.9.12"
  }
 },
 "nbformat": 4,
 "nbformat_minor": 5
}
