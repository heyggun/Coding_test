{
 "cells": [
  {
   "cell_type": "markdown",
   "id": "e359b968",
   "metadata": {},
   "source": [
    "# LV 0. \n",
    "\n",
    "나이 출력\n",
    "\n",
    "https://school.programmers.co.kr/learn/courses/30/lessons/120820\n"
   ]
  },
  {
   "attachments": {
    "image.png": {
     "image/png": "[encoded data removed]"
    }
   },
   "cell_type": "markdown",
   "id": "f95b1833",
   "metadata": {},
   "source": [
    "**문제 설명**\n",
    "\n",
    "    머쓱이는 40살인 선생님이 몇 년도에 태어났는지 궁금해졌습니다. 나이 age가 주어질 때, 2022년을 기준 출생 연도를 return 하는 solution 함수를 완성해주세요.\n",
    "\n",
    "**제한 사항**\n",
    "\n",
    "    0 < age ≤ 120\n",
    "    나이는 태어난 연도에 1살이며 1년마다 1씩 증가합니다.\n",
    "    \n",
    "**입출력 예**\n",
    "\n",
    "![image.png](attachment:image.png)\n",
    "\n",
    "**입출력 예 설명**\n",
    "\n",
    "    입출력 예 #1\n",
    "    2022년 기준 40살이므로 1983년생입니다.\n",
    "    \n",
    "    입출력 예 #2\n",
    "    2022년 기준 23살이므로 2000년생입니다."
   ]
  },
  {
   "cell_type": "code",
   "execution_count": 5,
   "id": "cb1c179a",
   "metadata": {},
   "outputs": [],
   "source": [
    "def solution(age):\n",
    "    return (2022-age)+1"
   ]
  },
  {
   "cell_type": "code",
   "execution_count": 6,
   "id": "311bc66a",
   "metadata": {},
   "outputs": [
    {
     "name": "stdout",
     "output_type": "stream",
     "text": [
      "1983\n",
      "2000\n"
     ]
    }
   ],
   "source": [
    "print(solution(40))\n",
    "print(solution(23))"
   ]
  },
  {
   "cell_type": "code",
   "execution_count": null,
   "id": "8c12e66e",
   "metadata": {},
   "outputs": [],
   "source": []
  }
 ],
 "metadata": {
  "kernelspec": {
   "display_name": "Python 3 (ipykernel)",
   "language": "python",
   "name": "python3"
  },
  "language_info": {
   "codemirror_mode": {
    "name": "ipython",
    "version": 3
   },
   "file_extension": ".py",
   "mimetype": "text/x-python",
   "name": "python",
   "nbconvert_exporter": "python",
   "pygments_lexer": "ipython3",
   "version": "3.9.12"
  }
 },
 "nbformat": 4,
 "nbformat_minor": 5
}
