{
 "cells": [
  {
   "cell_type": "markdown",
   "id": "a944b6e5",
   "metadata": {},
   "source": [
    "# LV 0.\n",
    "\n",
    "OX퀴즈\n",
    "\n",
    "https://school.programmers.co.kr/learn/courses/30/lessons/120907"
   ]
  },
  {
   "attachments": {
    "image.png": {
     "image/png": "[encoded data removed]"
    }
   },
   "cell_type": "markdown",
   "id": "9d11369e",
   "metadata": {},
   "source": [
    "**문제 설명**\n",
    "\n",
    "    덧셈, 뺄셈 수식들이 'X [연산자] Y = Z' 형태로 들어있는 문자열 배열 quiz가 매개변수로 주어집니다. 수식이 옳다면 \"O\"를 틀리다면 \"X\"를 순서대로 담은 배열을 return하도록 solution 함수를 완성해주세요.\n",
    "    \n",
    "**제한사항**\n",
    "\n",
    "    연산 기호와 숫자 사이는 항상 하나의 공백이 존재합니다. 단 음수를 표시하는 마이너스 기호와 숫자 사이에는 공백이 존재하지 않습니다.\n",
    "    1 ≤ quiz의 길이 ≤ 10\n",
    "    X, Y, Z는 각각 0부터 9까지 숫자로 이루어진 정수를 의미하며, 각 숫자의 맨 앞에 마이너스 기호가 하나 있을 수 있고 이는 음수를 의미합니다.\n",
    "    X, Y, Z는 0을 제외하고는 0으로 시작하지 않습니다.\n",
    "    -10,000 ≤ X, Y ≤ 10,000\n",
    "    -20,000 ≤ Z ≤ 20,000\n",
    "    [연산자]는 + 와 - 중 하나입니다.\n",
    "    \n",
    "\n",
    "**입출력 예**\n",
    "\n",
    "![image.png](attachment:image.png)\n",
    "\n",
    "\n",
    "**입출력 예 설명**\n",
    "\n",
    "    입출력 예 #1\n",
    "    3 - 4 = -3 은 틀린 수식이므로 \"X\", 5 + 6 = 11 은 옳은 수식이므로 \"O\" 입니다. 따라서 [\"X\", \"O\"]를 return합니다.\n",
    "    \n",
    "    입출력 예 #2\n",
    "    19 - 6 = 13 은 옳은 수식이므로 \"O\", 5 + 66 = 71 은 옳은 수식이므로 \"O\", 5 - 15 = 63 은 틀린 수식이므로 \"X\", 3 - 1 = 2는 옳은 수식이므로 \"O\" 따라서 [\"O\", \"O\", \"X\", \"O\"]를 return합니다."
   ]
  },
  {
   "cell_type": "code",
   "execution_count": 17,
   "id": "cebea0ef",
   "metadata": {},
   "outputs": [],
   "source": [
    "def solution(quiz):\n",
    "    answer = []\n",
    "    for q in quiz:\n",
    "        ans = q.split(' = ')\n",
    "        if eval(ans[0]) == int(ans[1]):\n",
    "            answer.append('O')\n",
    "        else:\n",
    "            answer.append('X')\n",
    "    \n",
    "    return answer"
   ]
  },
  {
   "cell_type": "code",
   "execution_count": 18,
   "id": "a1b48ff7",
   "metadata": {},
   "outputs": [
    {
     "name": "stdout",
     "output_type": "stream",
     "text": [
      "['X', 'O']\n",
      "['O', 'O', 'X', 'O']\n"
     ]
    }
   ],
   "source": [
    "print(solution([\"3 - 4 = -3\", \"5 + 6 = 11\"]))\n",
    "print(solution([\"19 - 6 = 13\", \"5 + 66 = 71\", \"5 - 15 = 63\", \"3 - 1 = 2\"]))"
   ]
  },
  {
   "cell_type": "markdown",
   "id": "4b9185ca",
   "metadata": {},
   "source": [
    "    - 검색하다 알아냈는데, eval() 함수는 현업에서 쓰면 줘터진다함..\n",
    "    나 열심히 쓰고 있었는딩ㅋㅋㅋㅋㅋㅋㅋ"
   ]
  },
  {
   "cell_type": "code",
   "execution_count": null,
   "id": "15d9450f",
   "metadata": {},
   "outputs": [],
   "source": []
  }
 ],
 "metadata": {
  "kernelspec": {
   "display_name": "Python 3 (ipykernel)",
   "language": "python",
   "name": "python3"
  },
  "language_info": {
   "codemirror_mode": {
    "name": "ipython",
    "version": 3
   },
   "file_extension": ".py",
   "mimetype": "text/x-python",
   "name": "python",
   "nbconvert_exporter": "python",
   "pygments_lexer": "ipython3",
   "version": "3.9.12"
  }
 },
 "nbformat": 4,
 "nbformat_minor": 5
}
