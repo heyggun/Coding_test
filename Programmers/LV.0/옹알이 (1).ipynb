{
 "cells": [
  {
   "cell_type": "markdown",
   "id": "c0ef933e",
   "metadata": {},
   "source": [
    "# LV 0.\n",
    "\n",
    "옹알이(1)\n",
    "\n",
    "https://school.programmers.co.kr/learn/courses/30/lessons/120956"
   ]
  },
  {
   "attachments": {
    "image.png": {
     "image/png": "[encoded data removed]"
    }
   },
   "cell_type": "markdown",
   "id": "d296a4d9",
   "metadata": {},
   "source": [
    "**문제 설명**\n",
    "\n",
    "    머쓱이는 태어난 지 6개월 된 조카를 돌보고 있습니다. 조카는 아직 \"aya\", \"ye\", \"woo\", \"ma\" 네 가지 발음을 최대 한 번씩 사용해 조합한(이어 붙인) 발음밖에 하지 못합니다. 문자열 배열 babbling이 매개변수로 주어질 때, 머쓱이의 조카가 발음할 수 있는 단어의 개수를 return하도록 solution 함수를 완성해주세요.\n",
    "    \n",
    "    \n",
    "**제한사항**\n",
    "\n",
    "    1 ≤ babbling의 길이 ≤ 100\n",
    "    1 ≤ babbling[i]의 길이 ≤ 15\n",
    "    babbling의 각 문자열에서 \"aya\", \"ye\", \"woo\", \"ma\"는 각각 최대 한 번씩만 등장합니다.\n",
    "    즉, 각 문자열의 가능한 모든 부분 문자열 중에서 \"aya\", \"ye\", \"woo\", \"ma\"가 한 번씩만 등장합니다.\n",
    "    문자열은 알파벳 소문자로만 이루어져 있습니다.\n",
    "    \n",
    "**입출력 예**\n",
    "\n",
    "![image.png](attachment:image.png)\n",
    "\n",
    "**입출력 예 설명**\n",
    "\n",
    "    입출력 예 #1\n",
    "    [\"aya\", \"yee\", \"u\", \"maa\", \"wyeoo\"]에서 발음할 수 있는 것은 \"aya\"뿐입니다. 따라서 1을 return합니다.\n",
    "    \n",
    "    입출력 예 #2\n",
    "    [\"ayaye\", \"uuuma\", \"ye\", \"yemawoo\", \"ayaa\"]에서 발음할 수 있는 것은 \"aya\" + \"ye\" = \"ayaye\", \"ye\", \"ye\" + \"ma\" + \"woo\" = \"yemawoo\"로 3개입니다. 따라서 3을 return합니다.\n",
    "\n",
    "\n",
    "**유의사항**\n",
    "\n",
    "\n",
    "    네 가지를 붙여 만들 수 있는 발음 이외에는 어떤 발음도 할 수 없는 것으로 규정합니다. 예를 들어 \"woowo\"는 \"woo\"는 발음할 수 있지만 \"wo\"를 발음할 수 없기 때문에 할 수 없는 발음입니다.\n",
    "    \n",
    "    \n",
    "    ※ 공지 - 2022년 10월 27일 문제 지문이 리뉴얼되었습니다. 기존에 제출한 코드가 통과하지 못할 수도 있습니다.\n"
   ]
  },
  {
   "cell_type": "code",
   "execution_count": 49,
   "id": "628b2d7f",
   "metadata": {},
   "outputs": [],
   "source": [
    "def solution(babbling):\n",
    "    speak = [\"aya\", \"ye\", \"woo\", \"ma\"]\n",
    "    answer = 0\n",
    "    \n",
    "    for i in range(len(babbling)):\n",
    "        for s in speak:\n",
    "            babbling[i] = babbling[i].replace(s,'0')\n",
    "        try:\n",
    "            if int(babbling[i])==0:\n",
    "                answer+=1\n",
    "        except:\n",
    "            pass\n",
    "    \n",
    "    return answer"
   ]
  },
  {
   "cell_type": "code",
   "execution_count": 50,
   "id": "2f285da5",
   "metadata": {},
   "outputs": [
    {
     "name": "stdout",
     "output_type": "stream",
     "text": [
      "1\n",
      "3\n"
     ]
    }
   ],
   "source": [
    "print(solution([\"aya\", \"yee\", \"u\", \"maa\", \"wyeoo\"]))\n",
    "print(solution([\"ayaye\", \"uuuma\", \"ye\", \"yemawoo\", \"ayaa\"]))"
   ]
  },
  {
   "cell_type": "markdown",
   "id": "f491684b",
   "metadata": {},
   "source": [
    "**다른 사람 풀이**\n",
    "\n",
    "다른 사람 풀이 보는데 기발한건 없어뵘"
   ]
  },
  {
   "cell_type": "code",
   "execution_count": null,
   "id": "d5d86ea4",
   "metadata": {},
   "outputs": [],
   "source": []
  },
  {
   "cell_type": "code",
   "execution_count": null,
   "id": "d61e4b92",
   "metadata": {},
   "outputs": [],
   "source": []
  }
 ],
 "metadata": {
  "kernelspec": {
   "display_name": "Python 3 (ipykernel)",
   "language": "python",
   "name": "python3"
  },
  "language_info": {
   "codemirror_mode": {
    "name": "ipython",
    "version": 3
   },
   "file_extension": ".py",
   "mimetype": "text/x-python",
   "name": "python",
   "nbconvert_exporter": "python",
   "pygments_lexer": "ipython3",
   "version": "3.9.12"
  }
 },
 "nbformat": 4,
 "nbformat_minor": 5
}
