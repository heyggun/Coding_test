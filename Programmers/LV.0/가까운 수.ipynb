{
 "cells": [
  {
   "cell_type": "markdown",
   "id": "2a4596cf",
   "metadata": {},
   "source": [
    "# LV 0.\n",
    "\n",
    "가까운 수\n",
    "\n",
    "https://school.programmers.co.kr/learn/courses/30/lessons/120890"
   ]
  },
  {
   "attachments": {
    "image.png": {
     "image/png": "[encoded data removed]"
    }
   },
   "cell_type": "markdown",
   "id": "3c2d5971",
   "metadata": {},
   "source": [
    "**문제 설명**\n",
    "\n",
    "    정수 배열 array와 정수 n이 매개변수로 주어질 때, array에 들어있는 정수 중 n과 가장 가까운 수를 return 하도록 solution 함수를 완성해주세요.\n",
    "\n",
    "**제한사항**\n",
    "\n",
    "    1 ≤ array의 길이 ≤ 100\n",
    "    1 ≤ array의 원소 ≤ 100\n",
    "    1 ≤ n ≤ 100\n",
    "    가장 가까운 수가 여러 개일 경우 더 작은 수를 return 합니다.\n",
    "    \n",
    "**입출력 예**\n",
    "\n",
    "![image.png](attachment:image.png)\n",
    "\n",
    "**입출력 예 설명**\n",
    "\n",
    "    입출력 예 #1\n",
    "    3, 10, 28 중 20과 가장 가까운 수는 28입니다.\n",
    "    \n",
    "    입출력 예 #2\n",
    "    10, 11, 12 중 13과 가장 가까운 수는 12입니다."
   ]
  },
  {
   "cell_type": "code",
   "execution_count": 32,
   "id": "178447b0",
   "metadata": {},
   "outputs": [],
   "source": [
    "def solution(array, n):\n",
    "    return sorted(array, key=lambda x: (abs(n-x),x))[0]"
   ]
  },
  {
   "cell_type": "code",
   "execution_count": 33,
   "id": "ac74c0d6",
   "metadata": {},
   "outputs": [
    {
     "name": "stdout",
     "output_type": "stream",
     "text": [
      "28\n"
     ]
    }
   ],
   "source": [
    "print(solution([3,10,28],20))"
   ]
  },
  {
   "cell_type": "code",
   "execution_count": 31,
   "id": "028fe0ea",
   "metadata": {},
   "outputs": [
    {
     "data": {
      "text/plain": [
       "[28, 10, 3]"
      ]
     },
     "execution_count": 31,
     "metadata": {},
     "output_type": "execute_result"
    }
   ],
   "source": [
    "array = [3,10,28]\n",
    "n=20\n",
    "a_dict = {}\n",
    "for a in array:\n",
    "    if abs(n-a) in a_dict.keys():\n",
    "        a_dict[abs(n-a)].append(a)\n",
    "        a_dict[abs(n-a)].sort()\n",
    "    else:\n",
    "        a_dict[abs(n-a)] = [a]\n",
    "        \n",
    "sum(dict(sorted(a_dict.items())).values(), [])\n"
   ]
  },
  {
   "cell_type": "code",
   "execution_count": null,
   "id": "48814984",
   "metadata": {},
   "outputs": [],
   "source": []
  },
  {
   "cell_type": "code",
   "execution_count": null,
   "id": "4058137f",
   "metadata": {},
   "outputs": [],
   "source": []
  }
 ],
 "metadata": {
  "kernelspec": {
   "display_name": "Python 3 (ipykernel)",
   "language": "python",
   "name": "python3"
  },
  "language_info": {
   "codemirror_mode": {
    "name": "ipython",
    "version": 3
   },
   "file_extension": ".py",
   "mimetype": "text/x-python",
   "name": "python",
   "nbconvert_exporter": "python",
   "pygments_lexer": "ipython3",
   "version": "3.9.12"
  }
 },
 "nbformat": 4,
 "nbformat_minor": 5
}
