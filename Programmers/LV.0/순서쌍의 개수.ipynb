{
 "cells": [
  {
   "cell_type": "markdown",
   "id": "e75232b3",
   "metadata": {},
   "source": [
    "# LV 0.\n",
    "\n",
    "순서쌍의 개수\n",
    "\n",
    "https://school.programmers.co.kr/learn/courses/30/lessons/120836"
   ]
  },
  {
   "attachments": {
    "image.png": {
     "image/png": "[encoded data removed]"
    }
   },
   "cell_type": "markdown",
   "id": "58dce0f0",
   "metadata": {},
   "source": [
    "**문제 설명**\n",
    "\n",
    "    순서쌍이란 두 개의 숫자를 순서를 정하여 짝지어 나타낸 쌍으로 (a, b)로 표기합니다. 자연수 n이 매개변수로 주어질 때 두 숫자의 곱이 n인 자연수 순서쌍의 개수를 return하도록 solution 함수를 완성해주세요.\n",
    "    \n",
    "**제한사항**\n",
    "\n",
    "    1 ≤ n ≤ 1,000,000\n",
    "    \n",
    "**입출력 예**\n",
    "\n",
    "![image.png](attachment:image.png)\n",
    "\n",
    "**입출력 예 설명**\n",
    "\n",
    "    입출력 예 #1\n",
    "    n이 20 이므로 곱이 20인 순서쌍은 (1, 20), (2, 10), (4, 5), (5, 4), (10, 2), (20, 1) 이므로 6을 return합니다.\n",
    "   \n",
    "    입출력 예 #2\n",
    "    n이 100 이므로 곱이 100인 순서쌍은 (1, 100), (2, 50), (4, 25), (5, 20), (10, 10), (20, 5), (25, 4), (50, 2), (100, 1) 이므로 9를 return합니다."
   ]
  },
  {
   "cell_type": "code",
   "execution_count": 7,
   "id": "67dd639f",
   "metadata": {},
   "outputs": [],
   "source": [
    "def solution(n):\n",
    "    n_lst = []\n",
    "    for i in range(1, int(n**(0.5)+1)):\n",
    "        if n%i==0:\n",
    "            n_lst.append(i)\n",
    "            if i**2!=n:\n",
    "                n_lst.append(n//i)\n",
    "    return len(n_lst)"
   ]
  },
  {
   "cell_type": "code",
   "execution_count": 8,
   "id": "a884f68d",
   "metadata": {},
   "outputs": [
    {
     "name": "stdout",
     "output_type": "stream",
     "text": [
      "6\n",
      "9\n"
     ]
    }
   ],
   "source": [
    "print(solution(20))\n",
    "print(solution(100))"
   ]
  },
  {
   "attachments": {
    "image.png": {
     "image/png": "[encoded data removed]"
    }
   },
   "cell_type": "markdown",
   "id": "7be5847c",
   "metadata": {},
   "source": [
    "**다른 사람 풀이**\n",
    "\n",
    "![image.png](attachment:image.png)"
   ]
  },
  {
   "cell_type": "code",
   "execution_count": 9,
   "id": "3fb00bca",
   "metadata": {},
   "outputs": [],
   "source": [
    "n= 20"
   ]
  },
  {
   "cell_type": "code",
   "execution_count": 13,
   "id": "a0fd47bc",
   "metadata": {},
   "outputs": [
    {
     "data": {
      "text/plain": [
       "[0, 1, 3, 4, 9, 19]"
      ]
     },
     "execution_count": 13,
     "metadata": {},
     "output_type": "execute_result"
    }
   ],
   "source": [
    "list(filter(lambda x: n%(x+1)==0, range(n)))"
   ]
  },
  {
   "cell_type": "code",
   "execution_count": 12,
   "id": "f5f708fa",
   "metadata": {},
   "outputs": [
    {
     "data": {
      "text/plain": [
       "6"
      ]
     },
     "execution_count": 12,
     "metadata": {},
     "output_type": "execute_result"
    }
   ],
   "source": [
    "len(list(filter(lambda x: n%(x+1)==0, range(n))))"
   ]
  },
  {
   "cell_type": "code",
   "execution_count": 14,
   "id": "6edba767",
   "metadata": {},
   "outputs": [
    {
     "data": {
      "text/plain": [
       "[0, 1, 3, 4, 9, 19, 24, 49, 99]"
      ]
     },
     "execution_count": 14,
     "metadata": {},
     "output_type": "execute_result"
    }
   ],
   "source": [
    "n = 100\n",
    "\n",
    "list(filter(lambda x: n%(x+1)==0, range(n)))"
   ]
  },
  {
   "cell_type": "code",
   "execution_count": null,
   "id": "8bef2ea1",
   "metadata": {},
   "outputs": [],
   "source": []
  }
 ],
 "metadata": {
  "kernelspec": {
   "display_name": "Python 3 (ipykernel)",
   "language": "python",
   "name": "python3"
  },
  "language_info": {
   "codemirror_mode": {
    "name": "ipython",
    "version": 3
   },
   "file_extension": ".py",
   "mimetype": "text/x-python",
   "name": "python",
   "nbconvert_exporter": "python",
   "pygments_lexer": "ipython3",
   "version": "3.9.12"
  }
 },
 "nbformat": 4,
 "nbformat_minor": 5
}
