{
 "cells": [
  {
   "cell_type": "markdown",
   "id": "dfd9b0ed",
   "metadata": {},
   "source": [
    "# Lv2. 다음 큰 숫자\n",
    "\n",
    "https://school.programmers.co.kr/learn/courses/30/lessons/12911"
   ]
  },
  {
   "attachments": {
    "image.png": {
     "image/png": "[encoded data removed]"
    }
   },
   "cell_type": "markdown",
   "id": "da24fb31",
   "metadata": {},
   "source": [
    "**문제 설명**\n",
    "\n",
    "    자연수 n이 주어졌을 때, n의 다음 큰 숫자는 다음과 같이 정의 합니다.\n",
    "\n",
    "    조건 1. n의 다음 큰 숫자는 n보다 큰 자연수 입니다.\n",
    "    조건 2. n의 다음 큰 숫자와 n은 2진수로 변환했을 때 1의 갯수가 같습니다.\n",
    "    조건 3. n의 다음 큰 숫자는 조건 1, 2를 만족하는 수 중 가장 작은 수 입니다.\n",
    "    예를 들어서 78(1001110)의 다음 큰 숫자는 83(1010011)입니다.\n",
    "\n",
    "    자연수 n이 매개변수로 주어질 때, n의 다음 큰 숫자를 return 하는 solution 함수를 완성해주세요.\n",
    "\n",
    "**제한 사항**\n",
    "\n",
    "    n은 1,000,000 이하의 자연수 입니다.\n",
    "\n",
    "**입출력 예**\n",
    "\n",
    "![image.png](attachment:image.png)\n",
    "\n",
    "\n",
    "**입출력 예 설명**\n",
    "\n",
    "    입출력 예#1\n",
    "    문제 예시와 같습니다.\n",
    "    \n",
    "    입출력 예#2\n",
    "    15(1111)의 다음 큰 숫자는 23(10111)입니다."
   ]
  },
  {
   "cell_type": "code",
   "execution_count": null,
   "id": "484935af",
   "metadata": {},
   "outputs": [],
   "source": []
  },
  {
   "cell_type": "markdown",
   "id": "f043ef15",
   "metadata": {},
   "source": [
    "# `내 풀이`"
   ]
  },
  {
   "cell_type": "code",
   "execution_count": 1,
   "id": "491d43f4",
   "metadata": {},
   "outputs": [],
   "source": [
    "def solution(n):\n",
    "    n_cnt = format(n, 'b').count('1')\n",
    "    for num in range(n+1, 1000001):\n",
    "        if n_cnt == format(num, 'b').count('1'):\n",
    "            return num"
   ]
  },
  {
   "cell_type": "code",
   "execution_count": null,
   "id": "983c1301",
   "metadata": {},
   "outputs": [],
   "source": []
  },
  {
   "attachments": {
    "image.png": {
     "image/png": "[encoded data removed]"
    }
   },
   "cell_type": "markdown",
   "id": "5f64f88f",
   "metadata": {},
   "source": [
    "![image.png](attachment:image.png)"
   ]
  },
  {
   "cell_type": "code",
   "execution_count": null,
   "id": "e7a5f1e0",
   "metadata": {},
   "outputs": [],
   "source": []
  }
 ],
 "metadata": {
  "kernelspec": {
   "display_name": "Python 3 (ipykernel)",
   "language": "python",
   "name": "python3"
  },
  "language_info": {
   "codemirror_mode": {
    "name": "ipython",
    "version": 3
   },
   "file_extension": ".py",
   "mimetype": "text/x-python",
   "name": "python",
   "nbconvert_exporter": "python",
   "pygments_lexer": "ipython3",
   "version": "3.9.12"
  }
 },
 "nbformat": 4,
 "nbformat_minor": 5
}
