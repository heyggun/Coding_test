{
 "cells": [
  {
   "cell_type": "markdown",
   "id": "db27690e",
   "metadata": {},
   "source": [
    "# LV 2.\n",
    "\n",
    "리코쳇 로봇\n",
    "\n",
    "https://school.programmers.co.kr/learn/courses/30/lessons/169199"
   ]
  },
  {
   "attachments": {
    "image-2.png": {
     "image/png": "[encoded data removed]"
    },
    "image.png": {
     "image/png": "[encoded data removed]"
    }
   },
   "cell_type": "markdown",
   "id": "daca54c8",
   "metadata": {},
   "source": [
    "**문제 설명**\n",
    "\n",
    "    리코쳇 로봇이라는 보드게임이 있습니다.\n",
    "\n",
    "    이 보드게임은 격자모양 게임판 위에서 말을 움직이는 게임으로, 시작 위치에서 목표 위치까지 최소 몇 번만에 도달할 수 있는지 말하는 게임입니다.\n",
    "\n",
    "    이 게임에서 말의 움직임은 상, 하, 좌, 우 4방향 중 하나를 선택해서 게임판 위의 장애물이나 맨 끝에 부딪힐 때까지 미끄러져 이동하는 것을 한 번의 이동으로 칩니다.\n",
    "\n",
    "    다음은 보드게임판을 나타낸 예시입니다.\n",
    "\n",
    "    ...D..R\n",
    "    .D.G...\n",
    "    ....D.D\n",
    "    D....D.\n",
    "    ..D....\n",
    "    여기서 \".\"은 빈 공간을, \"R\"은 로봇의 처음 위치를, \"D\"는 장애물의 위치를, \"G\"는 목표지점을 나타냅니다.\n",
    "    위 예시에서는 \"R\" 위치에서 아래, 왼쪽, 위, 왼쪽, 아래, 오른쪽, 위 순서로 움직이면 7번 만에 \"G\" 위치에 멈춰 설 수 있으며, 이것이 최소 움직임 중 하나입니다.\n",
    "\n",
    "    게임판의 상태를 나타내는 문자열 배열 board가 주어졌을 때, 말이 목표위치에 도달하는데 최소 몇 번 이동해야 하는지 return 하는 solution함수를 완성하세요. 만약 목표위치에 도달할 수 없다면 -1을 return 해주세요.\n",
    "    \n",
    "**제한 사항**\n",
    "\n",
    "    3 ≤ board의 길이 ≤ 100\n",
    "    3 ≤ board의 원소의 길이 ≤ 100\n",
    "    board의 원소의 길이는 모두 동일합니다.\n",
    "    문자열은 \".\", \"D\", \"R\", \"G\"로만 구성되어 있으며 각각 빈 공간, 장애물, 로봇의 처음 위치, 목표 지점을 나타냅니다.\n",
    "    \"R\"과 \"G\"는 한 번씩 등장합니다.\n",
    "    \n",
    "**입출력 예**\n",
    "\n",
    "![image.png](attachment:image.png)\n",
    "\n",
    "\n",
    "**입출력 예 설명**\n",
    "\n",
    "    입출력 예 #1\n",
    "\n",
    "    문제 설명의 예시와 같습니다.\n",
    "\n",
    "    입출력 예 #2\n",
    "\n",
    "![image-2.png](attachment:image-2.png)\n",
    "\n",
    "\n",
    "    \"R\" 위치에 있는 말을 어떻게 움직여도 \"G\" 에 도달시킬 수 없습니다.\n",
    "    따라서 -1을 return 합니다."
   ]
  },
  {
   "cell_type": "code",
   "execution_count": 120,
   "id": "ddd0c5e1",
   "metadata": {},
   "outputs": [],
   "source": [
    "from collections import deque\n",
    "\n",
    "def solution(board):\n",
    "    answer = 0\n",
    "    n,m = len(board), len(board[0])\n",
    "    x,y = 0,0\n",
    "    dx,dy = [1,-1,0,0], [0,0,1,-1]\n",
    "    \n",
    "    for i in range(n):\n",
    "        for j in range(m):\n",
    "            if board[i][j]=='R':\n",
    "                x,y= i,j\n",
    "                break\n",
    "    \n",
    "    def dfs():\n",
    "        queue = deque()\n",
    "        queue.append((x,y))\n",
    "        visited = [[0]*m for _ in range(n)]\n",
    "        visited[x][y]=1\n",
    "        \n",
    "        while queue:\n",
    "            qx,qy = queue.popleft()\n",
    "\n",
    "            if board[qx][qy] == 'G':\n",
    "                return visited[qx][qy]\n",
    "\n",
    "            for i in range(4):\n",
    "                nx, ny = qx,qy\n",
    "\n",
    "                while True:\n",
    "                    nx,ny = nx+dx[i], ny+dy[i]\n",
    "                    if 0<=nx<n and 0<=ny<m and board[nx][ny]=='D':\n",
    "                        nx-=dx[i]\n",
    "                        ny-=dy[i]\n",
    "                        break\n",
    "                    if 0>nx or 0>ny or nx>=n or ny>=m:\n",
    "                        nx-=dx[i]\n",
    "                        ny-=dy[i]\n",
    "                        break\n",
    "\n",
    "                if not visited[nx][ny]:\n",
    "                    visited[nx][ny] = visited[qx][qy]+1\n",
    "                    queue.append((nx,ny))\n",
    "                \n",
    "        return -1\n",
    "    \n",
    "    answer = dfs()\n",
    "    \n",
    "    return answer-1 if answer>0 else answer\n",
    "        "
   ]
  },
  {
   "cell_type": "code",
   "execution_count": 121,
   "id": "535cc8a5",
   "metadata": {},
   "outputs": [
    {
     "name": "stdout",
     "output_type": "stream",
     "text": [
      "7\n",
      "-1\n"
     ]
    }
   ],
   "source": [
    "print(solution([\"...D..R\", \".D.G...\", \"....D.D\", \"D....D.\", \"..D....\"]))\n",
    "print(solution([\".D.R\", \"....\", \".G..\", \"...D\"]))"
   ]
  },
  {
   "cell_type": "code",
   "execution_count": null,
   "id": "0db2b52d",
   "metadata": {},
   "outputs": [],
   "source": []
  },
  {
   "cell_type": "code",
   "execution_count": null,
   "id": "66c0399d",
   "metadata": {},
   "outputs": [],
   "source": []
  }
 ],
 "metadata": {
  "kernelspec": {
   "display_name": "Python 3 (ipykernel)",
   "language": "python",
   "name": "python3"
  },
  "language_info": {
   "codemirror_mode": {
    "name": "ipython",
    "version": 3
   },
   "file_extension": ".py",
   "mimetype": "text/x-python",
   "name": "python",
   "nbconvert_exporter": "python",
   "pygments_lexer": "ipython3",
   "version": "3.9.13"
  }
 },
 "nbformat": 4,
 "nbformat_minor": 5
}
