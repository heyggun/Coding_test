{
 "cells": [
  {
   "cell_type": "markdown",
   "id": "0c898593",
   "metadata": {},
   "source": [
    "# Lv2. 최댓값과 최솟값\n",
    "\n",
    "https://school.programmers.co.kr/learn/courses/30/lessons/12939"
   ]
  },
  {
   "attachments": {
    "image.png": {
     "image/png": "[encoded data removed]"
    }
   },
   "cell_type": "markdown",
   "id": "611d944f",
   "metadata": {},
   "source": [
    "**문제 설명**\n",
    "\n",
    "    문자열 s에는 공백으로 구분된 숫자들이 저장되어 있습니다. str에 나타나는 숫자 중 최소값과 최대값을 찾아 이를 \"(최소값) (최대값)\"형태의 문자열을 반환하는 함수, solution을 완성하세요.\n",
    "    예를들어 s가 \"1 2 3 4\"라면 \"1 4\"를 리턴하고, \"-1 -2 -3 -4\"라면 \"-4 -1\"을 리턴하면 됩니다.\n",
    "    \n",
    "**제한 조건**\n",
    "\n",
    "    s에는 둘 이상의 정수가 공백으로 구분되어 있습니다.\n",
    "    \n",
    "**입출력 예**\n",
    "\n",
    "![image.png](attachment:image.png)"
   ]
  },
  {
   "cell_type": "code",
   "execution_count": null,
   "id": "d87f87d8",
   "metadata": {},
   "outputs": [],
   "source": []
  },
  {
   "cell_type": "markdown",
   "id": "f9561151",
   "metadata": {},
   "source": [
    "# `정답`"
   ]
  },
  {
   "cell_type": "code",
   "execution_count": 1,
   "id": "3737e454",
   "metadata": {},
   "outputs": [],
   "source": [
    "def solution(s):\n",
    "    s_lst = sorted(list(map(int, s.split(' '))))\n",
    "    return str(s_lst[0]) + ' ' + str(s_lst[-1])"
   ]
  },
  {
   "cell_type": "code",
   "execution_count": 2,
   "id": "49c0fb1d",
   "metadata": {},
   "outputs": [
    {
     "name": "stdout",
     "output_type": "stream",
     "text": [
      "1 4\n",
      "-4 -1\n",
      "-1 -1\n"
     ]
    }
   ],
   "source": [
    "print(solution('1 2 3 4'))\n",
    "print(solution('-1 -2 -3 -4'))\n",
    "print(solution('-1 -1'))"
   ]
  },
  {
   "attachments": {
    "image.png": {
     "image/png": "[encoded data removed]"
    }
   },
   "cell_type": "markdown",
   "id": "e7cd0c70",
   "metadata": {},
   "source": [
    "![image.png](attachment:image.png)"
   ]
  },
  {
   "cell_type": "code",
   "execution_count": null,
   "id": "761f7077",
   "metadata": {},
   "outputs": [],
   "source": []
  }
 ],
 "metadata": {
  "kernelspec": {
   "display_name": "Python 3 (ipykernel)",
   "language": "python",
   "name": "python3"
  },
  "language_info": {
   "codemirror_mode": {
    "name": "ipython",
    "version": 3
   },
   "file_extension": ".py",
   "mimetype": "text/x-python",
   "name": "python",
   "nbconvert_exporter": "python",
   "pygments_lexer": "ipython3",
   "version": "3.9.12"
  }
 },
 "nbformat": 4,
 "nbformat_minor": 5
}
