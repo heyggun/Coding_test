{
 "cells": [
  {
   "cell_type": "markdown",
   "id": "3188fca0",
   "metadata": {},
   "source": [
    "## LV1.\n",
    "\n",
    "하샤드 수\n",
    "\n",
    "https://school.programmers.co.kr/learn/courses/30/lessons/12947"
   ]
  },
  {
   "attachments": {
    "image.png": {
     "image/png": "[encoded data removed]"
    }
   },
   "cell_type": "markdown",
   "id": "b49e88f2",
   "metadata": {},
   "source": [
    "**문제 설명**\n",
    "\n",
    "    양의 정수 x가 하샤드 수이려면 x의 자릿수의 합으로 x가 나누어져야 합니다. 예를 들어 18의 자릿수 합은 1+8=9이고, 18은 9로 나누어 떨어지므로 18은 하샤드 수입니다. 자연수 x를 입력받아 x가 하샤드 수인지 아닌지 검사하는 함수, solution을 완성해주세요.\n",
    "    \n",
    "    \n",
    "**제한 조건**\n",
    "\n",
    "    x는 1 이상, 10000 이하인 정수입니다.\n",
    "    \n",
    "**입출력 예**\n",
    "\n",
    "![image.png](attachment:image.png)\n",
    "\n",
    "**입출력 예 설명**\n",
    "\n",
    "    입출력 예 #1\n",
    "    10의 모든 자릿수의 합은 1입니다. 10은 1로 나누어 떨어지므로 10은 하샤드 수입니다.\n",
    "\n",
    "    입출력 예 #2\n",
    "    12의 모든 자릿수의 합은 3입니다. 12는 3으로 나누어 떨어지므로 12는 하샤드 수입니다.\n",
    "\n",
    "    입출력 예 #3\n",
    "    11의 모든 자릿수의 합은 2입니다. 11은 2로 나누어 떨어지지 않으므로 11는 하샤드 수가 아닙니다.\n",
    "\n",
    "    입출력 예 #4\n",
    "    13의 모든 자릿수의 합은 4입니다. 13은 4로 나누어 떨어지지 않으므로 13은 하샤드 수가 아닙니다."
   ]
  },
  {
   "cell_type": "code",
   "execution_count": 34,
   "id": "9ffa5c72",
   "metadata": {},
   "outputs": [],
   "source": [
    "def solution(x):\n",
    "    return True if x%sum([int(str(x)[i]) for i in range(len(str(x)))])==0 else False"
   ]
  },
  {
   "cell_type": "code",
   "execution_count": 35,
   "id": "4f8e3dd7",
   "metadata": {},
   "outputs": [
    {
     "name": "stdout",
     "output_type": "stream",
     "text": [
      "True\n",
      "True\n",
      "False\n",
      "False\n"
     ]
    }
   ],
   "source": [
    "print(solution(10))\n",
    "print(solution(12))\n",
    "print(solution(11))\n",
    "print(solution(13))"
   ]
  },
  {
   "cell_type": "code",
   "execution_count": null,
   "id": "19f9ee64",
   "metadata": {},
   "outputs": [],
   "source": []
  },
  {
   "cell_type": "code",
   "execution_count": null,
   "id": "2d338c3b",
   "metadata": {},
   "outputs": [],
   "source": []
  },
  {
   "attachments": {
    "image.png": {
     "image/png": "[encoded data removed]"
    }
   },
   "cell_type": "markdown",
   "id": "39b2a2a4",
   "metadata": {},
   "source": [
    "![image.png](attachment:image.png)"
   ]
  },
  {
   "cell_type": "code",
   "execution_count": null,
   "id": "c200baeb",
   "metadata": {},
   "outputs": [],
   "source": []
  }
 ],
 "metadata": {
  "kernelspec": {
   "display_name": "Python 3 (ipykernel)",
   "language": "python",
   "name": "python3"
  },
  "language_info": {
   "codemirror_mode": {
    "name": "ipython",
    "version": 3
   },
   "file_extension": ".py",
   "mimetype": "text/x-python",
   "name": "python",
   "nbconvert_exporter": "python",
   "pygments_lexer": "ipython3",
   "version": "3.9.12"
  }
 },
 "nbformat": 4,
 "nbformat_minor": 5
}
