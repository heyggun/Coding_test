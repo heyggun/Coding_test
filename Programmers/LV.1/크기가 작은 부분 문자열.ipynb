{
 "cells": [
  {
   "cell_type": "markdown",
   "id": "c14732fd",
   "metadata": {},
   "source": [
    "# LV.1\n",
    "\n",
    "크기가 작은 부분 문자열"
   ]
  },
  {
   "cell_type": "markdown",
   "id": "87f52db0",
   "metadata": {},
   "source": [
    "https://school.programmers.co.kr/learn/courses/30/lessons/147355"
   ]
  },
  {
   "cell_type": "code",
   "execution_count": null,
   "id": "b5b4dc3f",
   "metadata": {},
   "outputs": [],
   "source": []
  },
  {
   "cell_type": "code",
   "execution_count": null,
   "id": "d38c2f89",
   "metadata": {},
   "outputs": [],
   "source": []
  },
  {
   "cell_type": "code",
   "execution_count": 1,
   "id": "5ce653dc",
   "metadata": {},
   "outputs": [],
   "source": [
    "def solution(t,p):\n",
    "    result = 0\n",
    "    cnt = 0\n",
    "    p_len = len(p)\n",
    "    while p_len != len(t)+1:\n",
    "        number = t[cnt:p_len]\n",
    "        str(number)\n",
    "        cnt +=1\n",
    "        p_len +=1\n",
    "\n",
    "        if int(number) <= int(p):\n",
    "            result +=1\n",
    "\n",
    "        \n",
    "    return result"
   ]
  },
  {
   "cell_type": "code",
   "execution_count": null,
   "id": "5a7b7861",
   "metadata": {},
   "outputs": [],
   "source": []
  }
 ],
 "metadata": {
  "kernelspec": {
   "display_name": "Python 3 (ipykernel)",
   "language": "python",
   "name": "python3"
  },
  "language_info": {
   "codemirror_mode": {
    "name": "ipython",
    "version": 3
   },
   "file_extension": ".py",
   "mimetype": "text/x-python",
   "name": "python",
   "nbconvert_exporter": "python",
   "pygments_lexer": "ipython3",
   "version": "3.9.12"
  }
 },
 "nbformat": 4,
 "nbformat_minor": 5
}
