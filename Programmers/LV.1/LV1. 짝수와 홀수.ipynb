{
 "cells": [
  {
   "cell_type": "markdown",
   "id": "95021bf5",
   "metadata": {},
   "source": [
    "# LV1.\n",
    "\n",
    "짝수와 홀수\n",
    "\n",
    "https://school.programmers.co.kr/learn/courses/30/lessons/12937"
   ]
  },
  {
   "attachments": {
    "image.png": {
     "image/png": "[encoded data removed]"
    }
   },
   "cell_type": "markdown",
   "id": "05f837a5",
   "metadata": {},
   "source": [
    "**문제 설명**\n",
    "\n",
    "    정수 num이 짝수일 경우 \"Even\"을 반환하고 홀수인 경우 \"Odd\"를 반환하는 함수, solution을 완성해주세요.\n",
    "    \n",
    "**제한 조건**\n",
    "\n",
    "    num은 int 범위의 정수입니다.\n",
    "    0은 짝수입니다.\n",
    "    \n",
    "**입출력 예**\n",
    "\n",
    "![image.png](attachment:image.png)"
   ]
  },
  {
   "cell_type": "code",
   "execution_count": 3,
   "id": "e9d09789",
   "metadata": {},
   "outputs": [],
   "source": [
    "def solution(num):\n",
    "    return 'Even' if num%2==0 else 'Odd'"
   ]
  },
  {
   "cell_type": "code",
   "execution_count": 4,
   "id": "27015ff4",
   "metadata": {},
   "outputs": [
    {
     "name": "stdout",
     "output_type": "stream",
     "text": [
      "Odd\n",
      "Even\n"
     ]
    }
   ],
   "source": [
    "print(solution(3))\n",
    "print(solution(4))"
   ]
  },
  {
   "attachments": {
    "image.png": {
     "image/png": "[encoded data removed]"
    }
   },
   "cell_type": "markdown",
   "id": "a3feaede",
   "metadata": {},
   "source": [
    "![image.png](attachment:image.png)"
   ]
  },
  {
   "cell_type": "code",
   "execution_count": null,
   "id": "16a4b5f9",
   "metadata": {},
   "outputs": [],
   "source": []
  }
 ],
 "metadata": {
  "kernelspec": {
   "display_name": "Python 3 (ipykernel)",
   "language": "python",
   "name": "python3"
  },
  "language_info": {
   "codemirror_mode": {
    "name": "ipython",
    "version": 3
   },
   "file_extension": ".py",
   "mimetype": "text/x-python",
   "name": "python",
   "nbconvert_exporter": "python",
   "pygments_lexer": "ipython3",
   "version": "3.9.12"
  }
 },
 "nbformat": 4,
 "nbformat_minor": 5
}
