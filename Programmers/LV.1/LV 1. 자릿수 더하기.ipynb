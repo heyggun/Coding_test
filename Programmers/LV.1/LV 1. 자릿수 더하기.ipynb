{
 "cells": [
  {
   "cell_type": "markdown",
   "id": "94149484",
   "metadata": {},
   "source": [
    "# LV 1. 자릿수 더하기\n",
    "\n",
    "https://school.programmers.co.kr/learn/courses/30/lessons/12931"
   ]
  },
  {
   "attachments": {
    "image.png": {
     "image/png": "[encoded data removed]"
    }
   },
   "cell_type": "markdown",
   "id": "66ce539d",
   "metadata": {},
   "source": [
    "**문제 설명**\n",
    "\n",
    "    자연수 N이 주어지면, N의 각 자릿수의 합을 구해서 return 하는 solution 함수를 만들어 주세요.\n",
    "    예를들어 N = 123이면 1 + 2 + 3 = 6을 return 하면 됩니다.\n",
    "\n",
    "**제한사항**\n",
    "    \n",
    "    N의 범위 : 100,000,000 이하의 자연수\n",
    "    \n",
    "**입출력 예**\n",
    "\n",
    "![image.png](attachment:image.png)\n",
    "\n",
    "**입출력 예 설명**\n",
    "\n",
    "    입출력 예 #1\n",
    "    문제의 예시와 같습니다.\n",
    "\n",
    "    입출력 예 #2\n",
    "    9 + 8 + 7 = 24이므로 24를 return 하면 됩니다."
   ]
  },
  {
   "cell_type": "code",
   "execution_count": 9,
   "id": "75f430d6",
   "metadata": {},
   "outputs": [],
   "source": [
    "def solution(n):\n",
    "    return sum(list(map(int, str(n))))"
   ]
  },
  {
   "cell_type": "code",
   "execution_count": 10,
   "id": "914d0634",
   "metadata": {},
   "outputs": [
    {
     "name": "stdout",
     "output_type": "stream",
     "text": [
      "6\n",
      "24\n"
     ]
    }
   ],
   "source": [
    "print(solution(123))\n",
    "print(solution(987))"
   ]
  },
  {
   "cell_type": "code",
   "execution_count": null,
   "id": "fbbbc60e",
   "metadata": {},
   "outputs": [],
   "source": []
  },
  {
   "cell_type": "code",
   "execution_count": null,
   "id": "b92cf1b1",
   "metadata": {},
   "outputs": [],
   "source": []
  },
  {
   "attachments": {
    "image.png": {
     "image/png": "[encoded data removed]"
    }
   },
   "cell_type": "markdown",
   "id": "b1f97bec",
   "metadata": {},
   "source": [
    "![image.png](attachment:image.png)"
   ]
  },
  {
   "cell_type": "code",
   "execution_count": null,
   "id": "4a50991d",
   "metadata": {},
   "outputs": [],
   "source": []
  }
 ],
 "metadata": {
  "kernelspec": {
   "display_name": "Python 3 (ipykernel)",
   "language": "python",
   "name": "python3"
  },
  "language_info": {
   "codemirror_mode": {
    "name": "ipython",
    "version": 3
   },
   "file_extension": ".py",
   "mimetype": "text/x-python",
   "name": "python",
   "nbconvert_exporter": "python",
   "pygments_lexer": "ipython3",
   "version": "3.9.12"
  }
 },
 "nbformat": 4,
 "nbformat_minor": 5
}
