{
 "cells": [
  {
   "cell_type": "markdown",
   "id": "b461f765",
   "metadata": {},
   "source": [
    "# LV 01.\n",
    "\n",
    "내적\n",
    "\n",
    "https://school.programmers.co.kr/learn/courses/30/lessons/70128"
   ]
  },
  {
   "cell_type": "markdown",
   "id": "d6c055c5",
   "metadata": {},
   "source": [
    "**문제 설명**\n",
    "\n"
   ]
  }
 ],
 "metadata": {
  "kernelspec": {
   "display_name": "Python 3 (ipykernel)",
   "language": "python",
   "name": "python3"
  },
  "language_info": {
   "codemirror_mode": {
    "name": "ipython",
    "version": 3
   },
   "file_extension": ".py",
   "mimetype": "text/x-python",
   "name": "python",
   "nbconvert_exporter": "python",
   "pygments_lexer": "ipython3",
   "version": "3.9.12"
  }
 },
 "nbformat": 4,
 "nbformat_minor": 5
}
