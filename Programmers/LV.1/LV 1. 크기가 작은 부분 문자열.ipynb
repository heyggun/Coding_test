{
 "cells": [
  {
   "cell_type": "markdown",
   "id": "7f881bbe",
   "metadata": {},
   "source": [
    "# LV 1.\n",
    "\n",
    "크기가 작은 부분 문자열\n",
    "\n",
    "https://school.programmers.co.kr/learn/courses/30/lessons/147355"
   ]
  },
  {
   "attachments": {
    "image.png": {
     "image/png": "[encoded data removed]"
    }
   },
   "cell_type": "markdown",
   "id": "54847777",
   "metadata": {},
   "source": [
    "**문제 설명**\n",
    "\n",
    "    숫자로 이루어진 문자열 t와 p가 주어질 때, t에서 p와 길이가 같은 부분문자열 중에서, 이 부분문자열이 나타내는 수가 p가 나타내는 수보다 작거나 같은 것이 나오는 횟수를 return하는 함수 solution을 완성하세요.\n",
    "\n",
    "    예를 들어, t=\"3141592\"이고 p=\"271\" 인 경우, t의 길이가 3인 부분 문자열은 314, 141, 415, 159, 592입니다. 이 문자열이 나타내는 수 중 271보다 작거나 같은 수는 141, 159 2개 입니다.\n",
    "    \n",
    "**제한사항**\n",
    "\n",
    "    1 ≤ p의 길이 ≤ 18\n",
    "    p의 길이 ≤ t의 길이 ≤ 10,000\n",
    "    t와 p는 숫자로만 이루어진 문자열이며, 0으로 시작하지 않습니다.\n",
    "    \n",
    "**입출력 예**\n",
    "\n",
    "![image.png](attachment:image.png)\n",
    "\n",
    "**입출력 예 설명**\n",
    "\n",
    "    입출력 예 #1\n",
    "    본문과 같습니다.\n",
    "\n",
    "    입출력 예 #2\n",
    "    p의 길이가 1이므로 t의 부분문자열은 \"5\", \"0\", 0\", \"2\", \"2\", \"0\", \"8\", \"3\", \"9\", \"8\", \"7\", \"8\"이며 이중 7보다 작거나 같은 숫자는 \"5\", \"0\", \"0\", \"2\", \"2\", \"0\", \"3\", \"7\" 이렇게 8개가 있습니다.\n",
    "\n",
    "    입출력 예 #3\n",
    "    p의 길이가 2이므로 t의 부분문자열은 \"10\", \"02\", \"20\", \"03\"이며, 이중 15보다 작거나 같은 숫자는 \"10\", \"02\", \"03\" 이렇게 3개입니다. \"02\"와 \"03\"은 각각 2, 3에 해당한다는 점에 주의하세요"
   ]
  },
  {
   "cell_type": "code",
   "execution_count": 9,
   "id": "5659bfe3",
   "metadata": {},
   "outputs": [],
   "source": [
    "def solution(t, p):\n",
    "    answer = 0\n",
    "    \n",
    "    for idx in range(len(t)-len(p)+1):\n",
    "        if int(t[idx:idx+len(p)]) <= int(p):\n",
    "            answer +=1\n",
    "    \n",
    "    return answer"
   ]
  },
  {
   "cell_type": "code",
   "execution_count": 10,
   "id": "1a355fb1",
   "metadata": {},
   "outputs": [
    {
     "name": "stdout",
     "output_type": "stream",
     "text": [
      "2\n",
      "8\n",
      "3\n"
     ]
    }
   ],
   "source": [
    "print(solution(\"3141592\",\"271\"))\n",
    "print(solution(\"500220839878\",\"7\"))\n",
    "print(solution(\"10203\",\"15\"))"
   ]
  },
  {
   "cell_type": "code",
   "execution_count": null,
   "id": "477a5fbb",
   "metadata": {},
   "outputs": [],
   "source": []
  },
  {
   "cell_type": "code",
   "execution_count": 8,
   "id": "627392e8",
   "metadata": {},
   "outputs": [
    {
     "data": {
      "text/plain": [
       "2"
      ]
     },
     "execution_count": 8,
     "metadata": {},
     "output_type": "execute_result"
    }
   ],
   "source": [
    "t = \"3141592\"\n",
    "p = \"217\"\n",
    "answer = 0\n",
    "\n",
    "for idx in range(len(t)-len(p)+1):\n",
    "    if int(t[idx:idx+len(p)]) <= int(p):\n",
    "        answer +=1\n",
    "\n",
    "answer"
   ]
  },
  {
   "cell_type": "code",
   "execution_count": null,
   "id": "affcfc6d",
   "metadata": {},
   "outputs": [],
   "source": []
  },
  {
   "attachments": {
    "image.png": {
     "image/png": "[encoded data removed]"
    }
   },
   "cell_type": "markdown",
   "id": "4eaca4d0",
   "metadata": {},
   "source": [
    "![image.png](attachment:image.png)"
   ]
  },
  {
   "cell_type": "code",
   "execution_count": null,
   "id": "de9fbfae",
   "metadata": {},
   "outputs": [],
   "source": []
  }
 ],
 "metadata": {
  "kernelspec": {
   "display_name": "Python 3 (ipykernel)",
   "language": "python",
   "name": "python3"
  },
  "language_info": {
   "codemirror_mode": {
    "name": "ipython",
    "version": 3
   },
   "file_extension": ".py",
   "mimetype": "text/x-python",
   "name": "python",
   "nbconvert_exporter": "python",
   "pygments_lexer": "ipython3",
   "version": "3.9.12"
  }
 },
 "nbformat": 4,
 "nbformat_minor": 5
}
