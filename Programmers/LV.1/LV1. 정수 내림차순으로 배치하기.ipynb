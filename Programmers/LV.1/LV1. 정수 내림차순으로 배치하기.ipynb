{
 "cells": [
  {
   "cell_type": "markdown",
   "id": "a92b51c3",
   "metadata": {},
   "source": [
    "## LV1.\n",
    "\n",
    "정수 내림차순으로 배치하기\n",
    "\n",
    "https://school.programmers.co.kr/learn/courses/30/lessons/12933"
   ]
  },
  {
   "attachments": {
    "image.png": {
     "image/png": "[encoded data removed]"
    }
   },
   "cell_type": "markdown",
   "id": "ed320ca1",
   "metadata": {},
   "source": [
    "**문제 설명**\n",
    "\n",
    "    함수 solution은 정수 n을 매개변수로 입력받습니다. n의 각 자릿수를 큰것부터 작은 순으로 정렬한 새로운 정수를 리턴해주세요. 예를들어 n이 118372면 873211을 리턴하면 됩니다.\n",
    "\n",
    "**제한 조건**\n",
    "\n",
    "    n은 1이상 8000000000 이하인 자연수입니다.\n",
    "\n",
    "**입출력 예**\n",
    "\n",
    "![image.png](attachment:image.png)"
   ]
  },
  {
   "cell_type": "code",
   "execution_count": 22,
   "id": "413ec1ac",
   "metadata": {},
   "outputs": [],
   "source": [
    "def solution(n):\n",
    "    return int(''.join(list(map(str, sorted(str(n), reverse=True)))))"
   ]
  },
  {
   "cell_type": "code",
   "execution_count": 24,
   "id": "6085828a",
   "metadata": {},
   "outputs": [
    {
     "name": "stdout",
     "output_type": "stream",
     "text": [
      "873211\n"
     ]
    }
   ],
   "source": [
    "print(solution(118372))"
   ]
  },
  {
   "cell_type": "code",
   "execution_count": null,
   "id": "dcc554fd",
   "metadata": {},
   "outputs": [],
   "source": []
  },
  {
   "attachments": {
    "image.png": {
     "image/png": "[encoded data removed]"
    }
   },
   "cell_type": "markdown",
   "id": "a68b15bc",
   "metadata": {},
   "source": [
    "![image.png](attachment:image.png)"
   ]
  },
  {
   "cell_type": "code",
   "execution_count": null,
   "id": "1b158383",
   "metadata": {},
   "outputs": [],
   "source": []
  }
 ],
 "metadata": {
  "kernelspec": {
   "display_name": "Python 3 (ipykernel)",
   "language": "python",
   "name": "python3"
  },
  "language_info": {
   "codemirror_mode": {
    "name": "ipython",
    "version": 3
   },
   "file_extension": ".py",
   "mimetype": "text/x-python",
   "name": "python",
   "nbconvert_exporter": "python",
   "pygments_lexer": "ipython3",
   "version": "3.9.12"
  }
 },
 "nbformat": 4,
 "nbformat_minor": 5
}
