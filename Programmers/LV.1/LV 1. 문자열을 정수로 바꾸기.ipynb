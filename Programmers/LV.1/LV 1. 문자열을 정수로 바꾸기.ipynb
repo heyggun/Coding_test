{
 "cells": [
  {
   "cell_type": "markdown",
   "id": "c71b33bf",
   "metadata": {},
   "source": [
    "## LV 1.\n",
    "\n",
    "문자열을 정수로 바꾸기\n",
    "\n",
    "https://school.programmers.co.kr/learn/courses/30/lessons/12925"
   ]
  },
  {
   "cell_type": "markdown",
   "id": "792c36b7",
   "metadata": {},
   "source": [
    "**문제 설명**\n",
    "\n",
    "    문자열 s를 숫자로 변환한 결과를 반환하는 함수, solution을 완성하세요.\n",
    "\n",
    "**제한 조건**\n",
    "\n",
    "    s의 길이는 1 이상 5이하입니다.\n",
    "    s의 맨앞에는 부호(+, -)가 올 수 있습니다.\n",
    "    s는 부호와 숫자로만 이루어져있습니다.\n",
    "    s는 \"0\"으로 시작하지 않습니다.\n",
    "\n",
    "**입출력 예**\n",
    "\n",
    "    예를들어 str이 \"1234\"이면 1234를 반환하고, \"-1234\"이면 -1234를 반환하면 됩니다.\n",
    "    str은 부호(+,-)와 숫자로만 구성되어 있고, 잘못된 값이 입력되는 경우는 없습니다."
   ]
  },
  {
   "cell_type": "code",
   "execution_count": 1,
   "id": "16f35f5b",
   "metadata": {},
   "outputs": [],
   "source": [
    "def solution(str):\n",
    "    return int(str)"
   ]
  },
  {
   "cell_type": "code",
   "execution_count": 2,
   "id": "1b807db8",
   "metadata": {},
   "outputs": [
    {
     "name": "stdout",
     "output_type": "stream",
     "text": [
      "1234\n",
      "-1234\n"
     ]
    }
   ],
   "source": [
    "print(solution(1234))\n",
    "print(solution(-1234))"
   ]
  },
  {
   "cell_type": "code",
   "execution_count": null,
   "id": "57224776",
   "metadata": {},
   "outputs": [],
   "source": []
  }
 ],
 "metadata": {
  "kernelspec": {
   "display_name": "Python 3 (ipykernel)",
   "language": "python",
   "name": "python3"
  },
  "language_info": {
   "codemirror_mode": {
    "name": "ipython",
    "version": 3
   },
   "file_extension": ".py",
   "mimetype": "text/x-python",
   "name": "python",
   "nbconvert_exporter": "python",
   "pygments_lexer": "ipython3",
   "version": "3.9.12"
  }
 },
 "nbformat": 4,
 "nbformat_minor": 5
}
