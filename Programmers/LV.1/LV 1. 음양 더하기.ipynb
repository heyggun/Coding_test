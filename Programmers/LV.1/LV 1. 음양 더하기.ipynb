{
 "cells": [
  {
   "cell_type": "markdown",
   "id": "0a4344cd",
   "metadata": {},
   "source": [
    "## LV 1. \n",
    "\n",
    "음양 더하기\n",
    "\n",
    "https://school.programmers.co.kr/learn/courses/30/lessons/76501"
   ]
  },
  {
   "attachments": {
    "image.png": {
     "image/png": "[encoded data removed]"
    }
   },
   "cell_type": "markdown",
   "id": "ba32ca56",
   "metadata": {},
   "source": [
    "**문제 설명**\n",
    "\n",
    "    어떤 정수들이 있습니다. 이 정수들의 절댓값을 차례대로 담은 정수 배열 absolutes와 이 정수들의 부호를 차례대로 담은 불리언 배열 signs가 매개변수로 주어집니다. 실제 정수들의 합을 구하여 return 하도록 solution 함수를 완성해주세요.\n",
    "\n",
    "**제한사항**\n",
    "\n",
    "    absolutes의 길이는 1 이상 1,000 이하입니다.\n",
    "    absolutes의 모든 수는 각각 1 이상 1,000 이하입니다.\n",
    "    signs의 길이는 absolutes의 길이와 같습니다.\n",
    "    signs[i] 가 참이면 absolutes[i] 의 실제 정수가 양수임을, 그렇지 않으면 음수임을 의미합니다.\n",
    "    \n",
    "**입출력 예**\n",
    "\n",
    "![image.png](attachment:image.png)\n",
    "\n",
    "\n",
    "**입출력 예 설명**\n",
    "\n",
    "    입출력 예 #1\n",
    "    signs가 [true,false,true] 이므로, 실제 수들의 값은 각각 4, -7, 12입니다.\n",
    "    따라서 세 수의 합인 9를 return 해야 합니다.\n",
    "    \n",
    "    입출력 예 #2\n",
    "    signs가 [false,false,true] 이므로, 실제 수들의 값은 각각 -1, -2, 3입니다.\n",
    "    따라서 세 수의 합인 0을 return 해야 합니다."
   ]
  },
  {
   "cell_type": "code",
   "execution_count": 9,
   "id": "acbcad07",
   "metadata": {},
   "outputs": [],
   "source": [
    "def solution(absolutes, signs):\n",
    "    return sum([-a if s==False else a for a,s in zip(absolutes, signs)])"
   ]
  },
  {
   "cell_type": "code",
   "execution_count": 11,
   "id": "b3344652",
   "metadata": {},
   "outputs": [
    {
     "name": "stdout",
     "output_type": "stream",
     "text": [
      "9\n",
      "0\n"
     ]
    }
   ],
   "source": [
    "print(solution([4,7,12], [True,False,True]))\n",
    "print(solution([1,2,3], [False,False,True]))"
   ]
  },
  {
   "cell_type": "code",
   "execution_count": null,
   "id": "b8ffdbd8",
   "metadata": {},
   "outputs": [],
   "source": []
  },
  {
   "cell_type": "code",
   "execution_count": 8,
   "id": "940ec9b9",
   "metadata": {},
   "outputs": [
    {
     "data": {
      "text/plain": [
       "9"
      ]
     },
     "execution_count": 8,
     "metadata": {},
     "output_type": "execute_result"
    }
   ],
   "source": [
    "absolutes = [4,7,12]\n",
    "signs = [True, False, True]\n",
    "sum([-a if s==False else a for a,s in zip(absolutes, signs)])\n",
    "    "
   ]
  },
  {
   "cell_type": "code",
   "execution_count": null,
   "id": "18300be7",
   "metadata": {},
   "outputs": [],
   "source": []
  },
  {
   "cell_type": "code",
   "execution_count": null,
   "id": "06e3729a",
   "metadata": {},
   "outputs": [],
   "source": []
  },
  {
   "attachments": {
    "image.png": {
     "image/png": "[encoded data removed]"
    }
   },
   "cell_type": "markdown",
   "id": "9da3058b",
   "metadata": {},
   "source": [
    "![image.png](attachment:image.png)"
   ]
  },
  {
   "cell_type": "code",
   "execution_count": null,
   "id": "de4ba047",
   "metadata": {},
   "outputs": [],
   "source": []
  }
 ],
 "metadata": {
  "kernelspec": {
   "display_name": "Python 3 (ipykernel)",
   "language": "python",
   "name": "python3"
  },
  "language_info": {
   "codemirror_mode": {
    "name": "ipython",
    "version": 3
   },
   "file_extension": ".py",
   "mimetype": "text/x-python",
   "name": "python",
   "nbconvert_exporter": "python",
   "pygments_lexer": "ipython3",
   "version": "3.9.12"
  }
 },
 "nbformat": 4,
 "nbformat_minor": 5
}
