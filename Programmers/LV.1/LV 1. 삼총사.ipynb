{
 "cells": [
  {
   "cell_type": "markdown",
   "id": "20d9d3ac",
   "metadata": {},
   "source": [
    "## LV 1.\n",
    "\n",
    "삼총사\n",
    "\n",
    "https://school.programmers.co.kr/learn/courses/30/lessons/131705"
   ]
  },
  {
   "attachments": {
    "image.png": {
     "image/png": "[encoded data removed]"
    }
   },
   "cell_type": "markdown",
   "id": "4cb2800e",
   "metadata": {},
   "source": [
    "**문제 설명**\n",
    "\n",
    "    한국중학교에 다니는 학생들은 각자 정수 번호를 갖고 있습니다. 이 학교 학생 3명의 정수 번호를 더했을 때 0이 되면 3명의 학생은 삼총사라고 합니다. 예를 들어, 5명의 학생이 있고, 각각의 정수 번호가 순서대로 -2, 3, 0, 2, -5일 때, 첫 번째, 세 번째, 네 번째 학생의 정수 번호를 더하면 0이므로 세 학생은 삼총사입니다. 또한, 두 번째, 네 번째, 다섯 번째 학생의 정수 번호를 더해도 0이므로 세 학생도 삼총사입니다. 따라서 이 경우 한국중학교에서는 두 가지 방법으로 삼총사를 만들 수 있습니다.\n",
    "\n",
    "    한국중학교 학생들의 번호를 나타내는 정수 배열 number가 매개변수로 주어질 때, 학생들 중 삼총사를 만들 수 있는 방법의 수를 return 하도록 solution 함수를 완성하세요.\n",
    "    \n",
    "**제한 사항**\n",
    "\n",
    "    3 ≤ number의 길이 ≤ 13\n",
    "    -1,000 ≤ number의 각 원소 ≤ 1,000\n",
    "    서로 다른 학생의 정수 번호가 같을 수 있습니다.\n",
    "    \n",
    "**입출력 예**\n",
    "\n",
    "![image.png](attachment:image.png)\n",
    "\n",
    "\n",
    "**입출력 예 설명**\n",
    "\n",
    "    입출력 예 #1\n",
    "    문제 예시와 같습니다.\n",
    "\n",
    "    입출력 예 #2\n",
    "    학생들의 정수 번호 쌍 (-3, 0, 3), (-2, 0, 2), (-1, 0, 1), (-2, -1, 3), (-3, 1, 2) 이 삼총사가 될 수 있으므로, 5를 return 합니다.\n",
    "\n",
    "    입출력 예 #3\n",
    "    삼총사가 될 수 있는 방법이 없습니다."
   ]
  },
  {
   "cell_type": "code",
   "execution_count": 6,
   "id": "c7baef92",
   "metadata": {},
   "outputs": [],
   "source": [
    "from itertools import combinations\n",
    "\n",
    "def solution(number):\n",
    "    coms = combinations(number, 3)\n",
    "    return len([com for com in coms if sum(com)==0])"
   ]
  },
  {
   "cell_type": "code",
   "execution_count": 7,
   "id": "065adbd9",
   "metadata": {},
   "outputs": [
    {
     "name": "stdout",
     "output_type": "stream",
     "text": [
      "2\n",
      "5\n",
      "0\n"
     ]
    }
   ],
   "source": [
    "print(solution([-2,3,0,2,-5]))\n",
    "print(solution([-3, -2, -1, 0, 1, 2, 3]))\n",
    "print(solution([-1, 1, -1, 1]))\n"
   ]
  },
  {
   "attachments": {
    "image.png": {
     "image/png": "[encoded data removed]"
    }
   },
   "cell_type": "markdown",
   "id": "0fcc7cd6",
   "metadata": {},
   "source": [
    "![image.png](attachment:image.png)"
   ]
  },
  {
   "cell_type": "code",
   "execution_count": null,
   "id": "77e540c6",
   "metadata": {},
   "outputs": [],
   "source": []
  }
 ],
 "metadata": {
  "kernelspec": {
   "display_name": "Python 3 (ipykernel)",
   "language": "python",
   "name": "python3"
  },
  "language_info": {
   "codemirror_mode": {
    "name": "ipython",
    "version": 3
   },
   "file_extension": ".py",
   "mimetype": "text/x-python",
   "name": "python",
   "nbconvert_exporter": "python",
   "pygments_lexer": "ipython3",
   "version": "3.9.12"
  }
 },
 "nbformat": 4,
 "nbformat_minor": 5
}
