{
 "cells": [
  {
   "cell_type": "markdown",
   "id": "c309543b",
   "metadata": {},
   "source": [
    "# LV1.\n",
    "\n",
    "나머지가 1이 되는 수 찾기\n",
    "\n",
    "https://school.programmers.co.kr/learn/courses/30/lessons/87389"
   ]
  },
  {
   "attachments": {
    "image.png": {
     "image/png": "[encoded data removed]"
    }
   },
   "cell_type": "markdown",
   "id": "32066fb2",
   "metadata": {},
   "source": [
    "**문제 설명**\n",
    "\n",
    "    자연수 n이 매개변수로 주어집니다. n을 x로 나눈 나머지가 1이 되도록 하는 가장 작은 자연수 x를 return 하도록 solution 함수를 완성해주세요. 답이 항상 존재함은 증명될 수 있습니다.\n",
    "\n",
    "**제한사항**\n",
    "\n",
    "    3 ≤ n ≤ 1,000,000\n",
    "\n",
    "**입출력 예**\n",
    "\n",
    "![image.png](attachment:image.png)\n",
    "\n",
    "**입출력 예 설명**\n",
    "\n",
    "    입출력 예 #1\n",
    "    10을 3으로 나눈 나머지가 1이고, 3보다 작은 자연수 중에서 문제의 조건을 만족하는 수가 없으므로, 3을 return 해야 합니다.\n",
    "\n",
    "    입출력 예 #2\n",
    "    12를 11로 나눈 나머지가 1이고, 11보다 작은 자연수 중에서 문제의 조건을 만족하는 수가 없으므로, 11을 return 해야 합니다."
   ]
  },
  {
   "cell_type": "code",
   "execution_count": 1,
   "id": "317b03b8",
   "metadata": {},
   "outputs": [],
   "source": [
    "def solution(n):\n",
    "    answer = 0\n",
    "    return answer"
   ]
  },
  {
   "cell_type": "code",
   "execution_count": null,
   "id": "ec20609f",
   "metadata": {},
   "outputs": [],
   "source": [
    "tmp = n-1\n"
   ]
  }
 ],
 "metadata": {
  "kernelspec": {
   "display_name": "Python 3 (ipykernel)",
   "language": "python",
   "name": "python3"
  },
  "language_info": {
   "codemirror_mode": {
    "name": "ipython",
    "version": 3
   },
   "file_extension": ".py",
   "mimetype": "text/x-python",
   "name": "python",
   "nbconvert_exporter": "python",
   "pygments_lexer": "ipython3",
   "version": "3.9.12"
  }
 },
 "nbformat": 4,
 "nbformat_minor": 5
}
