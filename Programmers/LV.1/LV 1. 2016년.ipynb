{
 "cells": [
  {
   "cell_type": "markdown",
   "id": "82acf937",
   "metadata": {},
   "source": [
    "# LV 1. \n",
    "\n",
    "2016년\n",
    "\n",
    "https://school.programmers.co.kr/learn/courses/30/lessons/12901"
   ]
  },
  {
   "attachments": {
    "image.png": {
     "image/png": "[encoded data removed]"
    }
   },
   "cell_type": "markdown",
   "id": "bbfd5049",
   "metadata": {},
   "source": [
    "**문제 설명**\n",
    "\n",
    "    2016년 1월 1일은 금요일입니다. 2016년 a월 b일은 무슨 요일일까요? 두 수 a ,b를 입력받아 2016년 a월 b일이 무슨 요일인지 리턴하는 함수, solution을 완성하세요. 요일의 이름은 일요일부터 토요일까지 각각 SUN,MON,TUE,WED,THU,FRI,SAT\n",
    "\n",
    "    입니다. 예를 들어 a=5, b=24라면 5월 24일은 화요일이므로 문자열 \"TUE\"를 반환하세요.\n",
    "    \n",
    "**제한 조건**\n",
    "\n",
    "    2016년은 윤년입니다.\n",
    "    2016년 a월 b일은 실제로 있는 날입니다. (13월 26일이나 2월 45일같은 날짜는 주어지지 않습니다)\n",
    "    \n",
    "**입출력 예**\n",
    "\n",
    "![image.png](attachment:image.png)"
   ]
  },
  {
   "cell_type": "code",
   "execution_count": 7,
   "id": "b2af4321",
   "metadata": {},
   "outputs": [],
   "source": [
    "def solution(a, b):\n",
    "    answer = 0\n",
    "    days = ['FRI','SAT','SUN','MON','TUE','WED','THU']\n",
    "    months = [31,29,31,30,31,30,31,31,30,31,30,31]\n",
    "    \n",
    "    for i in range(a-1):\n",
    "        answer += months[i]\n",
    "    answer+=b-1\n",
    "    return days[answer%7]"
   ]
  },
  {
   "cell_type": "code",
   "execution_count": 8,
   "id": "977d32c5",
   "metadata": {},
   "outputs": [
    {
     "name": "stdout",
     "output_type": "stream",
     "text": [
      "TUE\n"
     ]
    }
   ],
   "source": [
    "print(solution(5,24))"
   ]
  },
  {
   "cell_type": "code",
   "execution_count": null,
   "id": "3e80add1",
   "metadata": {},
   "outputs": [],
   "source": []
  },
  {
   "cell_type": "code",
   "execution_count": 3,
   "id": "11229d6a",
   "metadata": {},
   "outputs": [
    {
     "data": {
      "text/plain": [
       "'TUE'"
      ]
     },
     "execution_count": 3,
     "metadata": {},
     "output_type": "execute_result"
    }
   ],
   "source": [
    "a = 5\n",
    "b = 24\n",
    "answer= 0\n",
    "\n",
    "days = ['FRI','SAT','SUN','MON','TUE','WED','THU']\n",
    "months = [31,29,31,30,31,30,31,31,30,31,30,31]\n",
    "\n",
    "for i in range(a-1):\n",
    "    answer += months[i]\n",
    "    \n",
    "answer += b-1\n",
    "answer = days[answer%7]\n",
    "answer"
   ]
  },
  {
   "cell_type": "code",
   "execution_count": null,
   "id": "3831c348",
   "metadata": {},
   "outputs": [],
   "source": []
  },
  {
   "cell_type": "code",
   "execution_count": null,
   "id": "3b0b2b3b",
   "metadata": {},
   "outputs": [],
   "source": []
  }
 ],
 "metadata": {
  "kernelspec": {
   "display_name": "Python 3 (ipykernel)",
   "language": "python",
   "name": "python3"
  },
  "language_info": {
   "codemirror_mode": {
    "name": "ipython",
    "version": 3
   },
   "file_extension": ".py",
   "mimetype": "text/x-python",
   "name": "python",
   "nbconvert_exporter": "python",
   "pygments_lexer": "ipython3",
   "version": "3.9.12"
  }
 },
 "nbformat": 4,
 "nbformat_minor": 5
}
