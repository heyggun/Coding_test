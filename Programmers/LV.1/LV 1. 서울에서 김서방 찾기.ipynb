{
 "cells": [
  {
   "cell_type": "markdown",
   "id": "63beb0dd",
   "metadata": {},
   "source": [
    "## LV 1. \n",
    "\n",
    "서울에서 김서방 찾기\n",
    "\n",
    "https://school.programmers.co.kr/learn/courses/30/lessons/12919"
   ]
  },
  {
   "attachments": {
    "image-2.png": {
     "image/png": "[encoded data removed]"
    }
   },
   "cell_type": "markdown",
   "id": "d08dabec",
   "metadata": {},
   "source": [
    "**문제 설명**\n",
    "\n",
    "    String형 배열 seoul의 element중 \"Kim\"의 위치 x를 찾아, \"김서방은 x에 있다\"는 String을 반환하는 함수, solution을 완성하세요. seoul에 \"Kim\"은 오직 한 번만 나타나며 잘못된 값이 입력되는 경우는 없습니다.\n",
    "    \n",
    "**제한 사항**\n",
    "\n",
    "    seoul은 길이 1 이상, 1000 이하인 배열입니다.\n",
    "    seoul의 원소는 길이 1 이상, 20 이하인 문자열입니다.\n",
    "    \"Kim\"은 반드시 seoul 안에 포함되어 있습니다.\n",
    "    \n",
    "**입출력 예**\n",
    "\n",
    "![image-2.png](attachment:image-2.png)"
   ]
  },
  {
   "cell_type": "code",
   "execution_count": 9,
   "id": "a56db10a",
   "metadata": {},
   "outputs": [],
   "source": [
    "def solution(seoul):\n",
    "    answer = \"김서방은 \"+str(seoul.index('Kim'))+\"에 있다\"\n",
    "    return answer"
   ]
  },
  {
   "cell_type": "code",
   "execution_count": 10,
   "id": "e82da40b",
   "metadata": {},
   "outputs": [
    {
     "name": "stdout",
     "output_type": "stream",
     "text": [
      "김서방은 1에 있다\n"
     ]
    }
   ],
   "source": [
    "print(solution(['Jane','Kim']))"
   ]
  },
  {
   "cell_type": "code",
   "execution_count": null,
   "id": "dc4d4c83",
   "metadata": {},
   "outputs": [],
   "source": []
  },
  {
   "attachments": {
    "image.png": {
     "image/png": "[encoded data removed]"
    }
   },
   "cell_type": "markdown",
   "id": "e3c263e8",
   "metadata": {},
   "source": [
    "![image.png](attachment:image.png)"
   ]
  },
  {
   "cell_type": "code",
   "execution_count": null,
   "id": "ddb9d968",
   "metadata": {},
   "outputs": [],
   "source": []
  }
 ],
 "metadata": {
  "kernelspec": {
   "display_name": "Python 3 (ipykernel)",
   "language": "python",
   "name": "python3"
  },
  "language_info": {
   "codemirror_mode": {
    "name": "ipython",
    "version": 3
   },
   "file_extension": ".py",
   "mimetype": "text/x-python",
   "name": "python",
   "nbconvert_exporter": "python",
   "pygments_lexer": "ipython3",
   "version": "3.9.12"
  }
 },
 "nbformat": 4,
 "nbformat_minor": 5
}
