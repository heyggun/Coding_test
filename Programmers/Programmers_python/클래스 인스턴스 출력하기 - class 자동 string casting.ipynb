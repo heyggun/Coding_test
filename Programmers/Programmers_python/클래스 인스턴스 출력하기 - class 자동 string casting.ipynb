{
 "cells": [
  {
   "cell_type": "markdown",
   "id": "0e1829bf",
   "metadata": {},
   "source": [
    "## 파이썬을 파이썬 답게\n",
    "\n",
    "클래스 인스턴스 출력하기 - class의 자동 string casitng\n",
    "\n",
    "https://school.programmers.co.kr/learn/courses/4008/lessons/12837"
   ]
  },
  {
   "cell_type": "markdown",
   "id": "25e186d0",
   "metadata": {},
   "source": [
    "    - 인스턴스 출력 형식 지정\n",
    "    예) 2차원 평면 위의 점을 나타내는 Coord 클래스의 인스턴스를 (x값, y값)으로 출력"
   ]
  },
  {
   "cell_type": "code",
   "execution_count": 3,
   "id": "fde6d548",
   "metadata": {},
   "outputs": [
    {
     "name": "stdout",
     "output_type": "stream",
     "text": [
      "(1, 2)\n",
      "(1, 2\n"
     ]
    }
   ],
   "source": [
    "# 보통 클래스 바깥에 출력함수를 만들거나, print 문에서 format을 지정함\n",
    "\n",
    "class Coord(object):\n",
    "    def __init__(self, x, y):\n",
    "        self.x, self.y = x, y\n",
    "        \n",
    "point = Coord(1,2)\n",
    "print('({}, {})'.format(point.x, point.y))\n",
    "\n",
    "# 혹은\n",
    "\n",
    "def print_coord(coord):\n",
    "    print('({}, {}'.format(coord.x, coord.y))\n",
    "print_coord(point)"
   ]
  },
  {
   "cell_type": "code",
   "execution_count": null,
   "id": "9bda3acf",
   "metadata": {},
   "outputs": [],
   "source": []
  },
  {
   "cell_type": "markdown",
   "id": "2a9a654e",
   "metadata": {},
   "source": [
    "`파이썬을 파이썬 답게`\n",
    "\n",
    "- 파이썬에서는 `__str__` 메소드를 사용해 class 내부에서 출력 format 지정 가능"
   ]
  },
  {
   "cell_type": "code",
   "execution_count": 5,
   "id": "cbe3f784",
   "metadata": {},
   "outputs": [
    {
     "name": "stdout",
     "output_type": "stream",
     "text": [
      "(1,2)\n"
     ]
    }
   ],
   "source": [
    "class Coord(object):\n",
    "    def __init__(self, x, y):\n",
    "        self.x, self.y = x,y\n",
    "    def __str__(self):\n",
    "        return '({},{})'.format(self.x, self.y)\n",
    "    \n",
    "point = Coord(1,2)\n",
    "print(point)"
   ]
  },
  {
   "cell_type": "code",
   "execution_count": null,
   "id": "194ff2c9",
   "metadata": {},
   "outputs": [],
   "source": []
  }
 ],
 "metadata": {
  "kernelspec": {
   "display_name": "Python 3 (ipykernel)",
   "language": "python",
   "name": "python3"
  },
  "language_info": {
   "codemirror_mode": {
    "name": "ipython",
    "version": 3
   },
   "file_extension": ".py",
   "mimetype": "text/x-python",
   "name": "python",
   "nbconvert_exporter": "python",
   "pygments_lexer": "ipython3",
   "version": "3.9.12"
  }
 },
 "nbformat": 4,
 "nbformat_minor": 5
}
