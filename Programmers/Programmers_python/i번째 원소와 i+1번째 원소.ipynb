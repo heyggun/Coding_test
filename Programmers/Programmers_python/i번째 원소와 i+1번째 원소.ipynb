{
 "cells": [
  {
   "cell_type": "markdown",
   "id": "942d649e",
   "metadata": {},
   "source": [
    "## 파이썬을 파이썬답게\n",
    "\n",
    "i번째 원소와 i+1번째 원소\n",
    "\n",
    "https://school.programmers.co.kr/learn/courses/4008/lessons/72546"
   ]
  },
  {
   "attachments": {
    "image.png": {
     "image/png": "[encoded data removed]"
    }
   },
   "cell_type": "markdown",
   "id": "c9e59d44",
   "metadata": {},
   "source": [
    "**문제 설명**\n",
    "\n",
    "    숫자를 담은 리스트 mylist가 solution 함수의 파라미터로 주어집니다. solution 함수가 mylist의 i번째 원소와 i+1번째 원소의 차를 담은 일차원 리스트에 차례로 담아 리턴하도록 코드를 작성해주세요.\n",
    "\n",
    "    단, 마지막에 있는 원소는 (마지막+1)번째의 원소와의 차를 구할 수 없으니, 이 값은 구하지 않습니다.\n",
    "    \n",
    "**제한 조건**\n",
    "\n",
    "    mylist의 길이는 1 이상 100 이하인 자연수입니다.\n",
    "    mylist의 원소는 1 이상 100 이하인 자연수입니다.\n",
    "    \n",
    "**예시**\n",
    "\n",
    "![image.png](attachment:image.png)\n",
    "\n",
    "**설명**\n",
    "\n",
    "    83과 48의 차는 35입니다.\n",
    "    48과 13의 차는 35입니다.\n",
    "    13과 4의 차는 9입니다.\n",
    "    4와 71의 차는 67입니다.\n",
    "    71과 11의 차는 60입니다.\n",
    "    따라서 [35, 35, 9, 67, 60]를 리턴합니다."
   ]
  },
  {
   "cell_type": "code",
   "execution_count": 1,
   "id": "c87c78e4",
   "metadata": {},
   "outputs": [],
   "source": [
    "def solution(mylist):\n",
    "    answer = []\n",
    "    return answer"
   ]
  },
  {
   "cell_type": "code",
   "execution_count": 5,
   "id": "7c009200",
   "metadata": {},
   "outputs": [],
   "source": [
    "mylist = [83, 48, 13, 4, 71, 11]"
   ]
  },
  {
   "cell_type": "code",
   "execution_count": 8,
   "id": "a03b3559",
   "metadata": {},
   "outputs": [
    {
     "data": {
      "text/plain": [
       "[35, 35, 9, 67, 60]"
      ]
     },
     "execution_count": 8,
     "metadata": {},
     "output_type": "execute_result"
    }
   ],
   "source": [
    "[abs(mylist[idx] - mylist[idx+1]) for idx in range(len(mylist)-1)]"
   ]
  },
  {
   "cell_type": "code",
   "execution_count": null,
   "id": "3306fc0b",
   "metadata": {},
   "outputs": [],
   "source": []
  },
  {
   "cell_type": "code",
   "execution_count": null,
   "id": "472a5be4",
   "metadata": {},
   "outputs": [],
   "source": []
  },
  {
   "cell_type": "markdown",
   "id": "3a482270",
   "metadata": {},
   "source": [
    "`파이썬을 파이썬답게`"
   ]
  },
  {
   "cell_type": "markdown",
   "id": "1156e8f6",
   "metadata": {},
   "source": [
    "    - lambda 를 사용하자..."
   ]
  },
  {
   "cell_type": "code",
   "execution_count": 9,
   "id": "5ae2a91f",
   "metadata": {},
   "outputs": [
    {
     "name": "stdout",
     "output_type": "stream",
     "text": [
      "83 48\n",
      "48 13\n",
      "13 4\n",
      "4 71\n",
      "71 11\n"
     ]
    }
   ],
   "source": [
    "for a,b in zip(mylist, mylist[1:]):\n",
    "    print(a,b)"
   ]
  },
  {
   "cell_type": "code",
   "execution_count": 10,
   "id": "d0b37b92",
   "metadata": {},
   "outputs": [
    {
     "data": {
      "text/plain": [
       "[35, 35, 9, 67, 60]"
      ]
     },
     "execution_count": 10,
     "metadata": {},
     "output_type": "execute_result"
    }
   ],
   "source": [
    "list(map(lambda x: abs(x[0]- x[1]), zip(mylist, mylist[1:])))"
   ]
  },
  {
   "cell_type": "code",
   "execution_count": null,
   "id": "6bd53f93",
   "metadata": {},
   "outputs": [],
   "source": []
  }
 ],
 "metadata": {
  "kernelspec": {
   "display_name": "Python 3 (ipykernel)",
   "language": "python",
   "name": "python3"
  },
  "language_info": {
   "codemirror_mode": {
    "name": "ipython",
    "version": 3
   },
   "file_extension": ".py",
   "mimetype": "text/x-python",
   "name": "python",
   "nbconvert_exporter": "python",
   "pygments_lexer": "ipython3",
   "version": "3.9.12"
  }
 },
 "nbformat": 4,
 "nbformat_minor": 5
}
