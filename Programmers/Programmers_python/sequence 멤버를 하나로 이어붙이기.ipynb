{
 "cells": [
  {
   "cell_type": "markdown",
   "id": "83a0f97b",
   "metadata": {},
   "source": [
    "## 파이썬을 파이썬답게\n",
    "\n",
    "sequence 멤버를 하나로 이어붙이기\n",
    "\n",
    "https://school.programmers.co.kr/learn/courses/4008/lessons/13354"
   ]
  },
  {
   "cell_type": "markdown",
   "id": "196e6eb6",
   "metadata": {},
   "source": [
    "**문제 설명**\n",
    "\n",
    "    문자열 리스트 mylist를 입력받아, 이 리스트의 원소를 모두 이어붙인 문자열을 리턴하는 함수, solution을 만들어주세요. 예를 들어 mylist가 ['1', '100', '33'] 인 경우, solution 함수는 '110033'을 리턴하면 됩니다.\n",
    "    \n",
    "**제한 조건**\n",
    "\n",
    "    mylist의 길이는 100 이하인 자연수입니다.\n",
    "    mylist의 원소의 길이는 100 이하인 자연수입니다."
   ]
  },
  {
   "cell_type": "code",
   "execution_count": 10,
   "id": "cdbb57c4",
   "metadata": {},
   "outputs": [],
   "source": [
    "def solution(mylist):\n",
    "    return ''.join(mylist)"
   ]
  },
  {
   "cell_type": "code",
   "execution_count": 11,
   "id": "b50ef994",
   "metadata": {},
   "outputs": [
    {
     "name": "stdout",
     "output_type": "stream",
     "text": [
      "110033\n"
     ]
    }
   ],
   "source": [
    "print(solution(['1','100','33']))"
   ]
  },
  {
   "cell_type": "code",
   "execution_count": null,
   "id": "41e5d8be",
   "metadata": {},
   "outputs": [],
   "source": []
  }
 ],
 "metadata": {
  "kernelspec": {
   "display_name": "Python 3 (ipykernel)",
   "language": "python",
   "name": "python3"
  },
  "language_info": {
   "codemirror_mode": {
    "name": "ipython",
    "version": 3
   },
   "file_extension": ".py",
   "mimetype": "text/x-python",
   "name": "python",
   "nbconvert_exporter": "python",
   "pygments_lexer": "ipython3",
   "version": "3.9.6"
  }
 },
 "nbformat": 4,
 "nbformat_minor": 5
}
