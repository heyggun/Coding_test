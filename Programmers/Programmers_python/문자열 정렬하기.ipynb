{
 "cells": [
  {
   "cell_type": "markdown",
   "id": "7cec52ae",
   "metadata": {},
   "source": [
    "# 파이썬을 파이썬 답게\n",
    "\n",
    "문자열 정렬하기\n",
    "\n",
    "https://school.programmers.co.kr/learn/courses/4008/lessons/13326\n"
   ]
  },
  {
   "attachments": {
    "image-2.png": {
     "image/png": "[encoded data removed]"
    },
    "image.png": {
     "image/png": "[encoded data removed]"
    }
   },
   "cell_type": "markdown",
   "id": "defcd5b1",
   "metadata": {},
   "source": [
    "**문제 설명**\n",
    "\n",
    "    문자열 s와 자연수 n이 입력으로 주어집니다. 문자열 s를 좌측 / 가운데 / 우측 정렬한 길이 n인 문자열을 한 줄씩 프린트해보세요.\n",
    "\n",
    "**제한조건**\n",
    "\n",
    "    s의 길이는 n보다 작습니다.\n",
    "    (n - s의 길이)는 짝수입니다.\n",
    "    s는 알파벳과 숫자로만 이루어져 있으며, 공백 문자가 포함되어있지 않습니다.\n",
    "    \n",
    "**입력 예**\n",
    "\n",
    "![image.png](attachment:image.png)\n",
    "\n",
    "**출력 예**\n",
    "\n",
    "![image-2.png](attachment:image-2.png)"
   ]
  },
  {
   "cell_type": "code",
   "execution_count": 23,
   "id": "8939d372",
   "metadata": {},
   "outputs": [
    {
     "name": "stdout",
     "output_type": "stream",
     "text": [
      "abc 7\n",
      "    abc\n"
     ]
    }
   ],
   "source": [
    "s, n = input().strip().split(' ')\n",
    "n = int(n)\n",
    "answer = ''\n",
    "\n",
    "for i in range(n-len(s)):\n",
    "    answer += ' '\n",
    "answer += s\n",
    "print(answer)"
   ]
  },
  {
   "cell_type": "markdown",
   "id": "7432909f",
   "metadata": {},
   "source": [
    "`python을 python 답게`\n",
    "\n",
    "### `ljust, center, rjust`"
   ]
  },
  {
   "cell_type": "code",
   "execution_count": 24,
   "id": "ab9e1803",
   "metadata": {},
   "outputs": [
    {
     "name": "stdout",
     "output_type": "stream",
     "text": [
      "abc    \n",
      "  abc  \n",
      "    abc\n"
     ]
    }
   ],
   "source": [
    "s = 'abc'\n",
    "n = 7\n",
    "\n",
    "print(s.ljust(n))\n",
    "print(s.center(n))\n",
    "print(s.rjust(n))"
   ]
  },
  {
   "cell_type": "code",
   "execution_count": null,
   "id": "ba8a10fe",
   "metadata": {},
   "outputs": [],
   "source": []
  }
 ],
 "metadata": {
  "kernelspec": {
   "display_name": "Python 3 (ipykernel)",
   "language": "python",
   "name": "python3"
  },
  "language_info": {
   "codemirror_mode": {
    "name": "ipython",
    "version": 3
   },
   "file_extension": ".py",
   "mimetype": "text/x-python",
   "name": "python",
   "nbconvert_exporter": "python",
   "pygments_lexer": "ipython3",
   "version": "3.9.12"
  }
 },
 "nbformat": 4,
 "nbformat_minor": 5
}
