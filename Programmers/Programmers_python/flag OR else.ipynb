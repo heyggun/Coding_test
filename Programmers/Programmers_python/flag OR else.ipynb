{
 "cells": [
  {
   "cell_type": "markdown",
   "id": "696537af",
   "metadata": {},
   "source": [
    "## 파이썬을 파이썬 답게\n",
    "\n",
    "flag OR else\n",
    "\n",
    "https://school.programmers.co.kr/learn/courses/4008/lessons/66568"
   ]
  },
  {
   "attachments": {
    "image-2.png": {
     "image/png": "[encoded data removed]"
    },
    "image-3.png": {
     "image/png": "[encoded data removed]"
    },
    "image-4.png": {
     "image/png": "[encoded data removed]"
    },
    "image.png": {
     "image/png": "[encoded data removed]"
    }
   },
   "cell_type": "markdown",
   "id": "0bbaf9d1",
   "metadata": {},
   "source": [
    "**문제 설명**\n",
    "\n",
    "    본 문제에서는 자연수 5개가 주어집니다.\n",
    "\n",
    "    숫자를 차례로 곱해 나온 수가 제곱수1가 되면 found를 출력하고\n",
    "    모든 수를 곱해도 제곱수가 나오지 않았다면 not found를 출력하는\n",
    "    코드를 작성해주세요.\n",
    "    \n",
    "**예시 1**\n",
    "\n",
    "    <입력>\n",
    "    \n",
    "![image.png](attachment:image.png)\n",
    "\n",
    "    <출력>\n",
    "    \n",
    "![image-2.png](attachment:image-2.png)\n",
    "\n",
    "\n",
    "**설명**\n",
    "\n",
    "    수를 곱해나가면 2, 8, 16, 80, 80 이 나옵니다. 16은 4를 제곱해 나온 수이므로 이 수는 제곱수입니다. 따라서 found를 출력합니다.\n",
    "    \n",
    "    \n",
    "**예시 2**\n",
    "\n",
    "    <입력>\n",
    "    \n",
    "![image-3.png](attachment:image-3.png)\n",
    "\n",
    "    <출력>\n",
    "    \n",
    "![image-4.png](attachment:image-4.png)\n",
    "\n",
    "**설명**\n",
    "\n",
    "    수를 곱해나가면 5, 5, 10, 30, 30 이 나옵니다. 이중 어떤 수도 제곱 수가 아니므로 not found를 출력합니다.\n",
    "    \n",
    "    제곱수란 어떤 자연수를 제곱한 수입니다. 예를 들어 1, 4, 9, 16, 25, .. 등은 제곱수입니다. ↩"
   ]
  },
  {
   "cell_type": "code",
   "execution_count": 23,
   "id": "b873b7dc",
   "metadata": {},
   "outputs": [],
   "source": [
    "import math\n",
    "\n",
    "def solution(mylist):\n",
    "    multi = 1\n",
    "    \n",
    "    for number in mylist:\n",
    "        multi *=number\n",
    "        if math.sqrt(multi) == int(math.sqrt(multi)):\n",
    "            answer = 'found'\n",
    "            break\n",
    "    else:\n",
    "        answer= 'not found'\n",
    "    return answer"
   ]
  },
  {
   "cell_type": "code",
   "execution_count": 25,
   "id": "5ceaa39a",
   "metadata": {},
   "outputs": [
    {
     "name": "stdout",
     "output_type": "stream",
     "text": [
      "not found\n",
      "found\n"
     ]
    }
   ],
   "source": [
    "print(solution([5,1,2,3,1]))\n",
    "print(solution([2,4,2,5,1]))"
   ]
  },
  {
   "cell_type": "code",
   "execution_count": 28,
   "id": "bec7dc67",
   "metadata": {},
   "outputs": [
    {
     "data": {
      "text/plain": [
       "True"
      ]
     },
     "execution_count": 28,
     "metadata": {},
     "output_type": "execute_result"
    }
   ],
   "source": [
    "math.sqrt(16) == int(math.sqrt(16))"
   ]
  },
  {
   "cell_type": "code",
   "execution_count": null,
   "id": "9540b6b6",
   "metadata": {},
   "outputs": [],
   "source": []
  },
  {
   "cell_type": "code",
   "execution_count": 16,
   "id": "1e261b23",
   "metadata": {},
   "outputs": [
    {
     "name": "stdout",
     "output_type": "stream",
     "text": [
      "1\n",
      "4\n",
      "9\n",
      "16\n",
      "25\n",
      "found\n"
     ]
    }
   ],
   "source": [
    "import math\n",
    "\n",
    "numbers = [int(input()) for _ in range(5)]\n",
    "multi = 1\n",
    "\n",
    "for number in numbers:\n",
    "    multi*=number\n",
    "    \n",
    "    if math.sqrt(multi) == int(math.sqrt(multi)):\n",
    "        print('found')\n",
    "        break\n",
    "\n",
    "else:\n",
    "    print('not found')"
   ]
  },
  {
   "cell_type": "code",
   "execution_count": null,
   "id": "451d31ba",
   "metadata": {},
   "outputs": [],
   "source": []
  }
 ],
 "metadata": {
  "kernelspec": {
   "display_name": "Python 3 (ipykernel)",
   "language": "python",
   "name": "python3"
  },
  "language_info": {
   "codemirror_mode": {
    "name": "ipython",
    "version": 3
   },
   "file_extension": ".py",
   "mimetype": "text/x-python",
   "name": "python",
   "nbconvert_exporter": "python",
   "pygments_lexer": "ipython3",
   "version": "3.9.12"
  }
 },
 "nbformat": 4,
 "nbformat_minor": 5
}
