{
 "cells": [
  {
   "cell_type": "markdown",
   "id": "02e953eb",
   "metadata": {},
   "source": [
    "# 파이썬을 파이썬답게\n",
    "\n",
    "n진법으로 표기된 string을 10진법 숫자로 변환하기\n",
    "\n",
    "https://school.programmers.co.kr/learn/courses/4008/lessons/13168\n"
   ]
  },
  {
   "attachments": {
    "image.png": {
     "image/png": "[encoded data removed]"
    }
   },
   "cell_type": "markdown",
   "id": "8db7af6d",
   "metadata": {},
   "source": [
    "**문제 설명**\n",
    "\n",
    "    base 진법으로 표기된 숫자를 10진법 숫자 출력해보세요.\n",
    "    \n",
    "**입력 설명**\n",
    "\n",
    "    입력으로는 공백으로 구분된 숫자가 두 개 주어집니다.\n",
    "    첫 번째 숫자는 num을 나타내며, 두 번째 숫자는 base를 나타냅니다.\n",
    "    \n",
    "**출력 설명**\n",
    "\n",
    "    base 진법으로 표기된 num을 10진법 숫자로 출력해보세요.\n",
    "\n",
    "**제한 조건**\n",
    "\n",
    "    base는 10 이하인 자연수입니다.\n",
    "    num은 3000 이하인 자연수입니다.\n",
    "    \n",
    "**예시**\n",
    "\n",
    "![image.png](attachment:image.png)\n",
    "\n",
    "\n",
    "**입출력 예 설명**\n",
    "\n",
    "    입출력 예 1\n",
    "    3진법으로 표기된 12는 10진법으로 표현하면 5입니다. ( 1*3 + 2 )\n",
    "\n",
    "    입출력 예 2\n",
    "    5진법으로 표기된 444는 10진법으로 표현하면 124입니다. ( 4*5*5 + 4*5 + 4 )"
   ]
  },
  {
   "cell_type": "code",
   "execution_count": 5,
   "id": "17ba6c53",
   "metadata": {},
   "outputs": [
    {
     "name": "stdout",
     "output_type": "stream",
     "text": [
      "12 3\n",
      "5\n"
     ]
    }
   ],
   "source": [
    "num, base = map(int, input().strip().split(' '))\n",
    "\n",
    "print(int(str(num), base))"
   ]
  },
  {
   "cell_type": "code",
   "execution_count": 6,
   "id": "72246961",
   "metadata": {},
   "outputs": [
    {
     "name": "stdout",
     "output_type": "stream",
     "text": [
      "444 5\n",
      "124\n"
     ]
    }
   ],
   "source": [
    "num, base = map(int, input().strip().split(' '))\n",
    "\n",
    "print(int(str(num), base))"
   ]
  },
  {
   "cell_type": "code",
   "execution_count": null,
   "id": "79535cf9",
   "metadata": {},
   "outputs": [],
   "source": []
  },
  {
   "cell_type": "markdown",
   "id": "c097b698",
   "metadata": {},
   "source": [
    "`python을 python 답게`"
   ]
  },
  {
   "cell_type": "markdown",
   "id": "f0d248fd",
   "metadata": {},
   "source": [
    "    - 예를 들어 5진법으로 적힌 문자열 '3212'를 10진법으로 바꾸기"
   ]
  },
  {
   "cell_type": "code",
   "execution_count": 9,
   "id": "46719040",
   "metadata": {},
   "outputs": [
    {
     "data": {
      "text/plain": [
       "432"
      ]
     },
     "execution_count": 9,
     "metadata": {},
     "output_type": "execute_result"
    }
   ],
   "source": [
    "num = '3212'\n",
    "base = 5\n",
    "\n",
    "answer = int(num, base)\n",
    "answer"
   ]
  },
  {
   "cell_type": "code",
   "execution_count": null,
   "id": "6f507773",
   "metadata": {},
   "outputs": [],
   "source": []
  }
 ],
 "metadata": {
  "kernelspec": {
   "display_name": "Python 3 (ipykernel)",
   "language": "python",
   "name": "python3"
  },
  "language_info": {
   "codemirror_mode": {
    "name": "ipython",
    "version": 3
   },
   "file_extension": ".py",
   "mimetype": "text/x-python",
   "name": "python",
   "nbconvert_exporter": "python",
   "pygments_lexer": "ipython3",
   "version": "3.9.12"
  }
 },
 "nbformat": 4,
 "nbformat_minor": 5
}
