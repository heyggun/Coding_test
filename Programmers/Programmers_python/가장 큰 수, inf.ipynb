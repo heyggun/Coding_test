{
 "cells": [
  {
   "cell_type": "markdown",
   "id": "a2ae2305",
   "metadata": {},
   "source": [
    "## 파이썬을 파이썬 답게\n",
    "\n",
    "가장 큰 수, inf\n",
    "\n",
    "https://school.programmers.co.kr/learn/courses/4008/lessons/52865"
   ]
  },
  {
   "cell_type": "markdown",
   "id": "3d33dae2",
   "metadata": {},
   "source": [
    "    - 코딩 테스트 중, 최솟값을 저장하는 변수에 아주 가장 큰 값을 할당해야 할 때, 사용하기 좋은 `inf`"
   ]
  },
  {
   "cell_type": "code",
   "execution_count": 3,
   "id": "a51e0f14",
   "metadata": {},
   "outputs": [
    {
     "name": "stdout",
     "output_type": "stream",
     "text": [
      "inf\n",
      "True\n"
     ]
    }
   ],
   "source": [
    "max_val = float('inf')\n",
    "\n",
    "print(max_val)\n",
    "print(max_val>100000000000000000000000000000000000000000)"
   ]
  },
  {
   "cell_type": "code",
   "execution_count": 4,
   "id": "8bce12ff",
   "metadata": {},
   "outputs": [
    {
     "name": "stdout",
     "output_type": "stream",
     "text": [
      "-inf\n",
      "True\n"
     ]
    }
   ],
   "source": [
    "min_val = float('-inf')\n",
    "\n",
    "print(min_val)\n",
    "print(min_val < -10000000000000000000000000000000000000000000000000000000000000000000000000000000000000)"
   ]
  },
  {
   "cell_type": "code",
   "execution_count": null,
   "id": "cbe5d172",
   "metadata": {},
   "outputs": [],
   "source": []
  }
 ],
 "metadata": {
  "kernelspec": {
   "display_name": "Python 3 (ipykernel)",
   "language": "python",
   "name": "python3"
  },
  "language_info": {
   "codemirror_mode": {
    "name": "ipython",
    "version": 3
   },
   "file_extension": ".py",
   "mimetype": "text/x-python",
   "name": "python",
   "nbconvert_exporter": "python",
   "pygments_lexer": "ipython3",
   "version": "3.9.12"
  }
 },
 "nbformat": 4,
 "nbformat_minor": 5
}
