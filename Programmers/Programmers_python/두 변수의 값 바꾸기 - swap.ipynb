{
 "cells": [
  {
   "cell_type": "markdown",
   "id": "658bcb2c",
   "metadata": {},
   "source": [
    "## 파이썬을 파이썬 답게\n",
    "\n",
    "두 변수의 값 바꾸기\n",
    "\n",
    "https://school.programmers.co.kr/learn/courses/4008/lessons/12736"
   ]
  },
  {
   "cell_type": "markdown",
   "id": "2d24ae2b",
   "metadata": {},
   "source": [
    "    - 예시 a=3, b='abc'를 a='abc', b=3 으로 바꾸기"
   ]
  },
  {
   "cell_type": "code",
   "execution_count": 1,
   "id": "3d2cd892",
   "metadata": {},
   "outputs": [],
   "source": [
    "a=3\n",
    "b ='abc'\n",
    "\n",
    "a,b = b,a"
   ]
  },
  {
   "cell_type": "code",
   "execution_count": 2,
   "id": "c281cd68",
   "metadata": {},
   "outputs": [
    {
     "name": "stdout",
     "output_type": "stream",
     "text": [
      "abc\n",
      "3\n"
     ]
    }
   ],
   "source": [
    "print(a)\n",
    "\n",
    "print(b)"
   ]
  },
  {
   "cell_type": "code",
   "execution_count": null,
   "id": "44d93c84",
   "metadata": {},
   "outputs": [],
   "source": []
  }
 ],
 "metadata": {
  "kernelspec": {
   "display_name": "Python 3 (ipykernel)",
   "language": "python",
   "name": "python3"
  },
  "language_info": {
   "codemirror_mode": {
    "name": "ipython",
    "version": 3
   },
   "file_extension": ".py",
   "mimetype": "text/x-python",
   "name": "python",
   "nbconvert_exporter": "python",
   "pygments_lexer": "ipython3",
   "version": "3.9.12"
  }
 },
 "nbformat": 4,
 "nbformat_minor": 5
}
