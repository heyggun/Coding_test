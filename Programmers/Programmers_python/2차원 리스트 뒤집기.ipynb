{
 "cells": [
  {
   "cell_type": "markdown",
   "id": "2f363517",
   "metadata": {},
   "source": [
    "## 파이썬을 파이썬답게\n",
    "\n",
    "2차원 리스트 뒤집기\n",
    "\n",
    "https://school.programmers.co.kr/learn/courses/4008/lessons/13339"
   ]
  },
  {
   "cell_type": "markdown",
   "id": "33115b84",
   "metadata": {},
   "source": [
    "**문제 설명**\n",
    "\n",
    "    다음을 만족하는 함수, solution을 완성해주세요.\n",
    "\n",
    "    solution 함수는 이차원 리스트, mylist를 인자로 받습니다\n",
    "    solution 함수는 mylist 원소의 행과 열을 뒤집은 한 값을 리턴해야합니다.\n",
    "    예를 들어 mylist [[1, 2, 3], [4, 5, 6], [7, 8, 9]]가 주어진 경우, solution 함수는 [[1, 4, 7], [2, 5, 8], [3, 6, 9]] 을 리턴하면 됩니다.\n",
    "    \n",
    "**제한 조건**\n",
    "\n",
    "    mylist의 원소의 길이는 모두 같습니다.\n",
    "    mylist의 길이는 mylist[0]의 길이와 같습니다.\n",
    "    각 리스트의 길이는 100 이하인 자연수입니다."
   ]
  },
  {
   "cell_type": "code",
   "execution_count": 2,
   "id": "8f59be82",
   "metadata": {},
   "outputs": [],
   "source": [
    "mylist= [[1, 2, 3], [4, 5, 6], [7, 8, 9]]"
   ]
  },
  {
   "cell_type": "code",
   "execution_count": 7,
   "id": "f628e800",
   "metadata": {},
   "outputs": [
    {
     "data": {
      "text/plain": [
       "[[1, 4, 7], [2, 5, 8], [3, 6, 9]]"
      ]
     },
     "execution_count": 7,
     "metadata": {},
     "output_type": "execute_result"
    }
   ],
   "source": []
  },
  {
   "cell_type": "code",
   "execution_count": 8,
   "id": "2d9445ba",
   "metadata": {},
   "outputs": [],
   "source": [
    "def solution(mylist):\n",
    "    return [i for i in map(list, zip(*mylist))]"
   ]
  },
  {
   "cell_type": "code",
   "execution_count": 9,
   "id": "93641c8a",
   "metadata": {},
   "outputs": [
    {
     "name": "stdout",
     "output_type": "stream",
     "text": [
      "[[1, 4, 7], [2, 5, 8], [3, 6, 9]]\n"
     ]
    }
   ],
   "source": [
    "print(solution(mylist))"
   ]
  },
  {
   "cell_type": "code",
   "execution_count": null,
   "id": "5f29df1d",
   "metadata": {},
   "outputs": [],
   "source": []
  },
  {
   "cell_type": "markdown",
   "id": "d56e3cb7",
   "metadata": {},
   "source": [
    "`파이썬을 파이썬답게`"
   ]
  },
  {
   "cell_type": "code",
   "execution_count": 10,
   "id": "48fa6ef1",
   "metadata": {},
   "outputs": [
    {
     "data": {
      "text/plain": [
       "[[1, 4, 7], [2, 5, 8], [3, 6, 9]]"
      ]
     },
     "execution_count": 10,
     "metadata": {},
     "output_type": "execute_result"
    }
   ],
   "source": [
    "list(map(list, zip(*mylist)))"
   ]
  },
  {
   "cell_type": "code",
   "execution_count": null,
   "id": "d089f5f2",
   "metadata": {},
   "outputs": [],
   "source": []
  }
 ],
 "metadata": {
  "kernelspec": {
   "display_name": "Python 3 (ipykernel)",
   "language": "python",
   "name": "python3"
  },
  "language_info": {
   "codemirror_mode": {
    "name": "ipython",
    "version": 3
   },
   "file_extension": ".py",
   "mimetype": "text/x-python",
   "name": "python",
   "nbconvert_exporter": "python",
   "pygments_lexer": "ipython3",
   "version": "3.9.12"
  }
 },
 "nbformat": 4,
 "nbformat_minor": 5
}
