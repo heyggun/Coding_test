{
 "cells": [
  {
   "cell_type": "markdown",
   "id": "bb87b589",
   "metadata": {},
   "source": [
    "## 파이썬을 파이썬 답게\n",
    "\n",
    "flag 대신 for-else 사용하기\n",
    "\n",
    "https://school.programmers.co.kr/learn/courses/4008/lessons/66570"
   ]
  },
  {
   "cell_type": "code",
   "execution_count": 2,
   "id": "d15d1ac9",
   "metadata": {},
   "outputs": [
    {
     "name": "stdout",
     "output_type": "stream",
     "text": [
      "5\n",
      "4\n",
      "3\n",
      "2\n",
      "1\n",
      "not found\n"
     ]
    }
   ],
   "source": [
    "\n",
    "# 보통 대게 푸는 flag 변수를 이용하여 푸는 방법\n",
    "\n",
    "import math\n",
    "\n",
    "if __name__ == '__main__':\n",
    "    numbers = [int(input()) for _ in range(5)]\n",
    "    multiplied = 1\n",
    "    flag = True\n",
    "    \n",
    "    for number in numbers:\n",
    "        multiplied *= number\n",
    "        if math.sqrt(multiplied) == int(math.sqrt(multiplied)):\n",
    "            flog=False\n",
    "            print('found')\n",
    "            break\n",
    "\n",
    "    if flag:\n",
    "        print('not found')"
   ]
  },
  {
   "cell_type": "code",
   "execution_count": null,
   "id": "805f0f2f",
   "metadata": {},
   "outputs": [],
   "source": []
  },
  {
   "cell_type": "markdown",
   "id": "b3046977",
   "metadata": {},
   "source": [
    "`python을 python 답게`\n",
    "\n",
    "    파이썬에서는 for-else 문을 이용"
   ]
  },
  {
   "cell_type": "code",
   "execution_count": 3,
   "id": "9d256abc",
   "metadata": {},
   "outputs": [
    {
     "name": "stdout",
     "output_type": "stream",
     "text": [
      "5\n",
      "4\n",
      "3\n",
      "2\n",
      "1\n",
      "not found\n"
     ]
    }
   ],
   "source": [
    "import math\n",
    "\n",
    "if __name__ == '__main__':\n",
    "    numbers = [int(input()) for _ in range(5)]\n",
    "    multiplied= 1\n",
    "    for number in numbers:\n",
    "        multiplied *= number\n",
    "        if math.sqrt(multiplied) == int(math.sqrt(multiplied)):\n",
    "            print('found')\n",
    "            break\n",
    "    else:\n",
    "        print('not found')"
   ]
  },
  {
   "cell_type": "code",
   "execution_count": null,
   "id": "e6d13b04",
   "metadata": {},
   "outputs": [],
   "source": []
  }
 ],
 "metadata": {
  "kernelspec": {
   "display_name": "Python 3 (ipykernel)",
   "language": "python",
   "name": "python3"
  },
  "language_info": {
   "codemirror_mode": {
    "name": "ipython",
    "version": 3
   },
   "file_extension": ".py",
   "mimetype": "text/x-python",
   "name": "python",
   "nbconvert_exporter": "python",
   "pygments_lexer": "ipython3",
   "version": "3.9.12"
  }
 },
 "nbformat": 4,
 "nbformat_minor": 5
}
