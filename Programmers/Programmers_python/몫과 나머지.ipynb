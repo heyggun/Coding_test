{
 "cells": [
  {
   "cell_type": "markdown",
   "id": "9f0c35fc",
   "metadata": {},
   "source": [
    "# 파이썬을 파이썬 답게\n",
    "\n",
    "몫과 나머지\n",
    "\n",
    "https://school.programmers.co.kr/learn/courses/4008/lessons/13323"
   ]
  },
  {
   "attachments": {
    "image-2.png": {
     "image/png": "[encoded data removed]"
    },
    "image.png": {
     "image/png": "[encoded data removed]"
    }
   },
   "cell_type": "markdown",
   "id": "ec8a37ca",
   "metadata": {},
   "source": [
    "**문제 설명**\n",
    "\n",
    "    숫자 a, b가 주어졌을 때 a를 b로 나눈 몫과 a를 b로 나눈 나머지를 공백으로 구분해 출력해보세요.\n",
    "    \n",
    "**입력 설명**\n",
    "\n",
    "    입력으로는 공백으로 구분된 숫자가 두 개 주어집니다.\n",
    "    첫 번째 숫자는 a를 나타내며, 두 번째 숫자는 b를 나타냅니다.\n",
    "    \n",
    "**출력 설명**\n",
    "\n",
    "    a를 b로 나눈 몫과 a를 b로 나눈 나머지를 공백으로 구분해 출력하세요.\n",
    "    \n",
    "**제한 조건**\n",
    "\n",
    "    a와 b는 자연수입니다.\n",
    "\n",
    "\n",
    "**입력 예**\n",
    "\n",
    "![image.png](attachment:image.png)\n",
    "\n",
    "**출력 예**\n",
    "\n",
    "![image-2.png](attachment:image-2.png)"
   ]
  },
  {
   "cell_type": "code",
   "execution_count": 5,
   "id": "b64b9987",
   "metadata": {},
   "outputs": [
    {
     "name": "stdout",
     "output_type": "stream",
     "text": [
      "5 3\n",
      "1 2\n"
     ]
    }
   ],
   "source": [
    "a,b = input().split(' ')\n",
    "\n",
    "print(int(a)//int(b), int(a)%int(b))"
   ]
  },
  {
   "cell_type": "markdown",
   "id": "bef50622",
   "metadata": {},
   "source": [
    "    - python 처럼 풀기 위해서는.."
   ]
  },
  {
   "cell_type": "code",
   "execution_count": 9,
   "id": "a41dd112",
   "metadata": {},
   "outputs": [
    {
     "name": "stdout",
     "output_type": "stream",
     "text": [
      "5 3\n",
      "5 3\n"
     ]
    }
   ],
   "source": [
    "a, b= map(int, input().strip().split(' '))\n",
    "\n",
    "print(a, b)"
   ]
  },
  {
   "cell_type": "markdown",
   "id": "f0d35e2f",
   "metadata": {},
   "source": [
    "    - 몫이랑 나머지를 나누는 내장함수가 있는데 divmod 와 unpacking을 사용해서 코드를 짬"
   ]
  },
  {
   "cell_type": "code",
   "execution_count": 15,
   "id": "f695e555",
   "metadata": {},
   "outputs": [
    {
     "name": "stdout",
     "output_type": "stream",
     "text": [
      "(1, 2)\n",
      "1 2\n"
     ]
    }
   ],
   "source": [
    "print(divmod(5,3))\n",
    "print(*divmod(5,3))"
   ]
  },
  {
   "cell_type": "markdown",
   "id": "5b8c3365",
   "metadata": {},
   "source": [
    "    - 가독성이나 팀의 코드 스타일에 따라 a//b, a%b가 쓸 때가 좋을 수도 있으며,\n",
    "    작은 숫자를 다룰 때는 divmod가 a//b, a%b 보다는 느림. 그러나 큰 숫자를 사용할 때는 divmod가 좋음"
   ]
  },
  {
   "cell_type": "code",
   "execution_count": null,
   "id": "d60d968e",
   "metadata": {},
   "outputs": [],
   "source": []
  }
 ],
 "metadata": {
  "kernelspec": {
   "display_name": "Python 3 (ipykernel)",
   "language": "python",
   "name": "python3"
  },
  "language_info": {
   "codemirror_mode": {
    "name": "ipython",
    "version": 3
   },
   "file_extension": ".py",
   "mimetype": "text/x-python",
   "name": "python",
   "nbconvert_exporter": "python",
   "pygments_lexer": "ipython3",
   "version": "3.9.12"
  }
 },
 "nbformat": 4,
 "nbformat_minor": 5
}
