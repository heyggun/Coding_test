{
 "cells": [
  {
   "cell_type": "markdown",
   "id": "f5e33ca5",
   "metadata": {},
   "source": [
    "## 파이썬을 파이썬 답게\n",
    "\n",
    "이진 탐색하기 - binary search\n",
    "\n",
    "https://school.programmers.co.kr/learn/courses/4008/lessons/13173"
   ]
  },
  {
   "cell_type": "markdown",
   "id": "82e2168e",
   "metadata": {},
   "source": [
    "    - python의 이진 탐색 모듈 (bisect)"
   ]
  },
  {
   "cell_type": "code",
   "execution_count": 10,
   "id": "a69e4077",
   "metadata": {},
   "outputs": [
    {
     "name": "stdout",
     "output_type": "stream",
     "text": [
      "2\n",
      "6\n"
     ]
    }
   ],
   "source": [
    "# 직접 반복문을 만들어, 이진 탐색 알고리즘 구현\n",
    "\n",
    "\n",
    "def bisect(lst, x, lower=0, high=None):\n",
    "    if lower < 0:\n",
    "        raise ValueError('low must be non-negative')\n",
    "    if high is None:\n",
    "        high = len(lst)\n",
    "    \n",
    "    while lower < high:\n",
    "        mid = (lower+high)//2\n",
    "        if lst[mid] < x:\n",
    "            lower = mid+1\n",
    "        else:\n",
    "            high = mid\n",
    "            \n",
    "    return lower\n",
    "\n",
    "\n",
    "mylst = [1,2,3,7,9,11,33]\n",
    "\n",
    "print(bisect(mylst,3))\n",
    "print(bisect(mylst,33))"
   ]
  },
  {
   "cell_type": "code",
   "execution_count": null,
   "id": "72ed0dd5",
   "metadata": {},
   "outputs": [],
   "source": []
  },
  {
   "cell_type": "markdown",
   "id": "41558457",
   "metadata": {},
   "source": [
    "`python을 python 답게`\n",
    "\n"
   ]
  },
  {
   "cell_type": "code",
   "execution_count": 13,
   "id": "406ac168",
   "metadata": {},
   "outputs": [
    {
     "name": "stdout",
     "output_type": "stream",
     "text": [
      "3\n",
      "7\n"
     ]
    }
   ],
   "source": [
    "import bisect\n",
    "\n",
    "mylist = [1,2,3,7,9,11,33]\n",
    "print(bisect.bisect(mylist,3))\n",
    "print(bisect.bisect(mylist,33))"
   ]
  },
  {
   "cell_type": "code",
   "execution_count": null,
   "id": "deb90d8f",
   "metadata": {},
   "outputs": [],
   "source": []
  }
 ],
 "metadata": {
  "kernelspec": {
   "display_name": "Python 3 (ipykernel)",
   "language": "python",
   "name": "python3"
  },
  "language_info": {
   "codemirror_mode": {
    "name": "ipython",
    "version": 3
   },
   "file_extension": ".py",
   "mimetype": "text/x-python",
   "name": "python",
   "nbconvert_exporter": "python",
   "pygments_lexer": "ipython3",
   "version": "3.9.12"
  }
 },
 "nbformat": 4,
 "nbformat_minor": 5
}
