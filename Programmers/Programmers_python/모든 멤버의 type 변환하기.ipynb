{
 "cells": [
  {
   "cell_type": "markdown",
   "id": "ad3c8407",
   "metadata": {},
   "source": [
    "## 파이썬을 파이썬답게\n",
    "\n",
    "모든 멤버의 type 변환하기\n",
    "\n",
    "https://school.programmers.co.kr/learn/courses/4008/lessons/13328"
   ]
  },
  {
   "attachments": {
    "image.png": {
     "image/png": "[encoded data removed]"
    }
   },
   "cell_type": "markdown",
   "id": "249cc768",
   "metadata": {},
   "source": [
    "**문제 설명**\n",
    "\n",
    "    문자열 리스트 mylist를 입력받아, 이 리스트를 정수형 리스트로 바꾼 값을 리턴하는 함수, solution을 만들어주세요. 예를 들어 mylist가 ['1', '100', '33'] 인 경우, solution 함수는 [1, 100, 33] 을 리턴하면 됩니다.\n",
    "    \n",
    "**제한조건**\n",
    "\n",
    "    mylist의 길이는 100 이하인 자연수입니다.\n",
    "    mylist의 원소는 10진수 숫자로 표현할 수 있는 문자열입니다. 즉, 'as2' 와 같은 문자열은 들어있지 않습니다.\n",
    "    \n",
    "**예시**\n",
    "\n",
    "![image.png](attachment:image.png)"
   ]
  },
  {
   "cell_type": "code",
   "execution_count": 1,
   "id": "3f211455",
   "metadata": {},
   "outputs": [],
   "source": [
    "def solution(mylist):\n",
    "    answer = []\n",
    "    return answer"
   ]
  },
  {
   "cell_type": "code",
   "execution_count": 2,
   "id": "9608969a",
   "metadata": {},
   "outputs": [
    {
     "data": {
      "text/plain": [
       "[1, 100, 33]"
      ]
     },
     "execution_count": 2,
     "metadata": {},
     "output_type": "execute_result"
    }
   ],
   "source": [
    "mylist = ['1','100','33']\n",
    "\n",
    "list(map(int, mylist))"
   ]
  },
  {
   "cell_type": "code",
   "execution_count": null,
   "id": "c95b0da2",
   "metadata": {},
   "outputs": [],
   "source": []
  }
 ],
 "metadata": {
  "kernelspec": {
   "display_name": "Python 3 (ipykernel)",
   "language": "python",
   "name": "python3"
  },
  "language_info": {
   "codemirror_mode": {
    "name": "ipython",
    "version": 3
   },
   "file_extension": ".py",
   "mimetype": "text/x-python",
   "name": "python",
   "nbconvert_exporter": "python",
   "pygments_lexer": "ipython3",
   "version": "3.9.12"
  }
 },
 "nbformat": 4,
 "nbformat_minor": 5
}
