{
 "cells": [
  {
   "cell_type": "markdown",
   "id": "1b479e1f",
   "metadata": {},
   "source": [
    "## 파이썬을 파이썬답게\n",
    "\n",
    "for 문과 if문을 한번에\n",
    "\n",
    "https://school.programmers.co.kr/learn/courses/4008/lessons/48463"
   ]
  },
  {
   "cell_type": "markdown",
   "id": "610dce98",
   "metadata": {},
   "source": [
    "**문제 설명**\n",
    "\n",
    "    정수를 담은 리스트 mylist를 입력받아, 이 리스트의 원소 중 짝수인 값만을 제곱해 담은 새 리스트를 리턴하는 solution함수를 완성해주세요. 예를 들어, [3, 2, 6, 7]이 주어진 경우\n",
    "    3은 홀수이므로 무시합니다.\n",
    "    2는 짝수이므로 제곱합니다.\n",
    "    6은 짝수이므로 제곱합니다.\n",
    "    7은 홀수이므로 무시합니다.\n",
    "    따라서 2의 제곱과 6의 제곱을 담은 리스트인 [4, 36]을 리턴해야합니다.\n",
    "    \n",
    "**제한 조건**\n",
    "\n",
    "    mylist는 길이가 100이하인 배열입니다.\n",
    "    mylist의 원소는 1이상 100 이하인 정수입니다."
   ]
  },
  {
   "cell_type": "code",
   "execution_count": 4,
   "id": "ee37f2a1",
   "metadata": {},
   "outputs": [],
   "source": [
    "def solution(mylist):\n",
    "    return [num**2 for num in mylist if num%2==0]"
   ]
  },
  {
   "cell_type": "code",
   "execution_count": 5,
   "id": "2f9100d6",
   "metadata": {},
   "outputs": [
    {
     "name": "stdout",
     "output_type": "stream",
     "text": [
      "[4, 36]\n"
     ]
    }
   ],
   "source": [
    "print(solution([3,2,6,7]))"
   ]
  },
  {
   "cell_type": "code",
   "execution_count": null,
   "id": "c220faa1",
   "metadata": {},
   "outputs": [],
   "source": []
  }
 ],
 "metadata": {
  "kernelspec": {
   "display_name": "Python 3 (ipykernel)",
   "language": "python",
   "name": "python3"
  },
  "language_info": {
   "codemirror_mode": {
    "name": "ipython",
    "version": 3
   },
   "file_extension": ".py",
   "mimetype": "text/x-python",
   "name": "python",
   "nbconvert_exporter": "python",
   "pygments_lexer": "ipython3",
   "version": "3.9.13"
  }
 },
 "nbformat": 4,
 "nbformat_minor": 5
}
