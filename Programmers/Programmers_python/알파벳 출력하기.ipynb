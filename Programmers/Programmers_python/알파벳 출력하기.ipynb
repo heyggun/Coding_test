{
 "cells": [
  {
   "cell_type": "markdown",
   "id": "d7083225",
   "metadata": {},
   "source": [
    "# 파이썬을 파이썬답게\n",
    "\n",
    "알파벳 출력하기\n",
    "\n",
    "https://school.programmers.co.kr/learn/courses/4008/lessons/13340"
   ]
  },
  {
   "attachments": {
    "image-2.png": {
     "image/png": "[encoded data removed]"
    },
    "image-3.png": {
     "image/png": "[encoded data removed]"
    },
    "image-4.png": {
     "image/png": "[encoded data removed]"
    },
    "image.png": {
     "image/png": "[encoded data removed]"
    }
   },
   "cell_type": "markdown",
   "id": "663c6638",
   "metadata": {},
   "source": [
    "**문제 설명**\n",
    "\n",
    "입력으로 0이 주어지면 영문 소문자 알파벳을, 입력으로 1이 주어지면 영문 대문자 알파벳을 사전 순으로 출력하는 코드를 짜세요.\n",
    "\n",
    "**예시 1**\n",
    "\n",
    "    입력\n",
    "\n",
    "![image.png](attachment:image.png)\n",
    "\n",
    "    출력 \n",
    "\n",
    "![image-2.png](attachment:image-2.png)\n",
    "\n",
    "\n",
    "**예시 2**\n",
    "\n",
    "    입력\n",
    "\n",
    "![image-3.png](attachment:image-3.png)\n",
    "\n",
    "    출력\n",
    "    \n",
    "![image-4.png](attachment:image-4.png)    "
   ]
  },
  {
   "cell_type": "code",
   "execution_count": 3,
   "id": "2ed83de1",
   "metadata": {},
   "outputs": [
    {
     "name": "stdout",
     "output_type": "stream",
     "text": [
      "1\n",
      "ABCDEFGHIJKLMNOPQRSTUVWXYZ\n"
     ]
    }
   ],
   "source": [
    "import string\n",
    "\n",
    "num = int(input().strip())\n",
    "\n",
    "if num==0:\n",
    "    print(string.ascii_lowercase)\n",
    "    \n",
    "elif num==1:\n",
    "    print(string.ascii_uppercase)"
   ]
  },
  {
   "cell_type": "code",
   "execution_count": null,
   "id": "7b41ab84",
   "metadata": {},
   "outputs": [],
   "source": []
  },
  {
   "cell_type": "markdown",
   "id": "2dcb2535",
   "metadata": {},
   "source": [
    "`python을 python 답게`"
   ]
  },
  {
   "cell_type": "markdown",
   "id": "1910192a",
   "metadata": {},
   "source": [
    "    - 파이썬은 아래의 데이터를 상수(constants)로 정의 해둠"
   ]
  },
  {
   "cell_type": "code",
   "execution_count": 6,
   "id": "2518bcb5",
   "metadata": {},
   "outputs": [
    {
     "name": "stdout",
     "output_type": "stream",
     "text": [
      "abcdefghijklmnopqrstuvwxyz\n",
      "ABCDEFGHIJKLMNOPQRSTUVWXYZ\n",
      "abcdefghijklmnopqrstuvwxyzABCDEFGHIJKLMNOPQRSTUVWXYZ\n",
      "0123456789\n"
     ]
    }
   ],
   "source": [
    "print(string.ascii_lowercase)\n",
    "print(string.ascii_uppercase)\n",
    "print(string.ascii_letters)\n",
    "print(string.digits)"
   ]
  },
  {
   "cell_type": "code",
   "execution_count": null,
   "id": "8d6fa88f",
   "metadata": {},
   "outputs": [],
   "source": []
  }
 ],
 "metadata": {
  "kernelspec": {
   "display_name": "Python 3 (ipykernel)",
   "language": "python",
   "name": "python3"
  },
  "language_info": {
   "codemirror_mode": {
    "name": "ipython",
    "version": 3
   },
   "file_extension": ".py",
   "mimetype": "text/x-python",
   "name": "python",
   "nbconvert_exporter": "python",
   "pygments_lexer": "ipython3",
   "version": "3.9.12"
  }
 },
 "nbformat": 4,
 "nbformat_minor": 5
}
