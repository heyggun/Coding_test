{
 "cells": [
  {
   "cell_type": "markdown",
   "metadata": {},
   "source": [
    "**closer (클로저)**\n",
    "\n",
    "- 내부 함수와 외부 함수의 변수를 기억하고, 외부 함수가 종료 된 후에도 그 값을 계속 참조할 수 있도록 하는 기능"
   ]
  },
  {
   "cell_type": "code",
   "execution_count": 2,
   "metadata": {},
   "outputs": [
    {
     "name": "stdout",
     "output_type": "stream",
     "text": [
      "15\n"
     ]
    }
   ],
   "source": [
    "def outer_function(outer_variable): # 외부 함수\n",
    "    def inner_function(inner_variable): # 내부 함수\n",
    "        return outer_variable + inner_variable\n",
    "\n",
    "    return inner_function #내부 함수를 반환\n",
    "\n",
    "# 클로저 생성\n",
    "closure = outer_function(10) # outer_function의 반환 값은 inner_function\n",
    "\n",
    "# 클로저 호출\n",
    "result = closure(5)\n",
    "print(result)"
   ]
  },
  {
   "cell_type": "code",
   "execution_count": 4,
   "metadata": {},
   "outputs": [
    {
     "name": "stdout",
     "output_type": "stream",
     "text": [
      "10\n",
      "15\n"
     ]
    }
   ],
   "source": [
    "def make_multiplier(factor):\n",
    "    def multiplier(number):\n",
    "        return number * factor\n",
    "    return multiplier\n",
    "\n",
    "# 팩토리 함수 사용\n",
    "double = make_multiplier(2)\n",
    "triple = make_multiplier(3)\n",
    "\n",
    "print(double(5)) # 10\n",
    "print(triple(5)) # 15"
   ]
  },
  {
   "cell_type": "code",
   "execution_count": 6,
   "metadata": {},
   "outputs": [
    {
     "name": "stdout",
     "output_type": "stream",
     "text": [
      "Access denied\n",
      "Access granted\n"
     ]
    }
   ],
   "source": [
    "# 비밀번호 검증 시스템 (데이터 은닉과 상태 유지)\n",
    "# 클로저를 사용해 비밀번호 숨기고, 사용자가 올바른 비밀번호를 입력할 때만 접근할 수 있는 시스템 구현\n",
    "\n",
    "def password_manager(correct_password):\n",
    "    #상태 저장 함수\n",
    "    _password = correct_password\n",
    "    \n",
    "    def check_password(input_password):\n",
    "        if input_password == _password:\n",
    "            return \"Access granted\"\n",
    "        else:\n",
    "            return \"Access denied\"\n",
    "        \n",
    "    return check_password\n",
    "\n",
    "# 클로저 생성\n",
    "password_checker = password_manager(\"my_secure_password\")\n",
    "\n",
    "# 비밀번호 입력\n",
    "print(password_checker(\"wrong_password\"))\n",
    "print(password_checker(\"my_secure_password\"))"
   ]
  },
  {
   "cell_type": "code",
   "execution_count": 8,
   "metadata": {},
   "outputs": [
    {
     "name": "stdout",
     "output_type": "stream",
     "text": [
      "Deposited 500. New balance: 1500\n",
      "Withdrew 200. New balance: 1300\n",
      "Current balance: 1300\n",
      "Deposit amount must be positive\n",
      "Insufficient funds\n"
     ]
    }
   ],
   "source": [
    "# 은행 계좌 관리 시스템\n",
    "# 클로저를 사용해 은행 계좌의 잔액을 관리한다. (외부에서 직접 잔액에 접근할 수 없도록 하고, `deposit`과 `withdraw` 메서드를 통해서만 잔액을 변경한다)\n",
    "\n",
    "def bank_account(initial_balance):\n",
    "    balance= initial_balance\n",
    "    \n",
    "    def deposit(amount):\n",
    "        nonlocal balance\n",
    "        if amount > 0:\n",
    "            balance += amount\n",
    "            return f\"Deposited {amount}. New balance: {balance}\"\n",
    "        else:\n",
    "            return \"Deposit amount must be positive\"\n",
    "        \n",
    "    def withdraw(amount):\n",
    "        nonlocal balance\n",
    "        if amount >0 and amount <= balance:\n",
    "            balance -= amount\n",
    "            return f\"Withdrew {amount}. New balance: {balance}\"\n",
    "        elif amount > balance:\n",
    "            return \"Insufficient funds\"\n",
    "        else:\n",
    "            return \"Withdrawal amount must be positive\"\n",
    "        \n",
    "    \n",
    "    def get_balance():\n",
    "        return f\"Current balance: {balance}\"\n",
    "    \n",
    "    return deposit, withdraw, get_balance\n",
    "\n",
    "#은행 계좌 생성\n",
    "deposit, withdraw, get_balance = bank_account(1000)\n",
    "\n",
    "print(deposit(500))\n",
    "print(withdraw(200))\n",
    "print(get_balance())\n",
    "\n",
    "# 잘못된 입금/출금\n",
    "print(deposit(-100))\n",
    "print(withdraw(2000))\n",
    "        "
   ]
  },
  {
   "cell_type": "code",
   "execution_count": 9,
   "metadata": {},
   "outputs": [
    {
     "ename": "UnboundLocalError",
     "evalue": "cannot access local variable 'count' where it is not associated with a value",
     "output_type": "error",
     "traceback": [
      "\u001b[0;31m---------------------------------------------------------------------------\u001b[0m",
      "\u001b[0;31mUnboundLocalError\u001b[0m                         Traceback (most recent call last)",
      "\u001b[1;32m/Users/geonheekim/Desktop/python_interview/41-60.ipynb Cell 6\u001b[0m line \u001b[0;36m1\n\u001b[1;32m      <a href='vscode-notebook-cell:/Users/geonheekim/Desktop/python_interview/41-60.ipynb#W6sZmlsZQ%3D%3D?line=5'>6</a>\u001b[0m         \u001b[39mprint\u001b[39m(count)\n\u001b[1;32m      <a href='vscode-notebook-cell:/Users/geonheekim/Desktop/python_interview/41-60.ipynb#W6sZmlsZQ%3D%3D?line=7'>8</a>\u001b[0m     inner_function()\n\u001b[0;32m---> <a href='vscode-notebook-cell:/Users/geonheekim/Desktop/python_interview/41-60.ipynb#W6sZmlsZQ%3D%3D?line=9'>10</a>\u001b[0m outer_function()\n",
      "\u001b[1;32m/Users/geonheekim/Desktop/python_interview/41-60.ipynb Cell 6\u001b[0m line \u001b[0;36m8\n\u001b[1;32m      <a href='vscode-notebook-cell:/Users/geonheekim/Desktop/python_interview/41-60.ipynb#W6sZmlsZQ%3D%3D?line=4'>5</a>\u001b[0m     count \u001b[39m+\u001b[39m\u001b[39m=\u001b[39m\u001b[39m1\u001b[39m\n\u001b[1;32m      <a href='vscode-notebook-cell:/Users/geonheekim/Desktop/python_interview/41-60.ipynb#W6sZmlsZQ%3D%3D?line=5'>6</a>\u001b[0m     \u001b[39mprint\u001b[39m(count)\n\u001b[0;32m----> <a href='vscode-notebook-cell:/Users/geonheekim/Desktop/python_interview/41-60.ipynb#W6sZmlsZQ%3D%3D?line=7'>8</a>\u001b[0m inner_function()\n",
      "\u001b[1;32m/Users/geonheekim/Desktop/python_interview/41-60.ipynb Cell 6\u001b[0m line \u001b[0;36m5\n\u001b[1;32m      <a href='vscode-notebook-cell:/Users/geonheekim/Desktop/python_interview/41-60.ipynb#W6sZmlsZQ%3D%3D?line=3'>4</a>\u001b[0m \u001b[39mdef\u001b[39;00m\u001b[39m \u001b[39m\u001b[39minner_function\u001b[39m():\n\u001b[0;32m----> <a href='vscode-notebook-cell:/Users/geonheekim/Desktop/python_interview/41-60.ipynb#W6sZmlsZQ%3D%3D?line=4'>5</a>\u001b[0m     count \u001b[39m+\u001b[39m\u001b[39m=\u001b[39m\u001b[39m1\u001b[39m\n\u001b[1;32m      <a href='vscode-notebook-cell:/Users/geonheekim/Desktop/python_interview/41-60.ipynb#W6sZmlsZQ%3D%3D?line=5'>6</a>\u001b[0m     \u001b[39mprint\u001b[39m(count)\n",
      "\u001b[0;31mUnboundLocalError\u001b[0m: cannot access local variable 'count' where it is not associated with a value"
     ]
    }
   ],
   "source": [
    "def outer_function():\n",
    "    count = 0\n",
    "    \n",
    "    def inner_function():\n",
    "        count +=1\n",
    "        print(count)\n",
    "        \n",
    "    inner_function()\n",
    "    \n",
    "outer_function()"
   ]
  },
  {
   "cell_type": "code",
   "execution_count": 11,
   "metadata": {},
   "outputs": [
    {
     "name": "stdout",
     "output_type": "stream",
     "text": [
      "1\n"
     ]
    }
   ],
   "source": [
    "def outer_function():\n",
    "    count = 0\n",
    "    \n",
    "    def inner_function():\n",
    "        nonlocal count\n",
    "        count +=1\n",
    "        print(count)\n",
    "        \n",
    "    inner_function()\n",
    "    \n",
    "\n",
    "outer_function()\n",
    "        "
   ]
  },
  {
   "cell_type": "code",
   "execution_count": 12,
   "metadata": {},
   "outputs": [
    {
     "name": "stdout",
     "output_type": "stream",
     "text": [
      "1\n",
      "2\n",
      "1\n",
      "2\n"
     ]
    }
   ],
   "source": [
    "def counter():\n",
    "    count = 0 # 외부 함수의 상태\n",
    "    \n",
    "    def increment():\n",
    "        nonlocal count # 외부 함수 count 변수에 접근\n",
    "        count +=1\n",
    "        return count\n",
    "    \n",
    "    return increment\n",
    "\n",
    "counter1 = counter()\n",
    "counter2 = counter()\n",
    "\n",
    "print(counter1())\n",
    "print(counter1())\n",
    "print(counter2())\n",
    "print(counter2())"
   ]
  },
  {
   "cell_type": "markdown",
   "metadata": {},
   "source": [
    "**41. What is init method in python?**\n",
    "\n",
    "    init method is just like constructor in c++ and java.\n",
    "    But incase of c++ and java if we don't create a constructor the program creates one implicity.\n",
    "    Incase of python we have create init method explicity.\n",
    "\n",
    "    __init__ 메서드는 C++ 및 Java의 생성자(constructor)와 유사하다.\n",
    "    하지만 C++과 Java의 경우 생성자를 직접 만들지 않으면 프로그램이 암시적으로 생성자를 만들어 준다.\n",
    "    반면, Python에서는 __init__ 메서드를 명시적으로 작성해야 한다."
   ]
  },
  {
   "cell_type": "code",
   "execution_count": 13,
   "metadata": {},
   "outputs": [
    {
     "name": "stdout",
     "output_type": "stream",
     "text": [
      "10 20\n"
     ]
    }
   ],
   "source": [
    "class test:\n",
    "    def __init__(self):\n",
    "        self.a = 10\n",
    "        self.b = 20\n",
    "        \n",
    "t1 = test() # no need to prived the arguments\n",
    "print(t1.a, t1.b)"
   ]
  },
  {
   "cell_type": "markdown",
   "metadata": {},
   "source": [
    "**42. What are default arguments in functions?**\n",
    "\n",
    "    The arguments that are declared and assigned a value while creating a function are called default arguments\n",
    "    It is not allowed to have non-default arguments after default arguments.\n",
    "\n",
    "    함수를 생성할 때 선언되고 값이 할당된 인수를 기본 인수(default arguments)라고 한다.\n",
    "    기본 인수 이후에 비기본 인수(non-default arguments)를 두는 것은 허용되지 않는다."
   ]
  },
  {
   "cell_type": "code",
   "execution_count": 15,
   "metadata": {},
   "outputs": [
    {
     "name": "stdout",
     "output_type": "stream",
     "text": [
      "The addition is: 10\n"
     ]
    }
   ],
   "source": [
    "def add(a, b, c=5):\n",
    "    return a+b+c\n",
    "\n",
    "s = add(2,3)\n",
    "print(\"The addition is:\", s)\n"
   ]
  },
  {
   "cell_type": "markdown",
   "metadata": {},
   "source": [
    "**42. Extract int type values from a list of heterogeneous element(서로 다른 데이터 타입을 가진 요소)?**\n"
   ]
  },
  {
   "cell_type": "code",
   "execution_count": 16,
   "metadata": {},
   "outputs": [
    {
     "name": "stdout",
     "output_type": "stream",
     "text": [
      "['abc', 34.56, 32, (3+4j), 'b', 55, 65.7, '90', 180]\n",
      "[32, 55, 180]\n"
     ]
    }
   ],
   "source": [
    "list_1 = ['abc', 34.56, 32, 3+4j, 'b', 55, 65.7, '90', 180]\n",
    "print(list_1)\n",
    "\n",
    "list_2= []\n",
    "for e in list_1:\n",
    "    if type(e)==int:\n",
    "        list_2.append(e)\n",
    "        \n",
    "\n",
    "print(list_2)\n",
    "        \n",
    "        "
   ]
  },
  {
   "cell_type": "markdown",
   "metadata": {},
   "source": [
    "**44. Dose python support multiple inheritance?**\n",
    "\n",
    "    When a class inherits attributes from more than one class it is called multiple inheritance.\n",
    "    Python supports multiple inheritance.\n",
    "\n",
    "    클래스가 둘 이상의 클래스로부터 속성을 상속받는 것을 **다중 상속(Multiple Inheritance)**이라고 한다.\n",
    "    Python은 다중 상속을 지원한다."
   ]
  },
  {
   "cell_type": "code",
   "execution_count": 17,
   "metadata": {},
   "outputs": [],
   "source": [
    "class A1:\n",
    "    pass\n",
    "class A2:\n",
    "    pass\n",
    "class A3(A1, A2):\n",
    "    pass"
   ]
  },
  {
   "cell_type": "markdown",
   "metadata": {},
   "source": [
    "**42. What is monkey patching?**\n",
    "\n",
    "    - Monkey patching is replace a function object with a new function object, so that the function is now pointing to new function object. Mostly used when you want to replace a function for testing purpose.\n",
    "\n",
    "    **몽키 패칭(Monkey Patching)**이란, 기존 함수 객체를 새로운 함수 객체로 대체하여 해당 함수가 새로운 함수 객체를 가리키도록 만드는 것을 의미한다. 주로 테스트 목적 등에서 특정 함수를 대체할 때 사용된다."
   ]
  },
  {
   "cell_type": "code",
   "execution_count": 18,
   "metadata": {},
   "outputs": [
    {
     "name": "stdout",
     "output_type": "stream",
     "text": [
      "Before Monkey patching\n",
      "\n",
      "send code to fetch data from database\n",
      "send code to fetch data from database\n",
      "\n",
      "Afeter Monkey Patching\n",
      "\n",
      "Some to code fetch data from test data\n",
      "Some to code fetch data from test data\n"
     ]
    }
   ],
   "source": [
    "class Test:\n",
    "    def __init__(self, x):\n",
    "        self.a = x\n",
    "    \n",
    "    def get_data(self):\n",
    "        print(\"send code to fetch data from database\")\n",
    "        \n",
    "    def f1(self):\n",
    "        self.get_data()\n",
    "    \n",
    "    def f2(self):\n",
    "        self.get_data()\n",
    "        \n",
    "\n",
    "t1 = Test(4)\n",
    "print(\"Before Monkey patching\\n\")\n",
    "t1.f1()\n",
    "t1.f2()\n",
    "\n",
    "\n",
    "def get_new_data(self):\n",
    "    print(\"Some to code fetch data from test data\")\n",
    "    \n",
    "Test.get_data = get_new_data\n",
    "print(\"\\nAfeter Monkey Patching\\n\")\n",
    "\n",
    "t1.f1()\n",
    "t1.f2()"
   ]
  },
  {
   "cell_type": "markdown",
   "metadata": {},
   "source": [
    "**46. Accept a number user check whether it is prime or not**"
   ]
  },
  {
   "cell_type": "code",
   "execution_count": 19,
   "metadata": {},
   "outputs": [
    {
     "name": "stdout",
     "output_type": "stream",
     "text": [
      "number is prime\n"
     ]
    }
   ],
   "source": [
    "num = int(input(\"enter number\"))\n",
    "\n",
    "for i in range(2, num):\n",
    "    if num%i==0:\n",
    "        print(\"number is not prime\")\n",
    "        break\n",
    "else:\n",
    "    print(\"number is prime\")"
   ]
  },
  {
   "cell_type": "markdown",
   "metadata": {},
   "source": [
    "**47. Write a program to print the given number is odd or even**"
   ]
  },
  {
   "cell_type": "code",
   "execution_count": 20,
   "metadata": {},
   "outputs": [
    {
     "name": "stdout",
     "output_type": "stream",
     "text": [
      "Entered number 10 is even\n"
     ]
    }
   ],
   "source": [
    "num = int(input(\"Enter a number:\"))\n",
    "if num%2==0:\n",
    "    print(f\"Entered number {num} is even\")\n",
    "else:\n",
    "    print(f\"Entered number {num} is odd\")"
   ]
  },
  {
   "cell_type": "markdown",
   "metadata": {},
   "source": [
    "**48. Write a program to find the given number is positive or negative**"
   ]
  },
  {
   "cell_type": "code",
   "execution_count": 21,
   "metadata": {},
   "outputs": [
    {
     "name": "stdout",
     "output_type": "stream",
     "text": [
      "Number is positive\n"
     ]
    }
   ],
   "source": [
    "num = float(input(\"Enter a number:\"))\n",
    "\n",
    "if num > 0:\n",
    "    print(\"Number is positive\")\n",
    "elif num==0:\n",
    "    print(\"Number is zero\")\n",
    "    \n",
    "else:\n",
    "    print(\"Number is negative\")"
   ]
  },
  {
   "cell_type": "markdown",
   "metadata": {},
   "source": [
    "**49. Write a program to find the sum of two numbers**"
   ]
  },
  {
   "cell_type": "code",
   "execution_count": 23,
   "metadata": {},
   "outputs": [
    {
     "name": "stdout",
     "output_type": "stream",
     "text": [
      "num1 + num2 = 9999\n"
     ]
    }
   ],
   "source": [
    "num1 = int(input(\"Enter 1st number:\"))\n",
    "num2 = int(input(\"Enter 2nd number:\"))\n",
    "\n",
    "print(\"num1 + num2 =\", num1+num2)"
   ]
  },
  {
   "cell_type": "markdown",
   "metadata": {},
   "source": [
    "**50. write a program to find GCD of two numbers**\n",
    "\n",
    "    - 최대공약수 구하기\n",
    "    아래는 감산법(GCD). 유클리드 알고리즘 초기 형태로, 두 수 중 큰 수에서 작은 수를 빼는 것을 반복\n",
    "\n",
    "    [원리]\n",
    "    GCD(A,B) = GCD(A-B,B) (A>B)\n",
    "    두 수가 같아지면 그 값이 GCD\n",
    "\n",
    "    유클리드 호제법\n",
    "    GCD(A,B) = GCD(B,A%B)\n",
    "    나머지가 0이 될때 그 순간의 B값 \n"
   ]
  },
  {
   "cell_type": "code",
   "execution_count": null,
   "metadata": {},
   "outputs": [],
   "source": [
    "num1 = int(input(\"Enter 1st number:\"))\n",
    "num2 = int(input(\"Enter 2nd number:\"))\n",
    "\n",
    "def gcd(a,b):\n",
    "    if a==0 or a==b:\n",
    "        return b\n",
    "    elif b==0:\n",
    "        return a\n",
    "    elif a>b:\n",
    "        return gcd(a-b, b)\n",
    "    return gcd(a,b-a)\n",
    "\n",
    "\n",
    "gcd(num1, num2)"
   ]
  },
  {
   "cell_type": "code",
   "execution_count": 25,
   "metadata": {},
   "outputs": [
    {
     "data": {
      "text/plain": [
       "6"
      ]
     },
     "execution_count": 25,
     "metadata": {},
     "output_type": "execute_result"
    }
   ],
   "source": [
    "def gcd_2(a,b):\n",
    "    while b:\n",
    "        a, b = b, a%b\n",
    "    return a\n",
    "\n",
    "gcd_2(48, 18)"
   ]
  },
  {
   "cell_type": "code",
   "execution_count": 26,
   "metadata": {},
   "outputs": [
    {
     "data": {
      "text/plain": [
       "6"
      ]
     },
     "execution_count": 26,
     "metadata": {},
     "output_type": "execute_result"
    }
   ],
   "source": [
    "def gcd_3(a,b):\n",
    "    if b==0:\n",
    "        return a\n",
    "    return gcd(b, a%b)\n",
    "\n",
    "gcd_2(48, 18)"
   ]
  },
  {
   "cell_type": "markdown",
   "metadata": {},
   "source": [
    "**51. Write a program to print the following pattern**"
   ]
  },
  {
   "cell_type": "code",
   "execution_count": 27,
   "metadata": {},
   "outputs": [
    {
     "name": "stdout",
     "output_type": "stream",
     "text": [
      "* \n",
      "* * \n",
      "* * * \n",
      "* * * * \n",
      "* * * * * \n"
     ]
    }
   ],
   "source": [
    "s = int(input(\"Enter a number\"))\n",
    "for i in range(1, s+1):\n",
    "    print(\"* \"*i)\n",
    "    i+=1"
   ]
  },
  {
   "cell_type": "markdown",
   "metadata": {},
   "source": [
    "**52. Write a program to print the following pattern**"
   ]
  },
  {
   "cell_type": "code",
   "execution_count": 28,
   "metadata": {},
   "outputs": [
    {
     "name": "stdout",
     "output_type": "stream",
     "text": [
      "1 \n",
      "1 2 \n",
      "1 2 3 \n",
      "1 2 3 4 \n",
      "1 2 3 4 5 \n"
     ]
    }
   ],
   "source": [
    "s = int(input(\"Enter a number\"))\n",
    "for i in range(1, s+1):\n",
    "    for j in range(1, i+1):\n",
    "        print(j, end= \" \")\n",
    "        \n",
    "    print()\n",
    "    i+=1"
   ]
  },
  {
   "cell_type": "markdown",
   "metadata": {},
   "source": [
    "**53. Write a program to print the follwing patttern**"
   ]
  },
  {
   "cell_type": "code",
   "execution_count": 29,
   "metadata": {},
   "outputs": [
    {
     "name": "stdout",
     "output_type": "stream",
     "text": [
      "1 \n",
      "2 3 \n",
      "4 5 6 \n",
      "7 8 9 10 \n",
      "11 12 13 14 15 \n",
      "1 \n",
      "2 3 \n",
      "4 5 6 \n",
      "7 8 9 10 \n",
      "11 12 13 14 15 \n"
     ]
    }
   ],
   "source": [
    "def tri(n):\n",
    "    num=1\n",
    "    for i in range(0,n):\n",
    "        for j in range(0, i+1):\n",
    "            print(num, end= \" \")\n",
    "            num+=1\n",
    "        print()\n",
    "        \n",
    "tri(5)\n",
    "\n",
    "# or\n",
    "\n",
    "s = int(input(\"Enter a number: \"))\n",
    "p = 1\n",
    "for i in range(1,s+1):\n",
    "    for j in range(1, i+1):\n",
    "        print(p, end=\" \")\n",
    "        p+=1\n",
    "    print()\n",
    "    i+=1"
   ]
  },
  {
   "cell_type": "markdown",
   "metadata": {},
   "source": [
    "**52. Write a program to print the folloinwg pattern**"
   ]
  },
  {
   "cell_type": "code",
   "execution_count": 44,
   "metadata": {},
   "outputs": [
    {
     "name": "stdout",
     "output_type": "stream",
     "text": [
      "A \n",
      "B B \n",
      "C C C \n",
      "D D D D \n",
      "E E E E E \n"
     ]
    }
   ],
   "source": [
    "def alpha(n):\n",
    "    p = 65\n",
    "    for i in range(n):\n",
    "        for j in range(i+1):\n",
    "            char = chr(p)\n",
    "            print(char, end= \" \")\n",
    "        p+=1\n",
    "        print()\n",
    "alpha(5)"
   ]
  },
  {
   "cell_type": "code",
   "execution_count": 32,
   "metadata": {},
   "outputs": [
    {
     "data": {
      "text/plain": [
       "65"
      ]
     },
     "execution_count": 32,
     "metadata": {},
     "output_type": "execute_result"
    }
   ],
   "source": []
  },
  {
   "cell_type": "code",
   "execution_count": null,
   "metadata": {},
   "outputs": [],
   "source": []
  },
  {
   "cell_type": "code",
   "execution_count": null,
   "metadata": {},
   "outputs": [],
   "source": []
  },
  {
   "cell_type": "code",
   "execution_count": null,
   "metadata": {},
   "outputs": [],
   "source": []
  }
 ],
 "metadata": {
  "kernelspec": {
   "display_name": "venv",
   "language": "python",
   "name": "python3"
  },
  "language_info": {
   "codemirror_mode": {
    "name": "ipython",
    "version": 3
   },
   "file_extension": ".py",
   "mimetype": "text/x-python",
   "name": "python",
   "nbconvert_exporter": "python",
   "pygments_lexer": "ipython3",
   "version": "3.11.1"
  }
 },
 "nbformat": 4,
 "nbformat_minor": 2
}
