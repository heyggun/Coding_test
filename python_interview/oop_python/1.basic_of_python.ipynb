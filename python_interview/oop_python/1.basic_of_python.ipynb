{
 "cells": [
  {
   "cell_type": "markdown",
   "metadata": {},
   "source": [
    "### python Output"
   ]
  },
  {
   "cell_type": "code",
   "execution_count": 1,
   "metadata": {},
   "outputs": [
    {
     "name": "stdout",
     "output_type": "stream",
     "text": [
      "Hello World\n"
     ]
    }
   ],
   "source": [
    "print('Hello World')"
   ]
  },
  {
   "cell_type": "code",
   "execution_count": 2,
   "metadata": {},
   "outputs": [
    {
     "ename": "NameError",
     "evalue": "name 'hey' is not defined",
     "output_type": "error",
     "traceback": [
      "\u001b[0;31m---------------------------------------------------------------------------\u001b[0m",
      "\u001b[0;31mNameError\u001b[0m                                 Traceback (most recent call last)",
      "\u001b[1;32m/Users/geonheekim/Desktop/python_interview/oop/basic_of_python.ipynb Cell 3\u001b[0m line \u001b[0;36m1\n\u001b[0;32m----> <a href='vscode-notebook-cell:/Users/geonheekim/Desktop/python_interview/oop/basic_of_python.ipynb#W4sZmlsZQ%3D%3D?line=0'>1</a>\u001b[0m \u001b[39mprint\u001b[39m(hey)\n",
      "\u001b[0;31mNameError\u001b[0m: name 'hey' is not defined"
     ]
    }
   ],
   "source": [
    "print(hey)"
   ]
  },
  {
   "cell_type": "code",
   "execution_count": 3,
   "metadata": {},
   "outputs": [
    {
     "name": "stdout",
     "output_type": "stream",
     "text": [
      "7\n"
     ]
    }
   ],
   "source": [
    "print(7)"
   ]
  },
  {
   "cell_type": "code",
   "execution_count": 4,
   "metadata": {},
   "outputs": [
    {
     "name": "stdout",
     "output_type": "stream",
     "text": [
      "True\n"
     ]
    }
   ],
   "source": [
    "print(True)"
   ]
  },
  {
   "cell_type": "code",
   "execution_count": 5,
   "metadata": {},
   "outputs": [
    {
     "name": "stdout",
     "output_type": "stream",
     "text": [
      "Hello 3 4 5 True\n"
     ]
    }
   ],
   "source": [
    "print('Hello', 3,4,5, True)"
   ]
  },
  {
   "cell_type": "code",
   "execution_count": 6,
   "metadata": {},
   "outputs": [
    {
     "name": "stdout",
     "output_type": "stream",
     "text": [
      "Hello/3/4/5/True\n"
     ]
    }
   ],
   "source": [
    "print('Hello', 3,4,5, True, sep='/')"
   ]
  },
  {
   "cell_type": "code",
   "execution_count": 7,
   "metadata": {},
   "outputs": [
    {
     "name": "stdout",
     "output_type": "stream",
     "text": [
      "hello\n",
      "world\n"
     ]
    }
   ],
   "source": [
    "print('hello')\n",
    "print('world')"
   ]
  },
  {
   "cell_type": "code",
   "execution_count": 9,
   "metadata": {},
   "outputs": [
    {
     "name": "stdout",
     "output_type": "stream",
     "text": [
      "you=me\n"
     ]
    }
   ],
   "source": [
    "print('you',end='=')\n",
    "print ('me')"
   ]
  },
  {
   "cell_type": "code",
   "execution_count": 10,
   "metadata": {},
   "outputs": [
    {
     "name": "stdout",
     "output_type": "stream",
     "text": [
      "me\n"
     ]
    }
   ],
   "source": [
    "print ('me')"
   ]
  },
  {
   "cell_type": "code",
   "execution_count": 11,
   "metadata": {},
   "outputs": [
    {
     "name": "stdout",
     "output_type": "stream",
     "text": [
      "you="
     ]
    }
   ],
   "source": [
    "print('you', end='=')"
   ]
  },
  {
   "cell_type": "code",
   "execution_count": null,
   "metadata": {},
   "outputs": [],
   "source": []
  },
  {
   "cell_type": "code",
   "execution_count": null,
   "metadata": {},
   "outputs": [],
   "source": []
  },
  {
   "cell_type": "markdown",
   "metadata": {},
   "source": [
    "### Data Types"
   ]
  },
  {
   "cell_type": "markdown",
   "metadata": {},
   "source": [
    "**1. Integer**"
   ]
  },
  {
   "cell_type": "code",
   "execution_count": 1,
   "metadata": {},
   "outputs": [
    {
     "name": "stdout",
     "output_type": "stream",
     "text": [
      "8\n"
     ]
    }
   ],
   "source": [
    "print(8)"
   ]
  },
  {
   "cell_type": "markdown",
   "metadata": {},
   "source": [
    "**2. Float(Decimal)**"
   ]
  },
  {
   "cell_type": "code",
   "execution_count": 2,
   "metadata": {},
   "outputs": [
    {
     "name": "stdout",
     "output_type": "stream",
     "text": [
      "8.44\n"
     ]
    }
   ],
   "source": [
    "print(8.44)"
   ]
  },
  {
   "cell_type": "markdown",
   "metadata": {},
   "source": [
    "**3. Boolean**"
   ]
  },
  {
   "cell_type": "code",
   "execution_count": 3,
   "metadata": {},
   "outputs": [
    {
     "name": "stdout",
     "output_type": "stream",
     "text": [
      "True\n",
      "False\n"
     ]
    }
   ],
   "source": [
    "print(True)\n",
    "print(False)"
   ]
  },
  {
   "cell_type": "markdown",
   "metadata": {},
   "source": [
    "**4. String(Text)**"
   ]
  },
  {
   "cell_type": "code",
   "execution_count": 4,
   "metadata": {},
   "outputs": [
    {
     "name": "stdout",
     "output_type": "stream",
     "text": [
      "Hello gem\n"
     ]
    }
   ],
   "source": [
    "print('Hello gem')"
   ]
  },
  {
   "cell_type": "markdown",
   "metadata": {},
   "source": [
    "**5. Complex**"
   ]
  },
  {
   "cell_type": "code",
   "execution_count": 5,
   "metadata": {},
   "outputs": [
    {
     "name": "stdout",
     "output_type": "stream",
     "text": [
      "(5+6j)\n"
     ]
    }
   ],
   "source": [
    "print(5+6j)"
   ]
  },
  {
   "cell_type": "markdown",
   "metadata": {},
   "source": [
    "**6. List**\n",
    "\n",
    "        - Python에서 list은 value 컬렉션을 저장하는 데 사용되는 데이터 유형\n",
    "        - 내장된 데이터 유형 중 하나이며 sequence 유형으로 분류됨\n",
    "        - list 은 정렬되고 변경 가능하며(즉, 내용을 변경할 수 있음) \n",
    "        - 정수, 실수, 문자열 또는 다른 목록을 포함하여 다양한 데이터 유형의 요소를 포함할 수 있음\n",
    "        - Python에서 쉼표로 구분된 값 시퀀스를 대괄호 [ ]로 묶어 목록을 만들 수 있음"
   ]
  },
  {
   "cell_type": "code",
   "execution_count": 6,
   "metadata": {},
   "outputs": [
    {
     "name": "stdout",
     "output_type": "stream",
     "text": [
      "[1, 2, 3, 4]\n"
     ]
    }
   ],
   "source": [
    "print([1,2,3,4])"
   ]
  },
  {
   "cell_type": "markdown",
   "metadata": {},
   "source": [
    "**7. Tuple**\n",
    "\n",
    "    - Python에서 튜플은 리스트와 비슷한 값의 컬렉션을 저장하는 데 사용되는 또 다른 데이터 유형이다.\n",
    "    - 그러나 튜플과 리스트 사이에는 몇 가지 주요 차이점이 있다. \n",
    "\n",
    "    (1) Immutable(불변성): 가장 중요한 차이점은 튜플이 불변이라는 것. 즉, 튜플을 만든 후에는 내용을 변경할 수 없다(요소 추가, 제거 또는 수정).\n",
    "    반면 리스트는 가변적(mutable)이며 생성 후에 수정할 수 있다.\n",
    "    (2) Syntax(구문): 튜플은 쉼표로 구분된 값 시퀀스를 괄호 ()로 묶어서 만든다.\n",
    "    리스트는 대괄호 []로 만든다.\n",
    "    (3) Performance(성능): 불변성으로 인해 튜플은 특정 사용 사례에서 메모리와 성능 측면에서 리스트에 비해 더 효율적일 수 있다.\n",
    "    튜플은 프로그램 진행 중에 변경해서는 안 되는 값의 컬렉션이 있을 때 자주 사용된다.\n",
    "    예를 들어, 튜플을 사용하여 좌표(x, y), 날짜(년, 월, 일) 또는 개별 구성 요소가 일정하게 유지되어야 하는 다른 데이터를 나타낼 수 있다."
   ]
  },
  {
   "cell_type": "code",
   "execution_count": 7,
   "metadata": {},
   "outputs": [
    {
     "name": "stdout",
     "output_type": "stream",
     "text": [
      "(1, 2, 3, 4)\n"
     ]
    }
   ],
   "source": [
    "print((1,2,3,4))"
   ]
  },
  {
   "cell_type": "markdown",
   "metadata": {},
   "source": [
    "**8. Sets**\n",
    "\n",
    "    - Python에서 set(집합)은 고유한 요소의 순서 없는 컬렉션을 저장하는 데 사용되는 내장 데이터 유형이다.\n",
    "    - 집합은 값의 쉼표로 구분된 시퀀스를 중괄호 {}로 묶거나 내장 set() 생성자를 사용하여 정의한다.\n",
    "    - 집합은 중복된 값을 자동으로 제거하여 각 요소가 집합 내에서 고유하도록 한다. "
   ]
  },
  {
   "cell_type": "code",
   "execution_count": 8,
   "metadata": {},
   "outputs": [
    {
     "name": "stdout",
     "output_type": "stream",
     "text": [
      "{1, 2, 3, 4, 5}\n"
     ]
    }
   ],
   "source": [
    "print({1,2,3,4,5})"
   ]
  },
  {
   "cell_type": "code",
   "execution_count": 9,
   "metadata": {},
   "outputs": [
    {
     "name": "stdout",
     "output_type": "stream",
     "text": [
      "{1, 2, 3, 4, 5}\n"
     ]
    }
   ],
   "source": [
    "print({1,2,3,3,4,5,5})"
   ]
  },
  {
   "cell_type": "markdown",
   "metadata": {},
   "source": [
    "**9. Dictionary**\n",
    "\n",
    "    - 파이썬에서 dictionary은 키-값(key-value) 쌍의 컬렉션을 저장하는 데 사용되는 내장 데이터 유형이다.\n",
    "    - dictionary의 각 key는 특정 value에 매핑되어 이들 간의 관계를 만든다.\n",
    "    - dictoinary은 다른 프로그래밍 언어에서는 associative arrays 또는 hash maps이라고도 합니다."
   ]
  },
  {
   "cell_type": "code",
   "execution_count": 11,
   "metadata": {},
   "outputs": [
    {
     "name": "stdout",
     "output_type": "stream",
     "text": [
      "{'name': 'Nitish', 'gender': 'Male', 'weight': 70}\n"
     ]
    }
   ],
   "source": [
    "print({\"name\":\"Nitish\", \"gender\":\"Male\", \"weight\":70})"
   ]
  },
  {
   "cell_type": "markdown",
   "metadata": {},
   "source": [
    "**How to know which type of Datatype is?**"
   ]
  },
  {
   "cell_type": "code",
   "execution_count": 12,
   "metadata": {},
   "outputs": [
    {
     "data": {
      "text/plain": [
       "list"
      ]
     },
     "execution_count": 12,
     "metadata": {},
     "output_type": "execute_result"
    }
   ],
   "source": [
    "type([1,2,3,4])"
   ]
  },
  {
   "cell_type": "code",
   "execution_count": 13,
   "metadata": {},
   "outputs": [
    {
     "data": {
      "text/plain": [
       "dict"
      ]
     },
     "execution_count": 13,
     "metadata": {},
     "output_type": "execute_result"
    }
   ],
   "source": [
    "type({\"age\":20})"
   ]
  },
  {
   "cell_type": "markdown",
   "metadata": {},
   "source": [
    "### 3. Variables\n",
    "\n",
    "    - Python에서 Variables(변수)는 데이터 값을 저장하는 데 사용된다.\n",
    "    이러한 값은 numbers(숫자), strings(문자열), lists(목록), dictionaries(사전) 또는 other data type(기타 모든 데이터 유형)일 수 있다.\n",
    "    - 변수는 프로그램에서 데이터를 조작하고 작업하는 데 필수적이다. \n",
    "    -  Python에서 변수를 선언하고 사용하는 방법은 다음과 같다. \n",
    "        * 변수 선언: 할당 연산자 '='를 사용하여 값을 할당하여 변수를 선언합니다.\n",
    "        * 변수 이름: 변수 이름(식별자라고도 함)은 다음 규칙을 따라야 한다.\n",
    "            # 문자(a-z, A-Z), 숫자(0-9), 밑줄(_)을 포함할 수 있다.\n",
    "            # 숫자로 시작할 수 없다.\n",
    "            # 변수 이름은 대소문자를 구분하므로 myVar와 myvar는 다른 변수로 처리된다.\n",
    "            # Python에는 변수 이름으로 사용할 수 없는 예약 키워드(예: if, for, while, print)가 있다.\n",
    "\n",
    "    - 데이터 유형: Python은 동적으로 입력되므로 변수의 데이터 유형을 명시적으로 선언할 필요가 없다.\n",
    "    Python은 할당된 값에 따라 자동으로 데이터 유형을 결정합니다."
   ]
  },
  {
   "cell_type": "code",
   "execution_count": 14,
   "metadata": {},
   "outputs": [],
   "source": [
    "x =5\n",
    "name = \"Alice\""
   ]
  },
  {
   "cell_type": "markdown",
   "metadata": {},
   "source": [
    "**Reassignment(재할당): 변수에 새 값을 할당하여 변수 값을 변경할 수 있다.**"
   ]
  },
  {
   "cell_type": "code",
   "execution_count": null,
   "metadata": {},
   "outputs": [],
   "source": []
  },
  {
   "cell_type": "code",
   "execution_count": null,
   "metadata": {},
   "outputs": [],
   "source": []
  },
  {
   "cell_type": "code",
   "execution_count": null,
   "metadata": {},
   "outputs": [],
   "source": []
  },
  {
   "cell_type": "code",
   "execution_count": null,
   "metadata": {},
   "outputs": [],
   "source": []
  },
  {
   "cell_type": "code",
   "execution_count": null,
   "metadata": {},
   "outputs": [],
   "source": []
  }
 ],
 "metadata": {
  "kernelspec": {
   "display_name": "venv",
   "language": "python",
   "name": "python3"
  },
  "language_info": {
   "codemirror_mode": {
    "name": "ipython",
    "version": 3
   },
   "file_extension": ".py",
   "mimetype": "text/x-python",
   "name": "python",
   "nbconvert_exporter": "python",
   "pygments_lexer": "ipython3",
   "version": "3.11.1"
  }
 },
 "nbformat": 4,
 "nbformat_minor": 2
}
