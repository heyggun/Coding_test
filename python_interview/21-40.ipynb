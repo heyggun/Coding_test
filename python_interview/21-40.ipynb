{
 "cells": [
  {
   "cell_type": "markdown",
   "metadata": {},
   "source": [
    "**21. Create a generator to produce first n prime numbers**"
   ]
  },
  {
   "cell_type": "code",
   "execution_count": 1,
   "metadata": {},
   "outputs": [
    {
     "name": "stdout",
     "output_type": "stream",
     "text": [
      "2 3 5 7 11 13 17 19 23 29 "
     ]
    }
   ],
   "source": [
    "def isprime(num):\n",
    "    for i in range(2, num):\n",
    "        if num%i==0:\n",
    "            return False\n",
    "    return True\n",
    "\n",
    "def prime_generator(n):\n",
    "    num = 2\n",
    "    while n:\n",
    "        if isprime(num):\n",
    "            '''\n",
    "            #yield keyword used to return a vlaue and then the code\n",
    "            is resumed inside the function unlike the return keyword end the code when it is called\n",
    "            (#yield 키워드는 값을 반환한 후, 함수 내부에서 코드가 다시 실행되도록 합니다. 반면, return 키워드는 호출될 때 코드를 종료시킵니다.)\n",
    "            #yield keyword will turn any expression that is given with it into a generator object and return it to the caller\n",
    "            (#yield 키워드는 그와 함께 제공된 모든 표현식을 제너레이터 객체로 변환하여 호출자에게 반환합니다)\n",
    "            '''\n",
    "            yield num\n",
    "            n-=1\n",
    "        num+=1\n",
    "        \n",
    "x = int(input(\"Enter no. of prime numbers required\"))\n",
    "it = prime_generator(x)\n",
    "for e in it:\n",
    "    print(e, end= \" \")"
   ]
  },
  {
   "cell_type": "code",
   "execution_count": 2,
   "metadata": {},
   "outputs": [
    {
     "data": {
      "text/plain": [
       "False"
      ]
     },
     "execution_count": 2,
     "metadata": {},
     "output_type": "execute_result"
    }
   ],
   "source": [
    "def prime_no(n):\n",
    "    Flag = False\n",
    "    if n<2:\n",
    "        return Flag\n",
    "    else:\n",
    "        for i in range(2,n):\n",
    "            if n%i==0:\n",
    "                return Flag\n",
    "            else:\n",
    "                Flag = True\n",
    "                return Flag\n",
    "\n",
    "num = int(input(\"Enter a number:\"))\n",
    "prime_no(num)"
   ]
  },
  {
   "cell_type": "code",
   "execution_count": 3,
   "metadata": {},
   "outputs": [
    {
     "data": {
      "text/plain": [
       "False"
      ]
     },
     "execution_count": 3,
     "metadata": {},
     "output_type": "execute_result"
    }
   ],
   "source": [
    "def prime_no(n):\n",
    "    Flag = False\n",
    "    if n <2:\n",
    "        return Flag\n",
    "    \n",
    "    else:\n",
    "        for i in range(2,n):\n",
    "            if n%i==0:\n",
    "                return Flag\n",
    "        Flag = True\n",
    "        return Flag\n",
    "    \n",
    "num = int(input(\"Enter a number:\"))\n",
    "prime_no(num)"
   ]
  },
  {
   "cell_type": "code",
   "execution_count": null,
   "metadata": {},
   "outputs": [],
   "source": []
  },
  {
   "cell_type": "markdown",
   "metadata": {},
   "source": [
    "**22. Implementing variable length arguments in python**"
   ]
  },
  {
   "cell_type": "code",
   "execution_count": 4,
   "metadata": {},
   "outputs": [
    {
     "name": "stdout",
     "output_type": "stream",
     "text": [
      "Average is: 38.0\n",
      "Average is: 27.5\n"
     ]
    }
   ],
   "source": [
    "def average(*t): # *t for tuble of variable Length\n",
    "    avg = sum(t)/len(t)\n",
    "    return avg\n",
    "\n",
    "result1 = average(32,5,65,22,87,34,2,57)\n",
    "result2 = average(5,10,15,20,25,30,35,40,45,50)\n",
    "\n",
    "print(\"Average is:\", result1)\n",
    "print(\"Average is:\", result2)"
   ]
  },
  {
   "cell_type": "code",
   "execution_count": 5,
   "metadata": {},
   "outputs": [
    {
     "name": "stdout",
     "output_type": "stream",
     "text": [
      "Average is : 36.62\n",
      "Average is : 27.50\n"
     ]
    }
   ],
   "source": [
    "def average_with_kwargs(**kwargs):\n",
    "    values = list(kwargs.values())\n",
    "    avg = sum(values) / len(values)\n",
    "    return avg\n",
    "\n",
    "result1 = average_with_kwargs(num1=32, num2=5, num3=54, num4=22, num5=87, num6=34, num7=2, num8=57)\n",
    "result2 = average_with_kwargs(num1=5, num2=10, num3=15, num4=20, num5=25, num6=30, num7=35, num8=40, num9=45, num10=50)\n",
    "\n",
    "print(f\"Average is : {result1:.2f}\")\n",
    "print(f\"Average is : {result2:.2f}\")"
   ]
  },
  {
   "cell_type": "markdown",
   "metadata": {},
   "source": [
    "**23. Creating instance member variables in python**"
   ]
  },
  {
   "cell_type": "code",
   "execution_count": 6,
   "metadata": {},
   "outputs": [
    {
     "name": "stdout",
     "output_type": "stream",
     "text": [
      "{'a': 5, 'b': 10, 'c': 15}\n",
      "{'a': 5}\n"
     ]
    }
   ],
   "source": [
    "class Test:\n",
    "    def __init__(self):\n",
    "        self.a = 5\n",
    "    def f1(self):\n",
    "        self.b = 10\n",
    "        \n",
    "t1 = Test()\n",
    "t2 = Test()\n",
    "t1.f1()\n",
    "t1.c = 15\n",
    "\n",
    "print(t1.__dict__)\n",
    "print(t2.__dict__)"
   ]
  },
  {
   "cell_type": "markdown",
   "metadata": {},
   "source": [
    "**24. Addition using Lambda functions**"
   ]
  },
  {
   "cell_type": "code",
   "execution_count": 7,
   "metadata": {},
   "outputs": [
    {
     "name": "stdout",
     "output_type": "stream",
     "text": [
      "10\n",
      "10\n"
     ]
    }
   ],
   "source": [
    "f = lambda a,b : a+b\n",
    "r = f(3,7)\n",
    "\n",
    "print(r)\n",
    "\n",
    "print((lambda a,b:a+b)(3,7))"
   ]
  },
  {
   "cell_type": "markdown",
   "metadata": {},
   "source": [
    "**25. Fining factorial using lambda function**"
   ]
  },
  {
   "cell_type": "code",
   "execution_count": 8,
   "metadata": {},
   "outputs": [
    {
     "data": {
      "text/plain": [
       "120"
      ]
     },
     "execution_count": 8,
     "metadata": {},
     "output_type": "execute_result"
    }
   ],
   "source": [
    "f = lambda n : 1 if n==0 else n*f(n-1)\n",
    "f(5)"
   ]
  },
  {
   "cell_type": "code",
   "execution_count": 9,
   "metadata": {},
   "outputs": [
    {
     "name": "stdout",
     "output_type": "stream",
     "text": [
      "The factorial of 10 is 3628800\n"
     ]
    }
   ],
   "source": [
    "num = int(input(\"Enter a number :\"))\n",
    "factorial = 1\n",
    "\n",
    "if num <0:\n",
    "    print(\"Sorry, factorial does not exist for negative numbers\")\n",
    "\n",
    "elif num==0:\n",
    "    print(\"The factorial of 0 is 1\")\n",
    "    \n",
    "else:\n",
    "    for i in range(1, num+1):\n",
    "        factorial = factorial*i\n",
    "    \n",
    "    print(f\"The factorial of {num} is\", factorial)"
   ]
  },
  {
   "cell_type": "markdown",
   "metadata": {},
   "source": [
    "**26. List Compression (to create a list in single line)**"
   ]
  },
  {
   "cell_type": "code",
   "execution_count": 10,
   "metadata": {},
   "outputs": [
    {
     "name": "stdout",
     "output_type": "stream",
     "text": [
      "[2, 4, 6, 8, 10, 12, 14, 16, 18]\n",
      "[56, 22, 62, 32, 76]\n"
     ]
    }
   ],
   "source": [
    "list_1 = [2*e for e in range(1,10)]\n",
    "print(list_1)\n",
    "\n",
    "\n",
    "list = [23,56,65,22,62,32,65,76,33,99]\n",
    "list_2 = [e for e in list if e%2==0]\n",
    "\n",
    "print(list_2)"
   ]
  },
  {
   "cell_type": "markdown",
   "metadata": {},
   "source": [
    "**27. What is the user of split and join funciton of str?**"
   ]
  },
  {
   "cell_type": "code",
   "execution_count": 11,
   "metadata": {},
   "outputs": [
    {
     "name": "stdout",
     "output_type": "stream",
     "text": [
      "['What', 'is', 'right', 'in', 'your', 'mind', 'is', 'right', 'in', 'your', 'world']\n",
      "['world', 'your', 'in', 'right', 'is', 'mind', 'your', 'in', 'right', 'is', 'What']\n",
      "world your in right is mind your in right is What\n"
     ]
    }
   ],
   "source": [
    "s = \"What is right in your mind is right in your world\"\n",
    "\n",
    "s1 = s.split(\" \")\n",
    "print(s1)\n",
    "\n",
    "s1 = s1[::-1]\n",
    "print(s1)\n",
    "print(\" \".join(s1))"
   ]
  },
  {
   "cell_type": "markdown",
   "metadata": {},
   "source": [
    "**28. Global and local variable**"
   ]
  },
  {
   "cell_type": "code",
   "execution_count": 12,
   "metadata": {},
   "outputs": [
    {
     "name": "stdout",
     "output_type": "stream",
     "text": [
      "5\n",
      "x=16, y=10\n",
      "16\n"
     ]
    }
   ],
   "source": [
    "x = 5\n",
    "\n",
    "def f1():\n",
    "    global x\n",
    "    x = 16\n",
    "    y = 10\n",
    "    print(f\"x=%d, y=%d\"%(x,y))\n",
    "  \n",
    "print(x)  \n",
    "f1()\n",
    "print(x)\n",
    "    "
   ]
  },
  {
   "cell_type": "markdown",
   "metadata": {},
   "source": [
    "**29. globals function**"
   ]
  },
  {
   "cell_type": "code",
   "execution_count": 13,
   "metadata": {},
   "outputs": [
    {
     "name": "stdout",
     "output_type": "stream",
     "text": [
      "local x=10 global=x5\n"
     ]
    }
   ],
   "source": [
    "x = 5\n",
    "\n",
    "def fun():\n",
    "    x = 10\n",
    "    d = globals()\n",
    "    print(\"local x=%d global=x%d\"%(x,d['x']))\n",
    "    \n",
    "fun()"
   ]
  },
  {
   "cell_type": "markdown",
   "metadata": {},
   "source": [
    "**30. Type conversion basics**"
   ]
  },
  {
   "cell_type": "code",
   "execution_count": 14,
   "metadata": {},
   "outputs": [
    {
     "name": "stdout",
     "output_type": "stream",
     "text": [
      "123\n",
      "123.42\n",
      "(3+4j)\n",
      "12\n",
      "True\n",
      "0b11001\n",
      "0o31\n",
      "0x19\n",
      "65\n",
      "b\n"
     ]
    }
   ],
   "source": [
    "x= int('123')\n",
    "a = float(\"123.42\")\n",
    "b = complex(\"3+4j\")\n",
    "c = str(12)\n",
    "d = bool(\"True\")\n",
    "e = bin(25)\n",
    "f = oct(25)\n",
    "g = hex(25)\n",
    "h = ord('A')\n",
    "i = chr(98)\n",
    "\n",
    "print(x,a,b,c,d,e,f,g,h,i,sep='\\n')"
   ]
  },
  {
   "cell_type": "markdown",
   "metadata": {},
   "source": [
    "**31. Type conversion**"
   ]
  },
  {
   "cell_type": "code",
   "execution_count": 15,
   "metadata": {},
   "outputs": [
    {
     "name": "stdout",
     "output_type": "stream",
     "text": [
      "<class 'int'>\n",
      "<class 'str'>\n",
      "5123\n",
      "128\n"
     ]
    }
   ],
   "source": [
    "x= 5\n",
    "print(type(x))\n",
    "\n",
    "s1 = \"123\"\n",
    "print(type(s1))\n",
    "print(str(x)+s1)\n",
    "print(x+int(s1))"
   ]
  },
  {
   "cell_type": "markdown",
   "metadata": {},
   "source": [
    "**32. What is python decorator?**\n",
    "\n",
    "    - 데코레이터(Decorator) : 기존 함수의 동작을 변경하거나 확장할 때\n",
    "    어떤 함수가 실행되기 전후에 특정 기능을 추가하고 싶을 때 사용 "
   ]
  },
  {
   "cell_type": "code",
   "execution_count": 16,
   "metadata": {},
   "outputs": [
    {
     "name": "stdout",
     "output_type": "stream",
     "text": [
      "Before hello function\n",
      "Hello !\n",
      "Thanks for using the function\n",
      "Before hello function\n",
      "4\n",
      "Thanks for using the function\n"
     ]
    }
   ],
   "source": [
    "#function decorator\n",
    "\n",
    "\n",
    "def welcome(fx):\n",
    "    def mfx(*t, **d):\n",
    "        print(\"Before hello function\")\n",
    "        fx(*t, **d)\n",
    "        print(\"Thanks for using the function\")\n",
    "    return mfx\n",
    "\n",
    "#decorator function without arguments\n",
    "@welcome\n",
    "def hello():\n",
    "    print(\"Hello !\")\n",
    "    \n",
    "\n",
    "#decorator function with arguments\n",
    "@welcome\n",
    "def add(a,b):\n",
    "    print(a+b) \n",
    "    \n",
    "\n",
    "hello()\n",
    "add(1,3)"
   ]
  },
  {
   "cell_type": "code",
   "execution_count": 17,
   "metadata": {},
   "outputs": [
    {
     "data": {
      "text/plain": [
       "900"
      ]
     },
     "execution_count": 17,
     "metadata": {},
     "output_type": "execute_result"
    }
   ],
   "source": [
    "#class Decorator\n",
    "\n",
    "class Calculator:\n",
    "    def __init__(self, func):\n",
    "        self.function = func\n",
    "    \n",
    "    def __call__(self, *t, **d):\n",
    "        result = self.function(*t, **d)\n",
    "        return result**2\n",
    "    \n",
    "    \n",
    "@Calculator\n",
    "def add(a,b):\n",
    "    return a+b\n",
    "\n",
    "add(10,20)"
   ]
  },
  {
   "cell_type": "code",
   "execution_count": 18,
   "metadata": {},
   "outputs": [
    {
     "name": "stdout",
     "output_type": "stream",
     "text": [
      "PASS\n",
      "DISTINCTION\n",
      "PASS\n",
      "DISTINCTION\n",
      "PASS\n",
      "PASS\n",
      "PASS\n",
      "DISTINCTION\n",
      "PASS\n"
     ]
    }
   ],
   "source": [
    "def decor_result(result_function):\n",
    "    def distinction(marks):\n",
    "        results = []\n",
    "        for m in marks:\n",
    "            if m >= 75:\n",
    "                print(\"DISTINCTION\")\n",
    "            results.append(result_function([m]))\n",
    "        \n",
    "        return results\n",
    "    \n",
    "    return distinction\n",
    "\n",
    "@decor_result\n",
    "def result(marks):\n",
    "    for m in marks:\n",
    "        if m>=33:\n",
    "            pass\n",
    "        else:\n",
    "            print(\"FAIL\")\n",
    "            return \"FAIL\"\n",
    "        \n",
    "    else:\n",
    "        print(\"PASS\")\n",
    "        return \"PASS\"\n",
    "\n",
    "results = result([45, 78, 80, 34, 66, 90])            "
   ]
  },
  {
   "cell_type": "markdown",
   "metadata": {},
   "source": [
    "**33. What are generators in python? Create a generator for first n natural even numbers**\n",
    "\n",
    "    - Generators in Python are a type of iterable, like lists or tuples.\n",
    "    but they allow you to iterate over thier elements lazily, one at a time, on-the-fly.\n",
    "    this means that generators generate values as you need tem, rather than storing all values in memory at once.\n",
    "    This can be higly memory-efficient, especially when dealing with large datasets or when generating an infinite sequence.\n",
    "\n",
    "\n",
    "    (파이썬에서 제너레이터(Generator) 는 리스트나 튜플처럼 반복(iterable)할 수 있는 객체의 한 종류입니다.\n",
    "    하지만 일반적인 리스트나 튜플과 달리, 제너레이터는 값을 한 번에 하나씩 \"필요할 때\" 생성(lazy evaluation)한다는 특징이 있습니다.\n",
    "    즉, 모든 값을 미리 메모리에 저장하는 것이 아니라, 요청이 있을 때마다 값을 생성하여 반환합니다.\n",
    "    이러한 동작 방식 덕분에 매우 큰 데이터셋을 다루거나 무한한 시퀀스를 생성해야 할 때 메모리를 효율적으로 사용할 수 있습니다.)"
   ]
  },
  {
   "cell_type": "code",
   "execution_count": 19,
   "metadata": {},
   "outputs": [
    {
     "name": "stdout",
     "output_type": "stream",
     "text": [
      "[2, 4, 6, 8, 10, 12, 14, 16, 18, 20]\n"
     ]
    }
   ],
   "source": [
    "def evenNum(n): \n",
    "    \"\"\" n개의 짝수를 생성하는 제너레이터 함수\"\"\"\n",
    "    i=1\n",
    "    while n:\n",
    "        yield 2*i # 현재 i에 대해 2*i 값을 생성 (yield : 제너레이터 함수 - 함수 내에서 사용되고, 호출할 때 값을 반환하지만 함수를 종료하지 않고 상태 유지)\n",
    "        i+=1      # 일반적인 함수는 return을 만나면 실행이 끝나지만 yield를 사용하면 함수가 일시 정지(paused) 되고 나중에 다시 실행할 수 있음 \n",
    "        n-=1\n",
    "        \n",
    "it = evenNum(10)\n",
    "even_list=[]\n",
    "\n",
    "while True:\n",
    "    try :\n",
    "        even_list.append(next(it)) #제너레이터 값을 다 생성하면 StopIteration 예외 발생\n",
    "    except StopIteration:\n",
    "        break\n",
    "    \n",
    "print(even_list)"
   ]
  },
  {
   "cell_type": "code",
   "execution_count": 20,
   "metadata": {},
   "outputs": [
    {
     "ename": "StopIteration",
     "evalue": "",
     "output_type": "error",
     "traceback": [
      "\u001b[0;31m---------------------------------------------------------------------------\u001b[0m",
      "\u001b[0;31mStopIteration\u001b[0m                             Traceback (most recent call last)",
      "\u001b[1;32m/Users/geonheekim/Desktop/python_interview/21-40.ipynb Cell 34\u001b[0m line \u001b[0;36m1\n\u001b[0;32m----> <a href='vscode-notebook-cell:/Users/geonheekim/Desktop/python_interview/21-40.ipynb#Y141sZmlsZQ%3D%3D?line=0'>1</a>\u001b[0m \u001b[39mnext\u001b[39;49m(it)\n",
      "\u001b[0;31mStopIteration\u001b[0m: "
     ]
    }
   ],
   "source": [
    "next(it)"
   ]
  },
  {
   "cell_type": "code",
   "execution_count": null,
   "metadata": {},
   "outputs": [],
   "source": []
  },
  {
   "cell_type": "markdown",
   "metadata": {},
   "source": [
    "    제너레이터는 \"필요한 순간\"에만 값을 생성하여 반환해서 메모리 효율이 높음\n",
    "    비슷한 기능을하는 아래의 비효율적인 코드와 비교"
   ]
  },
  {
   "cell_type": "code",
   "execution_count": 21,
   "metadata": {},
   "outputs": [
    {
     "name": "stdout",
     "output_type": "stream",
     "text": [
      "[2, 4, 6, 8, 10, 12, 14, 16, 18, 20]\n"
     ]
    }
   ],
   "source": [
    "def evenNum_list(n):\n",
    "    return [2*i for i in range(1, n+1)]\n",
    "\n",
    "even_list = evenNum_list(10)\n",
    "print(even_list)"
   ]
  },
  {
   "cell_type": "markdown",
   "metadata": {},
   "source": [
    "    - 리스트를 한꺼번에 생성해서 메모리를 많이 차지\n",
    "    - 메모리 사용량 : O(n) 모든 값을 한 번에 저장\n",
    "    - 연산 속도 : 리스트 전체를 만드는 O(n)\n",
    "\n",
    "    그에 반해 python generator를 사용하면,\n",
    "    메모리절약(lazy Evaluation) : `yield`를 사용해서 값을 하나씩 생성해서 반환. \n",
    "    한꺼번에 n개의 값을 저장하지 않아 메모리 사용량이 줄어듦. 메모리 사용량이 O(1) 수준으로 유지\n",
    "    연산 효율성 : next(it)을 호출할 때마다 O(1) 시간에 값을 생성해서 반환하므로, \n",
    "    모든 값을 한꺼번에 생성하는 리스트 방식보다 더 빠르게 동작 "
   ]
  },
  {
   "cell_type": "markdown",
   "metadata": {},
   "source": [
    "**33. What are iterators in python?**\n",
    "\n",
    "    An iterable is any Python object that can be looped over or iterated.\n",
    "    It can be a sequence (e.g., list, tuple, string), or any objec taht supports iterations.\n",
    "\n",
    "    An iterator used to access the objects of the iterables only by one from 1st element to last element.\n",
    "    An iterator is an object that represents a stream of data.\n",
    "    It provides two essential methods: iter(), and next()\n",
    "\n",
    "\n",
    "    이터러블(iterable)은 반복(iteration)할 수 있는 모든 파이썬 객체이다. \n",
    "    리스트, 튜플, 문자열과 같은 시퀀스(sequence)일 수도 있고, 반복을 지원하는 다른 객체일 수도 있다.\n",
    "\n",
    "    이터레이터(iterator)는 이터러블의 요소를 처음부터 끝까지 하나씩 접근하는 데 사용된다.\n",
    "    이터레이터는 데이터의 흐름을 나타내는 객체이며, 두 가지 필수 메서드를 제공한다: iter()와 next()입니다."
   ]
  },
  {
   "cell_type": "code",
   "execution_count": 22,
   "metadata": {},
   "outputs": [
    {
     "name": "stdout",
     "output_type": "stream",
     "text": [
      "23\n",
      "65\n",
      "22\n",
      "76\n",
      "34\n",
      "98\n",
      "43\n"
     ]
    }
   ],
   "source": [
    "list_1 = [23, 65, 22, 76, 34, 98, 43]\n",
    "it = iter(list_1)\n",
    "\n",
    "while True:\n",
    "    try :\n",
    "        print(next(it))\n",
    "        \n",
    "    except StopIteration:\n",
    "        break"
   ]
  },
  {
   "cell_type": "markdown",
   "metadata": {},
   "source": [
    "**34. What are generators in python?  Create a generator for first n natural even numbers.**\n",
    "\n",
    "    - Generators in Python are a type of iterable, like lists or tuples.\n",
    "    but they allow you to iterate over their elements lazily, one at a time, on-the-fly.\n",
    "    This means that generators generate values as you need them, rather thna stroing all values in memory at once.\n",
    "    This can be highly memory-efficient, especially when dealing with large datasets or when generating an infinite sequence.\n",
    "\n",
    "    파이썬의 제너레이터(generator)는 리스트나 튜플과 같은 이터러블(iterable)의 한 종류이다.\n",
    "    하지만 제너레이터는 요소를 한 번에 하나씩, 필요할 때마다(lazily) 생성하면서 반복할 수 있도록 해준다.\n",
    "    이는 모든 값을 한꺼번에 메모리에 저장하는 것이 아니라, 필요할 때마다 값을 생성한다는 것을 의미한다.\n",
    "    따라서 대용량 데이터셋을 다루거나 무한한 시퀀스를 생성할 때 메모리 효율적일 수 있습니다.\n"
   ]
  },
  {
   "cell_type": "code",
   "execution_count": 23,
   "metadata": {},
   "outputs": [
    {
     "name": "stdout",
     "output_type": "stream",
     "text": [
      "[2, 4, 6, 8, 10, 12, 14, 16, 18, 20]\n"
     ]
    }
   ],
   "source": [
    "def evenNum(n):\n",
    "    i = 1\n",
    "    while n:\n",
    "        yield 2*i\n",
    "        i+=1\n",
    "        n-=1\n",
    "        \n",
    "it = evenNum(10)\n",
    "even_list = []\n",
    "\n",
    "while True:\n",
    "    try:\n",
    "        even_list.append(next(it))\n",
    "    except StopIteration:\n",
    "        break\n",
    "    \n",
    "print(even_list)"
   ]
  },
  {
   "cell_type": "markdown",
   "metadata": {},
   "source": [
    "**대용량 데이터셋을 다룰 때 제너레이터**"
   ]
  },
  {
   "cell_type": "code",
   "execution_count": 24,
   "metadata": {},
   "outputs": [],
   "source": [
    "import csv"
   ]
  },
  {
   "cell_type": "code",
   "execution_count": 25,
   "metadata": {},
   "outputs": [],
   "source": [
    "def read_large_csv(file_path):\n",
    "    with open(file_path, 'r', encoding='utf-8') as file:\n",
    "        reader = csv.reader(file)\n",
    "        next(reader)\n",
    "        for row in reader:\n",
    "            yield row\n",
    "            \n",
    "# for line in read_large_csv('file_path'):\n",
    "#     print(line)"
   ]
  },
  {
   "cell_type": "markdown",
   "metadata": {},
   "source": [
    "**무한한 시퀀스 생성 시 제너레이터**\n",
    "\n",
    "- 무한한 루프를 돌면서 숫자를 하나씩 생성하므로, 메모리를 과도하게 사용하지 않음"
   ]
  },
  {
   "cell_type": "code",
   "execution_count": 26,
   "metadata": {},
   "outputs": [],
   "source": [
    "import itertools"
   ]
  },
  {
   "cell_type": "code",
   "execution_count": 27,
   "metadata": {},
   "outputs": [
    {
     "name": "stdout",
     "output_type": "stream",
     "text": [
      "10\n",
      "11\n",
      "12\n",
      "13\n",
      "14\n",
      "15\n",
      "16\n",
      "17\n",
      "18\n",
      "19\n",
      "20\n"
     ]
    }
   ],
   "source": [
    "def infinite_counter(start=1):\n",
    "    while True:\n",
    "        yield start\n",
    "        start+=1\n",
    "        \n",
    "for num in infinite_counter(10):\n",
    "    print(num)\n",
    "    if num >=20:\n",
    "        break\n",
    "    "
   ]
  },
  {
   "cell_type": "code",
   "execution_count": 28,
   "metadata": {},
   "outputs": [
    {
     "name": "stdout",
     "output_type": "stream",
     "text": [
      "1\n",
      "1\n",
      "2\n",
      "3\n",
      "5\n",
      "8\n",
      "13\n",
      "21\n",
      "34\n",
      "55\n"
     ]
    }
   ],
   "source": [
    "def fibonacci():\n",
    "    a, b = 1,1\n",
    "    while True:\n",
    "        yield a\n",
    "        a,b = b, a+b\n",
    "        \n",
    "fib_gen = fibonacci()\n",
    "\n",
    "for _ in range(10):\n",
    "    print(next(fib_gen))"
   ]
  },
  {
   "cell_type": "markdown",
   "metadata": {},
   "source": [
    "**35. Is function overloading allowed in python?**\n",
    "\n",
    "    - In Python, function overloading as seen in languages like C++ or Java is not directly supported.\n",
    "    However, Python provides several ways to achieve similar behavior through default arguments, variable-length arguments,\n",
    "    and more advanced techniques like using functools, singledispath.\n",
    "\n",
    "    Here are a few methods to achieve function overloading in Python:\n",
    "\n",
    "    Python에서는 C++이나 Java처럼 직접적인 함수 오버로딩을 지원하지 않는다.\n",
    "    그러나 `기본 인자(default arguments)`, `가변 인자(variable-length arguments)`, \n",
    "    그리고 `functools.singledispatch`와 같은 고급 기법을 활용하여 유사한 동작을 구현할 수 있다.\n",
    "\n",
    "    Python에서 함수 오버로딩을 구현하는 몇 가지 방법은 다음과 같다.\n",
    "\n",
    "    1. Using Defult Arguments (기본 인자 사용)\n",
    "    "
   ]
  },
  {
   "cell_type": "code",
   "execution_count": 29,
   "metadata": {},
   "outputs": [
    {
     "name": "stdout",
     "output_type": "stream",
     "text": [
      "Hello, Ashutosh\n",
      "hi, Bob\n"
     ]
    }
   ],
   "source": [
    "def great(name, greeting=\"Hello\"):\n",
    "    return f\"{greeting}, {name}\"\n",
    "\n",
    "print(great(\"Ashutosh\"))\n",
    "print(great(\"Bob\", \"hi\"))"
   ]
  },
  {
   "cell_type": "markdown",
   "metadata": {},
   "source": [
    "    2.  Using Variable-Length Arguments\n",
    "\n",
    "    - You can use \"args and \"kwargs to accept a variable number of arguments\""
   ]
  },
  {
   "cell_type": "code",
   "execution_count": 30,
   "metadata": {},
   "outputs": [
    {
     "name": "stdout",
     "output_type": "stream",
     "text": [
      "4\n",
      "15\n"
     ]
    }
   ],
   "source": [
    "def add(*t):\n",
    "    return sum(t)\n",
    "\n",
    "print(add(1,3))\n",
    "print(add(1,3,5,6))"
   ]
  },
  {
   "cell_type": "markdown",
   "metadata": {},
   "source": [
    "    3. Using functools singledispatch\n",
    "    \n",
    "    - The fuctools singledispatch decorator allows you to create single-dispatch generic function.\n",
    "    which can have different implementations based on the type of the first argument.\n",
    "    \n",
    "    - functools.singledispatch 데코레이터는 Python에서 **단일 분기(Generic Function)**를 생성할 수 있게 도와준다. 이를 통해 첫 번째 인자의 타입에 따라 함수의 구현을 다르게 할 수 있다. 즉, 함수 오버로딩과 유사한 방식으로 첫 번째 인자의 타입에 맞는 다양한 처리를 할 수 있게 된다.\n",
    "\n",
    "    singledispatch는 함수에 첫 번째 인자의 타입에 따라 다른 동작을 정의하는 방법을 제공한다. 이를 통해 함수의 여러 버전을 만들 수 있고, 코드의 가독성과 유지보수성이 향상된다.\n",
    "     "
   ]
  },
  {
   "cell_type": "code",
   "execution_count": 31,
   "metadata": {},
   "outputs": [
    {
     "name": "stdout",
     "output_type": "stream",
     "text": [
      "Processing an integer: 10\n",
      "Processing a string: ㅎ2\n"
     ]
    },
    {
     "ename": "NotImplementedError",
     "evalue": "Upsupported type",
     "output_type": "error",
     "traceback": [
      "\u001b[0;31m---------------------------------------------------------------------------\u001b[0m",
      "\u001b[0;31mNotImplementedError\u001b[0m                       Traceback (most recent call last)",
      "\u001b[1;32m/Users/geonheekim/Desktop/python_interview/21-40.ipynb Cell 55\u001b[0m line \u001b[0;36m1\n\u001b[1;32m     <a href='vscode-notebook-cell:/Users/geonheekim/Desktop/python_interview/21-40.ipynb#Y132sZmlsZQ%3D%3D?line=14'>15</a>\u001b[0m \u001b[39mprint\u001b[39m(process(\u001b[39m10\u001b[39m))\n\u001b[1;32m     <a href='vscode-notebook-cell:/Users/geonheekim/Desktop/python_interview/21-40.ipynb#Y132sZmlsZQ%3D%3D?line=15'>16</a>\u001b[0m \u001b[39mprint\u001b[39m(process(\u001b[39m'\u001b[39m\u001b[39mㅎ2\u001b[39m\u001b[39m'\u001b[39m))\n\u001b[0;32m---> <a href='vscode-notebook-cell:/Users/geonheekim/Desktop/python_interview/21-40.ipynb#Y132sZmlsZQ%3D%3D?line=16'>17</a>\u001b[0m \u001b[39mprint\u001b[39m(process(\u001b[39m3.14\u001b[39;49m))\n",
      "File \u001b[0;32m/Library/Frameworks/Python.framework/Versions/3.11/lib/python3.11/functools.py:909\u001b[0m, in \u001b[0;36msingledispatch.<locals>.wrapper\u001b[0;34m(*args, **kw)\u001b[0m\n\u001b[1;32m    905\u001b[0m \u001b[39mif\u001b[39;00m \u001b[39mnot\u001b[39;00m args:\n\u001b[1;32m    906\u001b[0m     \u001b[39mraise\u001b[39;00m \u001b[39mTypeError\u001b[39;00m(\u001b[39mf\u001b[39m\u001b[39m'\u001b[39m\u001b[39m{\u001b[39;00mfuncname\u001b[39m}\u001b[39;00m\u001b[39m requires at least \u001b[39m\u001b[39m'\u001b[39m\n\u001b[1;32m    907\u001b[0m                     \u001b[39m'\u001b[39m\u001b[39m1 positional argument\u001b[39m\u001b[39m'\u001b[39m)\n\u001b[0;32m--> 909\u001b[0m \u001b[39mreturn\u001b[39;00m dispatch(args[\u001b[39m0\u001b[39;49m]\u001b[39m.\u001b[39;49m\u001b[39m__class__\u001b[39;49m)(\u001b[39m*\u001b[39;49margs, \u001b[39m*\u001b[39;49m\u001b[39m*\u001b[39;49mkw)\n",
      "\u001b[1;32m/Users/geonheekim/Desktop/python_interview/21-40.ipynb Cell 55\u001b[0m line \u001b[0;36m5\n\u001b[1;32m      <a href='vscode-notebook-cell:/Users/geonheekim/Desktop/python_interview/21-40.ipynb#Y132sZmlsZQ%3D%3D?line=2'>3</a>\u001b[0m \u001b[39m@singledispatch\u001b[39m\n\u001b[1;32m      <a href='vscode-notebook-cell:/Users/geonheekim/Desktop/python_interview/21-40.ipynb#Y132sZmlsZQ%3D%3D?line=3'>4</a>\u001b[0m \u001b[39mdef\u001b[39;00m\u001b[39m \u001b[39m\u001b[39mprocess\u001b[39m(value):\n\u001b[0;32m----> <a href='vscode-notebook-cell:/Users/geonheekim/Desktop/python_interview/21-40.ipynb#Y132sZmlsZQ%3D%3D?line=4'>5</a>\u001b[0m     \u001b[39mraise\u001b[39;00m \u001b[39mNotImplementedError\u001b[39;00m(\u001b[39m\"\u001b[39m\u001b[39mUpsupported type\u001b[39m\u001b[39m\"\u001b[39m)\n",
      "\u001b[0;31mNotImplementedError\u001b[0m: Upsupported type"
     ]
    }
   ],
   "source": [
    "from functools import singledispatch\n",
    "\n",
    "@singledispatch\n",
    "def process(value):\n",
    "    raise NotImplementedError(\"Upsupported type\")\n",
    "\n",
    "@process.register(int)\n",
    "def _(value):\n",
    "    return f\"Processing an integer: {value}\"\n",
    "\n",
    "@process.register(str)\n",
    "def _(value):\n",
    "    return f\"Processing a string: {value}\"\n",
    "\n",
    "print(process(10))\n",
    "print(process('ㅎ2'))\n",
    "print(process(3.14))"
   ]
  },
  {
   "cell_type": "markdown",
   "metadata": {},
   "source": [
    "    **4. Using Class Methods**\n",
    "\n",
    "    - You can also achieve overloading behavior using class methods.\n",
    "    (클래스 메서드를 사용하여 오버로딩 동작을 구현할 수도 있다.)"
   ]
  },
  {
   "cell_type": "code",
   "execution_count": 32,
   "metadata": {},
   "outputs": [
    {
     "name": "stdout",
     "output_type": "stream",
     "text": [
      "case 3\n",
      "6\n",
      "case 3\n",
      "24\n",
      "case 3\n",
      "120\n"
     ]
    }
   ],
   "source": [
    "class Math:\n",
    "    @staticmethod\n",
    "    def multiply(a,b):\n",
    "        print('case 1')\n",
    "        return a*b\n",
    "    @staticmethod\n",
    "    def multiply(a,b,c):\n",
    "        print('case 2')\n",
    "        return a*b*c\n",
    "    \n",
    "class Math:\n",
    "    @staticmethod\n",
    "    def multiply(*t):\n",
    "        print('case 3')\n",
    "        result = 1\n",
    "        for num in t:\n",
    "            result *= num\n",
    "        return result\n",
    "    \n",
    "    \n",
    "print(Math.multiply(2,3))\n",
    "print(Math.multiply(2,3,4))\n",
    "print(Math.multiply(2,3,4,5))"
   ]
  },
  {
   "cell_type": "markdown",
   "metadata": {},
   "source": [
    "    - 첫 번째와 두 번째 multiply 메서드는 각각 2개의 인수와 3개의 인수를 받는 형태로 정의되어 있다.\n",
    "    하지만 파이썬에서는 **두 번째 multiply**가 첫 번째 multiply를 덮어쓴다.\n",
    "    결국, 마지막 multiply(*t)만 유효하게 되어 case 3만 실행된다.\n",
    "    case 1과 case 2는 호출되지 않는다.\n",
    "    "
   ]
  },
  {
   "cell_type": "markdown",
   "metadata": {},
   "source": [
    "**매개변수 개수에 따라 다른 동작을 하게 구현하기 (오버로딩 흉내내기)** "
   ]
  },
  {
   "cell_type": "code",
   "execution_count": 33,
   "metadata": {},
   "outputs": [
    {
     "name": "stdout",
     "output_type": "stream",
     "text": [
      "case 1\n",
      "6\n",
      "case 2\n",
      "24\n",
      "case 3\n",
      "120\n"
     ]
    }
   ],
   "source": [
    "class Math:\n",
    "    @staticmethod\n",
    "    def multiply(*args):\n",
    "        if len(args) ==2 :\n",
    "            print('case 1')\n",
    "            return args[0] * args[1]\n",
    "        \n",
    "        elif len(args) == 3:\n",
    "            print('case 2')\n",
    "            return args[0] * args[1] * args[2]\n",
    "        \n",
    "        else:\n",
    "            print('case 3')\n",
    "            result = 1\n",
    "            for num in args:\n",
    "                result *= num\n",
    "            return result\n",
    "            \n",
    "            \n",
    "print(Math.multiply(2,3))\n",
    "print(Math.multiply(2,3,4))\n",
    "print(Math.multiply(2,3,4,5))"
   ]
  },
  {
   "cell_type": "markdown",
   "metadata": {},
   "source": [
    "**35. What are positional arguments in python?**\n",
    "\n",
    "    - There two types of arguments in python, positional arguments and keyword arguments.\n",
    "    Keyword arguments are assigned with the keywords that are defined with the function.\n",
    "    Keyword arguments should always be declared after the positional arguments\n",
    "\n",
    "\n",
    "    - 파이썬에는 두 가지 종류의 인수가 있다: **위치 인수(positional arguments)**와 **키워드 인수(keyword arguments)**\n",
    "    키워드 인수는 함수에서 정의된 키워드를 사용하여 값을 할당한다.\n",
    "    키워드 인수는 항상 위치 인수 뒤에 선언되어야 한다."
   ]
  },
  {
   "cell_type": "code",
   "execution_count": 34,
   "metadata": {},
   "outputs": [
    {
     "name": "stdout",
     "output_type": "stream",
     "text": [
      "a= 3 , b= 5\n",
      "a= 30 , b= 4\n",
      "a= 23 , b= 34\n"
     ]
    }
   ],
   "source": [
    "def f1(a,b):\n",
    "    print(\"a=\",a,\", b=\",b)\n",
    "\n",
    "f1(3,5)\n",
    "f1(30, b=4)\n",
    "f1(a=23, b=34)"
   ]
  },
  {
   "cell_type": "markdown",
   "metadata": {},
   "source": [
    "**36. Difference between sorted and sort function in python**\n",
    "\n",
    "    Sorted is a predifined function all the iterables in python, which returns a new list in sorted form.\n",
    "    - sorted는 파이썬에서 모든 이터러블(iterable) 객체에 대해 사용할 수 있는 내장 함수로, 정렬된 새로운 리스트를 반환한다.\n",
    "    원본 이터러블 객체는 변경되지 않는다."
   ]
  },
  {
   "cell_type": "code",
   "execution_count": 35,
   "metadata": {},
   "outputs": [
    {
     "name": "stdout",
     "output_type": "stream",
     "text": [
      "[32, 34, 64, 64, 78, 83, 88, 95]\n",
      "<class 'list'>\n",
      "(34, 64, 32, 78, 88, 83, 95, 64)\n",
      "<class 'tuple'>\n"
     ]
    }
   ],
   "source": [
    "t1 = (34, 64, 32, 78, 88, 83, 95, 64)\n",
    "s_t1 = sorted(t1)\n",
    "print(s_t1)\n",
    "print(type(s_t1))\n",
    "print(t1)\n",
    "print(type(t1))"
   ]
  },
  {
   "cell_type": "code",
   "execution_count": 36,
   "metadata": {},
   "outputs": [
    {
     "name": "stdout",
     "output_type": "stream",
     "text": [
      "<class 'list'>\n",
      "[32, 34, 64, 64, 78, 83, 88, 95]\n"
     ]
    }
   ],
   "source": [
    "list_1 = [34, 64, 32, 78, 88, 83, 95, 64]\n",
    "list_1.sort()\n",
    "\n",
    "print(type(list_1))\n",
    "print(list_1)\n"
   ]
  },
  {
   "cell_type": "code",
   "execution_count": 38,
   "metadata": {},
   "outputs": [
    {
     "name": "stdout",
     "output_type": "stream",
     "text": [
      "[32, 34, 64, 64, 78, 83, 88, 95, 45, 45]\n",
      "SortedList([32, 34, 45, 45, 45, 64, 64, 78, 83, 88, 95])\n",
      "SortedList([32, 34, 45, 45, 45, 64, 64, 78, 83, 88, 95, 103])\n"
     ]
    }
   ],
   "source": [
    "list_1.append(45)\n",
    "print(list_1)\n",
    "\n",
    "from sortedcontainers import SortedList\n",
    "\n",
    "list_3 = SortedList(list_1)\n",
    "list_3.add(45)\n",
    "print(list_3)\n",
    "\n",
    "list_3.add(103)\n",
    "print(list_3)\n"
   ]
  },
  {
   "cell_type": "code",
   "execution_count": 39,
   "metadata": {},
   "outputs": [
    {
     "name": "stdout",
     "output_type": "stream",
     "text": [
      "<class 'sortedcontainers.sortedlist.SortedList'>\n"
     ]
    }
   ],
   "source": [
    "print(type(list_3))"
   ]
  },
  {
   "cell_type": "markdown",
   "metadata": {},
   "source": [
    "**37. How to create static member variables in class?** 클래스에서 정적 멤버 변수(static member variables)를 만드는 방법\n",
    "\n",
    "    - Static variables are shared among all instances of a class and are typically used to store class-level data.\n",
    "    Class Method : User @classmethod when you need to access or modify the class state or call the method on the class itself. Static Method: Use @staticmethod for utility functions that don't need to access or modify class or instance state but logically belong to the class.\n",
    "\n",
    "    Use Case : Static methods are typically used for utility functions that perform a task in isolation and do not need to access or modify class or instance data.\n",
    "\n",
    "    Static Variables: a is defined as a static variable directly within the class body. b, c, d,e and f are also static variables, but they are defined within methods. g is defined as a static variable outside the class body.\n",
    "\n",
    "    Instance Variables : x is an instance variable, initialized within the init method.\n",
    "\n",
    "    Local Variables : y is a local variable, initialized within the init method. It is only accessible within this method.\n",
    "\n",
    "    정적 변수는 클래스의 모든 인스턴스가 공유하며, 보통 클래스 수준의 데이터를 저장하는 데 사용된다.\n",
    "    클래스 메서드: 클래스 상태에 접근하거나 수정해야 하거나, 클래스를 직접 호출해야 할 때 @classmethod를 사용한다.\n",
    "\n",
    "    정적 메서드: 클래스나 인스턴스의 상태를 수정하거나 접근할 필요가 없고, 논리적으로 클래스에 속하는 유틸리티 함수일 때 @staticmethod를 사용한다.\n",
    "\n",
    "    사용 사례: 정적 메서드는 일반적으로 클래스나 인스턴스 데이터에 접근하거나 수정할 필요 없이 독립적으로 작업을 수행하는 유틸리티 함수에 사용됩니다.\n",
    "\n",
    "    정적 변수:\n",
    "    a는 클래스 본문 내에서 직접 정의된 정적 변수\n",
    "    b, c, d, e, f는 메서드 내에서 정의된 정적 변수\n",
    "    g는 클래스 본문 외부에서 정의된 정적 변수\n",
    "\n",
    "    인스턴스 변수: x는 __init__ 메서드 내에서 초기화된 인스턴스 변수이다.\n",
    "    지역 변수: y는 __init__ 메서드 내에서 초기화된 지역 변수로, 이 메서드 내에서만 접근 가능합니다."
   ]
  },
  {
   "cell_type": "code",
   "execution_count": 40,
   "metadata": {},
   "outputs": [],
   "source": [
    "class myclass:\n",
    "    a = 5 #static variable\n",
    "    def __init__(self):\n",
    "        self.x = 10 # instance variable \n",
    "        y = 4 #local variable\n",
    "        myclass.b = 34 #static variable\n",
    "        \n",
    "    def f1(self):\n",
    "        myclass.c = 65 #static variable\n",
    "        \n",
    "    #staticmethod\n",
    "    def f2(self):\n",
    "        myclass.d = 66 #static variable\n",
    "    \n",
    "    #staticmethod\n",
    "    def f3(cls):\n",
    "        cls.e = 15 # static variable\n",
    "        myclass.f = 53 #static variable\n",
    "    \n",
    "\n",
    "myclass.f = 11 # static variable\n",
    "    "
   ]
  },
  {
   "cell_type": "markdown",
   "metadata": {},
   "source": [
    "    - Static Variable (정적 변수)\n",
    "    : 정적 변수는 클래스 수준에서 모든 인스턴스가 공유하는 변수.\n",
    "    클래스 자체와 연결되어 있어서, 인스턴스를 만들지 않아도 접근할 수 있음\n",
    "    \n",
    "    위에서 a=5 'static variable' , a는 클래스 변수로 `myclass` 라는 클래스의 모든 인스턴스가 같이 사용하는 변수\n",
    "    a는 클래스 내 어디서든 접근가능\n",
    "\n",
    "    - Instance Variable (인스턴스 변수)\n",
    "    : 인스턴스 변수는 클래스의 인스턴스마다 다른 값을 가질 수 있는 변수\n",
    "    `__init__` 메서드 내에서 정의도고, 각 객체가 생성될 때마다 그 객체에만 속하는 변수\n",
    "     \n",
    "     위에서 x=10은 인스턴스 변수. self.x 처럼 인스턴스화 된 객체에 따라 값이 달라질 수 있음\n",
    "     예를 들어 obj1.x , obj2.x 는 각각 다른 값을 가질 수 있음\n",
    "\n",
    "     - Local Variable (지역 변수)\n",
    "     : 지역 변수는 특정 함수나 메서드 내에서만 유효한 변수.\n",
    "     이 변수는 해당 메서드 안에서만 사용되며 메서드가 끝나면 사라짐\n",
    "    \n",
    "     위에서 y=4, 메서드 내에서만 존재하는 지역변수. 따라서 __init__ 메서드가 끝나면 더 이상 존재하지 않음\n",
    "     이 변수는 다른 메서드나 클래스 외부에서 접근할 수 없음\n",
    "     \n",
    "     - Static Variable in Methods (메서드 내에서 정의된 정적 변수)\n",
    "     : 클래스의 메서드 내에서 정의된 정적 변수도 잇음. 이러한 변수는 클래스 내에서 다른 메서드와 공유됨\n",
    "\n",
    "    위에서 myclass.b =34, b는 __init__ 메서드 내에서 정의된 정적 변수.\n",
    "    myclass.b로 접근하고 이 변수는 클래스의 모든 인스턴스에서 공유됨\n",
    "\n",
    "    ##\n",
    "\n",
    "    - Static method(정적 메서드)\n",
    "    : 정적 메서드는 클래스나 인스턴스의 상태에 전혀 의존하지 않고 독립적인 작업을 수행하는 메서드.\n",
    "    이러한 메서드는 클래스 이름으로 호출 가능\n",
    "\n",
    "    위에서 f2 메서드. 정젹 변수 d를 정의. 이 변수는 클래스 수준에서 접근할 수 있음.\n",
    "    myclass.d로 접근 가능. 모든 인스턴스에서 공유됨\n",
    "\n",
    "    - Class method(클래스 메서드)\n",
    "    : 클래스 메서드는 클래스 자체를 첫 번째 인수로 받아서 클래스의 상태를 변경하거나 클래스에 관련된 작업을 수행하는 메서드\n",
    "\n",
    "    위에서 f3 메서드는 클래스 변수인 e,f를 설정\n",
    "    cls.e는 클래스 자체에 연결된 변수로, 모든 인스턴스에서 공유됨\n",
    "\n",
    "\n",
    "    - 클래스 외부에서 정의된 Static Variable \n",
    "    : 클래스 외부에서도 정적 변수를 정의할 수 있다. 이렇게 되면 클래스와 독립적으로 정적 변수를 설정\n",
    "    \n",
    "    위에서 myclass.f = 11 \n",
    "    f는 클래스 외부에서 정의된 정적 변수이다. myclass클래스의 인스턴스와 관계없이 존재\n",
    "\n",
    "\n",
    "    "
   ]
  },
  {
   "cell_type": "markdown",
   "metadata": {},
   "source": [
    "**38. How to use else with loop in python?**\n",
    "\n",
    "    - Else can be used with if and while loops in python.\n",
    "    After the break statement in the loop the else statement is not executed.\n",
    "    Else statement is only executed when the condition of the loop is false.\n",
    "        \n",
    "    else는 if와 while 반복문에서 사용할 수 있다.\n",
    "    반복문에서 break 문이 실행되면 else 문은 실행되지 않는다.\n",
    "    else 문은 반복문 조건이 거짓이 되었을 때만 실행된다."
   ]
  },
  {
   "cell_type": "code",
   "execution_count": 41,
   "metadata": {},
   "outputs": [
    {
     "name": "stdout",
     "output_type": "stream",
     "text": [
      "1 2 3 4 5 "
     ]
    }
   ],
   "source": [
    "i=1\n",
    "\n",
    "while i<=10:\n",
    "    print(i, end=\" \")\n",
    "    if i==5:\n",
    "        break\n",
    "    i+=1\n",
    "    \n",
    "else:\n",
    "    print(\"You are in else\")"
   ]
  },
  {
   "cell_type": "code",
   "execution_count": 43,
   "metadata": {},
   "outputs": [
    {
     "name": "stdout",
     "output_type": "stream",
     "text": [
      "1 2 3 4 5 6 7 8 9 10 \n",
      " You are in else\n"
     ]
    }
   ],
   "source": [
    "i = 1\n",
    "\n",
    "while i<=10:\n",
    "    print(i, end =\" \")\n",
    "    if i ==12:\n",
    "        break\n",
    "    i+=1\n",
    "    \n",
    "else:\n",
    "    print(\"\\n You are in else\")"
   ]
  },
  {
   "cell_type": "code",
   "execution_count": 44,
   "metadata": {},
   "outputs": [
    {
     "name": "stdout",
     "output_type": "stream",
     "text": [
      "0 1 2 3 4 5 6 7 8 9 You are in else\n"
     ]
    }
   ],
   "source": [
    "for i in range(10):\n",
    "    print(i, end= \" \")\n",
    "    if i ==12:\n",
    "        break\n",
    "    \n",
    "else:\n",
    "    print(\"You are in else\")"
   ]
  },
  {
   "cell_type": "markdown",
   "metadata": {},
   "source": [
    "**39. What is name mingling in python?**\n",
    "\n",
    "    when a variable is initialzed with double underscore. its name is automatically changed by python to __class__ variableName.\n",
    "    This phenomenon is called Name Mingling in python.\n",
    "\n",
    "    Name mangling is a technique used in programming to generate unique names for entities like functions and variables to avoid name collisions.\n",
    "    This is especially important in languages with feature like function overloading and namespaces. The main purposes of name mangling are:\n",
    "\n",
    "    변수가 더블 언더스코어로 초기화되면, 그 이름은 파이썬에 의해 자동으로 __class__변수이름으로 변경된다. 이 현상을 파이썬에서 **이름 변경(Name Mangling)**이라고 한다.\n",
    "\n",
    "    이름 변경은 함수나 변수와 같은 엔티티에 대해 고유한 이름을 생성하여 이름 충돌을 피하기 위한 프로그래밍 기법이다. \n",
    "    이는 함수 오버로딩이나 네임스페이스와 같은 기능이 있는 언어에서 특히 중요하다. 이름 변경의 주요 목적은 다음과 같다:\n",
    "\n",
    "    **1.Avoding Name Collisions** : Ensures unique names for entities with the same name in different scopes or modules.\n",
    "\n",
    "    **2. Supporting Function Overloading** : Encodes function names with parameter types to differentiate overloaded functions.\n",
    "\n",
    "    **3. Encapsulating Namespaces and Classese** : Incorporates namespace or class names into entity names to maintain uniqueness within different contexts.\n",
    "\n",
    "    **4. Linker Compatibility** : Helps the linker correctly match references to their definitions across separate compilation units.\n",
    "\n",
    "    **5. Debugging and Maintenance** : Makes relationships between code parts cleare, aiding in debugging and maintenance..\n",
    "\n",
    "\n",
    "    For example, in C++, two functions Foo::display(int) and Bar::display(int) would be mangled to something like _ZN3Foo7displayEi and _ZN3Bar7displayEi, incorporating the namespace and parameter type information.\n",
    "\n",
    "    1. 이름 충돌 방지: 서로 다른 범위나 모듈에서 같은 이름을 가진 엔티티에 대해 고유한 이름을 보장한다.\n",
    "    2. 함수 오버로딩 지원: 매개변수 유형을 포함하여 오버로딩된 함수를 구별할 수 있도록 함수 이름을 인코딩한다.\n",
    "    3. 네임스페이스 및 클래스 캡슐화: 다른 문맥에서 고유성을 유지하기 위해 엔티티 이름에 네임스페이스나 클래스 이름을 포함한다.\n",
    "    4. 링커 호환성: 링커가 별도의 컴파일 단위에서 정의와 참조를 정확히 일치시킬 수 있도록 돕는다.\n",
    "    5. 디버깅 및 유지 관리: 코드 부분 간의 관계를 명확하게 하여 디버깅과 유지 관리를 용이하게 만든다.\n",
    "\n",
    "    예를 들어, C++에서 Foo::display(int)와 Bar::display(int) 두 함수는 각각 _ZN3Foo7displayEi와 _ZN3Bar7displayEi로 변경되어 네임스페이스와 매개변수 유형 정보를 포함하게 된다."
   ]
  },
  {
   "cell_type": "code",
   "execution_count": 45,
   "metadata": {},
   "outputs": [
    {
     "name": "stdout",
     "output_type": "stream",
     "text": [
      "10\n",
      "20\n"
     ]
    }
   ],
   "source": [
    "class world:\n",
    "    x = 10\n",
    "    __india  = 20\n",
    "    \n",
    "print(world.x)\n",
    "print(world._world__india)"
   ]
  },
  {
   "cell_type": "markdown",
   "metadata": {},
   "source": [
    "    - `x`와 `__india` 는 두 가지 서로 다른 종류의 변수이다.\n",
    "    - x는 일반 클래스 변수 world.x 로 접근 가능\n",
    "    x가 단순히 10이라는 값을 가진 변수로, 이름 변경 없이 그대로 사용할 수 있음\n",
    "    - 이름이 변경된 클래스 변수(__india)\n",
    "    `__india`는 이름 변경을 적용한 변수로 클래스 내에서 **`__india` 라는 이름으로 정의됨\n",
    "    python은 이를 `_word__india`로 내부적으로 변경함.\n",
    "    이름이 변경된 이유는 `__india` 처럼 두 개의 언더스코어로 시작하는 변수를 사용하면\n",
    "    파이썬이 자동으로 이름을 변경하여 외부에서 접근하기 어렵게 만들기 위함.\n",
    "\n",
    "\n"
   ]
  },
  {
   "cell_type": "markdown",
   "metadata": {},
   "source": [
    "**40. What is difference betwwen class object and instance object?**\n",
    "\n",
    "    - Class object is called only once, instance object can be called any no. of times.\n",
    "    Class object declared with class object\n",
    "\n",
    "    Instance object is declared with t1 = class(positional arguments) and where the first argument is instanced object(t1) implicity. Also init method is called implicity after declaring instance object.\n",
    "\n",
    "    - 클래스 객체는 한 번만 호출되며, 인스턴스 객체는 원하는 만큼 호출할 수 있습니다. 클래스 객체는 클래스 객체로 선언된다. \n",
    "    인스턴스 객체는 t1 = 클래스(위치 인수)와 같이 선언되며, 첫 번째 인수는 인스턴스 객체(t1)를 암시적으로 가리킨다.\n",
    "    또한, 인스턴스 객체가 선언된 후 __init__ 메서드가 암시적으로 호출된다."
   ]
  },
  {
   "cell_type": "code",
   "execution_count": 46,
   "metadata": {},
   "outputs": [
    {
     "name": "stdout",
     "output_type": "stream",
     "text": [
      "20\n",
      "4 5\n",
      "4\n",
      "5\n"
     ]
    }
   ],
   "source": [
    "class test:\n",
    "    x = 20\n",
    "    def __init__(self, a, b):\n",
    "        self.a=a #instance member argument\n",
    "        self.b=b #instance member argument\n",
    "        \n",
    "    def show(self):\n",
    "        print(self.a, self.b)\n",
    "        \n",
    "\n",
    "print(test.x)\n",
    "t1 = test(4,5)\n",
    "t1.show()\n",
    "\n",
    "print(t1.a)\n",
    "print(t1.b)"
   ]
  },
  {
   "cell_type": "code",
   "execution_count": null,
   "metadata": {},
   "outputs": [],
   "source": []
  },
  {
   "cell_type": "code",
   "execution_count": null,
   "metadata": {},
   "outputs": [],
   "source": []
  },
  {
   "cell_type": "code",
   "execution_count": null,
   "metadata": {},
   "outputs": [],
   "source": []
  },
  {
   "cell_type": "code",
   "execution_count": null,
   "metadata": {},
   "outputs": [],
   "source": []
  },
  {
   "cell_type": "code",
   "execution_count": null,
   "metadata": {},
   "outputs": [],
   "source": []
  }
 ],
 "metadata": {
  "kernelspec": {
   "display_name": "venv",
   "language": "python",
   "name": "python3"
  },
  "language_info": {
   "codemirror_mode": {
    "name": "ipython",
    "version": 3
   },
   "file_extension": ".py",
   "mimetype": "text/x-python",
   "name": "python",
   "nbconvert_exporter": "python",
   "pygments_lexer": "ipython3",
   "version": "3.11.1"
  }
 },
 "nbformat": 4,
 "nbformat_minor": 2
}
