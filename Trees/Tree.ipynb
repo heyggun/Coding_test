{
 "cells": [
  {
   "cell_type": "markdown",
   "id": "7e68ce08",
   "metadata": {},
   "source": [
    "# 1. Tree 뒤집기 (left node, right node reverse)\n",
    "\n",
    "226. Invert Binary Tree\n",
    "\n",
    "https://leetcode.com/problems/invert-binary-tree/description/\n",
    "\n",
    "    Given the root of a binary tree, invert the tree, and return its root.\n",
    "\n",
    " \n",
    "\n",
    "    Example 1:\n",
    "    Input: root = [4,2,7,1,3,6,9]\n",
    "    Output: [4,7,2,9,6,3,1]\n",
    "    \n",
    "    Example 2:\n",
    "    Input: root = [2,1,3]\n",
    "    Output: [2,3,1]\n",
    "    \n",
    "    Example 3:\n",
    "    Input: root = []\n",
    "    Output: []\n",
    "\n",
    "\n",
    "**Constraints**\n",
    "\n",
    "    The number of nodes in the tree is in the range [0, 100].\n",
    "    -100 <= Node.val <= 100"
   ]
  },
  {
   "cell_type": "code",
   "execution_count": 1,
   "id": "c3134e0f",
   "metadata": {},
   "outputs": [],
   "source": [
    "class TreeNode:\n",
    "    def __init__(self, val=0, left=None, right=None):\n",
    "        self.val = val\n",
    "        self.left = left\n",
    "        self.right = right\n",
    "        \n",
    "class Solution:\n",
    "    def invertTree(self, root: TreeNode) -> TreeNode:\n",
    "        if not root:\n",
    "            return None\n",
    "        \n",
    "        tmp = root.left\n",
    "        root.left = root.right\n",
    "        root.right = tmp\n",
    "        \n",
    "        self.invertTree(root.left)\n",
    "        self.invertTree(root.right)\n",
    "        \n",
    "        return root\n",
    "        "
   ]
  },
  {
   "cell_type": "code",
   "execution_count": 5,
   "id": "fb1b7103",
   "metadata": {},
   "outputs": [
    {
     "name": "stdout",
     "output_type": "stream",
     "text": [
      "4 7 2\n"
     ]
    }
   ],
   "source": [
    "root = TreeNode(val=4, left=TreeNode(2,left=TreeNode(1), right=TreeNode(3)),\n",
    "                right=TreeNode(7,left=TreeNode(6), right=TreeNode(9)))\n",
    "\n",
    "sol = Solution()\n",
    "a1 = sol.invertTree(root)\n",
    "print(a1.val, a1.left.val, a1.right.val)"
   ]
  },
  {
   "cell_type": "code",
   "execution_count": null,
   "id": "8f78293a",
   "metadata": {},
   "outputs": [],
   "source": []
  }
 ],
 "metadata": {
  "kernelspec": {
   "display_name": "Python 3 (ipykernel)",
   "language": "python",
   "name": "python3"
  },
  "language_info": {
   "codemirror_mode": {
    "name": "ipython",
    "version": 3
   },
   "file_extension": ".py",
   "mimetype": "text/x-python",
   "name": "python",
   "nbconvert_exporter": "python",
   "pygments_lexer": "ipython3",
   "version": "3.9.13"
  }
 },
 "nbformat": 4,
 "nbformat_minor": 5
}
