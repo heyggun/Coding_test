{
 "cells": [
  {
   "cell_type": "markdown",
   "id": "3df139d1",
   "metadata": {},
   "source": [
    "# LV 2.\n",
    "\n",
    "조이스틱\n",
    "\n",
    "https://school.programmers.co.kr/learn/courses/30/lessons/42860"
   ]
  },
  {
   "cell_type": "markdown",
   "id": "30a4297e",
   "metadata": {},
   "source": [
    "**문제 설명**\n",
    "\n",
    "    조이스틱으로 알파벳 이름을 완성하세요. 맨 처음엔 A로만 이루어져 있습니다.\n",
    "    ex) 완성해야 하는 이름이 세 글자면 AAA, 네 글자면 AAAA\n",
    "\n",
    "    조이스틱을 각 방향으로 움직이면 아래와 같습니다.\n",
    "\n",
    "    ▲ - 다음 알파벳\n",
    "    ▼ - 이전 알파벳 (A에서 아래쪽으로 이동하면 Z로)\n",
    "    ◀ - 커서를 왼쪽으로 이동 (첫 번째 위치에서 왼쪽으로 이동하면 마지막 문자에 커서)\n",
    "    ▶ - 커서를 오른쪽으로 이동 (마지막 위치에서 오른쪽으로 이동하면 첫 번째 문자에 커서)\n",
    "\n",
    "    예를 들어 아래의 방법으로 \"JAZ\"를 만들 수 있습니다.\n",
    "\n",
    "    - 첫 번째 위치에서 조이스틱을 위로 9번 조작하여 J를 완성합니다.\n",
    "    - 조이스틱을 왼쪽으로 1번 조작하여 커서를 마지막 문자 위치로 이동시킵니다.\n",
    "    - 마지막 위치에서 조이스틱을 아래로 1번 조작하여 Z를 완성합니다.\n",
    "    따라서 11번 이동시켜 \"JAZ\"를 만들 수 있고, 이때가 최소 이동입니다.\n",
    "\n",
    "    만들고자 하는 이름 name이 매개변수로 주어질 때, 이름에 대해 조이스틱 조작 횟수의 최솟값을 return 하도록 solution 함수를 만드세요.\n",
    "\n",
    "**제한사항**\n",
    "\n",
    "    name은 알파벳 대문자로만 이루어져 있습니다.\n",
    "    name의 길이는 1 이상 20 이하입니다.\n",
    "\n",
    "**입출력 예**\n",
    "\n",
    "![](https://velog.velcdn.com/images/heyggun/post/c5b4d4f6-27cb-4348-a1c4-398df0959e1e/image.png)\n",
    "\n",
    "\n",
    "\n",
    "    ※ 공지 - 2019년 2월 28일 테스트케이스가 추가되었습니다.\n",
    "    ※ 공지 - 2022년 1월 14일 지문 수정 및 테스트케이스가 추가되었습니다. 이로 인해 이전에 통과하던 코드가 더 이상 통과하지 않을 수 있습니다.\n"
   ]
  },
  {
   "cell_type": "code",
   "execution_count": 22,
   "id": "5155c09a",
   "metadata": {},
   "outputs": [],
   "source": [
    "from collections import deque\n",
    "\n",
    "def solution(maps):\n",
    "    rows,cols = len(maps), len(maps[0])\n",
    "    x,y,dist = 0,0,0 \n",
    "    dx = [-1, 1, 0, 0] \n",
    "    dy = [0, 0, -1, 1]\n",
    "    queue = deque()\n",
    "    visited = [[False for _ in range(cols)] for _ in range(rows)]\n",
    "    opened = False \n",
    "    \n",
    "\n",
    "    for i,row in enumerate(maps) :\n",
    "        if 'S' in row :\n",
    "            j = row.index('S')\n",
    "            x,y,dist= i,j,0\n",
    "            visited[i][j] = True \n",
    "\n",
    "    while True :\n",
    "        for i in range(4) :\n",
    "            NEXT = [x + dx[i], y + dy[i]] \n",
    "            if 0 <= NEXT[0] < rows and 0 <= NEXT[1] < cols and not visited[NEXT[0]][NEXT[1]] and maps[NEXT[0]][NEXT[1]] != 'X':\n",
    "                queue.append([NEXT[0], NEXT[1], dist + 1])\n",
    "                visited[NEXT[0]][NEXT[1]] = True \n",
    "\n",
    "        if len(queue) != 0 :\n",
    "            x,y,dist= queue.popleft() \n",
    "        else :\n",
    "            dist = -1\n",
    "            break\n",
    "        \n",
    "        if not opened and maps[x][y] == 'L' :\n",
    "            opened = True\n",
    "            visited = [[False for _ in range(cols)] for _ in range(rows)] \n",
    "            visited[x][y] = True \n",
    "            queue = deque()\n",
    "            queue.append([x, y, dist]) \n",
    "        \n",
    "        if opened and maps[x][y] == 'E' : \n",
    "            break\n",
    "    \n",
    "    return dist"
   ]
  },
  {
   "cell_type": "code",
   "execution_count": 21,
   "id": "f075a245",
   "metadata": {},
   "outputs": [
    {
     "name": "stdout",
     "output_type": "stream",
     "text": [
      "16\n",
      "-1\n"
     ]
    }
   ],
   "source": [
    "print(solution([\"SOOOL\",\"XXXXO\",\"OOOOO\",\"OXXXX\",\"OOOOE\"]))\n",
    "print(solution([\"LOOXS\",\"OOOOX\",\"OOOOO\",\"OOOOO\",\"EOOOO\"]))"
   ]
  },
  {
   "attachments": {
    "image.png": {
     "image/png": "[encoded data removed]"
    }
   },
   "cell_type": "markdown",
   "id": "098d1512",
   "metadata": {},
   "source": [
    "![image.png](attachment:image.png)"
   ]
  },
  {
   "cell_type": "code",
   "execution_count": 10,
   "id": "6c69c2b4",
   "metadata": {},
   "outputs": [
    {
     "data": {
      "text/plain": [
       "8"
      ]
     },
     "execution_count": 10,
     "metadata": {},
     "output_type": "execute_result"
    }
   ],
   "source": [
    "from collections import deque\n",
    "\n",
    "maps = [\"LOOXS\",\"OOOOX\",\"OOOOO\",\"OOOOO\",\"EOOOO\"]\n",
    "\n",
    "position = [(1,0), (-1,0), (0,1), (0,-1)]\n",
    "visited = [[False]*len(maps[0]) for _ in range(len(maps))]\n",
    "OPEN = False\n",
    "x,y,dist = 0,0,0\n",
    "queue = deque()\n",
    "\n",
    "for i in range(len(maps)):\n",
    "    for j in range(len(maps[0])):\n",
    "        if maps[i][j] == 'S':\n",
    "            x,y,dist = i,j,0\n",
    "            visited[i][j]= True\n",
    "            \n",
    "while True:\n",
    "    for idx in range(len(position)):\n",
    "        dx, dy = x+position[idx][0], y+position[idx][1]\n",
    "        if 0<=dx<len(maps) and 0<=dy<len(maps[0]) and not visited[dx][dy] and maps[dx][dx] != 'X':\n",
    "            queue.append([dx, dy, dist+1])\n",
    "            visited[dx][dy] = True\n",
    "            \n",
    "    if len(queue)!=0:\n",
    "        x,y,dist = queue.popleft()\n",
    "    else:\n",
    "        dist = -1\n",
    "        break\n",
    "        \n",
    "    if not OPEN and maps[x][y] == 'L':\n",
    "        OPEN=True\n",
    "        visited = [[False]*len(maps[0]) for _ in range(len(maps))]\n",
    "        visited[x][y] = True\n",
    "        queue = deque()\n",
    "        queue.append([x,y,dist])\n",
    "        \n",
    "    if OPEN and maps[x][y] == 'E':\n",
    "        break\n",
    "        \n",
    "dist"
   ]
  },
  {
   "cell_type": "code",
   "execution_count": null,
   "id": "f46c8f5c",
   "metadata": {},
   "outputs": [],
   "source": []
  }
 ],
 "metadata": {
  "kernelspec": {
   "display_name": "Python 3 (ipykernel)",
   "language": "python",
   "name": "python3"
  },
  "language_info": {
   "codemirror_mode": {
    "name": "ipython",
    "version": 3
   },
   "file_extension": ".py",
   "mimetype": "text/x-python",
   "name": "python",
   "nbconvert_exporter": "python",
   "pygments_lexer": "ipython3",
   "version": "3.9.12"
  }
 },
 "nbformat": 4,
 "nbformat_minor": 5
}
