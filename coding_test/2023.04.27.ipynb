{
 "cells": [
  {
   "cell_type": "markdown",
   "id": "4afa8ec0",
   "metadata": {},
   "source": [
    "# LV 2.\n",
    "\n",
    "순위 검색\n",
    "\n",
    "https://school.programmers.co.kr/learn/courses/30/lessons/72412"
   ]
  },
  {
   "cell_type": "markdown",
   "id": "15f9dbe2",
   "metadata": {},
   "source": [
    "**문제 설명**\n",
    "\n",
    "    [본 문제는 정확성과 효율성 테스트 각각 점수가 있는 문제입니다.]\n",
    "\n",
    "    카카오는 하반기 경력 개발자 공개채용을 진행 중에 있으며 현재 지원서 접수와 코딩테스트가 종료되었습니다. 이번 채용에서 지원자는 지원서 작성 시 아래와 같이 4가지 항목을 반드시 선택하도록 하였습니다.\n",
    "\n",
    "    코딩테스트 참여 개발언어 항목에 cpp, java, python 중 하나를 선택해야 합니다.\n",
    "    지원 직군 항목에 backend와 frontend 중 하나를 선택해야 합니다.\n",
    "    지원 경력구분 항목에 junior와 senior 중 하나를 선택해야 합니다.\n",
    "    선호하는 소울푸드로 chicken과 pizza 중 하나를 선택해야 합니다.\n",
    "    인재영입팀에 근무하고 있는 니니즈는 코딩테스트 결과를 분석하여 채용에 참여한 개발팀들에 제공하기 위해 지원자들의 지원 조건을 선택하면 해당 조건에 맞는 지원자가 몇 명인 지 쉽게 알 수 있는 도구를 만들고 있습니다.\n",
    "    예를 들어, 개발팀에서 궁금해하는 문의사항은 다음과 같은 형태가 될 수 있습니다.\n",
    "    코딩테스트에 java로 참여했으며, backend 직군을 선택했고, junior 경력이면서, 소울푸드로 pizza를 선택한 사람 중 코딩테스트 점수를 50점 이상 받은 지원자는 몇 명인가?\n",
    "\n",
    "    물론 이 외에도 각 개발팀의 상황에 따라 아래와 같이 다양한 형태의 문의가 있을 수 있습니다.\n",
    "\n",
    "    코딩테스트에 python으로 참여했으며, frontend 직군을 선택했고, senior 경력이면서, 소울푸드로 chicken을 선택한 사람 중 코딩테스트 점수를 100점 이상 받은 사람은 모두 몇 명인가?\n",
    "    코딩테스트에 cpp로 참여했으며, senior 경력이면서, 소울푸드로 pizza를 선택한 사람 중 코딩테스트 점수를 100점 이상 받은 사람은 모두 몇 명인가?\n",
    "    backend 직군을 선택했고, senior 경력이면서 코딩테스트 점수를 200점 이상 받은 사람은 모두 몇 명인가?\n",
    "    소울푸드로 chicken을 선택한 사람 중 코딩테스트 점수를 250점 이상 받은 사람은 모두 몇 명인가?\n",
    "    코딩테스트 점수를 150점 이상 받은 사람은 모두 몇 명인가?\n",
    "    즉, 개발팀에서 궁금해하는 내용은 다음과 같은 형태를 갖습니다.\n",
    "\n",
    "    * [조건]을 만족하는 사람 중 코딩테스트 점수를 X점 이상 받은 사람은 모두 몇 명인가?\n",
    "\n",
    "**[문제]**\n",
    "\n",
    "    지원자가 지원서에 입력한 4가지의 정보와 획득한 코딩테스트 점수를 하나의 문자열로 구성한 값의 배열 info, 개발팀이 궁금해하는 문의조건이 문자열 형태로 담긴 배열 query가 매개변수로 주어질 때,\n",
    "    각 문의조건에 해당하는 사람들의 숫자를 순서대로 배열에 담아 return 하도록 solution 함수를 완성해 주세요.\n",
    "\n",
    "**제한사항**\n",
    "\n",
    "    info 배열의 크기는 1 이상 50,000 이하입니다.\n",
    "    info 배열 각 원소의 값은 지원자가 지원서에 입력한 4가지 값과 코딩테스트 점수를 합친 \"개발언어 직군 경력 소울푸드 점수\" 형식입니다.\n",
    "    개발언어는 cpp, java, python 중 하나입니다.\n",
    "    직군은 backend, frontend 중 하나입니다.\n",
    "    경력은 junior, senior 중 하나입니다.\n",
    "    소울푸드는 chicken, pizza 중 하나입니다.\n",
    "    점수는 코딩테스트 점수를 의미하며, 1 이상 100,000 이하인 자연수입니다.\n",
    "    각 단어는 공백문자(스페이스 바) 하나로 구분되어 있습니다.\n",
    "    query 배열의 크기는 1 이상 100,000 이하입니다.\n",
    "    query의 각 문자열은 \"[조건] X\" 형식입니다.\n",
    "    [조건]은 \"개발언어 and 직군 and 경력 and 소울푸드\" 형식의 문자열입니다.\n",
    "    언어는 cpp, java, python, - 중 하나입니다.\n",
    "    직군은 backend, frontend, - 중 하나입니다.\n",
    "    경력은 junior, senior, - 중 하나입니다.\n",
    "    소울푸드는 chicken, pizza, - 중 하나입니다.\n",
    "    '-' 표시는 해당 조건을 고려하지 않겠다는 의미입니다.\n",
    "    X는 코딩테스트 점수를 의미하며 조건을 만족하는 사람 중 X점 이상 받은 사람은 모두 몇 명인 지를 의미합니다.\n",
    "    각 단어는 공백문자(스페이스 바) 하나로 구분되어 있습니다.\n",
    "    예를 들면, \"cpp and - and senior and pizza 500\"은 \"cpp로 코딩테스트를 봤으며, 경력은 senior 이면서 소울푸드로 pizza를 선택한 지원자 중 코딩테스트 점수를 500점 이상 받은 사람은 모두 몇 명인가?\"를 의미합니다.\n",
    "\n",
    "\n",
    "\n",
    "**입출력 예**\n",
    "\n",
    "![](https://velog.velcdn.com/images/heyggun/post/3639a64b-8192-4377-9de1-ae83d219d8e7/image.png)\n",
    "\n",
    "\n",
    "**입출력 예에 대한 설명**\n",
    "\n",
    "    지원자 정보를 표로 나타내면 다음과 같습니다.\n",
    "\n",
    "![](https://velog.velcdn.com/images/heyggun/post/faeed0e0-a80d-4df0-b8c4-683ad57fe5a5/image.png)\n",
    "\n",
    "    \"java and backend and junior and pizza 100\" : java로 코딩테스트를 봤으며, backend 직군을 선택했고 junior 경력이면서 소울푸드로 pizza를 선택한 지원자 중 코딩테스트 점수를 100점 이상 받은 지원자는 1명 입니다.\n",
    "    \"python and frontend and senior and chicken 200\" : python으로 코딩테스트를 봤으며, frontend 직군을 선택했고, senior 경력이면서 소울 푸드로 chicken을 선택한 지원자 중 코딩테스트 점수를 200점 이상 받은 지원자는 1명 입니다.\n",
    "    \"cpp and - and senior and pizza 250\" : cpp로 코딩테스트를 봤으며, senior 경력이면서 소울푸드로 pizza를 선택한 지원자 중 코딩테스트 점수를 250점 이상 받은 지원자는 1명 입니다.\n",
    "    \"- and backend and senior and - 150\" : backend 직군을 선택했고, senior 경력인 지원자 중 코딩테스트 점수를 150점 이상 받은 지원자는 1명 입니다.\n",
    "    \"- and - and - and chicken 100\" : 소울푸드로 chicken을 선택한 지원자 중 코딩테스트 점수를 100점 이상을 받은 지원자는 2명 입니다.\n",
    "    \"- and - and - and - 150\" : 코딩테스트 점수를 150점 이상 받은 지원자는 4명 입니다.\n"
   ]
  },
  {
   "cell_type": "code",
   "execution_count": 100,
   "id": "7082f5da",
   "metadata": {},
   "outputs": [],
   "source": [
    "import pandas as pd\n",
    "\n",
    "def solution(info, query):\n",
    "    answer = []\n",
    "    df = pd.DataFrame(columns=['lang','position','step','food','score'])\n",
    "\n",
    "    for idx, INFO in enumerate(info):\n",
    "        i = INFO.split(' ')\n",
    "        df.loc[idx, 'lang'] = i[0]\n",
    "        df.loc[idx, 'position'] = i[1]\n",
    "        df.loc[idx, 'step'] = i[2]\n",
    "        df.loc[idx, 'food'] = i[3]\n",
    "        df.loc[idx, 'score'] = int(i[4])\n",
    "\n",
    "    df['score'] = df['score'].astype(int)\n",
    "\n",
    "    for idx,QUERY in enumerate(query):\n",
    "        q = QUERY.split(' ')\n",
    "        LANG, POSITION, STEP, FOOD, SCORE = q[0], q[2], q[4], q[6], q[7]\n",
    "        query_dict = {\"lang\" : LANG, \"position\" : POSITION, \"step\" :STEP, \"food\" :FOOD, \"score\" :SCORE}\n",
    "        query_dict = {k:v for k,v in query_dict.items() if v!='-'}\n",
    "\n",
    "        tmp_df = df.copy()\n",
    "        searchQuery = \"\"\n",
    "\n",
    "        for k,v in query_dict.items():\n",
    "            if k !='score':\n",
    "                tmp_df = tmp_df.query(f\"{k} == '{v}'\")\n",
    "            else:\n",
    "                tmp_df = tmp_df.query(f\"{k}>={v}\")\n",
    "\n",
    "        answer.append(tmp_df.shape[0])\n",
    "\n",
    "    return answer"
   ]
  },
  {
   "cell_type": "code",
   "execution_count": 101,
   "id": "65683c6b",
   "metadata": {},
   "outputs": [
    {
     "name": "stdout",
     "output_type": "stream",
     "text": [
      "[1, 1, 1, 1, 2, 4]\n"
     ]
    }
   ],
   "source": [
    "print(solution([\"java backend junior pizza 150\",\"python frontend senior chicken 210\",\n",
    "        \"python frontend senior chicken 150\",\"cpp backend senior pizza 260\",\n",
    "        \"java backend junior chicken 80\",\"python backend senior chicken 50\"],\n",
    "          [\"java and backend and junior and pizza 100\",\"python and frontend and senior and chicken 200\",\n",
    "         \"cpp and - and senior and pizza 250\",\"- and backend and senior and - 150\",\n",
    "         \"- and - and - and chicken 100\",\n",
    "         \"- and - and - and - 150\"]))"
   ]
  },
  {
   "cell_type": "code",
   "execution_count": null,
   "id": "5b5773bb",
   "metadata": {},
   "outputs": [],
   "source": []
  },
  {
   "cell_type": "code",
   "execution_count": 99,
   "id": "8d0db632",
   "metadata": {},
   "outputs": [
    {
     "data": {
      "text/plain": [
       "[1, 1, 1, 1, 2, 4]"
      ]
     },
     "execution_count": 99,
     "metadata": {},
     "output_type": "execute_result"
    }
   ],
   "source": [
    "import pandas as pd\n",
    "\n",
    "info = [\"java backend junior pizza 150\",\"python frontend senior chicken 210\",\n",
    "        \"python frontend senior chicken 150\",\"cpp backend senior pizza 260\",\n",
    "        \"java backend junior chicken 80\",\"python backend senior chicken 50\"]\n",
    "query = [\"java and backend and junior and pizza 100\",\"python and frontend and senior and chicken 200\",\n",
    "         \"cpp and - and senior and pizza 250\",\"- and backend and senior and - 150\",\n",
    "         \"- and - and - and chicken 100\",\n",
    "         \"- and - and - and - 150\"]\n",
    "\n",
    "answer = []\n",
    "df = pd.DataFrame(columns=['lang','position','step','food','score'])\n",
    "\n",
    "for idx, INFO in enumerate(info):\n",
    "    i = INFO.split(' ')\n",
    "    df.loc[idx, 'lang'] = i[0]\n",
    "    df.loc[idx, 'position'] = i[1]\n",
    "    df.loc[idx, 'step'] = i[2]\n",
    "    df.loc[idx, 'food'] = i[3]\n",
    "    df.loc[idx, 'score'] = int(i[4])\n",
    "        \n",
    "df['score'] = df['score'].astype(int)\n",
    "\n",
    "for idx,QUERY in enumerate(query):\n",
    "    q = QUERY.split(' ')\n",
    "    LANG, POSITION, STEP, FOOD, SCORE = q[0], q[2], q[4], q[6], q[7]\n",
    "    query_dict = {\"lang\" : LANG, \"position\" : POSITION, \"step\" :STEP, \"food\" :FOOD, \"score\" :SCORE}\n",
    "    query_dict = {k:v for k,v in query_dict.items() if v!='-'}\n",
    "    \n",
    "    tmp_df = df.copy()\n",
    "    searchQuery = \"\"\n",
    "\n",
    "    for k,v in query_dict.items():\n",
    "        if k !='score':\n",
    "            tmp_df = tmp_df.query(f\"{k} == '{v}'\")\n",
    "        else:\n",
    "            tmp_df = tmp_df.query(f\"{k}>={v}\")\n",
    "\n",
    "    answer.append(tmp_df.shape[0])\n",
    "    \n",
    "answer"
   ]
  },
  {
   "attachments": {
    "image.png": {
     "image/png": "[encoded data removed]"
    }
   },
   "cell_type": "markdown",
   "id": "791078fc",
   "metadata": {},
   "source": [
    "![image.png](attachment:image.png)"
   ]
  },
  {
   "cell_type": "code",
   "execution_count": null,
   "id": "e7510c37",
   "metadata": {},
   "outputs": [],
   "source": []
  },
  {
   "cell_type": "code",
   "execution_count": null,
   "id": "69af7497",
   "metadata": {},
   "outputs": [],
   "source": []
  },
  {
   "cell_type": "code",
   "execution_count": 155,
   "id": "39f451b5",
   "metadata": {},
   "outputs": [],
   "source": [
    "info = [\"java backend junior pizza 150\",\"python frontend senior chicken 210\",\n",
    "        \"python frontend senior chicken 150\",\"cpp backend senior pizza 260\",\n",
    "        \"java backend junior chicken 80\",\"python backend senior chicken 50\"]\n",
    "query = [\"java and backend and junior and pizza 100\",\"python and frontend and senior and chicken 200\",\n",
    "         \"cpp and - and senior and pizza 250\",\"- and backend and senior and - 150\",\n",
    "         \"- and - and - and chicken 100\",\n",
    "         \"- and - and - and - 150\"]"
   ]
  },
  {
   "cell_type": "code",
   "execution_count": 149,
   "id": "4c8a9749",
   "metadata": {},
   "outputs": [
    {
     "data": {
      "text/plain": [
       "[1, 1, 1, 1, 2, 4]"
      ]
     },
     "execution_count": 149,
     "metadata": {},
     "output_type": "execute_result"
    }
   ],
   "source": [
    "from itertools import combinations\n",
    "\n",
    "answer = []\n",
    "db = {}\n",
    "\n",
    "for i in info:\n",
    "    temp = i.split()\n",
    "    conditions = temp[:-1]\n",
    "    score = int(temp[-1])\n",
    "    for n in range(5):\n",
    "        combi = list(combinations(range(4), n))\n",
    "        for c in combi:\n",
    "            t_c = conditions.copy()\n",
    "            for v in c:\n",
    "                t_c[v] = '-'\n",
    "            changed_t_c = '/'.join(t_c)\n",
    "            if changed_t_c in db:\n",
    "                db[changed_t_c].append(score)\n",
    "            else:\n",
    "                db[changed_t_c] = [score]\n",
    "                \n",
    "for value in db.values():\n",
    "    value.sort()\n",
    "    \n",
    "for q in query:\n",
    "    qry = [i for i in q.split() if i!='and']\n",
    "    qry_cnd = '/'.join(qry[:-1])\n",
    "    qry_score = int(qry[-1])\n",
    "    \n",
    "    if qry_cnd in db:\n",
    "        data = db[qry_cnd]\n",
    "        if len(data) >0:\n",
    "            start,end = 0, len(data)\n",
    "            while start != end and start != len(data):\n",
    "                if data[(start+end)//2] >= qry_score:\n",
    "                    end = (start+end)//2\n",
    "                else:\n",
    "                    start = (start+end)//2+1\n",
    "            \n",
    "            answer.append(len(data)-start)\n",
    "            \n",
    "    else:\n",
    "        answer.append(0)\n",
    "        \n",
    "answer"
   ]
  },
  {
   "cell_type": "code",
   "execution_count": null,
   "id": "b4857b8a",
   "metadata": {},
   "outputs": [],
   "source": []
  },
  {
   "cell_type": "code",
   "execution_count": null,
   "id": "a1313432",
   "metadata": {},
   "outputs": [],
   "source": []
  },
  {
   "cell_type": "code",
   "execution_count": 201,
   "id": "128b5889",
   "metadata": {},
   "outputs": [
    {
     "data": {
      "text/plain": [
       "[1, 1, 1, 1, 2, 4]"
      ]
     },
     "execution_count": 201,
     "metadata": {},
     "output_type": "execute_result"
    }
   ],
   "source": [
    "\n",
    "from itertools import combinations\n",
    "\n",
    "\n",
    "info = [\"java backend junior pizza 150\",\"python frontend senior chicken 210\",\n",
    "        \"python frontend senior chicken 150\",\"cpp backend senior pizza 260\",\n",
    "        \"java backend junior chicken 80\",\"python backend senior chicken 50\"]\n",
    "query = [\"java and backend and junior and pizza 100\",\"python and frontend and senior and chicken 200\",\n",
    "         \"cpp and - and senior and pizza 250\",\"- and backend and senior and - 150\",\n",
    "         \"- and - and - and chicken 100\",\n",
    "         \"- and - and - and - 150\"]\n",
    "\n",
    "answer = []\n",
    "infoDict = dict()\n",
    "\n",
    "for i in info:\n",
    "    data = i.split()[:-1]\n",
    "    score = int(i.split()[-1])\n",
    "    \n",
    "    for idx in range(5):\n",
    "        coms = combinations(range(4),idx)\n",
    "        for com in coms:\n",
    "            tmp = data.copy()\n",
    "            for c in com:\n",
    "                tmp[c] = '-'\n",
    "            key = '/'.join(tmp)\n",
    "            if key in infoDict:\n",
    "                infoDict[key].append(score)\n",
    "            else:\n",
    "                infoDict[key] = [score]\n",
    "                \n",
    "for val in infoDict.values():\n",
    "    val.sort()\n",
    "    \n",
    "for q in query:\n",
    "    Query = [Q for Q in q.split() if Q != 'and']\n",
    "    q_data = '/'.join(Query[:-1])\n",
    "    q_score = int(Query[-1])\n",
    "    \n",
    "    if q_data in infoDict:\n",
    "        target = infoDict[q_data]\n",
    "        if len(target)>0:\n",
    "            start, end = 0, len(target)\n",
    "            while start != end and start!=len(target):\n",
    "                if target[(start+end)//2] >= q_score:\n",
    "                    end = (start+end)//2\n",
    "                else:\n",
    "                    start = (start+end)//2 +1\n",
    "                    \n",
    "            answer.append(len(target)-start)\n",
    "        \n",
    "        else:\n",
    "            answer.append(0)\n",
    "            \n",
    "answer\n",
    "            "
   ]
  },
  {
   "cell_type": "code",
   "execution_count": null,
   "id": "8fe9b9bb",
   "metadata": {},
   "outputs": [],
   "source": []
  },
  {
   "cell_type": "code",
   "execution_count": 219,
   "id": "e3436492",
   "metadata": {},
   "outputs": [
    {
     "data": {
      "text/plain": [
       "[1, 1, 1, 1, 2, 4]"
      ]
     },
     "execution_count": 219,
     "metadata": {},
     "output_type": "execute_result"
    }
   ],
   "source": [
    "# bisect 라이브러리 활용\n",
    "\n",
    "from itertools import combinations\n",
    "from bisect import bisect_left, bisect_right\n",
    "\n",
    "\n",
    "info = [\"java backend junior pizza 150\",\"python frontend senior chicken 210\",\n",
    "        \"python frontend senior chicken 150\",\"cpp backend senior pizza 260\",\n",
    "        \"java backend junior chicken 80\",\"python backend senior chicken 50\"]\n",
    "query = [\"java and backend and junior and pizza 100\",\"python and frontend and senior and chicken 200\",\n",
    "         \"cpp and - and senior and pizza 250\",\"- and backend and senior and - 150\",\n",
    "         \"- and - and - and chicken 100\",\n",
    "         \"- and - and - and - 150\"]\n",
    "\n",
    "answer = []\n",
    "infoDict = dict()\n",
    "\n",
    "for INFO in info:\n",
    "    data = INFO.split(' ')[:-1]\n",
    "    score = int(INFO.split(' ')[-1])\n",
    "    \n",
    "    for i in range(5):\n",
    "        coms = combinations(range(4), i)\n",
    "        for com in coms:\n",
    "            tmp = data.copy()\n",
    "            for idx in com:\n",
    "                tmp[idx] = '-'\n",
    "            tmp_key = '/'.join(tmp)\n",
    "            \n",
    "            if tmp_key in infoDict:\n",
    "                infoDict[tmp_key].append(score)\n",
    "            else:\n",
    "                infoDict[tmp_key] = [score]\n",
    "                \n",
    "for v in infoDict.values():\n",
    "    v.sort()\n",
    "    \n",
    "for QUERY in query:\n",
    "    q_data = '/'.join([Q for Q in QUERY.split(' ') if Q!='and'][:-1])\n",
    "    q_score = int(QUERY.split(' ')[-1])\n",
    "    cnt= 0\n",
    "    if q_data in infoDict:\n",
    "        targetList = infoDict[q_data]\n",
    "        start = bisect_left(targetList, q_score)\n",
    "        cnt = len(targetList) - start\n",
    "    answer.append(cnt)    \n",
    "        \n",
    "answer"
   ]
  },
  {
   "cell_type": "code",
   "execution_count": null,
   "id": "addfcec6",
   "metadata": {},
   "outputs": [],
   "source": []
  },
  {
   "cell_type": "markdown",
   "id": "d8e302ec",
   "metadata": {},
   "source": [
    "----"
   ]
  },
  {
   "cell_type": "code",
   "execution_count": 229,
   "id": "1924e509",
   "metadata": {},
   "outputs": [],
   "source": [
    "from itertools import combinations\n",
    "from bisect import bisect_left\n",
    "\n",
    "def solution(info, query):\n",
    "    answer = []\n",
    "    infoDict = dict()\n",
    "    \n",
    "    for INFO in info:\n",
    "        data = INFO.split(' ')[:-1]\n",
    "        score = int(INFO.split(' ')[-1])\n",
    "        \n",
    "        for i in range(5):\n",
    "            coms = combinations(range(4),i)\n",
    "            for com in coms:\n",
    "                tmp_data = data.copy()\n",
    "                for idx in com:\n",
    "                    tmp_data[idx] = '-'\n",
    "                infoKey = '/'.join(tmp_data)\n",
    "                \n",
    "                if infoKey in infoDict:\n",
    "                    infoDict[infoKey].append(score)\n",
    "                \n",
    "                else:\n",
    "                    infoDict[infoKey] = [score]\n",
    "                    \n",
    "    for v in infoDict.values():\n",
    "        v.sort()\n",
    "    \n",
    "    for QUERY in query:\n",
    "        q_data = '/'.join([Q for Q in QUERY.split(' ') if Q!='and'][:-1])\n",
    "        q_score = int(QUERY.split(' ')[-1])  \n",
    "        cnt = 0\n",
    "        if q_data in infoDict:\n",
    "            targetList = infoDict[q_data]\n",
    "            idx = bisect_left(targetList, q_score)\n",
    "            cnt = len(targetList) - idx\n",
    "            \n",
    "        answer.append(cnt)\n",
    "\n",
    "    return answer\n"
   ]
  },
  {
   "cell_type": "code",
   "execution_count": 230,
   "id": "b12f011f",
   "metadata": {},
   "outputs": [
    {
     "name": "stdout",
     "output_type": "stream",
     "text": [
      "[1, 1, 1, 1, 2, 4]\n"
     ]
    }
   ],
   "source": [
    "print(solution([\"java backend junior pizza 150\",\"python frontend senior chicken 210\",\n",
    "        \"python frontend senior chicken 150\",\"cpp backend senior pizza 260\",\n",
    "        \"java backend junior chicken 80\",\"python backend senior chicken 50\"],\n",
    "          [\"java and backend and junior and pizza 100\",\"python and frontend and senior and chicken 200\",\n",
    "         \"cpp and - and senior and pizza 250\",\"- and backend and senior and - 150\",\n",
    "         \"- and - and - and chicken 100\",\n",
    "         \"- and - and - and - 150\"]))"
   ]
  },
  {
   "cell_type": "code",
   "execution_count": null,
   "id": "b8f53c43",
   "metadata": {},
   "outputs": [],
   "source": []
  }
 ],
 "metadata": {
  "kernelspec": {
   "display_name": "Python 3 (ipykernel)",
   "language": "python",
   "name": "python3"
  },
  "language_info": {
   "codemirror_mode": {
    "name": "ipython",
    "version": 3
   },
   "file_extension": ".py",
   "mimetype": "text/x-python",
   "name": "python",
   "nbconvert_exporter": "python",
   "pygments_lexer": "ipython3",
   "version": "3.9.12"
  }
 },
 "nbformat": 4,
 "nbformat_minor": 5
}
