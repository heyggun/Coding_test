{
 "cells": [
  {
   "cell_type": "markdown",
   "id": "e3b17977",
   "metadata": {},
   "source": [
    "# LV 0. (1)\n",
    "\n",
    "문자열 뒤의 n글자\n",
    "\n",
    "https://school.programmers.co.kr/learn/courses/30/lessons/181910"
   ]
  },
  {
   "cell_type": "markdown",
   "id": "d660a4b1",
   "metadata": {},
   "source": [
    "**문제 설명**\n",
    "\n",
    "    문자열 my_string과 정수 n이 매개변수로 주어질 때, my_string의 뒤의 n글자로 이루어진 문자열을 return 하는 solution 함수를 작성해 주세요.\n",
    "\n",
    "**제한 사항**\n",
    "\n",
    "    my_string은 숫자와 알파벳으로 이루어져 있습니다.\n",
    "    1 ≤ my_string의 길이 ≤ 1,000\n",
    "    1 ≤ n ≤ my_string의 길이\n",
    "\n",
    "**입출력 예**\n",
    "\n",
    "![](https://velog.velcdn.com/images/heyggun/post/bc00a001-d375-4d04-b71a-b1a62b908a62/image.png)\n",
    "\n",
    "**입출력 예의 설명**\n",
    "\n",
    "    입출력 예 #1\n",
    "    예제 1번의 my_string에서 뒤의 11글자는 \"grammerS123\"이므로 이 문자열을 return 합니다.\n",
    "    \n",
    "    입출력 예 #2\n",
    "    예제 2번의 my_string에서 뒤의 5글자는 \"W0r1d\"이므로 이 문자열을 return 합니다."
   ]
  },
  {
   "cell_type": "code",
   "execution_count": 4,
   "id": "9ea8695c",
   "metadata": {},
   "outputs": [],
   "source": [
    "def solution(my_string, n):\n",
    "    return my_string[-n:]"
   ]
  },
  {
   "cell_type": "code",
   "execution_count": 5,
   "id": "8f189cd1",
   "metadata": {},
   "outputs": [
    {
     "name": "stdout",
     "output_type": "stream",
     "text": [
      "grammerS123\n",
      "W0r1d\n"
     ]
    }
   ],
   "source": [
    "print(solution(\"ProgrammerS123\",11))\n",
    "print(solution(\"He110W0r1d\",5))"
   ]
  },
  {
   "cell_type": "code",
   "execution_count": 3,
   "id": "192c8aaa",
   "metadata": {},
   "outputs": [
    {
     "data": {
      "text/plain": [
       "'grammerS123'"
      ]
     },
     "execution_count": 3,
     "metadata": {},
     "output_type": "execute_result"
    }
   ],
   "source": [
    "my_string, n = \"ProgrammerS123\", 11\n",
    "\n",
    "my_string[-n:]"
   ]
  },
  {
   "attachments": {
    "image.png": {
     "image/png": "[encoded data removed]"
    }
   },
   "cell_type": "markdown",
   "id": "a5237225",
   "metadata": {},
   "source": [
    "![image.png](attachment:image.png)"
   ]
  },
  {
   "cell_type": "code",
   "execution_count": null,
   "id": "6b0092b8",
   "metadata": {},
   "outputs": [],
   "source": []
  },
  {
   "cell_type": "markdown",
   "id": "df029b87",
   "metadata": {},
   "source": [
    "# LV 0. (2)\n",
    "\n",
    "flag에 따라 다른 값 반환하기\n",
    "\n",
    "https://school.programmers.co.kr/learn/courses/30/lessons/181933"
   ]
  },
  {
   "cell_type": "markdown",
   "id": "1d5eb254",
   "metadata": {},
   "source": [
    "**문제 설명**\n",
    "\n",
    "    두 정수 a, b와 boolean 변수 flag가 매개변수로 주어질 때, flag가 true면 a + b를 false면 a - b를 return 하는 solution 함수를 작성해 주세요.\n",
    "\n",
    "\n",
    "**제한사항**\n",
    "\n",
    "    -1000 ≤ a, b ≤ 1,000\n",
    "\n",
    "**입출력 예**\n",
    "\n",
    "![](https://velog.velcdn.com/images/heyggun/post/9f853577-733e-41b4-a36e-4fabbfbb885e/image.png)\n",
    "\n",
    "**입출력 예 설명**\n",
    "\n",
    "    입출력 예 #1\n",
    "    예제 1번에서 flag가 true이므로 a + b = (-4) + 7 = 3을 return 합니다.\n",
    "\n",
    "    입출력 예 #2\n",
    "    예제 2번에서 flag가 false이므로 a - b = (-4) - 7 = -11을 return 합니다."
   ]
  },
  {
   "cell_type": "code",
   "execution_count": 8,
   "id": "ebf06316",
   "metadata": {},
   "outputs": [],
   "source": [
    "def solution(a, b, flag):\n",
    "    return a-b if not flag else a+b"
   ]
  },
  {
   "cell_type": "code",
   "execution_count": 9,
   "id": "150d0c1b",
   "metadata": {},
   "outputs": [
    {
     "name": "stdout",
     "output_type": "stream",
     "text": [
      "3\n",
      "-11\n"
     ]
    }
   ],
   "source": [
    "print(solution(-4,7,True))\n",
    "print(solution(-4,7,False))"
   ]
  },
  {
   "cell_type": "code",
   "execution_count": 7,
   "id": "f730dff0",
   "metadata": {},
   "outputs": [
    {
     "data": {
      "text/plain": [
       "3"
      ]
     },
     "execution_count": 7,
     "metadata": {},
     "output_type": "execute_result"
    }
   ],
   "source": [
    "a,b,flag = -4, 7, True\n",
    "\n",
    "a-b if not flag else a+b"
   ]
  },
  {
   "attachments": {
    "image.png": {
     "image/png": "[encoded data removed]"
    }
   },
   "cell_type": "markdown",
   "id": "8da8009c",
   "metadata": {},
   "source": [
    "![image.png](attachment:image.png)"
   ]
  },
  {
   "cell_type": "code",
   "execution_count": null,
   "id": "92bceac5",
   "metadata": {},
   "outputs": [],
   "source": []
  },
  {
   "cell_type": "markdown",
   "id": "cffc709a",
   "metadata": {},
   "source": [
    "# LV 0. (3)\n",
    "\n",
    "문자열 곱하기\n",
    "\n",
    "https://school.programmers.co.kr/learn/courses/30/lessons/181940"
   ]
  },
  {
   "cell_type": "markdown",
   "id": "87313bbd",
   "metadata": {},
   "source": [
    "**문제 설명**\n",
    "\n",
    "    문자열 my_string과 정수 k가 주어질 때, my_string을 k번 반복한 문자열을 return 하는 solution 함수를 작성해 주세요.\n",
    "\n",
    "**제한사항**\n",
    "\n",
    "    1 ≤ my_string의 길이 ≤ 100\n",
    "    my_string은 영소문자로만 이루어져 있습니다.\n",
    "    1 ≤ k ≤ 100\n",
    "\n",
    "\n",
    "**입출력 예**\n",
    "\n",
    "![](https://velog.velcdn.com/images/heyggun/post/d1115209-2ff0-4887-9de6-c727d2b29e79/image.png)\n",
    "\n",
    "**입출력 예 설명**\n",
    "\n",
    "    입출력 예 #1\n",
    "    예제 1번의 my_string은 \"string\"이고 이를 3번 반복한 문자열은 \"stringstringstring\"이므로 이를 return 합니다.\n",
    "\n",
    "    입출력 예 #2\n",
    "    예제 2번의 my_string은 \"love\"이고 이를 10번 반복한 문자열은 \"lovelovelovelovelovelovelovelovelovelove\"이므로 이를 return 합니다."
   ]
  },
  {
   "cell_type": "code",
   "execution_count": 10,
   "id": "eee888dc",
   "metadata": {},
   "outputs": [],
   "source": [
    "def solution(my_string, k):\n",
    "    return my_string*k"
   ]
  },
  {
   "cell_type": "code",
   "execution_count": 12,
   "id": "68eec4dd",
   "metadata": {},
   "outputs": [
    {
     "name": "stdout",
     "output_type": "stream",
     "text": [
      "stringstringstring\n",
      "lovelovelovelovelovelovelovelovelovelove\n"
     ]
    }
   ],
   "source": [
    "print(solution(\"string\",3))\n",
    "print(solution(\"love\",10))"
   ]
  },
  {
   "cell_type": "code",
   "execution_count": null,
   "id": "41f06dfa",
   "metadata": {},
   "outputs": [],
   "source": []
  },
  {
   "cell_type": "code",
   "execution_count": null,
   "id": "e7874410",
   "metadata": {},
   "outputs": [],
   "source": []
  },
  {
   "cell_type": "markdown",
   "id": "9296aec2",
   "metadata": {},
   "source": [
    "# LV 0. (4)\n",
    "\n",
    "n의 배수\n",
    "\n",
    "https://school.programmers.co.kr/learn/courses/30/lessons/181937"
   ]
  },
  {
   "cell_type": "markdown",
   "id": "f2be99cb",
   "metadata": {},
   "source": [
    "**문제 설명**\n",
    "\n",
    "    정수 num과 n이 매개 변수로 주어질 때, num이 n의 배수이면 1을 return n의 배수가 아니라면 0을 return하도록 solution 함수를 완성해주세요.\n",
    "\n",
    "**제한사항**\n",
    "\n",
    "    2 ≤ num ≤ 100\n",
    "    2 ≤ n ≤ 9\n",
    "\n",
    "\n",
    "**입출력 예**\n",
    "\n",
    "![](https://velog.velcdn.com/images/heyggun/post/c5d0fdfd-92b8-4cc7-b1d0-c93d843719b8/image.png)\n",
    "\n",
    "\n",
    "**입출력 예 설명**\n",
    "\n",
    "    입출력 예 #1\n",
    "    98은 2의 배수이므로 1을 return합니다.\n",
    "\n",
    "    입출력 예 #2\n",
    "    32는 3의 배수가 아니므로 0을 return합니다."
   ]
  },
  {
   "cell_type": "code",
   "execution_count": 14,
   "id": "872e8397",
   "metadata": {},
   "outputs": [],
   "source": [
    "def solution(num, n):\n",
    "    return 1 if not num%n else 0"
   ]
  },
  {
   "cell_type": "code",
   "execution_count": 15,
   "id": "f635d4e7",
   "metadata": {},
   "outputs": [
    {
     "name": "stdout",
     "output_type": "stream",
     "text": [
      "1\n",
      "0\n"
     ]
    }
   ],
   "source": [
    "print(solution(98,2))\n",
    "print(solution(34,3))"
   ]
  },
  {
   "attachments": {
    "image.png": {
     "image/png": "[encoded data removed]"
    }
   },
   "cell_type": "markdown",
   "id": "d11c9cea",
   "metadata": {},
   "source": [
    "![image.png](attachment:image.png)"
   ]
  },
  {
   "cell_type": "code",
   "execution_count": null,
   "id": "14d1a01f",
   "metadata": {},
   "outputs": [],
   "source": []
  },
  {
   "cell_type": "markdown",
   "id": "f069baf0",
   "metadata": {},
   "source": [
    "# LV 0. (5)\n",
    "\n",
    "문자 리스트를 문자열로 변환하기\n",
    "\n",
    "https://school.programmers.co.kr/learn/courses/30/lessons/181941"
   ]
  },
  {
   "cell_type": "markdown",
   "id": "2c7aa2b2",
   "metadata": {},
   "source": [
    "\n",
    "**문제 설명**\n",
    "    \n",
    "    문자들이 담겨있는 배열 arr가 주어집니다. arr의 원소들을 순서대로 이어 붙인 문자열을 return 하는 solution함수를 작성해 주세요.\n",
    "\n",
    "**제한사항**\n",
    "\n",
    "    1 ≤ arr의 길이 ≤ 200\n",
    "    arr의 원소는 전부 알파벳 소문자로 이루어진 길이가 1인 문자열입니다.\n",
    "\n",
    "**입출력 예**\n",
    "\n",
    "![](https://velog.velcdn.com/images/heyggun/post/79c46f48-c6cc-4380-ade8-aa87f28129e3/image.png)\n"
   ]
  },
  {
   "cell_type": "code",
   "execution_count": 17,
   "id": "2ec16a13",
   "metadata": {},
   "outputs": [],
   "source": [
    "def solution(arr):\n",
    "    return ''.join(arr)"
   ]
  },
  {
   "cell_type": "code",
   "execution_count": 18,
   "id": "1b776e0e",
   "metadata": {},
   "outputs": [
    {
     "name": "stdout",
     "output_type": "stream",
     "text": [
      "abc\n"
     ]
    }
   ],
   "source": [
    "print(solution(['a','b','c']))"
   ]
  },
  {
   "attachments": {
    "image.png": {
     "image/png": "[encoded data removed]"
    }
   },
   "cell_type": "markdown",
   "id": "564b9ba9",
   "metadata": {},
   "source": [
    "![image.png](attachment:image.png)"
   ]
  },
  {
   "cell_type": "code",
   "execution_count": null,
   "id": "8a5ece57",
   "metadata": {},
   "outputs": [],
   "source": []
  },
  {
   "cell_type": "markdown",
   "id": "39703d35",
   "metadata": {},
   "source": [
    "# LV 0. (6)\n",
    "\n",
    "길이에 따른 연산\n",
    "\n",
    "https://school.programmers.co.kr/learn/courses/30/lessons/181879\n"
   ]
  },
  {
   "cell_type": "markdown",
   "id": "c9e50d29",
   "metadata": {},
   "source": [
    "\n",
    "**문제 설명**\n",
    "\n",
    "    정수가 담긴 리스트 num_list가 주어질 때, 리스트의 길이가 11 이상이면 리스트에 있는 모든 원소의 합을 10 이하이면 모든 원소의 곱을 return하도록 solution 함수를 완성해주세요.\n",
    "\n",
    "**제한사항**\n",
    "\n",
    "    2 ≤ num_list의 길이 ≤ 20\n",
    "    1 ≤ num_list의 원소 ≤ 9\n",
    "\n",
    "\n",
    "**입출력 예**\n",
    "\n",
    "![](https://velog.velcdn.com/images/heyggun/post/3126c992-1213-4c48-b936-f4b4abbc45d2/image.png)\n",
    "\n",
    "\n",
    "**입출력 예 설명**\n",
    "\n",
    "    입출력 예 #1\n",
    "    리스트의 길이가 13이므로 모든 원소의 합인 51을 return합니다.\n",
    "\n",
    "    입출력 예 #2\n",
    "    리스트의 길이가 4이므로 모든 원소의 곱인 120을 return합니다."
   ]
  },
  {
   "cell_type": "code",
   "execution_count": 27,
   "id": "1ca184f9",
   "metadata": {},
   "outputs": [],
   "source": [
    "import math\n",
    "\n",
    "def solution(num_list):\n",
    "    return sum(num_list) if len(num_list)>10 else math.prod(num_list)"
   ]
  },
  {
   "cell_type": "code",
   "execution_count": 28,
   "id": "d84949b8",
   "metadata": {},
   "outputs": [
    {
     "name": "stdout",
     "output_type": "stream",
     "text": [
      "51\n",
      "120\n"
     ]
    }
   ],
   "source": [
    "print(solution([3, 4, 5, 2, 5, 4, 6, 7, 3, 7, 2, 2, 1]))\n",
    "print(solution([2, 3, 4, 5]))"
   ]
  },
  {
   "cell_type": "code",
   "execution_count": 26,
   "id": "ca900506",
   "metadata": {},
   "outputs": [
    {
     "data": {
      "text/plain": [
       "120"
      ]
     },
     "execution_count": 26,
     "metadata": {},
     "output_type": "execute_result"
    }
   ],
   "source": [
    "import math\n",
    "num_list = [2, 3, 4, 5]\n",
    "sum(num_list) if len(num_list)>10 else math.prod(num_list)"
   ]
  },
  {
   "attachments": {
    "image.png": {
     "image/png": "[encoded data removed]"
    }
   },
   "cell_type": "markdown",
   "id": "c2187e0c",
   "metadata": {},
   "source": [
    "![image.png](attachment:image.png)"
   ]
  },
  {
   "cell_type": "code",
   "execution_count": null,
   "id": "1d705c51",
   "metadata": {},
   "outputs": [],
   "source": []
  },
  {
   "cell_type": "markdown",
   "id": "1511afba",
   "metadata": {},
   "source": [
    "# LV 0. (7)\n",
    "\n",
    "공백으로 구분하기 1\n",
    "\n",
    "https://school.programmers.co.kr/learn/courses/30/lessons/181869"
   ]
  },
  {
   "cell_type": "markdown",
   "id": "aa30a5e3",
   "metadata": {},
   "source": [
    "\n",
    "\n",
    "**문제 설명**\n",
    "\n",
    "    단어가 공백 한 개로 구분되어 있는 문자열 my_string이 매개변수로 주어질 때, my_string에 나온 단어를 앞에서부터 순서대로 담은 문자열 배열을 return 하는 solution 함수를 작성해 주세요.\n",
    "\n",
    "\n",
    "**제한사항**\n",
    "\n",
    "    my_string은 영소문자와 공백으로만 이루어져 있습니다.\n",
    "    1 ≤ my_string의 길이 ≤ 1,000\n",
    "    my_string의 맨 앞과 맨 뒤에 글자는 공백이 아닙니다.\n",
    "\n",
    "**입출력 예**\n",
    "\n",
    "![](https://velog.velcdn.com/images/heyggun/post/92930900-c69b-4bef-9c82-d7376c07ed08/image.png)\n",
    "\n",
    "**입출력 예 설명**\n",
    "\n",
    "    입출력 예 #1\n",
    "    예제 1번의 my_string은 \"i love you\"로 공백 한 칸으로 나누어진 단어들은 앞에서부터 순서대로 \"i\", \"love\", \"you\" 이므로 [\"i\", \"love\", \"you\"]를 return 합니다.\n",
    "\n",
    "    입출력 예 #2\n",
    "    예제 2번의 my_string은 \"programmers\"로 단어가 하나만 있습니다. 따라서 [\"programmers\"]를 return 합니다."
   ]
  },
  {
   "cell_type": "code",
   "execution_count": 30,
   "id": "f440e034",
   "metadata": {},
   "outputs": [],
   "source": [
    "def solution(my_string):\n",
    "    return my_string.split(' ')"
   ]
  },
  {
   "cell_type": "code",
   "execution_count": 31,
   "id": "d6c3e365",
   "metadata": {},
   "outputs": [
    {
     "name": "stdout",
     "output_type": "stream",
     "text": [
      "['i', 'love', 'you']\n",
      "['programmers']\n"
     ]
    }
   ],
   "source": [
    "print(solution(\"i love you\"))\n",
    "print(solution(\"programmers\"))"
   ]
  },
  {
   "attachments": {
    "image.png": {
     "image/png": "[encoded data removed]"
    }
   },
   "cell_type": "markdown",
   "id": "31bc09f6",
   "metadata": {},
   "source": [
    "![image.png](attachment:image.png)"
   ]
  },
  {
   "cell_type": "code",
   "execution_count": null,
   "id": "5ff36a50",
   "metadata": {},
   "outputs": [],
   "source": []
  },
  {
   "cell_type": "markdown",
   "id": "3077b2b3",
   "metadata": {},
   "source": [
    "# LV 0. (8)\n",
    "\n",
    "조건에 맞게 수열 변환하기 3\n",
    "\n",
    "https://school.programmers.co.kr/learn/courses/30/lessons/181835"
   ]
  },
  {
   "cell_type": "markdown",
   "id": "73c6ad04",
   "metadata": {},
   "source": [
    "**문제 설명**\n",
    "\n",
    "    정수 배열 arr와 자연수 k가 주어집니다.\n",
    "\n",
    "    만약 k가 홀수라면 arr의 모든 원소에 k를 곱하고, k가 짝수라면 arr의 모든 원소에 k를 더합니다.\n",
    "\n",
    "    이러한 변환을 마친 후의 arr를 return 하는 solution 함수를 완성해 주세요.\n",
    "\n",
    "\n",
    "**제한사항**\n",
    "\n",
    "    1 ≤ arr의 길이 ≤ 1,000,000\n",
    "    1 ≤ arr의 원소의 값 ≤ 100\n",
    "    1 ≤ k ≤ 100\n",
    "\n",
    "**입출력 예**\n",
    "\n",
    "![](https://velog.velcdn.com/images/heyggun/post/1482d02f-4cf3-486a-95c1-ffce885e5e1a/image.png)\n",
    "\n",
    "\n",
    "**입출력 예 설명**\n",
    "\n",
    "    입출력 예 #1\n",
    "    주어진 k인 3은 홀수이므로, 전체 배열에 3을 곱합니다. 따라서 [3, 6, 9, 300, 297, 294]을 return 합니다.\n",
    "\n",
    "    입출력 예 #2\n",
    "    주어진 k인 2는 짝수이므로, 전체 배열에 2를 더합니다. 따라서 [3, 4, 5, 102, 101, 100]을 return 합니다."
   ]
  },
  {
   "cell_type": "code",
   "execution_count": 45,
   "id": "b681f0a9",
   "metadata": {},
   "outputs": [],
   "source": [
    "def solution(arr, k):\n",
    "    return [_+k for _ in arr] if not k%2 else [_*k for _ in arr]"
   ]
  },
  {
   "cell_type": "code",
   "execution_count": 46,
   "id": "f47f426c",
   "metadata": {},
   "outputs": [
    {
     "name": "stdout",
     "output_type": "stream",
     "text": [
      "[3, 6, 9, 300, 297, 294]\n",
      "[3, 4, 5, 102, 101, 100]\n"
     ]
    }
   ],
   "source": [
    "print(solution([1, 2, 3, 100, 99, 98],3))\n",
    "print(solution([1, 2, 3, 100, 99, 98],2))"
   ]
  },
  {
   "attachments": {
    "image.png": {
     "image/png": "[encoded data removed]"
    }
   },
   "cell_type": "markdown",
   "id": "7b3f7aae",
   "metadata": {},
   "source": [
    "![image.png](attachment:image.png)"
   ]
  },
  {
   "cell_type": "code",
   "execution_count": null,
   "id": "2e315a26",
   "metadata": {},
   "outputs": [],
   "source": []
  },
  {
   "cell_type": "code",
   "execution_count": null,
   "id": "5e2d6c1b",
   "metadata": {},
   "outputs": [],
   "source": []
  },
  {
   "cell_type": "markdown",
   "id": "31b0a3a7",
   "metadata": {},
   "source": [
    "# LV 0. (9) \n",
    "\n",
    "부분 문자열\n",
    "\n",
    "https://school.programmers.co.kr/learn/courses/30/lessons/181842"
   ]
  },
  {
   "cell_type": "markdown",
   "id": "c22a01b8",
   "metadata": {},
   "source": [
    "\n",
    "**문제 설명**\n",
    "\n",
    "    어떤 문자열 A가 다른 문자열 B안에 속하면 A를 B의 부분 문자열이라고 합니다. 예를 들어 문자열 \"abc\"는 문자열 \"aabcc\"의 부분 문자열입니다.\n",
    "    문자열 str1과 str2가 주어질 때, str1이 str2의 부분 문자열이라면 1을 부분 문자열이 아니라면 0을 return하도록 solution 함수를 완성해주세요.\n",
    "\n",
    "**제한사항**\n",
    "\n",
    "    1 ≤ str1 ≤ str2 ≤ 20\n",
    "    str1과 str2는 영어 소문자로만 이루어져 있습니다.\n",
    "\n",
    "**입출력 예**\n",
    "\n",
    "![](https://velog.velcdn.com/images/heyggun/post/cc9c7711-f698-475e-9000-ec32ab2e68ce/image.png)\n",
    "\n",
    "**입출력 예 설명**\n",
    "\n",
    "    입출력 예 #1\n",
    "    본문과 동일합니다.\n",
    "\n",
    "    입출력 예 #2\n",
    "    \"tbbttb\"에는 \"tbt\"가 없으므로 0을 return합니다."
   ]
  },
  {
   "cell_type": "code",
   "execution_count": 48,
   "id": "6670de1e",
   "metadata": {},
   "outputs": [],
   "source": [
    "def solution(str1, str2):\n",
    "    return 1 if str1 in str2 else 0"
   ]
  },
  {
   "cell_type": "code",
   "execution_count": 50,
   "id": "bb095f13",
   "metadata": {},
   "outputs": [
    {
     "name": "stdout",
     "output_type": "stream",
     "text": [
      "1\n",
      "0\n"
     ]
    }
   ],
   "source": [
    "print(solution(\"abc\", \"aabcc\"))\n",
    "print(solution(\"tbt\", \"tbbttb\"))"
   ]
  },
  {
   "attachments": {
    "image.png": {
     "image/png": "[encoded data removed]"
    }
   },
   "cell_type": "markdown",
   "id": "eee780a5",
   "metadata": {},
   "source": [
    "![image.png](attachment:image.png)"
   ]
  },
  {
   "cell_type": "code",
   "execution_count": null,
   "id": "684868fd",
   "metadata": {},
   "outputs": [],
   "source": []
  },
  {
   "cell_type": "code",
   "execution_count": null,
   "id": "b0596d86",
   "metadata": {},
   "outputs": [],
   "source": []
  },
  {
   "cell_type": "markdown",
   "id": "dc034ac7",
   "metadata": {},
   "source": [
    "# LV 0. (10)\n",
    "\n",
    "문자열의 앞의 n글자\n",
    "\n",
    "https://school.programmers.co.kr/learn/courses/30/lessons/181907"
   ]
  },
  {
   "cell_type": "markdown",
   "id": "aa90ce2e",
   "metadata": {},
   "source": [
    "\n",
    "\n",
    "**문제 설명**\n",
    "\n",
    "    문자열 my_string과 정수 n이 매개변수로 주어질 때, my_string의 앞의 n글자로 이루어진 문자열을 return 하는 solution 함수를 작성해 주세요.\n",
    "\n",
    "**제한사항**\n",
    "\n",
    "    my_string은 숫자와 알파벳으로 이루어져 있습니다.\n",
    "    1 ≤ my_string의 길이 ≤ 1,000\n",
    "    1 ≤ n ≤ my_string의 길이\n",
    "\n",
    "\n",
    "**입출력 예**\n",
    "\n",
    "![](https://velog.velcdn.com/images/heyggun/post/2051d04d-427c-4ced-b0c3-2958ce65d569/image.png)\n",
    "\n",
    "\n",
    "**입출력 예 설명**\n",
    "\n",
    "    입출력 예 #1\n",
    "    예제 1번의 my_string에서 앞의 11글자는 \"ProgrammerS\"이므로 이 문자열을 return 합니다.\n",
    "\n",
    "    입출력 예 #2\n",
    "    예제 2번의 my_string에서 앞의 5글자는 \"He110\"이므로 이 문자열을 return 합니다."
   ]
  },
  {
   "cell_type": "code",
   "execution_count": 54,
   "id": "5a17d64e",
   "metadata": {},
   "outputs": [],
   "source": [
    "def solution(my_string, n):\n",
    "    return my_string[:n]"
   ]
  },
  {
   "cell_type": "code",
   "execution_count": 55,
   "id": "cf7d70cf",
   "metadata": {},
   "outputs": [
    {
     "name": "stdout",
     "output_type": "stream",
     "text": [
      "ProgrammerS\n",
      "He110\n"
     ]
    }
   ],
   "source": [
    "print(solution(\"ProgrammerS123\",11))\n",
    "print(solution(\"He110W0r1d\",5))"
   ]
  },
  {
   "attachments": {
    "image.png": {
     "image/png": "[encoded data removed]"
    }
   },
   "cell_type": "markdown",
   "id": "2ee22ef9",
   "metadata": {},
   "source": [
    "![image.png](attachment:image.png)"
   ]
  },
  {
   "cell_type": "code",
   "execution_count": null,
   "id": "b7dec86e",
   "metadata": {},
   "outputs": [],
   "source": []
  }
 ],
 "metadata": {
  "kernelspec": {
   "display_name": "Python 3 (ipykernel)",
   "language": "python",
   "name": "python3"
  },
  "language_info": {
   "codemirror_mode": {
    "name": "ipython",
    "version": 3
   },
   "file_extension": ".py",
   "mimetype": "text/x-python",
   "name": "python",
   "nbconvert_exporter": "python",
   "pygments_lexer": "ipython3",
   "version": "3.9.12"
  }
 },
 "nbformat": 4,
 "nbformat_minor": 5
}
