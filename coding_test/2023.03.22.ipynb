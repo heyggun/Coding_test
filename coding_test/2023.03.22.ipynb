{
 "cells": [
  {
   "cell_type": "markdown",
   "id": "c9dcc379",
   "metadata": {},
   "source": [
    "## LV 2.\n",
    "\n",
    "[3차] n진수 게임\n",
    "\n",
    "https://school.programmers.co.kr/learn/courses/30/lessons/17687"
   ]
  },
  {
   "attachments": {
    "image.png": {
     "image/png": "[encoded data removed]"
    }
   },
   "cell_type": "markdown",
   "id": "06139bc4",
   "metadata": {},
   "source": [
    "**문제 설명**\n",
    "\n",
    "    튜브가 활동하는 코딩 동아리에서는 전통적으로 해오는 게임이 있다. 이 게임은 여러 사람이 둥글게 앉아서 숫자를 하나씩 차례대로 말하는 게임인데, 규칙은 다음과 같다.\n",
    "\n",
    "    숫자를 0부터 시작해서 차례대로 말한다. 첫 번째 사람은 0, 두 번째 사람은 1, … 열 번째 사람은 9를 말한다.\n",
    "    10 이상의 숫자부터는 한 자리씩 끊어서 말한다. 즉 열한 번째 사람은 10의 첫 자리인 1, 열두 번째 사람은 둘째 자리인 0을 말한다.\n",
    "    이렇게 게임을 진행할 경우,\n",
    "    0, 1, 2, 3, 4, 5, 6, 7, 8, 9, 1, 0, 1, 1, 1, 2, 1, 3, 1, 4, …\n",
    "    순으로 숫자를 말하면 된다.\n",
    "\n",
    "    한편 코딩 동아리 일원들은 컴퓨터를 다루는 사람답게 이진수로 이 게임을 진행하기도 하는데, 이 경우에는\n",
    "    0, 1, 1, 0, 1, 1, 1, 0, 0, 1, 0, 1, 1, 1, 0, 1, 1, 1, …\n",
    "    순으로 숫자를 말하면 된다.\n",
    "\n",
    "    이진수로 진행하는 게임에 익숙해져 질려가던 사람들은 좀 더 난이도를 높이기 위해 이진법에서 십육진법까지 모든 진법으로 게임을 진행해보기로 했다. 숫자 게임이 익숙하지 않은 튜브는 게임에 져서 벌칙을 받는 굴욕을 피하기 위해, 자신이 말해야 하는 숫자를 스마트폰에 미리 출력해주는 프로그램을 만들려고 한다. 튜브의 프로그램을 구현하라.\n",
    "    \n",
    "    \n",
    "**입력 형식**\n",
    "\n",
    "    진법 n, 미리 구할 숫자의 갯수 t, 게임에 참가하는 인원 m, 튜브의 순서 p 가 주어진다.\n",
    "\n",
    "    2 ≦ n ≦ 16\n",
    "    0 ＜ t ≦ 1000\n",
    "    2 ≦ m ≦ 100\n",
    "    1 ≦ p ≦ m\n",
    "    \n",
    "    \n",
    "**출력 형식**\n",
    "\n",
    "    튜브가 말해야 하는 숫자 t개를 공백 없이 차례대로 나타낸 문자열. 단, 10~15는 각각 대문자 A~F로 출력한다.\n",
    "    \n",
    "**입출력 예제**\n",
    "\n",
    "![image.png](attachment:image.png)\n"
   ]
  },
  {
   "cell_type": "code",
   "execution_count": 18,
   "id": "6bc28ead",
   "metadata": {},
   "outputs": [],
   "source": [
    "def solution(n, t, m, p):\n",
    "    \n",
    "    def convert_num(num, n):\n",
    "        NUMS = '0123456789ABCDEF'\n",
    "        tmp = ''\n",
    "        if num ==0:\n",
    "            return '0'\n",
    "        while num>0:\n",
    "            num, mod = divmod(num,n)\n",
    "            tmp+= NUMS[mod]\n",
    "        return tmp[::-1]\n",
    "   \n",
    "    answer = ''\n",
    "    ans_lst = []\n",
    "    for i in range(t*m):\n",
    "        ans_lst.append(convert_num(i,n))\n",
    "    ans_lst = list(''.join(ans_lst))\n",
    "    \n",
    "    for j in range(p-1, t*m, m):\n",
    "        answer += ans_lst[j]\n",
    "    \n",
    "    return answer"
   ]
  },
  {
   "cell_type": "code",
   "execution_count": 19,
   "id": "93f4d4d9",
   "metadata": {},
   "outputs": [
    {
     "name": "stdout",
     "output_type": "stream",
     "text": [
      "0111\n",
      "02468ACE11111111\n",
      "13579BDF01234567\n"
     ]
    }
   ],
   "source": [
    "print(solution(2,4,2,1))\n",
    "print(solution(16,16,2,1))\n",
    "print(solution(16,16,2,2))\n"
   ]
  },
  {
   "cell_type": "code",
   "execution_count": null,
   "id": "565e784f",
   "metadata": {},
   "outputs": [],
   "source": []
  },
  {
   "attachments": {
    "image.png": {
     "image/png": "[encoded data removed]"
    }
   },
   "cell_type": "markdown",
   "id": "0b6e6d79",
   "metadata": {},
   "source": [
    "![image.png](attachment:image.png)"
   ]
  },
  {
   "cell_type": "code",
   "execution_count": 2,
   "id": "581aa029",
   "metadata": {},
   "outputs": [
    {
     "data": {
      "text/plain": [
       "16"
      ]
     },
     "execution_count": 2,
     "metadata": {},
     "output_type": "execute_result"
    }
   ],
   "source": []
  },
  {
   "cell_type": "code",
   "execution_count": 9,
   "id": "0742ad81",
   "metadata": {},
   "outputs": [],
   "source": [
    "def convert_num(num,n):\n",
    "    if num == 0:\n",
    "        return '0'\n",
    "    \n",
    "    NUM = '0123456789ABCDEF'\n",
    "    result = ''\n",
    "    while num > 0:\n",
    "        num, mod = divmod(num, n)\n",
    "        result += NUM[mod]\n",
    "    return result[::-1]"
   ]
  },
  {
   "cell_type": "code",
   "execution_count": 8,
   "id": "b4af053a",
   "metadata": {},
   "outputs": [
    {
     "data": {
      "text/plain": [
       "'10'"
      ]
     },
     "execution_count": 8,
     "metadata": {},
     "output_type": "execute_result"
    }
   ],
   "source": [
    "convert_num(2,2)"
   ]
  },
  {
   "cell_type": "code",
   "execution_count": 15,
   "id": "ae729b24",
   "metadata": {},
   "outputs": [
    {
     "name": "stdout",
     "output_type": "stream",
     "text": [
      "['0', '1', '1', '0', '1', '1', '1', '0', '0', '1', '0', '1', '1', '1', '0', '1', '1', '1']\n"
     ]
    },
    {
     "data": {
      "text/plain": [
       "'0111'"
      ]
     },
     "execution_count": 15,
     "metadata": {},
     "output_type": "execute_result"
    }
   ],
   "source": [
    "n,t,m,p = 2,4,2,1\n",
    "\n",
    "ans_lst = []\n",
    "result = ''\n",
    "\n",
    "for i in range(t*m):\n",
    "    ans_lst.append(convert_num(i, n))\n",
    "\n",
    "ans_lst = list(''.join(ans_lst))\n",
    "print(ans_lst)\n",
    "\n",
    "\n",
    "for j in range(p-1, t*m, m):\n",
    "    result += ans_lst[j]\n",
    "    \n",
    "result"
   ]
  },
  {
   "cell_type": "code",
   "execution_count": null,
   "id": "9730583a",
   "metadata": {},
   "outputs": [],
   "source": []
  },
  {
   "cell_type": "markdown",
   "id": "c884cd40",
   "metadata": {},
   "source": [
    "**다른 사람 풀이**\n",
    "\n",
    "    다들 뭔가 너무 길어... 난독증 오겠음\n"
   ]
  },
  {
   "cell_type": "code",
   "execution_count": null,
   "id": "74b60340",
   "metadata": {},
   "outputs": [],
   "source": []
  }
 ],
 "metadata": {
  "kernelspec": {
   "display_name": "Python 3 (ipykernel)",
   "language": "python",
   "name": "python3"
  },
  "language_info": {
   "codemirror_mode": {
    "name": "ipython",
    "version": 3
   },
   "file_extension": ".py",
   "mimetype": "text/x-python",
   "name": "python",
   "nbconvert_exporter": "python",
   "pygments_lexer": "ipython3",
   "version": "3.9.12"
  }
 },
 "nbformat": 4,
 "nbformat_minor": 5
}
