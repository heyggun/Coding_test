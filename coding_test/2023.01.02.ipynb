{
 "cells": [
  {
   "cell_type": "markdown",
   "id": "5c289699",
   "metadata": {},
   "source": [
    "### Coding_test"
   ]
  },
  {
   "cell_type": "markdown",
   "id": "ae736497",
   "metadata": {},
   "source": [
    "# 01.\n",
    "\n",
    "https://school.programmers.co.kr/learn/courses/30/lessons/147355"
   ]
  },
  {
   "cell_type": "code",
   "execution_count": 1,
   "id": "2d73a480",
   "metadata": {},
   "outputs": [],
   "source": [
    "def solution(t,p):\n",
    "    result = 0\n",
    "    cnt = 0\n",
    "    p_len = len(p)\n",
    "    while p_len != len(t)+1:\n",
    "        number = t[cnt:p_len]\n",
    "        str(number)\n",
    "        cnt +=1\n",
    "        p_len +=1\n",
    "\n",
    "        if int(number) <= int(p):\n",
    "            result +=1\n",
    "\n",
    "        \n",
    "    return result"
   ]
  },
  {
   "cell_type": "code",
   "execution_count": 2,
   "id": "da6774b3",
   "metadata": {},
   "outputs": [
    {
     "name": "stdout",
     "output_type": "stream",
     "text": [
      "2\n",
      "8\n",
      "3\n"
     ]
    }
   ],
   "source": [
    "print(solution(\"3141592\",\"271\"))\n",
    "print(solution(\"500220839878\",\"7\"))\n",
    "print(solution(\"10203\",\"15\"))"
   ]
  },
  {
   "cell_type": "code",
   "execution_count": null,
   "id": "eaadf3ee",
   "metadata": {},
   "outputs": [],
   "source": []
  },
  {
   "cell_type": "code",
   "execution_count": null,
   "id": "40388980",
   "metadata": {},
   "outputs": [],
   "source": []
  },
  {
   "cell_type": "markdown",
   "id": "5ff15b40",
   "metadata": {},
   "source": [
    "# 02.\n",
    "\n",
    "https://school.programmers.co.kr/learn/courses/30/lessons/142086"
   ]
  },
  {
   "cell_type": "code",
   "execution_count": 2,
   "id": "82b5adf8",
   "metadata": {},
   "outputs": [],
   "source": [
    "def solution(s):\n",
    "    answer = []\n",
    "    return answer"
   ]
  },
  {
   "cell_type": "code",
   "execution_count": 3,
   "id": "c7523d68",
   "metadata": {},
   "outputs": [],
   "source": [
    "s = 'banana'"
   ]
  },
  {
   "cell_type": "code",
   "execution_count": 4,
   "id": "b9a80cc0",
   "metadata": {},
   "outputs": [
    {
     "ename": "SyntaxError",
     "evalue": "invalid syntax (<ipython-input-4-3f0bcb5662a6>, line 8)",
     "output_type": "error",
     "traceback": [
      "\u001b[0;36m  File \u001b[0;32m\"<ipython-input-4-3f0bcb5662a6>\"\u001b[0;36m, line \u001b[0;32m8\u001b[0m\n\u001b[0;31m    for check_str in check_lst[]:\u001b[0m\n\u001b[0m                               ^\u001b[0m\n\u001b[0;31mSyntaxError\u001b[0m\u001b[0;31m:\u001b[0m invalid syntax\n"
     ]
    }
   ],
   "source": [
    "for idx in range(len(s)-1,-1,-1):\n",
    "    s_lst = list(s)\n",
    "    string = s[idx]\n",
    "    print(string)\n",
    "    print(idx)\n",
    "    check_lst = s_lst[idx-1::-1]\n",
    "    print(check_lst)\n",
    "    for check_str in check_lst[]:\n",
    "        print(check_str)\n",
    "        if string==check_str:\n",
    "            check_idx = check_lst.index(check_str)\n",
    "            print(check_idx)\n",
    "            gap_num = string-check_str\n",
    "            print(gap_num)"
   ]
  },
  {
   "cell_type": "code",
   "execution_count": null,
   "id": "9c54eaa8",
   "metadata": {},
   "outputs": [],
   "source": [
    "for i in range(len(s)):\n",
    "    answer = []\n",
    "    s_lst = list(s)\n",
    "    string1= s[i]\n",
    "    print(string)\n",
    "    \n",
    "    cnt = 0\n",
    "    for string2 in s_lst[i-1::-1]:\n",
    "        if string1 == string2:\n",
    "            print(string2)\n",
    "        else: \n",
    "            answer.append(-1)\n",
    "            \n",
    "answer"
   ]
  },
  {
   "cell_type": "code",
   "execution_count": null,
   "id": "3ebfb8c0",
   "metadata": {},
   "outputs": [],
   "source": [
    "a = a_lst[-5::+1]\n",
    "a"
   ]
  },
  {
   "cell_type": "code",
   "execution_count": null,
   "id": "f4e43283",
   "metadata": {},
   "outputs": [],
   "source": [
    "a_lst.index('a')"
   ]
  },
  {
   "cell_type": "markdown",
   "id": "8e58e1ca",
   "metadata": {},
   "source": [
    "# 3. \n",
    "\n",
    "https://school.programmers.co.kr/learn/courses/30/lessons/140108"
   ]
  },
  {
   "cell_type": "code",
   "execution_count": null,
   "id": "50725029",
   "metadata": {},
   "outputs": [],
   "source": [
    "def solution(s):\n",
    "    answer = 0\n",
    "    return answer"
   ]
  },
  {
   "cell_type": "code",
   "execution_count": null,
   "id": "e24822a0",
   "metadata": {},
   "outputs": [],
   "source": [
    "s = 'banana'\n",
    "s_len = len(s)\n",
    "f_s = s[0]\n",
    "answer  = 0\n",
    "cnt = 0\n",
    "check_lst = list(s)\n",
    "\n",
    "while cnt != len(s)+1:\n",
    "    x_true, x_false = 0, 0\n",
    "    for string in check_lst:\n",
    "        print(string)\n",
    "        if string == f_s:\n",
    "            x_true +=1\n",
    "        else:\n",
    "            x_false+=1\n",
    "\n",
    "        print(x_true, x_false)\n",
    "        if x_true==x_false:\n",
    "            answer +=1 \n",
    "        check_lst= list(s)[cnt+1:]\n",
    "        print(check_lst)\n",
    "        cnt+=1\n",
    "        continue\n",
    "        \n",
    "\n",
    "answer"
   ]
  },
  {
   "cell_type": "code",
   "execution_count": null,
   "id": "9fd8e697",
   "metadata": {},
   "outputs": [],
   "source": []
  },
  {
   "cell_type": "code",
   "execution_count": null,
   "id": "29cebd6d",
   "metadata": {},
   "outputs": [],
   "source": []
  }
 ],
 "metadata": {
  "kernelspec": {
   "display_name": "Python 3",
   "language": "python",
   "name": "python3"
  },
  "language_info": {
   "codemirror_mode": {
    "name": "ipython",
    "version": 3
   },
   "file_extension": ".py",
   "mimetype": "text/x-python",
   "name": "python",
   "nbconvert_exporter": "python",
   "pygments_lexer": "ipython3",
   "version": "3.8.11"
  }
 },
 "nbformat": 4,
 "nbformat_minor": 5
}
