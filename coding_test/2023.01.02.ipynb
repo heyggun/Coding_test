{
 "cells": [
  {
   "cell_type": "markdown",
   "id": "5c289699",
   "metadata": {},
   "source": [
    "### Coding_test"
   ]
  },
  {
   "cell_type": "markdown",
   "id": "ae736497",
   "metadata": {},
   "source": [
    "# 01.\n",
    "\n",
    "https://school.programmers.co.kr/learn/courses/30/lessons/147355"
   ]
  },
  {
   "cell_type": "code",
   "execution_count": 1,
   "id": "2d73a480",
   "metadata": {},
   "outputs": [],
   "source": [
    "def solution(t,p):\n",
    "    result = 0\n",
    "    cnt = 0\n",
    "    p_len = len(p)\n",
    "    while p_len != len(t)+1:\n",
    "        number = t[cnt:p_len]\n",
    "        str(number)\n",
    "        cnt +=1\n",
    "        p_len +=1\n",
    "\n",
    "        if int(number) <= int(p):\n",
    "            result +=1\n",
    "\n",
    "        \n",
    "    return result"
   ]
  },
  {
   "cell_type": "code",
   "execution_count": 2,
   "id": "da6774b3",
   "metadata": {},
   "outputs": [
    {
     "name": "stdout",
     "output_type": "stream",
     "text": [
      "2\n",
      "8\n",
      "3\n"
     ]
    }
   ],
   "source": [
    "print(solution(\"3141592\",\"271\"))\n",
    "print(solution(\"500220839878\",\"7\"))\n",
    "print(solution(\"10203\",\"15\"))"
   ]
  },
  {
   "cell_type": "code",
   "execution_count": null,
   "id": "eaadf3ee",
   "metadata": {},
   "outputs": [],
   "source": []
  },
  {
   "cell_type": "code",
   "execution_count": null,
   "id": "40388980",
   "metadata": {},
   "outputs": [],
   "source": []
  },
  {
   "attachments": {},
   "cell_type": "markdown",
   "id": "5ff15b40",
   "metadata": {},
   "source": [
    "# 02.\n",
    "\n",
    "https://school.programmers.co.kr/learn/courses/30/lessons/142086\n",
    "\n",
    "**문제설명**\n",
    "\n",
    "    문자열 s가 주어졌을 때, s의 각 위치마다 자신보다 앞에 나왔으면서, 자신과 가장 가까운 곳에 있는 같은 글자가 어디 있는지 알고 싶습니다.\n",
    "    예를 들어, s=\"banana\"라고 할 때,  각 글자들을 왼쪽부터 오른쪽으로 읽어 나가면서 다음과 같이 진행할 수 있습니다.\n",
    "\n",
    "    b는 처음 나왔기 때문에 자신의 앞에 같은 글자가 없습니다. 이는 -1로 표현합니다.\n",
    "    a는 처음 나왔기 때문에 자신의 앞에 같은 글자가 없습니다. 이는 -1로 표현합니다.\n",
    "    n은 처음 나왔기 때문에 자신의 앞에 같은 글자가 없습니다. 이는 -1로 표현합니다.\n",
    "    a는 자신보다 두 칸 앞에 a가 있습니다. 이는 2로 표현합니다.\n",
    "    n도 자신보다 두 칸 앞에 n이 있습니다. 이는 2로 표현합니다.\n",
    "    a는 자신보다 두 칸, 네 칸 앞에 a가 있습니다. 이 중 가까운 것은 두 칸 앞이고, 이는 2로 표현합니다.\n",
    "    따라서 최종 결과물은 [-1, -1, -1, 2, 2, 2]가 됩니다.\n",
    "\n",
    "    문자열 s이 주어질 때, 위와 같이 정의된 연산을 수행하는 함수 solution을 완성해주세요.\n",
    "    \n",
    "**제한 사항**\n",
    "\n",
    "    1 ≤ s의 길이 ≤ 10,000\n",
    "    s은 영어 소문자로만 이루어져 있습니다.\n"
   ]
  },
  {
   "cell_type": "code",
   "execution_count": 2,
   "id": "82b5adf8",
   "metadata": {},
   "outputs": [],
   "source": [
    "def solution(s):\n",
    "    answer = []\n",
    "    return answer"
   ]
  },
  {
   "cell_type": "code",
   "execution_count": 3,
   "id": "c7523d68",
   "metadata": {},
   "outputs": [],
   "source": [
    "s = 'banana'"
   ]
  },
  {
   "cell_type": "code",
   "execution_count": 31,
   "id": "b9a80cc0",
   "metadata": {},
   "outputs": [
    {
     "name": "stdout",
     "output_type": "stream",
     "text": [
      "['b']\n",
      "['a', 'b']\n",
      "['n', 'a', 'b']\n",
      "['a', 'n', 'a', 'b']\n",
      "['n', 'a', 'n', 'a', 'b']\n",
      "['a', 'n', 'a', 'n', 'a', 'b']\n"
     ]
    },
    {
     "data": {
      "text/plain": [
       "[-1, -1, -1, 1, 1, 2, 2, 1, 1, 1]"
      ]
     },
     "execution_count": 31,
     "metadata": {},
     "output_type": "execute_result"
    }
   ],
   "source": [
    "answer = list()\n",
    "for idx in range(len(s)):\n",
    "    str1 = s[idx]\n",
    "    str_lst = list(s[idx::-1])\n",
    "    print(str_lst)\n",
    "    \n",
    "    cnt = 0\n",
    "    for check_str in str_lst:\n",
    "        if check_str == str1:\n",
    "            if idx == s.index(check_str):\n",
    "                result = -1\n",
    "                answer.append(result)\n",
    "                \n",
    "            else:\n",
    "                result = s.index(check_str)\n",
    "                answer.append(result)\n",
    "                \n",
    "answer"
   ]
  },
  {
   "cell_type": "code",
   "execution_count": null,
   "id": "9c54eaa8",
   "metadata": {},
   "outputs": [],
   "source": [
    "for i in range(len(s)):\n",
    "    answer = []\n",
    "    s_lst = list(s)\n",
    "    string1= s[i]\n",
    "    print(string)\n",
    "    \n",
    "    cnt = 0\n",
    "    for string2 in s_lst[i-1::-1]:\n",
    "        if string1 == string2:\n",
    "            print(string2)\n",
    "        else: \n",
    "            answer.append(-1)\n",
    "            \n",
    "answer"
   ]
  },
  {
   "cell_type": "code",
   "execution_count": null,
   "id": "3ebfb8c0",
   "metadata": {},
   "outputs": [],
   "source": [
    "a = a_lst[-5::+1]\n",
    "a"
   ]
  },
  {
   "cell_type": "code",
   "execution_count": null,
   "id": "f4e43283",
   "metadata": {},
   "outputs": [],
   "source": [
    "a_lst.index('a')"
   ]
  },
  {
   "attachments": {
    "image.png": {
     "image/png": "[encoded data removed]"
    }
   },
   "cell_type": "markdown",
   "id": "8e58e1ca",
   "metadata": {},
   "source": [
    "# 3. \n",
    "\n",
    "https://school.programmers.co.kr/learn/courses/30/lessons/140108\n",
    "\n",
    "**문제 설명**\n",
    "\n",
    "    문자열 s가 입력되었을 때 다음 규칙을 따라서 이 문자열을 여러 문자열로 분해하려고 합니다.\n",
    "    먼저 첫 글자를 읽습니다. 이 글자를 x라고 합시다.\n",
    "    이제 이 문자열을 왼쪽에서 오른쪽으로 읽어나가면서, x와 x가 아닌 다른 글자들이 나온 횟수를 각각 셉니다. 처음으로 두 횟수가 같아지는 순간 멈추고, 지금까지 읽은 문자열을 분리합니다.\n",
    "    s에서 분리한 문자열을 빼고 남은 부분에 대해서 이 과정을 반복합니다. 남은 부분이 없다면 종료합니다.\n",
    "    만약 두 횟수가 다른 상태에서 더 이상 읽을 글자가 없다면, 역시 지금까지 읽은 문자열을 분리하고, 종료합니다.\n",
    "    문자열 s가 매개변수로 주어질 때, 위 과정과 같이 문자열들로 분해하고, 분해한 문자열의 개수를 return 하는 함수 solution을 완성하세요.\n",
    "    \n",
    "\n",
    "**제한 사항**\n",
    "\n",
    "    1 ≤ s의 길이 ≤ 10,000\n",
    "    s는 영어 소문자로만 이루어져 있습니다.\n",
    "    \n",
    " \n",
    "**입출력 예**\n",
    "\n",
    "![image.png](attachment:image.png)\n",
    "\n",
    "\n",
    "**입출력 예 설명**\n",
    "\n",
    "    입출력 예 #1\n",
    "    s=\"banana\"인 경우 ba - na - na와 같이 분해됩니다.\n",
    "\n",
    "    입출력 예 #2\n",
    "    s=\"abracadabra\"인 경우 ab - ra - ca - da - br - a와 같이 분해됩니다.\n",
    "\n",
    "    입출력 예 #3\n",
    "    s=\"aaabbaccccabba\"인 경우 aaabbacc - ccab - ba와 같이 분해됩니다.\n",
    "\n"
   ]
  },
  {
   "cell_type": "code",
   "execution_count": 37,
   "id": "50725029",
   "metadata": {},
   "outputs": [],
   "source": [
    "def solution(s):\n",
    "    answer = 0\n",
    "    return answer"
   ]
  },
  {
   "cell_type": "code",
   "execution_count": null,
   "id": "e24822a0",
   "metadata": {},
   "outputs": [],
   "source": []
  },
  {
   "cell_type": "code",
   "execution_count": null,
   "id": "29cebd6d",
   "metadata": {},
   "outputs": [],
   "source": []
  }
 ],
 "metadata": {
  "kernelspec": {
   "display_name": "Python 3 (ipykernel)",
   "language": "python",
   "name": "python3"
  },
  "language_info": {
   "codemirror_mode": {
    "name": "ipython",
    "version": 3
   },
   "file_extension": ".py",
   "mimetype": "text/x-python",
   "name": "python",
   "nbconvert_exporter": "python",
   "pygments_lexer": "ipython3",
   "version": "3.9.12"
  }
 },
 "nbformat": 4,
 "nbformat_minor": 5
}
