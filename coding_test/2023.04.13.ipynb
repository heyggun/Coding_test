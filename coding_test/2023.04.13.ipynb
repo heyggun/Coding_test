{
 "cells": [
  {
   "cell_type": "markdown",
   "id": "f5e2f5fd",
   "metadata": {},
   "source": [
    "# LV 2.\n",
    "\n",
    "거리두기 확인하기\n",
    "\n",
    "https://school.programmers.co.kr/learn/courses/30/lessons/81302"
   ]
  },
  {
   "cell_type": "markdown",
   "id": "8c2382d3",
   "metadata": {},
   "source": [
    "**문제 설명**\n",
    "\n",
    "    개발자를 희망하는 죠르디가 카카오에 면접을 보러 왔습니다.\n",
    "\n",
    "    코로나 바이러스 감염 예방을 위해 응시자들은 거리를 둬서 대기를 해야하는데 개발 직군 면접인 만큼\n",
    "    아래와 같은 규칙으로 대기실에 거리를 두고 앉도록 안내하고 있습니다.\n",
    "\n",
    "    대기실은 5개이며, 각 대기실은 5x5 크기입니다.\n",
    "    거리두기를 위하여 응시자들 끼리는 맨해튼 거리1가 2 이하로 앉지 말아 주세요.\n",
    "    단 응시자가 앉아있는 자리 사이가 파티션으로 막혀 있을 경우에는 허용합니다.\n",
    "    예를 들어,\n",
    "\n",
    "![](https://velog.velcdn.com/images/heyggun/post/26fb8ef7-c7ed-4637-b775-0e620d2e8bc3/image.png)\n",
    "\n",
    "    5개의 대기실을 본 죠르디는 각 대기실에서 응시자들이 거리두기를 잘 기키고 있는지 알고 싶어졌습니다. 자리에 앉아있는 응시자들의 정보와 대기실 구조를 대기실별로 담은 2차원 문자열 배열 places가 매개변수로 주어집니다. 각 대기실별로 거리두기를 지키고 있으면 1을, 한 명이라도 지키지 않고 있으면 0을 배열에 담아 return 하도록 solution 함수를 완성해 주세요.\n",
    "\n",
    "**제한사항**\n",
    "\n",
    "    places의 행 길이(대기실 개수) = 5\n",
    "    places의 각 행은 하나의 대기실 구조를 나타냅니다.\n",
    "    places의 열 길이(대기실 세로 길이) = 5\n",
    "    places의 원소는 P,O,X로 이루어진 문자열입니다.\n",
    "    places 원소의 길이(대기실 가로 길이) = 5\n",
    "    P는 응시자가 앉아있는 자리를 의미합니다.\n",
    "    O는 빈 테이블을 의미합니다.\n",
    "    X는 파티션을 의미합니다.\n",
    "    입력으로 주어지는 5개 대기실의 크기는 모두 5x5 입니다.\n",
    "    return 값 형식\n",
    "    1차원 정수 배열에 5개의 원소를 담아서 return 합니다.\n",
    "    places에 담겨 있는 5개 대기실의 순서대로, 거리두기 준수 여부를 차례대로 배열에 담습니다.\n",
    "    각 대기실 별로 모든 응시자가 거리두기를 지키고 있으면 1을, 한 명이라도 지키지 않고 있으면 0을 담습니다.\n",
    "\n",
    "\n",
    "**입출력 예**\n",
    "\n",
    "![](https://velog.velcdn.com/images/heyggun/post/8f3a5faa-02c6-443f-aecc-9a6cd754799f/image.png)\n",
    "\n",
    "\n",
    "**입출력 예 설명**\n",
    "\n",
    "    입출력 예 #1\n",
    "    첫 번째 대기실\n",
    "\n",
    "![](https://velog.velcdn.com/images/heyggun/post/e876187a-d329-4109-95de-4e0bd0287d91/image.png)\n",
    "\n",
    "    모든 응시자가 거리두기를 지키고 있습니다.\n",
    "\n",
    "    두 번째 대기실\n",
    "    \n",
    "![](https://velog.velcdn.com/images/heyggun/post/6033d08e-dedc-448f-8dbc-a655cbdc4978/image.png)\n",
    "\n",
    "![](https://velog.velcdn.com/images/heyggun/post/cc6eda7b-38f2-4601-a914-f9c670ee1336/image.png)\n",
    "\n",
    "    (0, 0) 자리의 응시자와 (2, 0) 자리의 응시자가 거리두기를 지키고 있지 않습니다.\n",
    "    (1, 2) 자리의 응시자와 (0, 3) 자리의 응시자가 거리두기를 지키고 있지 않습니다.\n",
    "    (4, 3) 자리의 응시자와 (4, 4) 자리의 응시자가 거리두기를 지키고 있지 않습니다.\n",
    "\n",
    "    \n",
    "    세 번째 대기실\n",
    "![](https://velog.velcdn.com/images/heyggun/post/768519c5-61c3-4d37-afca-5ccef832303b/image.png)\n",
    "\n",
    "    모든 응시자가 거리두기를 지키고 있습니다.\n",
    "    \n",
    "    네 번째 대기실\n",
    "![](https://velog.velcdn.com/images/heyggun/post/cf0c04ee-b19f-4446-aa7f-9664d1e53cf6/image.png)\n",
    "\n",
    "    대기실에 응시자가 없으므로 거리두기를 지키고 있습니다.\n",
    "    다섯 번째 대기실\n",
    "\n",
    "![](https://velog.velcdn.com/images/heyggun/post/ba7d1c1a-8c84-4a85-a83d-3c4a46567c13/image.png)\n",
    "\n",
    "    모든 응시자가 거리두기를 지키고 있습니다.\n",
    "    두 번째 대기실을 제외한 모든 대기실에서 거리두기가 지켜지고 있으므로, 배열 [1, 0, 1, 1, 1]을 return 합니다.\n",
    "\n",
    "**제한시간 안내**\n",
    "\n",
    "    정확성 테스트 : 10초\n",
    "    ※ 공지 - 2022년 4월 25일 테스트케이스가 추가되었습니다.\n",
    "\n",
    "    두 테이블 T1, T2가 행렬 (r1, c1), (r2, c2)에 각각 위치하고 있다면, T1, T2 사이의 맨해튼 거리는 |r1 - r2| + |c1 - c2| 입니다. ↩"
   ]
  },
  {
   "cell_type": "code",
   "execution_count": 34,
   "id": "25c4ae19",
   "metadata": {},
   "outputs": [],
   "source": [
    "from collections import deque\n",
    "\n",
    "def solution(places):\n",
    "    \n",
    "    def bfs(place):\n",
    "        directions = [(1,0),(-1,0),(0,1),(0,-1)]\n",
    "        places = [list(_) for _ in place]\n",
    "        visited = [[0]*5 for _ in range(5)]\n",
    "        \n",
    "        for i in range(5):\n",
    "            for j in range(5):\n",
    "                if places[i][j] == 'P':\n",
    "                    queue = deque([(i,j,0)])\n",
    "                    visited[i][j] =True\n",
    "                    \n",
    "                    while queue:\n",
    "                        x,y,dist = queue.popleft()\n",
    "                        \n",
    "                        if dist >=2:\n",
    "                            break\n",
    "                            \n",
    "                        for direction in directions:\n",
    "                            nx, ny = x+direction[0], y+direction[1]\n",
    "                            \n",
    "                            if 0<=nx<5 and 0<=ny<5 and not visited[nx][ny]:\n",
    "                                visited[nx][ny]=True\n",
    "                                if places[nx][ny] == 'X':\n",
    "                                    continue\n",
    "                                elif places[nx][ny]=='P':\n",
    "                                    return False\n",
    "                                else:\n",
    "                                    queue.append((nx,ny,dist+1))\n",
    "        return True\n",
    "                                    \n",
    "    answer = []\n",
    "    for place in places:\n",
    "        if bfs(place):\n",
    "            answer.append(1)\n",
    "        else:\n",
    "            answer.append(0)\n",
    "    \n",
    "    \n",
    "    return answer"
   ]
  },
  {
   "cell_type": "code",
   "execution_count": 35,
   "id": "4805564a",
   "metadata": {},
   "outputs": [
    {
     "name": "stdout",
     "output_type": "stream",
     "text": [
      "[1, 0, 1, 1, 1]\n"
     ]
    }
   ],
   "source": [
    "print(solution([[\"POOOP\", \"OXXOX\", \"OPXPX\", \"OOXOX\", \"POXXP\"], [\"POOPX\", \"OXPXP\", \"PXXXO\", \"OXXXO\", \"OOOPP\"], [\"PXOPX\", \"OXOXP\", \"OXPOX\", \"OXXOP\", \"PXPOX\"], [\"OOOXX\", \"XOOOX\", \"OOOXX\", \"OXOOX\", \"OOOOO\"], [\"PXPXP\", \"XPXPX\", \"PXPXP\", \"XPXPX\", \"PXPXP\"]]))"
   ]
  },
  {
   "attachments": {
    "image.png": {
     "image/png": "[encoded data removed]"
    }
   },
   "cell_type": "markdown",
   "id": "e8943a10",
   "metadata": {},
   "source": [
    "![image.png](attachment:image.png)"
   ]
  },
  {
   "cell_type": "code",
   "execution_count": null,
   "id": "3e353b3a",
   "metadata": {},
   "outputs": [],
   "source": []
  },
  {
   "cell_type": "code",
   "execution_count": null,
   "id": "919aa930",
   "metadata": {},
   "outputs": [],
   "source": []
  },
  {
   "cell_type": "code",
   "execution_count": null,
   "id": "f8560c26",
   "metadata": {},
   "outputs": [],
   "source": []
  },
  {
   "cell_type": "code",
   "execution_count": 31,
   "id": "5cf7c402",
   "metadata": {},
   "outputs": [
    {
     "data": {
      "text/plain": [
       "[1, 0, 1, 1, 1]"
      ]
     },
     "execution_count": 31,
     "metadata": {},
     "output_type": "execute_result"
    }
   ],
   "source": [
    "from collections import deque\n",
    "\n",
    "def bfs(place):\n",
    "    directions = [(1,0), (-1,0), (0,1), (0,-1)]\n",
    "    places = [list(_) for _ in place]\n",
    "    \n",
    "    for i in range(5):\n",
    "        for j in range(5):\n",
    "            if places[i][j] =='P':\n",
    "                queue = deque([(i,j,0)])\n",
    "                visited = [[0]*5 for _ in range(5)]\n",
    "                visited[i][j] = True\n",
    "                \n",
    "                while queue:\n",
    "                    x,y,dist = queue.popleft()\n",
    "                    \n",
    "                    if dist>=2:\n",
    "                        break\n",
    "\n",
    "                    for direction in directions:\n",
    "                        x, y = x+direction[0], y+direction[1]\n",
    "                        \n",
    "                        if 0<=x<5 and 0<=y<5 and not visited[x][y]:\n",
    "                            visited[x][y]= True\n",
    "                            if places[x][y] == 'X':\n",
    "                                continue\n",
    "                            elif places[x][y] == 'P':\n",
    "                                return False\n",
    "                            else:\n",
    "                                queue.append((x, y, dist+1))\n",
    "                                \n",
    "    return True\n",
    "                                \n",
    "\n",
    "                            \n",
    "answer = []\n",
    "\n",
    "for place in places:\n",
    "    if bfs(place):\n",
    "        answer.append(1)\n",
    "    else:\n",
    "        answer.append(0)\n",
    "                        \n",
    "answer                \n",
    "                \n",
    "                "
   ]
  },
  {
   "cell_type": "code",
   "execution_count": null,
   "id": "08e25b39",
   "metadata": {},
   "outputs": [],
   "source": []
  }
 ],
 "metadata": {
  "kernelspec": {
   "display_name": "Python 3 (ipykernel)",
   "language": "python",
   "name": "python3"
  },
  "language_info": {
   "codemirror_mode": {
    "name": "ipython",
    "version": 3
   },
   "file_extension": ".py",
   "mimetype": "text/x-python",
   "name": "python",
   "nbconvert_exporter": "python",
   "pygments_lexer": "ipython3",
   "version": "3.9.12"
  }
 },
 "nbformat": 4,
 "nbformat_minor": 5
}
