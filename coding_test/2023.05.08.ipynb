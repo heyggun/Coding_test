{
 "cells": [
  {
   "cell_type": "markdown",
   "id": "edc8164e",
   "metadata": {},
   "source": [
    "# LV 3.\n",
    "\n",
    "입국심사\n",
    "\n",
    "https://school.programmers.co.kr/learn/courses/30/lessons/43238"
   ]
  },
  {
   "cell_type": "markdown",
   "id": "6b73bdf5",
   "metadata": {},
   "source": [
    "**문제 설명**\n",
    "\n",
    "n명이 입국심사를 위해 줄을 서서 기다리고 있습니다. 각 입국심사대에 있는 심사관마다 심사하는데 걸리는 시간은 다릅니다.\n",
    "\n",
    "처음에 모든 심사대는 비어있습니다. 한 심사대에서는 동시에 한 명만 심사를 할 수 있습니다. 가장 앞에 서 있는 사람은 비어 있는 심사대로 가서 심사를 받을 수 있습니다. 하지만 더 빨리 끝나는 심사대가 있으면 기다렸다가 그곳으로 가서 심사를 받을 수도 있습니다.\n",
    "\n",
    "모든 사람이 심사를 받는데 걸리는 시간을 최소로 하고 싶습니다.\n",
    "\n",
    "입국심사를 기다리는 사람 수 n, 각 심사관이 한 명을 심사하는데 걸리는 시간이 담긴 배열 times가 매개변수로 주어질 때, 모든 사람이 심사를 받는데 걸리는 시간의 최솟값을 return 하도록 solution 함수를 작성해주세요.\n",
    "\n",
    "\n",
    "**제한사항**\n",
    "\n",
    "입국심사를 기다리는 사람은 1명 이상 1,000,000,000명 이하입니다.\n",
    "각 심사관이 한 명을 심사하는데 걸리는 시간은 1분 이상 1,000,000,000분 이하입니다.\n",
    "심사관은 1명 이상 100,000명 이하입니다.\n",
    "\n",
    "\n",
    "**입출력 예**\n",
    "\n",
    "![](https://velog.velcdn.com/images/heyggun/post/3d89de1c-3851-4edb-ac68-c6957f693593/image.png)\n",
    "\n",
    "\n",
    "**입출력 예 설명**\n",
    "\n",
    "가장 첫 두 사람은 바로 심사를 받으러 갑니다.\n",
    "\n",
    "7분이 되었을 때, 첫 번째 심사대가 비고 3번째 사람이 심사를 받습니다.\n",
    "\n",
    "10분이 되었을 때, 두 번째 심사대가 비고 4번째 사람이 심사를 받습니다.\n",
    "\n",
    "14분이 되었을 때, 첫 번째 심사대가 비고 5번째 사람이 심사를 받습니다.\n",
    "\n",
    "20분이 되었을 때, 두 번째 심사대가 비지만 6번째 사람이 그곳에서 심사를 받지 않고 1분을 더 기다린 후에 첫 번째 심사대에서 심사를 받으면 28분에 모든 사람의 심사가 끝납니다.\n",
    "\n",
    "\n"
   ]
  },
  {
   "cell_type": "code",
   "execution_count": 16,
   "id": "b54be61d",
   "metadata": {},
   "outputs": [],
   "source": [
    "def solution(n, times):\n",
    "    List = []\n",
    "    for i in range(1,n+1):\n",
    "        t1 = times[0]*i\n",
    "        t2 = times[1]*i\n",
    "\n",
    "        List.append(t1)\n",
    "        List.append(t2)\n",
    "    \n",
    "    List.sort()\n",
    "    return List[n-1]"
   ]
  },
  {
   "cell_type": "code",
   "execution_count": 17,
   "id": "5df53720",
   "metadata": {},
   "outputs": [
    {
     "name": "stdout",
     "output_type": "stream",
     "text": [
      "28\n"
     ]
    }
   ],
   "source": [
    "print(solution(6,[7,10]))"
   ]
  },
  {
   "attachments": {
    "image.png": {
     "image/png": "[encoded data removed]"
    }
   },
   "cell_type": "markdown",
   "id": "6f97501d",
   "metadata": {},
   "source": [
    "![image.png](attachment:image.png)"
   ]
  },
  {
   "cell_type": "code",
   "execution_count": 24,
   "id": "ac5a2c07",
   "metadata": {},
   "outputs": [
    {
     "name": "stdout",
     "output_type": "stream",
     "text": [
      " start ,end -> (1, 60), mid -> 30\n",
      " start ,end -> (1, 29), mid -> 15\n",
      " start ,end -> (16, 29), mid -> 22\n",
      " start ,end -> (23, 29), mid -> 26\n",
      " start ,end -> (27, 29), mid -> 28\n",
      " start ,end -> (27, 27), mid -> 27\n"
     ]
    },
    {
     "data": {
      "text/plain": [
       "28"
      ]
     },
     "execution_count": 24,
     "metadata": {},
     "output_type": "execute_result"
    }
   ],
   "source": [
    "n, times= 6, [7,10]\n",
    "\n",
    "answer= 0\n",
    "start, end = 1, n*max(times)\n",
    "\n",
    "while start <= end:\n",
    "    mid = (start+end)//2\n",
    "    print(f\" start ,end -> {start, end}, mid -> {mid}\")\n",
    "    people=0\n",
    "    for time in times:\n",
    "        people += mid//time\n",
    "        \n",
    "    if people >=n:\n",
    "        answer = mid\n",
    "        end = mid-1\n",
    "        \n",
    "    else:\n",
    "        start = mid+1\n",
    "        \n",
    "answer"
   ]
  },
  {
   "cell_type": "code",
   "execution_count": null,
   "id": "93d1c959",
   "metadata": {},
   "outputs": [],
   "source": []
  },
  {
   "cell_type": "code",
   "execution_count": null,
   "id": "54f2af2a",
   "metadata": {},
   "outputs": [],
   "source": []
  }
 ],
 "metadata": {
  "kernelspec": {
   "display_name": "Python 3 (ipykernel)",
   "language": "python",
   "name": "python3"
  },
  "language_info": {
   "codemirror_mode": {
    "name": "ipython",
    "version": 3
   },
   "file_extension": ".py",
   "mimetype": "text/x-python",
   "name": "python",
   "nbconvert_exporter": "python",
   "pygments_lexer": "ipython3",
   "version": "3.9.12"
  }
 },
 "nbformat": 4,
 "nbformat_minor": 5
}
