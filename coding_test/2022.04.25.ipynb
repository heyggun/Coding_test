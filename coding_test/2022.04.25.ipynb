{
 "cells": [
  {
   "cell_type": "markdown",
   "id": "406edbe5",
   "metadata": {},
   "source": [
    "# LV 2.\n",
    "\n",
    "미로 탈출\n",
    "\n",
    "https://school.programmers.co.kr/learn/courses/30/lessons/159993"
   ]
  },
  {
   "cell_type": "markdown",
   "id": "70a17648",
   "metadata": {},
   "source": [
    "**문제 설명**\n",
    "\n",
    "    1 x 1 크기의 칸들로 이루어진 직사각형 격자 형태의 미로에서 탈출하려고 합니다. 각 칸은 통로 또는 벽으로 구성되어 있으며, 벽으로 된 칸은 지나갈 수 없고 통로로 된 칸으로만 이동할 수 있습니다. 통로들 중 한 칸에는 미로를 빠져나가는 문이 있는데, 이 문은 레버를 당겨서만 열 수 있습니다. 레버 또한 통로들 중 한 칸에 있습니다. 따라서, 출발 지점에서 먼저 레버가 있는 칸으로 이동하여 레버를 당긴 후 미로를 빠져나가는 문이 있는 칸으로 이동하면 됩니다. 이때 아직 레버를 당기지 않았더라도 출구가 있는 칸을 지나갈 수 있습니다. 미로에서 한 칸을 이동하는데 1초가 걸린다고 할 때, 최대한 빠르게 미로를 빠져나가는데 걸리는 시간을 구하려 합니다.\n",
    "\n",
    "    미로를 나타낸 문자열 배열 maps가 매개변수로 주어질 때, 미로를 탈출하는데 필요한 최소 시간을 return 하는 solution 함수를 완성해주세요. 만약, 탈출할 수 없다면 -1을 return 해주세요.\n",
    "\n",
    "\n",
    "\n",
    "**제한사항**\n",
    "\n",
    "    5 ≤ maps의 길이 ≤ 100\n",
    "    5 ≤ maps[i]의 길이 ≤ 100\n",
    "    maps[i]는 다음 5개의 문자들로만 이루어져 있습니다.\n",
    "    S : 시작 지점\n",
    "    E : 출구\n",
    "    L : 레버\n",
    "    O : 통로\n",
    "    X : 벽\n",
    "    시작 지점과 출구, 레버는 항상 다른 곳에 존재하며 한 개씩만 존재합니다.\n",
    "    출구는 레버가 당겨지지 않아도 지나갈 수 있으며, 모든 통로, 출구, 레버, 시작점은 여러 번 지나갈 수 있습니다.\n",
    "\n",
    "**입출력 예**\n",
    "\n",
    "![](https://velog.velcdn.com/images/heyggun/post/a2bac86c-c0b9-4dda-b1f2-605e7ad88e15/image.png)\n",
    "\n",
    "**입출력 예 설명**\n",
    "\n",
    "    입출력 예 #1\n",
    "    주어진 문자열은 다음과 같은 미로이며\n",
    "\n",
    "![](https://velog.velcdn.com/images/heyggun/post/1140eeee-6b13-478e-85ea-1ac9424253fc/image.png)\n",
    "\n",
    "    다음과 같이 이동하면 가장 빠른 시간에 탈출할 수 있습니다.\n",
    "\n",
    "![](https://velog.velcdn.com/images/heyggun/post/b78ff4a3-5585-4320-af86-a1d0ac95314a/image.png)\n",
    "\n",
    "    4번 이동하여 레버를 당기고 출구까지 이동하면 총 16초의 시간이 걸립니다. 따라서 16을 반환합니다.\n",
    "\n",
    "    입출력 예 #2\n",
    "    주어진 문자열은 다음과 같은 미로입니다.\n",
    "\n",
    "![](https://velog.velcdn.com/images/heyggun/post/2190c841-d6e1-4fe1-9426-c0ae2f827280/image.png)\n",
    "    \n",
    "    시작 지점에서 이동할 수 있는 공간이 없어서 탈출할 수 없습니다. 따라서 -1을 반환합니다.\n",
    "    "
   ]
  },
  {
   "cell_type": "code",
   "execution_count": 1,
   "id": "d592336d",
   "metadata": {},
   "outputs": [],
   "source": [
    "def solution(maps):\n",
    "    answer = 0\n",
    "    return answer"
   ]
  },
  {
   "cell_type": "code",
   "execution_count": 33,
   "id": "dd90a9cc",
   "metadata": {},
   "outputs": [
    {
     "data": {
      "text/plain": [
       "[[False, False, False, False, False],\n",
       " [False, False, False, False, False],\n",
       " [False, False, False, False, False],\n",
       " [False, False, False, False, False],\n",
       " [False, False, False, False, False]]"
      ]
     },
     "execution_count": 33,
     "metadata": {},
     "output_type": "execute_result"
    }
   ],
   "source": [
    "maps = [\"SOOOL\",\"XXXXO\",\"OOOOO\",\"OXXXX\",\"OOOOE\"]\n",
    "\n"
   ]
  },
  {
   "cell_type": "code",
   "execution_count": null,
   "id": "353b229d",
   "metadata": {},
   "outputs": [],
   "source": []
  },
  {
   "cell_type": "code",
   "execution_count": 35,
   "id": "18170e32",
   "metadata": {},
   "outputs": [
    {
     "name": "stdout",
     "output_type": "stream",
     "text": [
      "(0, 0) (0, 4)\n",
      "[['S', 'O', 'O', 'O', 'L'], ['X', 'X', 'X', 'X', 'O'], ['O', 'O', 'O', 'O', 'O'], ['O', 'X', 'X', 'X', 'X'], ['O', 'O', 'O', 'O', 'E']]\n"
     ]
    },
    {
     "data": {
      "text/plain": [
       "'S'"
      ]
     },
     "execution_count": 35,
     "metadata": {},
     "output_type": "execute_result"
    }
   ],
   "source": [
    "from collection import deque\n",
    "\n",
    "maps = [\"SOOOL\",\"XXXXO\",\"OOOOO\",\"OXXXX\",\"OOOOE\"]\n",
    "position = [(1,0), (-1,0), (0,1), (0,-1)]\n",
    "visited = [[False] * len(maps[0]) for i in range(len(maps))]\n",
    "OPEN= False                               \n",
    "\n",
    "def get_lever_start(maps):\n",
    "    for i in range(len(maps)):\n",
    "        for j in range(len(maps[0])):\n",
    "            if maps[i][j] == 'S':\n",
    "                start = (i,j)\n",
    "                \n",
    "            if maps[i][j] == 'L':\n",
    "                lever = (i,j)\n",
    "    return start, lever\n",
    "\n",
    "        \n",
    "\n",
    "def dfs(maps, start, target):\n",
    "    x, y = start\n",
    "    visited = [[False] * len(maps[0]) for _ in range(len(maps))]\n",
    "    visited[x][y]= True\n",
    "    queue = deque([(x,y,0)])\n",
    "\n",
    "    while q:\n",
    "        x,y, dist = q.popleft()\n",
    "        \n",
    "\n"
   ]
  },
  {
   "cell_type": "code",
   "execution_count": null,
   "id": "810811a2",
   "metadata": {},
   "outputs": [],
   "source": []
  }
 ],
 "metadata": {
  "kernelspec": {
   "display_name": "Python 3 (ipykernel)",
   "language": "python",
   "name": "python3"
  },
  "language_info": {
   "codemirror_mode": {
    "name": "ipython",
    "version": 3
   },
   "file_extension": ".py",
   "mimetype": "text/x-python",
   "name": "python",
   "nbconvert_exporter": "python",
   "pygments_lexer": "ipython3",
   "version": "3.9.12"
  }
 },
 "nbformat": 4,
 "nbformat_minor": 5
}
