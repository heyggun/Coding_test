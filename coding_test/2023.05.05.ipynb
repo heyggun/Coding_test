{
 "cells": [
  {
   "cell_type": "markdown",
   "id": "ac796617",
   "metadata": {},
   "source": [
    "# LV 2.\n",
    "\n",
    "이모티콘 할인행사\n",
    "\n",
    "https://school.programmers.co.kr/learn/courses/30/lessons/150368"
   ]
  },
  {
   "cell_type": "markdown",
   "id": "e23448fa",
   "metadata": {},
   "source": [
    "**문제 설명**\n",
    "\n",
    "    카카오톡에서는 이모티콘을 무제한으로 사용할 수 있는 이모티콘 플러스 서비스 가입자 수를 늘리려고 합니다.\n",
    "    이를 위해 카카오톡에서는 이모티콘 할인 행사를 하는데, 목표는 다음과 같습니다.\n",
    "\n",
    "    이모티콘 플러스 서비스 가입자를 최대한 늘리는 것.\n",
    "    이모티콘 판매액을 최대한 늘리는 것.\n",
    "    1번 목표가 우선이며, 2번 목표가 그 다음입니다.\n",
    "\n",
    "    이모티콘 할인 행사는 다음과 같은 방식으로 진행됩니다.\n",
    "\n",
    "    n명의 카카오톡 사용자들에게 이모티콘 m개를 할인하여 판매합니다.\n",
    "    이모티콘마다 할인율은 다를 수 있으며, 할인율은 10%, 20%, 30%, 40% 중 하나로 설정됩니다.\n",
    "    카카오톡 사용자들은 다음과 같은 기준을 따라 이모티콘을 사거나, 이모티콘 플러스 서비스에 가입합니다.\n",
    "\n",
    "    각 사용자들은 자신의 기준에 따라 일정 비율 이상 할인하는 이모티콘을 모두 구매합니다.\n",
    "    각 사용자들은 자신의 기준에 따라 이모티콘 구매 비용의 합이 일정 가격 이상이 된다면, 이모티콘 구매를 모두 취소하고 이모티콘 플러스 서비스에 가입합니다.\n",
    "    다음은 2명의 카카오톡 사용자와 2개의 이모티콘이 있을때의 예시입니다.\n",
    "\n",
    "\n",
    "![](https://velog.velcdn.com/images/heyggun/post/89a0d934-78c8-448e-b44f-d5573e644b0e/image.png)\n",
    "\n",
    "    1번 사용자는 40%이상 할인하는 이모티콘을 모두 구매하고, 이모티콘 구매 비용이 10,000원 이상이 되면 이모티콘 구매를 모두 취소하고 이모티콘 플러스 서비스에 가입합니다.\n",
    "    2번 사용자는 25%이상 할인하는 이모티콘을 모두 구매하고, 이모티콘 구매 비용이 10,000원 이상이 되면 이모티콘 구매를 모두 취소하고 이모티콘 플러스 서비스에 가입합니다.\n",
    "\n",
    "    1번 이모티콘의 가격은 7,000원, 2번 이모티콘의 가격은 9,000원입니다.\n",
    "\n",
    "    만약, 2개의 이모티콘을 모두 40%씩 할인한다면, 1번 사용자와 2번 사용자 모두 1,2번 이모티콘을 구매하게 되고, 결과는 다음과 같습니다.\n",
    "\n",
    "![](https://velog.velcdn.com/images/heyggun/post/edfa4239-630b-4eda-a541-7fc8a76034b0/image.png)\n",
    "\n",
    "    이모티콘 플러스 서비스 가입자는 0명이 늘어나고 이모티콘 판매액은 19,200원이 늘어납니다.\n",
    "\n",
    "    하지만, 1번 이모티콘을 30% 할인하고 2번 이모티콘을 40% 할인한다면 결과는 다음과 같습니다.\n",
    "\n",
    "![](https://velog.velcdn.com/images/heyggun/post/04019f1c-25e3-48c3-9093-da0780d613e9/image.png)\n",
    "\n",
    "    2번 사용자는 이모티콘 구매 비용을 10,000원 이상 사용하여 이모티콘 구매를 모두 취소하고 이모티콘 플러스 서비스에 가입하게 됩니다.\n",
    "    따라서, 이모티콘 플러스 서비스 가입자는 1명이 늘어나고 이모티콘 판매액은 5,400원이 늘어나게 됩니다.\n",
    "\n",
    "    카카오톡 사용자 n명의 구매 기준을 담은 2차원 정수 배열 users, 이모티콘 m개의 정가를 담은 1차원 정수 배열 emoticons가 주어집니다. 이때, 행사 목적을 최대한으로 달성했을 때의 이모티콘 플러스 서비스 가입 수와 이모티콘 매출액을 1차원 정수 배열에 담아 return 하도록 solution 함수를 완성해주세요.\n",
    "\n",
    "\n",
    "\n",
    "**제한사항**\n",
    "\n",
    "    1 ≤ users의 길이 = n ≤ 100\n",
    "    users의 원소는 [비율, 가격]의 형태입니다.\n",
    "    users[i]는 i+1번 고객의 구매 기준을 의미합니다.\n",
    "    비율% 이상의 할인이 있는 이모티콘을 모두 구매한다는 의미입니다.\n",
    "    1 ≤ 비율 ≤ 40\n",
    "    가격이상의 돈을 이모티콘 구매에 사용한다면, 이모티콘 구매를 모두 취소하고 이모티콘 플러스 서비스에 가입한다는 의미입니다.\n",
    "    100 ≤ 가격 ≤ 1,000,000\n",
    "    가격은 100의 배수입니다.\n",
    "    1 ≤ emoticons의 길이 = m ≤ 7\n",
    "    emoticons[i]는 i+1번 이모티콘의 정가를 의미합니다.\n",
    "    100 ≤ emoticons의 원소 ≤ 1,000,000\n",
    "    emoticons의 원소는 100의 배수입니다.\n",
    "\n",
    "**입출력 예**\n",
    "\n",
    "![](https://velog.velcdn.com/images/heyggun/post/eab70ece-7995-4afa-b54b-8d49d307ae2e/image.png)\n",
    "\n",
    "**입출력 예 설명**\n",
    "\n",
    "    입출력 예 #1\n",
    "    문제의 예시와 같습니다.\n",
    "\n",
    "    입출력 예 #2\n",
    "    다음과 같이 할인하는 것이 이모티콘 플러스 서비스 가입자를 최대한 늘리면서, 이모티콘 판매액 또한 최대로 늘리는 방법입니다.\n",
    "\n",
    "![](https://velog.velcdn.com/images/heyggun/post/1729e838-21ff-4954-95e5-26f3f6467aec/image.png)\n",
    "\n",
    "    위와 같이 할인하면 4명의 이모티콘 플러스 가입자와 13,860원의 판매액을 달성할 수 있습니다. 다른 할인율을 적용하여 이모티콘을 판매할 수 있지만 이보다 이모티콘 플러스 서비스 가입자를 최대한 늘리면서, 이모티콘 판매액 또한 최대로 늘리는 방법은 없습니다.\n",
    "    따라서, [4, 13860]을 return 하면 됩니다.\n"
   ]
  },
  {
   "cell_type": "code",
   "execution_count": 1,
   "id": "b47c54c3",
   "metadata": {},
   "outputs": [],
   "source": [
    "def solution(users, emoticons):\n",
    "    answer = []\n",
    "    return answer"
   ]
  },
  {
   "cell_type": "code",
   "execution_count": 6,
   "id": "4affd597",
   "metadata": {},
   "outputs": [
    {
     "data": {
      "text/plain": [
       "[0, 0]"
      ]
     },
     "execution_count": 6,
     "metadata": {},
     "output_type": "execute_result"
    }
   ],
   "source": []
  },
  {
   "cell_type": "code",
   "execution_count": 3,
   "id": "6685c718",
   "metadata": {},
   "outputs": [],
   "source": []
  },
  {
   "cell_type": "code",
   "execution_count": 72,
   "id": "ceb74180",
   "metadata": {},
   "outputs": [
    {
     "data": {
      "text/plain": [
       "[1, 5400]"
      ]
     },
     "execution_count": 72,
     "metadata": {},
     "output_type": "execute_result"
    }
   ],
   "source": [
    "users, emoticons = [[40, 10000], [25, 10000]],[7000, 9000]\n",
    "\n",
    "discountRatio = [10,20,30,40]\n",
    "discountList = []\n",
    "answer = [0,0]\n",
    "\n",
    "def bfs(tmp, i):\n",
    "    if len(tmp) == i:\n",
    "        discountList.append(tmp[:])\n",
    "        return\n",
    "    else:\n",
    "        for ratio in discountRatio:\n",
    "            tmp[i] += ratio\n",
    "            bfs(tmp, i+1)\n",
    "            tmp[i] -= ratio\n",
    "            \n",
    "bfs([0]*len(emoticons), 0)\n",
    "\n",
    "for discount in discountList:\n",
    "    cnt, money = 0,0\n",
    "    for u in users:\n",
    "        pay = 0\n",
    "        for di in range(len(discount)):\n",
    "            if u[0] <= discount[di]:\n",
    "                pay += int(emoticons[di] * (100-discount[di])/100)\n",
    "            \n",
    "            if u[1] <= pay:\n",
    "                cnt +=1\n",
    "                pay = 0\n",
    "                break\n",
    "        money += pay\n",
    "        \n",
    "    if cnt >= answer[0]:\n",
    "        answer[1] = max(answer[1], money) if cnt == answer[0] else money\n",
    "        answer[0] = cnt\n",
    "\n",
    "answer"
   ]
  },
  {
   "cell_type": "code",
   "execution_count": 57,
   "id": "55e80ad4",
   "metadata": {},
   "outputs": [
    {
     "data": {
      "text/plain": [
       "[4, 13860]"
      ]
     },
     "execution_count": 57,
     "metadata": {},
     "output_type": "execute_result"
    }
   ],
   "source": [
    "users = [[40, 2900], [23, 10000], [11, 5200], [5, 5900], [40, 3100], [27, 9200], [32, 6900]]\n",
    "emoticons = [1300, 1500, 1600, 4900]\n",
    "\n",
    "\n",
    "discountRatio = [10,20,30,40]\n",
    "discountList = []\n",
    "answer = [0,0]\n",
    "\n",
    "def bfs(tmp, i):\n",
    "    if len(tmp) == i:\n",
    "        discountList.append(tmp[:])\n",
    "        return\n",
    "    else:\n",
    "        for ratio in discountRatio:\n",
    "            tmp[i] += ratio\n",
    "            bfs(tmp, i+1)\n",
    "            tmp[i] -= ratio\n",
    "            \n",
    "bfs([0]*len(emoticons), 0)\n",
    "\n",
    "for discount in discountList:\n",
    "    cnt, money = 0,0\n",
    "    for u in users:\n",
    "        pay = 0\n",
    "        for di in range(len(discount)):\n",
    "            if u[0] <= discount[di]:\n",
    "                pay += int(emoticons[di] * (100-discount[di])/100)\n",
    "            \n",
    "            if u[1] <= pay:\n",
    "                cnt +=1\n",
    "                pay = 0\n",
    "                break\n",
    "        money += pay\n",
    "        \n",
    "    if cnt >= answer[0]:\n",
    "        answer[1] = max(answer[1], money) if cnt == answer[0] else money\n",
    "        answer[0] = cnt\n",
    "\n",
    "answer"
   ]
  },
  {
   "cell_type": "code",
   "execution_count": 36,
   "id": "0537e8aa",
   "metadata": {
    "scrolled": false
   },
   "outputs": [
    {
     "name": "stdout",
     "output_type": "stream",
     "text": [
      "i, d, tmp -> (10, 0, [0, 0])\n",
      "i, d, tmp -> (10, 1, [10, 0])\n",
      " d, tmp -> (2, [10, 10])\n",
      " tmp, d-> ([10, 0], 1)\n",
      "---------\n",
      "i, d, tmp -> (20, 1, [10, 0])\n",
      " d, tmp -> (2, [10, 20])\n",
      " tmp, d-> ([10, 0], 1)\n",
      "---------\n",
      "i, d, tmp -> (30, 1, [10, 0])\n",
      " d, tmp -> (2, [10, 30])\n",
      " tmp, d-> ([10, 0], 1)\n",
      "---------\n",
      "i, d, tmp -> (40, 1, [10, 0])\n",
      " d, tmp -> (2, [10, 40])\n",
      " tmp, d-> ([10, 0], 1)\n",
      "---------\n",
      "=============\n",
      " tmp, d-> ([0, 0], 0)\n",
      "---------\n",
      "i, d, tmp -> (20, 0, [0, 0])\n",
      "i, d, tmp -> (10, 1, [20, 0])\n",
      " d, tmp -> (2, [20, 10])\n",
      " tmp, d-> ([20, 0], 1)\n",
      "---------\n",
      "i, d, tmp -> (20, 1, [20, 0])\n",
      " d, tmp -> (2, [20, 20])\n",
      " tmp, d-> ([20, 0], 1)\n",
      "---------\n",
      "i, d, tmp -> (30, 1, [20, 0])\n",
      " d, tmp -> (2, [20, 30])\n",
      " tmp, d-> ([20, 0], 1)\n",
      "---------\n",
      "i, d, tmp -> (40, 1, [20, 0])\n",
      " d, tmp -> (2, [20, 40])\n",
      " tmp, d-> ([20, 0], 1)\n",
      "---------\n",
      "=============\n",
      " tmp, d-> ([0, 0], 0)\n",
      "---------\n",
      "i, d, tmp -> (30, 0, [0, 0])\n",
      "i, d, tmp -> (10, 1, [30, 0])\n",
      " d, tmp -> (2, [30, 10])\n",
      " tmp, d-> ([30, 0], 1)\n",
      "---------\n",
      "i, d, tmp -> (20, 1, [30, 0])\n",
      " d, tmp -> (2, [30, 20])\n",
      " tmp, d-> ([30, 0], 1)\n",
      "---------\n",
      "i, d, tmp -> (30, 1, [30, 0])\n",
      " d, tmp -> (2, [30, 30])\n",
      " tmp, d-> ([30, 0], 1)\n",
      "---------\n",
      "i, d, tmp -> (40, 1, [30, 0])\n",
      " d, tmp -> (2, [30, 40])\n",
      " tmp, d-> ([30, 0], 1)\n",
      "---------\n",
      "=============\n",
      " tmp, d-> ([0, 0], 0)\n",
      "---------\n",
      "i, d, tmp -> (40, 0, [0, 0])\n",
      "i, d, tmp -> (10, 1, [40, 0])\n",
      " d, tmp -> (2, [40, 10])\n",
      " tmp, d-> ([40, 0], 1)\n",
      "---------\n",
      "i, d, tmp -> (20, 1, [40, 0])\n",
      " d, tmp -> (2, [40, 20])\n",
      " tmp, d-> ([40, 0], 1)\n",
      "---------\n",
      "i, d, tmp -> (30, 1, [40, 0])\n",
      " d, tmp -> (2, [40, 30])\n",
      " tmp, d-> ([40, 0], 1)\n",
      "---------\n",
      "i, d, tmp -> (40, 1, [40, 0])\n",
      " d, tmp -> (2, [40, 40])\n",
      " tmp, d-> ([40, 0], 1)\n",
      "---------\n",
      "=============\n",
      " tmp, d-> ([0, 0], 0)\n",
      "---------\n",
      "=============\n"
     ]
    },
    {
     "data": {
      "text/plain": [
       "[[10, 10],\n",
       " [10, 20],\n",
       " [10, 30],\n",
       " [10, 40],\n",
       " [20, 10],\n",
       " [20, 20],\n",
       " [20, 30],\n",
       " [20, 40],\n",
       " [30, 10],\n",
       " [30, 20],\n",
       " [30, 30],\n",
       " [30, 40],\n",
       " [40, 10],\n",
       " [40, 20],\n",
       " [40, 30],\n",
       " [40, 40]]"
      ]
     },
     "execution_count": 36,
     "metadata": {},
     "output_type": "execute_result"
    }
   ],
   "source": [
    "users, emoticons = [[40, 10000], [25, 10000]],[7000, 9000]\n",
    "\n",
    "answer = [0,0]\n",
    "data = [10,20,30,40]\n",
    "discount = []\n",
    "\n",
    "def dfs(tmp, d):\n",
    "    if d == len(tmp):\n",
    "        print(f\" d, tmp -> {d, tmp}\")\n",
    "        discount.append(tmp[:])\n",
    "        return\n",
    "    else:\n",
    "        for i in data:\n",
    "            print(f\"i, d, tmp -> {i, d, tmp}\")\n",
    "            tmp[d] += i\n",
    "            dfs(tmp, d+1)\n",
    "            tmp[d] -= i\n",
    "            print(f\" tmp, d-> {tmp, d}\")\n",
    "            print(\"---------\")\n",
    "        print(\"=============\")\n",
    "\n",
    "dfs([0]*len(emoticons), 0)\n",
    "\n",
    "\n",
    "discount"
   ]
  },
  {
   "cell_type": "code",
   "execution_count": null,
   "id": "ab3d2ed9",
   "metadata": {},
   "outputs": [],
   "source": []
  },
  {
   "cell_type": "code",
   "execution_count": null,
   "id": "74c131ca",
   "metadata": {},
   "outputs": [],
   "source": []
  },
  {
   "cell_type": "code",
   "execution_count": 75,
   "id": "5497a228",
   "metadata": {},
   "outputs": [],
   "source": [
    "\n",
    "def solution(users, emoticons):\n",
    "    discountRatio = [10,20,30,40]\n",
    "    discountList = []\n",
    "    answer = [0,0]\n",
    "    def bfs(tmp, n):\n",
    "        if len(tmp)==n:\n",
    "            discountList.append(tmp[:])\n",
    "            return\n",
    "        else:\n",
    "            for ratio in discountRatio:\n",
    "                tmp[n] += ratio\n",
    "                bfs(tmp, n+1)\n",
    "                tmp[n] -= ratio\n",
    "                \n",
    "    bfs([0]*len(emoticons), 0)\n",
    "    \n",
    "    for discount in discountList:\n",
    "        cnt, money = 0,0\n",
    "        for u in users:\n",
    "            pay = 0\n",
    "            for di in range(len(discount)):\n",
    "                \n",
    "                if u[0] <= discount[di]:\n",
    "                    pay += int(emoticons[di] * (100-discount[di])/100)\n",
    "                \n",
    "                if u[1] <= pay:\n",
    "                    cnt +=1\n",
    "                    pay = 0\n",
    "                    break\n",
    "                    \n",
    "            money += pay\n",
    "            \n",
    "        if cnt >= answer[0]:\n",
    "            answer[1] = max(answer[1], money) if cnt == answer[0] else money\n",
    "            answer[0] = cnt\n",
    "\n",
    "    return answer\n",
    "    "
   ]
  },
  {
   "cell_type": "code",
   "execution_count": 76,
   "id": "6eab00fa",
   "metadata": {},
   "outputs": [
    {
     "name": "stdout",
     "output_type": "stream",
     "text": [
      "[1, 5400]\n",
      "[4, 13860]\n"
     ]
    }
   ],
   "source": [
    "print(solution([[40, 10000], [25, 10000]],[7000, 9000]))\n",
    "print(solution([[40, 2900], [23, 10000], [11, 5200], [5, 5900], [40, 3100], [27, 9200], [32, 6900]], \n",
    "              [1300, 1500, 1600, 4900]))"
   ]
  },
  {
   "cell_type": "code",
   "execution_count": null,
   "id": "5e0d0aff",
   "metadata": {},
   "outputs": [],
   "source": []
  },
  {
   "cell_type": "code",
   "execution_count": null,
   "id": "564346aa",
   "metadata": {},
   "outputs": [],
   "source": []
  },
  {
   "attachments": {
    "image.png": {
     "image/png": "[encoded data removed]"
    }
   },
   "cell_type": "markdown",
   "id": "4b35b67e",
   "metadata": {},
   "source": [
    "![image.png](attachment:image.png)"
   ]
  },
  {
   "cell_type": "code",
   "execution_count": 80,
   "id": "ddf0da0a",
   "metadata": {},
   "outputs": [
    {
     "data": {
      "text/plain": [
       "[4, 13860.0]"
      ]
     },
     "execution_count": 80,
     "metadata": {},
     "output_type": "execute_result"
    }
   ],
   "source": [
    "from itertools import product\n",
    "\n",
    "users = [[40, 2900], [23, 10000], [11, 5200], [5, 5900], [40, 3100], [27, 9200], [32, 6900]]\n",
    "emoticons = [1300, 1500, 1600, 4900]\n",
    "\n",
    "answer = [0,0]\n",
    "ratio = [10,20,30,40]\n",
    "prod = product(ratio, repeat = len(emoticons))\n",
    "\n",
    "for p in prod:\n",
    "    cnt, money = 0,0\n",
    "    \n",
    "    for ePercent, mPrice in users:\n",
    "        uPrice = 0\n",
    "        \n",
    "        for itemPrice, itemPercent in zip(emoticons, p):\n",
    "            if itemPercent >= ePercent:\n",
    "                uPrice += itemPrice*(100-itemPercent)/100\n",
    "            \n",
    "        if uPrice >= mPrice:\n",
    "            cnt +=1\n",
    "        else:\n",
    "            money += uPrice\n",
    "            \n",
    "    answer = max(answer, [cnt, money])\n",
    "    \n",
    "answer"
   ]
  },
  {
   "cell_type": "code",
   "execution_count": null,
   "id": "f4b1b7b5",
   "metadata": {},
   "outputs": [],
   "source": []
  }
 ],
 "metadata": {
  "kernelspec": {
   "display_name": "Python 3 (ipykernel)",
   "language": "python",
   "name": "python3"
  },
  "language_info": {
   "codemirror_mode": {
    "name": "ipython",
    "version": 3
   },
   "file_extension": ".py",
   "mimetype": "text/x-python",
   "name": "python",
   "nbconvert_exporter": "python",
   "pygments_lexer": "ipython3",
   "version": "3.9.13"
  }
 },
 "nbformat": 4,
 "nbformat_minor": 5
}
