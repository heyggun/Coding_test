{
 "cells": [
  {
   "cell_type": "markdown",
   "id": "4adbbc01",
   "metadata": {},
   "source": [
    "# LV 2.\n",
    "\n",
    "우박수열 정적분\n",
    "\n",
    "https://school.programmers.co.kr/learn/courses/30/lessons/134239"
   ]
  },
  {
   "cell_type": "markdown",
   "id": "5faec4f1",
   "metadata": {},
   "source": [
    "**문제 설명**\n",
    "\n",
    "    콜라츠 추측이란 로타르 콜라츠(Lothar Collatz)가 1937년에 제기한 추측으로 모든 자연수 n에 대해 다음 작업을 반복하면 항상 1로 만들 수 있다는 추측입니다.\n",
    "\n",
    "    1-1. 입력된 수가 짝수라면 2로 나눕니다.\n",
    "    1-2. 입력된 수가 홀수라면 3을 곱하고 1을 더합니다.\n",
    "    2.결과로 나온 수가 1보다 크다면 1번 작업을 반복합니다.\n",
    "    예를 들어 주어진 수가 5 라면 5 ⇒ 16 ⇒ 8 ⇒ 4 ⇒2 ⇒ 1 이되어 총 5번만에 1이 됩니다.\n",
    "\n",
    "    수가 커졌다 작아지기를 반복하는 모습이 비구름에서 빗방울이 오르락내리락하며 우박이 되는 모습과 비슷하다고 하여 우박수 또는 우박수열로 불리기도 합니다. 현재 이 추측이 참인지 거짓인지 증명되지 않았지만 약 1해까지의 수에서 반례가 없음이 밝혀져 있습니다.\n",
    "\n",
    "    은지는 우박수열을 좌표 평면 위에 꺾은선 그래프로 나타내보려고 합니다. 초항이 K인 우박수열이 있다면, x = 0일때 y = K이고 다음 우박수는 x = 1에 표시합니다. 이런 식으로 우박수가 1이 될 때까지 점들을 찍고 인접한 점들끼리 직선으로 연결하면 다음과 같이 꺾은선 그래프를 만들 수 있습니다.\n",
    "\n",
    "![](https://velog.velcdn.com/images/heyggun/post/60e09750-313b-4047-8812-00ecb18f6c08/image.png)\n",
    "\n",
    "    은지는 이렇게 만든 꺾은선 그래프를 정적분 해보고 싶어졌습니다. x에 대한 어떤 범위 [a, b]가 주어진다면 이 범위에 대한 정적분 결과는 꺾은선 그래프와 x = a, x = b, y = 0 으로 둘러 쌓인 공간의 면적과 같습니다. 은지는 이것을 우박수열 정적분이라고 정의하였고 다양한 구간에 대해서 우박수열 정적분을 해보려고 합니다.\n",
    "\n",
    "    단, 우박수열 그래프의 가로축 길이를 미리 알 수 없기 때문에 구간의 시작은 음이 아닌 정수, 구간의 끝은 양이 아닌 정수로 표현합니다. 이는 각각 꺾은선 그래프가 시작하는 점과 끝나는 점의 x좌표에 대한 상대적인 오프셋을 의미합니다.\n",
    "\n",
    "    예를 들어, 5를 초항으로 하는 우박수열은 5 ⇒ 16 ⇒ 8 ⇒ 4 ⇒ 2 ⇒ 1 입니다. 이를 좌표 평면으로 옮기면 (0, 5), (1, 16), (2, 8), (3, 4), (4, 2), (5, 1) 에 점이 찍히고 점들을 연결하면 꺾은선 그래프가 나옵니다. 이를 [0,0] 구간에 대해 정적분 한다면 전체 구간에 대한 정적분이며, [1,-2] 구간에 대해 정적분 한다면 1 ≤ x ≤ 3인 구간에 대한 정적분입니다.\n",
    "\n",
    "    우박수의 초항 k와, 정적분을 구하는 구간들의 목록 ranges가 주어졌을 때 정적분의 결과 목록을 return 하도록 solution을 완성해주세요. 단, 주어진 구간의 시작점이 끝점보다 커서 유효하지 않은 구간이 주어질 수 있으며 이때의 정적분 결과는 -1로 정의합니다.\n",
    "\n",
    "\n",
    "\n",
    "**제한사항**\n",
    "\n",
    "    2 ≤ k ≤ 10,000\n",
    "    1 ≤ ranges의 길이 ≤ 10,000\n",
    "    ranges의 원소는 [a, b] 형식이며 0 ≤ a < 200, -200 < b ≤ 0 입니다.\n",
    "    주어진 모든 입력에 대해 정적분의 결과는 227 을 넘지 않습니다.\n",
    "    본 문제는 정답에 실수형이 포함되는 문제입니다. 입출력 예의 소수 부분 .0이 코드 실행 버튼 클릭 후 나타나는 결괏값, 기댓값 표시와 다를 수 있습니다.\n",
    "\n",
    "\n",
    "\n",
    "**입출력 예**\n",
    "\n",
    "![](https://velog.velcdn.com/images/heyggun/post/6597af4c-8f3c-4849-80b6-79746dd98088/image.png)\n",
    "\n",
    "\n",
    "**입출력 예 설명**\n",
    "\n",
    "    입출력 예 #1\n",
    "    5로 시작하는 우박수열은 5 ⇒ 16 ⇒ 8 ⇒ 4 ⇒ 2 ⇒ 1 입니다. 그래프에서 꺾이는 지점을 경계로 5개의 구역으로 나눠보면 각각의 구간 넓이는 10.5, 12, 6, 3, 1.5 입니다."
   ]
  },
  {
   "cell_type": "code",
   "execution_count": 26,
   "id": "298bfe96",
   "metadata": {},
   "outputs": [],
   "source": [
    "def solution(k, ranges):\n",
    "    answer = []\n",
    "    areas = []\n",
    "    \n",
    "    while k!=1:\n",
    "        prev_k = k\n",
    "        k = k//2 if k%2 ==0 else k*3+1\n",
    "        areas.append((prev_k+k)/2)\n",
    "        \n",
    "    for a,b in ranges:\n",
    "        b = len(areas)+b\n",
    "        sum_areas = sum(areas[a:b]) if a<=b else -1\n",
    "        answer.append(sum_areas)\n",
    "    return answer"
   ]
  },
  {
   "cell_type": "code",
   "execution_count": 27,
   "id": "7b7e3f0f",
   "metadata": {},
   "outputs": [
    {
     "name": "stdout",
     "output_type": "stream",
     "text": [
      "[33.0, 31.5, 0, -1]\n"
     ]
    }
   ],
   "source": [
    "print(solution( 5, [[0,0],[0,-1],[2,-3],[3,-3]]))"
   ]
  },
  {
   "cell_type": "code",
   "execution_count": 24,
   "id": "6b59feba",
   "metadata": {},
   "outputs": [],
   "source": [
    "k, ranges = 5, [[0,0],[0,-1],[2,-3],[3,-3]]"
   ]
  },
  {
   "cell_type": "code",
   "execution_count": 20,
   "id": "8840560b",
   "metadata": {},
   "outputs": [
    {
     "name": "stdout",
     "output_type": "stream",
     "text": [
      "[10.5, 12.0, 6.0, 3.0, 1.5]\n"
     ]
    },
    {
     "data": {
      "text/plain": [
       "[33.0, 31.5, 0, -1]"
      ]
     },
     "execution_count": 20,
     "metadata": {},
     "output_type": "execute_result"
    }
   ],
   "source": [
    "k, ranges = 5, [[0,0],[0,-1],[2,-3],[3,-3]]\n",
    "\n",
    "answer = []\n",
    "nums = []\n",
    "\n",
    "while k!=1:\n",
    "    if k not in nums:\n",
    "        nums.append(k)\n",
    "    k = k//2 if k%2 ==0 else k*3+1\n",
    "nums.append(k)\n",
    "\n",
    "area=[(nums[i-1]+nums[i])/2 for i in range(1,len(nums))]\n",
    "print(area)\n",
    "\n",
    "for i in ranges:\n",
    "    if i[0]+-1*i[1] ==len(area):\n",
    "        cal_integer=0\n",
    "    elif i[0]+-1*i[1]>len(area):\n",
    "        cal_integer = -1\n",
    "    else:\n",
    "        cal_integer = sum(area[i[0]:])-sum(area[-1:i[1]-1:-1])\n",
    "    answer.append(cal_integer)\n",
    "answer"
   ]
  },
  {
   "cell_type": "code",
   "execution_count": 21,
   "id": "87989a5f",
   "metadata": {},
   "outputs": [
    {
     "data": {
      "text/plain": [
       "[33.0, 31.5, 0, -1]"
      ]
     },
     "execution_count": 21,
     "metadata": {},
     "output_type": "execute_result"
    }
   ],
   "source": [
    "k, ranges = 5, [[0,0],[0,-1],[2,-3],[3,-3]]\n",
    "\n",
    "answer = []\n",
    "areas = []\n",
    "\n",
    "while k!=1:\n",
    "    prev_k = k\n",
    "    k = k//2 if k%2 ==0 else k*3+1\n",
    "    areas.append((prev_k+k)/2)\n",
    "    \n",
    "for a,b in ranges:\n",
    "    b = len(areas)+b\n",
    "    sum_area = sum(areas[a:b]) if a<=b else -1\n",
    "    answer.append(sum_area)\n",
    "    \n",
    "answer"
   ]
  },
  {
   "cell_type": "code",
   "execution_count": null,
   "id": "e4d1d061",
   "metadata": {},
   "outputs": [],
   "source": []
  },
  {
   "cell_type": "markdown",
   "id": "38aec61e",
   "metadata": {},
   "source": [
    "**증빙**"
   ]
  },
  {
   "attachments": {
    "image.png": {
     "image/png": "[encoded data removed]"
    }
   },
   "cell_type": "markdown",
   "id": "4e647fae",
   "metadata": {},
   "source": [
    "![image.png](attachment:image.png)"
   ]
  },
  {
   "cell_type": "code",
   "execution_count": null,
   "id": "bacf5a4a",
   "metadata": {},
   "outputs": [],
   "source": []
  },
  {
   "cell_type": "markdown",
   "id": "be2b0253",
   "metadata": {},
   "source": [
    "**다른사람 풀이**\n",
    "\n",
    "    정적분.. 으엥?\n",
    "\n",
    "https://velog.io/@isayaksh/%EC%95%8C%EA%B3%A0%EB%A6%AC%EC%A6%98-Programmers-%EC%9A%B0%EB%B0%95%EC%88%98%EC%97%B4-%EC%A0%95%EC%A0%81%EB%B6%84-Python"
   ]
  },
  {
   "cell_type": "code",
   "execution_count": null,
   "id": "a9dc2c24",
   "metadata": {},
   "outputs": [],
   "source": []
  }
 ],
 "metadata": {
  "kernelspec": {
   "display_name": "Python 3 (ipykernel)",
   "language": "python",
   "name": "python3"
  },
  "language_info": {
   "codemirror_mode": {
    "name": "ipython",
    "version": 3
   },
   "file_extension": ".py",
   "mimetype": "text/x-python",
   "name": "python",
   "nbconvert_exporter": "python",
   "pygments_lexer": "ipython3",
   "version": "3.9.12"
  }
 },
 "nbformat": 4,
 "nbformat_minor": 5
}
